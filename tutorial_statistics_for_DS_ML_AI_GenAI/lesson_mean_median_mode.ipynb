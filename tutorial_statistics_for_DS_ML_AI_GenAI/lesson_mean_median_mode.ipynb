{
 "cells": [
  {
   "cell_type": "code",
   "execution_count": null,
   "id": "c6b850c1-0dcc-48a8-94b4-90fa90149223",
   "metadata": {},
   "outputs": [],
   "source": [
    "import pandas as pd\n",
    "import numpy as np\n",
    "\n",
    "data_file = \"data_students_performance.csv\""
   ]
  },
  {
   "cell_type": "code",
   "execution_count": 14,
   "id": "b12ae4a8-4ba4-4195-9eb0-33b49089aa86",
   "metadata": {},
   "outputs": [
    {
     "name": "stdout",
     "output_type": "stream",
     "text": [
      "   age_kids\n",
      "0         2\n",
      "1         4\n",
      "2         4\n",
      "3         5\n",
      "4         6\n",
      "5         7\n",
      "6         7\n",
      "7       120\n"
     ]
    }
   ],
   "source": [
    "# lets create a DF\n",
    "\n",
    "data = {\n",
    "    \"age_kids\": [2, 4, 4, 5, 6, 7, 7, 120]\n",
    "}\n",
    "df = pd.DataFrame(data)\n",
    "print(df)"
   ]
  },
  {
   "cell_type": "code",
   "execution_count": 15,
   "id": "ee988110-350f-4b59-923e-12e57a91c5e5",
   "metadata": {},
   "outputs": [
    {
     "name": "stdout",
     "output_type": "stream",
     "text": [
      "19.375\n"
     ]
    }
   ],
   "source": [
    "mean = df[\"age_kids\"].mean()\n",
    "print(mean)"
   ]
  },
  {
   "cell_type": "code",
   "execution_count": null,
   "id": "baaac77d-da31-4bf8-ba66-ff56ded136be",
   "metadata": {},
   "outputs": [],
   "source": []
  },
  {
   "cell_type": "code",
   "execution_count": 18,
   "id": "1922daef-9505-4d0b-8441-efaa1acf416f",
   "metadata": {},
   "outputs": [
    {
     "name": "stdout",
     "output_type": "stream",
     "text": [
      "66.089\n"
     ]
    }
   ],
   "source": [
    "# Lets read a CSV file and calculate mean of math score\n",
    "df = pd.read_csv(data_file)\n",
    "# print(df)\n",
    "\n",
    "mean = df[\"math score\"].mean()\n",
    "print(mean)"
   ]
  },
  {
   "cell_type": "code",
   "execution_count": null,
   "id": "fed2319b-3726-4b7c-af0a-813615101450",
   "metadata": {},
   "outputs": [],
   "source": []
  },
  {
   "cell_type": "code",
   "execution_count": null,
   "id": "fe3f23b4-28d7-492d-bfe2-0b30c772451a",
   "metadata": {},
   "outputs": [],
   "source": []
  },
  {
   "cell_type": "code",
   "execution_count": null,
   "id": "2f1a473a-1418-4efe-a1be-35be6f4bc8f8",
   "metadata": {},
   "outputs": [],
   "source": []
  },
  {
   "cell_type": "code",
   "execution_count": null,
   "id": "7e78cb6d-61ed-4074-9173-d86b07d9ca63",
   "metadata": {},
   "outputs": [],
   "source": []
  },
  {
   "cell_type": "code",
   "execution_count": null,
   "id": "320d14d5-3a11-4c19-9cf8-2e551d224e38",
   "metadata": {},
   "outputs": [],
   "source": [
    "# Median"
   ]
  },
  {
   "cell_type": "code",
   "execution_count": 19,
   "id": "4db9f81e-8a27-45e1-a009-4cfd555054f5",
   "metadata": {},
   "outputs": [
    {
     "name": "stdout",
     "output_type": "stream",
     "text": [
      "   age_kids\n",
      "0         4\n",
      "1       120\n",
      "2         7\n",
      "3         2\n",
      "4         5\n",
      "5         7\n",
      "6         6\n",
      "7         4\n"
     ]
    }
   ],
   "source": [
    "# lets create a DF\n",
    "\n",
    "data = {\n",
    "    \"age_kids\": [4, 120, 7, 2, 5, 7, 6, 4]\n",
    "}\n",
    "df = pd.DataFrame(data)\n",
    "print(df)"
   ]
  },
  {
   "cell_type": "code",
   "execution_count": 20,
   "id": "03e8be4d-d4de-42d8-8816-0c37cacfe944",
   "metadata": {},
   "outputs": [
    {
     "name": "stdout",
     "output_type": "stream",
     "text": [
      "5.5\n"
     ]
    }
   ],
   "source": [
    "median = df[\"age_kids\"].median()\n",
    "print(median)"
   ]
  },
  {
   "cell_type": "code",
   "execution_count": null,
   "id": "89fbfb53-24d4-4a61-be23-14fc00d65b6b",
   "metadata": {},
   "outputs": [],
   "source": []
  },
  {
   "cell_type": "code",
   "execution_count": null,
   "id": "e11ee470-def0-4bff-8e75-6c3bdff4d6c5",
   "metadata": {},
   "outputs": [],
   "source": []
  },
  {
   "cell_type": "code",
   "execution_count": 23,
   "id": "786a5ebe-b923-42cf-9da4-7cfc5107609f",
   "metadata": {},
   "outputs": [
    {
     "name": "stdout",
     "output_type": "stream",
     "text": [
      "66.0\n"
     ]
    }
   ],
   "source": [
    "# Lets read a CSV file and calculate median of math score\n",
    "df = pd.read_csv(data_file)\n",
    "# print(df)\n",
    "\n",
    "median = df[\"math score\"].median()\n",
    "print(median)"
   ]
  },
  {
   "cell_type": "code",
   "execution_count": null,
   "id": "beb52e54-6b7f-41e7-8ec8-b47e08448a39",
   "metadata": {},
   "outputs": [],
   "source": []
  },
  {
   "cell_type": "code",
   "execution_count": null,
   "id": "0fbddfaa-7a21-4007-97bc-17e78ecd93c1",
   "metadata": {},
   "outputs": [],
   "source": [
    "# mode"
   ]
  },
  {
   "cell_type": "code",
   "execution_count": 26,
   "id": "9f362177-40f4-4d65-a625-712e2d467b28",
   "metadata": {},
   "outputs": [
    {
     "name": "stdout",
     "output_type": "stream",
     "text": [
      "7\n"
     ]
    }
   ],
   "source": [
    "# data in numbers\n",
    "data = {\n",
    "    \"Score\": [2, 2, 4, 6, 7, 7, 7, 7, 9]\n",
    "}\n",
    "df = pd.DataFrame(data)\n",
    "# print(df)\n",
    "\n",
    "mode = df[\"Score\"].mode()\n",
    "# print(mode)\n",
    "print(mode[0])"
   ]
  },
  {
   "cell_type": "code",
   "execution_count": 27,
   "id": "1a6bc9e4-c32e-4fe3-803f-95ec7fd28827",
   "metadata": {},
   "outputs": [
    {
     "name": "stdout",
     "output_type": "stream",
     "text": [
      "Score\n",
      "7    4\n",
      "2    2\n",
      "4    1\n",
      "6    1\n",
      "9    1\n",
      "Name: count, dtype: int64\n"
     ]
    }
   ],
   "source": [
    "# side note: You can also calculate the value counts\n",
    "print(df[\"Score\"].value_counts())"
   ]
  },
  {
   "cell_type": "code",
   "execution_count": null,
   "id": "c1f558f6-0b4f-4570-8ed0-0e7cbbea7b2c",
   "metadata": {},
   "outputs": [],
   "source": []
  },
  {
   "cell_type": "code",
   "execution_count": 28,
   "id": "341208ec-20c5-4919-9ed9-9b8bb2a7b851",
   "metadata": {},
   "outputs": [
    {
     "name": "stdout",
     "output_type": "stream",
     "text": [
      "L\n"
     ]
    }
   ],
   "source": [
    "# data is in form of strings\n",
    "data = {\n",
    "    \"Size\": ['L', 'L', 'XL', 'M', 'M', 'L', 'XL', 'M', 'L']\n",
    "}\n",
    "df = pd.DataFrame(data)\n",
    "# print(df)\n",
    "\n",
    "mode = df[\"Size\"].mode()\n",
    "print(mode[0])"
   ]
  },
  {
   "cell_type": "code",
   "execution_count": null,
   "id": "5a32b11a-0584-424a-9bac-bf4c29b06f53",
   "metadata": {},
   "outputs": [],
   "source": []
  },
  {
   "cell_type": "code",
   "execution_count": 29,
   "id": "b9b4e518-537f-422d-8f9f-e73f4d58a882",
   "metadata": {},
   "outputs": [
    {
     "name": "stdout",
     "output_type": "stream",
     "text": [
      "0    7\n",
      "1    9\n",
      "Name: Score, dtype: int64\n"
     ]
    }
   ],
   "source": [
    "# data has 2 modes\n",
    "data = {\n",
    "    \"Score\": [2, 2, 4, 6, 7, 7, 7, 7, 9, 9, 9, 9]\n",
    "}\n",
    "df = pd.DataFrame(data)\n",
    "# print(df)\n",
    "\n",
    "mode = df[\"Score\"].mode()\n",
    "print(mode)"
   ]
  },
  {
   "cell_type": "code",
   "execution_count": null,
   "id": "acb881ad-aa97-4414-b570-01b6c303abda",
   "metadata": {},
   "outputs": [],
   "source": []
  },
  {
   "cell_type": "code",
   "execution_count": null,
   "id": "210edc23-70a0-4fd9-9a4a-768ed2a17e27",
   "metadata": {},
   "outputs": [],
   "source": []
  },
  {
   "cell_type": "code",
   "execution_count": 32,
   "id": "063b0870-7ce7-4af8-9c9a-096003b3794f",
   "metadata": {},
   "outputs": [
    {
     "name": "stdout",
     "output_type": "stream",
     "text": [
      "group C\n"
     ]
    }
   ],
   "source": [
    "# Lets read a CSV file and calculate mode of race, most common occuring values\n",
    "df = pd.read_csv(data_file)\n",
    "# print(df)\n",
    "\n",
    "mode = df[\"race/ethnicity\"].mode()\n",
    "print(mode[0])"
   ]
  },
  {
   "cell_type": "code",
   "execution_count": 33,
   "id": "d073576c-b47e-4eff-badf-d99c9c86c5d9",
   "metadata": {},
   "outputs": [
    {
     "name": "stdout",
     "output_type": "stream",
     "text": [
      "race/ethnicity\n",
      "group C    319\n",
      "group D    262\n",
      "group B    190\n",
      "group E    140\n",
      "group A     89\n",
      "Name: count, dtype: int64\n"
     ]
    }
   ],
   "source": [
    "# side note: You can also calculate the value counts\n",
    "\n",
    "print(df[\"race/ethnicity\"].value_counts())"
   ]
  },
  {
   "cell_type": "code",
   "execution_count": null,
   "id": "49063cb9-86f4-4337-88aa-020d45ad88d9",
   "metadata": {},
   "outputs": [],
   "source": []
  }
 ],
 "metadata": {
  "kernelspec": {
   "display_name": "Python 3 (ipykernel)",
   "language": "python",
   "name": "python3"
  },
  "language_info": {
   "codemirror_mode": {
    "name": "ipython",
    "version": 3
   },
   "file_extension": ".py",
   "mimetype": "text/x-python",
   "name": "python",
   "nbconvert_exporter": "python",
   "pygments_lexer": "ipython3",
   "version": "3.9.9"
  }
 },
 "nbformat": 4,
 "nbformat_minor": 5
}
