{
 "cells": [
  {
   "attachments": {},
   "cell_type": "markdown",
   "id": "f86310f7-6064-4a0c-bcf9-ef031127b852",
   "metadata": {},
   "source": [
    "# Measure of central tendency: Mean, Median, Mode"
   ]
  },
  {
   "attachments": {},
   "cell_type": "markdown",
   "id": "4136f6a7-4b13-4b5f-94a5-7462593f4247",
   "metadata": {},
   "source": [
    "\n",
    "## When is mean useful ?\n",
    "\n",
    "### 1. **Understanding the central tendency of data**\n",
    "\n",
    "* The mean gives the \"balance point\" of the dataset.\n",
    "* Example: If you have customer ages `[20, 22, 24, 25, 29]`, the mean tells you the typical age of your customers.\n",
    "\n",
    "\n",
    "### 2. **Feature engineering and preprocessing**\n",
    "\n",
    "* Many machine learning algorithms assume features are centered around **0**.\n",
    "* Example: In **standardization** (z-score normalization), we subtract the mean and divide by the standard deviation.\n",
    "\n",
    "\n",
    "### 3. **Handling missing data**\n",
    "\n",
    "* Sometimes missing values are imputed using the **mean** of the feature.\n",
    "* Example: If some \"income\" values are missing, you might replace them with the mean income of the dataset.\n",
    "\n",
    "### 4. **Comparing groups**\n",
    "\n",
    "* The mean allows comparison between groups or time periods.\n",
    "* Example: Comparing **mean sales before vs. after** a marketing campaign\n",
    "### 5. **Performance metrics in ML**\n",
    "\n",
    "* Some evaluation metrics are based on means.\n",
    "* Example: **Mean Squared Error (MSE)** in regression is the mean of squared differences between predicted and actual values.\n",
    "\n",
    "\n",
    "### 6. **Aggregating data**\n",
    "\n",
    "* In exploratory data analysis (EDA), we often compute means across categories.\n",
    "* Example: The mean salary for each job role (IT, HR, Customer Service, etc) in a company.\n",
    "\n",
    "\n",
    "### 7. **Identifying trends**\n",
    "\n",
    "* Means can smooth out random fluctuations and highlight the overall trend.\n",
    "* Example: **Moving averages** in time series help detect patterns in stock prices or COVID-19 cases.\n"
   ]
  },
  {
   "cell_type": "markdown",
   "id": "653c920c-82e3-4153-925e-14d903d3dae7",
   "metadata": {},
   "source": [
    "## When Mean Is Not Ideal:\n",
    "- Data is skewed (e.g., income, housing prices)\n",
    "- There are outliers\n",
    "- Data is ordinal or categorical (use median or mode instead)\n"
   ]
  },
  {
   "cell_type": "code",
   "execution_count": null,
   "id": "f0c53632-7d58-4d04-bc91-3c37083504ca",
   "metadata": {},
   "outputs": [],
   "source": []
  },
  {
   "cell_type": "code",
   "execution_count": null,
   "id": "b2cea4ee-3eb7-4b3c-9684-5ce7ad19a31a",
   "metadata": {},
   "outputs": [],
   "source": []
  },
  {
   "cell_type": "code",
   "execution_count": null,
   "id": "7069c7c2-0a01-4e9e-97b6-07c76ec2612c",
   "metadata": {},
   "outputs": [],
   "source": []
  },
  {
   "cell_type": "code",
   "execution_count": null,
   "id": "a748b3c8-0afe-4ea8-b7ae-67a67a634df8",
   "metadata": {},
   "outputs": [],
   "source": []
  },
  {
   "cell_type": "code",
   "execution_count": null,
   "id": "cd946881-574a-4883-aa13-162bc9bc4c58",
   "metadata": {},
   "outputs": [],
   "source": []
  },
  {
   "cell_type": "code",
   "execution_count": null,
   "id": "d0f8450d-105d-45dd-8de5-ffbdc301a774",
   "metadata": {},
   "outputs": [],
   "source": []
  },
  {
   "cell_type": "markdown",
   "id": "cc26a2ee-7c62-4cb2-82c2-099de0fc9339",
   "metadata": {},
   "source": [
    "\n",
    "## Why is Median Useful?\n",
    "\n",
    "### 1) **Unlike the mean, the median is not affected by extreme values (outliers)**\n",
    "### 2) **It gives a better sense of typical value, especially for skewed distributions**\n",
    "\n",
    "So it is **best when data is skewed or contains outliers.**\n",
    "\n",
    "It answers: What is the “middle” experience in this data? It’s commonly used in **income, housing prices, commute time, wait time, etc**."
   ]
  },
  {
   "cell_type": "markdown",
   "id": "b1be6b92-9132-4835-86b1-8eca584f114e",
   "metadata": {},
   "source": [
    "## When is median preferred over mean:\n",
    "\n",
    "\n",
    "###  1. **Income / Salary Data**\n",
    "\n",
    "* **Why:** A few very high salaries (CEOs, founders) can drastically pull the mean upward, making it misleading.\n",
    "* **Example:**\n",
    "\n",
    "  * Salaries = `[30k, 32k, 35k, 40k, 5M]`\n",
    "  * Mean ≈ **1M** (misleading)\n",
    "  * Median = **35k** (much more realistic for a \"typical\" worker).\n",
    "\n",
    " That’s why governments and organizations often report **median household income** instead of mean.\n",
    "\n",
    "\n",
    "###  2. **Real Estate Prices (Housing Market)**\n",
    "\n",
    "* **Why:** A few luxury houses worth millions can skew the mean.\n",
    "* **Example:**\n",
    "\n",
    "  * House prices = `[100k, 120k, 150k, 180k, 5M]`\n",
    "  * Mean ≈ **1.1M** (misleading for most buyers)\n",
    "  * Median = **150k** (typical house price).\n",
    "\n",
    " That’s why real estate reports usually use **median home price**.\n",
    "\n",
    "\n",
    "###  3. **Medical Data (Skewed Distributions)**\n",
    "\n",
    "* **Why:** Many biological/medical measures are skewed (like recovery time, hospital stay duration, waiting times).\n",
    "* **Example:**\n",
    "\n",
    "  * Hospital stay days = `[2, 3, 3, 4, 5, 60]`\n",
    "  * Mean = **12.8 days** (inflated by one long stay)\n",
    "  * Median = **3.5 days** (better summary of a typical patient).\n",
    "\n",
    " Medical researchers often report **median survival time** instead of mean.\n",
    "\n",
    "---"
   ]
  },
  {
   "cell_type": "code",
   "execution_count": null,
   "id": "2fe4c9a9-baef-4599-8f3d-426526a6ef4a",
   "metadata": {},
   "outputs": [],
   "source": []
  },
  {
   "cell_type": "code",
   "execution_count": null,
   "id": "9f4cf47f-cbfa-4337-93b1-bcd84fe1d451",
   "metadata": {},
   "outputs": [],
   "source": []
  },
  {
   "cell_type": "code",
   "execution_count": null,
   "id": "a8acb7bf-5665-45f7-899c-9f788ecbbf80",
   "metadata": {},
   "outputs": [],
   "source": []
  },
  {
   "cell_type": "code",
   "execution_count": null,
   "id": "da58daf3-9c13-4b2e-ba11-68258242aded",
   "metadata": {},
   "outputs": [],
   "source": []
  },
  {
   "cell_type": "code",
   "execution_count": null,
   "id": "0587c215-7e80-4b00-a978-faf2a85e8dc8",
   "metadata": {},
   "outputs": [],
   "source": []
  },
  {
   "cell_type": "markdown",
   "id": "3c6ddd3e-65ef-4715-a74e-de81577d5130",
   "metadata": {},
   "source": [
    "### Here are **3 strong examples where mode is most useful**:\n",
    "\n",
    "\n",
    "### 1. **Most Common Category (Customer Preferences)**\n",
    "\n",
    "* **Example:** A clothing store wants to know the most popular **shirt size**.\n",
    "\n",
    "  * Data: `[\"M\", \"L\", \"M\", \"S\", \"M\", \"L\"]`\n",
    "  * Mode = **\"M\"** (most customers prefer medium size).\n",
    "* **Why useful:** The mean/median don’t apply to non-numeric values.\n",
    "\n",
    "\n",
    "###  2. **Most Common Complaint / Response in Surveys**\n",
    "\n",
    "* **Example:** A customer survey asks: *\"Which feature do you use the most?\"*\n",
    "\n",
    "  * Responses: `[\"Search\", \"Chat\", \"Search\", \"Chat\", \"Search\", \"Profile\"]`\n",
    "  * Mode = **\"Search\"** (most selected feature).\n",
    "* **Why useful:** Helps prioritize the most common need/issue.\n",
    "\n",
    "\n",
    "###  3. **Most Frequent Value in Discrete Data**\n",
    "\n",
    "* **Example:** A school checks exam marks (scale of 1 to 10):\n",
    "\n",
    "  * Scores: `[8, 8, 9, 8, 7, 8, 9]`\n",
    "  * Mode = **8** (most students scored 8).\n",
    "* **Why useful:** Shows the most typical outcome in discrete numeric data.\n"
   ]
  },
  {
   "cell_type": "code",
   "execution_count": null,
   "id": "292ac722-08ee-4929-b736-ffd11a3784b5",
   "metadata": {},
   "outputs": [],
   "source": []
  }
 ],
 "metadata": {
  "kernelspec": {
   "display_name": "Python 3 (ipykernel)",
   "language": "python",
   "name": "python3"
  },
  "language_info": {
   "codemirror_mode": {
    "name": "ipython",
    "version": 3
   },
   "file_extension": ".py",
   "mimetype": "text/x-python",
   "name": "python",
   "nbconvert_exporter": "python",
   "pygments_lexer": "ipython3",
   "version": "3.11.2"
  }
 },
 "nbformat": 4,
 "nbformat_minor": 5
}
