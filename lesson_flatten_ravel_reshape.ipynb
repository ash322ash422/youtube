{
 "cells": [
  {
   "cell_type": "code",
   "execution_count": 1,
   "id": "d70454a0-7a22-4172-89f2-abe5abcd8882",
   "metadata": {},
   "outputs": [],
   "source": [
    "import numpy as np"
   ]
  },
  {
   "cell_type": "code",
   "execution_count": 2,
   "id": "76177da6-b31e-4305-a631-95d36d53d417",
   "metadata": {},
   "outputs": [
    {
     "name": "stdout",
     "output_type": "stream",
     "text": [
      "Original Array:\n",
      " [[5 3 3]\n",
      " [1 5 6]\n",
      " [7 8 9]]\n",
      "\n",
      "Flattened Array: [5 3 3 1 5 6 7 8 9]\n",
      "number of elements: 9\n"
     ]
    }
   ],
   "source": [
    "# flatten(): It returns copy\n",
    "\n",
    "# lets flatten 2D array to 1D array\n",
    "\n",
    "# Create a 2D NumPy array (matrix) of shape 3X3\n",
    "a = np.array([[5, 3, 3],\n",
    "              [1, 5, 6],\n",
    "              [7, 8, 9]]\n",
    ")\n",
    "\n",
    "print(\"Original Array:\\n\",a)\n",
    "\n",
    "# Flatten the 2D array into a 1D array\n",
    "flattened_array = a.flatten()\n",
    "\n",
    "print(\"\\nFlattened Array:\", flattened_array)\n",
    "print(\"number of elements:\", len(flattened_array))"
   ]
  },
  {
   "cell_type": "code",
   "execution_count": 3,
   "id": "9cca2b6c-a1af-4290-ba06-12eaad7c447d",
   "metadata": {},
   "outputs": [
    {
     "name": "stdout",
     "output_type": "stream",
     "text": [
      "Original Array:\n",
      " [[[ 9  5  3  4  5]\n",
      "  [ 1  7  8  9 10]\n",
      "  [11 12 13 14 15]]\n",
      "\n",
      " [[16 17 18 19 20]\n",
      "  [21 22 23 24 25]\n",
      "  [26 27 28 29 30]]]\n",
      "\n",
      "Flattened Array: [ 9  5  3  4  5  1  7  8  9 10 11 12 13 14 15 16 17 18 19 20 21 22 23 24\n",
      " 25 26 27 28 29 30]\n",
      "number of elements: 30\n"
     ]
    }
   ],
   "source": [
    "# lets flatten 3D array to 1D array\n",
    "\n",
    "# Create a 3D NumPy array (matrix) of shape 2X3X5\n",
    "a = np.array([\n",
    "    [  # First block (depth index 0)\n",
    "        [9, 5, 3, 4, 5],      # row=0\n",
    "        [1, 7, 8, 9, 10],     # row=1\n",
    "        [11, 12, 13, 14, 15]  # row=2\n",
    "    ],\n",
    "    \n",
    "    [  # Second block (depth index 1)\n",
    "        [16, 17, 18, 19, 20], # row=0\n",
    "        [21, 22, 23, 24, 25], # row=1\n",
    "        [26, 27, 28, 29, 30]  # row=2\n",
    "    ]\n",
    "])\n",
    "\n",
    "print(\"Original Array:\\n\",a)\n",
    "\n",
    "# Flatten the 2D array into a 1D array\n",
    "flattened_array = a.flatten()\n",
    "\n",
    "print(\"\\nFlattened Array:\", flattened_array)\n",
    "print(\"number of elements:\", len(flattened_array))"
   ]
  },
  {
   "cell_type": "code",
   "execution_count": 4,
   "id": "d2463e06-0a5a-4bca-8909-6fb462307505",
   "metadata": {},
   "outputs": [
    {
     "name": "stdout",
     "output_type": "stream",
     "text": [
      "array a:\n",
      " [[1 2 3]\n",
      " [4 5 6]]\n",
      "raveled array:\n",
      " [1 2 3 4 5 6]\n",
      "array a:\n",
      " [[99  2  3]\n",
      " [ 4  5  6]]\n"
     ]
    }
   ],
   "source": [
    "# ravel: Modifying the raveled array can affect the original array\n",
    "\n",
    "a = np.array([[1, 2, 3],\n",
    "              [4, 5, 6]]\n",
    ")\n",
    "print(\"array a:\\n\", a)\n",
    "\n",
    "raveled_arr = a.ravel()\n",
    "print(\"raveled array:\\n\", raveled_arr)\n",
    "\n",
    "# Modifying raveled_arr effects a\n",
    "raveled_arr[0] = 99\n",
    "print(\"array a:\\n\", a) # a is changed"
   ]
  },
  {
   "cell_type": "code",
   "execution_count": null,
   "id": "42575082-653f-40b8-87e7-5fe2c0877f07",
   "metadata": {},
   "outputs": [],
   "source": []
  },
  {
   "cell_type": "code",
   "execution_count": 5,
   "id": "d5b44ae7-1217-4a92-9f39-17db7f151c3f",
   "metadata": {},
   "outputs": [
    {
     "name": "stdout",
     "output_type": "stream",
     "text": [
      "Flattened Array: [ 0  1  2  3  4  5  6  7  8  9 10 11 12 13 14 15 16 17]\n",
      "\n",
      "Reshaped Array (2x9):\n",
      " [[ 0  1  2  3  4  5  6  7  8]\n",
      " [ 9 10 11 12 13 14 15 16 17]]\n",
      "<class 'numpy.ndarray'> 2\n",
      "(2, 9)\n"
     ]
    }
   ],
   "source": [
    "# Reshape: lets reshape a flattened array\n",
    "\n",
    "# Create a flattened array of size 18: 0,1,2,..17\n",
    "a = np.arange(18) \n",
    "print(\"Flattened Array:\", a)\n",
    "\n",
    "# Reshape into different sizes\n",
    "\n",
    "# 1. Reshape to 2D array of shape (2, 9)\n",
    "reshaped_2d_2x9 = a.reshape(2, 9)\n",
    "print(\"\\nReshaped Array (2x9):\\n\",reshaped_2d_2x9)\n",
    "print(type(reshaped_2d_2x9), reshaped_2d_2x9.ndim)\n",
    "print(reshaped_2d_2x9.shape) # (2, 9)          "
   ]
  },
  {
   "cell_type": "code",
   "execution_count": 6,
   "id": "08e60521-6ded-40d8-b5fb-bb46aec168fb",
   "metadata": {},
   "outputs": [
    {
     "name": "stdout",
     "output_type": "stream",
     "text": [
      "Flattened Array: [ 0  1  2  3  4  5  6  7  8  9 10 11 12 13 14 15 16 17]\n",
      "\n",
      "Reshaped Array (3x6):\n",
      " [[ 0  1  2  3  4  5]\n",
      " [ 6  7  8  9 10 11]\n",
      " [12 13 14 15 16 17]]\n"
     ]
    }
   ],
   "source": [
    "a = np.arange(18) \n",
    "print(\"Flattened Array:\", a)\n",
    "\n",
    "# 2. Reshape to 2D array of shape (3, 6)\n",
    "reshaped_2d_3x6 = a.reshape(3, 6)\n",
    "print(\"\\nReshaped Array (3x6):\\n\",reshaped_2d_3x6)"
   ]
  },
  {
   "cell_type": "code",
   "execution_count": 10,
   "id": "b123cdfd-476c-4c25-a172-552af648ef06",
   "metadata": {},
   "outputs": [
    {
     "name": "stdout",
     "output_type": "stream",
     "text": [
      "Flattened Array: [ 0  1  2  3  4  5  6  7  8  9 10 11 12 13 14 15 16 17]\n",
      "\n",
      "Reshaped Array (6x3):\n",
      " [[ 0  1  2]\n",
      " [ 3  4  5]\n",
      " [ 6  7  8]\n",
      " [ 9 10 11]\n",
      " [12 13 14]\n",
      " [15 16 17]]\n"
     ]
    }
   ],
   "source": [
    "a = np.arange(18) \n",
    "print(\"Flattened Array:\", a)\n",
    "\n",
    "# 3. Reshape to 2D array of shape (6, 3)\n",
    "reshaped_2d_6x3 = a.reshape(6, 3)\n",
    "print(\"\\nReshaped Array (6x3):\\n\",reshaped_2d_6x3)"
   ]
  },
  {
   "cell_type": "code",
   "execution_count": 11,
   "id": "64b30ffa-768e-4b36-8c24-ac04c858ec18",
   "metadata": {},
   "outputs": [
    {
     "name": "stdout",
     "output_type": "stream",
     "text": [
      "Flattened Array: [ 0  1  2  3  4  5  6  7  8  9 10 11 12 13 14 15 16 17]\n",
      "\n",
      "Reshaped Array (2x3x3):\n",
      " [[[ 0  1  2]\n",
      "  [ 3  4  5]\n",
      "  [ 6  7  8]]\n",
      "\n",
      " [[ 9 10 11]\n",
      "  [12 13 14]\n",
      "  [15 16 17]]]\n"
     ]
    }
   ],
   "source": [
    "a = np.arange(18) \n",
    "print(\"Flattened Array:\", a)\n",
    "\n",
    "# 4. Reshape to 3D array of shape (2, 3, 3)\n",
    "reshaped_3d_2x3x3 = a.reshape(2, 3, 3)\n",
    "print(\"\\nReshaped Array (2x3x3):\\n\",reshaped_3d_2x3x3)"
   ]
  },
  {
   "cell_type": "code",
   "execution_count": 13,
   "id": "26b2fc37-e7ca-44b4-889b-93b3beda02cc",
   "metadata": {},
   "outputs": [
    {
     "name": "stdout",
     "output_type": "stream",
     "text": [
      "Flattened Array: [ 0  1  2  3  4  5  6  7  8  9 10 11 12 13 14 15 16 17]\n",
      "\n",
      "Reshaped Array (3x2x3):\n",
      " [[[ 0  1  2]\n",
      "  [ 3  4  5]]\n",
      "\n",
      " [[ 6  7  8]\n",
      "  [ 9 10 11]]\n",
      "\n",
      " [[12 13 14]\n",
      "  [15 16 17]]]\n"
     ]
    }
   ],
   "source": [
    "a = np.arange(18) \n",
    "print(\"Flattened Array:\", a)\n",
    "\n",
    "# 5. Reshape to 3D array of shape (3, 2, 3)\n",
    "reshaped_3d_3x2x3 = a.reshape(3, 2, 3)\n",
    "print(\"\\nReshaped Array (3x2x3):\\n\", reshaped_3d_3x2x3)"
   ]
  },
  {
   "cell_type": "code",
   "execution_count": null,
   "id": "09973991-fbfa-4873-baf6-4deab36ad54b",
   "metadata": {},
   "outputs": [],
   "source": []
  },
  {
   "cell_type": "code",
   "execution_count": 14,
   "id": "78c7837c-c821-4713-99fd-3a05bf39a9a8",
   "metadata": {},
   "outputs": [
    {
     "name": "stdout",
     "output_type": "stream",
     "text": [
      "[[1 2 3 4 5]\n",
      " [4 5 6 7 8]\n",
      " [7 8 9 3 4]]\n",
      "[1 2 3 4 5 4 5 6 7 8 7 8 9 3 4]\n"
     ]
    }
   ],
   "source": [
    "# Another way to flatten is to use reshape with argument -1:\n",
    "# -1 means that numpy would figure out the shape.\n",
    "\n",
    "# 3D array to 1D array:\n",
    "\n",
    "arr = np.array([[1, 2, 3, 4, 5],\n",
    "                [4, 5, 6, 7, 8],\n",
    "                [7, 8, 9, 3, 4]]\n",
    ")\n",
    "print(arr)\n",
    "\n",
    "# convert it into 1D\n",
    "reshaped = arr.reshape((-1))\n",
    "print(reshaped)\n",
    "#####################"
   ]
  },
  {
   "cell_type": "code",
   "execution_count": 15,
   "id": "59df8e0e-472a-4b3a-9539-a8fd2eebcd1a",
   "metadata": {},
   "outputs": [
    {
     "name": "stdout",
     "output_type": "stream",
     "text": [
      "[[1 2 3 4 5]\n",
      " [4 5 6 7 8]\n",
      " [7 8 9 3 4]]\n",
      "[[1 2 3]\n",
      " [4 5 4]\n",
      " [5 6 7]\n",
      " [8 7 8]\n",
      " [9 3 4]]\n"
     ]
    }
   ],
   "source": [
    "arr = np.array([[1, 2, 3, 4, 5],\n",
    "                [4, 5, 6, 7, 8],\n",
    "                [7, 8, 9, 3, 4]]\n",
    ")\n",
    "print(arr)\n",
    "\n",
    "# convert it into 2D of shape 5X3\n",
    "reshaped = arr.reshape((-1, 3))\n",
    "print(reshaped)"
   ]
  },
  {
   "cell_type": "code",
   "execution_count": 16,
   "id": "4e787598-716d-4ad8-97bc-af7952eca6db",
   "metadata": {},
   "outputs": [
    {
     "name": "stdout",
     "output_type": "stream",
     "text": [
      "[[1 2 3]\n",
      " [4 5 4]\n",
      " [5 6 7]\n",
      " [8 7 8]\n",
      " [9 3 4]]\n"
     ]
    }
   ],
   "source": [
    "# convert it into 2D of shape 5X3\n",
    "reshaped = arr.reshape((5, -1))\n",
    "print(reshaped)"
   ]
  },
  {
   "cell_type": "code",
   "execution_count": null,
   "id": "152c4858-2c1b-4b6a-8e37-eab693d929d0",
   "metadata": {},
   "outputs": [],
   "source": []
  }
 ],
 "metadata": {
  "kernelspec": {
   "display_name": "Python 3 (ipykernel)",
   "language": "python",
   "name": "python3"
  },
  "language_info": {
   "codemirror_mode": {
    "name": "ipython",
    "version": 3
   },
   "file_extension": ".py",
   "mimetype": "text/x-python",
   "name": "python",
   "nbconvert_exporter": "python",
   "pygments_lexer": "ipython3",
   "version": "3.9.9"
  }
 },
 "nbformat": 4,
 "nbformat_minor": 5
}
