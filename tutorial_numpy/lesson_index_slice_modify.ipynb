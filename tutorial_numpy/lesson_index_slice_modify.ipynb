{
 "cells": [
  {
   "cell_type": "code",
   "execution_count": null,
   "id": "20e5c7ac-654b-4d13-b4e8-4ca497c1fd7b",
   "metadata": {},
   "outputs": [],
   "source": []
  },
  {
   "cell_type": "code",
   "execution_count": 2,
   "id": "75b5deb4-858d-49a9-9c1f-cd22ce89a479",
   "metadata": {},
   "outputs": [],
   "source": [
    "import numpy as np"
   ]
  },
  {
   "cell_type": "code",
   "execution_count": 6,
   "id": "2060c3ca-2aaf-40f2-9325-fa42868a9cc0",
   "metadata": {},
   "outputs": [
    {
     "name": "stdout",
     "output_type": "stream",
     "text": [
      "[60 43 12 35]\n",
      "60\n",
      "35\n",
      "[ 5 43 12 35]\n",
      "####################\n"
     ]
    }
   ],
   "source": [
    "# accessing elements and modifing element\n",
    "# NOTE: indexing starts with 0\n",
    "\n",
    "# 1.  Lets access 1D array of shape (4) and modify an element\n",
    "a = np.array([60, 43, 12, 35])   # Create a rank 1(i.e. 1D) array\n",
    "print(a)\n",
    "\n",
    "print(a[0])\n",
    "print(a[3])\n",
    "\n",
    "# Change an element of the array\n",
    "a[0] = 5\n",
    "print(a)\n",
    "print(\"####################\")"
   ]
  },
  {
   "cell_type": "code",
   "execution_count": 11,
   "id": "57251b03-bbee-4e31-8292-0aa79d1fa558",
   "metadata": {},
   "outputs": [
    {
     "name": "stdout",
     "output_type": "stream",
     "text": [
      "1\n",
      "1\n",
      "2\n",
      "2\n",
      "6\n",
      "6\n"
     ]
    }
   ],
   "source": [
    "# 2. access 2D array and modify elements\n",
    "# Use: b[row_index][column_index]\n",
    "# or   b[row_index, column_index]\n",
    "\n",
    "# Create a 2D array of shape 2X3\n",
    "b = np.array([\n",
    "    [1,2,3],\n",
    "    [4,5,6]\n",
    "])    \n",
    "\n",
    "print(b[0][0]) # row=0, col=0\n",
    "print(b[0, 0])\n",
    "\n",
    "\n",
    "print(b[0][1]) # row_idx=0, col_idx=1\n",
    "print(b[0, 1])\n",
    "\n",
    "print(b[1][2]) # row_idx=1, col_idx=2\n",
    "print(b[1, 2])\n"
   ]
  },
  {
   "cell_type": "code",
   "execution_count": 13,
   "id": "715ef875-e219-4f83-9dd2-bc4f0dfb51b9",
   "metadata": {},
   "outputs": [
    {
     "name": "stdout",
     "output_type": "stream",
     "text": [
      "[[ 1  2 -9]\n",
      " [ 4  5  6]]\n"
     ]
    }
   ],
   "source": [
    "# lets change an element. There are 2 ways\n",
    "# b[0][2] = -9\n",
    "b[0,2]  = -9 \n",
    "print(b)"
   ]
  },
  {
   "cell_type": "code",
   "execution_count": null,
   "id": "3b7ea548-4d77-44aa-a9c8-13d960a7ac47",
   "metadata": {},
   "outputs": [],
   "source": []
  },
  {
   "cell_type": "code",
   "execution_count": 15,
   "id": "380c3c2d-5dce-42d6-9211-f9c3d6a98f35",
   "metadata": {},
   "outputs": [
    {
     "name": "stdout",
     "output_type": "stream",
     "text": [
      "11\n",
      "11\n",
      "26\n",
      "19\n",
      "[[[ 1  2  3  4  5]\n",
      "  [ 6  7  8  9 10]\n",
      "  [11 12 13 14 15]]\n",
      "\n",
      " [[16 17 18 -9 20]\n",
      "  [21 22 23 24 25]\n",
      "  [26 27 28 29 30]]]\n"
     ]
    }
   ],
   "source": [
    "# ADVANCED: 3. access 3D array and modify elements\n",
    "# Use: b[block_index][row_index][column_index]\n",
    "# or   b[block_index, row_index, column_index]\n",
    "\n",
    "# lets create a 3D array of shape 2X3X5\n",
    "b = np.array([\n",
    "    [  # First block (depth index 0)\n",
    "        [1, 2, 3, 4, 5],      # row = 0\n",
    "        [6, 7, 8, 9, 10],     # row = 1\n",
    "        [11, 12, 13, 14, 15]  # row = 2\n",
    "    ],\n",
    "    \n",
    "    [  # Second block (depth index 1)\n",
    "        [16, 17, 18, 19, 20], # row = 0\n",
    "        [21, 22, 23, 24, 25], # row = 1\n",
    "        [26, 27, 28, 29, 30]  # row = 2\n",
    "    ]\n",
    "])\n",
    "\n",
    "print(b[0][2][0])  # depth_idx=0, row_idx=2, col_idx=0\n",
    "print(b[0, 2, 0])  # depth_idx=0, row_idx=2, col_idx=0 \n",
    "\n",
    "print(b[1, 2, 0])  # depth_idx=1, row_idx=2, col_idx=0\n",
    "print(b[1, 0, 3])  # depth_idx=1, row_idx=0, col_idx=3\n",
    "\n",
    "b[1, 0, 3] = -9\n",
    "print(b)\n"
   ]
  },
  {
   "cell_type": "code",
   "execution_count": null,
   "id": "5cf478b3-162e-4de4-b565-c9121dc8a4e3",
   "metadata": {},
   "outputs": [],
   "source": []
  },
  {
   "cell_type": "code",
   "execution_count": 16,
   "id": "dfee068d-e208-406c-804c-0e073ad7542e",
   "metadata": {},
   "outputs": [
    {
     "name": "stdout",
     "output_type": "stream",
     "text": [
      "[[6 3 7 4 6 9 2 6]\n",
      " [7 4 3 7 7 2 5 4]\n",
      " [1 7 5 1 4 0 9 5]\n",
      " [8 0 9 2 6 3 8 2]]\n"
     ]
    }
   ],
   "source": [
    "np.random.seed(42) # Set the seed for reproducibility\n",
    "\n",
    "# Lets create a 4X8 array with random numbers between 0 to 10\n",
    "a = np.random.randint(0, 10, size=(4, 8))\n",
    "print(a)"
   ]
  },
  {
   "cell_type": "code",
   "execution_count": 17,
   "id": "77f9001f-50ae-4bdd-9546-7af644616b0f",
   "metadata": {},
   "outputs": [
    {
     "name": "stdout",
     "output_type": "stream",
     "text": [
      "[[3 7]\n",
      " [4 3]]\n"
     ]
    }
   ],
   "source": [
    "# [start_idx:stop_idx:step]\n",
    "\n",
    "# I want a subarray consisting of the first 2 rows(i.e. rows 0 and 1)\n",
    "# and columns 1 and 2. I use slicing\n",
    "b = a[0:2, 1:3]\n",
    "print(b)"
   ]
  },
  {
   "cell_type": "code",
   "execution_count": 18,
   "id": "04eaf739-087c-4c1f-8f94-3954705022a1",
   "metadata": {},
   "outputs": [
    {
     "name": "stdout",
     "output_type": "stream",
     "text": [
      "[[7 7 2 5 4]\n",
      " [1 4 0 9 5]\n",
      " [2 6 3 8 2]]\n",
      "##########################\n"
     ]
    }
   ],
   "source": [
    "# I want a subarray consisting of row_idx from 1 to 3 and\n",
    "# and column_idx from 3 to and 7. I use slicing\n",
    "b = a[1:4, 3:8]\n",
    "print(b)\n",
    "print(\"##########################\")\n"
   ]
  },
  {
   "cell_type": "code",
   "execution_count": 19,
   "id": "06fee842-ac5b-4453-ba13-47b54b4a9c8a",
   "metadata": {},
   "outputs": [
    {
     "name": "stdout",
     "output_type": "stream",
     "text": [
      "Before:\n",
      " [[6 3 7 4 6 9 2 6]\n",
      " [7 4 3 7 7 2 5 4]\n",
      " [1 7 5 1 4 0 9 5]\n",
      " [8 0 9 2 6 3 8 2]]\n",
      "After:\n",
      " [[ 6  3  7  4  6  9  2  6]\n",
      " [ 7  4  3 -9  7  2  5  4]\n",
      " [ 1  7  5  1  4  0  9  5]\n",
      " [ 8  0  9  2  6  3  8  2]]\n"
     ]
    }
   ],
   "source": [
    "# A slice of an array is a view into the same data, so modifying it\n",
    "# will modify the original array.\n",
    "print(\"Before:\\n\", a)   \n",
    "b[0, 0] = -9     # b[0, 0] is the same piece of data as a[1, 3]\n",
    "print(\"After:\\n\", a)"
   ]
  },
  {
   "cell_type": "code",
   "execution_count": null,
   "id": "b71db194-0635-4a41-b74e-d15f1363bca4",
   "metadata": {},
   "outputs": [],
   "source": []
  }
 ],
 "metadata": {
  "kernelspec": {
   "display_name": "Python 3 (ipykernel)",
   "language": "python",
   "name": "python3"
  },
  "language_info": {
   "codemirror_mode": {
    "name": "ipython",
    "version": 3
   },
   "file_extension": ".py",
   "mimetype": "text/x-python",
   "name": "python",
   "nbconvert_exporter": "python",
   "pygments_lexer": "ipython3",
   "version": "3.9.9"
  }
 },
 "nbformat": 4,
 "nbformat_minor": 5
}
