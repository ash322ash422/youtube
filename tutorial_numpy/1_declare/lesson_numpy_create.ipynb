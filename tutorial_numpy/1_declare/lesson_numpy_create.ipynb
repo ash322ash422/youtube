{
 "cells": [
  {
   "cell_type": "code",
   "execution_count": 1,
   "id": "0eb9905a-2cc5-41df-aff2-33d18c58437a",
   "metadata": {},
   "outputs": [],
   "source": [
    "import numpy as np"
   ]
  },
  {
   "cell_type": "code",
   "execution_count": 6,
   "id": "bdbaa2a1-9cdd-43b7-8e86-c1e6acdd9438",
   "metadata": {},
   "outputs": [
    {
     "name": "stdout",
     "output_type": "stream",
     "text": [
      "[50 30 72 65 59 22]\n",
      "<class 'numpy.ndarray'>\n",
      "1\n",
      "(6,)\n"
     ]
    }
   ],
   "source": [
    "# lets create an array of shape (6): i.e. 1D array with 6 elements\n",
    "\n",
    "l = [50, 30, 72, 65, 59, 22] # scores in 6 subjects\n",
    "a = np.array(l)   # Create a rank 1(i.e. 1D) array\n",
    "\n",
    "print(a)\n",
    "print(type(a))  #  <class 'numpy.ndarray'>\n",
    "print(a.ndim)   # lets look at dim\n",
    "print(a.shape)  # Lets look at shape, i.e. the number of elements (6,)"
   ]
  },
  {
   "cell_type": "code",
   "execution_count": 7,
   "id": "46c8373d-4d46-479e-b4ed-3603c2dfdc85",
   "metadata": {},
   "outputs": [
    {
     "name": "stdout",
     "output_type": "stream",
     "text": [
      "[50 30 72 65 59 22]\n",
      "<class 'numpy.ndarray'>\n",
      "1\n",
      "(6,)\n"
     ]
    }
   ],
   "source": [
    "# I can create numpy array from tuples too\n",
    "t = (50, 30, 72, 65, 59, 22)\n",
    "a = np.array(t)   # Create a rank 1(i.e. 1D) array\n",
    "\n",
    "print(a)\n",
    "print(type(a))  # <class 'numpy.ndarray'>\n",
    "print(a.ndim)   # lets look at dim\n",
    "print(a.shape)  # Lets look at shape, i.e. the number of elements (6,)"
   ]
  },
  {
   "cell_type": "code",
   "execution_count": 8,
   "id": "bb63021c-b8fd-4125-833f-0a5c87cf2588",
   "metadata": {},
   "outputs": [
    {
     "name": "stdout",
     "output_type": "stream",
     "text": [
      "[[85 90 78]\n",
      " [68 76 92]]\n",
      "2\n",
      "(2, 3)\n"
     ]
    }
   ],
   "source": [
    "# Now lets create an array of dimension 2D each with 2 and 3 elements \n",
    "# Each row represents a student, each column represents a subject (Math, Science, English)\n",
    "l = [\n",
    "    [85, 90, 78],  # Student 1\n",
    "    [68, 76, 92]   # Student 2\n",
    "]\n",
    "scores = np.array(l)\n",
    "\n",
    "print(scores)\n",
    "print(scores.ndim)    # 2\n",
    "print(scores.shape)   # (2, 3)"
   ]
  },
  {
   "cell_type": "code",
   "execution_count": 10,
   "id": "1d6415f3-308a-4171-80ad-19993d83f4d0",
   "metadata": {},
   "outputs": [
    {
     "name": "stdout",
     "output_type": "stream",
     "text": [
      "[[[ 1  2  3  4  5]\n",
      "  [ 6  7  8  9 10]\n",
      "  [11 12 13 14 15]]\n",
      "\n",
      " [[16 17 18 19 20]\n",
      "  [21 22 23 24 25]\n",
      "  [26 27 28 29 30]]]\n",
      "3\n",
      "(2, 3, 5)\n"
     ]
    }
   ],
   "source": [
    "# SKIP ADVANCED #################################################\n",
    "# Creating a 3D array with shape (2, 3, 5)\n",
    "b = np.array([\n",
    "    [  # First block (depth index 0)\n",
    "        [1, 2, 3, 4, 5],      # row1\n",
    "        [6, 7, 8, 9, 10],     # row2\n",
    "        [11, 12, 13, 14, 15]  # row3\n",
    "    ],\n",
    "    \n",
    "    [  # Second block (depth index 1)\n",
    "        [16, 17, 18, 19, 20], # row1\n",
    "        [21, 22, 23, 24, 25], # row2\n",
    "        [26, 27, 28, 29, 30]  # row3\n",
    "    ]\n",
    "])\n",
    "print(b)\n",
    "print(b.ndim)    #  3\n",
    "print(b.shape)   # (2, 3, 5)"
   ]
  },
  {
   "cell_type": "code",
   "execution_count": 11,
   "id": "fe335ac7-d4e8-460c-be26-6df06838b41a",
   "metadata": {},
   "outputs": [
    {
     "name": "stdout",
     "output_type": "stream",
     "text": [
      "[[[1 2]\n",
      "  [5 8]\n",
      "  [3 4]]\n",
      "\n",
      " [[5 6]\n",
      "  [3 0]\n",
      "  [7 8]]]\n",
      "3\n",
      "(2, 3, 2)\n"
     ]
    }
   ],
   "source": [
    "# lets create an array of shape (2,3,2)\n",
    "b = np.array([\n",
    "    [ # First block (depth index 0)\n",
    "        [1, 2],\n",
    "        [5, 8],\n",
    "        [3, 4]\n",
    "    ],\n",
    "    [ # Second block (depth index 1)\n",
    "        [5, 6],\n",
    "        [3, 0],\n",
    "        [7, 8]\n",
    "    ]\n",
    "])\n",
    "print(b)\n",
    "print(b.ndim)    #  3\n",
    "print(b.shape)   # (2, 3, 2)\n",
    "##################################################"
   ]
  },
  {
   "cell_type": "code",
   "execution_count": 13,
   "id": "cb22768d-28b8-49fa-83f8-6dbd86f8edf1",
   "metadata": {},
   "outputs": [
    {
     "name": "stdout",
     "output_type": "stream",
     "text": [
      "[0. 0. 0. 0. 0. 0. 0. 0. 0. 0. 0. 0. 0. 0. 0. 0. 0. 0. 0. 0. 0. 0. 0. 0.\n",
      " 0. 0. 0. 0. 0. 0. 0. 0. 0. 0. 0. 0. 0. 0. 0. 0. 0. 0. 0. 0. 0. 0. 0. 0.\n",
      " 0. 0. 0. 0. 0. 0. 0. 0. 0. 0. 0. 0. 0. 0. 0. 0. 0. 0. 0. 0. 0. 0. 0. 0.\n",
      " 0. 0. 0. 0. 0. 0. 0. 0. 0. 0. 0. 0. 0. 0. 0. 0. 0. 0. 0. 0. 0. 0. 0. 0.\n",
      " 0. 0. 0. 0.]\n"
     ]
    }
   ],
   "source": [
    "# creating matrices of all zeros\n",
    "# create a 1D array of 10 elements with all 0\n",
    "\n",
    "a = np.zeros((100)) \n",
    "print(a)"
   ]
  },
  {
   "cell_type": "code",
   "execution_count": 14,
   "id": "ab5c2457-9448-4f37-a9ba-ee8a0ab17d78",
   "metadata": {},
   "outputs": [
    {
     "name": "stdout",
     "output_type": "stream",
     "text": [
      "[[0. 0. 0.]\n",
      " [0. 0. 0.]\n",
      " [0. 0. 0.]]\n",
      "2\n",
      "(3, 3)\n"
     ]
    }
   ],
   "source": [
    "# Create an 3X3 array of all zeros\n",
    "a = np.zeros((3,3))   \n",
    "print(a)              \n",
    "print(a.ndim)\n",
    "print(a.shape)"
   ]
  },
  {
   "cell_type": "code",
   "execution_count": 15,
   "id": "9746c4e9-27b7-4dd7-baf1-7b3a42e80a97",
   "metadata": {},
   "outputs": [
    {
     "name": "stdout",
     "output_type": "stream",
     "text": [
      "[[0. 0. 0. 0. 0.]\n",
      " [0. 0. 0. 0. 0.]\n",
      " [0. 0. 0. 0. 0.]]\n"
     ]
    }
   ],
   "source": [
    "# Create an 3X5 array of all zeros\n",
    "a = np.zeros((3,5))\n",
    "print(a)"
   ]
  },
  {
   "cell_type": "code",
   "execution_count": 16,
   "id": "54d509c3-a7a0-41de-9013-9c10e9c6672f",
   "metadata": {},
   "outputs": [
    {
     "name": "stdout",
     "output_type": "stream",
     "text": [
      "[[[0. 0. 0. 0.]\n",
      "  [0. 0. 0. 0.]\n",
      "  [0. 0. 0. 0.]\n",
      "  [0. 0. 0. 0.]\n",
      "  [0. 0. 0. 0.]]\n",
      "\n",
      " [[0. 0. 0. 0.]\n",
      "  [0. 0. 0. 0.]\n",
      "  [0. 0. 0. 0.]\n",
      "  [0. 0. 0. 0.]\n",
      "  [0. 0. 0. 0.]]\n",
      "\n",
      " [[0. 0. 0. 0.]\n",
      "  [0. 0. 0. 0.]\n",
      "  [0. 0. 0. 0.]\n",
      "  [0. 0. 0. 0.]\n",
      "  [0. 0. 0. 0.]]]\n"
     ]
    }
   ],
   "source": [
    "a = np.zeros((3,5,4))\n",
    "print(a)"
   ]
  },
  {
   "cell_type": "code",
   "execution_count": 17,
   "id": "df475f75-1df0-4de9-98f7-d0ee4b29a36b",
   "metadata": {},
   "outputs": [
    {
     "name": "stdout",
     "output_type": "stream",
     "text": [
      "[1. 1. 1. 1.]\n"
     ]
    }
   ],
   "source": [
    "# creating matrices of all 1 or some constant\n",
    "# create arrays of all 1\n",
    "b = np.ones((4))    \n",
    "print(b) "
   ]
  },
  {
   "cell_type": "code",
   "execution_count": 18,
   "id": "d90e39df-7223-4e02-98fb-fab9a0e9050c",
   "metadata": {},
   "outputs": [
    {
     "name": "stdout",
     "output_type": "stream",
     "text": [
      "[[1. 1. 1. 1. 1.]\n",
      " [1. 1. 1. 1. 1.]\n",
      " [1. 1. 1. 1. 1.]]\n"
     ]
    }
   ],
   "source": [
    "# create 3x5 array of all 1\n",
    "a = np.ones((3,5)) \n",
    "print(a)"
   ]
  },
  {
   "cell_type": "code",
   "execution_count": 19,
   "id": "e4aee14f-2bf2-4f3e-b0a7-65a24472808a",
   "metadata": {},
   "outputs": [
    {
     "name": "stdout",
     "output_type": "stream",
     "text": [
      "[5 5 5]\n"
     ]
    }
   ],
   "source": [
    "# fill an array with some constant value 5\n",
    "a = np.full((3), fill_value=5)\n",
    "print(a)"
   ]
  },
  {
   "cell_type": "code",
   "execution_count": 20,
   "id": "4144829f-001c-4b4c-8dcd-98ca805f302f",
   "metadata": {},
   "outputs": [
    {
     "name": "stdout",
     "output_type": "stream",
     "text": [
      "[[9 9 9 9]\n",
      " [9 9 9 9]\n",
      " [9 9 9 9]]\n"
     ]
    }
   ],
   "source": [
    "# fill an 3X4 array with some constant value 9\n",
    "a = np.full((3,4), fill_value=9)\n",
    "print(a)"
   ]
  },
  {
   "cell_type": "code",
   "execution_count": 21,
   "id": "1db7a3be-bbd9-4b61-bf41-026564a2629d",
   "metadata": {},
   "outputs": [
    {
     "name": "stdout",
     "output_type": "stream",
     "text": [
      "[[1. 0. 0.]\n",
      " [0. 1. 0.]\n",
      " [0. 0. 1.]]\n"
     ]
    }
   ],
   "source": [
    "# creating identity matrices\n",
    "\n",
    "# Lets create an array of identity matrix\n",
    "d = np.eye(3)         \n",
    "print(d)  "
   ]
  },
  {
   "cell_type": "code",
   "execution_count": 22,
   "id": "95ba0f04-408a-459d-b094-8b098a2fa15d",
   "metadata": {},
   "outputs": [
    {
     "name": "stdout",
     "output_type": "stream",
     "text": [
      "[[1. 0. 0. 0. 0.]\n",
      " [0. 1. 0. 0. 0.]\n",
      " [0. 0. 1. 0. 0.]]\n"
     ]
    }
   ],
   "source": [
    "#  Lets create an 3X5 array of identity matrix\n",
    "d = np.eye(3, 5)\n",
    "print(d)"
   ]
  },
  {
   "cell_type": "code",
   "execution_count": 23,
   "id": "08a8616a-238f-41d8-8aeb-c9fe5ea350d2",
   "metadata": {},
   "outputs": [
    {
     "name": "stdout",
     "output_type": "stream",
     "text": [
      "[0.28511682 0.56184549 0.37338554 0.36160918 0.92092651 0.27205543\n",
      " 0.83695064 0.85546882 0.14875572 0.71714887]\n"
     ]
    }
   ],
   "source": [
    "# create array wth random numbers\n",
    "\n",
    "# Create an 1Darray of size 3 filled with random values between 0 and 1\n",
    "e = np.random.random((10))  \n",
    "print(e)"
   ]
  },
  {
   "cell_type": "code",
   "execution_count": 24,
   "id": "c33d9ecd-e0d3-43e3-a257-354e3a240c8e",
   "metadata": {},
   "outputs": [
    {
     "name": "stdout",
     "output_type": "stream",
     "text": [
      "[[0.29186614 0.79779978 0.09646059 0.64983328]\n",
      " [0.24984665 0.44937615 0.00266141 0.52492033]]\n"
     ]
    }
   ],
   "source": [
    "# Create an 2X4 array filled with random values between 0 and 1\n",
    "e = np.random.random( (2,4) )  \n",
    "print(e)"
   ]
  },
  {
   "cell_type": "code",
   "execution_count": 27,
   "id": "8a742408-2a2d-4ef5-bd54-83a54e3bde5d",
   "metadata": {},
   "outputs": [
    {
     "name": "stdout",
     "output_type": "stream",
     "text": [
      "[-5 -3 13 -3 -5 -3 -8 -6]\n"
     ]
    }
   ],
   "source": [
    "# Generate a 1D array with 8 elements with random integers between -10 (inclusive) and 15 (exclusive)\n",
    "e = np.random.randint(-10, 15, size=(8,))\n",
    "print(e)"
   ]
  },
  {
   "cell_type": "code",
   "execution_count": 29,
   "id": "695fbc7b-6cac-46c6-8fec-1d7111c9fe1b",
   "metadata": {},
   "outputs": [
    {
     "name": "stdout",
     "output_type": "stream",
     "text": [
      "[[[  9  -3  -8   8   1   6  -5   2]\n",
      "  [ -2   8  -9  10  -1  -7   2  -9]\n",
      "  [-10   0  12  14   9  14   2   5]\n",
      "  [ 11  13  10  13   4   5  13   9]]\n",
      "\n",
      " [[ 14   0  -5  14  12   6   6   7]\n",
      "  [-10  13  -2  -3  13   3  -8  11]\n",
      "  [-10  -8   9  10 -10  13  -1  -8]\n",
      "  [  0  -6  -6  -2   1  -5   7  -1]]]\n"
     ]
    }
   ],
   "source": [
    "# Generate a 2X4X8 matrix with random integers between -10 (inclusive) and 15 (exclusive)\n",
    "e = np.random.randint(-10, 15, size=(2, 4, 8))\n",
    "print(e)"
   ]
  },
  {
   "cell_type": "code",
   "execution_count": 32,
   "id": "ae419a84-8565-4435-849a-fdd58500069d",
   "metadata": {},
   "outputs": [
    {
     "name": "stdout",
     "output_type": "stream",
     "text": [
      "[0 1 2 3 4]\n"
     ]
    }
   ],
   "source": [
    "# creating arrays using method arange(start_idx=0, stop_idx, step=1)\n",
    "\n",
    "# Example 1: # Creates an array from 0 to 4\n",
    "arr = np.arange(5)  \n",
    "print(arr)\n"
   ]
  },
  {
   "cell_type": "code",
   "execution_count": 33,
   "id": "ff4f5bb8-24f7-4582-9b6f-8ca8c1d832f8",
   "metadata": {},
   "outputs": [
    {
     "name": "stdout",
     "output_type": "stream",
     "text": [
      "[2 3 4 5 6 7 8 9]\n"
     ]
    }
   ],
   "source": [
    "# Example 2: Creates an array from 2 to 9\n",
    "arr = np.arange(2, 10)  \n",
    "print(arr)\n"
   ]
  },
  {
   "cell_type": "code",
   "execution_count": 34,
   "id": "260500e2-2b3d-4161-989f-38b9378127d5",
   "metadata": {},
   "outputs": [
    {
     "name": "stdout",
     "output_type": "stream",
     "text": [
      "[1 3 5 7 9]\n"
     ]
    }
   ],
   "source": [
    "# Example 3: Creates an array from 1 to 9 with a step of 2\n",
    "arr = np.arange(1, 10, 2)  \n",
    "print(arr)\n"
   ]
  },
  {
   "cell_type": "code",
   "execution_count": 35,
   "id": "4b1861bd-396d-4205-8dd9-b1644e541a43",
   "metadata": {},
   "outputs": [
    {
     "name": "stdout",
     "output_type": "stream",
     "text": [
      "[0.  0.1 0.2 0.3 0.4 0.5 0.6 0.7 0.8 0.9]\n"
     ]
    }
   ],
   "source": [
    "# Example 4: Creates an array of floats from 0 to 0.9 with step=0.1\n",
    "arr = np.arange(0, 1, 0.1)  \n",
    "print(arr)"
   ]
  },
  {
   "cell_type": "code",
   "execution_count": null,
   "id": "a0034e12-d198-4526-9b74-d148ee15537f",
   "metadata": {},
   "outputs": [],
   "source": []
  }
 ],
 "metadata": {
  "kernelspec": {
   "display_name": "Python 3 (ipykernel)",
   "language": "python",
   "name": "python3"
  },
  "language_info": {
   "codemirror_mode": {
    "name": "ipython",
    "version": 3
   },
   "file_extension": ".py",
   "mimetype": "text/x-python",
   "name": "python",
   "nbconvert_exporter": "python",
   "pygments_lexer": "ipython3",
   "version": "3.9.9"
  }
 },
 "nbformat": 4,
 "nbformat_minor": 5
}
