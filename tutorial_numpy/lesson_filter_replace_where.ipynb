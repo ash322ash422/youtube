{
 "cells": [
  {
   "cell_type": "code",
   "execution_count": null,
   "id": "c6b60c08-52f0-456f-bced-9718c3744d23",
   "metadata": {},
   "outputs": [],
   "source": [
    "# !pip install numpy"
   ]
  },
  {
   "cell_type": "code",
   "execution_count": 2,
   "id": "6f7ac620-a9d9-41a3-9707-2a7f5763a6f3",
   "metadata": {},
   "outputs": [],
   "source": [
    "import numpy as np"
   ]
  },
  {
   "cell_type": "code",
   "execution_count": 6,
   "id": "b88cf90d-5307-4b8f-8536-0b86460985e5",
   "metadata": {},
   "outputs": [
    {
     "name": "stdout",
     "output_type": "stream",
     "text": [
      "[3 3]\n",
      "[3 3]\n"
     ]
    }
   ],
   "source": [
    "# filter: it returns a boolean variables\n",
    "\n",
    "# Lets say we have following water contaminant reading\n",
    "cont = [4, 7, 2, 3, 9, 3, 6, 2, 1, 7] \n",
    "a = np.array(cont)\n",
    "\n",
    "# 1 Filter: select elements equal to 3\n",
    "mask = (a == 3)\n",
    "# print(mask)\n",
    "print(a[mask])\n",
    "\n",
    "# or use this, but sometimes not easy to understand for beginners\n",
    "print(a[a == 3]) \n"
   ]
  },
  {
   "cell_type": "code",
   "execution_count": 7,
   "id": "5d4d05a1-1b8a-462d-8494-75373aab1fb5",
   "metadata": {},
   "outputs": [
    {
     "name": "stdout",
     "output_type": "stream",
     "text": [
      "[4 7 2 9 6 2 1 7]\n"
     ]
    }
   ],
   "source": [
    "# 2 Filter: All elements not equal to 3\n",
    "mask = (a != 3)\n",
    "print(a[mask]) "
   ]
  },
  {
   "cell_type": "code",
   "execution_count": 8,
   "id": "e4dc8c6c-0c85-4600-a58a-4ab827962679",
   "metadata": {},
   "outputs": [
    {
     "name": "stdout",
     "output_type": "stream",
     "text": [
      "[2 2 1]\n"
     ]
    }
   ],
   "source": [
    "# 3 Filter: All elem <= 2 # HEALTHY water\n",
    "mask = (a <= 2)\n",
    "print(a[mask])     "
   ]
  },
  {
   "cell_type": "code",
   "execution_count": 10,
   "id": "0b11d208-9bc1-4cad-8201-000f900a6f92",
   "metadata": {},
   "outputs": [
    {
     "name": "stdout",
     "output_type": "stream",
     "text": [
      "[4 3 3]\n"
     ]
    }
   ],
   "source": [
    "cont = [4, 7, 2, 3, 9, 3, 6, 2, 1, 7] \n",
    "a = np.array(cont)\n",
    "\n",
    "# 5 Filter: All elem > 2 and < 5 # MODERATE\n",
    "mask = (a > 2) & (a < 5)\n",
    "print(a[mask]) "
   ]
  },
  {
   "cell_type": "code",
   "execution_count": 11,
   "id": "e07be1ef-bff5-4dcc-8eb8-9f718186aae4",
   "metadata": {},
   "outputs": [
    {
     "name": "stdout",
     "output_type": "stream",
     "text": [
      "[7 9 6 1 7]\n"
     ]
    }
   ],
   "source": [
    "# 6 Filter: select elements less than 2 or greater than 4:\n",
    "mask = (a < 2) | (a > 4)\n",
    "print(a[mask])"
   ]
  },
  {
   "cell_type": "code",
   "execution_count": null,
   "id": "40bcfb48-c606-439a-9244-37c286056b04",
   "metadata": {},
   "outputs": [],
   "source": []
  },
  {
   "cell_type": "code",
   "execution_count": 13,
   "id": "6a54673c-e7b2-4043-850c-36411a9ea9ba",
   "metadata": {},
   "outputs": [
    {
     "name": "stdout",
     "output_type": "stream",
     "text": [
      "(array([0, 2, 4, 6], dtype=int64),)\n",
      "[78 62 90 72]\n"
     ]
    }
   ],
   "source": [
    "# where(): It return indices ( and not boolean variables)\n",
    "\n",
    "scores = np.array([78, 45, 62, 33, 90, 50, 72]) \n",
    "\n",
    "# Indices where condition is true\n",
    "indices = np.where(scores > 50)\n",
    "print(indices)      # (array([2, 3, 4]),)\n",
    "print(scores[indices]) # [30 40 50]"
   ]
  },
  {
   "cell_type": "code",
   "execution_count": 14,
   "id": "12684072-7812-44ab-9b8f-d97f9592a4ac",
   "metadata": {},
   "outputs": [
    {
     "name": "stdout",
     "output_type": "stream",
     "text": [
      "Scores: [78 45 62 33 90 50 72]\n",
      "Results: ['Pass' 'Fail' 'Pass' 'Fail' 'Pass' 'Pass' 'Pass']\n"
     ]
    }
   ],
   "source": [
    "# Application1: Assigning Pass/Fail grades based on Scores\n",
    "scores = np.array([78, 45, 62, 33, 90, 50, 72]) # Student scores\n",
    "results = np.where(scores >= 50, \"Pass\", \"Fail\") # Use np.where to assign \"Pass\" or \"Fail\"\n",
    "\n",
    "print(\"Scores:\", scores)\n",
    "print(\"Results:\", results)"
   ]
  },
  {
   "cell_type": "code",
   "execution_count": null,
   "id": "18f40554-cc8b-420b-b036-ac5e347e41a0",
   "metadata": {},
   "outputs": [],
   "source": []
  },
  {
   "cell_type": "code",
   "execution_count": 15,
   "id": "d1825369-5ca2-4fb1-b11c-4868f8a07c77",
   "metadata": {},
   "outputs": [
    {
     "name": "stdout",
     "output_type": "stream",
     "text": [
      "Temperature readings: [28 33 31 25 29 35 30]\n",
      "Classification: ['30 or less' 'Greater than 30' 'Greater than 30' '30 or less'\n",
      " '30 or less' 'Greater than 30' '30 or less']\n"
     ]
    }
   ],
   "source": [
    "# Application2: Daily temperatures (°C) recorded over a week as Greater than 30 or less\n",
    "\n",
    "temperatures = np.array([28, 33, 31, 25, 29, 35, 30])\n",
    "\n",
    "temp_classification = np.where(temperatures > 30, 'Greater than 30', '30 or less')\n",
    "\n",
    "print(\"Temperature readings:\", temperatures)\n",
    "print(\"Classification:\", temp_classification)"
   ]
  },
  {
   "cell_type": "code",
   "execution_count": 17,
   "id": "e01965e3-8045-4134-b65f-a8f8a1fb6c0d",
   "metadata": {},
   "outputs": [
    {
     "name": "stdout",
     "output_type": "stream",
     "text": [
      "Temperature readings:\n",
      " [[22 26 24]\n",
      " [23 27 26]\n",
      " [25 28 23]\n",
      " [21 24 27]]\n",
      "\n",
      "Status:\n",
      " [['Normal' 'Alert' 'Normal']\n",
      " ['Normal' 'Alert' 'Alert']\n",
      " ['Normal' 'Alert' 'Normal']\n",
      " ['Normal' 'Normal' 'Alert']]\n"
     ]
    }
   ],
   "source": [
    "# Application 3:  Flag temperatures above 25°C as \"Alert\", else \"Normal\"\n",
    "# Create a 2D NumPy array\n",
    "# Temperatures (°C) recorded hourly in 3 rooms over 4 hours\n",
    "temps = np.array([\n",
    "    # Room1, Room2, Room3\n",
    "    [22, 26, 24],  # Hour 1\n",
    "    [23, 27, 26],  # Hour 2\n",
    "    [25, 28, 23],  # Hour 3\n",
    "    [21, 24, 27]   # Hour 4\n",
    "])\n",
    "\n",
    "status = np.where(temps > 25, \"Alert\", \"Normal\")\n",
    "\n",
    "print(\"Temperature readings:\\n\", temps)\n",
    "print(\"\\nStatus:\\n\", status)"
   ]
  },
  {
   "cell_type": "code",
   "execution_count": null,
   "id": "83a8a705-33e8-4f08-9c69-5a36ae0d1aee",
   "metadata": {},
   "outputs": [],
   "source": []
  }
 ],
 "metadata": {
  "kernelspec": {
   "display_name": "Python 3 (ipykernel)",
   "language": "python",
   "name": "python3"
  },
  "language_info": {
   "codemirror_mode": {
    "name": "ipython",
    "version": 3
   },
   "file_extension": ".py",
   "mimetype": "text/x-python",
   "name": "python",
   "nbconvert_exporter": "python",
   "pygments_lexer": "ipython3",
   "version": "3.9.9"
  }
 },
 "nbformat": 4,
 "nbformat_minor": 5
}
