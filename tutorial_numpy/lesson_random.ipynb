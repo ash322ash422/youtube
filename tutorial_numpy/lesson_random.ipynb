{
 "cells": [
  {
   "cell_type": "code",
   "execution_count": 2,
   "id": "c5457320-f6a0-45d6-bd1f-0b15100d5379",
   "metadata": {},
   "outputs": [],
   "source": [
    "import numpy as np"
   ]
  },
  {
   "cell_type": "code",
   "execution_count": 6,
   "id": "f4d8abc5-6100-4387-b76d-6bb3a8e874bd",
   "metadata": {},
   "outputs": [
    {
     "name": "stdout",
     "output_type": "stream",
     "text": [
      "Random numbers without seed: [0.68206403 0.05707386 0.39189775 0.79784017 0.7818831 ]\n"
     ]
    }
   ],
   "source": [
    "# Lets generate 5 random numbers\n",
    "# step1: Each run produces different output -> not reproducible\n",
    "\n",
    "print(\"Random numbers without seed:\", np.random.rand(5))\n",
    "\n",
    "# Each time when I run my output is diff. If I want same output on each run, then this is a problem"
   ]
  },
  {
   "cell_type": "code",
   "execution_count": 9,
   "id": "7047830e-4a82-4a84-a6f2-ea20b63948ad",
   "metadata": {},
   "outputs": [
    {
     "name": "stdout",
     "output_type": "stream",
     "text": [
      "Random numbers with seed 78: [0.04818123 0.68096301 0.79869607 0.80010859 0.96529725]\n"
     ]
    }
   ],
   "source": [
    "# step2: With random seed. (Each run produces same output -> reproducible)\n",
    "\n",
    "np.random.seed(78) # seed number produces unique set of numbers\n",
    "print(\"Random numbers with seed 78:\", np.random.rand(5))"
   ]
  },
  {
   "cell_type": "code",
   "execution_count": 12,
   "id": "e3d5e82d-3bad-42b9-80fd-0f66fb1607b7",
   "metadata": {},
   "outputs": [
    {
     "name": "stdout",
     "output_type": "stream",
     "text": [
      "Random numbers with seed 43: [0.11505457 0.60906654 0.13339096 0.24058962 0.32713906]\n"
     ]
    }
   ],
   "source": [
    "# step3: Now I want different set of numbers. So change seed value\n",
    "\n",
    "np.random.seed(43)\n",
    "print(\"Random numbers with seed 43:\", np.random.rand(5))"
   ]
  },
  {
   "cell_type": "code",
   "execution_count": null,
   "id": "7bb2722c-7492-4a72-aa5b-13335ada60e6",
   "metadata": {},
   "outputs": [],
   "source": []
  },
  {
   "cell_type": "code",
   "execution_count": 13,
   "id": "e1f13999-186e-4102-8d24-a7913245dc0c",
   "metadata": {},
   "outputs": [
    {
     "name": "stdout",
     "output_type": "stream",
     "text": [
      "\n",
      "Random integers (1–8): [4 3 7 7 1 4 3 4 4 2 2 3 4 3 4 6 5 5 1 6 5 1 5 1 3 5 1 2 3 1 5 5 1 5 2 6 5\n",
      " 1 6 1 4 3 2 4 2 6 1 7 3 3]\n"
     ]
    }
   ],
   "source": [
    "# I want 50 random integers from 1,2,3,...7  (low, high, size)\n",
    "\n",
    "print(\"\\nRandom integers (1–8):\", np.random.randint(1, 8, size=50))"
   ]
  },
  {
   "cell_type": "code",
   "execution_count": null,
   "id": "c190128f-ead5-4d19-95e4-2d312b33ac36",
   "metadata": {},
   "outputs": [],
   "source": []
  },
  {
   "cell_type": "code",
   "execution_count": 16,
   "id": "21b655e9-c384-4e1c-9cd5-8b54fe498c9b",
   "metadata": {},
   "outputs": [
    {
     "name": "stdout",
     "output_type": "stream",
     "text": [
      "\n",
      "Random choice from list: ['apple' 'cherry' 'cherry' 'cherry' 'kiwi' 'cherry']\n"
     ]
    }
   ],
   "source": [
    "# Random choices\n",
    "\n",
    "items = ['kiwi', 'banana', 'cherry', 'apple']\n",
    "\n",
    "# Random choice from list with replacement\n",
    "print(\"\\nRandom choice from list:\", np.random.choice(items, size=6, replace=True))"
   ]
  },
  {
   "cell_type": "code",
   "execution_count": 17,
   "id": "406c3ccb-a62a-4a1a-af41-8ee6de0aa2c3",
   "metadata": {},
   "outputs": [
    {
     "name": "stdout",
     "output_type": "stream",
     "text": [
      "Sample without replacement: [4 5 1 2 9 0]\n"
     ]
    }
   ],
   "source": [
    "# Without replacement (like lottery)\n",
    "print(\"Sample without replacement:\", np.random.choice(10, size=6, replace=False))"
   ]
  },
  {
   "cell_type": "code",
   "execution_count": null,
   "id": "ce02643b-02f1-4d27-a751-c571641d7402",
   "metadata": {},
   "outputs": [],
   "source": []
  },
  {
   "cell_type": "code",
   "execution_count": 18,
   "id": "3377fe33-680d-4127-9191-0403c4af7b60",
   "metadata": {},
   "outputs": [
    {
     "name": "stdout",
     "output_type": "stream",
     "text": [
      "Random samples: ['H' 'T' 'T' 'H' 'H' 'H' 'T' 'H' 'H' 'H' 'H' 'T' 'H' 'T' 'T' 'T' 'H' 'T'\n",
      " 'H' 'T']\n"
     ]
    }
   ],
   "source": [
    "# Lets generate a random samples of H and T, head and tail with 70% chance of head.\n",
    "\n",
    "# Define outcome and their probabilities (H = 0.7, T = 0.3)\n",
    "outcomes      = ['H', 'T']\n",
    "probabilities = [0.7, 0.3] # This should sum to 1 else ERROR\n",
    "\n",
    "samples = np.random.choice(outcomes, size=20, p=probabilities)\n",
    "\n",
    "print(\"Random samples:\", samples)"
   ]
  },
  {
   "cell_type": "code",
   "execution_count": null,
   "id": "a48cf527-ca68-44ba-b069-d8fd54d07301",
   "metadata": {},
   "outputs": [],
   "source": []
  },
  {
   "cell_type": "code",
   "execution_count": 19,
   "id": "8e9650d0-fc54-4945-a868-d139872e691c",
   "metadata": {},
   "outputs": [
    {
     "name": "stdout",
     "output_type": "stream",
     "text": [
      "arr           : [0 1 2 3 4 5 6 7 8 9]\n",
      "Shuffled array: [2 1 6 3 9 8 0 5 4 7]\n"
     ]
    }
   ],
   "source": [
    "# lets shuffle an array of numbers\n",
    "arr = np.arange(10)\n",
    "print(\"arr           :\", arr)\n",
    "np.random.shuffle(arr)\n",
    "print(\"Shuffled array:\", arr)"
   ]
  },
  {
   "cell_type": "code",
   "execution_count": 20,
   "id": "0baa492c-f14f-4986-be50-5b2470e9bc9d",
   "metadata": {},
   "outputs": [
    {
     "name": "stdout",
     "output_type": "stream",
     "text": [
      "items         : ['kiwi', 'banana', 'cherry', 'apple']\n",
      "Shuffled items: ['apple', 'kiwi', 'banana', 'cherry']\n"
     ]
    }
   ],
   "source": [
    "# Now lets shuffle an array of items\n",
    "items = ['kiwi', 'banana', 'cherry', 'apple']\n",
    "\n",
    "print(\"items         :\", items)\n",
    "np.random.shuffle(items)\n",
    "print(\"Shuffled items:\", items)"
   ]
  },
  {
   "cell_type": "code",
   "execution_count": null,
   "id": "48cfcff5-8871-4dbb-80e4-090399850324",
   "metadata": {},
   "outputs": [],
   "source": []
  },
  {
   "cell_type": "code",
   "execution_count": null,
   "id": "9e88bc5a-2152-412d-90fa-c329a1a40067",
   "metadata": {},
   "outputs": [],
   "source": []
  },
  {
   "cell_type": "code",
   "execution_count": 21,
   "id": "9ca111a8-768c-468e-9d57-80582cfe3e91",
   "metadata": {},
   "outputs": [
    {
     "name": "stdout",
     "output_type": "stream",
     "text": [
      "\n",
      "Standard Normal: [ 1.07206009 -0.80413909 -0.2137841   0.37999751  0.75504773]\n",
      "mean: 0.2378364287016057\n",
      "std_dev: 0.6742878485283118\n"
     ]
    }
   ],
   "source": [
    "# Sampling from normal distribution (mean=0, std=1)\n",
    "\n",
    "# step 1: Lets use small size 5\n",
    "\n",
    "a_rand = np.random.randn(5)\n",
    "print(\"\\nStandard Normal:\", a_rand)\n",
    "print(\"mean:\", np.mean(a_rand))\n",
    "print(\"std_dev:\", np.std(a_rand))\n",
    "\n",
    "# The mean is not equal to 0 and std is not closer to 1. This is a problem that happens with small samples"
   ]
  },
  {
   "cell_type": "code",
   "execution_count": 22,
   "id": "21af7fbc-1f88-43e4-9d7b-ed80287b38d9",
   "metadata": {},
   "outputs": [
    {
     "name": "stdout",
     "output_type": "stream",
     "text": [
      "\n",
      "Standard Normal: [-2.6129338   0.54934017 -0.27622436  0.64520911  0.21273312  0.82182701\n",
      " -0.66013358 -0.01078244  0.81515202  0.3529555   2.04949272  0.95864895\n",
      " -1.16376365 -0.61265394 -0.57130243 -0.5355172  -0.98925313 -0.53536676\n",
      "  1.31433018  0.31806486  0.99489976  2.00137993 -0.48534207 -1.06049456\n",
      "  0.32812949 -2.30784116 -1.33650838 -0.43311291  0.13238024  0.61345148\n",
      " -0.45714451  2.22548704 -0.30007342  2.69971448 -0.45486044  1.69706277\n",
      " -1.75454795 -0.71367367 -0.39785423  0.11562936 -1.56500233  0.75805115\n",
      " -0.53614373  1.81034417 -1.63901492  1.70412518 -0.44161424  1.02683728\n",
      " -1.66175684  0.9203392  -0.72013068  1.02349294 -0.73135107  0.33135966\n",
      "  1.7455146   0.73597917 -0.78210707  0.84072385 -0.25170988  0.8591921\n",
      "  0.58495873 -1.46890781  0.8439885  -1.62360206  0.02034773 -1.38673305\n",
      " -1.76227586  0.40108766  0.51646847 -1.61277329  0.56812611 -1.24094688\n",
      " -0.21939323 -0.12743897  0.50461089 -0.18075073 -0.07150503  1.65055457\n",
      " -0.04186242  0.5912535   1.61811801 -1.17836398  1.00775394 -1.76029552\n",
      "  0.38329234  0.04664728 -1.1749511  -0.35018727 -0.01336058  0.76809285\n",
      " -0.87489589 -0.33649221  0.14747604  2.53574173 -0.95472101  0.30145264\n",
      " -1.78082027  0.5961903   0.76750528 -1.27720072]\n",
      "mean: -0.009801791399524442\n",
      "std_dev: 1.1057049314124177\n"
     ]
    }
   ],
   "source": [
    "# step 2: Lets use big size 100\n",
    "\n",
    "a_rand = np.random.randn(100)\n",
    "print(\"\\nStandard Normal:\", a_rand)\n",
    "print(\"mean:\", np.mean(a_rand))\n",
    "print(\"std_dev:\", np.std(a_rand))\n",
    "\n",
    "# The bigger the sample is, the closer the mean would be to 0 and std would be to 1"
   ]
  },
  {
   "cell_type": "code",
   "execution_count": null,
   "id": "dc29eedd-9450-4882-982b-44483766599b",
   "metadata": {},
   "outputs": [],
   "source": []
  },
  {
   "cell_type": "code",
   "execution_count": 23,
   "id": "555f11cf-1a4d-4044-95e1-63e797e7a7b2",
   "metadata": {},
   "outputs": [
    {
     "name": "stdout",
     "output_type": "stream",
     "text": [
      "\n",
      "Normal (mean=50, std=10): [51.3471896  42.62890637 65.74263924 39.89672011 49.95542311]\n"
     ]
    }
   ],
   "source": [
    "# Sampling from normal distribution with mean=50, std=10 and 5 samples\n",
    "\n",
    "print(\"\\nNormal (mean=50, std=10):\", np.random.normal(loc=50, scale=10, size=5))"
   ]
  },
  {
   "cell_type": "code",
   "execution_count": null,
   "id": "63b9a8c8-298a-4bd9-8c68-80eeea304923",
   "metadata": {},
   "outputs": [],
   "source": []
  },
  {
   "cell_type": "code",
   "execution_count": 24,
   "id": "4dc299e2-a696-46df-b4d5-737a5c903431",
   "metadata": {},
   "outputs": [
    {
     "name": "stdout",
     "output_type": "stream",
     "text": [
      "Binomial: [4 5 6 7 2 3 4 4 5 5]\n",
      "\n",
      "Poisson: [3 7 2 3 4 2 3 5 1 1]\n",
      "\n",
      "Uniform [0,1): [0.83463305 0.70529928 0.44862642 0.42734736 0.34438326]\n",
      "\n",
      "Uniform [5,15): [12.96338885  7.04078199 14.24651159 14.32276509  8.78650509]\n"
     ]
    }
   ],
   "source": [
    "# Sampling from  Binomial / Poisson / Uniform distribution\n",
    "\n",
    "# Binomial distribution (n=10 trials, p=0.5, size=10 samples)\n",
    "print(\"Binomial:\", np.random.binomial(n=10, p=0.5, size=10))\n",
    "\n",
    "# Poisson distribution (lambda=3, 10 samples)\n",
    "print(\"\\nPoisson:\", np.random.poisson(lam=3, size=10))\n",
    "\n",
    "# Uniform distribution between [0, 1)\n",
    "print(\"\\nUniform [0,1):\", np.random.rand(5))\n",
    "\n",
    "# Uniform distribution between [low, high)\n",
    "print(\"\\nUniform [5,15):\", np.random.uniform(5, 15, 5))"
   ]
  },
  {
   "cell_type": "code",
   "execution_count": null,
   "id": "0af4949e-5673-44b4-8aa1-584767cb81d2",
   "metadata": {},
   "outputs": [],
   "source": []
  },
  {
   "cell_type": "code",
   "execution_count": null,
   "id": "f78c58ab-ade4-476e-8ba1-fdd4f53f56f9",
   "metadata": {},
   "outputs": [],
   "source": []
  },
  {
   "cell_type": "code",
   "execution_count": null,
   "id": "5e9ccab4-cab3-44d4-a27e-965f848c9e4d",
   "metadata": {},
   "outputs": [],
   "source": []
  }
 ],
 "metadata": {
  "kernelspec": {
   "display_name": "Python 3 (ipykernel)",
   "language": "python",
   "name": "python3"
  },
  "language_info": {
   "codemirror_mode": {
    "name": "ipython",
    "version": 3
   },
   "file_extension": ".py",
   "mimetype": "text/x-python",
   "name": "python",
   "nbconvert_exporter": "python",
   "pygments_lexer": "ipython3",
   "version": "3.9.9"
  }
 },
 "nbformat": 4,
 "nbformat_minor": 5
}
