{
 "cells": [
  {
   "cell_type": "code",
   "execution_count": 2,
   "id": "52e215da-b55f-4991-ac53-079ec30c1672",
   "metadata": {},
   "outputs": [],
   "source": [
    "import numpy as np\n",
    "from numpy.linalg import det\n",
    "from numpy.linalg import inv"
   ]
  },
  {
   "cell_type": "code",
   "execution_count": 3,
   "id": "0ae0b4d4-0a54-4b6c-8be2-40ade45d29a7",
   "metadata": {},
   "outputs": [
    {
     "name": "stdout",
     "output_type": "stream",
     "text": [
      "Determinant of 2x2 matrix A: 7.0\n"
     ]
    }
   ],
   "source": [
    "# Determinant of 2x2 matrix\n",
    "\n",
    "A = np.array([[2, 1], \n",
    "              [3, 5]]\n",
    ")\n",
    "\n",
    "det_A = det(A)\n",
    "print(\"Determinant of 2x2 matrix A:\", round(det_A, 3))"
   ]
  },
  {
   "cell_type": "code",
   "execution_count": 4,
   "id": "0b8258b4-327b-4374-af01-77f7dcf92add",
   "metadata": {},
   "outputs": [
    {
     "name": "stdout",
     "output_type": "stream",
     "text": [
      "Determinant of 3x3 matrix A: 12.0\n"
     ]
    }
   ],
   "source": [
    "# Determinant of 3x3 matrix\n",
    "A = np.array([[2, 1, 0],\n",
    "              [0, 1, -1],\n",
    "              [0, 2, 4]]\n",
    ")\n",
    "\n",
    "det_A = det(A)\n",
    "print(\"Determinant of 3x3 matrix A:\", round(det_A, 3))"
   ]
  },
  {
   "cell_type": "code",
   "execution_count": null,
   "id": "15d388a3-687f-4f99-9e25-d324dce84998",
   "metadata": {},
   "outputs": [],
   "source": []
  },
  {
   "cell_type": "code",
   "execution_count": 5,
   "id": "e3670807-9c0a-4461-b134-b8a1fa0840e0",
   "metadata": {},
   "outputs": [
    {
     "name": "stdout",
     "output_type": "stream",
     "text": [
      "Inverse of Matrix:\n",
      " [[-2.   1. ]\n",
      " [ 1.5 -0.5]]\n",
      "\n",
      "Verification (A × A_inv should be I):\n",
      " [[1. 0.]\n",
      " [0. 1.]]\n"
     ]
    }
   ],
   "source": [
    "# Inverse of a 2X2 matrix\n",
    "A = np.array([[1, 2], \n",
    "              [3, 4]])\n",
    "A_inv = inv(A)\n",
    "print(\"Inverse of Matrix:\\n\", A_inv)\n",
    "\n",
    "# Verification: A @ A_inv should be an identity matrix\n",
    "print(\"\\nVerification (A × A_inv should be I):\\n\", np.round(A @ A_inv)) "
   ]
  },
  {
   "cell_type": "code",
   "execution_count": 6,
   "id": "2c2560d4-e2fe-4b63-a661-5d9ad4a2fdbd",
   "metadata": {},
   "outputs": [
    {
     "name": "stdout",
     "output_type": "stream",
     "text": [
      "Inverse of Matrix:\n",
      " [[ 0.5        -0.33333333 -0.08333333]\n",
      " [ 0.          0.66666667  0.16666667]\n",
      " [-0.         -0.33333333  0.16666667]]\n",
      "\n",
      "Verification (A × A_inv should be I):\n",
      " [[1. 0. 0.]\n",
      " [0. 1. 0.]\n",
      " [0. 0. 1.]]\n"
     ]
    }
   ],
   "source": [
    "# Inverse of a 3X3 matrix\n",
    "\n",
    "A = np.array([[2, 1, 0],\n",
    "              [0, 1, -1],\n",
    "              [0, 2, 4]])\n",
    "A_inv = inv(A)\n",
    "print(\"Inverse of Matrix:\\n\", A_inv)\n",
    "\n",
    "# Verification: A @ A_inv should be an identity matrix\n",
    "print(\"\\nVerification (A × A_inv should be I):\\n\",np.round(A @ A_inv)) "
   ]
  },
  {
   "cell_type": "code",
   "execution_count": null,
   "id": "c620b872-d323-4215-9987-cddb99f0fd04",
   "metadata": {},
   "outputs": [],
   "source": []
  }
 ],
 "metadata": {
  "kernelspec": {
   "display_name": "Python 3 (ipykernel)",
   "language": "python",
   "name": "python3"
  },
  "language_info": {
   "codemirror_mode": {
    "name": "ipython",
    "version": 3
   },
   "file_extension": ".py",
   "mimetype": "text/x-python",
   "name": "python",
   "nbconvert_exporter": "python",
   "pygments_lexer": "ipython3",
   "version": "3.9.9"
  }
 },
 "nbformat": 4,
 "nbformat_minor": 5
}
