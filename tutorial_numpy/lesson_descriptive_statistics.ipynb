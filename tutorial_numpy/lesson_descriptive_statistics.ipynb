{
 "cells": [
  {
   "cell_type": "code",
   "execution_count": 5,
   "id": "5d8cff8f-c228-4948-87ee-f00b5e5e004e",
   "metadata": {},
   "outputs": [],
   "source": [
    "import numpy as np"
   ]
  },
  {
   "cell_type": "code",
   "execution_count": 6,
   "id": "5d6bc8e7-cd3a-464f-8ab7-7009e600ddc4",
   "metadata": {},
   "outputs": [
    {
     "name": "stdout",
     "output_type": "stream",
     "text": [
      "arr: [12 15 14 13 10 22 25 35 19 18 17 23]\n",
      "Mean: 18.583333333333332\n",
      "Median: 17.5\n",
      "Minimum: 10\n",
      "arg_min: 4\n",
      "Maximum: 35\n",
      "arg_max: 7\n",
      "25th Percentile: 13.75\n",
      "75th Percentile: 22.25\n"
     ]
    }
   ],
   "source": [
    "# Lets calculate descriptive stats on a data\n",
    "\n",
    "arr = np.array([12, 15, 14, 13, 10, 22, 25, 35, 19, 18, 17, 23]) # Monthly sales data in 1000s\n",
    "print(\"arr:\",arr)\n",
    "\n",
    "# Calculate statistics\n",
    "mean_value = np.mean(arr) \n",
    "print(\"Mean:\", mean_value)\n",
    "\n",
    "median_value = np.median(arr)\n",
    "print(\"Median:\", median_value) # Half the months are above/below this.\n",
    "\n",
    "min_value = np.min(arr)\n",
    "print(\"Minimum:\", min_value)\n",
    "\n",
    "arg_min = np.argmin(arr)\n",
    "print(\"arg_min:\", arg_min)\n",
    "\n",
    "max_value = np.max(arr)\n",
    "print(\"Maximum:\", max_value)\n",
    "\n",
    "arg_max = np.argmax(arr)\n",
    "print(\"arg_max:\", arg_max)\n",
    "\n",
    "percentile_25 = np.percentile(arr, 25)\n",
    "print(\"25th Percentile:\", percentile_25)\n",
    "\n",
    "percentile_75 = np.percentile(arr, 75)\n",
    "print(\"75th Percentile:\", percentile_75)"
   ]
  },
  {
   "cell_type": "code",
   "execution_count": 8,
   "id": "db19d13f-f85e-4216-b769-da511722980e",
   "metadata": {},
   "outputs": [
    {
     "name": "stdout",
     "output_type": "stream",
     "text": [
      "[1 2 3 4 5]\n",
      "[1 5 4 3 2]\n",
      "Mode: 2\n"
     ]
    }
   ],
   "source": [
    "# mode: Numpy does not have in-built function for mode. \n",
    "# But we can compute it using a combination of NumPy functions.\n",
    "\n",
    "data = np.array([1, 2, 2, 3, 4, 4, 4, 5, 2, 3, 3, 5, 2, 3, 2])\n",
    "\n",
    "values, counts = np.unique(data, return_counts=True)\n",
    "print(values)\n",
    "print(counts)\n",
    "mode_value = values[np.argmax(counts)]\n",
    "\n",
    "print(\"Mode:\", mode_value) "
   ]
  },
  {
   "cell_type": "code",
   "execution_count": 9,
   "id": "d511b63a-5ff1-44a0-8861-cbba67f36870",
   "metadata": {},
   "outputs": [
    {
     "name": "stdout",
     "output_type": "stream",
     "text": [
      "[5 5 5 5 5 5 5 5 5 5]\n",
      "Variance1: 0.0 ; Standard Deviation1: 0.0 \n",
      "\n",
      "[4 3 5 6 7 3 5 6 4 5]\n",
      "Variance2: 1.56 ; Standard Deviation2: 1.2489995996796797 \n",
      "\n",
      "[ 1  1  0  0  5  9  9 10 10  5]\n",
      "Variance3: 16.4 ; Standard Deviation3: 4.049691346263317\n"
     ]
    }
   ],
   "source": [
    "# Lets understand variance and standard deviation through a data with different variance\n",
    "data1 = np.array([5, 5, 5, 5, 5, 5, 5, 5, 5, 5])   # no variance\n",
    "data2 = np.array([4, 3, 5, 6, 7, 3, 5, 6, 4, 5])   # some variance\n",
    "data3 = np.array([1, 1, 0, 0, 5, 9, 9, 10, 10, 5]) # large variance\n",
    "\n",
    "var1 = np.var(data1)\n",
    "sd1 = np.std(data1)\n",
    "print(data1)\n",
    "print(\"Variance1:\", var1, \"; Standard Deviation1:\", sd1, \"\\n\")\n",
    "\n",
    "var2 = np.var(data2)\n",
    "sd2 = np.std(data2)\n",
    "print(data2)\n",
    "print(\"Variance2:\", var2, \"; Standard Deviation2:\", sd2, \"\\n\")\n",
    " \n",
    "var3 = np.var(data3)\n",
    "sd3 = np.std(data3)\n",
    "print(data3)\n",
    "print(\"Variance3:\", var3, \"; Standard Deviation3:\", sd3)"
   ]
  },
  {
   "cell_type": "code",
   "execution_count": 10,
   "id": "4353aae1-82d6-4658-9dee-7b66c2210aed",
   "metadata": {},
   "outputs": [
    {
     "name": "stdout",
     "output_type": "stream",
     "text": [
      "Covariance matrix:\n",
      " [[  1.80952381 -13.21428571]\n",
      " [-13.21428571 120.23809524]]\n",
      "Covariance between StudyHours and ExamScore: -13.214285714285715\n",
      "\n",
      "corr_matrix:\n",
      " [[ 1.         -0.89586073]\n",
      " [-0.89586073  1.        ]]\n"
     ]
    }
   ],
   "source": [
    "# Application1 : finding relation between 2 variable\n",
    "\n",
    "x1 = np.array([1,  2,  3,  4,  5,  3,  4])  # game_hours\n",
    "x2 = np.array([90, 90, 85, 80, 60, 80, 70]) # exam_scores\n",
    "\n",
    "# compute covariance matrix\n",
    "cov_matrix = np.cov([x1, x2])\n",
    "\n",
    "print(\"Covariance matrix:\\n\", cov_matrix)\n",
    "print(f\"Covariance between StudyHours and ExamScore: {cov_matrix[0,1]}\")\n",
    "\n",
    "corr_matrix = np.corrcoef([x1, x2]) # always between -1 to +1\n",
    "print(\"\\ncorr_matrix:\\n\", corr_matrix)"
   ]
  },
  {
   "cell_type": "code",
   "execution_count": null,
   "id": "f1295413-39dc-4b69-83d9-cbe467289fe5",
   "metadata": {},
   "outputs": [],
   "source": []
  },
  {
   "cell_type": "code",
   "execution_count": 11,
   "id": "34ec3146-9938-4427-ae23-7ee0b8129c66",
   "metadata": {},
   "outputs": [
    {
     "name": "stdout",
     "output_type": "stream",
     "text": [
      "Covariance matrix:\n",
      " [[ 250.   500.    10.  -455. ]\n",
      " [ 500.  1000.    20.  -910. ]\n",
      " [  10.    20.   182.8   -4.8]\n",
      " [-455.  -910.    -4.8  843.8]]\n",
      "\n",
      "corr_matrix:\n",
      " [[ 1.          1.          0.04677803 -0.99065317]\n",
      " [ 1.          1.          0.04677803 -0.99065317]\n",
      " [ 0.04677803  0.04677803  1.         -0.01222175]\n",
      " [-0.99065317 -0.99065317 -0.01222175  1.        ]]\n"
     ]
    }
   ],
   "source": [
    "# Application: finding relation among 4 variable\n",
    "\n",
    "x1 = np.array([10, 20, 30, 40, 50])  # resistance with I=2\n",
    "x2 = np.array([20, 40, 60, 80, 100]) # voltage measured via a top quality voltmeter\n",
    "x3 = np.array([18, 40, 50, 20,  30]) # voltage measured via a sub quality voltmeter\n",
    "x4 = np.array([90, 82, 55, 40, 20]) #  some other var with -ve correlation\n",
    "\n",
    "# stack and compute covariance\n",
    "X = np.array([x1, x2, x3, x4])\n",
    "cov_matrix = np.cov(X)\n",
    "print(\"Covariance matrix:\\n\", cov_matrix)\n",
    "\n",
    "corr_matrix = np.corrcoef(X) # always between -1 to +1\n",
    "print(\"\\ncorr_matrix:\\n\", corr_matrix)"
   ]
  },
  {
   "cell_type": "code",
   "execution_count": null,
   "id": "35fde816-7323-4af8-a5c6-22f2b3854949",
   "metadata": {},
   "outputs": [],
   "source": []
  }
 ],
 "metadata": {
  "kernelspec": {
   "display_name": "Python 3 (ipykernel)",
   "language": "python",
   "name": "python3"
  },
  "language_info": {
   "codemirror_mode": {
    "name": "ipython",
    "version": 3
   },
   "file_extension": ".py",
   "mimetype": "text/x-python",
   "name": "python",
   "nbconvert_exporter": "python",
   "pygments_lexer": "ipython3",
   "version": "3.9.9"
  }
 },
 "nbformat": 4,
 "nbformat_minor": 5
}
