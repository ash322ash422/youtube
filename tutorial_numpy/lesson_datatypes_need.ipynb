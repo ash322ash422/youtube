{
 "cells": [
  {
   "cell_type": "code",
   "execution_count": 7,
   "id": "4d05e585-eefc-48dc-a8b4-264e06f48bad",
   "metadata": {},
   "outputs": [],
   "source": [
    "import numpy as np\n",
    "import time"
   ]
  },
  {
   "cell_type": "code",
   "execution_count": 9,
   "id": "8ade257e-e742-4de1-af10-101eb58dc887",
   "metadata": {},
   "outputs": [
    {
     "name": "stdout",
     "output_type": "stream",
     "text": [
      "Memory usage for 10000 elements:\n",
      "int64 : 80000 Bytes\n",
      "int32 : 40000 Bytes\n",
      "int16 : 20000 Bytes\n",
      "uint8 : 10000 Bytes\n"
     ]
    }
   ],
   "source": [
    "# Lets say you working with 1D data that is always going to be between 0 and 200.\n",
    "\n",
    "# size of data\n",
    "N = 10000\n",
    "\n",
    "# Different data types with random integers between 0 and 200\n",
    "a_int64 = np.random.randint(0, 201, size=N, dtype=np.int64)\n",
    "a_int32 = np.random.randint(0, 201, size=N, dtype=np.int32)\n",
    "a_int16 = np.random.randint(0, 201, size=N, dtype=np.int16)\n",
    "a_uint8 = np.random.randint(0, 201, size=N, dtype=np.uint8)\n",
    "# print(a_uint8[:259])\n",
    "\n",
    "# Check memory usage\n",
    "print(f\"Memory usage for {N} elements:\")\n",
    "print(f\"int64 : {a_int64.nbytes} Bytes\")\n",
    "print(f\"int32 : {a_int32.nbytes} Bytes\")\n",
    "print(f\"int16 : {a_int16.nbytes} Bytes\")\n",
    "print(f\"uint8 : {a_uint8.nbytes} Bytes\")"
   ]
  },
  {
   "cell_type": "code",
   "execution_count": null,
   "id": "0f26e9c5-999f-40c1-8897-f157f62814c5",
   "metadata": {},
   "outputs": [],
   "source": [
    "### Conclusion: If you know that numbers are going to be between 0 to 200, then use np.uint8"
   ]
  },
  {
   "cell_type": "code",
   "execution_count": null,
   "id": "7590fb38-a80e-4c66-982d-efd4dbcba08b",
   "metadata": {},
   "outputs": [],
   "source": []
  },
  {
   "cell_type": "code",
   "execution_count": 10,
   "id": "19c3fc7d-e2f6-4536-a5d2-2c006cd852b2",
   "metadata": {},
   "outputs": [
    {
     "name": "stdout",
     "output_type": "stream",
     "text": [
      "Memory usage for 10 million elements:\n",
      "int64 : 800.00 MB\n",
      "int16 : 200.00 MB\n",
      "Computation with int64: 5.34650993347168 sec\n",
      "Computation with int16: 1.6984648704528809 sec\n"
     ]
    }
   ],
   "source": [
    "# Lets perform some numerical computation with np.int16 and np.int64 and compare time\n",
    "\n",
    "N = 100000000  # 10 million elements\n",
    "\n",
    "# Two arrays with different dtypes\n",
    "a_int64 = np.random.randint(0, 201, size=N, dtype=np.int64)\n",
    "b_int64 = np.random.randint(0, 201, size=N, dtype=np.int64)\n",
    "\n",
    "a_int16 = np.random.randint(0, 201, size=N, dtype=np.int16)\n",
    "b_int16 = np.random.randint(0, 201, size=N, dtype=np.int16)\n",
    "\n",
    "print(\"Memory usage for 10 million elements:\")\n",
    "print(f\"int64 : {a_int64.nbytes / 1e6:.2f} MB\")\n",
    "print(f\"int16 : {a_int16.nbytes / 1e6:.2f} MB\")\n",
    "\n",
    "# Heavy computation: simulate \"work\"\n",
    "def heavy_compute(x, y):\n",
    "    # dot product + elementwise math\n",
    "    return np.sum((x * y) ** 2 + np.sin(x) + np.sqrt(y))\n",
    "\n",
    "\n",
    "start = time.time()\n",
    "result = heavy_compute(a_int64, b_int64)\n",
    "end = time.time()\n",
    "print(f\"Computation with {a_int64.dtype}: {end - start} sec\")\n",
    "\n",
    "\n",
    "start = time.time()\n",
    "result = heavy_compute(a_int16, b_int16)\n",
    "end = time.time()\n",
    "print(f\"Computation with {a_int16.dtype}: {end - start} sec\")"
   ]
  },
  {
   "cell_type": "code",
   "execution_count": 11,
   "id": "f83bea74-cb98-45d6-b097-5f0d1730c168",
   "metadata": {},
   "outputs": [
    {
     "data": {
      "text/plain": [
       "3.136094674556213"
      ]
     },
     "execution_count": 11,
     "metadata": {},
     "output_type": "execute_result"
    }
   ],
   "source": [
    "# how fast\n",
    "5.3/1.69"
   ]
  },
  {
   "cell_type": "code",
   "execution_count": null,
   "id": "3466ccd6-023a-432b-b2d3-1e5d991dd111",
   "metadata": {},
   "outputs": [],
   "source": [
    "# Conclusion: Choosing right data type speeds up the computation"
   ]
  },
  {
   "cell_type": "code",
   "execution_count": null,
   "id": "b0c37872-0ac5-4604-988e-f81f92881687",
   "metadata": {},
   "outputs": [],
   "source": []
  },
  {
   "cell_type": "code",
   "execution_count": 12,
   "id": "61e9b2b5-3f81-48c1-bbad-b77d7c2dd166",
   "metadata": {},
   "outputs": [
    {
     "name": "stdout",
     "output_type": "stream",
     "text": [
      "Compound Interest after 1000 years:\n",
      "Float16 result : 1546320017967915164762112.00\n",
      "Float64 result : 1546318920731995137900544.00\n",
      "Exact result   : 1546318920731992453545984.00\n",
      "\n",
      "Error:\n",
      "Float16 error  : 1097235922711216128.00\n",
      "Float64 error  : 2684354560.00\n"
     ]
    }
   ],
   "source": [
    "# Now lets compare Compound Interest with Float32 vs Float64\n",
    "\n",
    "# Parameters\n",
    "principal = 1000.0  # Initial amount\n",
    "rate      = 0.05    # 5% annual interest\n",
    "years     = 1000    # Simulate 1000 years for effect\n",
    "\n",
    "# Float16 simulation\n",
    "amount16 = np.float16(principal)\n",
    "for _ in range(years):\n",
    "    amount16 *= (1 + np.float32(rate))\n",
    "\n",
    "# Float64 simulation\n",
    "amount64 = np.float64(principal)\n",
    "for _ in range(years):\n",
    "    amount64 *= (1 + np.float64(rate))\n",
    "\n",
    "# Exact theoretical value\n",
    "exact = principal * (1 + rate) ** years\n",
    "\n",
    "print(f\"Compound Interest after {years} years:\")\n",
    "print(f\"Float16 result : {amount16:.2f}\")\n",
    "print(f\"Float64 result : {amount64:.2f}\")\n",
    "print(f\"Exact result   : {exact:.2f}\")\n",
    "\n",
    "print(\"\\nError:\")\n",
    "print(f\"Float16 error  : {abs(amount16 - exact):.2f}\")\n",
    "print(f\"Float64 error  : {abs(amount64 - exact):.2f}\")"
   ]
  },
  {
   "cell_type": "code",
   "execution_count": null,
   "id": "e78bf28b-7985-48d6-bf76-49e3eb51cb2a",
   "metadata": {},
   "outputs": [],
   "source": []
  },
  {
   "cell_type": "code",
   "execution_count": null,
   "id": "f3b587a7-4526-405b-8e1a-a7abf385fcbf",
   "metadata": {},
   "outputs": [],
   "source": []
  },
  {
   "cell_type": "code",
   "execution_count": null,
   "id": "a32f53d7-557f-42ed-8834-98c15bf45fe0",
   "metadata": {},
   "outputs": [],
   "source": []
  }
 ],
 "metadata": {
  "kernelspec": {
   "display_name": "Python 3 (ipykernel)",
   "language": "python",
   "name": "python3"
  },
  "language_info": {
   "codemirror_mode": {
    "name": "ipython",
    "version": 3
   },
   "file_extension": ".py",
   "mimetype": "text/x-python",
   "name": "python",
   "nbconvert_exporter": "python",
   "pygments_lexer": "ipython3",
   "version": "3.9.9"
  }
 },
 "nbformat": 4,
 "nbformat_minor": 5
}
