{
 "cells": [
  {
   "cell_type": "code",
   "execution_count": 10,
   "id": "8026e412-0079-4715-963d-c70cd846f05c",
   "metadata": {},
   "outputs": [],
   "source": [
    "import numpy as np"
   ]
  },
  {
   "cell_type": "code",
   "execution_count": 32,
   "id": "232444be-cb4d-4f4c-b9aa-05ffdf14e2e1",
   "metadata": {},
   "outputs": [
    {
     "name": "stdout",
     "output_type": "stream",
     "text": [
      "int32\n",
      "float64\n"
     ]
    }
   ],
   "source": [
    "x = np.array([1, 2, 5, 2])   # Let numpy choose the datatype\n",
    "print(x.dtype) \n",
    "################\n",
    "\n",
    "x = np.array([1.0, 2.0, 2.0])   # Let numpy choose the datatype\n",
    "print(x.dtype)    "
   ]
  },
  {
   "cell_type": "code",
   "execution_count": 33,
   "id": "8cada072-6f25-4e70-933a-5de15f81e265",
   "metadata": {},
   "outputs": [
    {
     "name": "stdout",
     "output_type": "stream",
     "text": [
      "int8\n"
     ]
    }
   ],
   "source": [
    "# Force a particular datatype to int8\n",
    "x = np.array([1, 2, 5, 2], dtype=np.int8)   \n",
    "print(x.dtype)                    "
   ]
  },
  {
   "cell_type": "code",
   "execution_count": null,
   "id": "df05f57b-74d4-4980-9936-b2ea227b05f3",
   "metadata": {},
   "outputs": [],
   "source": []
  },
  {
   "cell_type": "code",
   "execution_count": 35,
   "id": "391afb8a-4d3b-4e32-a648-b906c1d2573a",
   "metadata": {},
   "outputs": [
    {
     "name": "stdout",
     "output_type": "stream",
     "text": [
      "Machine parameters for int32\n",
      "---------------------------------------------------------------\n",
      "min = -2147483648\n",
      "max = 2147483647\n",
      "---------------------------------------------------------------\n",
      "\n"
     ]
    }
   ],
   "source": [
    "# Les check how big/small your values can get.\n",
    "\n",
    "# print(np.iinfo(np.int8))\n",
    "# print(np.iinfo(np.int16))\n",
    "print(np.iinfo(np.int32))\n",
    "# print(np.iinfo(np.int64))\n",
    "\n",
    "# print(np.finfo(np.float16))\n",
    "# print(np.finfo(np.float32))\n",
    "# print(np.finfo(np.float64))"
   ]
  },
  {
   "cell_type": "code",
   "execution_count": null,
   "id": "5c4295e4-5d47-4e21-991f-2299bf688400",
   "metadata": {},
   "outputs": [],
   "source": []
  },
  {
   "cell_type": "code",
   "execution_count": 36,
   "id": "f22f7a28-0997-4b17-9506-8b0a0fcce5ff",
   "metadata": {},
   "outputs": [
    {
     "name": "stdout",
     "output_type": "stream",
     "text": [
      "Integer Array: [1 2 3]\n",
      "Data Type: int8\n"
     ]
    }
   ],
   "source": [
    "# Lets see available data types\n",
    "\n",
    "# 1. Integer Types: int8, int16, int32, int64 \n",
    "# Create an array of int8\n",
    "a = np.array([1, 2, 3], dtype=np.int8)\n",
    "print(\"Integer Array:\", a)\n",
    "print(\"Data Type:\", a.dtype)"
   ]
  },
  {
   "cell_type": "code",
   "execution_count": 37,
   "id": "90057be8-0e59-4e0e-945f-6fbc349b28d7",
   "metadata": {},
   "outputs": [
    {
     "name": "stdout",
     "output_type": "stream",
     "text": [
      "Unsigned Integer Array: [1 2 3]\n",
      "Data Type: uint8\n"
     ]
    }
   ],
   "source": [
    "# 2. Unsigned Integer Types: uint8, uint16, uint32, uint64\n",
    "# Create an array of uint8\n",
    "a = np.array([1, 2, 3], dtype=np.uint8)\n",
    "print(\"Unsigned Integer Array:\", a)\n",
    "print(\"Data Type:\", a.dtype)"
   ]
  },
  {
   "cell_type": "code",
   "execution_count": 38,
   "id": "faa532b6-066d-4c9b-a52a-1b353ba1bef5",
   "metadata": {},
   "outputs": [
    {
     "name": "stdout",
     "output_type": "stream",
     "text": [
      "Floating Point Array: [1. 2. 3.]\n",
      "Data Type: float64\n"
     ]
    }
   ],
   "source": [
    "# 3. Floating Point Types: float16, float32, float64\n",
    "# Create an array of float64\n",
    "a = np.array([1.0, 2.0, 3.0], dtype=np.float64)\n",
    "print(\"Floating Point Array:\", a)\n",
    "print(\"Data Type:\", a.dtype)"
   ]
  },
  {
   "cell_type": "code",
   "execution_count": 39,
   "id": "710007b0-dd3a-4137-aba7-0b1e2de163fa",
   "metadata": {},
   "outputs": [
    {
     "name": "stdout",
     "output_type": "stream",
     "text": [
      "Complex Array: [1.+2.j 3.+4.j]\n",
      "Data Type: complex64\n"
     ]
    }
   ],
   "source": [
    "# 4. Complex Types: complex64, complex128\n",
    "# Create an array of complex64\n",
    "a = np.array([1 + 2j, 3 + 4j], dtype=np.complex64)\n",
    "print(\"Complex Array:\", a)\n",
    "print(\"Data Type:\", a.dtype)"
   ]
  },
  {
   "cell_type": "code",
   "execution_count": 40,
   "id": "e3eb796e-f1f3-4831-a386-e0d35f509989",
   "metadata": {},
   "outputs": [
    {
     "name": "stdout",
     "output_type": "stream",
     "text": [
      "Boolean Array: [ True False  True]\n",
      "Data Type: bool\n"
     ]
    }
   ],
   "source": [
    "# 5. Boolean Type: bool_\n",
    "# Create a boolean array\n",
    "a = np.array([True, False, True], dtype=np.bool_)\n",
    "print(\"Boolean Array:\", a)\n",
    "print(\"Data Type:\", a.dtype)"
   ]
  },
  {
   "cell_type": "code",
   "execution_count": 41,
   "id": "c2c4312c-c6b0-4859-b2dd-3b5d2dcc1aaa",
   "metadata": {},
   "outputs": [
    {
     "name": "stdout",
     "output_type": "stream",
     "text": [
      "String Array: ['apple' 'banana' 'cherry']\n",
      "Data Type: <U6\n",
      "Object Array: [1 'apple' 3.14]\n",
      "Data Type: object\n"
     ]
    }
   ],
   "source": [
    "# 6. String Type: str_\n",
    "# Create an array of strings\n",
    "a = np.array(['apple', 'banana', 'cherry'], dtype=np.str_)\n",
    "print(\"String Array:\", a)\n",
    "print(\"Data Type:\", a.dtype)\n",
    "\n",
    "# 7. Object Type: object_\n",
    "# Create an array of objects\n",
    "a = np.array([1, 'apple', 3.14], dtype=np.object_)\n",
    "print(\"Object Array:\", a)\n",
    "print(\"Data Type:\", a.dtype)"
   ]
  },
  {
   "cell_type": "code",
   "execution_count": null,
   "id": "4130ade6-86e1-4340-a540-79214ef9bcc4",
   "metadata": {},
   "outputs": [],
   "source": []
  },
  {
   "cell_type": "code",
   "execution_count": 42,
   "id": "bf8107e0-9545-4c16-9a8f-504daefe37b8",
   "metadata": {},
   "outputs": [
    {
     "name": "stdout",
     "output_type": "stream",
     "text": [
      "Size of int8 : 1 bytes\n",
      "Size of int16: 2 bytes\n",
      "Size of int32: 4 bytes\n",
      "Size of int64: 8 bytes\n"
     ]
    }
   ],
   "source": [
    "# Integer Types\n",
    "print(\"Size of int8 :\", np.int8().itemsize,  \"bytes\")  \n",
    "print(\"Size of int16:\", np.int16().itemsize, \"bytes\") \n",
    "print(\"Size of int32:\", np.int32().itemsize, \"bytes\") \n",
    "print(\"Size of int64:\", np.int64().itemsize, \"bytes\")"
   ]
  },
  {
   "cell_type": "code",
   "execution_count": 43,
   "id": "5cc48119-fc3f-42f4-9578-9352513309f5",
   "metadata": {},
   "outputs": [
    {
     "name": "stdout",
     "output_type": "stream",
     "text": [
      "Size of uint8 : 1 bytes\n",
      "Size of uint16: 2 bytes\n",
      "Size of uint32: 4 bytes\n",
      "Size of uint64: 8 bytes\n"
     ]
    }
   ],
   "source": [
    "# Unsigned Integer Types\n",
    "print(\"Size of uint8 :\", np.uint8().itemsize,  \"bytes\")   \n",
    "print(\"Size of uint16:\", np.uint16().itemsize, \"bytes\") \n",
    "print(\"Size of uint32:\", np.uint32().itemsize, \"bytes\") \n",
    "print(\"Size of uint64:\", np.uint64().itemsize, \"bytes\") "
   ]
  },
  {
   "cell_type": "code",
   "execution_count": 44,
   "id": "18311238-ad13-4440-834f-a7dcd2581d16",
   "metadata": {},
   "outputs": [
    {
     "name": "stdout",
     "output_type": "stream",
     "text": [
      "Size of float16: 2 bytes\n",
      "Size of float32: 4 bytes\n",
      "Size of float64: 8 bytes\n"
     ]
    }
   ],
   "source": [
    "# Floating Point Types\n",
    "print(\"Size of float16:\", np.float16().itemsize, \"bytes\") \n",
    "print(\"Size of float32:\", np.float32().itemsize, \"bytes\") \n",
    "print(\"Size of float64:\", np.float64().itemsize, \"bytes\") "
   ]
  },
  {
   "cell_type": "code",
   "execution_count": 45,
   "id": "dddaff3d-1942-4cb3-861b-5debcc6173cc",
   "metadata": {},
   "outputs": [
    {
     "name": "stdout",
     "output_type": "stream",
     "text": [
      "Size of bool: 1 bytes\n",
      "Size of object: 8 bytes\n"
     ]
    }
   ],
   "source": [
    "# Boolean Type\n",
    "print(\"Size of bool:\", np.bool_().itemsize, \"bytes\") \n",
    "\n",
    "# Object Type\n",
    "print(\"Size of object:\", np.dtype(np.object_).itemsize, \"bytes\") "
   ]
  },
  {
   "cell_type": "code",
   "execution_count": null,
   "id": "c715bd9e-ea15-4cd3-89e6-0a561a87f755",
   "metadata": {},
   "outputs": [],
   "source": []
  },
  {
   "cell_type": "code",
   "execution_count": 50,
   "id": "20cd6ab4-d449-42cd-b792-3427eaf9ab22",
   "metadata": {},
   "outputs": [
    {
     "name": "stdout",
     "output_type": "stream",
     "text": [
      "Original: [1 2 3 4 5]\n",
      "int32\n",
      "New     : [1 2 3 4 5]\n",
      "uint8\n"
     ]
    }
   ],
   "source": [
    "# Change data type to uint8\n",
    "\n",
    "# Create a NumPy array with default data type (int)\n",
    "a = np.array([1, 2, 3, 4, 5])\n",
    "print(\"Original:\", a)\n",
    "print(a.dtype)\n",
    "\n",
    "a = a.astype(np.uint8)   # to uint8\n",
    "# a = a.astype(np.float16) # to float\n",
    "# a = a.astype(np.float32) # to float32\n",
    "# a = a.astype(np.str_)     # to string\n",
    "\n",
    "print(\"New     :\", a)\n",
    "print(a.dtype)"
   ]
  },
  {
   "cell_type": "code",
   "execution_count": 51,
   "id": "c9dc14a6-3c79-4017-b6dd-f5d929f238f8",
   "metadata": {},
   "outputs": [
    {
     "name": "stdout",
     "output_type": "stream",
     "text": [
      "Original: [1.1 2.2 3.3]\n",
      "float64\n",
      "New     : [1 2 3]\n",
      "int32\n"
     ]
    }
   ],
   "source": [
    "# Change data type from float to integer (will truncate the decimal part)\n",
    "\n",
    "a = np.array([1.1, 2.2, 3.3])\n",
    "print(\"Original:\", a)\n",
    "print(a.dtype)\n",
    "\n",
    "a = a.astype(int)\n",
    "print(\"New     :\", a)\n",
    "print(a.dtype)"
   ]
  },
  {
   "cell_type": "code",
   "execution_count": 52,
   "id": "77536a7d-f68a-4675-b7f7-3a17c963e9a8",
   "metadata": {},
   "outputs": [
    {
     "name": "stdout",
     "output_type": "stream",
     "text": [
      "Original: ['1' '2' '3']\n",
      "<U1\n",
      "New     : [1 2 3]\n",
      "int32\n"
     ]
    }
   ],
   "source": [
    "# Change data type from string to integer\n",
    "\n",
    "a = np.array([\"1\", \"2\", \"3\"])\n",
    "print(\"Original:\", a)\n",
    "print(a.dtype)\n",
    "\n",
    "a = a.astype(int)\n",
    "print(\"New     :\", a)\n",
    "print(a.dtype)"
   ]
  },
  {
   "cell_type": "code",
   "execution_count": null,
   "id": "b849f8ca-0eb2-4d1f-bbd6-ea1553e6e45a",
   "metadata": {},
   "outputs": [],
   "source": []
  }
 ],
 "metadata": {
  "kernelspec": {
   "display_name": "Python 3 (ipykernel)",
   "language": "python",
   "name": "python3"
  },
  "language_info": {
   "codemirror_mode": {
    "name": "ipython",
    "version": 3
   },
   "file_extension": ".py",
   "mimetype": "text/x-python",
   "name": "python",
   "nbconvert_exporter": "python",
   "pygments_lexer": "ipython3",
   "version": "3.9.9"
  }
 },
 "nbformat": 4,
 "nbformat_minor": 5
}
