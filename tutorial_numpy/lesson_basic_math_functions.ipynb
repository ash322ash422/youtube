{
 "cells": [
  {
   "cell_type": "code",
   "execution_count": 8,
   "id": "8f067bbe-4246-4457-9461-c3477e6a841e",
   "metadata": {},
   "outputs": [],
   "source": [
    "import numpy as np"
   ]
  },
  {
   "cell_type": "code",
   "execution_count": 10,
   "id": "fac69fe5-7d6f-43da-8c62-48a877d0e0f9",
   "metadata": {},
   "outputs": [
    {
     "name": "stdout",
     "output_type": "stream",
     "text": [
      "Add filter (brightness boost):\n",
      " [[105. 160.]\n",
      " [155. 220.]]\n"
     ]
    }
   ],
   "source": [
    "# Here x could be an image of size 2X2.\n",
    "\n",
    "# Elementwise addition (e.g., applying a brightness mask y)\n",
    "x = np.array([[100, 150],\n",
    "              [140, 200]], dtype=np.float64\n",
    ")\n",
    "\n",
    "y = np.array([[5, 10],\n",
    "              [15, 20]], dtype=np.float64\n",
    ")\n",
    "\n",
    "# res = x + y\n",
    "res = np.add(x, y)\n",
    "print(\"Add filter (brightness boost):\\n\", res)\n"
   ]
  },
  {
   "cell_type": "code",
   "execution_count": 11,
   "id": "7752b06d-4d4a-4ef0-acc1-0587b616adc8",
   "metadata": {},
   "outputs": [
    {
     "name": "stdout",
     "output_type": "stream",
     "text": [
      "Add 50 to all pixels (brightness adjustment):\n",
      " [[150. 200.]\n",
      " [190. 250.]]\n"
     ]
    }
   ],
   "source": [
    "# Adding a constant (increase brightness uniformly)\n",
    "x = np.array([[100, 150],\n",
    "              [140, 200]], dtype=np.float64\n",
    ")\n",
    "\n",
    "res = x + 50\n",
    "print(\"Add 50 to all pixels (brightness adjustment):\\n\", res)"
   ]
  },
  {
   "cell_type": "code",
   "execution_count": 13,
   "id": "432c3572-1769-4542-95a6-f157f1d48a19",
   "metadata": {},
   "outputs": [
    {
     "name": "stdout",
     "output_type": "stream",
     "text": [
      "Subtract filter (change detection):\n",
      " [[ 95. 140.]\n",
      " [125. 180.]]\n"
     ]
    }
   ],
   "source": [
    "# Element-wise subtraction (e.g., remove background or detect changes from 1 frame to another)\n",
    "# x could be one frame and y could be another frame\n",
    "x = np.array([[100, 150],\n",
    "              [140, 200]], dtype=np.float64\n",
    ")\n",
    "\n",
    "y = np.array([[5, 10],\n",
    "              [15, 20]], dtype=np.float64\n",
    ")\n",
    "\n",
    "# res = x - y\n",
    "res = np.subtract(x, y)\n",
    "print(\"Subtract filter (change detection):\\n\", res)"
   ]
  },
  {
   "cell_type": "code",
   "execution_count": 15,
   "id": "eee77061-3a0a-4458-92c6-38259e9ea9d0",
   "metadata": {},
   "outputs": [
    {
     "name": "stdout",
     "output_type": "stream",
     "text": [
      "Pixel-wise blending (weighted effect):\n",
      " [[50. 15.]\n",
      " [21. 40.]]\n"
     ]
    }
   ],
   "source": [
    "# Element-wise multiplication (e.g., applying a weight y or blending mask y to image x)\n",
    "\n",
    "x = np.array([[100, 150],\n",
    "              [140, 200]], dtype=np.float64\n",
    ")\n",
    "\n",
    "y = np.array([[.5, .10],\n",
    "              [.15, .20]], dtype=np.float64\n",
    ")\n",
    "\n",
    "# res = x * y\n",
    "res = np.multiply(x, y)\n",
    "print(\"Pixel-wise blending (weighted effect):\\n\", res)"
   ]
  },
  {
   "cell_type": "code",
   "execution_count": 16,
   "id": "8c2034c8-9c6a-4eb1-9eb2-f9cc49fff259",
   "metadata": {},
   "outputs": [
    {
     "name": "stdout",
     "output_type": "stream",
     "text": [
      "[[ 200.         1500.        ]\n",
      " [ 866.66666667  100.        ]]\n"
     ]
    }
   ],
   "source": [
    "# Now lets perform element-wise division\n",
    "x = np.array([[100, 150],\n",
    "              [130, 20]], dtype=np.float64\n",
    ")\n",
    "\n",
    "y = np.array([[.5, .10],\n",
    "              [.15, .20]], dtype=np.float64\n",
    ")\n",
    "\n",
    "res = x / y\n",
    "# res = np.divide(x, y)\n",
    "print(res)"
   ]
  },
  {
   "cell_type": "code",
   "execution_count": null,
   "id": "3a4e68f3-f45a-4487-84a4-68675be0c5c9",
   "metadata": {},
   "outputs": [],
   "source": []
  },
  {
   "cell_type": "code",
   "execution_count": 17,
   "id": "90004449-7e0e-49bf-9d03-c68ccc6f6be5",
   "metadata": {},
   "outputs": [
    {
     "name": "stdout",
     "output_type": "stream",
     "text": [
      "Square:\n",
      " [[1.         1.41421356 1.73205081]\n",
      " [2.         2.23606798 2.44948974]]\n"
     ]
    }
   ],
   "source": [
    "# Elementwise operation: sqrt, power, exp, log, floor, ceil, round\n",
    "\n",
    "x = np.array([[1,2 , 3],\n",
    "              [4, 5, 6]], dtype=np.float64\n",
    ") # 2D array of shape 2X3\n",
    "\n",
    "square_result = np.sqrt(x)\n",
    "print(\"Square:\\n\", square_result)"
   ]
  },
  {
   "cell_type": "code",
   "execution_count": 18,
   "id": "c0363811-4508-465c-bed8-27a6ca73b526",
   "metadata": {},
   "outputs": [
    {
     "name": "stdout",
     "output_type": "stream",
     "text": [
      "Power:\n",
      " [[ 1.  4.  9.]\n",
      " [16. 25. 36.]]\n"
     ]
    }
   ],
   "source": [
    "x = np.array([[1, 2, 3],\n",
    "              [4, 5, 6]], dtype=np.float64\n",
    ") # 2D array of shape 2X3\n",
    "\n",
    "power_result = np.power(x, 2)  # Raises each element to the power of 2\n",
    "print(\"Power:\\n\", power_result)"
   ]
  },
  {
   "cell_type": "code",
   "execution_count": 19,
   "id": "8398257b-9577-42bd-8217-f71574447118",
   "metadata": {},
   "outputs": [
    {
     "name": "stdout",
     "output_type": "stream",
     "text": [
      "Exponential:\n",
      " [[  2.71828183   7.3890561   20.08553692]\n",
      " [ 54.59815003 148.4131591  403.42879349]]\n"
     ]
    }
   ],
   "source": [
    "x = np.array([[1, 2, 3],\n",
    "              [4, 5, 6]], dtype=np.float64\n",
    ") # 2D array of shape 2X3\n",
    "\n",
    "exp_result = np.exp(x)  # Computes e^x for each element\n",
    "print(\"Exponential:\\n\", exp_result)"
   ]
  },
  {
   "cell_type": "code",
   "execution_count": 20,
   "id": "0c45a284-5579-4285-b27a-64c19a4c0b5b",
   "metadata": {},
   "outputs": [
    {
     "name": "stdout",
     "output_type": "stream",
     "text": [
      "Natural Logarithm:\n",
      " [[0.         0.69314718 1.09861229]\n",
      " [1.38629436 1.60943791 1.79175947]]\n"
     ]
    }
   ],
   "source": [
    "x = np.array([[1, 2, 3],\n",
    "              [4, 5, 6]], dtype=np.float64\n",
    ") # 2D array of shape 2X3\n",
    "\n",
    "log_result = np.log(x)  # Computes the natural logarithm\n",
    "print(\"Natural Logarithm:\\n\", log_result)"
   ]
  },
  {
   "cell_type": "code",
   "execution_count": 21,
   "id": "f8aa2cd4-20dc-4fee-b3c6-07681fbfd818",
   "metadata": {},
   "outputs": [
    {
     "name": "stdout",
     "output_type": "stream",
     "text": [
      "Base-10 Logarithm:\n",
      " [[0.         0.30103    0.47712125]\n",
      " [0.60205999 0.69897    0.77815125]]\n"
     ]
    }
   ],
   "source": [
    "x = np.array([[1, 2, 3],\n",
    "              [4, 5, 6]], dtype=np.float64\n",
    ") # 2D array of shape 2X3\n",
    "\n",
    "log10_result = np.log10(x)  # Computes the base-10 logarithm\n",
    "print(\"Base-10 Logarithm:\\n\", log10_result)"
   ]
  },
  {
   "cell_type": "code",
   "execution_count": 22,
   "id": "9a6e6d5d-7e7a-4156-9e9b-d259941752b8",
   "metadata": {},
   "outputs": [
    {
     "name": "stdout",
     "output_type": "stream",
     "text": [
      "Floor:\n",
      " [[1. 2. 3.]\n",
      " [4. 5. 6.]]\n"
     ]
    }
   ],
   "source": [
    "x = np.array([[1, 2, 3],\n",
    "              [4, 5, 6]], dtype=np.float64\n",
    ") # 2D array of shape 2X3\n",
    "\n",
    "floor_result = np.floor(x + 0.5)  # Rounds down\n",
    "print(\"Floor:\\n\", floor_result)"
   ]
  },
  {
   "cell_type": "code",
   "execution_count": 23,
   "id": "5edb7a1b-cd87-49a8-9068-0d69b350891a",
   "metadata": {},
   "outputs": [
    {
     "name": "stdout",
     "output_type": "stream",
     "text": [
      "Ceil:\n",
      " [[2. 3. 4.]\n",
      " [5. 6. 7.]]\n"
     ]
    }
   ],
   "source": [
    "x = np.array([[1, 2, 3],\n",
    "              [4, 5, 6]], dtype=np.float64\n",
    ") # 2D array of shape 2X3\n",
    "\n",
    "ceil_result = np.ceil(x + 0.5)    # Rounds up\n",
    "print(\"Ceil:\\n\", ceil_result)"
   ]
  },
  {
   "cell_type": "code",
   "execution_count": 24,
   "id": "f2c4a58c-570a-4d0d-a5e8-eeafc25fd557",
   "metadata": {},
   "outputs": [
    {
     "name": "stdout",
     "output_type": "stream",
     "text": [
      "Round:\n",
      " [[2. 2. 4.]\n",
      " [4. 6. 6.]]\n"
     ]
    }
   ],
   "source": [
    "x = np.array([[1, 2, 3],\n",
    "              [4, 5, 6]], dtype=np.float64\n",
    ") # 2D array of shape 2X3\n",
    "\n",
    "round_result = np.round(x + 0.5)   # Rounds to nearest integer\n",
    "print(\"Round:\\n\", round_result)"
   ]
  },
  {
   "cell_type": "code",
   "execution_count": 25,
   "id": "65a59c0e-e060-49a2-9ccc-6917fccb17e5",
   "metadata": {},
   "outputs": [
    {
     "name": "stdout",
     "output_type": "stream",
     "text": [
      "[[7.        7.8284273]\n",
      " [8.464102  9.       ]]\n"
     ]
    }
   ],
   "source": [
    "# A simple application: chaining\n",
    "# Suppose you have to sqrt all numbers, then multiply by 2 and then add 5 to all elements\n",
    "\n",
    "x = np.array(\n",
    "    [[1,2],\n",
    "     [3,4]\n",
    "    ], dtype = np.uint16\n",
    ")\n",
    "\n",
    "\n",
    "res =  (np.sqrt(x) * 2 ) + 5\n",
    "print(res)"
   ]
  },
  {
   "cell_type": "code",
   "execution_count": 27,
   "id": "ef0f3c4e-8d2f-418a-862c-6cb046176ee3",
   "metadata": {},
   "outputs": [
    {
     "name": "stdout",
     "output_type": "stream",
     "text": [
      "[ 8  9 64]\n"
     ]
    }
   ],
   "source": [
    "# Lets say you want to raise every number in an array by some number that is in different array\n",
    "a = np.array([2, 3, 4])\n",
    "b = np.array([3, 2, 3])\n",
    "\n",
    "result = np.power(a, b)\n",
    "print(result)  # Output: [8 9 4] → [2^3, 3^2, 4^1]"
   ]
  },
  {
   "cell_type": "code",
   "execution_count": 28,
   "id": "fb8bf264-91e9-4fd4-859e-44203813ed28",
   "metadata": {},
   "outputs": [
    {
     "name": "stdout",
     "output_type": "stream",
     "text": [
      "[1 6 6]\n"
     ]
    }
   ],
   "source": [
    "a = np.array([10, 20, 30])\n",
    "b = np.array([3,  7,   8])\n",
    "\n",
    "# rem = np.remainder(a, b)\n",
    "rem = np.mod(a, b)\n",
    "print(rem)  # Output: [1 6 6]"
   ]
  },
  {
   "cell_type": "code",
   "execution_count": 29,
   "id": "da2824ae-3c2a-498e-8010-fbc88c1b4c97",
   "metadata": {},
   "outputs": [
    {
     "name": "stdout",
     "output_type": "stream",
     "text": [
      "[3 2 3]\n"
     ]
    }
   ],
   "source": [
    "a = np.array([10, 20, 30])\n",
    "b = np.array([3,   7,   8])\n",
    "\n",
    "result = np.floor_divide(a, b)\n",
    "print(result)  # Output: [3 2 3] → [10//3, 20//7, 30//8]"
   ]
  },
  {
   "cell_type": "code",
   "execution_count": 30,
   "id": "4f70b7c3-c97b-479a-ba32-f5e429df4d67",
   "metadata": {},
   "outputs": [
    {
     "name": "stdout",
     "output_type": "stream",
     "text": [
      "16\n"
     ]
    }
   ],
   "source": [
    "# sum\n",
    "\n",
    "x = np.array([3, 2, 2, 4, -1 ,6]) \n",
    "\n",
    "print(np.sum(x)) "
   ]
  },
  {
   "cell_type": "code",
   "execution_count": 31,
   "id": "53ee1237-1159-4535-bfb8-5cf980d3637b",
   "metadata": {},
   "outputs": [
    {
     "name": "stdout",
     "output_type": "stream",
     "text": [
      "24\n"
     ]
    }
   ],
   "source": [
    "# prod(), cumsum(), cumprod(), diff()\n",
    "\n",
    "# Application:A person 3 outfit_options:  2 shirts, 3 pants, and 4 pairs of shoes.\n",
    "# Finding all possible combinations of items from different categories.\n",
    "arr = np.array([2, 3, 4]) \n",
    "result = np.prod(arr) # Total combinations = 2 * 3 * 4 = 24\n",
    "print(result)  # Output: 24 → 2*3*4"
   ]
  },
  {
   "cell_type": "code",
   "execution_count": 32,
   "id": "e4519372-4d3f-4132-877e-9673571ba8c4",
   "metadata": {},
   "outputs": [
    {
     "name": "stdout",
     "output_type": "stream",
     "text": [
      "[100 250 450 700]\n"
     ]
    }
   ],
   "source": [
    "# Tracking savings growth over time.\n",
    "arr = np.array([100, 150, 200, 250]) # monthly_savings\n",
    "result = np.cumsum(arr) # Calculate cumulative monthly savings.\n",
    "print(result)  "
   ]
  },
  {
   "cell_type": "code",
   "execution_count": 33,
   "id": "f8dd9494-1cc7-4c0d-bd1a-7bd2e029f79e",
   "metadata": {},
   "outputs": [
    {
     "name": "stdout",
     "output_type": "stream",
     "text": [
      "[1.1     1.155   1.1319  1.35828]\n"
     ]
    }
   ],
   "source": [
    "# Calculate cumulative return on investment where gains compound.\n",
    "# this is a return: # Example: Yearly return multipliers (e.g., 10% gain → 1.10)\n",
    "arr = np.array([1.10, 1.05, 0.98, 1.20]) \n",
    "result = np.cumprod(arr) # Cumulative compounded return\n",
    "print(result) "
   ]
  },
  {
   "cell_type": "code",
   "execution_count": 34,
   "id": "efc9a1c3-946e-4f82-abc7-4c5ac5c326cf",
   "metadata": {},
   "outputs": [
    {
     "name": "stdout",
     "output_type": "stream",
     "text": [
      "[ 5 15 -5  6]\n"
     ]
    }
   ],
   "source": [
    "# Use Case: Calculate daily increase in website traffic.\n",
    "arr = np.array([10, 15, 30, 25, 31]) # i.e. visitors \n",
    "result = np.diff(arr) # daily increase\n",
    "print(result)  "
   ]
  },
  {
   "cell_type": "code",
   "execution_count": null,
   "id": "f4655846-6fb6-4413-9bb8-fd6aca758c8a",
   "metadata": {},
   "outputs": [],
   "source": []
  }
 ],
 "metadata": {
  "kernelspec": {
   "display_name": "Python 3 (ipykernel)",
   "language": "python",
   "name": "python3"
  },
  "language_info": {
   "codemirror_mode": {
    "name": "ipython",
    "version": 3
   },
   "file_extension": ".py",
   "mimetype": "text/x-python",
   "name": "python",
   "nbconvert_exporter": "python",
   "pygments_lexer": "ipython3",
   "version": "3.9.9"
  }
 },
 "nbformat": 4,
 "nbformat_minor": 5
}
