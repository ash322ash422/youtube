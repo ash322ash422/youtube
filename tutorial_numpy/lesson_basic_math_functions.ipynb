{
 "cells": [
  {
   "cell_type": "code",
   "execution_count": 28,
   "id": "7bb139a4-e7f4-484c-a8b8-ad956a3db449",
   "metadata": {},
   "outputs": [],
   "source": [
    "import numpy as np"
   ]
  },
  {
   "cell_type": "code",
   "execution_count": 32,
   "id": "b7de719e-5c86-480a-9030-a81931b8b9e9",
   "metadata": {},
   "outputs": [
    {
     "name": "stdout",
     "output_type": "stream",
     "text": [
      "[[0.1 0.2 0.3]\n",
      " [0.4 0.5 0.6]]\n"
     ]
    }
   ],
   "source": [
    "# Element-wise operation: Add/Subtract/mutliply/divide by 10 \n",
    "x = np.array([[1, 2, 3],\n",
    "              [4, 5, 6]]\n",
    ") # 2D array of shape 2X3\n",
    "\n",
    "# res = x + 10\n",
    "# res = x - 10\n",
    "# res = x * 10\n",
    "res = x / 10\n",
    "\n",
    "print(res)"
   ]
  },
  {
   "cell_type": "code",
   "execution_count": null,
   "id": "1e2d0eb3-5509-49b0-880a-b2d755da52d1",
   "metadata": {},
   "outputs": [],
   "source": []
  },
  {
   "cell_type": "code",
   "execution_count": 33,
   "id": "46a57012-5238-4205-95d9-dea042f05cf8",
   "metadata": {},
   "outputs": [
    {
     "name": "stdout",
     "output_type": "stream",
     "text": [
      "Square:\n",
      " [[1.         1.41421356 1.73205081]\n",
      " [2.         2.23606798 2.44948974]]\n"
     ]
    }
   ],
   "source": [
    "# Elementwise operation: sqrt, power, exp, log\n",
    "x = np.array([[1, 2, 3],\n",
    "              [4, 5, 6]]\n",
    ") # 2D array of shape 2X3\n",
    "\n",
    "square_result = np.sqrt(x)\n",
    "print(\"Square:\\n\", square_result)"
   ]
  },
  {
   "cell_type": "code",
   "execution_count": 36,
   "id": "cd749efd-c24c-4085-8987-44650220c0ee",
   "metadata": {},
   "outputs": [
    {
     "name": "stdout",
     "output_type": "stream",
     "text": [
      "Power:\n",
      " [[ 1  4  9]\n",
      " [16 25 36]]\n"
     ]
    }
   ],
   "source": [
    "# Raise each element to the power of 2\n",
    "x = np.array([[1, 2, 3],\n",
    "              [4, 5, 6]]\n",
    ") # 2D array of shape 2X3\n",
    "\n",
    "power_result = np.power(x, 2)  \n",
    "print(\"Power:\\n\", power_result)"
   ]
  },
  {
   "cell_type": "code",
   "execution_count": 37,
   "id": "5a64145c-5a2f-42f9-a1c2-11634a8f7f7d",
   "metadata": {},
   "outputs": [
    {
     "name": "stdout",
     "output_type": "stream",
     "text": [
      "Exponential:\n",
      " [[  2.71828183   7.3890561   20.08553692]\n",
      " [ 54.59815003 148.4131591  403.42879349]]\n"
     ]
    }
   ],
   "source": [
    "# Computes e^x for each element. e is Euler number = 2.718...\n",
    "\n",
    "x = np.array([[1, 2, 3],\n",
    "              [4, 5, 6]]\n",
    ") # 2D array of shape 2X3\n",
    "\n",
    "exp_result = np.exp(x)  \n",
    "print(\"Exponential:\\n\", exp_result)"
   ]
  },
  {
   "cell_type": "code",
   "execution_count": 38,
   "id": "4c6b1d0a-7fcd-4d42-9dab-4e31c867db97",
   "metadata": {},
   "outputs": [
    {
     "name": "stdout",
     "output_type": "stream",
     "text": [
      "Natural Logarithm:\n",
      " [[0.         0.69314718 1.09861229]\n",
      " [1.38629436 1.60943791 1.79175947]]\n"
     ]
    }
   ],
   "source": [
    "# Computes the natural logarithm\n",
    "\n",
    "x = np.array([[1, 2, 3],\n",
    "              [4, 5, 6]]\n",
    ") # 2D array of shape 2X3\n",
    "\n",
    "log_result = np.log(x)  \n",
    "print(\"Natural Logarithm:\\n\", log_result)"
   ]
  },
  {
   "cell_type": "code",
   "execution_count": 39,
   "id": "881eede9-162d-4db9-9021-87b0a5f70e5e",
   "metadata": {},
   "outputs": [
    {
     "name": "stdout",
     "output_type": "stream",
     "text": [
      "Base-10 Logarithm:\n",
      " [[0.         0.30103    0.47712125]\n",
      " [0.60205999 0.69897    0.77815125]]\n"
     ]
    }
   ],
   "source": [
    "# Computes the base-10 logarithm\n",
    "\n",
    "x = np.array([[1, 2, 3],\n",
    "              [4, 5, 6]]\n",
    ") # 2D array of shape 2X3\n",
    "\n",
    "log10_result = np.log10(x)  \n",
    "print(\"Base-10 Logarithm:\\n\", log10_result)"
   ]
  },
  {
   "cell_type": "code",
   "execution_count": null,
   "id": "df1598ae-600e-409e-aea2-0e42ef088971",
   "metadata": {},
   "outputs": [],
   "source": []
  },
  {
   "cell_type": "code",
   "execution_count": 40,
   "id": "a4e74d3f-dab9-4d82-ae1c-1bb61b378352",
   "metadata": {},
   "outputs": [
    {
     "name": "stdout",
     "output_type": "stream",
     "text": [
      "Floor:\n",
      " [[1. 2. 3.]\n",
      " [4. 5. 6.]]\n",
      "Ceil:\n",
      " [[2. 3. 4.]\n",
      " [5. 6. 7.]]\n",
      "Round:\n",
      " [[1. 2. 3.]\n",
      " [4. 6. 7.]]\n"
     ]
    }
   ],
   "source": [
    "# Elementwise operation for rounding. There are 3 different kinds: floor, ceil, round\n",
    "\n",
    "x = np.array([[1.1, 2.2, 3.3],\n",
    "              [4.4, 5.5, 6.6]]\n",
    ") # 2D array of shape 2X3\n",
    "\n",
    "floor_result = np.floor(x)  # Rounds down\n",
    "print(\"Floor:\\n\", floor_result)\n",
    "\n",
    "ceil_result = np.ceil(x)    # Rounds up\n",
    "print(\"Ceil:\\n\", ceil_result)\n",
    "\n",
    "round_result = np.round(x)   # Rounds to nearest integer\n",
    "print(\"Round:\\n\", round_result)"
   ]
  },
  {
   "cell_type": "code",
   "execution_count": null,
   "id": "8e1422e1-8404-48f8-ac0f-526a7ba60806",
   "metadata": {},
   "outputs": [],
   "source": []
  },
  {
   "cell_type": "code",
   "execution_count": 41,
   "id": "1bac5116-9fb6-4087-9d5b-de5acb2395b4",
   "metadata": {},
   "outputs": [
    {
     "name": "stdout",
     "output_type": "stream",
     "text": [
      "[[7.         7.82842712]\n",
      " [8.46410162 9.        ]]\n"
     ]
    }
   ],
   "source": [
    "# A simple application: chaining\n",
    "# Suppose you have to sqrt all numbers, then multiply by 2 and then add 5 to all elements\n",
    "\n",
    "x = np.array(\n",
    "    [[1,2],\n",
    "     [3,4]]\n",
    ")\n",
    "\n",
    "res =  ( np.sqrt(x) * 2 ) + 5\n",
    "print(res)"
   ]
  },
  {
   "cell_type": "code",
   "execution_count": null,
   "id": "d9305f02-b57e-4bd6-b150-7b3eae6ae315",
   "metadata": {},
   "outputs": [],
   "source": []
  },
  {
   "cell_type": "code",
   "execution_count": 14,
   "id": "39aec5ce-43ec-4ecb-acb8-363a5cc7c4f5",
   "metadata": {},
   "outputs": [
    {
     "name": "stdout",
     "output_type": "stream",
     "text": [
      "[ 8  9 16]\n"
     ]
    }
   ],
   "source": [
    "# Lets say you want to raise every number in an array by some number that is present in different array\n",
    "a = np.array([2, 3, 4])\n",
    "b = np.array([3, 2, 2])\n",
    "\n",
    "result = np.power(a, b)\n",
    "print(result)  "
   ]
  },
  {
   "cell_type": "code",
   "execution_count": null,
   "id": "fd46e020-a536-4c0b-a3ab-b91e3f46c244",
   "metadata": {},
   "outputs": [],
   "source": []
  },
  {
   "cell_type": "code",
   "execution_count": 42,
   "id": "bb731d6d-e3ac-4767-90b9-d8892eab8c2f",
   "metadata": {},
   "outputs": [
    {
     "name": "stdout",
     "output_type": "stream",
     "text": [
      "[1 6 6]\n"
     ]
    }
   ],
   "source": [
    "# Lets say you want to find remainder for every number divided by some number that is present in different array\n",
    "a = np.array([10, 20, 30])\n",
    "b = np.array([3,  7,  8])\n",
    "\n",
    "# rem = np.remainder(a, b)\n",
    "rem = np.mod(a, b)\n",
    "print(rem)  "
   ]
  },
  {
   "cell_type": "code",
   "execution_count": 43,
   "id": "77c60233-cc08-4528-84a9-6bf44ab5d927",
   "metadata": {},
   "outputs": [
    {
     "name": "stdout",
     "output_type": "stream",
     "text": [
      "[3 2 3]\n"
     ]
    }
   ],
   "source": [
    "# Lets say you want to perform floor division on every number by numbers that are present in different array\n",
    "a = np.array([10, 20, 30])\n",
    "b = np.array([3,   7,  8])\n",
    "\n",
    "result = np.floor_divide(a, b)\n",
    "print(result)  "
   ]
  },
  {
   "cell_type": "code",
   "execution_count": 44,
   "id": "93fa6384-d777-4727-a61d-244e202769b2",
   "metadata": {},
   "outputs": [
    {
     "name": "stdout",
     "output_type": "stream",
     "text": [
      "16\n"
     ]
    }
   ],
   "source": [
    "# sum + cumsum\n",
    "x = np.array([3, 2, 2, 4, -1 ,6]) \n",
    "print(np.sum(x)) "
   ]
  },
  {
   "cell_type": "code",
   "execution_count": 45,
   "id": "2a2db6c5-183e-417e-a542-53b0f3cbb943",
   "metadata": {},
   "outputs": [
    {
     "name": "stdout",
     "output_type": "stream",
     "text": [
      "array  : [100 150 200 100  50]\n",
      "cum_sum: [100 250 450 550 600]\n"
     ]
    }
   ],
   "source": [
    "# Tracking savings growth over time.\n",
    "arr = np.array([100, 150, 200, 100, 50]) # monthly_savings\n",
    "print('array  :', arr)\n",
    "result = np.cumsum(arr) # Calculate cumulative monthly savings.\n",
    "print('cum_sum:', result)  "
   ]
  },
  {
   "cell_type": "code",
   "execution_count": null,
   "id": "8cf31ba0-d3ed-4280-b05b-efcc3c0961e0",
   "metadata": {},
   "outputs": [],
   "source": []
  },
  {
   "cell_type": "code",
   "execution_count": 46,
   "id": "de7fa73d-bc7f-4eee-bd4d-0f06e44cb00a",
   "metadata": {},
   "outputs": [
    {
     "name": "stdout",
     "output_type": "stream",
     "text": [
      "48\n"
     ]
    }
   ],
   "source": [
    "# prod(), cumprod()\n",
    "\n",
    "# Application:A person 4 outfit_options: 2 shirts, 3 pants, 4 pairs of shoes and 2 ties.\n",
    "# Finding all possible combinations of items from different categories.\n",
    "arr = np.array([2, 3, 4, 2]) \n",
    "result = np.prod(arr) # Total combinations = 2 * 3 * 4 * 2 = 48\n",
    "print(result)"
   ]
  },
  {
   "cell_type": "code",
   "execution_count": 48,
   "id": "579a4a17-d37b-4f46-8d77-72b264938a71",
   "metadata": {},
   "outputs": [
    {
     "name": "stdout",
     "output_type": "stream",
     "text": [
      "array : [1.1  1.05 0.98 1.2 ]\n",
      "result: [1.1     1.155   1.1319  1.35828]\n"
     ]
    }
   ],
   "source": [
    "# Calculate cumulative return on investment where gains compound.\n",
    "# this is a return: # Example: Yearly return multipliers (e.g., 10% gain → 1.10)\n",
    "arr = np.array([1.10, 1.05, 0.98, 1.20]) \n",
    "print(\"array :\", arr)\n",
    "result = np.cumprod(arr) # Cumulative compounded return\n",
    "print(\"result:\", result)  "
   ]
  },
  {
   "cell_type": "code",
   "execution_count": null,
   "id": "4c78816f-e127-46a0-a117-632ea4a96745",
   "metadata": {},
   "outputs": [],
   "source": []
  },
  {
   "cell_type": "code",
   "execution_count": 49,
   "id": "cd43fb73-714f-4d79-8d18-2118b50ae4c6",
   "metadata": {},
   "outputs": [
    {
     "name": "stdout",
     "output_type": "stream",
     "text": [
      "array : [10 15 30 25 31]\n",
      "result: [ 5 15 -5  6]\n"
     ]
    }
   ],
   "source": [
    "# diff() : Use Case-> Calculate daily increase in website traffic.\n",
    "\n",
    "arr = np.array([10, 15, 30, 25, 31]) # i.e. visitors \n",
    "print(\"array :\", arr)\n",
    "result = np.diff(arr) # daily increase/decrease\n",
    "print(\"result:\", result) "
   ]
  },
  {
   "cell_type": "code",
   "execution_count": null,
   "id": "0e040561-2d70-4f76-8902-6f43bfddfb1e",
   "metadata": {},
   "outputs": [],
   "source": []
  },
  {
   "cell_type": "code",
   "execution_count": null,
   "id": "ea5351a3-9257-4b72-a0fc-e92803a1a08d",
   "metadata": {},
   "outputs": [],
   "source": []
  }
 ],
 "metadata": {
  "kernelspec": {
   "display_name": "Python 3 (ipykernel)",
   "language": "python",
   "name": "python3"
  },
  "language_info": {
   "codemirror_mode": {
    "name": "ipython",
    "version": 3
   },
   "file_extension": ".py",
   "mimetype": "text/x-python",
   "name": "python",
   "nbconvert_exporter": "python",
   "pygments_lexer": "ipython3",
   "version": "3.9.9"
  }
 },
 "nbformat": 4,
 "nbformat_minor": 5
}
