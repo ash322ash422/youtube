{
 "cells": [
  {
   "cell_type": "code",
   "execution_count": 22,
   "id": "d18681cc-2c7f-47c8-8d9a-728311ab8db6",
   "metadata": {},
   "outputs": [],
   "source": [
    "import numpy as np\n",
    "import time\n",
    "import random\n",
    "from sys import getsizeof"
   ]
  },
  {
   "cell_type": "code",
   "execution_count": null,
   "id": "8276b9c3-1c5a-4e05-8fbc-26dffed8c44e",
   "metadata": {},
   "outputs": [],
   "source": []
  },
  {
   "cell_type": "code",
   "execution_count": 24,
   "id": "02007420-9df5-4f1d-9afc-a5ceade343ca",
   "metadata": {},
   "outputs": [
    {
     "name": "stdout",
     "output_type": "stream",
     "text": [
      "size of list in memory : 80056 bytes\n",
      "size of numpy in memory: 40112 bytes\n"
     ]
    }
   ],
   "source": [
    "# size\n",
    "n_elements = 10000 # 100000\n",
    "\n",
    "x_list = list(range(0, n_elements)) # or [x for x in range(n_elements)]\n",
    "# print(x_list)\n",
    "\n",
    "print(\"size of list in memory :\", getsizeof(x_list), \"bytes\")\n",
    "\n",
    "x_np = np.array(x_list) \n",
    "print(\"size of numpy in memory:\", getsizeof(x_np), \"bytes\")"
   ]
  },
  {
   "cell_type": "code",
   "execution_count": null,
   "id": "8fd8cd2a-4c7a-4d21-b398-5e1e1ec017f6",
   "metadata": {},
   "outputs": [],
   "source": []
  },
  {
   "cell_type": "code",
   "execution_count": 25,
   "id": "ba926d80-708b-4e29-b426-5ac4e372f399",
   "metadata": {},
   "outputs": [
    {
     "name": "stdout",
     "output_type": "stream",
     "text": [
      "1.015625\n",
      "[0, 1, 2, 3, 4, 5, 6, 7, 8, 9]\n",
      "[100, 101, 102, 103, 104, 105, 106, 107, 108, 109]\n"
     ]
    }
   ],
   "source": [
    "# add 100 to all elements in a list\n",
    "n_elements = 10000000 # ten million\n",
    "x_list = list(range(0, n_elements)) # or [x for x in range(n_elements)]\n",
    "\n",
    "start = time.process_time()\n",
    "x_new = []\n",
    "for e in x_list:\n",
    "    x_new.append(e + 100)\n",
    "end = time.process_time()\n",
    "\n",
    "print(end - start)\n",
    "print(x_list[:10])\n",
    "print(x_new[:10])"
   ]
  },
  {
   "cell_type": "code",
   "execution_count": 26,
   "id": "0b56bbfd-990c-4bab-9d9a-11f3c3bba5a2",
   "metadata": {},
   "outputs": [
    {
     "name": "stdout",
     "output_type": "stream",
     "text": [
      "0.0625\n"
     ]
    }
   ],
   "source": [
    "# add 100 to all elements in a numpy arrays\n",
    "n_elements = 10000000\n",
    "\n",
    "x_list  = list(range(0, n_elements))\n",
    "x_numpy = np.array(x_list)\n",
    "\n",
    "start = time.process_time()\n",
    "x_new = x_numpy + 100\n",
    "end   = time.process_time()\n",
    "\n",
    "print(end - start)"
   ]
  },
  {
   "cell_type": "code",
   "execution_count": 27,
   "id": "cb12cf69-c3e2-4a12-8d18-0aad362c8b80",
   "metadata": {},
   "outputs": [
    {
     "data": {
      "text/plain": [
       "16.16"
      ]
     },
     "execution_count": 27,
     "metadata": {},
     "output_type": "execute_result"
    }
   ],
   "source": [
    "# How fast\n",
    "1.01/.0625"
   ]
  },
  {
   "cell_type": "code",
   "execution_count": null,
   "id": "ec4b96b6-e884-4a14-bcec-0a9a741325e2",
   "metadata": {},
   "outputs": [],
   "source": []
  },
  {
   "cell_type": "code",
   "execution_count": 28,
   "id": "0a117eb0-dd96-450b-a158-4f853286396d",
   "metadata": {},
   "outputs": [
    {
     "name": "stdout",
     "output_type": "stream",
     "text": [
      "1.734375\n"
     ]
    }
   ],
   "source": [
    "# square all elements of list\n",
    "n_elements = 10000000 # ten million\n",
    "x_list = list(range(0, n_elements)) # or [x for x in range(n_elements)]\n",
    "\n",
    "start = time.process_time()\n",
    "x_new = []\n",
    "for e in x_list:\n",
    "    x_new.append(e ** 2)\n",
    "end = time.process_time()\n",
    "\n",
    "print(end - start)"
   ]
  },
  {
   "cell_type": "code",
   "execution_count": 29,
   "id": "85bad93a-8cbc-443c-a2b8-97c2893a6cb7",
   "metadata": {},
   "outputs": [
    {
     "name": "stdout",
     "output_type": "stream",
     "text": [
      "0.03125\n"
     ]
    }
   ],
   "source": [
    "# square all elements of numpy array\n",
    "n_elements = 10000000\n",
    "\n",
    "x_list  = list(range(0, n_elements))\n",
    "x_numpy = np.array(x_list)\n",
    "\n",
    "start = time.process_time()\n",
    "x_new = x_numpy ** 2\n",
    "end   = time.process_time()\n",
    "\n",
    "print(end - start)"
   ]
  },
  {
   "cell_type": "code",
   "execution_count": 30,
   "id": "daddd352-4457-465b-b839-38e6a6401b45",
   "metadata": {},
   "outputs": [
    {
     "data": {
      "text/plain": [
       "55.488"
      ]
     },
     "execution_count": 30,
     "metadata": {},
     "output_type": "execute_result"
    }
   ],
   "source": [
    "# how fast\n",
    "1.734/0.03125"
   ]
  },
  {
   "cell_type": "code",
   "execution_count": null,
   "id": "20d4c997-9a44-47f3-ad60-4681dbeb295b",
   "metadata": {},
   "outputs": [],
   "source": []
  },
  {
   "cell_type": "code",
   "execution_count": 31,
   "id": "9b5a5c1c-47e8-46a0-b809-d698a3b44368",
   "metadata": {},
   "outputs": [
    {
     "name": "stdout",
     "output_type": "stream",
     "text": [
      "1.178645372390747\n"
     ]
    }
   ],
   "source": [
    "# Using Python list\n",
    "n_elements = 10000000\n",
    "list1 = list(range(n_elements))\n",
    "list2 = list(range(n_elements))\n",
    "\n",
    "start = time.time()\n",
    "result_list = [x + y for x, y in zip(list1, list2)]\n",
    "end = time.time()\n",
    "\n",
    "print(end - start)\n"
   ]
  },
  {
   "cell_type": "code",
   "execution_count": 32,
   "id": "f52432ef-f992-4f44-a1de-7e85bedebd75",
   "metadata": {},
   "outputs": [
    {
     "name": "stdout",
     "output_type": "stream",
     "text": [
      "[0, 2, 4, 6, 8, 10, 12, 14, 16, 18]\n"
     ]
    }
   ],
   "source": [
    "print(result_list[:10])"
   ]
  },
  {
   "cell_type": "code",
   "execution_count": 33,
   "id": "86d81a4a-fd62-49db-bd9c-ad74addac5db",
   "metadata": {},
   "outputs": [
    {
     "name": "stdout",
     "output_type": "stream",
     "text": [
      "0.032011985778808594\n"
     ]
    }
   ],
   "source": [
    "# Using NumPy array\n",
    "arr1 = np.arange(n_elements)\n",
    "arr2 = np.arange(n_elements)\n",
    "\n",
    "start = time.time()\n",
    "result_array = arr1 + arr2  # vectorized operation\n",
    "end = time.time()\n",
    "\n",
    "print(end - start)"
   ]
  },
  {
   "cell_type": "code",
   "execution_count": 34,
   "id": "be491a76-bdf4-408c-be11-585b00a6af74",
   "metadata": {},
   "outputs": [
    {
     "data": {
      "text/plain": [
       "36.832499999999996"
      ]
     },
     "execution_count": 34,
     "metadata": {},
     "output_type": "execute_result"
    }
   ],
   "source": [
    "# how fast\n",
    "1.17864/ 0.032"
   ]
  },
  {
   "cell_type": "code",
   "execution_count": null,
   "id": "b8386994-84a5-457a-89cc-0fa4ac268f62",
   "metadata": {},
   "outputs": [],
   "source": []
  },
  {
   "cell_type": "code",
   "execution_count": null,
   "id": "443db3d6-4192-417d-b3a0-4d96c0484307",
   "metadata": {},
   "outputs": [],
   "source": []
  },
  {
   "cell_type": "code",
   "execution_count": 35,
   "id": "21ffc2b1-9901-48df-9f0b-2e3585548212",
   "metadata": {},
   "outputs": [
    {
     "name": "stdout",
     "output_type": "stream",
     "text": [
      "11.027619361877441\n"
     ]
    }
   ],
   "source": [
    "# Matrix multiplication with Python Lists\n",
    "\n",
    "N = 300 # 300 took 8 secs, 400 took 18 secs\n",
    "A_list = [[random.randint(1, 10) for _ in range(N)] for _ in range(N)]\n",
    "B_list = [[random.randint(1, 10) for _ in range(N)] for _ in range(N)]\n",
    "\n",
    "# Prepare empty result matrix\n",
    "result_list = [[0 for _ in range(N)] for _ in range(N)]\n",
    "\n",
    "start = time.time()\n",
    "for i in range(N):\n",
    "    for j in range(N):\n",
    "        for k in range(N):\n",
    "            result_list[i][j] += A_list[i][k] * B_list[k][j]\n",
    "end = time.time()\n",
    "\n",
    "print(end - start)"
   ]
  },
  {
   "cell_type": "code",
   "execution_count": 36,
   "id": "c9940821-a899-456d-89d2-858a741b8463",
   "metadata": {},
   "outputs": [
    {
     "name": "stdout",
     "output_type": "stream",
     "text": [
      "0.07850480079650879\n"
     ]
    }
   ],
   "source": [
    "#  Matrix multiplication with NumPy\n",
    "\n",
    "A_np = np.random.randint(1, 11, size=(N, N))\n",
    "B_np = np.random.randint(1, 11, size=(N, N))\n",
    "\n",
    "start = time.time()\n",
    "result_np = A_np @ B_np   # or A_np @ B_np, np.matmul(A_np, B_np)\n",
    "end = time.time()\n",
    "\n",
    "print(end - start)"
   ]
  },
  {
   "cell_type": "code",
   "execution_count": 37,
   "id": "0ca76743-fcfd-4527-8d1e-89f7bb166614",
   "metadata": {},
   "outputs": [
    {
     "data": {
      "text/plain": [
       "141.28205128205127"
      ]
     },
     "execution_count": 37,
     "metadata": {},
     "output_type": "execute_result"
    }
   ],
   "source": [
    "# how fast\n",
    "11.02/ 0.078"
   ]
  },
  {
   "cell_type": "code",
   "execution_count": null,
   "id": "f77ab483-4e76-4143-a033-a8216956f20a",
   "metadata": {},
   "outputs": [],
   "source": []
  }
 ],
 "metadata": {
  "kernelspec": {
   "display_name": "Python 3 (ipykernel)",
   "language": "python",
   "name": "python3"
  },
  "language_info": {
   "codemirror_mode": {
    "name": "ipython",
    "version": 3
   },
   "file_extension": ".py",
   "mimetype": "text/x-python",
   "name": "python",
   "nbconvert_exporter": "python",
   "pygments_lexer": "ipython3",
   "version": "3.9.9"
  }
 },
 "nbformat": 4,
 "nbformat_minor": 5
}
