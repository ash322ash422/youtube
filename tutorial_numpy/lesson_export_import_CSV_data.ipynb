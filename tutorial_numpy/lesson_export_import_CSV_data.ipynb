{
 "cells": [
  {
   "cell_type": "code",
   "execution_count": null,
   "id": "d4d158d7-84ca-46a7-8022-835212b51cf6",
   "metadata": {},
   "outputs": [],
   "source": [
    "import numpy as np"
   ]
  },
  {
   "cell_type": "code",
   "execution_count": 4,
   "id": "998180e8-bef5-4a4a-b7e2-f4b5ad35a3c8",
   "metadata": {},
   "outputs": [
    {
     "name": "stdout",
     "output_type": "stream",
     "text": [
      "[[7 1 5 4 9 7 6 4 8 4]\n",
      " [9 6 3 3 8 2 2 4 4 1]\n",
      " [4 7 4 5 1 8 4 9 3 8]\n",
      " [4 7 1 9 4 4 9 5 5 8]\n",
      " [6 6 8 6 5 5 9 6 5 9]\n",
      " [7 4 6 8 7 3 6 5 4 6]\n",
      " [3 2 5 4 9 3 1 7 1 5]\n",
      " [2 5 7 7 9 1 6 9 2 6]\n",
      " [3 1 6 9 9 8 3 9 4 1]\n",
      " [4 3 2 1 5 7 5 9 7 8]\n",
      " [8 7 3 4 5 7 1 7 7 7]\n",
      " [1 3 9 2 3 7 4 4 8 1]]\n"
     ]
    }
   ],
   "source": [
    "# create 2D data of shape 12X10 \n",
    "\n",
    "arr = np.random.randint(1, 10, size=(12,10))\n",
    "print(arr)"
   ]
  },
  {
   "cell_type": "code",
   "execution_count": 5,
   "id": "4232ad6f-8613-4731-8e40-daee135d738b",
   "metadata": {},
   "outputs": [],
   "source": [
    "# Export the arr to CSV file with comma delimiter\n",
    "\n",
    "np.savetxt(\"data_raw.csv\", arr, delimiter=\",\")"
   ]
  },
  {
   "cell_type": "code",
   "execution_count": null,
   "id": "68812f5b-4a27-460e-ab35-9d74e95d88ed",
   "metadata": {},
   "outputs": [],
   "source": []
  },
  {
   "cell_type": "code",
   "execution_count": 6,
   "id": "97d7356d-8b37-453c-8d96-a8be85cccbcf",
   "metadata": {},
   "outputs": [
    {
     "name": "stdout",
     "output_type": "stream",
     "text": [
      "[[7. 1. 5. 4. 9. 7. 6. 4. 8. 4.]\n",
      " [9. 6. 3. 3. 8. 2. 2. 4. 4. 1.]\n",
      " [4. 7. 4. 5. 1. 8. 4. 9. 3. 8.]\n",
      " [4. 7. 1. 9. 4. 4. 9. 5. 5. 8.]\n",
      " [6. 6. 8. 6. 5. 5. 9. 6. 5. 9.]\n",
      " [7. 4. 6. 8. 7. 3. 6. 5. 4. 6.]\n",
      " [3. 2. 5. 4. 9. 3. 1. 7. 1. 5.]\n",
      " [2. 5. 7. 7. 9. 1. 6. 9. 2. 6.]\n",
      " [3. 1. 6. 9. 9. 8. 3. 9. 4. 1.]\n",
      " [4. 3. 2. 1. 5. 7. 5. 9. 7. 8.]\n",
      " [8. 7. 3. 4. 5. 7. 1. 7. 7. 7.]\n",
      " [1. 3. 9. 2. 3. 7. 4. 4. 8. 1.]]\n",
      "float64\n"
     ]
    }
   ],
   "source": [
    "# Now lets import the above data from CSV file that we just created\n",
    "\n",
    "data = np.genfromtxt(\"data_raw.csv\", delimiter=\",\")\n",
    "print(data)\n",
    "print(data.dtype)"
   ]
  },
  {
   "cell_type": "code",
   "execution_count": 7,
   "id": "0eb04302-1e42-45ea-997a-438e82e04975",
   "metadata": {},
   "outputs": [
    {
     "name": "stdout",
     "output_type": "stream",
     "text": [
      "[[7 1 5 4 9 7 6 4 8 4]\n",
      " [9 6 3 3 8 2 2 4 4 1]\n",
      " [4 7 4 5 1 8 4 9 3 8]\n",
      " [4 7 1 9 4 4 9 5 5 8]\n",
      " [6 6 8 6 5 5 9 6 5 9]\n",
      " [7 4 6 8 7 3 6 5 4 6]\n",
      " [3 2 5 4 9 3 1 7 1 5]\n",
      " [2 5 7 7 9 1 6 9 2 6]\n",
      " [3 1 6 9 9 8 3 9 4 1]\n",
      " [4 3 2 1 5 7 5 9 7 8]\n",
      " [8 7 3 4 5 7 1 7 7 7]\n",
      " [1 3 9 2 3 7 4 4 8 1]]\n",
      "uint8\n"
     ]
    }
   ],
   "source": [
    "# OPTIONAL: Lets convert the above to dtype=np.uint8\n",
    "\n",
    "data = data.astype(np.uint8) # 0 - 255\n",
    "print(data)\n",
    "print(data.dtype)"
   ]
  },
  {
   "cell_type": "code",
   "execution_count": null,
   "id": "34e70e80-ead3-4877-abee-7d025759addf",
   "metadata": {},
   "outputs": [],
   "source": []
  },
  {
   "cell_type": "code",
   "execution_count": null,
   "id": "b59552eb-b3ab-425d-9aeb-9035645fe69f",
   "metadata": {},
   "outputs": [],
   "source": []
  }
 ],
 "metadata": {
  "kernelspec": {
   "display_name": "Python 3 (ipykernel)",
   "language": "python",
   "name": "python3"
  },
  "language_info": {
   "codemirror_mode": {
    "name": "ipython",
    "version": 3
   },
   "file_extension": ".py",
   "mimetype": "text/x-python",
   "name": "python",
   "nbconvert_exporter": "python",
   "pygments_lexer": "ipython3",
   "version": "3.9.9"
  }
 },
 "nbformat": 4,
 "nbformat_minor": 5
}
