{
 "cells": [
  {
   "cell_type": "code",
   "execution_count": 9,
   "id": "29c3e19a-e0cf-4d91-8a6e-9341a1c11b44",
   "metadata": {},
   "outputs": [],
   "source": [
    "import numpy as np"
   ]
  },
  {
   "cell_type": "code",
   "execution_count": 10,
   "id": "d1a35e4e-68cc-4346-a4ef-fde62ec27e65",
   "metadata": {},
   "outputs": [
    {
     "name": "stdout",
     "output_type": "stream",
     "text": [
      "[[ 6  9 12]\n",
      " [ 6  8 14]]\n"
     ]
    }
   ],
   "source": [
    "# Addition: A is 2x3 matrix, and B is 2X3 matrix\n",
    "\n",
    "A = np.array([[1, 2, 3],\n",
    "              [4, 5, 6]]\n",
    ") \n",
    "\n",
    "B = np.array([[5, 7, 9],\n",
    "              [2, 3, 8]]\n",
    ") \n",
    "\n",
    "result = A + B\n",
    "print(result)"
   ]
  },
  {
   "cell_type": "code",
   "execution_count": 11,
   "id": "d5fafe9f-5301-44d9-9f3b-bb25a1c636ee",
   "metadata": {},
   "outputs": [
    {
     "name": "stdout",
     "output_type": "stream",
     "text": [
      "[[-4 -5 -6]\n",
      " [ 2  2 -2]]\n"
     ]
    }
   ],
   "source": [
    "# Subtraction: A is 2x3 matrix, and B is 2X3 matrix\n",
    "\n",
    "A = np.array([[1, 2, 3],\n",
    "              [4, 5, 6]]\n",
    ") \n",
    "\n",
    "B = np.array([[5, 7, 9],\n",
    "              [2, 3, 8]]\n",
    ") \n",
    "\n",
    "result = A - B\n",
    "print(result)"
   ]
  },
  {
   "cell_type": "code",
   "execution_count": 14,
   "id": "4f48f813-43bf-42bd-a95c-f68346101423",
   "metadata": {},
   "outputs": [
    {
     "name": "stdout",
     "output_type": "stream",
     "text": [
      "Matrix multiplication:\n",
      " [[ 58  64]\n",
      " [139 154]]\n"
     ]
    }
   ],
   "source": [
    "# Multiplication e.g.1: A is 2x3 matrix, and B is 3X2 matrix. The product would be 2X2 matrix\n",
    "\n",
    "A = np.array([[1, 2, 3],\n",
    "              [4, 5, 6]])  # 2x3 matrix\n",
    "\n",
    "B = np.array([[7, 8],\n",
    "              [9, 10],\n",
    "              [11, 12]])    # 3x2 matrix\n",
    "\n",
    "# 3 ways to perform Matrix multiplication \n",
    "# result = A @ B \n",
    "# result = np.matmul(A, B) \n",
    "result = np.dot(A, B) # not a good way\n",
    "\n",
    "print(\"Matrix multiplication:\\n\", result)"
   ]
  },
  {
   "cell_type": "code",
   "execution_count": 15,
   "id": "926a24a4-4ebf-4b21-bb9e-989845c82ecb",
   "metadata": {},
   "outputs": [
    {
     "name": "stdout",
     "output_type": "stream",
     "text": [
      "Matrix multiplication:\n",
      " [[ 27  30  33]\n",
      " [ 61  68  75]\n",
      " [ 95 106 117]]\n"
     ]
    }
   ],
   "source": [
    "# Multiplication e.g.2: A is 3x2 matrix, and B is 2X3 matrix. The product would be 3X3 matrix\n",
    "\n",
    "A = np.array([[1, 2],\n",
    "              [3, 4],\n",
    "              [5, 6]])  # 3x2 matrix\n",
    "\n",
    "B = np.array([[7, 8, 9],\n",
    "              [10, 11, 12]])  # 2x3 matrix\n",
    "\n",
    "# 3 ways to perform Matrix multiplication \n",
    "result = A @ B \n",
    "# result = np.matmul(A, B) \n",
    "# result = np.dot(A, B) # not a good way\n",
    "\n",
    "print(\"Matrix multiplication:\\n\", result)"
   ]
  },
  {
   "cell_type": "code",
   "execution_count": 16,
   "id": "6fe5e5b1-0805-4e0d-ac52-481b3c027706",
   "metadata": {},
   "outputs": [
    {
     "name": "stdout",
     "output_type": "stream",
     "text": [
      "Matrix multiplication:\n",
      " [[ 27  30  33   7   3]\n",
      " [ 61  68  75  17   7]\n",
      " [ 95 106 117  27  11]]\n"
     ]
    }
   ],
   "source": [
    "# Multiplication e.g.3: A is 3x2 matrix, and B is 2X5 matrix. The product would be 3X5 matrix\n",
    "\n",
    "A = np.array([[1, 2],\n",
    "              [3, 4],\n",
    "              [5, 6]])  # 3x2 matrix\n",
    "\n",
    "B = np.array([[7,  8,  9,  3, 1],\n",
    "              [10, 11, 12, 2, 1]]\n",
    "            \n",
    "            )  # 2x5 matrix\n",
    "\n",
    "# 3 ways to perform Matrix multiplication \n",
    "result = A @ B \n",
    "# result = np.matmul(A, B) \n",
    "# result = np.dot(A, B) # not a good way\n",
    "\n",
    "print(\"Matrix multiplication:\\n\", result)"
   ]
  },
  {
   "cell_type": "code",
   "execution_count": null,
   "id": "ecf68761-334a-4749-abfc-914b7cfd9edc",
   "metadata": {},
   "outputs": [],
   "source": []
  },
  {
   "cell_type": "code",
   "execution_count": 17,
   "id": "1517f329-41ef-4cbf-aa57-c3c331d9c46e",
   "metadata": {},
   "outputs": [
    {
     "name": "stdout",
     "output_type": "stream",
     "text": [
      "8.0\n",
      "8.0\n"
     ]
    }
   ],
   "source": [
    "# Here we perform dot product between two vectors\n",
    "\n",
    "v = np.array([7,    8,    9]) # Candidate's scores on 3 subjects\n",
    "w = np.array([0.1, 0.8, 0.1]) #  Weights for each subject\n",
    "\n",
    "# Inner product of vectors; both produce same result\n",
    "print(np.dot(v, w)) # Weighted score calculation using dot product\n",
    "print(v.dot(w))"
   ]
  },
  {
   "cell_type": "code",
   "execution_count": 18,
   "id": "8e604a40-e95c-47e0-ac57-afa5cda05520",
   "metadata": {},
   "outputs": [
    {
     "name": "stdout",
     "output_type": "stream",
     "text": [
      "[23 53 83]\n"
     ]
    }
   ],
   "source": [
    "# Dot product between matrix and vector (order matters): A*x\n",
    "# If A is (m, n) and x is (n,), then np.dot(A, x) would have shape=(m,)\n",
    "\n",
    "A = np.array([[1, 2],\n",
    "              [3, 4],\n",
    "              [5, 6]])   # 3x2 matrix\n",
    "x = np.array([7, 8])     # 2-dimensional vector\n",
    "\n",
    "result = np.dot(A, x)    # shape: (3,)\n",
    "print(result) "
   ]
  },
  {
   "cell_type": "code",
   "execution_count": null,
   "id": "fe047188-bc40-460e-9d8f-b0248da83079",
   "metadata": {},
   "outputs": [],
   "source": []
  }
 ],
 "metadata": {
  "kernelspec": {
   "display_name": "Python 3 (ipykernel)",
   "language": "python",
   "name": "python3"
  },
  "language_info": {
   "codemirror_mode": {
    "name": "ipython",
    "version": 3
   },
   "file_extension": ".py",
   "mimetype": "text/x-python",
   "name": "python",
   "nbconvert_exporter": "python",
   "pygments_lexer": "ipython3",
   "version": "3.9.9"
  }
 },
 "nbformat": 4,
 "nbformat_minor": 5
}
