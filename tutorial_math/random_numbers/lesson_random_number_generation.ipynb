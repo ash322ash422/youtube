{
 "cells": [
  {
   "cell_type": "code",
   "execution_count": 10,
   "id": "7dc94db6-776e-42b6-9d38-7ee409adfcc9",
   "metadata": {},
   "outputs": [],
   "source": [
    "import numpy as np"
   ]
  },
  {
   "cell_type": "code",
   "execution_count": null,
   "id": "f059200b-3d44-4333-972c-eeb562f6508a",
   "metadata": {},
   "outputs": [],
   "source": []
  },
  {
   "cell_type": "code",
   "execution_count": 11,
   "id": "c5884f87-5589-4529-8eae-63641abee5eb",
   "metadata": {},
   "outputs": [
    {
     "name": "stdout",
     "output_type": "stream",
     "text": [
      "[7, 6, 1, 8, 11, 10, 5, 12, 15, 14]\n"
     ]
    }
   ],
   "source": [
    "# Linear Congruential Generator (LCG)\n",
    "# step1: Using plain python\n",
    "\n",
    "def lcg(seed, a=5, c=3, m=16, n=10):\n",
    "    numbers = [seed]\n",
    "    x = seed\n",
    "    for _ in range(n-1):\n",
    "        x = (a * x + c) % m\n",
    "        numbers.append(x)\n",
    "    return numbers\n",
    "\n",
    "\n",
    "# Call above. Generate 10 random numbers\n",
    "sequence = lcg(seed=7, n=10)\n",
    "print(sequence)\n",
    "\n",
    "# Above is OK for upto 10K random numbers. The speed would go down as numbers increase"
   ]
  },
  {
   "cell_type": "code",
   "execution_count": 12,
   "id": "bef6f834-06a3-4435-a659-b98ff3babdb3",
   "metadata": {},
   "outputs": [
    {
     "name": "stdout",
     "output_type": "stream",
     "text": [
      "[ 7  6  1  8 11 10  5 12 15 14]\n"
     ]
    }
   ],
   "source": [
    "# step2: Using numpy for generating 1 million+ random numbers\n",
    "\n",
    "def lcg_numpy(seed, a=5, c=3, m=16, n=10):\n",
    "    numbers = np.empty(n, dtype=np.int64)\n",
    "    numbers[0] = seed\n",
    "    for i in range(1, n):\n",
    "        numbers[i] = (a * numbers[i-1] + c) % m\n",
    "    return numbers\n",
    "\n",
    "# Call above. Generate 10 random numbers\n",
    "sequence = lcg_numpy(7, n=10)\n",
    "print(sequence)"
   ]
  },
  {
   "cell_type": "code",
   "execution_count": null,
   "id": "ff84ea23-42cc-44dc-a60a-da0e91a84fe9",
   "metadata": {},
   "outputs": [],
   "source": []
  },
  {
   "cell_type": "code",
   "execution_count": null,
   "id": "c725e19e-661f-412a-a1d7-5a90bbfca012",
   "metadata": {},
   "outputs": [],
   "source": []
  },
  {
   "cell_type": "code",
   "execution_count": 13,
   "id": "bb1080a2-ab97-46b6-bf98-dd339908f945",
   "metadata": {},
   "outputs": [
    {
     "name": "stdout",
     "output_type": "stream",
     "text": [
      "[5735 8902 2456  319 1017  342 1169 3665 4322 6796]\n"
     ]
    }
   ],
   "source": [
    "# Middle Square Method\n",
    "\n",
    "def middle_square(seed, n=10, width=4):\n",
    "    \"\"\"\n",
    "    seed  : initial seed (int)\n",
    "    n     : number of random numbers to generate\n",
    "    width : number of digits to keep (e.g., 4 → middle 4 digits)\n",
    "    \"\"\"\n",
    "    numbers = np.empty(n, dtype=np.int64)\n",
    "    x = seed\n",
    "    for i in range(n):\n",
    "        numbers[i] = x\n",
    "        sq = str(x * x).zfill(width * 2)  # ensure enough digits with leading zeros\n",
    "        mid = len(sq) // 2\n",
    "        x = int(sq[mid - width//2 : mid + width//2])\n",
    "    return numbers\n",
    "\n",
    "sequence = middle_square(seed=5735, n=10, width=4)\n",
    "print(sequence)\n"
   ]
  },
  {
   "cell_type": "code",
   "execution_count": null,
   "id": "cde88a56-3271-4cba-8bbd-38d77804840b",
   "metadata": {},
   "outputs": [],
   "source": []
  },
  {
   "cell_type": "code",
   "execution_count": 14,
   "id": "29ef688e-0432-41c3-b53e-4efc33fcd987",
   "metadata": {},
   "outputs": [
    {
     "name": "stdout",
     "output_type": "stream",
     "text": [
      "[ 5 25  9  4 16 25  9  4 16 25]\n"
     ]
    }
   ],
   "source": [
    "# Blum Blum Shub\n",
    "\n",
    "def bbs(seed, p, q, n=10):\n",
    "    \"\"\"\n",
    "    seed : initial value\n",
    "    p, q : large primes\n",
    "    n    : how many numbers to generate\n",
    "    \"\"\"\n",
    "    M = p * q\n",
    "    numbers = np.empty(n, dtype=np.int64)\n",
    "    x = seed\n",
    "    for i in range(n):\n",
    "        numbers[i] = x\n",
    "        x = (x * x) % M\n",
    "    return numbers\n",
    "\n",
    "sequence = bbs(seed=5, p=7, q=11, n=10)\n",
    "print(sequence)\n"
   ]
  },
  {
   "cell_type": "code",
   "execution_count": null,
   "id": "2eb2ef6d-8bbe-4b0f-b5eb-3513fc8c4adc",
   "metadata": {},
   "outputs": [],
   "source": []
  }
 ],
 "metadata": {
  "kernelspec": {
   "display_name": "Python 3 (ipykernel)",
   "language": "python",
   "name": "python3"
  },
  "language_info": {
   "codemirror_mode": {
    "name": "ipython",
    "version": 3
   },
   "file_extension": ".py",
   "mimetype": "text/x-python",
   "name": "python",
   "nbconvert_exporter": "python",
   "pygments_lexer": "ipython3",
   "version": "3.9.9"
  }
 },
 "nbformat": 4,
 "nbformat_minor": 5
}
