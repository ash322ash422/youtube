{
 "cells": [
  {
   "cell_type": "code",
   "execution_count": 1,
   "id": "960edeca-2166-4368-90d2-a50728965e11",
   "metadata": {},
   "outputs": [],
   "source": [
    "import numpy as np"
   ]
  },
  {
   "cell_type": "code",
   "execution_count": 2,
   "id": "fb3b7835-8091-43d0-b9f7-5468188e042f",
   "metadata": {},
   "outputs": [
    {
     "name": "stdout",
     "output_type": "stream",
     "text": [
      "[[5 3 7]\n",
      " [2 5 9]]\n",
      "[[5 2]\n",
      " [3 5]\n",
      " [7 9]]\n"
     ]
    }
   ],
   "source": [
    "# Transpose for 2D using array.T: nXm matrix becomes mXn matrix \n",
    "\n",
    "# Using x.T. It is best for 2D and commonly used in 2D\n",
    "# e.g.1: If shape of x is 2X3, then shape of x.T becomes 3X2\n",
    "x = np.array([\n",
    "    [5, 3, 7], \n",
    "    [2, 5 ,9]] \n",
    ")\n",
    "print(x)\n",
    "\n",
    "transpose = x.T\n",
    "print(transpose)  "
   ]
  },
  {
   "cell_type": "code",
   "execution_count": 3,
   "id": "de447c37-1e1f-401a-8ac9-d6182e2f10f9",
   "metadata": {},
   "outputs": [
    {
     "name": "stdout",
     "output_type": "stream",
     "text": [
      "[[6 2 3 4]\n",
      " [3 4 5 6]\n",
      " [7 8 5 9]]\n",
      "[[6 3 7]\n",
      " [2 4 8]\n",
      " [3 5 5]\n",
      " [4 6 9]]\n"
     ]
    }
   ],
   "source": [
    "# e.g.2: If shape of x is 3X4. Then shape of x.T is 4X3\n",
    "x = np.array([[6, 2, 3, 4],\n",
    "              [3, 4, 5, 6],\n",
    "              [7, 8, 5, 9]]\n",
    ")\n",
    "print(x)\n",
    "\n",
    "transpose = x.T\n",
    "print(transpose)  "
   ]
  },
  {
   "cell_type": "code",
   "execution_count": 4,
   "id": "96738ba1-0512-409d-beeb-db68c4eacb6d",
   "metadata": {},
   "outputs": [
    {
     "name": "stdout",
     "output_type": "stream",
     "text": [
      "[1 2 3]\n",
      "[1 2 3]\n"
     ]
    }
   ],
   "source": [
    "# e.g.3: Note that taking the transpose of a rank 1 array does nothing:\n",
    "v = np.array([1,2,3])\n",
    "print(v)    \n",
    "print(v.T)  "
   ]
  },
  {
   "cell_type": "code",
   "execution_count": 5,
   "id": "bd96b070-0b0d-496c-9abc-8c53bb9eac4d",
   "metadata": {},
   "outputs": [
    {
     "name": "stdout",
     "output_type": "stream",
     "text": [
      "[[1 2 3]\n",
      " [4 5 6]]\n",
      "[[1 4]\n",
      " [2 5]\n",
      " [3 6]]\n"
     ]
    }
   ],
   "source": [
    "# Transpose for 2D using np.transpose(): nXm matrix becomes mXn matrix \n",
    "\n",
    "# e.g.1: If shape of x is 2X3. Then shape of np.transpose(x) is 3X2\n",
    "x = np.array([[1, 2, 3], \n",
    "              [4, 5 ,6]] \n",
    ")\n",
    "print(x)\n",
    "\n",
    "transpose = np.transpose(x)\n",
    "print(transpose)  "
   ]
  },
  {
   "cell_type": "code",
   "execution_count": 6,
   "id": "19d00de5-f958-4da4-8db6-1f89bd9d1a27",
   "metadata": {},
   "outputs": [
    {
     "name": "stdout",
     "output_type": "stream",
     "text": [
      "[[6 2 3 4]\n",
      " [3 4 5 6]\n",
      " [7 8 5 9]]\n",
      "[[6 3 7]\n",
      " [2 4 8]\n",
      " [3 5 5]\n",
      " [4 6 9]]\n"
     ]
    }
   ],
   "source": [
    "# e.g.2: If shape of x is 3X4. Then shape of np.transpose(x) is 4X3\n",
    "x = np.array([[6, 2, 3, 4],\n",
    "              [3, 4, 5, 6],\n",
    "              [7, 8, 5, 9]]\n",
    ")\n",
    "print(x)\n",
    "\n",
    "transpose = np.transpose(x)\n",
    "print(transpose)"
   ]
  },
  {
   "cell_type": "code",
   "execution_count": null,
   "id": "5ae825ad-dca7-4d61-bfc8-9cc0e821afc4",
   "metadata": {},
   "outputs": [],
   "source": []
  }
 ],
 "metadata": {
  "kernelspec": {
   "display_name": "Python 3 (ipykernel)",
   "language": "python",
   "name": "python3"
  },
  "language_info": {
   "codemirror_mode": {
    "name": "ipython",
    "version": 3
   },
   "file_extension": ".py",
   "mimetype": "text/x-python",
   "name": "python",
   "nbconvert_exporter": "python",
   "pygments_lexer": "ipython3",
   "version": "3.9.9"
  }
 },
 "nbformat": 4,
 "nbformat_minor": 5
}
