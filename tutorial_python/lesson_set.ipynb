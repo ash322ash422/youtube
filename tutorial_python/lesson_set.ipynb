{
 "cells": [
  {
   "cell_type": "code",
   "execution_count": 12,
   "id": "26708d87-d6c2-4676-a492-2b2097c60bd8",
   "metadata": {},
   "outputs": [
    {
     "name": "stdout",
     "output_type": "stream",
     "text": [
      "{8, 10, 2, 4}\n",
      "<class 'set'>\n",
      "############\n"
     ]
    }
   ],
   "source": [
    "even = { 8, 4, 10, 2 }\n",
    "print(even) # elements are not printed in the same order in which they were entered\n",
    "print(type(even))\n",
    "print(\"############\")"
   ]
  },
  {
   "cell_type": "code",
   "execution_count": 14,
   "id": "ddc6c9b6-af3a-43fa-ab9a-768d6e72d82f",
   "metadata": {},
   "outputs": [
    {
     "name": "stdout",
     "output_type": "stream",
     "text": [
      "{'jupyter', 'saturn', 'mars'}\n",
      "{'jupyter', 'saturn', 'mars'}\n"
     ]
    }
   ],
   "source": [
    "# create set from elements of a list or tuple\n",
    "\n",
    "l = [\"mars\", \"jupyter\", \"saturn\"] # a list\n",
    "\n",
    "planets = set(l) # on list\n",
    "print(planets)  \n",
    "\n",
    "#####################\n",
    "t = (\"mars\", \"jupyter\", \"saturn\") # a tuple\n",
    "\n",
    "planets = set(t) # on tuple\n",
    "print(planets)  "
   ]
  },
  {
   "cell_type": "code",
   "execution_count": 17,
   "id": "380571c4-a110-4582-b6fe-a7e3f536f1d8",
   "metadata": {},
   "outputs": [
    {
     "name": "stdout",
     "output_type": "stream",
     "text": [
      "{8, 10, 2, 4}\n",
      "{'user2@example.com', 'user1@example.com'}\n"
     ]
    }
   ],
   "source": [
    "# Sets remove duplicates: lets add duplicates and set() will remove them\n",
    "even = {8, 4, 10, 2, 4, 4} \n",
    "print(even)\n",
    "\n",
    "###################\n",
    "# A simple but useful application of set:  You have list of items that contain some duplicate entries. Remove them using set.\n",
    "\n",
    "emails = [\"user1@example.com\", \"user2@example.com\", \"user1@example.com\", \"user1@example.com\"]\n",
    "unique_emails = set(emails)\n",
    "\n",
    "print(unique_emails)\n"
   ]
  },
  {
   "cell_type": "code",
   "execution_count": 18,
   "id": "af5c9919-70d1-4006-a844-6f2bcd125aa3",
   "metadata": {},
   "outputs": [
    {
     "ename": "TypeError",
     "evalue": "'set' object is not subscriptable",
     "output_type": "error",
     "traceback": [
      "\u001b[1;31m---------------------------------------------------------------------------\u001b[0m",
      "\u001b[1;31mTypeError\u001b[0m                                 Traceback (most recent call last)",
      "Cell \u001b[1;32mIn[18], line 3\u001b[0m\n\u001b[0;32m      1\u001b[0m \u001b[38;5;66;03m# cannot access elements of set using index: 'set' object is not subscriptable\u001b[39;00m\n\u001b[0;32m      2\u001b[0m planets \u001b[38;5;241m=\u001b[39m {\u001b[38;5;124m\"\u001b[39m\u001b[38;5;124mmars\u001b[39m\u001b[38;5;124m\"\u001b[39m, \u001b[38;5;124m\"\u001b[39m\u001b[38;5;124mjupyter\u001b[39m\u001b[38;5;124m\"\u001b[39m, \u001b[38;5;124m\"\u001b[39m\u001b[38;5;124msaturn\u001b[39m\u001b[38;5;124m\"\u001b[39m } \n\u001b[1;32m----> 3\u001b[0m \u001b[38;5;28mprint\u001b[39m(\u001b[43mplanets\u001b[49m\u001b[43m[\u001b[49m\u001b[38;5;241;43m2\u001b[39;49m\u001b[43m]\u001b[49m)  \n",
      "\u001b[1;31mTypeError\u001b[0m: 'set' object is not subscriptable"
     ]
    }
   ],
   "source": [
    "# cannot access elements of set using index: 'set' object is not subscriptable\n",
    "planets = {\"mars\", \"jupyter\", \"saturn\" } \n",
    "print(planets[2])  "
   ]
  },
  {
   "cell_type": "code",
   "execution_count": null,
   "id": "2a09a04f-ac98-4418-b6cd-8f1a0efd2a06",
   "metadata": {},
   "outputs": [],
   "source": []
  },
  {
   "cell_type": "code",
   "execution_count": 20,
   "id": "d6039d18-28f7-4755-b4a3-b5bbbdc0ce54",
   "metadata": {},
   "outputs": [
    {
     "name": "stdout",
     "output_type": "stream",
     "text": [
      "{'Sarah', 'Wurtzberger', 'Charlie', 'David'}\n",
      "{'Sarah', 'Wurtzberger', 'David'}\n"
     ]
    }
   ],
   "source": [
    "# add and remove elements\n",
    "\n",
    "guests = {\"Sarah\", \"Wurtzberger\", \"Charlie\"}\n",
    "\n",
    "guests.add(\"David\")  # Add a guest\n",
    "print(guests)\n",
    "\n",
    "##############\n",
    "guests.remove(\"Charlie\")  # Remove a guest\n",
    "print(guests)\n"
   ]
  },
  {
   "cell_type": "code",
   "execution_count": 21,
   "id": "f0808f93-a0e3-40ea-a332-dbfb7c685788",
   "metadata": {},
   "outputs": [
    {
     "name": "stdout",
     "output_type": "stream",
     "text": [
      "union       : {'Zena', 'Geeta', 'Alice', 'Charlie', 'Bob', 'David'}\n",
      "intersection: {'Zena', 'Bob'}\n",
      "difference1 : {'Charlie', 'Alice'}\n",
      "difference2 : {'Geeta', 'David'}\n"
     ]
    }
   ],
   "source": [
    "# Union, Intersection, Difference\n",
    "\n",
    "class_art = {\"Alice\", \"Bob\", \"Charlie\", \"Zena\"}\n",
    "class_gym = {\"Bob\", \"David\", \"Zena\", \"Geeta\"}\n",
    "\n",
    "# Union (All students)\n",
    "print(\"union       :\", class_art | class_gym)  \n",
    "\n",
    "# Intersection (Students in both classes)\n",
    "print(\"intersection:\", class_art & class_gym)  \n",
    "\n",
    "# Difference (Students only in class art and not in gym class)\n",
    "print(\"difference1 :\", class_art - class_gym)\n",
    "\n",
    "# Difference (Students only in class gym and not in art class)\n",
    "print(\"difference2 :\", class_gym - class_art)  "
   ]
  },
  {
   "cell_type": "code",
   "execution_count": 23,
   "id": "89334757-b538-49f5-9ad5-bd16df231a74",
   "metadata": {},
   "outputs": [
    {
     "name": "stdout",
     "output_type": "stream",
     "text": [
      "python3333 is NOT in the set.\n"
     ]
    }
   ],
   "source": [
    "# Checking if an element exists in a set.\n",
    "word_set = {\"python\", \"java\", \"c++\", \"javascript\"}\n",
    "\n",
    "srch = 'python3333'\n",
    "if srch in word_set:\n",
    "    print(f\"{srch} is in the set.\")\n",
    "else:\n",
    "    print(f\"{srch} is NOT in the set.\")"
   ]
  },
  {
   "cell_type": "code",
   "execution_count": null,
   "id": "4ce1816c-519f-4928-a0c8-8082bb34b597",
   "metadata": {},
   "outputs": [],
   "source": []
  }
 ],
 "metadata": {
  "kernelspec": {
   "display_name": "Python 3 (ipykernel)",
   "language": "python",
   "name": "python3"
  },
  "language_info": {
   "codemirror_mode": {
    "name": "ipython",
    "version": 3
   },
   "file_extension": ".py",
   "mimetype": "text/x-python",
   "name": "python",
   "nbconvert_exporter": "python",
   "pygments_lexer": "ipython3",
   "version": "3.9.9"
  }
 },
 "nbformat": 4,
 "nbformat_minor": 5
}
