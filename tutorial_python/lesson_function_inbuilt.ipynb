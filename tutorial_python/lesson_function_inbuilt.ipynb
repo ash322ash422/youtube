{
 "cells": [
  {
   "cell_type": "code",
   "execution_count": 34,
   "id": "1af0067d-0d0d-488a-a96f-fe89af285c94",
   "metadata": {},
   "outputs": [
    {
     "name": "stdout",
     "output_type": "stream",
     "text": [
      "the sum is 12\n"
     ]
    }
   ],
   "source": [
    "# STEP1: User does not supply input\n",
    "a = 5\n",
    "b = 7\n",
    "ans = a + b\n",
    "\n",
    "print(f\"the sum is {ans}\")\n"
   ]
  },
  {
   "cell_type": "code",
   "execution_count": 36,
   "id": "f64e3753-0ef7-405e-9666-6fe3a96ef248",
   "metadata": {},
   "outputs": [
    {
     "name": "stdin",
     "output_type": "stream",
     "text": [
      "enter your first number: 4\n",
      "enter your second number: 7\n"
     ]
    },
    {
     "name": "stdout",
     "output_type": "stream",
     "text": [
      "you entered 4 and 7\n",
      "The type of a is <class 'str'>. The type of b is <class 'str'>\n",
      "Your sum is 47\n"
     ]
    }
   ],
   "source": [
    "# STEP2: We want user to input data. Now user supplies input ( but output is not what was desired )\n",
    "\n",
    "a = input(\"enter your first number:\") # here a is str\n",
    "b = input(\"enter your second number:\") # here b is str\n",
    "\n",
    "# Lets print what the user entered\n",
    "print(f\"you entered {a} and {b}\")\n",
    "print(f\"The type of a is {type(a)}. The type of b is {type(b)}\")\n",
    "\n",
    "# And add the numbers\n",
    "ans = a + b # concatenates the string\n",
    "print(f\"Your sum is {ans}\") # ANSWER IS WRONG"
   ]
  },
  {
   "cell_type": "code",
   "execution_count": 37,
   "id": "c3fe8949-1f1a-47bd-b4d2-2ddf142e24b1",
   "metadata": {},
   "outputs": [
    {
     "name": "stdin",
     "output_type": "stream",
     "text": [
      "enter your first number: 4\n",
      "enter your second number: 7\n"
     ]
    },
    {
     "name": "stdout",
     "output_type": "stream",
     "text": [
      "Your sum is 11\n"
     ]
    }
   ],
   "source": [
    "# STEP3: convert a, b into data-type int using type casting\n",
    "a = input(\"enter your first number:\") # here a is str\n",
    "b = input(\"enter your second number:\") # here b is str\n",
    "\n",
    "a = int(a) # type cast\n",
    "b = int(b) # type cast\n",
    "\n",
    "ans = a + b\n",
    "\n",
    "print(f\"Your sum is {ans}\") # ANSWER IS RIGHT"
   ]
  },
  {
   "cell_type": "code",
   "execution_count": 38,
   "id": "527c5437-c54d-4221-a97b-88f8a621b8fe",
   "metadata": {},
   "outputs": [
    {
     "name": "stdin",
     "output_type": "stream",
     "text": [
      "enter your first number: 4\n",
      "enter your second number: 7\n"
     ]
    },
    {
     "name": "stdout",
     "output_type": "stream",
     "text": [
      "Your sum is 11\n"
     ]
    }
   ],
   "source": [
    "# STEP4: convert a, b into data-type int directly: Let's combine/wrap int on input: \n",
    "a = int(input(\"enter your first number:\")) # here a is int\n",
    "b = int(input(\"enter your second number:\")) # here b is int\n",
    "\n",
    "ans = a + b\n",
    "\n",
    "print(f\"Your sum is {ans}\") # ANSWER IS RIGHT"
   ]
  },
  {
   "cell_type": "code",
   "execution_count": 39,
   "id": "6fe35b07-d828-4434-b252-8c39a00e3af4",
   "metadata": {},
   "outputs": [
    {
     "name": "stdin",
     "output_type": "stream",
     "text": [
      "enter your first number: 4\n",
      "enter your second number: 7\n"
     ]
    },
    {
     "name": "stdout",
     "output_type": "stream",
     "text": [
      "Your product is 28\n"
     ]
    }
   ],
   "source": [
    "# Now I can perform all arithmetic operation on user supplied\n",
    "# numbers: multiply, divide, etc\n",
    "\n",
    "a = int(input(\"enter your first number:\")) # here a is int\n",
    "b = int(input(\"enter your second number:\")) # here b is int\n",
    "\n",
    "ans = a * b\n",
    "\n",
    "print(f\"Your product is {ans}\") # ANSWER IS RIGHT"
   ]
  },
  {
   "cell_type": "code",
   "execution_count": 41,
   "id": "14d22d38-82d0-4c93-8e94-7fc3be546f04",
   "metadata": {},
   "outputs": [
    {
     "name": "stdin",
     "output_type": "stream",
     "text": [
      "enter your first number 4.1\n",
      "enter your second number 5.8\n"
     ]
    },
    {
     "name": "stdout",
     "output_type": "stream",
     "text": [
      "you entered 4.1 and 5.8\n",
      "Your product is 23.779999999999998\n",
      "<class 'float'>\n"
     ]
    }
   ],
   "source": [
    "# Now user supplies input with float values.\n",
    "a = float(input(\"enter your first number\"))\n",
    "b = float(input(\"enter your second number\"))\n",
    "\n",
    "ans = a * b\n",
    "\n",
    "print(f\"you entered {a} and {b}\")\n",
    "print(f\"Your product is {ans}\")\n",
    "\n",
    "print(type(ans))"
   ]
  },
  {
   "cell_type": "code",
   "execution_count": 43,
   "id": "3a40bde4-a899-4a77-8917-53d200f73c30",
   "metadata": {},
   "outputs": [
    {
     "name": "stdout",
     "output_type": "stream",
     "text": [
      "11\n"
     ]
    }
   ],
   "source": [
    "# NOTE: We can convert only numbers to int...not text charaters\n",
    "# a = \"heebie-jeebie\" # ERROR\n",
    "a = \"11\"\n",
    "\n",
    "x = int(a) \n",
    "\n",
    "print(x)"
   ]
  },
  {
   "cell_type": "code",
   "execution_count": 47,
   "id": "ce4fbf24-03e6-4bc1-9ac4-045079e27d8c",
   "metadata": {},
   "outputs": [
    {
     "name": "stdout",
     "output_type": "stream",
     "text": [
      "4\n",
      "4\n",
      "3\n",
      "3\n"
     ]
    }
   ],
   "source": [
    "fruits = [\"Guava\", \"Kiwi\", \"Mango\", \"Kiwi\" ] # list\n",
    "print(len(fruits))\n",
    "\n",
    "fruits = (\"Guava\", \"Kiwi\", \"Mango\", \"Kiwi\") # tuple\n",
    "print(len(fruits))\n",
    "\n",
    "fruits = {\"Guava\", \"Kiwi\", \"Mango\"} # set\n",
    "print(len(fruits))\n",
    "\n",
    "scores = {\n",
    "    'Smith': 23,\n",
    "    'Sharma': 34,\n",
    "    'Lee': 23,\n",
    "}\n",
    "print(len(scores))"
   ]
  },
  {
   "cell_type": "code",
   "execution_count": 50,
   "id": "c5284fa0-09d0-4ce8-b86d-a0e622863240",
   "metadata": {},
   "outputs": [
    {
     "name": "stdout",
     "output_type": "stream",
     "text": [
      "Is 10 an integer? True\n"
     ]
    }
   ],
   "source": [
    "# Example 1: Checking if a variable is an integer\n",
    "data = 10\n",
    "check = isinstance(data, int)\n",
    "print(f\"Is {data} an integer? {check}\")  # Output: Is 10 an integer? True"
   ]
  },
  {
   "cell_type": "code",
   "execution_count": 53,
   "id": "2ee28830-0b86-4e38-80df-1f0bced02342",
   "metadata": {},
   "outputs": [
    {
     "name": "stdout",
     "output_type": "stream",
     "text": [
      "Is 'Hello' a string? True\n"
     ]
    }
   ],
   "source": [
    "# Example 2: Checking if a variable is a string\n",
    "data = \"Hello\"\n",
    "check = isinstance(data, str)\n",
    "print(f\"Is '{data}' a string? {check}\")  # Output: Is 'Hello' a string? True"
   ]
  },
  {
   "cell_type": "code",
   "execution_count": 56,
   "id": "57750c18-1429-41b3-b2ca-aea30ef122ed",
   "metadata": {},
   "outputs": [
    {
     "name": "stdout",
     "output_type": "stream",
     "text": [
      "Is [1, 2, 3] a list? True\n"
     ]
    }
   ],
   "source": [
    "# Example 3: Checking if a variable is a list\n",
    "data = [1, 2, 3]\n",
    "check = isinstance(data, list)\n",
    "print(f\"Is {data} a list? {check}\")  # Output: Is [1, 2, 3] a list? True"
   ]
  },
  {
   "cell_type": "code",
   "execution_count": 60,
   "id": "082d4bf6-0162-4313-b148-63bb46039bac",
   "metadata": {},
   "outputs": [
    {
     "name": "stdout",
     "output_type": "stream",
     "text": [
      "Is 3.14 an integer or a float? True\n"
     ]
    }
   ],
   "source": [
    "# Example 4: Checking if a variable is either an integer or a float\n",
    "data = 3.14\n",
    "check = isinstance(data, (int, float))\n",
    "print(f\"Is {data} an integer or a float? {check}\")  # Output: Is 3.14 an integer or a float? True"
   ]
  },
  {
   "cell_type": "code",
   "execution_count": 61,
   "id": "7177b7a7-cbcf-4c44-a56c-2befbc3bf3d6",
   "metadata": {},
   "outputs": [
    {
     "name": "stdout",
     "output_type": "stream",
     "text": [
      "Is {'name': 'Alice', 'age': 30} a dictionary? True\n"
     ]
    }
   ],
   "source": [
    "# Example 1: Checking if a variable is a dictionary\n",
    "data = {\"name\": \"Alice\", \"age\": 30}\n",
    "check = isinstance(data, dict)\n",
    "print(f\"Is {data} a dictionary? {check}\")  # Output: Is {'name': 'Alice', 'age': 30} a dictionary? True"
   ]
  },
  {
   "cell_type": "code",
   "execution_count": 62,
   "id": "d0a7006e-5e7e-43dc-879a-966907427202",
   "metadata": {},
   "outputs": [
    {
     "name": "stdout",
     "output_type": "stream",
     "text": [
      "Is {1, 2, 3} a set? True\n"
     ]
    }
   ],
   "source": [
    "# Example 2: Checking if a variable is a set\n",
    "data = {1, 2, 3}\n",
    "check = isinstance(data, set)\n",
    "print(f\"Is {data} a set? {check}\")  # Output: Is {1, 2, 3} a set? True"
   ]
  },
  {
   "cell_type": "code",
   "execution_count": 63,
   "id": "f9c9c88a-08a4-441e-babe-772111e09f4a",
   "metadata": {},
   "outputs": [
    {
     "name": "stdout",
     "output_type": "stream",
     "text": [
      "Item: cherry\n",
      "Item: kiwi\n",
      "Item: banana\n"
     ]
    }
   ],
   "source": [
    "sequence = ['cherry', 'kiwi', 'banana']\n",
    "\n",
    "#STEP1: without enumerate:\n",
    "for e in sequence:\n",
    "    print(f\"Item: {e}\")"
   ]
  },
  {
   "cell_type": "code",
   "execution_count": 65,
   "id": "7466e8d8-6fc7-4baf-83d4-218d6166109f",
   "metadata": {},
   "outputs": [
    {
     "name": "stdout",
     "output_type": "stream",
     "text": [
      "Index: 1 | Item: cherry\n",
      "Index: 2 | Item: kiwi\n",
      "Index: 3 | Item: banana\n"
     ]
    }
   ],
   "source": [
    "# STEP2: I want to put numbers in  front of data that is being printed, i.e. I want to enumerate\n",
    "i = 1\n",
    "for e in sequence:\n",
    "    print(f\"Index: {i} | Item: {e}\")\n",
    "    i += 1\n"
   ]
  },
  {
   "cell_type": "code",
   "execution_count": 66,
   "id": "a13ef38a-095b-4203-9db0-be7d0fb41982",
   "metadata": {},
   "outputs": [
    {
     "name": "stdout",
     "output_type": "stream",
     "text": [
      "Index: 1 | Item: cherry\n",
      "Index: 2 | Item: kiwi\n",
      "Index: 3 | Item: banana\n"
     ]
    }
   ],
   "source": [
    "# STEP3: Lets use enumerate function\n",
    "for i,e in enumerate(sequence, start=1):\n",
    "    print(f\"Index: {i} | Item: {e}\")"
   ]
  },
  {
   "cell_type": "code",
   "execution_count": 71,
   "id": "9ba38815-0604-454f-b8df-bb49ed467e04",
   "metadata": {},
   "outputs": [
    {
     "name": "stdout",
     "output_type": "stream",
     "text": [
      "Index: 1 | Item: ('Ram', 85)\n",
      "Index: 2 | Item: ('Carlos', 92)\n",
      "Index: 3 | Item: ('Roman', 78)\n"
     ]
    }
   ],
   "source": [
    "# The sequence could be list, tuple, set, dict\n",
    "\n",
    "# sequence = ['cherry', 'kiwi', 'banana']\n",
    "# sequence = ('cherry', 'kiwi', 'banana')\n",
    "# sequence = {'cherry', 'kiwi', 'banana', 'banana'}\n",
    "# sequence = \"Hello you\"\n",
    "\n",
    "student_scores = {\"Ram\": 85, \n",
    "                  \"Carlos\": 92, \n",
    "                  \"Roman\": 78\n",
    "}\n",
    "sequence = student_scores.items()\n",
    "\n",
    "for i,e in enumerate(sequence, start=1):\n",
    "    print(f\"Index: {i} | Item: {e}\")"
   ]
  },
  {
   "cell_type": "code",
   "execution_count": null,
   "id": "54491680-4276-4a90-8482-96e7f6302856",
   "metadata": {},
   "outputs": [],
   "source": []
  }
 ],
 "metadata": {
  "kernelspec": {
   "display_name": "Python 3 (ipykernel)",
   "language": "python",
   "name": "python3"
  },
  "language_info": {
   "codemirror_mode": {
    "name": "ipython",
    "version": 3
   },
   "file_extension": ".py",
   "mimetype": "text/x-python",
   "name": "python",
   "nbconvert_exporter": "python",
   "pygments_lexer": "ipython3",
   "version": "3.9.9"
  }
 },
 "nbformat": 4,
 "nbformat_minor": 5
}
