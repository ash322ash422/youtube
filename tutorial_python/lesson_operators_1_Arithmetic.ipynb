{
 "cells": [
  {
   "cell_type": "markdown",
   "metadata": {},
   "source": [
    "# Python Operators part 1\n",
    "### Topic:  Arithmetic"
   ]
  },
  {
   "cell_type": "markdown",
   "metadata": {},
   "source": [
    "### 1.  Arithmetic Operator +, - , *, /, //, %, **"
   ]
  },
  {
   "cell_type": "code",
   "execution_count": 1,
   "metadata": {},
   "outputs": [
    {
     "name": "stdout",
     "output_type": "stream",
     "text": [
      "11\n"
     ]
    }
   ],
   "source": [
    "# Addition\n",
    "x = 6\n",
    "y = 5\n",
    "\n",
    "res = x + y\n",
    "\n",
    "print(res) "
   ]
  },
  {
   "cell_type": "code",
   "execution_count": 2,
   "metadata": {},
   "outputs": [
    {
     "name": "stdout",
     "output_type": "stream",
     "text": [
      "11\n",
      "addition : 11\n"
     ]
    }
   ],
   "source": [
    "#or I can print addition without using variable res\n",
    "x = 6\n",
    "y = 5\n",
    "\n",
    "print(x + y) # style1\n",
    "print(f\"addition : { x + y }\") # style2: use f-string"
   ]
  },
  {
   "cell_type": "code",
   "execution_count": 3,
   "metadata": {},
   "outputs": [
    {
     "name": "stdout",
     "output_type": "stream",
     "text": [
      "1\n",
      "30\n"
     ]
    }
   ],
   "source": [
    "# Subtraction, multiplication\n",
    "x = 6\n",
    "y = 5\n",
    "\n",
    "print(x - y)\n",
    "print(x * y)"
   ]
  },
  {
   "cell_type": "code",
   "execution_count": 4,
   "metadata": {},
   "outputs": [
    {
     "name": "stdout",
     "output_type": "stream",
     "text": [
      "3.4\n",
      "3\n",
      "2\n"
     ]
    }
   ],
   "source": [
    "#Now lets perform Normal Division / , Modulo Division //, Remainder Division % \n",
    "x = 17\n",
    "y = 5\n",
    "\n",
    "print(x / y)  # Normal Division (/)\n",
    "print(x // y) # Modulo Division (//) --> Floor Division\n",
    "print(x % y)  # Remainder Division (%)"
   ]
  },
  {
   "cell_type": "code",
   "execution_count": 5,
   "metadata": {},
   "outputs": [
    {
     "name": "stdout",
     "output_type": "stream",
     "text": [
      "81\n"
     ]
    }
   ],
   "source": [
    "# My favorite: Exponentiation (**)\n",
    "\n",
    "# STEP1: small power\n",
    "x = 3\n",
    "y = 4\n",
    "\n",
    "print(x ** y)"
   ]
  },
  {
   "cell_type": "code",
   "execution_count": 6,
   "metadata": {},
   "outputs": [
    {
     "name": "stdout",
     "output_type": "stream",
     "text": [
      "12157665459056928801\n"
     ]
    }
   ],
   "source": [
    "# STEP2: Increase the power\n",
    "x = 3\n",
    "y = 40\n",
    "\n",
    "print(x ** y)"
   ]
  },
  {
   "cell_type": "code",
   "execution_count": 7,
   "metadata": {},
   "outputs": [
    {
     "name": "stdout",
     "output_type": "stream",
     "text": [
      "3055053912598508947549312393399320015114587255945938203336157885612484041009431069888461714759195551268559435567253681739042432883596095251201386787275483230684744081267827125833440603460902730356711375071354094223050737888829629366162631931903817637647689717474539783041913377052664360754530594685529992367990825283283974149969505378127988908031568501855509144132763267482753608051191973699171623938029652959112481486845481337238191540360720284661730596472758771447004611908440098952257078699946478448550527286513833176626948662169918947393179985715374284032316042361252971237912148029845209003214291118712054140346782303768450257172267231798011098225054231267262248662475182151309040596831972573353215246137318080262085035181877250579293515354614855964555777830248629948465567786086862810753702795567587162067253726096003964964500688100664251086317265876947315204732848217800469886468299762701072555744747779591654828652607439719426907428525310220609958805562225062879482109625089695394202628593497667989231655664335466686840002114903314366719176156379934652473163843885132940089748145111346970715322477428660266288621575724122801304127415652654106676287659899970936042983407271207522048301946054797801524409667398765473294408959679689184723792052760134847956855277232726822596118663268368339457701444058720789096452054802674735440411545784098932324643273016518451266202488737889642806430326763408371261207618736323003003074285732822242917868135329832468154778360696312466255598007468428021193037289627759263156774524144741442727509671028670105270271802796358516302383162038506066195947767590885980270531098318352386252200449553418183034106256724969986028116097882584686968836574809112315523792958340219637331628073406551777465246398555963295187086557808315091601583863758085230410601035610836375356201394730708447594526544296095311563361032030384261628391038148587272653017202863919268052007355101820880001\n"
     ]
    }
   ],
   "source": [
    "# STEP3: Lets crank it up\n",
    "x = 3\n",
    "y = 4000\n",
    "\n",
    "print(x ** y)"
   ]
  },
  {
   "cell_type": "code",
   "execution_count": null,
   "metadata": {
    "jupyter": {
     "source_hidden": true
    }
   },
   "outputs": [],
   "source": []
  },
  {
   "cell_type": "code",
   "execution_count": null,
   "metadata": {
    "jupyter": {
     "source_hidden": true
    }
   },
   "outputs": [],
   "source": []
  },
  {
   "cell_type": "markdown",
   "metadata": {},
   "source": [
    "# STOP"
   ]
  },
  {
   "cell_type": "code",
   "execution_count": null,
   "metadata": {
    "jupyter": {
     "source_hidden": true
    }
   },
   "outputs": [],
   "source": []
  },
  {
   "cell_type": "code",
   "execution_count": null,
   "metadata": {
    "jupyter": {
     "source_hidden": true
    }
   },
   "outputs": [],
   "source": []
  },
  {
   "cell_type": "code",
   "execution_count": null,
   "metadata": {
    "jupyter": {
     "source_hidden": true
    }
   },
   "outputs": [],
   "source": []
  },
  {
   "cell_type": "code",
   "execution_count": null,
   "metadata": {
    "jupyter": {
     "source_hidden": true
    }
   },
   "outputs": [],
   "source": []
  },
  {
   "cell_type": "code",
   "execution_count": null,
   "metadata": {
    "jupyter": {
     "source_hidden": true
    }
   },
   "outputs": [],
   "source": []
  },
  {
   "cell_type": "code",
   "execution_count": null,
   "metadata": {
    "jupyter": {
     "source_hidden": true
    }
   },
   "outputs": [],
   "source": []
  },
  {
   "cell_type": "code",
   "execution_count": null,
   "metadata": {
    "jupyter": {
     "source_hidden": true
    }
   },
   "outputs": [],
   "source": []
  },
  {
   "cell_type": "code",
   "execution_count": null,
   "metadata": {
    "jupyter": {
     "source_hidden": true
    }
   },
   "outputs": [],
   "source": []
  },
  {
   "cell_type": "code",
   "execution_count": null,
   "metadata": {
    "jupyter": {
     "source_hidden": true
    }
   },
   "outputs": [],
   "source": []
  },
  {
   "cell_type": "code",
   "execution_count": null,
   "metadata": {
    "jupyter": {
     "source_hidden": true
    }
   },
   "outputs": [],
   "source": []
  },
  {
   "cell_type": "code",
   "execution_count": null,
   "metadata": {
    "jupyter": {
     "source_hidden": true
    }
   },
   "outputs": [],
   "source": []
  },
  {
   "cell_type": "code",
   "execution_count": null,
   "metadata": {
    "jupyter": {
     "source_hidden": true
    }
   },
   "outputs": [],
   "source": []
  },
  {
   "cell_type": "code",
   "execution_count": null,
   "metadata": {
    "jupyter": {
     "source_hidden": true
    }
   },
   "outputs": [],
   "source": []
  },
  {
   "cell_type": "code",
   "execution_count": null,
   "metadata": {
    "jupyter": {
     "source_hidden": true
    }
   },
   "outputs": [],
   "source": []
  },
  {
   "cell_type": "code",
   "execution_count": null,
   "metadata": {
    "jupyter": {
     "source_hidden": true
    }
   },
   "outputs": [],
   "source": []
  },
  {
   "cell_type": "code",
   "execution_count": null,
   "metadata": {
    "jupyter": {
     "source_hidden": true
    }
   },
   "outputs": [],
   "source": []
  },
  {
   "cell_type": "code",
   "execution_count": null,
   "metadata": {
    "jupyter": {
     "source_hidden": true
    }
   },
   "outputs": [],
   "source": []
  },
  {
   "cell_type": "code",
   "execution_count": null,
   "metadata": {
    "jupyter": {
     "source_hidden": true
    }
   },
   "outputs": [],
   "source": []
  },
  {
   "cell_type": "code",
   "execution_count": null,
   "metadata": {
    "jupyter": {
     "source_hidden": true
    }
   },
   "outputs": [],
   "source": []
  },
  {
   "cell_type": "code",
   "execution_count": null,
   "metadata": {
    "jupyter": {
     "source_hidden": true
    }
   },
   "outputs": [],
   "source": []
  },
  {
   "cell_type": "code",
   "execution_count": null,
   "metadata": {
    "jupyter": {
     "source_hidden": true
    }
   },
   "outputs": [],
   "source": []
  },
  {
   "cell_type": "code",
   "execution_count": null,
   "metadata": {
    "jupyter": {
     "source_hidden": true
    }
   },
   "outputs": [],
   "source": []
  },
  {
   "cell_type": "code",
   "execution_count": null,
   "metadata": {
    "jupyter": {
     "source_hidden": true
    }
   },
   "outputs": [],
   "source": []
  },
  {
   "cell_type": "markdown",
   "metadata": {},
   "source": [
    "### (OPTIONAL): Order of Operators\n",
    "\n",
    "#### Python Operator Precedence (Highest to Lowest)\n",
    "Here’s the order in which Python evaluates operators:\n",
    "\n",
    "- ** (Exponentiation)\n",
    "\n",
    "- *, / (Multiplication and Division)\n",
    "\n",
    "- +, - (Addition and Subtraction)\n",
    "\n",
    "- Operators with the same precedence are evaluated left to right (except **, which is right to left)."
   ]
  },
  {
   "cell_type": "code",
   "execution_count": null,
   "metadata": {
    "jupyter": {
     "source_hidden": true
    }
   },
   "outputs": [],
   "source": [
    "a = 2\n",
    "b = 3\n",
    "c = 4\n",
    "\n",
    "result = a + b * c\n",
    "print(result)  # Output: 14\n",
    "\n",
    "print(\"####################\")\n",
    "# Now I want addition to happen before multiplication\n",
    "result = (a + b) * c\n",
    "print(result)  # Output: 20\n",
    "\n",
    "print(\"####################\")\n",
    "result = 2 ** 3 * 4  # = (2**3) * 4 = 8*4 = 32\n",
    "print(result)  # Output: 32\n",
    "\n",
    "print(\"####################\")\n",
    "result = 10 + 6 / 2 * 3 - 1\n",
    "print(result)  # Output: 18.0\n",
    "\n",
    "\n",
    "print(\"####################\")\n",
    "a = 30\n",
    "b = 10\n",
    "c = 20\n",
    "d = 5\n",
    "res = (a+b)*c/d\n",
    "print(res)"
   ]
  },
  {
   "cell_type": "code",
   "execution_count": null,
   "metadata": {
    "jupyter": {
     "source_hidden": true
    }
   },
   "outputs": [],
   "source": [
    "# SKIP: OPTIONAL: compares list\n",
    "a = [1,2,3]\n",
    "b = [1,2,3,4]\n",
    "print(b<a)\n",
    "\n",
    "####################\n",
    "# SKIP\n",
    "x = chr(12)\n",
    "y = chr(13)\n",
    "\n",
    "b = x < y\n",
    "\n",
    "print(b)"
   ]
  },
  {
   "cell_type": "code",
   "execution_count": null,
   "metadata": {
    "jupyter": {
     "source_hidden": true
    }
   },
   "outputs": [],
   "source": []
  }
 ],
 "metadata": {
  "kernelspec": {
   "display_name": "Python 3 (ipykernel)",
   "language": "python",
   "name": "python3"
  },
  "language_info": {
   "codemirror_mode": {
    "name": "ipython",
    "version": 3
   },
   "file_extension": ".py",
   "mimetype": "text/x-python",
   "name": "python",
   "nbconvert_exporter": "python",
   "pygments_lexer": "ipython3",
   "version": "3.9.9"
  }
 },
 "nbformat": 4,
 "nbformat_minor": 4
}
