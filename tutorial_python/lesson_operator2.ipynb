{
 "cells": [
  {
   "cell_type": "code",
   "execution_count": 2,
   "id": "6744fd43-f9dc-41fe-a013-a483068ccd0d",
   "metadata": {},
   "outputs": [
    {
     "name": "stdout",
     "output_type": "stream",
     "text": [
      "True\n",
      "False\n",
      "False\n",
      "False\n",
      "#######################\n",
      "True\n",
      "False\n"
     ]
    }
   ],
   "source": [
    "# and operator: if every single condition is True then it will return True, else it will return False \n",
    "print(True  and True)\n",
    "print(True  and False)\n",
    "print(False and True)\n",
    "print(False and False)\n",
    "\n",
    "\n",
    "print(\"#######################\")\n",
    "print(True  and True and True  and True)\n",
    "print(True  and True and False and True)"
   ]
  },
  {
   "cell_type": "code",
   "execution_count": 3,
   "id": "b306abaf-541c-4c59-9b96-7cc4d585d7c6",
   "metadata": {},
   "outputs": [
    {
     "name": "stdout",
     "output_type": "stream",
     "text": [
      "False\n"
     ]
    }
   ],
   "source": [
    "# example1: Check if age is between 20 and 30\n",
    "age = 60\n",
    "\n",
    "res = age > 20 and age < 30 \n",
    "# res = True  and   False\n",
    "\n",
    "print(res)"
   ]
  },
  {
   "cell_type": "code",
   "execution_count": 4,
   "id": "b741eeb8-2dfb-4f74-89ba-3c88da5258d2",
   "metadata": {},
   "outputs": [
    {
     "name": "stdout",
     "output_type": "stream",
     "text": [
      "True\n"
     ]
    }
   ],
   "source": [
    "# example2: Check if age and income satisfy some condition\n",
    "age = 25 \n",
    "income = 20000\n",
    "\n",
    "# Check if age > 20 and income > 15000\n",
    "res = age > 20 and income > 15000 \n",
    "# res = True      and    True\n",
    "\n",
    "print(res)"
   ]
  },
  {
   "cell_type": "code",
   "execution_count": 5,
   "id": "f4349d5e-7a91-49d7-8c63-ce5bd226a7a8",
   "metadata": {},
   "outputs": [
    {
     "name": "stdout",
     "output_type": "stream",
     "text": [
      "False\n"
     ]
    }
   ],
   "source": [
    "age = 25 \n",
    "income = 20000\n",
    "\n",
    "# Check if age > 30 and income < 15000\n",
    "res = age > 30 and income < 15000 \n",
    "# res =  False   and   False\n",
    "\n",
    "print(res)"
   ]
  },
  {
   "cell_type": "code",
   "execution_count": 6,
   "id": "6118d720-aeaf-46dd-b172-faa5382cd10f",
   "metadata": {},
   "outputs": [
    {
     "name": "stdout",
     "output_type": "stream",
     "text": [
      "True\n",
      "True\n",
      "True\n",
      "False\n"
     ]
    }
   ],
   "source": [
    "# or condition: if a single condition is True then  it will return True else it will return False\n",
    "print(True  or True)\n",
    "print(True  or False)\n",
    "print(False or True)\n",
    "print(False or False)\n"
   ]
  },
  {
   "cell_type": "code",
   "execution_count": 8,
   "id": "c351a27b-85fd-4fbc-b058-dcb8d94002af",
   "metadata": {},
   "outputs": [
    {
     "name": "stdout",
     "output_type": "stream",
     "text": [
      "True\n",
      "True\n",
      "False\n"
     ]
    }
   ],
   "source": [
    "print(True  or True  or True  or True)\n",
    "print(True  or True  or False or True)\n",
    "print(False or False or False or False)\n",
    "\n"
   ]
  },
  {
   "cell_type": "code",
   "execution_count": 9,
   "id": "b7a74295-909b-49ba-88d4-bb6744f13f80",
   "metadata": {},
   "outputs": [
    {
     "name": "stdout",
     "output_type": "stream",
     "text": [
      "True\n"
     ]
    }
   ],
   "source": [
    "# EXAMPLE1: determine if age is out range [30 to 60]\n",
    "age = 5\n",
    "\n",
    "res = age < 30 or age > 60 \n",
    "# res = True   or False\n",
    "\n",
    "print(res)"
   ]
  },
  {
   "cell_type": "code",
   "execution_count": 12,
   "id": "b5442984-4f69-4e4b-934a-cf0d7650d6fd",
   "metadata": {},
   "outputs": [
    {
     "name": "stdout",
     "output_type": "stream",
     "text": [
      "False\n"
     ]
    }
   ],
   "source": [
    "# EXAMPLE2: check age and name\n",
    "age = 5\n",
    "name = 'jerry'\n",
    "\n",
    "# res = age < 30 or name == 'tinku' # True or False\n",
    "# res = age < 30 or name == 'jerry' # True or True\n",
    "res = age > 30 or name == 'TINKU' # False or False\n",
    "\n",
    "\n",
    "print(res)"
   ]
  },
  {
   "cell_type": "code",
   "execution_count": 13,
   "id": "de0f9132-9262-49d5-a4dc-ec303ce50c26",
   "metadata": {},
   "outputs": [
    {
     "name": "stdout",
     "output_type": "stream",
     "text": [
      "True\n"
     ]
    }
   ],
   "source": [
    "# combine or +  and\n",
    "\n",
    "# example1: Extra charge if high consumption(more than 500 W) and either urban area or AC is used.\n",
    "units_used = 520 # power consume\n",
    "area = 'urban'\n",
    "has_air_conditioner = True\n",
    "\n",
    "res = units_used > 500 and (area == 'urban' or has_air_conditioner) \n",
    "# res =  True         and  (   True        or        True)\n",
    "\n",
    "print(res)"
   ]
  },
  {
   "cell_type": "code",
   "execution_count": 14,
   "id": "f180cfd1-7baa-4b31-9781-d3d8aacd6910",
   "metadata": {},
   "outputs": [
    {
     "name": "stdout",
     "output_type": "stream",
     "text": [
      "False\n"
     ]
    }
   ],
   "source": [
    "# example2: checks either if both subjects(science+math) score are > 40 or total score exceed 95.\n",
    "math_score = 21\n",
    "science_score = 65\n",
    "\n",
    "res = (math_score > 40 and science_score > 40) or (math_score + science_score > 95) \n",
    "# res = (False        and           True     ) or (   False  )\n",
    "\n",
    "print(res)"
   ]
  },
  {
   "cell_type": "code",
   "execution_count": 15,
   "id": "196006f8-d971-4ed7-a2b0-9d1623142034",
   "metadata": {},
   "outputs": [
    {
     "name": "stdout",
     "output_type": "stream",
     "text": [
      "True\n"
     ]
    }
   ],
   "source": [
    "math_score = 33\n",
    "science_score = 65\n",
    "\n",
    "res = (math_score > 40 and science_score > 40) or (math_score + science_score > 95) \n",
    "# res = (False       and      True           ) or ( True )\n",
    "\n",
    "print(res)"
   ]
  },
  {
   "cell_type": "code",
   "execution_count": null,
   "id": "16868691-5683-4875-8cde-93936d57b436",
   "metadata": {},
   "outputs": [],
   "source": []
  },
  {
   "cell_type": "code",
   "execution_count": 21,
   "id": "2ca7be9d-ae68-43be-b562-ecb5a47e99ed",
   "metadata": {},
   "outputs": [
    {
     "name": "stdout",
     "output_type": "stream",
     "text": [
      "True\n",
      "False\n",
      "True\n",
      "False\n",
      "False\n"
     ]
    }
   ],
   "source": [
    "# Print not a is False \n",
    "print(True)\n",
    "print(not True)\n",
    "print(not False)\n",
    "\n",
    "# ################\n",
    "a = True\n",
    "print(not a)\n",
    "# ################\n",
    "\n",
    "#example: check if user is admin\n",
    "user = 'admin'\n",
    "res = not (user == 'admin')\n",
    "\n",
    "print(res)"
   ]
  },
  {
   "cell_type": "code",
   "execution_count": null,
   "id": "a8e40c07-7bd8-45eb-b78e-c5d14c3d7689",
   "metadata": {},
   "outputs": [],
   "source": []
  },
  {
   "cell_type": "code",
   "execution_count": 23,
   "id": "476aac47-f353-425f-8ac2-b6c80c7aca1d",
   "metadata": {},
   "outputs": [
    {
     "name": "stdout",
     "output_type": "stream",
     "text": [
      "True\n",
      "False\n"
     ]
    }
   ],
   "source": [
    "#STEP1:  check if a substring is present inside another string\n",
    "sentence = 'University of Miami'\n",
    "\n",
    "res = 'Mia' in sentence\n",
    "print(res)\n",
    "\n",
    "res = 'Mia' not in sentence\n",
    "print(res)"
   ]
  },
  {
   "cell_type": "code",
   "execution_count": 24,
   "id": "6a4fcff2-8fe9-433f-9c93-9f852dec6aae",
   "metadata": {},
   "outputs": [
    {
     "name": "stdout",
     "output_type": "stream",
     "text": [
      "False\n",
      "True\n"
     ]
    }
   ],
   "source": [
    "# STEP2: Now I change Mia -> mia\n",
    "\n",
    "# check if a substring is present inside another string\n",
    "sentence = 'University of Miami'\n",
    "\n",
    "res = 'mia' in sentence\n",
    "print(res)\n",
    "\n",
    "\n",
    "res = 'mia' not in sentence\n",
    "print(res)"
   ]
  },
  {
   "cell_type": "code",
   "execution_count": 26,
   "id": "54eef71c-d346-4ff8-9284-1795ea6eeef8",
   "metadata": {},
   "outputs": [
    {
     "name": "stdout",
     "output_type": "stream",
     "text": [
      "True\n",
      "False\n"
     ]
    }
   ],
   "source": [
    "# check if element is present inside a container\n",
    "lst = [1, 3, 5, 2]\n",
    "\n",
    "print(1 in lst)\n",
    "print(9 in lst)"
   ]
  },
  {
   "cell_type": "code",
   "execution_count": null,
   "id": "22a83fa0-06ac-4c2b-9537-096b39be4dd9",
   "metadata": {},
   "outputs": [],
   "source": []
  },
  {
   "cell_type": "code",
   "execution_count": 27,
   "id": "5a65a8ea-2966-4901-af08-53f7132ef78d",
   "metadata": {},
   "outputs": [
    {
     "name": "stdout",
     "output_type": "stream",
     "text": [
      "False\n",
      "True\n"
     ]
    }
   ],
   "source": [
    "a = 3\n",
    "b = 6\n",
    "\n",
    "print(a is b) # checks if a and b are living in same memory address\n",
    "print(a is not b) # this would negate the above 'is' operator"
   ]
  },
  {
   "cell_type": "code",
   "execution_count": 28,
   "id": "c63de7fb-c5cc-4e2f-b84a-8c0d791f24b5",
   "metadata": {},
   "outputs": [
    {
     "name": "stdout",
     "output_type": "stream",
     "text": [
      "2589919963504\n",
      "2589919963600\n"
     ]
    }
   ],
   "source": [
    "# where is it stored ?\n",
    "a = 3\n",
    "b = 6\n",
    "\n",
    "print(id(a))\n",
    "print(id(b))"
   ]
  },
  {
   "cell_type": "code",
   "execution_count": 29,
   "id": "9f69757f-c3b1-4a98-9341-3b8dd945f344",
   "metadata": {},
   "outputs": [
    {
     "name": "stdout",
     "output_type": "stream",
     "text": [
      "True\n",
      "2589919963504\n",
      "2589919963504\n"
     ]
    }
   ],
   "source": [
    "a = 3\n",
    "b = 3\n",
    "print(a is b)\n",
    "\n",
    "print(id(a))\n",
    "print(id(b))"
   ]
  },
  {
   "cell_type": "code",
   "execution_count": 31,
   "id": "e111d05f-8507-4f48-8c19-c38099bb7adb",
   "metadata": {},
   "outputs": [
    {
     "name": "stdout",
     "output_type": "stream",
     "text": [
      "True\n",
      "2589919963504\n",
      "2589919963504\n"
     ]
    }
   ],
   "source": [
    "a = 3\n",
    "b = a\n",
    "print(a is b) \n",
    "\n",
    "print(id(a))\n",
    "print(id(b))"
   ]
  },
  {
   "cell_type": "code",
   "execution_count": null,
   "id": "bc4258cf-2d38-4bb5-be9e-d405f685fdfd",
   "metadata": {},
   "outputs": [],
   "source": []
  }
 ],
 "metadata": {
  "kernelspec": {
   "display_name": "Python 3 (ipykernel)",
   "language": "python",
   "name": "python3"
  },
  "language_info": {
   "codemirror_mode": {
    "name": "ipython",
    "version": 3
   },
   "file_extension": ".py",
   "mimetype": "text/x-python",
   "name": "python",
   "nbconvert_exporter": "python",
   "pygments_lexer": "ipython3",
   "version": "3.9.9"
  }
 },
 "nbformat": 4,
 "nbformat_minor": 5
}
