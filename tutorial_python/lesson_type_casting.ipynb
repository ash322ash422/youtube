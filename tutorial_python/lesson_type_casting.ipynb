{
 "cells": [
  {
   "cell_type": "markdown",
   "id": "02364d5a-2968-4674-a522-6c2f43a1648f",
   "metadata": {},
   "source": [
    "# Type casting: changing one data type to another."
   ]
  },
  {
   "cell_type": "code",
   "execution_count": 15,
   "id": "6fc84940-b8a1-41ce-99e8-7849920c8edd",
   "metadata": {},
   "outputs": [
    {
     "name": "stdout",
     "output_type": "stream",
     "text": [
      "type of a is <class 'int'>\n",
      "type of b is <class 'float'>\n",
      "type of c is <class 'complex'>\n"
     ]
    }
   ],
   "source": [
    "# implicit type casting: python automatically converts data types when its safe.\n",
    "a = 6\n",
    "b = 3.8\n",
    "c = 1 + 2j\n",
    "\n",
    "# Lets print above using f-string\n",
    "print(f\"type of a is {type(a)}\")\n",
    "print(f\"type of b is {type(b)}\")\n",
    "print(f\"type of c is {type(c)}\")"
   ]
  },
  {
   "cell_type": "code",
   "execution_count": null,
   "id": "b9ef6d38-4d11-450e-96fc-8349c6aa9743",
   "metadata": {
    "jupyter": {
     "source_hidden": true
    }
   },
   "outputs": [],
   "source": []
  },
  {
   "cell_type": "markdown",
   "id": "3a998a83-13f1-47f5-9984-7d5b87811300",
   "metadata": {},
   "source": [
    "# convert string to int or float and vice-versa"
   ]
  },
  {
   "cell_type": "code",
   "execution_count": 18,
   "id": "875ca868-a2e8-441f-b28e-56998f632642",
   "metadata": {},
   "outputs": [
    {
     "name": "stdout",
     "output_type": "stream",
     "text": [
      "<class 'str'>\n",
      "<class 'int'>\n",
      "1.0\n"
     ]
    }
   ],
   "source": [
    "# convert str to int\n",
    "# step1: \n",
    "x = \"10\"\n",
    "print(type(x))\n",
    "# print(x / 10) # ERROR\n",
    "\n",
    "\n",
    "# step2: now convert str into int\n",
    "x = int(x)\n",
    "print(type(x))\n",
    "print(x / 10) "
   ]
  },
  {
   "cell_type": "code",
   "execution_count": 20,
   "id": "44f0f44e-11bd-4dba-9364-db366b560997",
   "metadata": {},
   "outputs": [
    {
     "name": "stdout",
     "output_type": "stream",
     "text": [
      "<class 'float'>\n",
      "3.1399999999999997\n"
     ]
    }
   ],
   "source": [
    "# convert str to float\n",
    "x = \"15.7\"\n",
    "# print(x / 10) # ERROR\n",
    "\n",
    "x = float(x)\n",
    "print(type(x))\n",
    "print(x / 5) "
   ]
  },
  {
   "cell_type": "code",
   "execution_count": 23,
   "id": "0280c583-3fa6-47a7-b346-41502b2dc1b4",
   "metadata": {},
   "outputs": [],
   "source": [
    "# can only convert valid number string to int or float\n",
    "x = \"heebie jeebie\"\n",
    "\n",
    "# x = int(x) # ERROR\n",
    "# x = float(x) # ERROR"
   ]
  },
  {
   "cell_type": "code",
   "execution_count": 24,
   "id": "64e5cdd7-3371-46e3-b5e2-f89bd9f4b91d",
   "metadata": {},
   "outputs": [
    {
     "name": "stdout",
     "output_type": "stream",
     "text": [
      "32\n",
      "<class 'str'>\n"
     ]
    }
   ],
   "source": [
    "# convert int or float to string\n",
    "x = 32 # 32.6\n",
    "x = str(x)\n",
    "\n",
    "print(x)\n",
    "print(type(x))"
   ]
  },
  {
   "cell_type": "code",
   "execution_count": null,
   "id": "21546778-ea03-4699-91e8-9fe547f76b88",
   "metadata": {
    "jupyter": {
     "source_hidden": true
    }
   },
   "outputs": [],
   "source": []
  },
  {
   "cell_type": "markdown",
   "id": "799487de-8a5c-4d9b-a4ee-e3be738f43f0",
   "metadata": {},
   "source": [
    "# convert float to int and vice-versa"
   ]
  },
  {
   "cell_type": "code",
   "execution_count": 25,
   "id": "f95bc84a-48c5-4598-8298-869a82eb8b0f",
   "metadata": {},
   "outputs": [
    {
     "name": "stdout",
     "output_type": "stream",
     "text": [
      "10\n"
     ]
    }
   ],
   "source": [
    "# convert float -> int . It truncates the decimal part\n",
    "x = 10.7 # float\n",
    "\n",
    "x = int(x) # covert it into int\n",
    "print(x)"
   ]
  },
  {
   "cell_type": "code",
   "execution_count": 27,
   "id": "29b60a2d-b7c8-4406-8aa4-f38e2adaa30b",
   "metadata": {},
   "outputs": [
    {
     "name": "stdout",
     "output_type": "stream",
     "text": [
      "10.0\n",
      "<class 'float'>\n"
     ]
    }
   ],
   "source": [
    "# convert int to float\n",
    "x = 10 \n",
    "\n",
    "x = float(x) # covert it into int\n",
    "print(x)\n",
    "print(type(x))"
   ]
  },
  {
   "cell_type": "code",
   "execution_count": null,
   "id": "130da15b-1c91-4b4f-95cd-8089c34fe023",
   "metadata": {
    "jupyter": {
     "source_hidden": true
    }
   },
   "outputs": [],
   "source": []
  },
  {
   "cell_type": "markdown",
   "id": "bd94b776-6acc-49f7-bb4a-7f7dd4359bb6",
   "metadata": {},
   "source": [
    "# Boolean type-casting: Empty values are False; non-empty values are True."
   ]
  },
  {
   "cell_type": "code",
   "execution_count": 28,
   "id": "e55e38bc-7f4d-48e6-ba70-a67d3948412b",
   "metadata": {},
   "outputs": [
    {
     "name": "stdout",
     "output_type": "stream",
     "text": [
      "False\n",
      "True\n",
      "False\n",
      "True\n"
     ]
    }
   ],
   "source": [
    "# Boolean type-casting: Empty values are False; non-empty values are True.\n",
    "print(bool(0))       # False\n",
    "print(bool(42))      # True\n",
    "print(bool(\"\"))      # False\n",
    "print(bool(\"Hello\")) # True"
   ]
  },
  {
   "cell_type": "code",
   "execution_count": null,
   "id": "63b650a1-13bb-43d6-a717-b9ab5baba88e",
   "metadata": {
    "jupyter": {
     "source_hidden": true
    }
   },
   "outputs": [],
   "source": []
  },
  {
   "cell_type": "markdown",
   "id": "ce5828d1-2998-4bbb-9c39-202ba05aa635",
   "metadata": {},
   "source": [
    "# container type-casting: list(), tuple(), set() Conversions"
   ]
  },
  {
   "cell_type": "code",
   "execution_count": 31,
   "id": "1aecf0b2-4373-496a-b5f2-a7fbe14e0b5b",
   "metadata": {},
   "outputs": [
    {
     "name": "stdout",
     "output_type": "stream",
     "text": [
      "(5, 3, 2, 9)\n",
      "<class 'tuple'>\n",
      "[5, 3, 2, 9]\n",
      "<class 'list'>\n"
     ]
    }
   ],
   "source": [
    "numbers = [5, 3, 2, 9]\n",
    "\n",
    "# numbers = set(numbers)\n",
    "# print(numbers)\n",
    "# print(type(numbers))\n",
    "\n",
    "numbers = tuple(numbers)\n",
    "print(numbers)\n",
    "print(type(numbers))\n",
    "\n",
    "numbers = list(numbers)\n",
    "print(numbers)\n",
    "print(type(numbers))"
   ]
  },
  {
   "cell_type": "code",
   "execution_count": null,
   "id": "c76fa236-c226-4b8b-97d7-8a11e34b730a",
   "metadata": {
    "jupyter": {
     "source_hidden": true
    }
   },
   "outputs": [],
   "source": []
  }
 ],
 "metadata": {
  "kernelspec": {
   "display_name": "Python 3 (ipykernel)",
   "language": "python",
   "name": "python3"
  },
  "language_info": {
   "codemirror_mode": {
    "name": "ipython",
    "version": 3
   },
   "file_extension": ".py",
   "mimetype": "text/x-python",
   "name": "python",
   "nbconvert_exporter": "python",
   "pygments_lexer": "ipython3",
   "version": "3.9.9"
  }
 },
 "nbformat": 4,
 "nbformat_minor": 5
}
