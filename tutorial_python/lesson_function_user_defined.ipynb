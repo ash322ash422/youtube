{
 "cells": [
  {
   "cell_type": "code",
   "execution_count": 20,
   "id": "61a8c9c5-1ea5-4ad6-a665-2cf7f2c64ed3",
   "metadata": {},
   "outputs": [
    {
     "name": "stdout",
     "output_type": "stream",
     "text": [
      "Hello, welcome to the Python class!\n",
      "You are going to enjoy this\n",
      "################\n",
      "Hello, welcome to the Python class!\n",
      "You are going to enjoy this\n",
      "******************\n",
      "Hello, welcome to the Python class!\n",
      "You are going to enjoy this\n",
      "Hello, welcome to the Python class!\n",
      "You are going to enjoy this\n"
     ]
    }
   ],
   "source": [
    "## 1. Basic Function (No Parameters, No Return)\n",
    "def greet(): \n",
    "    \"\"\"This function prints a greeting message.\"\"\"\n",
    "    print(\"Hello, welcome to the Python class!\")\n",
    "    print(\"You are going to enjoy this\") \n",
    "\n",
    "\n",
    "# Call the function\n",
    "greet()\n",
    "\n",
    "print(\"################\")\n",
    "greet()\n",
    "\n",
    "print(\"******************\")\n",
    "greet()\n",
    "greet()\n"
   ]
  },
  {
   "cell_type": "code",
   "execution_count": null,
   "id": "f352a827-66bb-4207-a9cb-40ac0fe2c65b",
   "metadata": {},
   "outputs": [],
   "source": []
  },
  {
   "cell_type": "code",
   "execution_count": 23,
   "id": "aaaf2259-d2d3-4d30-91b1-5b20e428cf6b",
   "metadata": {},
   "outputs": [
    {
     "name": "stdout",
     "output_type": "stream",
     "text": [
      "Hello, Rahim! Welcome to the Python class.\n",
      "Today you will learn python\n",
      "Hello, Tanwar! Welcome to the Python class.\n",
      "Today you will learn python\n",
      "Hello, Zena! Welcome to the Python class.\n",
      "Today you will learn python\n"
     ]
    }
   ],
   "source": [
    "# 2. Function with Parameters, no return values\n",
    "def greet_person(name):\n",
    "    \"\"\"This function greets a person by name.\n",
    "       It uses f-string\n",
    "    \"\"\"\n",
    "    print(f\"Hello, {name}! Welcome to the Python class.\")\n",
    "    print(\"Today you will learn python\")\n",
    "    \n",
    "\n",
    "# Call the function with an argument\n",
    "greet_person(\"Rahim\")\n",
    "\n",
    "greet_person(\"Tanwar\")\n",
    "greet_person(\"Zena\")\n"
   ]
  },
  {
   "cell_type": "code",
   "execution_count": null,
   "id": "b9f5962b-a15d-4a33-bab0-14a16842363f",
   "metadata": {},
   "outputs": [],
   "source": []
  },
  {
   "cell_type": "code",
   "execution_count": 24,
   "id": "419f11b5-bbd6-4a57-be42-ad71c7756563",
   "metadata": {},
   "outputs": [
    {
     "name": "stdout",
     "output_type": "stream",
     "text": [
      "The sum is: 8\n"
     ]
    }
   ],
   "source": [
    "# 3. Function with paramters and return Value\n",
    "# STEP1\n",
    "def add(a, b):\n",
    "    \"\"\"This function returns the sum of two numbers.\"\"\"\n",
    "    ans = a + b\n",
    "    return ans\n",
    "\n",
    "# Store and print the result\n",
    "n1 = 5 \n",
    "n2 = 3 \n",
    "\n",
    "result = add(n1, n2)\n",
    "print(f\"The sum is: {result}\")"
   ]
  },
  {
   "cell_type": "code",
   "execution_count": 25,
   "id": "ca626632-64c6-457f-a338-2fec8230fe78",
   "metadata": {},
   "outputs": [
    {
     "name": "stdin",
     "output_type": "stream",
     "text": [
      "Enter your first number: 5\n",
      "Enter your second number: 3\n"
     ]
    },
    {
     "name": "stdout",
     "output_type": "stream",
     "text": [
      "The sum is: 8\n"
     ]
    }
   ],
   "source": [
    "# STEP2: or get input from user\n",
    "def add(a, b):\n",
    "    \"\"\"This function returns the sum of two numbers.\"\"\"\n",
    "    ans = a + b\n",
    "    return ans\n",
    "\n",
    "# Store and print the result\n",
    "n1 = int(input(\"Enter your first number:\"))\n",
    "n2 = int(input(\"Enter your second number:\"))\n",
    "\n",
    "result = add(n1, n2)\n",
    "print(f\"The sum is: {result}\")"
   ]
  },
  {
   "cell_type": "code",
   "execution_count": null,
   "id": "0d366716-cf39-4355-a22e-73571d1f2621",
   "metadata": {},
   "outputs": [],
   "source": []
  },
  {
   "cell_type": "code",
   "execution_count": 27,
   "id": "297b58b7-a6e0-474b-b5c5-cd63d3096f08",
   "metadata": {},
   "outputs": [
    {
     "name": "stdout",
     "output_type": "stream",
     "text": [
      "100.0\n",
      "The simple interest on $1000.00 at a rate of 5.00% for 2 years is: $100.00\n"
     ]
    }
   ],
   "source": [
    "# example:\n",
    "\n",
    "def calculate_simple_interest(principal, rate, time):\n",
    "    simple_interest = principal * rate * time\n",
    "    return simple_interest\n",
    "\n",
    "# Example usage of calculate_simple_interest\n",
    "p = 1000\n",
    "r = 0.05\n",
    "t = 2\n",
    "interest = calculate_simple_interest(p, r, t)\n",
    "print(interest)\n",
    "\n",
    "# Or use below for more meaningful message\n",
    "print(f\"The simple interest on ${p:.2f} at a rate of {r*100:.2f}% for {t} years is: ${interest:.2f}\")"
   ]
  },
  {
   "cell_type": "code",
   "execution_count": null,
   "id": "81ff3e1e-462d-4562-8c95-dd6f13551b65",
   "metadata": {},
   "outputs": [],
   "source": []
  },
  {
   "cell_type": "code",
   "execution_count": 31,
   "id": "15ab6dff-01cc-422f-b0c5-12b55c8cb9c2",
   "metadata": {},
   "outputs": [
    {
     "name": "stdout",
     "output_type": "stream",
     "text": [
      "7\n"
     ]
    }
   ],
   "source": [
    "# 4. Function with default parameters\n",
    "\n",
    "#e.g.1\n",
    "def add(a=0, b=0): # a=0, b=0 are default values \n",
    "    ans = a + b \n",
    "    return ans\n",
    "\n",
    "# result = add()\n",
    "# result = add(3) # here a=3 and default value of b=0\n",
    "result = add(3, 4)\n",
    "\n",
    "print(result)"
   ]
  },
  {
   "cell_type": "code",
   "execution_count": 33,
   "id": "de26c593-adee-4f02-a901-b45a973a1aa9",
   "metadata": {},
   "outputs": [
    {
     "name": "stdout",
     "output_type": "stream",
     "text": [
      "The 3 to the power of 4 is 81\n"
     ]
    }
   ],
   "source": [
    "# APPLICATION (OPTIONAL): e.g.2\n",
    "\n",
    "def power(base, exponent=2):\n",
    "    ans = base ** exponent\n",
    "    return ans\n",
    "\n",
    "# Calling the function\n",
    "# res = power(3)\n",
    "# print(f\"The 3 to the power of 2 is {res}\")      # Uses default exponent 2\n",
    " \n",
    "res = power(3, 4)\n",
    "print(f\"The 3 to the power of 4 is {res}\")      # Uses provided exponent 4\n"
   ]
  },
  {
   "cell_type": "code",
   "execution_count": null,
   "id": "ea098e3d-6f86-4886-a91b-91756f1cb154",
   "metadata": {},
   "outputs": [],
   "source": []
  },
  {
   "cell_type": "code",
   "execution_count": 37,
   "id": "3fbb3fb5-0512-499a-bd58-ad38130ad967",
   "metadata": {},
   "outputs": [
    {
     "name": "stdout",
     "output_type": "stream",
     "text": [
      "(50, 30, 100000)\n",
      "Area: 50, Perimeter: 30, Price: 100000\n"
     ]
    }
   ],
   "source": [
    "# 5. Function with Multiple Return Values\n",
    "def rectangle_properties(length, width):\n",
    "    area      = length * width\n",
    "    perimeter = 2 * (length + width)\n",
    "    price     = 2000 * area\n",
    "    return area, perimeter, price\n",
    "\n",
    "# Call the function and unpack results\n",
    "result = rectangle_properties(5, 10)\n",
    "print(result)\n",
    "\n",
    "ar   = result[0]\n",
    "peri = result[1]\n",
    "pri  = result[2] \n",
    "print(f\"Area: {ar}, Perimeter: {peri}, Price: {pri}\")"
   ]
  },
  {
   "cell_type": "code",
   "execution_count": null,
   "id": "5507e976-19b7-412f-9ca8-42cceb7f2d9a",
   "metadata": {},
   "outputs": [],
   "source": []
  },
  {
   "cell_type": "code",
   "execution_count": null,
   "id": "1d2f55c3-0e64-4800-bffb-ca5553888ebf",
   "metadata": {},
   "outputs": [],
   "source": []
  }
 ],
 "metadata": {
  "kernelspec": {
   "display_name": "Python 3 (ipykernel)",
   "language": "python",
   "name": "python3"
  },
  "language_info": {
   "codemirror_mode": {
    "name": "ipython",
    "version": 3
   },
   "file_extension": ".py",
   "mimetype": "text/x-python",
   "name": "python",
   "nbconvert_exporter": "python",
   "pygments_lexer": "ipython3",
   "version": "3.9.9"
  }
 },
 "nbformat": 4,
 "nbformat_minor": 5
}
