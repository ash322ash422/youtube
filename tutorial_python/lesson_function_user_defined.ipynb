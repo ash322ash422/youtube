{
 "cells": [
  {
   "cell_type": "code",
   "execution_count": 3,
   "id": "3625eca1-cc92-4d53-af03-af57ff1c8056",
   "metadata": {},
   "outputs": [
    {
     "name": "stdout",
     "output_type": "stream",
     "text": [
      "Hello, welcome to the Python class!\n",
      "You are going to enjoy this\n",
      "Hello, welcome to the Python class!\n",
      "You are going to enjoy this\n",
      "******************\n",
      "Hello, welcome to the Python class!\n",
      "You are going to enjoy this\n",
      "Hello, welcome to the Python class!\n",
      "You are going to enjoy this\n"
     ]
    }
   ],
   "source": [
    "## 1. Basic Function (No Parameters, No Return)\n",
    "def greet(): \n",
    "    \"\"\"This function prints a greeting message.\"\"\"\n",
    "    print(\"Hello, welcome to the Python class!\")\n",
    "    print(\"You are going to enjoy this\") \n",
    "\n",
    "\n",
    "# Call the function\n",
    "greet()\n",
    "# print(\"################\")\n",
    "greet()\n",
    "print(\"******************\")\n",
    "greet()\n",
    "greet()\n"
   ]
  },
  {
   "cell_type": "code",
   "execution_count": 6,
   "id": "10222c88-eca3-4ba9-bbe7-de35788aac99",
   "metadata": {},
   "outputs": [
    {
     "name": "stdout",
     "output_type": "stream",
     "text": [
      "Hello, Rahim! Welcome to the Python class.\n",
      "Today you will learn python\n",
      "Hello, Tanwar! Welcome to the Python class.\n",
      "Today you will learn python\n",
      "Hello, Zena! Welcome to the Python class.\n",
      "Today you will learn python\n"
     ]
    }
   ],
   "source": [
    "# 2. Function with Parameters, no return values\n",
    "def greet_person(name):\n",
    "    \"\"\"This function greets a person by name.\n",
    "       It uses f-string\n",
    "    \"\"\"\n",
    "    print(f\"Hello, {name}! Welcome to the Python class.\")\n",
    "    print(\"Today you will learn python\")\n",
    "    \n",
    "\n",
    "# Call the function with an argument\n",
    "greet_person(\"Rahim\")\n",
    "greet_person(\"Tanwar\")\n",
    "greet_person(\"Zena\")\n"
   ]
  },
  {
   "cell_type": "code",
   "execution_count": null,
   "id": "ad688fb4-61d1-4f21-ab37-6636d4d4b278",
   "metadata": {},
   "outputs": [],
   "source": []
  },
  {
   "cell_type": "code",
   "execution_count": 7,
   "id": "3f7928aa-adb7-44a4-bb2a-548ea538a493",
   "metadata": {},
   "outputs": [
    {
     "name": "stdout",
     "output_type": "stream",
     "text": [
      "The sum is: 8\n"
     ]
    }
   ],
   "source": [
    "# 3. Function with paramters and return Value\n",
    "def add(a, b):\n",
    "    \"\"\"This function returns the sum of two numbers.\"\"\"\n",
    "    ans = a + b\n",
    "    return ans\n",
    "\n",
    "# Store and print the result\n",
    "result = add(5, 3)\n",
    "print(f\"The sum is: {result}\")"
   ]
  },
  {
   "cell_type": "code",
   "execution_count": null,
   "id": "a9965c96-6918-4c6a-9bf2-c52e959e05a3",
   "metadata": {},
   "outputs": [],
   "source": []
  },
  {
   "cell_type": "code",
   "execution_count": 8,
   "id": "b261e0c7-9af4-4ae5-8dd3-4f401ef00028",
   "metadata": {},
   "outputs": [
    {
     "name": "stdout",
     "output_type": "stream",
     "text": [
      "The simple interest on $1000.00 at a rate of 5.00% for 2 years is: $100.00\n"
     ]
    }
   ],
   "source": [
    "# APPLICATION (OPTIONAL)\n",
    "# step1: Unprofessinal way\n",
    "def calculate_simple_interest(principal, rate, time):\n",
    "    simple_interest = principal * rate * time\n",
    "    return simple_interest\n",
    "\n",
    "\n",
    "# Example usage of calculate_simple_interest\n",
    "principal1 = 1000\n",
    "rate1 = 0.05\n",
    "time1 = 2\n",
    "interest1 = calculate_simple_interest(principal1, rate1, time1)\n",
    "print(f\"The simple interest on ${principal1:.2f} at a rate of {rate1*100:.2f}% for {time1} years is: ${interest1:.2f}\")"
   ]
  },
  {
   "cell_type": "code",
   "execution_count": null,
   "id": "7b74d96c-8dd1-457f-9d35-ad72b3e64139",
   "metadata": {},
   "outputs": [],
   "source": []
  },
  {
   "cell_type": "code",
   "execution_count": 14,
   "id": "e88c2de5-bf9d-4bcf-bfb7-c96a47f7da4d",
   "metadata": {},
   "outputs": [
    {
     "name": "stdout",
     "output_type": "stream",
     "text": [
      "The simple interest on 1000 at a rate of 0.05 for 2 years is: 100.0\n"
     ]
    }
   ],
   "source": [
    "# step2) a more professional way: with error checking and doc string\n",
    "def calculate_simple_interest(principal, rate, time):\n",
    "    \"\"\"Calculates the simple interest earned on a principal amount.\n",
    "\n",
    "    Simple interest is calculated only on the principal amount.\n",
    "\n",
    "    Args:\n",
    "        principal (float): The initial principal balance.\n",
    "        rate (float): The annual interest rate (as a decimal).\n",
    "        time (float): The time period in years.\n",
    "\n",
    "    Returns:\n",
    "        float: The calculated simple interest.\n",
    "        str: An error message if the input is invalid.\n",
    "    \"\"\"\n",
    "    if not isinstance(principal, (int, float)):\n",
    "        return \"Error: Principal must be a number.\"\n",
    "    if not isinstance(rate, (int, float)):\n",
    "        return \"Error: Rate must be a number.\"\n",
    "    if not isinstance(time, (int, float)):\n",
    "        return \"Error: Time must be a number.\"\n",
    "    if principal < 0:\n",
    "        return \"Error: Principal cannot be negative.\"\n",
    "    if rate < 0:\n",
    "        return \"Error: Rate cannot be negative.\"\n",
    "    if time < 0:\n",
    "        return \"Error: Time cannot be negative.\"\n",
    "\n",
    "    simple_interest = principal * rate * time\n",
    "    return simple_interest\n",
    "\n",
    "# Example usage of calculate_simple_interest\n",
    "principal1 = 1000 # try -2000\n",
    "rate1 = 0.05 # try -.02\n",
    "time1 = 2 # try -1\n",
    "interest1 = calculate_simple_interest(principal1, rate1, time1)\n",
    "if isinstance(interest1, str):\n",
    "    print(f\"OOPS: {interest1}\")\n",
    "else:\n",
    "    print(f\"The simple interest on {principal1} at a rate of {rate1} for {time1} years is: {interest1}\")\n"
   ]
  },
  {
   "cell_type": "code",
   "execution_count": null,
   "id": "f72891e2-c88d-4dc0-a7a9-a4c53d19da36",
   "metadata": {},
   "outputs": [],
   "source": []
  },
  {
   "cell_type": "code",
   "execution_count": 17,
   "id": "e4bee4fb-168a-4b09-a81f-2ef101d00076",
   "metadata": {},
   "outputs": [
    {
     "name": "stdout",
     "output_type": "stream",
     "text": [
      "7\n"
     ]
    }
   ],
   "source": [
    "# 4. Function with Default Parameters\n",
    "\n",
    "#e.g.1\n",
    "def add(a=0, b=0): # a=0, b=0 are default values \n",
    "    ans = a + b \n",
    "    return ans\n",
    "\n",
    "# result = add()\n",
    "# result = add(3) # here default b is 0\n",
    "result = add(3,4)\n",
    "\n",
    "print(result)"
   ]
  },
  {
   "cell_type": "code",
   "execution_count": 20,
   "id": "8cbe7963-894a-4034-bfd5-fea26bcbb6a3",
   "metadata": {},
   "outputs": [
    {
     "name": "stdout",
     "output_type": "stream",
     "text": [
      "The 3 to the power of 2 is 9\n",
      "81\n",
      "125\n"
     ]
    }
   ],
   "source": [
    "# APPLICATION (OPTIONAL)\n",
    "#e.g.2 Unprofessinal way\n",
    "def power(base, exponent=2):\n",
    "    return base ** exponent\n",
    "\n",
    "# Calling the function\n",
    "print(f\"The 3 to the power of 2 is {power(3)}\")      # Uses default exponent 2\n",
    "print(power(3, 4))   # Uses provided exponent 4\n",
    "print(power(5, 3))   \n"
   ]
  },
  {
   "cell_type": "code",
   "execution_count": 26,
   "id": "81ed1e3e-d7f5-45d7-99d3-15a3fe109c92",
   "metadata": {},
   "outputs": [
    {
     "name": "stdout",
     "output_type": "stream",
     "text": [
      "81\n"
     ]
    }
   ],
   "source": [
    "# e.g.2: professional way of doing above\n",
    "def power(base, exponent=2):\n",
    "    \"\"\"Calculates the power of a number.\n",
    "\n",
    "    Args:\n",
    "        base (float): The base number.\n",
    "        exponent (int, optional): The exponent to which the base is raised. Defaults to 2.\n",
    "\n",
    "    Returns:\n",
    "        float: The result of raising the base to the power of the exponent,\n",
    "               or an error message string if invalid input is provided.\n",
    "    \"\"\"\n",
    "    if not isinstance(base, (int, float)):\n",
    "        return \"Error: Base must be a number.\"\n",
    "    if not isinstance(exponent, int):\n",
    "        return \"Error: Exponent must be an integer.\"\n",
    "    if exponent < 0:\n",
    "        return \"Error: Exponent cannot be negative.\"\n",
    "        \n",
    "    return base ** exponent\n",
    "\n",
    "\n",
    "# Calling the function\n",
    "# res = power(3) # Uses default exponent 2\n",
    "# print(f\"The 3 to the power of 2 is {res}\")\n",
    "\n",
    "res = power(3, 4) # Uses provided exponent 4\n",
    "print(res) "
   ]
  },
  {
   "cell_type": "code",
   "execution_count": 28,
   "id": "b6774dcf-6fb4-419b-9450-d06649a4c9c2",
   "metadata": {},
   "outputs": [
    {
     "name": "stdout",
     "output_type": "stream",
     "text": [
      "(50, 30, 100000)\n",
      "Area: 50, Perimeter: 30, Price: 100000\n"
     ]
    }
   ],
   "source": [
    "# 5. Function with Multiple Return Values\n",
    "def rectangle_properties(length, width):\n",
    "    area = length * width\n",
    "    perimeter = 2 * (length + width)\n",
    "    price = 2000 * area\n",
    "    return area, perimeter, price\n",
    "\n",
    "# Call the function and unpack results\n",
    "result = rectangle_properties(5, 10)\n",
    "print(result)\n",
    "\n",
    "ar   = result[0]\n",
    "peri = result[1]\n",
    "pri  = result[2] \n",
    "print(f\"Area: {ar}, Perimeter: {peri}, Price: {pri}\")"
   ]
  },
  {
   "cell_type": "code",
   "execution_count": null,
   "id": "41b66c03-67e8-46e7-b73d-6ff7fbdc3711",
   "metadata": {},
   "outputs": [],
   "source": []
  }
 ],
 "metadata": {
  "kernelspec": {
   "display_name": "Python 3 (ipykernel)",
   "language": "python",
   "name": "python3"
  },
  "language_info": {
   "codemirror_mode": {
    "name": "ipython",
    "version": 3
   },
   "file_extension": ".py",
   "mimetype": "text/x-python",
   "name": "python",
   "nbconvert_exporter": "python",
   "pygments_lexer": "ipython3",
   "version": "3.9.9"
  }
 },
 "nbformat": 4,
 "nbformat_minor": 5
}
