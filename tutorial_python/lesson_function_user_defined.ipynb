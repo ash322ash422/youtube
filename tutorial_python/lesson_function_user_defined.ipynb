{
 "cells": [
  {
   "cell_type": "code",
   "execution_count": 60,
   "id": "39cec3c4-1eb9-4ed3-a06c-fab95196f15b",
   "metadata": {},
   "outputs": [
    {
     "name": "stdout",
     "output_type": "stream",
     "text": [
      "Hello, welcome to the Python class!\n",
      "You are going to enjoy this\n",
      "################\n",
      "Hello, welcome to the Python class!\n",
      "You are going to enjoy this\n",
      "******************\n",
      "Hello, welcome to the Python class!\n",
      "You are going to enjoy this\n",
      "Hello, welcome to the Python class!\n",
      "You are going to enjoy this\n"
     ]
    }
   ],
   "source": [
    "## 1. Basic Function (No Parameters, No Return)\n",
    "def greet():  \n",
    "    \"\"\"This function prints a greeting message.\"\"\"\n",
    "    print(\"Hello, welcome to the Python class!\")\n",
    "    print(\"You are going to enjoy this\") \n",
    "\n",
    "\n",
    "# Call the function\n",
    "greet()\n",
    "\n",
    "print(\"################\")\n",
    "greet()\n",
    "print(\"******************\")\n",
    "greet()\n",
    "greet()\n"
   ]
  },
  {
   "cell_type": "code",
   "execution_count": 63,
   "id": "1db8fbdb-11ed-477f-9fc1-295bf96d6a98",
   "metadata": {},
   "outputs": [
    {
     "name": "stdout",
     "output_type": "stream",
     "text": [
      "Hello, Rahim! Welcome to the Python class.\n",
      "Today you will learn python\n",
      "Hello, Tanwar! Welcome to the Python class.\n",
      "Today you will learn python\n",
      "Hello, Zena! Welcome to the Python class.\n",
      "Today you will learn python\n"
     ]
    }
   ],
   "source": [
    "# 2. Function with Parameters, no return values\n",
    "def greet_person(name):\n",
    "    \"\"\"This function greets a person by name.\n",
    "       It uses f-string\n",
    "    \"\"\"\n",
    "    print(f\"Hello, {name}! Welcome to the Python class.\")\n",
    "    print(\"Today you will learn python\")\n",
    "    \n",
    "\n",
    "# Call the function with an argument\n",
    "greet_person(\"Rahim\")\n",
    "\n",
    "greet_person(\"Tanwar\")\n",
    "greet_person(\"Zena\")\n",
    "\n"
   ]
  },
  {
   "cell_type": "code",
   "execution_count": null,
   "id": "a448eb14-7f07-4cf4-89c1-ef216b24ad74",
   "metadata": {},
   "outputs": [],
   "source": []
  },
  {
   "cell_type": "code",
   "execution_count": 64,
   "id": "a17e2431-15b5-49a4-be54-9d8868462c41",
   "metadata": {},
   "outputs": [
    {
     "name": "stdout",
     "output_type": "stream",
     "text": [
      "The sum is: 8\n"
     ]
    }
   ],
   "source": [
    "# 3. Function with paramters and return Value\n",
    "# STEP1\n",
    "def add(a, b):\n",
    "    \"\"\"This function returns the sum of two numbers.\"\"\"\n",
    "    ans = a + b\n",
    "    return ans\n",
    "\n",
    "# Store and print the result\n",
    "n1 = 5 \n",
    "n2 = 3 \n",
    "\n",
    "result = add(n1, n2)\n",
    "print(f\"The sum is: {result}\")"
   ]
  },
  {
   "cell_type": "code",
   "execution_count": 65,
   "id": "af34e92e-c79c-41aa-8fb4-96f5dd4bb73c",
   "metadata": {},
   "outputs": [
    {
     "name": "stdin",
     "output_type": "stream",
     "text": [
      "Enter your first number: 5\n",
      "Enter your second number: 3\n"
     ]
    },
    {
     "name": "stdout",
     "output_type": "stream",
     "text": [
      "The sum is: 8\n"
     ]
    }
   ],
   "source": [
    "# STEP2: or get input from the user\n",
    "def add(a, b):\n",
    "    \"\"\"This function returns the sum of two numbers.\"\"\"\n",
    "    ans = a + b\n",
    "    return ans\n",
    "\n",
    "# Store and print the result\n",
    "n1 = int(input(\"Enter your first number:\"))\n",
    "n2 = int(input(\"Enter your second number:\"))\n",
    "\n",
    "result = add(n1, n2)\n",
    "print(f\"The sum is: {result}\")"
   ]
  },
  {
   "cell_type": "code",
   "execution_count": null,
   "id": "dd9727b5-7317-4e4d-8568-64ac334a5631",
   "metadata": {},
   "outputs": [],
   "source": []
  },
  {
   "cell_type": "code",
   "execution_count": 66,
   "id": "16a2c8b9-b1b4-49df-9a47-1f2758446cd9",
   "metadata": {},
   "outputs": [
    {
     "name": "stdout",
     "output_type": "stream",
     "text": [
      "The minimum of 15 and 7 is: 7\n"
     ]
    }
   ],
   "source": [
    "# e.g.2 function that takes 2 input parameters and returns minimum of 2 numbers\n",
    "def get_minimum(num1, num2):\n",
    "  if num1 < num2:\n",
    "    return num1\n",
    "  else:\n",
    "    return num2\n",
    "\n",
    "# Example usage:\n",
    "n1 = 15 # change this to other values\n",
    "n2 = 7  # change this to other values\n",
    "\n",
    "minimum = get_minimum(n1, n2)\n",
    "print(f\"The minimum of {n1} and {n2} is: {minimum}\")\n"
   ]
  },
  {
   "cell_type": "code",
   "execution_count": null,
   "id": "d96780dd-d344-4d6b-94a7-63291de3c5c2",
   "metadata": {},
   "outputs": [],
   "source": []
  },
  {
   "cell_type": "code",
   "execution_count": 68,
   "id": "2872507c-4dc1-4506-9140-f27d0748621f",
   "metadata": {},
   "outputs": [
    {
     "name": "stdout",
     "output_type": "stream",
     "text": [
      "100.0\n",
      "The simple interest on $1000 at a rate of 5.0% for 2 years is: $100.0\n"
     ]
    }
   ],
   "source": [
    "# e.g.3 function that takes 3 parameters and return simple interest\n",
    "\n",
    "def calculate_simple_interest(principal, rate, time):\n",
    "    simple_interest = principal * rate * time\n",
    "    return simple_interest\n",
    "\n",
    "# Example usage of calculate_simple_interest\n",
    "p = 1000\n",
    "r = 0.05\n",
    "t = 2\n",
    "interest = calculate_simple_interest(p, r, t)\n",
    "print(interest)\n",
    "\n",
    "# Or use below for more meaningful message\n",
    "print(f\"The simple interest on ${p} at a rate of {r*100}% for {t} years is: ${interest}\")"
   ]
  },
  {
   "cell_type": "code",
   "execution_count": null,
   "id": "171db461-7d42-4c2f-b18d-747318e33a14",
   "metadata": {},
   "outputs": [],
   "source": []
  },
  {
   "cell_type": "code",
   "execution_count": 71,
   "id": "e5b38edb-96e3-4994-b93a-db47f73bcd2e",
   "metadata": {},
   "outputs": [
    {
     "name": "stdout",
     "output_type": "stream",
     "text": [
      "7\n"
     ]
    }
   ],
   "source": [
    "# 4. Function with default parameters\n",
    "\n",
    "#e.g.1\n",
    "def add(a=0, b=0): # a=0, b=0 are default values \n",
    "    ans = a + b \n",
    "    return ans\n",
    "\n",
    "# result = add()\n",
    "# result = add(3) # here a=3 and default value of b=0\n",
    "result = add(3, 4)\n",
    "\n",
    "print(result)"
   ]
  },
  {
   "cell_type": "code",
   "execution_count": null,
   "id": "1cd4457f-862a-4d12-93f9-defe4cadd619",
   "metadata": {},
   "outputs": [],
   "source": []
  },
  {
   "cell_type": "code",
   "execution_count": 73,
   "id": "81dc99d8-2338-417f-aef4-cdcc22a8f776",
   "metadata": {},
   "outputs": [
    {
     "name": "stdout",
     "output_type": "stream",
     "text": [
      "The 3 to the power of 2 is 9\n",
      "The 3 to the power of 4 is 81\n"
     ]
    }
   ],
   "source": [
    "# APPLICATION (OPTIONAL): e.g.2\n",
    "\n",
    "def power(base, exponent=2):\n",
    "    ans = base ** exponent\n",
    "    return ans\n",
    "\n",
    "# Calling the function\n",
    "res = power(3)\n",
    "print(f\"The 3 to the power of 2 is {res}\")      # Uses default exponent 2\n",
    "\n",
    "res = power(3, 4)\n",
    "print(f\"The 3 to the power of 4 is {res}\")      # Uses provided exponent 4\n"
   ]
  },
  {
   "cell_type": "code",
   "execution_count": null,
   "id": "350f47b7-a631-4a0b-b35b-cec6a00dbe4e",
   "metadata": {},
   "outputs": [],
   "source": []
  },
  {
   "cell_type": "code",
   "execution_count": 76,
   "id": "088b0882-b31b-43c4-94d0-f37375af83d0",
   "metadata": {},
   "outputs": [
    {
     "name": "stdout",
     "output_type": "stream",
     "text": [
      "(50, 30, 100000)\n",
      "Area: 50, Perimeter: 30, Price: 100000\n"
     ]
    }
   ],
   "source": [
    "# 5. Function with Multiple Return Values\n",
    "def rectangle_properties(length, width):\n",
    "    area      = length * width\n",
    "    perimeter = 2 * (length + width)\n",
    "    \n",
    "    if area < 100:\n",
    "        price = 2000 * area\n",
    "    else:\n",
    "        price = 3000 * area\n",
    "        \n",
    "    return area, perimeter, price\n",
    "\n",
    "# Call the function and unpack results\n",
    "result = rectangle_properties(5, 10)\n",
    "print(result)\n",
    "\n",
    "ar   = result[0]\n",
    "peri = result[1]\n",
    "pri  = result[2] \n",
    "print(f\"Area: {ar}, Perimeter: {peri}, Price: {pri}\")"
   ]
  },
  {
   "cell_type": "code",
   "execution_count": null,
   "id": "8ac24ed7-db88-4313-87ec-d04606d1fe01",
   "metadata": {},
   "outputs": [],
   "source": []
  }
 ],
 "metadata": {
  "kernelspec": {
   "display_name": "Python 3 (ipykernel)",
   "language": "python",
   "name": "python3"
  },
  "language_info": {
   "codemirror_mode": {
    "name": "ipython",
    "version": 3
   },
   "file_extension": ".py",
   "mimetype": "text/x-python",
   "name": "python",
   "nbconvert_exporter": "python",
   "pygments_lexer": "ipython3",
   "version": "3.9.9"
  }
 },
 "nbformat": 4,
 "nbformat_minor": 5
}
