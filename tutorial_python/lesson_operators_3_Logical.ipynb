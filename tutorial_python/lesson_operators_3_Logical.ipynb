{
 "cells": [
  {
   "cell_type": "markdown",
   "metadata": {},
   "source": [
    "# Python Operators part 3\n",
    "## Topic: Logical"
   ]
  },
  {
   "cell_type": "code",
   "execution_count": null,
   "metadata": {
    "jupyter": {
     "source_hidden": true
    }
   },
   "outputs": [],
   "source": []
  },
  {
   "cell_type": "markdown",
   "metadata": {},
   "source": [
    "# Logical Operator: and, or, not\n",
    "- Returns boolean variable: **True or False**"
   ]
  },
  {
   "cell_type": "code",
   "execution_count": 8,
   "metadata": {},
   "outputs": [
    {
     "name": "stdout",
     "output_type": "stream",
     "text": [
      "True\n",
      "False\n",
      "False\n",
      "False\n"
     ]
    }
   ],
   "source": [
    "# and operator: if every single condition is True then it will return True, else it will return False \n",
    "print(True  and True)\n",
    "print(True  and False)\n",
    "print(False and True)\n",
    "print(False and False)"
   ]
  },
  {
   "cell_type": "code",
   "execution_count": 9,
   "metadata": {},
   "outputs": [
    {
     "name": "stdout",
     "output_type": "stream",
     "text": [
      "True\n",
      "False\n"
     ]
    }
   ],
   "source": [
    "# More than 2 and condition\n",
    "print(True  and True and True  and True)\n",
    "print(True  and True and False and True)"
   ]
  },
  {
   "cell_type": "code",
   "execution_count": 10,
   "metadata": {},
   "outputs": [
    {
     "name": "stdout",
     "output_type": "stream",
     "text": [
      "False\n"
     ]
    }
   ],
   "source": [
    "# example1: Check if age is between 20 and 30\n",
    "age = 60\n",
    "\n",
    "res = age > 20 and age < 30 \n",
    "# res = True  and   False\n",
    "\n",
    "print(res)"
   ]
  },
  {
   "cell_type": "code",
   "execution_count": 11,
   "metadata": {},
   "outputs": [
    {
     "name": "stdout",
     "output_type": "stream",
     "text": [
      "True\n"
     ]
    }
   ],
   "source": [
    "# example2: Check if age and income satisfy some condition\n",
    "age = 25 \n",
    "income = 20000\n",
    "\n",
    "# Check if age > 20 and income > 15000\n",
    "res = age > 20 and income > 15000 \n",
    "# res = True      and    True\n",
    "\n",
    "print(res)"
   ]
  },
  {
   "cell_type": "code",
   "execution_count": 12,
   "metadata": {},
   "outputs": [
    {
     "name": "stdout",
     "output_type": "stream",
     "text": [
      "False\n"
     ]
    }
   ],
   "source": [
    "# example3: Check if age > 30 and income < 15000\n",
    "\n",
    "age = 25 \n",
    "income = 20000\n",
    "\n",
    "res = age > 30 and income < 15000 \n",
    "# res =  False   and   False\n",
    "\n",
    "print(res)"
   ]
  },
  {
   "cell_type": "code",
   "execution_count": null,
   "metadata": {
    "jupyter": {
     "source_hidden": true
    }
   },
   "outputs": [],
   "source": []
  },
  {
   "cell_type": "code",
   "execution_count": 13,
   "metadata": {},
   "outputs": [
    {
     "name": "stdout",
     "output_type": "stream",
     "text": [
      "True\n",
      "True\n",
      "True\n",
      "False\n"
     ]
    }
   ],
   "source": [
    "# or operator: if a single condition is True then  it will return True else it will return False\n",
    "print(True  or True)\n",
    "print(True  or False)\n",
    "print(False or True)\n",
    "print(False or False)"
   ]
  },
  {
   "cell_type": "code",
   "execution_count": 14,
   "metadata": {},
   "outputs": [
    {
     "name": "stdout",
     "output_type": "stream",
     "text": [
      "True\n",
      "True\n",
      "False\n"
     ]
    }
   ],
   "source": [
    "# multiple or \n",
    "print(True  or True  or True  or True)\n",
    "print(True  or True  or False or True)\n",
    "print(False or False or False or False)"
   ]
  },
  {
   "cell_type": "code",
   "execution_count": 15,
   "metadata": {},
   "outputs": [
    {
     "name": "stdout",
     "output_type": "stream",
     "text": [
      "True\n"
     ]
    }
   ],
   "source": [
    "# EXAMPLE1: determine if age is out range [30 to 60]\n",
    "age = 5\n",
    "\n",
    "res = age < 30 or age > 60 \n",
    "# res = True   or False\n",
    "\n",
    "print(res)"
   ]
  },
  {
   "cell_type": "code",
   "execution_count": 18,
   "metadata": {},
   "outputs": [
    {
     "name": "stdout",
     "output_type": "stream",
     "text": [
      "False\n"
     ]
    }
   ],
   "source": [
    "# EXAMPLE2: check age and name\n",
    "age = 5\n",
    "name = 'jerry'\n",
    "\n",
    "# res = age < 30 or name == 'tinku' # True or False\n",
    "# res = age < 30 or name == 'jerry' # True or True\n",
    "res = age > 30 or name == 'TINKU' # False or False\n",
    "\n",
    "\n",
    "print(res)"
   ]
  },
  {
   "cell_type": "code",
   "execution_count": null,
   "metadata": {
    "jupyter": {
     "source_hidden": true
    }
   },
   "outputs": [],
   "source": []
  },
  {
   "cell_type": "code",
   "execution_count": 19,
   "metadata": {},
   "outputs": [
    {
     "name": "stdout",
     "output_type": "stream",
     "text": [
      "True\n"
     ]
    }
   ],
   "source": [
    "# combine or with and: # example1: Extra charge if high consumption(more than 500 W) and either urban area or AC is used.\n",
    "\n",
    "units_used = 520 # power consume\n",
    "area = 'urban'\n",
    "has_air_conditioner = True\n",
    "\n",
    "res = units_used > 500 and (area == 'urban' or has_air_conditioner) \n",
    "# res =  True         and  (   True        or        True)\n",
    "\n",
    "print(res)"
   ]
  },
  {
   "cell_type": "code",
   "execution_count": 20,
   "metadata": {},
   "outputs": [
    {
     "name": "stdout",
     "output_type": "stream",
     "text": [
      "False\n"
     ]
    }
   ],
   "source": [
    "# example2: checks either if both subjects(science+math) score are > 40 or total score exceed 95.\n",
    "math_score = 21\n",
    "science_score = 65\n",
    "\n",
    "res = (math_score > 40 and science_score > 40) or (math_score + science_score > 95) \n",
    "# res = (False        and           True     ) or (   False  )\n",
    "\n",
    "print(res)"
   ]
  },
  {
   "cell_type": "code",
   "execution_count": 21,
   "metadata": {},
   "outputs": [
    {
     "name": "stdout",
     "output_type": "stream",
     "text": [
      "True\n"
     ]
    }
   ],
   "source": [
    "# continuation...\n",
    "\n",
    "math_score = 33\n",
    "science_score = 65\n",
    "\n",
    "res = (math_score > 40 and science_score > 40) or (math_score + science_score > 95) \n",
    "# res = (False         and      True         ) or (        True                 )\n",
    "\n",
    "print(res)"
   ]
  },
  {
   "cell_type": "code",
   "execution_count": null,
   "metadata": {
    "jupyter": {
     "source_hidden": true
    }
   },
   "outputs": [],
   "source": []
  },
  {
   "cell_type": "code",
   "execution_count": null,
   "metadata": {
    "jupyter": {
     "source_hidden": true
    }
   },
   "outputs": [],
   "source": []
  },
  {
   "cell_type": "code",
   "execution_count": 22,
   "metadata": {},
   "outputs": [
    {
     "name": "stdout",
     "output_type": "stream",
     "text": [
      "True\n",
      "False\n",
      "True\n"
     ]
    }
   ],
   "source": [
    "# operator: not\n",
    "print(True)\n",
    "print(not True)\n",
    "print(not False)"
   ]
  },
  {
   "cell_type": "code",
   "execution_count": 24,
   "metadata": {},
   "outputs": [
    {
     "name": "stdout",
     "output_type": "stream",
     "text": [
      "Welcome Admin\n"
     ]
    }
   ],
   "source": [
    "#example: check if user is admin\n",
    "user = 'Admin'\n",
    "is_admin = (user == 'Admin')\n",
    "\n",
    "if not is_admin:\n",
    "    print(\"Cannot enter. Only Admin allowed.\")\n",
    "else:\n",
    "    print(\"Welcome Admin\")"
   ]
  },
  {
   "cell_type": "markdown",
   "metadata": {},
   "source": [
    "# STOP"
   ]
  },
  {
   "cell_type": "code",
   "execution_count": null,
   "metadata": {
    "jupyter": {
     "source_hidden": true
    }
   },
   "outputs": [],
   "source": []
  },
  {
   "cell_type": "code",
   "execution_count": null,
   "metadata": {
    "jupyter": {
     "source_hidden": true
    }
   },
   "outputs": [],
   "source": []
  },
  {
   "cell_type": "code",
   "execution_count": null,
   "metadata": {
    "jupyter": {
     "source_hidden": true
    }
   },
   "outputs": [],
   "source": []
  },
  {
   "cell_type": "code",
   "execution_count": null,
   "metadata": {
    "jupyter": {
     "source_hidden": true
    }
   },
   "outputs": [],
   "source": []
  },
  {
   "cell_type": "code",
   "execution_count": null,
   "metadata": {
    "jupyter": {
     "source_hidden": true
    }
   },
   "outputs": [],
   "source": []
  },
  {
   "cell_type": "code",
   "execution_count": null,
   "metadata": {
    "jupyter": {
     "source_hidden": true
    }
   },
   "outputs": [],
   "source": []
  },
  {
   "cell_type": "code",
   "execution_count": null,
   "metadata": {
    "jupyter": {
     "source_hidden": true
    }
   },
   "outputs": [],
   "source": []
  },
  {
   "cell_type": "code",
   "execution_count": null,
   "metadata": {
    "jupyter": {
     "source_hidden": true
    }
   },
   "outputs": [],
   "source": []
  },
  {
   "cell_type": "markdown",
   "metadata": {},
   "source": [
    "# STOP"
   ]
  },
  {
   "cell_type": "code",
   "execution_count": null,
   "metadata": {
    "jupyter": {
     "source_hidden": true
    }
   },
   "outputs": [],
   "source": [
    "# (SKIP) OPTIONAL: EXAMPLE3: \n",
    "user = \"ash\"\n",
    "\n",
    "res = user == 'admin' or user == 'jerry' # False or False\n",
    "# res = (user == 'admin' or user == 'jerry') # I put () for readability.  \n",
    "# res = (user == 'admin' or user == 'ash') # False or True\n",
    "\n",
    "print(res)"
   ]
  },
  {
   "cell_type": "code",
   "execution_count": null,
   "metadata": {
    "jupyter": {
     "source_hidden": true
    }
   },
   "outputs": [],
   "source": [
    "# SKIP\n",
    "a = [1, 2, 3]\n",
    "b = a\n",
    "print(a is b)  # True (same object in memory)\n",
    "\n",
    "c = [1, 2, 3]\n",
    "print(a is c)  # False (same value, but different object)"
   ]
  },
  {
   "cell_type": "code",
   "execution_count": null,
   "metadata": {
    "jupyter": {
     "source_hidden": true
    }
   },
   "outputs": [],
   "source": [
    "a = [1, 2, 3]\n",
    "b = [1, 2, 3]\n",
    "print(a is b)   # False — different objects in memory\n",
    "\n",
    "c = a\n",
    "print(a is c)   # True — both point to the same list object"
   ]
  },
  {
   "cell_type": "code",
   "execution_count": null,
   "metadata": {
    "jupyter": {
     "source_hidden": true
    }
   },
   "outputs": [],
   "source": [
    "m = [1, 2, 3] # 0A1203CF\n",
    "n = m\n",
    "\n",
    "print(id(m)) # memory address (identity) of the object m.\n",
    "print(id(n)) # memory address (identity) of the object n."
   ]
  },
  {
   "cell_type": "code",
   "execution_count": null,
   "metadata": {
    "jupyter": {
     "source_hidden": true
    }
   },
   "outputs": [],
   "source": [
    "m = [1, 2, 3] \n",
    "n = [1, 2, 3]\n",
    "\n",
    "print(id(m)) # memory address (identity) of the object m.\n",
    "print(id(n)) # memory address (identity) of the object n."
   ]
  },
  {
   "cell_type": "code",
   "execution_count": null,
   "metadata": {
    "jupyter": {
     "source_hidden": true
    }
   },
   "outputs": [],
   "source": [
    "# Simulate checking weather data\n",
    "temperature = None  # No data yet\n",
    "# temperature = 30  # temperature received from the weather API\n",
    "\n",
    "if temperature is None:\n",
    "    print(\"Weather data not available yet\")\n",
    "\n",
    "if temperature is not None:\n",
    "    print(f\"The current temperature is {temperature}°C\")\n"
   ]
  }
 ],
 "metadata": {
  "kernelspec": {
   "display_name": "Python 3 (ipykernel)",
   "language": "python",
   "name": "python3"
  },
  "language_info": {
   "codemirror_mode": {
    "name": "ipython",
    "version": 3
   },
   "file_extension": ".py",
   "mimetype": "text/x-python",
   "name": "python",
   "nbconvert_exporter": "python",
   "pygments_lexer": "ipython3",
   "version": "3.9.9"
  }
 },
 "nbformat": 4,
 "nbformat_minor": 4
}
