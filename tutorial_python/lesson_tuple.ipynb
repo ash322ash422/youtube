{
 "cells": [
  {
   "cell_type": "code",
   "execution_count": 4,
   "id": "f775d951-5a95-4659-a280-f8876ed77b1a",
   "metadata": {},
   "outputs": [
    {
     "name": "stdout",
     "output_type": "stream",
     "text": [
      "('apple', 'banana', 'cherry')\n",
      "<class 'tuple'>\n",
      "('apple', 'banana', 'cherry')\n",
      "<class 'tuple'>\n",
      "('apple', 'banana', 'cherry')\n",
      "<class 'tuple'>\n"
     ]
    }
   ],
   "source": [
    "# Tuple declaration\n",
    "tpl = (\"apple\", \"banana\", \"cherry\")\n",
    "print(tpl)\n",
    "print(type(tpl))\n",
    "\n",
    "# #another way to create tuple without ()\n",
    "tpl = \"apple\", \"banana\", \"cherry\"\n",
    "print(tpl)\n",
    "print(type(tpl))\n",
    "\n",
    "# create a tuple from a list\n",
    "fruits = [\"apple\", \"banana\", \"cherry\"]\n",
    "tpl = tuple(fruits)  # from list\n",
    "print(tpl)\n",
    "print(type(tpl))\n"
   ]
  },
  {
   "cell_type": "code",
   "execution_count": 6,
   "id": "60ad4848-14cc-46df-84b2-456db0188f07",
   "metadata": {},
   "outputs": [
    {
     "name": "stdout",
     "output_type": "stream",
     "text": [
      "('apple',)\n",
      "<class 'tuple'>\n",
      "apple\n",
      "<class 'str'>\n"
     ]
    }
   ],
   "source": [
    "#SIDE NOTE:\n",
    "one_item_tpl = (\"apple\",) # mind the comma for it creates tuples\n",
    "print(one_item_tpl)\n",
    "print(type(one_item_tpl))\n",
    "\n",
    "# # NOTE: # This is a string and not a tuple!\n",
    "tpl = (\"apple\")  \n",
    "print(tpl)\n",
    "print(type(tpl))\n"
   ]
  },
  {
   "cell_type": "code",
   "execution_count": 11,
   "id": "cf60c659-6b68-4e2c-859f-ed1958721e21",
   "metadata": {},
   "outputs": [
    {
     "name": "stdout",
     "output_type": "stream",
     "text": [
      "(10, 20, 25.75)\n",
      "('Jessa', 'Emma', 'Kelly')\n",
      "('Jessa', 30, 45.75, [25, 78])\n",
      "((1, 2, 7.3), 'ash', 1234, 54, 12000)\n"
     ]
    }
   ],
   "source": [
    "# tuple can contain various types of elements:\n",
    "\n",
    "# number tuple: int, float\n",
    "t = (10, 20, 25.75)\n",
    "print(t)\n",
    "\n",
    "# string tuple\n",
    "t = ('Jessa', 'Emma', 'Kelly')\n",
    "print(t)\n",
    "\n",
    "# mixed type tuple: string,int,float,list\n",
    "t = ('Jessa', 30, 45.75, [25, 78])\n",
    "print(t)\n",
    "\n",
    "t = ((1,2,7.3), \"ash\",1234,54,12000)\n",
    "print(t)"
   ]
  },
  {
   "cell_type": "code",
   "execution_count": 12,
   "id": "1b6aa894-ffb5-4e27-8e95-a1243d9c9a08",
   "metadata": {},
   "outputs": [
    {
     "name": "stdout",
     "output_type": "stream",
     "text": [
      "apple\n",
      "cherry\n",
      "banana\n",
      "('banana', 'cherry')\n"
     ]
    }
   ],
   "source": [
    "fruits = (\"apple\", \"banana\", \"cherry\")\n",
    "\n",
    "# Accessing elements\n",
    "print(fruits[0])  # 'apple'\n",
    "print(fruits[-1])  # 'cherry'\n",
    "print(fruits[-2])  # 'banana'\n",
    "\n",
    "# Slicing\n",
    "print(fruits[1:])  # ('banana', 'cherry')"
   ]
  },
  {
   "cell_type": "code",
   "execution_count": 14,
   "id": "ffc74c20-e75c-4108-bc4d-1d54a5cbe7b3",
   "metadata": {},
   "outputs": [
    {
     "name": "stdout",
     "output_type": "stream",
     "text": [
      "('apple', 'banana', 'cherry', 'orange', 'grape', 'apple')\n",
      "('apple', 'banana', 'cherry', 'apple', 'banana', 'cherry')\n"
     ]
    }
   ],
   "source": [
    "# Tuple concatenation\n",
    "fruits = (\"apple\", \"banana\", \"cherry\")\n",
    "new_fruits = fruits + (\"orange\", \"grape\", \"apple\")\n",
    "print(new_fruits)  # ('apple', 'banana', 'cherry', 'orange', 'grape')\n",
    "\n",
    "# Tuple repetition\n",
    "print(fruits * 2)  # ('apple', 'banana', 'cherry', 'apple', 'banana', 'cherry')\n"
   ]
  },
  {
   "cell_type": "code",
   "execution_count": 19,
   "id": "5aec6f62-0cf4-4d3d-b6a8-a1116288c20e",
   "metadata": {},
   "outputs": [
    {
     "name": "stdout",
     "output_type": "stream",
     "text": [
      "True\n",
      "2\n",
      "3\n"
     ]
    }
   ],
   "source": [
    "# Checking existence\n",
    "fruits = (\"apple\", \"banana\", \"cherry\")\n",
    "print(\"banana\" in fruits)  # True\n",
    "\n",
    "# Finding index\n",
    "print(fruits.index(\"cherry\"))  # 2\n",
    "\n",
    "# Tuple length\n",
    "print(len(fruits))  # 3\n"
   ]
  },
  {
   "cell_type": "code",
   "execution_count": 21,
   "id": "66ab4efc-75a1-4765-aa55-d1654b7e0a8a",
   "metadata": {},
   "outputs": [
    {
     "name": "stdout",
     "output_type": "stream",
     "text": [
      "['venus', 'jupyter', 'earth']\n"
     ]
    },
    {
     "ename": "TypeError",
     "evalue": "'tuple' object does not support item assignment",
     "output_type": "error",
     "traceback": [
      "\u001b[1;31m---------------------------------------------------------------------------\u001b[0m",
      "\u001b[1;31mTypeError\u001b[0m                                 Traceback (most recent call last)",
      "Cell \u001b[1;32mIn[21], line 7\u001b[0m\n\u001b[0;32m      4\u001b[0m \u001b[38;5;28mprint\u001b[39m(planets)\n\u001b[0;32m      6\u001b[0m planets \u001b[38;5;241m=\u001b[39m (\u001b[38;5;124m\"\u001b[39m\u001b[38;5;124mvenus\u001b[39m\u001b[38;5;124m\"\u001b[39m, \u001b[38;5;124m\"\u001b[39m\u001b[38;5;124muranus\u001b[39m\u001b[38;5;124m\"\u001b[39m, \u001b[38;5;124m\"\u001b[39m\u001b[38;5;124mearth\u001b[39m\u001b[38;5;124m\"\u001b[39m)\n\u001b[1;32m----> 7\u001b[0m \u001b[43mplanets\u001b[49m\u001b[43m[\u001b[49m\u001b[38;5;241;43m1\u001b[39;49m\u001b[43m]\u001b[49m \u001b[38;5;241m=\u001b[39m \u001b[38;5;124m\"\u001b[39m\u001b[38;5;124mjupyter\u001b[39m\u001b[38;5;124m\"\u001b[39m \u001b[38;5;66;03m# tuple are immutable\u001b[39;00m\n",
      "\u001b[1;31mTypeError\u001b[0m: 'tuple' object does not support item assignment"
     ]
    }
   ],
   "source": [
    "# tuple are immutable\n",
    "planets = [\"venus\", \"uranus\", \"earth\"]\n",
    "planets[1] = \"jupyter\" # list are mutable\n",
    "print(planets)\n",
    "\n",
    "planets = (\"venus\", \"uranus\", \"earth\")\n",
    "planets[1] = \"jupyter\" # tuple are immutable"
   ]
  },
  {
   "cell_type": "code",
   "execution_count": 22,
   "id": "d3342a07-a7fa-4b9d-93d5-23cf7583658e",
   "metadata": {},
   "outputs": [
    {
     "name": "stdout",
     "output_type": "stream",
     "text": [
      "3\n",
      "0\n"
     ]
    }
   ],
   "source": [
    "t = (10, 20, 60, 30, 60, 40, 60)\n",
    "count = t.count(60) # Count all occurrences of item 60\n",
    "print(count)\n",
    "\n",
    "count = t.count(600)\n",
    "print(count)"
   ]
  },
  {
   "cell_type": "code",
   "execution_count": 23,
   "id": "0ef80fa5-9417-4810-939b-753033c3f298",
   "metadata": {},
   "outputs": [
    {
     "name": "stdout",
     "output_type": "stream",
     "text": [
      "10\n",
      "60\n",
      "280\n",
      "7\n"
     ]
    }
   ],
   "source": [
    "t = (10, 20, 60, 30, 60, 40, 60)\n",
    "print(min(t))\n",
    "print(max(t))\n",
    "print(sum(t))\n",
    "print(len(t))"
   ]
  },
  {
   "cell_type": "code",
   "execution_count": null,
   "id": "3bdaef75-85d3-4204-859f-4069ae9ba49f",
   "metadata": {},
   "outputs": [],
   "source": []
  }
 ],
 "metadata": {
  "kernelspec": {
   "display_name": "Python 3 (ipykernel)",
   "language": "python",
   "name": "python3"
  },
  "language_info": {
   "codemirror_mode": {
    "name": "ipython",
    "version": 3
   },
   "file_extension": ".py",
   "mimetype": "text/x-python",
   "name": "python",
   "nbconvert_exporter": "python",
   "pygments_lexer": "ipython3",
   "version": "3.9.9"
  }
 },
 "nbformat": 4,
 "nbformat_minor": 5
}
