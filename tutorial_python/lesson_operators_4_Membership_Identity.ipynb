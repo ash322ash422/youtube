{
 "cells": [
  {
   "cell_type": "markdown",
   "metadata": {},
   "source": [
    "# Python Operators part 4\n",
    "### Topics: Membership, Identity"
   ]
  },
  {
   "cell_type": "markdown",
   "metadata": {},
   "source": [
    "# Membership Operator - in, not in\n",
    "- Return boolean variable: True or False"
   ]
  },
  {
   "cell_type": "code",
   "execution_count": 21,
   "metadata": {},
   "outputs": [
    {
     "name": "stdout",
     "output_type": "stream",
     "text": [
      "True\n",
      "False\n"
     ]
    }
   ],
   "source": [
    "#STEP1:  check if a substring is present inside another string\n",
    "sentence = 'University of Miami'\n",
    "\n",
    "res = 'Mia' in sentence\n",
    "print(res)\n",
    "\n",
    "########################\n",
    "\n",
    "res = 'Mia' not in sentence\n",
    "print(res)"
   ]
  },
  {
   "cell_type": "code",
   "execution_count": 22,
   "metadata": {},
   "outputs": [
    {
     "name": "stdout",
     "output_type": "stream",
     "text": [
      "False\n",
      "True\n"
     ]
    }
   ],
   "source": [
    "# STEP2: Now I change Mia -> mia\n",
    "\n",
    "# check if a substring is present inside another string\n",
    "sentence = 'University of Miami'\n",
    "\n",
    "res = 'mia' in sentence\n",
    "print(res)\n",
    "\n",
    "########################\n",
    "\n",
    "res = 'mia' not in sentence\n",
    "print(res)"
   ]
  },
  {
   "cell_type": "code",
   "execution_count": 24,
   "metadata": {},
   "outputs": [
    {
     "name": "stdout",
     "output_type": "stream",
     "text": [
      "True\n",
      "False\n"
     ]
    }
   ],
   "source": [
    "# check if element is present inside a container: list, tuple, set\n",
    "# data = [1, 3, 5, 2]\n",
    "# data = (1, 3, 5, 2)\n",
    "data = {1, 3, 5, 2}\n",
    "\n",
    "print(1 in data)\n",
    "print(7 in data)"
   ]
  },
  {
   "cell_type": "code",
   "execution_count": 25,
   "metadata": {},
   "outputs": [
    {
     "name": "stdout",
     "output_type": "stream",
     "text": [
      "True\n",
      "False\n"
     ]
    }
   ],
   "source": [
    "# check if key is present inside a dictionary\n",
    "data = {\n",
    "    'Ram': 34,\n",
    "    'Carlos': 53,\n",
    "    'Tom': 22\n",
    "}\n",
    "\n",
    "res = \"Ram\" in data\n",
    "print(res)\n",
    "\n",
    "res = \"ram\" in data\n",
    "print(res)"
   ]
  },
  {
   "cell_type": "code",
   "execution_count": null,
   "metadata": {
    "jupyter": {
     "source_hidden": true
    }
   },
   "outputs": [],
   "source": []
  },
  {
   "cell_type": "markdown",
   "metadata": {},
   "source": [
    "# Identity Operator: is , is not\n",
    "Used to check if 2 variables refer to the same memory location, not just if they have the same value.\n",
    "\n",
    "- **==** Checks whether two values are equal. It compares **contents/values**, not whether they’re the same object.\n",
    "\n",
    "- **is** Checks whether two variables point to the **same object in memory**.\n",
    "\n",
    "- return a boolean variable: True or False"
   ]
  },
  {
   "cell_type": "code",
   "execution_count": 27,
   "metadata": {},
   "outputs": [
    {
     "name": "stdout",
     "output_type": "stream",
     "text": [
      "False\n",
      "True\n"
     ]
    }
   ],
   "source": [
    "a = 3\n",
    "b = 6\n",
    "\n",
    "print(a is b) # checks if a and b are living in same memory address\n",
    "print(a is not b) # this would negate the above 'is' operator"
   ]
  },
  {
   "cell_type": "code",
   "execution_count": 28,
   "metadata": {},
   "outputs": [
    {
     "name": "stdout",
     "output_type": "stream",
     "text": [
      "1755319134576\n",
      "1755319134672\n"
     ]
    }
   ],
   "source": [
    "# where is it stored ?\n",
    "a = 3\n",
    "b = 6\n",
    "\n",
    "print(id(a))\n",
    "print(id(b))"
   ]
  },
  {
   "cell_type": "code",
   "execution_count": 29,
   "metadata": {},
   "outputs": [
    {
     "name": "stdout",
     "output_type": "stream",
     "text": [
      "True\n",
      "1755319134576\n",
      "1755319134576\n"
     ]
    }
   ],
   "source": [
    "# Python stores small numbers at same memory address\n",
    "a = 3\n",
    "b = 3\n",
    "print(a is b)\n",
    "\n",
    "print(id(a))\n",
    "print(id(b))"
   ]
  },
  {
   "cell_type": "code",
   "execution_count": 30,
   "metadata": {},
   "outputs": [
    {
     "name": "stdout",
     "output_type": "stream",
     "text": [
      "False\n",
      "1755403444880\n",
      "1755403446512\n"
     ]
    }
   ],
   "source": [
    "# Python stores big numbers at different memory address\n",
    "a = 12345678\n",
    "b = 12345678\n",
    "print(a is b)\n",
    "\n",
    "print(id(a))\n",
    "print(id(b))"
   ]
  },
  {
   "cell_type": "code",
   "execution_count": 31,
   "metadata": {},
   "outputs": [
    {
     "name": "stdout",
     "output_type": "stream",
     "text": [
      "True\n",
      "1755403447184\n",
      "1755403447184\n"
     ]
    }
   ],
   "source": [
    "# 2 variables living at same memory address\n",
    "a = 36879373\n",
    "b = a\n",
    "print(a is b) \n",
    "\n",
    "print(id(a))\n",
    "print(id(b))"
   ]
  },
  {
   "cell_type": "code",
   "execution_count": 32,
   "metadata": {},
   "outputs": [
    {
     "name": "stdout",
     "output_type": "stream",
     "text": [
      "True\n",
      "False\n"
     ]
    }
   ],
   "source": [
    "# 2 list with same content but different memory address.\n",
    "a = [1, 2, 3]\n",
    "b = [1, 2, 3]\n",
    "\n",
    "print(a == b)  # True, values are equal\n",
    "print(a is b)  # False, different memory locations"
   ]
  },
  {
   "cell_type": "markdown",
   "metadata": {},
   "source": [
    "# STOP"
   ]
  },
  {
   "cell_type": "code",
   "execution_count": null,
   "metadata": {
    "jupyter": {
     "source_hidden": true
    }
   },
   "outputs": [],
   "source": []
  },
  {
   "cell_type": "code",
   "execution_count": null,
   "metadata": {
    "jupyter": {
     "source_hidden": true
    }
   },
   "outputs": [],
   "source": []
  },
  {
   "cell_type": "code",
   "execution_count": null,
   "metadata": {
    "jupyter": {
     "source_hidden": true
    }
   },
   "outputs": [],
   "source": []
  },
  {
   "cell_type": "code",
   "execution_count": null,
   "metadata": {
    "jupyter": {
     "source_hidden": true
    }
   },
   "outputs": [],
   "source": []
  },
  {
   "cell_type": "code",
   "execution_count": null,
   "metadata": {
    "jupyter": {
     "source_hidden": true
    }
   },
   "outputs": [],
   "source": []
  },
  {
   "cell_type": "code",
   "execution_count": null,
   "metadata": {
    "jupyter": {
     "source_hidden": true
    }
   },
   "outputs": [],
   "source": []
  },
  {
   "cell_type": "code",
   "execution_count": null,
   "metadata": {
    "jupyter": {
     "source_hidden": true
    }
   },
   "outputs": [],
   "source": []
  },
  {
   "cell_type": "code",
   "execution_count": null,
   "metadata": {
    "jupyter": {
     "source_hidden": true
    }
   },
   "outputs": [],
   "source": []
  },
  {
   "cell_type": "code",
   "execution_count": null,
   "metadata": {
    "jupyter": {
     "source_hidden": true
    }
   },
   "outputs": [],
   "source": []
  },
  {
   "cell_type": "code",
   "execution_count": null,
   "metadata": {
    "jupyter": {
     "source_hidden": true
    }
   },
   "outputs": [],
   "source": [
    "# Simulate checking weather data\n",
    "temperature = None  # No data yet\n",
    "# temperature = 30  # temperature received from the weather API\n",
    "\n",
    "if temperature is None:\n",
    "    print(\"Weather data not available yet\")\n",
    "\n",
    "if temperature is not None:\n",
    "    print(f\"The current temperature is {temperature}°C\")\n"
   ]
  },
  {
   "cell_type": "code",
   "execution_count": null,
   "metadata": {
    "jupyter": {
     "source_hidden": true
    }
   },
   "outputs": [],
   "source": [
    "# (SKIP) OPTIONAL: example3: The salary must be good(>25000) and either credit score is high or a guarantor is available.\n",
    "\n",
    "salary = 30000\n",
    "credit_score = 650\n",
    "has_guarantor = True\n",
    "\n",
    "b = salary > 25000 and (credit_score > 700 or has_guarantor)\n",
    "\n",
    "print(b)"
   ]
  },
  {
   "cell_type": "code",
   "execution_count": null,
   "metadata": {
    "jupyter": {
     "source_hidden": true
    }
   },
   "outputs": [],
   "source": []
  },
  {
   "cell_type": "code",
   "execution_count": null,
   "metadata": {
    "jupyter": {
     "source_hidden": true
    }
   },
   "outputs": [],
   "source": []
  },
  {
   "cell_type": "code",
   "execution_count": null,
   "metadata": {
    "jupyter": {
     "source_hidden": true
    }
   },
   "outputs": [],
   "source": []
  },
  {
   "cell_type": "code",
   "execution_count": null,
   "metadata": {
    "jupyter": {
     "source_hidden": true
    }
   },
   "outputs": [],
   "source": []
  },
  {
   "cell_type": "code",
   "execution_count": null,
   "metadata": {
    "jupyter": {
     "source_hidden": true
    }
   },
   "outputs": [],
   "source": []
  },
  {
   "cell_type": "markdown",
   "metadata": {},
   "source": [
    "# STOP"
   ]
  },
  {
   "cell_type": "code",
   "execution_count": null,
   "metadata": {
    "jupyter": {
     "source_hidden": true
    }
   },
   "outputs": [],
   "source": [
    "# (SKIP) OPTIONAL: EXAMPLE3: \n",
    "user = \"ash\"\n",
    "\n",
    "res = user == 'admin' or user == 'jerry' # False or False\n",
    "# res = (user == 'admin' or user == 'jerry') # I put () for readability.  \n",
    "# res = (user == 'admin' or user == 'ash') # False or True\n",
    "\n",
    "print(res)"
   ]
  },
  {
   "cell_type": "code",
   "execution_count": null,
   "metadata": {
    "jupyter": {
     "source_hidden": true
    }
   },
   "outputs": [],
   "source": [
    "# SKIP\n",
    "a = [1, 2, 3]\n",
    "b = a\n",
    "print(a is b)  # True (same object in memory)\n",
    "\n",
    "c = [1, 2, 3]\n",
    "print(a is c)  # False (same value, but different object)"
   ]
  },
  {
   "cell_type": "code",
   "execution_count": null,
   "metadata": {
    "jupyter": {
     "source_hidden": true
    }
   },
   "outputs": [],
   "source": [
    "a = [1, 2, 3]\n",
    "b = [1, 2, 3]\n",
    "print(a is b)   # False — different objects in memory\n",
    "\n",
    "c = a\n",
    "print(a is c)   # True — both point to the same list object"
   ]
  },
  {
   "cell_type": "code",
   "execution_count": null,
   "metadata": {
    "jupyter": {
     "source_hidden": true
    }
   },
   "outputs": [],
   "source": [
    "m = [1, 2, 3] # 0A1203CF\n",
    "n = m\n",
    "\n",
    "print(id(m)) # memory address (identity) of the object m.\n",
    "print(id(n)) # memory address (identity) of the object n."
   ]
  },
  {
   "cell_type": "code",
   "execution_count": null,
   "metadata": {
    "jupyter": {
     "source_hidden": true
    }
   },
   "outputs": [],
   "source": [
    "m = [1, 2, 3] \n",
    "n = [1, 2, 3]\n",
    "\n",
    "print(id(m)) # memory address (identity) of the object m.\n",
    "print(id(n)) # memory address (identity) of the object n."
   ]
  },
  {
   "cell_type": "code",
   "execution_count": null,
   "metadata": {
    "jupyter": {
     "source_hidden": true
    }
   },
   "outputs": [],
   "source": [
    "# Simulate checking weather data\n",
    "temperature = None  # No data yet\n",
    "# temperature = 30  # temperature received from the weather API\n",
    "\n",
    "if temperature is None:\n",
    "    print(\"Weather data not available yet\")\n",
    "\n",
    "if temperature is not None:\n",
    "    print(f\"The current temperature is {temperature}°C\")\n"
   ]
  }
 ],
 "metadata": {
  "kernelspec": {
   "display_name": "Python 3 (ipykernel)",
   "language": "python",
   "name": "python3"
  },
  "language_info": {
   "codemirror_mode": {
    "name": "ipython",
    "version": 3
   },
   "file_extension": ".py",
   "mimetype": "text/x-python",
   "name": "python",
   "nbconvert_exporter": "python",
   "pygments_lexer": "ipython3",
   "version": "3.9.9"
  }
 },
 "nbformat": 4,
 "nbformat_minor": 4
}
