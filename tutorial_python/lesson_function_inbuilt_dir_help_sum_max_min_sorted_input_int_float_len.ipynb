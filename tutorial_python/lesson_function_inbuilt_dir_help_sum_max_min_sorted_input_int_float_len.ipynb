{
 "cells": [
  {
   "cell_type": "code",
   "execution_count": 27,
   "id": "ccd420ef-b276-4032-a275-7fb800ce0518",
   "metadata": {},
   "outputs": [
    {
     "name": "stdout",
     "output_type": "stream",
     "text": [
      "['ArithmeticError', 'AssertionError', 'AttributeError', 'BaseException', 'BlockingIOError', 'BrokenPipeError', 'BufferError', 'BytesWarning', 'ChildProcessError', 'ConnectionAbortedError', 'ConnectionError', 'ConnectionRefusedError', 'ConnectionResetError', 'DeprecationWarning', 'EOFError', 'Ellipsis', 'EnvironmentError', 'Exception', 'False', 'FileExistsError', 'FileNotFoundError', 'FloatingPointError', 'FutureWarning', 'GeneratorExit', 'IOError', 'ImportError', 'ImportWarning', 'IndentationError', 'IndexError', 'InterruptedError', 'IsADirectoryError', 'KeyError', 'KeyboardInterrupt', 'LookupError', 'MemoryError', 'ModuleNotFoundError', 'NameError', 'None', 'NotADirectoryError', 'NotImplemented', 'NotImplementedError', 'OSError', 'OverflowError', 'PendingDeprecationWarning', 'PermissionError', 'ProcessLookupError', 'RecursionError', 'ReferenceError', 'ResourceWarning', 'RuntimeError', 'RuntimeWarning', 'StopAsyncIteration', 'StopIteration', 'SyntaxError', 'SyntaxWarning', 'SystemError', 'SystemExit', 'TabError', 'TimeoutError', 'True', 'TypeError', 'UnboundLocalError', 'UnicodeDecodeError', 'UnicodeEncodeError', 'UnicodeError', 'UnicodeTranslateError', 'UnicodeWarning', 'UserWarning', 'ValueError', 'Warning', 'WindowsError', 'ZeroDivisionError', '__IPYTHON__', '__build_class__', '__debug__', '__doc__', '__import__', '__loader__', '__name__', '__package__', '__spec__', 'abs', 'all', 'any', 'ascii', 'bin', 'bool', 'breakpoint', 'bytearray', 'bytes', 'callable', 'chr', 'classmethod', 'compile', 'complex', 'copyright', 'credits', 'delattr', 'dict', 'dir', 'display', 'divmod', 'enumerate', 'eval', 'exec', 'execfile', 'filter', 'float', 'format', 'frozenset', 'get_ipython', 'getattr', 'globals', 'hasattr', 'hash', 'help', 'hex', 'id', 'input', 'int', 'isinstance', 'issubclass', 'iter', 'len', 'license', 'list', 'locals', 'map', 'max', 'memoryview', 'min', 'next', 'object', 'oct', 'open', 'ord', 'pow', 'print', 'property', 'range', 'repr', 'reversed', 'round', 'runfile', 'set', 'setattr', 'slice', 'sorted', 'staticmethod', 'str', 'sum', 'super', 'tuple', 'type', 'vars', 'zip']\n"
     ]
    }
   ],
   "source": [
    "# I want to see the list of all in built functions offered by python: \n",
    "# I will use print() and dir() in-built function to see all in-built functions. COOL\n",
    "\n",
    "print(dir(__builtins__))"
   ]
  },
  {
   "cell_type": "markdown",
   "id": "8d053f91-17c8-41cb-a1a8-60be745368d8",
   "metadata": {},
   "source": [
    "### The relevant in-built keywords:\n",
    "- True, False, None, etc\n",
    "\n",
    "### The relevant in-built functions:\n",
    "\n",
    "'abs', 'all', 'any', 'ascii', 'bin', 'bool', 'breakpoint', 'bytearray', 'bytes', 'callable', 'chr', 'classmethod', 'compile', 'complex', 'copyright', 'credits', 'delattr', 'dict', 'dir', 'display', 'divmod', 'enumerate', 'eval', 'exec', 'execfile', 'filter', 'float', 'format', 'frozenset', 'get_ipython', 'getattr', 'globals', 'hasattr', 'hash', 'help', 'hex', 'id', 'input', 'int', 'isinstance', 'issubclass', 'iter', 'len', 'license', 'list', 'locals', 'map', 'max', 'memoryview', 'min', 'next', 'object', 'oct', 'open', 'ord', 'pow', 'print', 'property', 'range', 'repr', 'reversed', 'round', 'runfile', 'set', 'setattr', 'slice', 'sorted', 'staticmethod', 'str', 'sum', 'super', 'tuple', 'type', 'vars', 'zip'"
   ]
  },
  {
   "cell_type": "code",
   "execution_count": 30,
   "id": "9d745ad0-0594-4e53-b6cd-ec011dc0aa2f",
   "metadata": {},
   "outputs": [
    {
     "name": "stdout",
     "output_type": "stream",
     "text": [
      "Help on built-in function sorted in module builtins:\n",
      "\n",
      "sorted(iterable, /, *, key=None, reverse=False)\n",
      "    Return a new list containing all items from the iterable in ascending order.\n",
      "    \n",
      "    A custom key function can be supplied to customize the sort order, and the\n",
      "    reverse flag can be set to request the result in descending order.\n",
      "\n",
      "None\n"
     ]
    }
   ],
   "source": [
    "# help(): display documentation about functions, methods, keywords, etc.\n",
    "# It’s like Python’s built-in mini-manual system\n",
    "\n",
    "# help on functions\n",
    "# print(help('sum')) \n",
    "# print(help('min'))\n",
    "# print(help('max'))\n",
    "print(help('sorted'))\n",
    "\n",
    "# on keyword\n",
    "# print(help(True)) \n",
    "# print(help(int))\n"
   ]
  },
  {
   "cell_type": "code",
   "execution_count": 31,
   "id": "4791b334-babc-4966-b121-508784ab33a0",
   "metadata": {},
   "outputs": [
    {
     "name": "stdout",
     "output_type": "stream",
     "text": [
      "Sum: 14\n",
      "Minimum: -1\n",
      "Maximum: 7\n",
      "Sorted numbers: [-1, 3, 5, 7]\n"
     ]
    }
   ],
   "source": [
    "# Lets look at sum, min, max, sorted\n",
    "\n",
    "# example of iterable: list\n",
    "numbers = [3, 7, 5, -1] # list of numbers\n",
    "\n",
    "res = sum(numbers)\n",
    "print(f\"Sum: {res}\")\n",
    "\n",
    "res = min(numbers)\n",
    "print(f\"Minimum: {res}\")\n",
    "\n",
    "res = max(numbers)\n",
    "print(f\"Maximum: {res}\")\n",
    "\n",
    "res = sorted(numbers)\n",
    "print(f\"Sorted numbers: {res}\")"
   ]
  },
  {
   "cell_type": "code",
   "execution_count": 35,
   "id": "57bb5ea6-70e0-4a8f-9fd3-3449e3c98dab",
   "metadata": {},
   "outputs": [
    {
     "name": "stdout",
     "output_type": "stream",
     "text": [
      "4\n",
      "5\n",
      "3\n"
     ]
    }
   ],
   "source": [
    "# Need for len function:\n",
    "# I want to count the num of elements in containers for data\n",
    "\n",
    "fruits = [ \"Guava\", \"Kiwi\", \"Mango\", \"Kiwi\" ] # list\n",
    "print(len(fruits))\n",
    "\n",
    "fruits = ( \"Guava\", \"Kiwi\", \"Mango\", \"Kiwi\", \"jackfruit\" ) # tuple\n",
    "print(len(fruits))\n",
    "\n",
    "fruits = { \"Guava\", \"Kiwi\", \"Mango\" } # set\n",
    "print(len(fruits))"
   ]
  },
  {
   "cell_type": "code",
   "execution_count": 36,
   "id": "ffee9d63-16cc-4b13-a1a2-9d7f56cdb034",
   "metadata": {},
   "outputs": [
    {
     "name": "stdout",
     "output_type": "stream",
     "text": [
      "The sum is 12\n"
     ]
    }
   ],
   "source": [
    "# The need for input function: we want interactive program\n",
    "\n",
    "# STEP1: User does not supply input\n",
    "a = 5\n",
    "b = 7\n",
    "ans = a + b\n",
    "\n",
    "print(f\"The sum is {ans}\")"
   ]
  },
  {
   "cell_type": "code",
   "execution_count": 37,
   "id": "4f702b3c-e52a-4972-bb7a-f6c2cd1ab1e8",
   "metadata": {},
   "outputs": [
    {
     "name": "stdin",
     "output_type": "stream",
     "text": [
      "enter your first number: 3\n",
      "enter your second number: 4\n"
     ]
    },
    {
     "name": "stdout",
     "output_type": "stream",
     "text": [
      "You entered 3 and 4\n",
      "The type of a is <class 'str'>. The type of b is <class 'str'>\n",
      "Your sum is 34\n"
     ]
    }
   ],
   "source": [
    "# STEP2: We want user to input data. Now user supplies input ( but output is not what was desired )\n",
    "\n",
    "a = input(\"enter your first number:\") # here a is str\n",
    "b = input(\"enter your second number:\") # here b is str\n",
    "\n",
    "# Lets print what the user entered\n",
    "print(f\"You entered {a} and {b}\")\n",
    "print(f\"The type of a is {type(a)}. The type of b is {type(b)}\")\n",
    "\n",
    "# And add the numbers\n",
    "ans = a + b # concatenates the string\n",
    "print(f\"Your sum is {ans}\") # ANSWER IS WRONG"
   ]
  },
  {
   "cell_type": "code",
   "execution_count": 38,
   "id": "56f14a4e-36b2-4749-85e8-2e4a8e86c574",
   "metadata": {},
   "outputs": [
    {
     "name": "stdin",
     "output_type": "stream",
     "text": [
      "enter your first number: 3\n",
      "enter your second number: 4\n"
     ]
    },
    {
     "name": "stdout",
     "output_type": "stream",
     "text": [
      "Your sum is 7\n"
     ]
    }
   ],
   "source": [
    "# STEP3: The need for int function.\n",
    "# convert a, b into data-type int using type casting\n",
    "a = input(\"enter your first number:\") # here a is str\n",
    "b = input(\"enter your second number:\") # here b is str\n",
    "\n",
    "a = int(a) # type cast\n",
    "b = int(b) # type cast\n",
    "\n",
    "ans = a + b\n",
    "\n",
    "print(f\"Your sum is {ans}\") # ANSWER IS RIGHT"
   ]
  },
  {
   "cell_type": "code",
   "execution_count": 46,
   "id": "b5b9b70f-dbd6-46b1-b410-b746aaf75b6f",
   "metadata": {},
   "outputs": [
    {
     "name": "stdin",
     "output_type": "stream",
     "text": [
      "enter your first number : 3\n",
      "enter your second number: 4\n"
     ]
    },
    {
     "name": "stdout",
     "output_type": "stream",
     "text": [
      "Your sum is 7\n"
     ]
    }
   ],
   "source": [
    "# STEP4: convert a, b into data-type int directly: Let's combine/wrap int on input: \n",
    "a = int(input(\"enter your first number :\")) # here a is int\n",
    "b = int(input(\"enter your second number:\")) # here b is int\n",
    "\n",
    "ans = a + b\n",
    "\n",
    "print(f\"Your sum is {ans}\") # ANSWER IS RIGHT"
   ]
  },
  {
   "cell_type": "code",
   "execution_count": 44,
   "id": "2ce843a7-c03b-40f1-95e2-cb318b7a8d8c",
   "metadata": {},
   "outputs": [
    {
     "name": "stdout",
     "output_type": "stream",
     "text": [
      "6\n"
     ]
    }
   ],
   "source": [
    "# SIDE NOTE: We can convert only whole numbers to int, not text character that are not whole numbers \n",
    "\n",
    "# a = \"heebie-jeebie\" # ERROR\n",
    "# a = \"6.7\" # ERROR\n",
    "\n",
    "# a = 6.7  # FINE: 6\n",
    "a = \"6\" # FINE: 11\n",
    "\n",
    "x = int(a) \n",
    "print(x)"
   ]
  },
  {
   "cell_type": "code",
   "execution_count": 47,
   "id": "1dcf869e-cd8d-4164-ad26-1cd9ae02f68a",
   "metadata": {},
   "outputs": [
    {
     "name": "stdin",
     "output_type": "stream",
     "text": [
      "enter your first number 2.3\n",
      "enter your second number 2.1\n"
     ]
    },
    {
     "name": "stdout",
     "output_type": "stream",
     "text": [
      "you entered 2.3 and 2.1\n",
      "Your product is 4.83\n"
     ]
    }
   ],
   "source": [
    "# int expects the string to be int kind, not float kind. \n",
    "# int(\"6\") is fine, but int(\"6.7\") would give error.\n",
    "# Now comes the need for float function: Now user supplies input with float values.\n",
    "\n",
    "a = float(input(\"enter your first number\"))  # user supplies 6.7\n",
    "b = float(input(\"enter your second number\")) # user supplies 2.1\n",
    "\n",
    "ans = a * b\n",
    "\n",
    "print(f\"you entered {a} and {b}\")\n",
    "print(f\"Your product is {ans}\")\n",
    "\n",
    "# print(type(ans))"
   ]
  },
  {
   "cell_type": "code",
   "execution_count": null,
   "id": "c95678a2-ee30-477f-a56d-fdc5a0f75822",
   "metadata": {},
   "outputs": [],
   "source": []
  },
  {
   "cell_type": "code",
   "execution_count": null,
   "id": "722ef932-41e8-408e-a4a5-add46242227e",
   "metadata": {},
   "outputs": [],
   "source": []
  }
 ],
 "metadata": {
  "kernelspec": {
   "display_name": "Python 3 (ipykernel)",
   "language": "python",
   "name": "python3"
  },
  "language_info": {
   "codemirror_mode": {
    "name": "ipython",
    "version": 3
   },
   "file_extension": ".py",
   "mimetype": "text/x-python",
   "name": "python",
   "nbconvert_exporter": "python",
   "pygments_lexer": "ipython3",
   "version": "3.9.9"
  }
 },
 "nbformat": 4,
 "nbformat_minor": 5
}
