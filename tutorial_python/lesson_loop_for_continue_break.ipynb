{
 "cells": [
  {
   "cell_type": "markdown",
   "id": "d42fed27-2540-47d1-b144-8ddc6650e58f",
   "metadata": {},
   "source": [
    "# For loop + range + continue + break\n",
    "- Allow you to perform repetitive tasks.\n",
    "- Following is the general expression of for loop:\n",
    "```\n",
    "for variable in iterable:\n",
    "    # block of code\n",
    "```\n"
   ]
  },
  {
   "cell_type": "code",
   "execution_count": 83,
   "id": "de9d4088-3424-4b40-b27f-b8521a329737",
   "metadata": {},
   "outputs": [
    {
     "name": "stdout",
     "output_type": "stream",
     "text": [
      "Hello\n",
      "Hello\n",
      "Hello\n",
      "Hello\n"
     ]
    }
   ],
   "source": [
    "# step1: suppose we want to print hello 4 times:\n",
    "print(\"Hello\")\n",
    "print(\"Hello\")    \n",
    "print(\"Hello\")\n",
    "print(\"Hello\")"
   ]
  },
  {
   "cell_type": "code",
   "execution_count": 84,
   "id": "179406f7-4086-404f-96b7-91fb8213cb76",
   "metadata": {},
   "outputs": [
    {
     "name": "stdout",
     "output_type": "stream",
     "text": [
      "Hello\n",
      "Hello\n",
      "Hello\n",
      "Hello\n"
     ]
    }
   ],
   "source": [
    "# step2: Or I can print using for loop\n",
    "for i in [0, 1, 2, 3]: \n",
    "    print(\"Hello\")"
   ]
  },
  {
   "cell_type": "code",
   "execution_count": 85,
   "id": "1518cbca-0181-4c16-938f-b6360303155e",
   "metadata": {},
   "outputs": [
    {
     "name": "stdout",
     "output_type": "stream",
     "text": [
      "hello\n",
      "I am trapped in for loop\n",
      "hello\n",
      "I am trapped in for loop\n",
      "hello\n",
      "I am trapped in for loop\n",
      "hello\n",
      "I am trapped in for loop\n",
      "+++++Finished++++++\n"
     ]
    }
   ],
   "source": [
    "# where does the for loop ends: thats decided by indentation\n",
    "for i in [0, 1, 2, 3]:\n",
    "    print(\"hello\")\n",
    "    print(\"I am trapped in for loop\") \n",
    "\n",
    "print(\"+++++Finished++++++\")"
   ]
  },
  {
   "cell_type": "code",
   "execution_count": 88,
   "id": "20d82859",
   "metadata": {},
   "outputs": [
    {
     "name": "stdout",
     "output_type": "stream",
     "text": [
      "The value of i is 0\n",
      "The value of i is 1\n",
      "The value of i is 2\n",
      "The value of i is 3\n"
     ]
    }
   ],
   "source": [
    "# What is this variable iterator i? Lets print this\n",
    "# STEP1: \n",
    "for i in [0, 1, 2, 3]: \n",
    "    print(f\"The value of i is {i}\") # here I am accessing iterator i"
   ]
  },
  {
   "cell_type": "code",
   "execution_count": 89,
   "id": "e4095c29-96c4-4622-a0d8-16f32e278e62",
   "metadata": {},
   "outputs": [
    {
     "name": "stdout",
     "output_type": "stream",
     "text": [
      "Count down 5\n",
      "...Hold your breath\n",
      "Count down 4\n",
      "...Hold your breath\n",
      "Count down 3\n",
      "...Hold your breath\n",
      "Count down 2\n",
      "...Hold your breath\n",
      "Count down 1\n",
      "...Hold your breath\n",
      "+++++++++LIFT OFF+++++++++++\n"
     ]
    }
   ],
   "source": [
    "# STEP2: Lets use i to print count down and then lift off\n",
    "for i in [5, 4, 3, 2, 1]:\n",
    "    print(f\"Count down {i}\")\n",
    "    print(\"...Hold your breath\") \n",
    "\n",
    "print(\"+++++++++LIFT OFF+++++++++++\")"
   ]
  },
  {
   "cell_type": "code",
   "execution_count": null,
   "id": "51957e0e-e100-4cf8-938b-838f97204e47",
   "metadata": {
    "jupyter": {
     "source_hidden": true
    }
   },
   "outputs": [],
   "source": []
  },
  {
   "cell_type": "code",
   "execution_count": 92,
   "id": "da3fbf64-6fb2-4440-87c7-e4fcb9704d89",
   "metadata": {},
   "outputs": [
    {
     "name": "stdout",
     "output_type": "stream",
     "text": [
      "3 * 1 = 3\n",
      "3 * 2 = 6\n",
      "3 * 3 = 9\n",
      "3 * 4 = 12\n"
     ]
    }
   ],
   "source": [
    "# step1: lets perform some math on elements: multiply all elements by 3\n",
    "for i in [1, 2, 3, 4]:\n",
    "    print(f\"3 * {i} = {i*3}\")"
   ]
  },
  {
   "cell_type": "code",
   "execution_count": 94,
   "id": "70dbe246-612b-4a56-a13e-c75e028681d2",
   "metadata": {},
   "outputs": [
    {
     "name": "stdout",
     "output_type": "stream",
     "text": [
      "3 * 1 = 3\n",
      "3 * 2 = 6\n",
      "3 * 3 = 9\n",
      "3 * 4 = 12\n",
      "3 * 5 = 15\n",
      "3 * 6 = 18\n",
      "3 * 7 = 21\n",
      "3 * 8 = 24\n",
      "3 * 9 = 27\n",
      "3 * 10 = 30\n",
      "3 * 11 = 33\n",
      "3 * 12 = 36\n",
      "3 * 13 = 39\n",
      "3 * 14 = 42\n",
      "3 * 15 = 45\n",
      "3 * 16 = 48\n",
      "3 * 17 = 51\n",
      "3 * 18 = 54\n",
      "3 * 19 = 57\n",
      "3 * 20 = 60\n"
     ]
    }
   ],
   "source": [
    "# step2: range()- lets perform same math with range()\n",
    "for i in range(1, 21):\n",
    "    print(f\"3 * {i} = {i*3}\")"
   ]
  },
  {
   "cell_type": "code",
   "execution_count": 95,
   "id": "5e5272aa-e45d-4eda-a7bf-6702c67fc2df",
   "metadata": {},
   "outputs": [
    {
     "name": "stdout",
     "output_type": "stream",
     "text": [
      "3 * 2 = 6\n",
      "3 * 7 = 21\n",
      "3 * 12 = 36\n",
      "3 * 17 = 51\n"
     ]
    }
   ],
   "source": [
    "# STEP3: range()- lets perform multiplication of 3 with [2, 7, 12, 17]\n",
    "\n",
    "for i in range(2, 18, 5):\n",
    "    print(f\"3 * {i} = {i*3}\")"
   ]
  },
  {
   "cell_type": "code",
   "execution_count": 97,
   "id": "b2d828e0-1ec3-4ac1-95c2-4fa2031f1367",
   "metadata": {},
   "outputs": [
    {
     "name": "stdout",
     "output_type": "stream",
     "text": [
      "Count down 5\n",
      "Count down 4\n",
      "Count down 3\n",
      "Count down 2\n",
      "Count down 1\n",
      "+++ LIFT OFF +++\n"
     ]
    }
   ],
   "source": [
    "# STEP4: range()- count down\n",
    "\n",
    "for i in range(5, 0, -1): # [ 5, 4, 3, 2, 1 ]\n",
    "    print(f\"Count down {i}\")\n",
    "\n",
    "print(\"+++ LIFT OFF +++\")"
   ]
  },
  {
   "cell_type": "code",
   "execution_count": null,
   "id": "c4d58089-d507-45b7-92e3-b2af2e14a5bb",
   "metadata": {
    "jupyter": {
     "source_hidden": true
    }
   },
   "outputs": [],
   "source": []
  },
  {
   "cell_type": "code",
   "execution_count": 98,
   "id": "6bf3db47",
   "metadata": {},
   "outputs": [
    {
     "name": "stdout",
     "output_type": "stream",
     "text": [
      "I love mango\n",
      "I love kiwi\n",
      "I love cherry\n",
      "I love jackfruit\n"
     ]
    }
   ],
   "source": [
    "#1) prints all elements of a list with meaningful message with each fruit\n",
    "fruits = [\"mango\", \"kiwi\", \"cherry\", \"jackfruit\"]\n",
    "for e in fruits:\n",
    "    print(f\"I love {e}\")"
   ]
  },
  {
   "cell_type": "code",
   "execution_count": null,
   "id": "1f337507-ff95-4970-84db-c36ad69a48c3",
   "metadata": {
    "jupyter": {
     "source_hidden": true
    }
   },
   "outputs": [],
   "source": []
  },
  {
   "cell_type": "markdown",
   "id": "1d330e7e-58eb-4bb4-853f-c330f744acfb",
   "metadata": {},
   "source": [
    "# for + break \n",
    "- **break**: immediately exits the loop even if some iterations are left\n"
   ]
  },
  {
   "cell_type": "code",
   "execution_count": 101,
   "id": "d050f00f-fd4c-4e47-b8b6-879fecffaeb4",
   "metadata": {},
   "outputs": [
    {
     "name": "stdout",
     "output_type": "stream",
     "text": [
      "checking 5\n",
      "checking 23\n",
      "checking 7\n",
      "Found target! Exiting the for loop\n",
      "+++++Loop finished++++++\n"
     ]
    }
   ],
   "source": [
    "# for + break:\n",
    "\n",
    "# 1) Find if number 7 exists in a list: exit the loop after finding 7 in a list of numbers\n",
    "numbers = [5, 23, 7, 3, 65, 16, 3, 14]\n",
    "\n",
    "for i in numbers:\n",
    "    print(f\"checking {i}\")\n",
    "    if i == 7:\n",
    "        print(f\"Found target! Exiting the for loop\")\n",
    "        break # NOTE: comment it out to see what happens without it\n",
    "        \n",
    "print(\"+++++Loop finished++++++\")     "
   ]
  },
  {
   "cell_type": "markdown",
   "id": "77bc3fbb-403b-489d-8cb4-02afbfd0ed0d",
   "metadata": {},
   "source": [
    "# for + continue\n",
    "- **continue**: skip the rest of the current loop iteration and move to the next iteration"
   ]
  },
  {
   "cell_type": "code",
   "execution_count": 104,
   "id": "4bbfc1aa-2618-4421-83f0-edcee0ec903f",
   "metadata": {},
   "outputs": [
    {
     "name": "stdout",
     "output_type": "stream",
     "text": [
      "number: 5\n",
      "number: 23\n",
      "number: 8\n",
      "number: 3\n",
      "skipping number 65\n",
      "number: 16\n",
      "skipping number 65\n",
      "number: 14\n",
      "number: 3\n",
      "+++++Loop finished++++++\n"
     ]
    }
   ],
   "source": [
    "# 1) continue: print all number except 65\n",
    "numbers = [5, 23, 8, 3, 65, 16, 65, 14, 3]\n",
    "\n",
    "for i in numbers:\n",
    "    if i == 65:\n",
    "        print(f\"skipping number {i}\")\n",
    "        continue # NOTE: comment it out to see what happens without it\n",
    "    print(f\"number: {i}\")\n",
    "    \n",
    "print(\"+++++Loop finished++++++\")     "
   ]
  },
  {
   "cell_type": "markdown",
   "id": "94bcd255-548d-4ae7-9bbe-1a648ebbf626",
   "metadata": {},
   "source": [
    "# STOP"
   ]
  },
  {
   "cell_type": "code",
   "execution_count": null,
   "id": "d26a2670-8e4a-41d8-bdd7-5ce1bd483ccf",
   "metadata": {
    "jupyter": {
     "source_hidden": true
    }
   },
   "outputs": [],
   "source": []
  },
  {
   "cell_type": "code",
   "execution_count": null,
   "id": "93cb17be-7a2e-474a-aff6-e6a4920cb3fe",
   "metadata": {
    "jupyter": {
     "source_hidden": true
    }
   },
   "outputs": [],
   "source": []
  },
  {
   "cell_type": "code",
   "execution_count": null,
   "id": "63cc8f76-5944-4cd1-b7e4-b5664bddb66b",
   "metadata": {
    "jupyter": {
     "source_hidden": true
    }
   },
   "outputs": [],
   "source": []
  },
  {
   "cell_type": "code",
   "execution_count": null,
   "id": "8c1862a6-0909-498e-9316-a726fa319c17",
   "metadata": {
    "jupyter": {
     "source_hidden": true
    }
   },
   "outputs": [],
   "source": []
  },
  {
   "cell_type": "code",
   "execution_count": null,
   "id": "d0b69048-98ef-4596-8a37-61e65dc81e41",
   "metadata": {
    "jupyter": {
     "source_hidden": true
    }
   },
   "outputs": [],
   "source": []
  },
  {
   "cell_type": "code",
   "execution_count": null,
   "id": "af16baa7-d997-405c-af9e-5d505d1be51b",
   "metadata": {
    "jupyter": {
     "source_hidden": true
    }
   },
   "outputs": [],
   "source": []
  },
  {
   "cell_type": "code",
   "execution_count": null,
   "id": "d1846258-caf7-4c8a-af7a-38905971e90c",
   "metadata": {
    "jupyter": {
     "source_hidden": true
    }
   },
   "outputs": [],
   "source": []
  },
  {
   "cell_type": "markdown",
   "id": "83637bc8-5361-4457-a2d2-7ea8eccf8ec6",
   "metadata": {},
   "source": [
    "# Range\n",
    "### Generally used with for loop"
   ]
  },
  {
   "cell_type": "code",
   "execution_count": null,
   "id": "01494997-987b-4045-9400-7f5926b53c5a",
   "metadata": {
    "jupyter": {
     "source_hidden": true
    }
   },
   "outputs": [],
   "source": [
    "# Now comes range: It helps to iterate many many times..say 100\n",
    "# range(start, stop, step): Generates a sequence from start up to (but not including) stop, incrementing by step.\n",
    "# default step=1\n",
    "\n",
    "for i in range(0,4): # here start=0, stop=4\n",
    "    print(f\"{i} hello\") # here I am accessing iterator i\n",
    "    print(\"I am trapped in for loop\") \n",
    "    \n",
    "print(\"finished\")\n",
    "\n",
    "#################################\n",
    "# Lets perform some math on elements: multiply all elements by 3\n",
    "for i in range(0,4):\n",
    "    res = i * 3\n",
    "    print(f\"{i} * 3 = {res} \")\n",
    "    \n",
    "print(\"Finished\")\n",
    "\n",
    "##################################\n",
    "# lets redo above and add the step in range: 0,4,8,12\n",
    "for i in range(0,16,4): # start=0, stop=16, step=4\n",
    "    res = i * 4\n",
    "    print(f\"{i} * 4 = {res}\")\n",
    "    "
   ]
  },
  {
   "cell_type": "code",
   "execution_count": null,
   "id": "18dc6da2-ef21-48b1-9981-eeed22fe930c",
   "metadata": {
    "jupyter": {
     "source_hidden": true
    }
   },
   "outputs": [],
   "source": []
  },
  {
   "cell_type": "code",
   "execution_count": null,
   "id": "8c18fb4d-2bbc-45fa-9169-cb624fa5abff",
   "metadata": {
    "jupyter": {
     "source_hidden": true
    }
   },
   "outputs": [],
   "source": []
  },
  {
   "cell_type": "code",
   "execution_count": null,
   "id": "5561b091-da53-4f8c-8dd0-e9a39c33f643",
   "metadata": {
    "jupyter": {
     "source_hidden": true
    }
   },
   "outputs": [],
   "source": []
  },
  {
   "cell_type": "code",
   "execution_count": null,
   "id": "c61b6f14-134f-454b-990c-d69e671b7763",
   "metadata": {
    "jupyter": {
     "source_hidden": true
    }
   },
   "outputs": [],
   "source": []
  },
  {
   "cell_type": "code",
   "execution_count": null,
   "id": "eba92b2a-7722-40e5-8ebb-392858778a17",
   "metadata": {
    "jupyter": {
     "source_hidden": true
    }
   },
   "outputs": [],
   "source": []
  },
  {
   "cell_type": "code",
   "execution_count": null,
   "id": "521abda0-0d92-42e3-9878-ac1de12e7b11",
   "metadata": {
    "jupyter": {
     "source_hidden": true
    }
   },
   "outputs": [],
   "source": []
  },
  {
   "cell_type": "code",
   "execution_count": null,
   "id": "39aa4053-68ce-4005-bd52-95168587413b",
   "metadata": {
    "jupyter": {
     "source_hidden": true
    }
   },
   "outputs": [],
   "source": []
  },
  {
   "cell_type": "code",
   "execution_count": null,
   "id": "25e3ff6e-35fa-4d8b-b704-46517613a0c7",
   "metadata": {
    "jupyter": {
     "source_hidden": true
    }
   },
   "outputs": [],
   "source": []
  },
  {
   "cell_type": "code",
   "execution_count": null,
   "id": "7ad044fc-f1e3-4617-a3f8-8d4efd1ccc20",
   "metadata": {
    "jupyter": {
     "source_hidden": true
    }
   },
   "outputs": [],
   "source": []
  },
  {
   "cell_type": "code",
   "execution_count": null,
   "id": "df3f3eaf-63c8-47ae-80b0-b2584848c4c1",
   "metadata": {
    "jupyter": {
     "source_hidden": true
    }
   },
   "outputs": [],
   "source": []
  },
  {
   "cell_type": "code",
   "execution_count": null,
   "id": "8ca92536-32a7-489d-b712-933aec0d17d3",
   "metadata": {
    "jupyter": {
     "source_hidden": true
    }
   },
   "outputs": [],
   "source": []
  },
  {
   "cell_type": "markdown",
   "id": "c33d4ec8-7563-45fe-a95b-49b53b036605",
   "metadata": {},
   "source": [
    "# (ADVANCED) Nested \"for inside for\""
   ]
  },
  {
   "cell_type": "code",
   "execution_count": null,
   "id": "cb138bdc-d9ea-4f9d-bffc-4e6ca1549d8a",
   "metadata": {
    "jupyter": {
     "source_hidden": true
    }
   },
   "outputs": [],
   "source": [
    "# work backward...start with outer for loop and start adding inside for statement to see whats happening.\n",
    "#step1\n",
    "for outer in range(4): # Outer loop: iterates three times (0, 1, 2, 3)\n",
    "    print(\"start outer\")\n",
    "    print(f\"outer is {outer}\")\n",
    "    print(\"end outer\\n\")\n",
    "print(\"##########\")\n",
    "\n",
    "# step2\n",
    "for outer in range(4): # Outer loop: iterates three times (0, 1, 2, 3)\n",
    "    print(\"start outer\")\n",
    "    print(f\"outer is {outer}\")\n",
    "    for inner in range(3): # Inner loop: iterates two times (0, 1, 2) inside\n",
    "        print(f\"...inner is {inner}\")\n",
    "    print(\"end outer\\n\")"
   ]
  },
  {
   "cell_type": "code",
   "execution_count": null,
   "id": "f3a906e4-c1b2-4b9a-99e5-bfedaaba920b",
   "metadata": {
    "jupyter": {
     "source_hidden": true
    }
   },
   "outputs": [],
   "source": [
    "# I wanted to see what following loop is going to print.. and analyse this.\n",
    "for outer in range(4): # Outer loop: iterates three times (0, 1, 2, 3)\n",
    "    for inner in range(3): # Inner loop: iterates two times (0, 1, 2) for each i\n",
    "        print(f\"outer: {outer}, inner: {inner}\")\n",
    "    print(\"next\\n\")\n",
    "\n",
    "print(\"DONE\")"
   ]
  },
  {
   "cell_type": "code",
   "execution_count": null,
   "id": "b03d973d-c3d9-49e7-86d6-29ff24fa0a46",
   "metadata": {
    "jupyter": {
     "source_hidden": true
    }
   },
   "outputs": [],
   "source": [
    "# What can I do with this ? Answer: Print multiplication table...start small\n",
    "\n",
    "# STEP1: trial and error1: This is does not work\n",
    "for i in range(4): # Outer loop: iterates three times (0, 1, 2, 3)\n",
    "    for j in range(3): # Inner loop: iterates two times (0, 1, 2) for each i\n",
    "        result = i * j\n",
    "        print(f\"{i} x {j} = {result}\")\n",
    "    print(\"next\\n\")\n",
    "print(\"####################\")\n",
    "\n",
    "\n",
    "# STEP2: trial and error2: This is does not work\n",
    "for i in range(1, 5): # CHANGED  \n",
    "    for j in range(3):\n",
    "        result = i * j\n",
    "        print(f\"{i} x {j} = {result}\")  \n",
    "    print()  # Print a blank line after each table\n",
    "print(\"####################\")\n",
    "\n",
    "# STEP3: trial and error3: SUCCESS\n",
    "for i in range(1, 5):  \n",
    "    for j in range(1, 4):# CHANGED  \n",
    "        result = i * j\n",
    "        print(f\"{i} x {j} = {result}\")  \n",
    "    print()  # Print a blank line after each table\n",
    "print(\"####################\")\n",
    "\n",
    "\n",
    "# STEP4: trial and error3: OPTIMIZE\n",
    "for i in range(1, 5):  \n",
    "    for j in range(1, 4): \n",
    "        print(f\"{i} x {j} = {i*j}\")  # REMOVED variable result\n",
    "    print()  # Print a blank line after each table\n",
    "print(\"####################\")"
   ]
  },
  {
   "cell_type": "code",
   "execution_count": null,
   "id": "3bd6d23d-12cf-49b0-b49a-d695d875a1de",
   "metadata": {
    "jupyter": {
     "source_hidden": true
    }
   },
   "outputs": [],
   "source": [
    "# OPTIONAL: lets do some addition with nested for loop\n",
    "for i in range(1, 5):  \n",
    "    for j in range(1, 4):\n",
    "        result = i + j\n",
    "        print(f\"{i} + {j} = {result}\")  \n",
    "    print()  # Print a blank line after each table"
   ]
  },
  {
   "cell_type": "code",
   "execution_count": null,
   "id": "a8441499-9c15-4fc0-8aad-a4a60854767a",
   "metadata": {
    "jupyter": {
     "source_hidden": true
    }
   },
   "outputs": [],
   "source": []
  },
  {
   "cell_type": "code",
   "execution_count": null,
   "id": "da5bf28a-ac83-4466-bdbd-4e5e48b83a2d",
   "metadata": {
    "jupyter": {
     "source_hidden": true
    }
   },
   "outputs": [],
   "source": []
  }
 ],
 "metadata": {
  "kernelspec": {
   "display_name": "Python 3 (ipykernel)",
   "language": "python",
   "name": "python3"
  },
  "language_info": {
   "codemirror_mode": {
    "name": "ipython",
    "version": 3
   },
   "file_extension": ".py",
   "mimetype": "text/x-python",
   "name": "python",
   "nbconvert_exporter": "python",
   "pygments_lexer": "ipython3",
   "version": "3.9.9"
  }
 },
 "nbformat": 4,
 "nbformat_minor": 5
}
