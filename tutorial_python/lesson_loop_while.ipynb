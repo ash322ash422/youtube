{
 "cells": [
  {
   "cell_type": "markdown",
   "id": "1d674661-b2b9-47c6-97d7-b5ed5ad48430",
   "metadata": {},
   "source": [
    "## while\n",
    "\n",
    "```\n",
    "while [boolean_expression]:\n",
    "   # block_of_code\n",
    "```"
   ]
  },
  {
   "cell_type": "code",
   "execution_count": 9,
   "id": "f34e87b3-f2ca-48b4-8a72-b290f736e4fa",
   "metadata": {},
   "outputs": [
    {
     "name": "stdout",
     "output_type": "stream",
     "text": [
      "The value of i is  1\n",
      "The value of i is  2\n",
      "The value of i is  3\n",
      "The value of i is  4\n",
      "The value of i is  5\n"
     ]
    }
   ],
   "source": [
    "# 1. Basic while Loop\n",
    "\n",
    "# print 1 2 3 4 5 on each newline\n",
    "i = 1\n",
    "while i <= 5:\n",
    "    print(\"The value of i is \", i)\n",
    "    i += 1  # Increment i by 1"
   ]
  },
  {
   "cell_type": "code",
   "execution_count": 10,
   "id": "3b215707-d0eb-43de-a690-5684cf0eb88d",
   "metadata": {},
   "outputs": [
    {
     "name": "stdout",
     "output_type": "stream",
     "text": [
      "2\n",
      "4\n",
      "6\n",
      "8\n",
      "10\n",
      "Done\n"
     ]
    }
   ],
   "source": [
    "# Print only even numbers: 2 4 6 8 10\n",
    "# Same task can be accomplished multiple styles\n",
    "\n",
    "#style1:\n",
    "num = 2\n",
    "while num <= 10:\n",
    "    print(num)\n",
    "    num += 2 # increment num by 2\n",
    "\n",
    "print(\"Done\")"
   ]
  },
  {
   "cell_type": "code",
   "execution_count": 11,
   "id": "056d6a43-38c7-4d74-a0a9-2320966442a7",
   "metadata": {},
   "outputs": [
    {
     "name": "stdout",
     "output_type": "stream",
     "text": [
      "2\n",
      "4\n",
      "6\n",
      "8\n",
      "10\n",
      "Done\n"
     ]
    }
   ],
   "source": [
    "#style2\n",
    "num = 0\n",
    "while num < 10:\n",
    "    num += 1          # increment num by 1\n",
    "    if num % 2 == 0:  # Check if the number is even\n",
    "        print(num)    \n",
    "\n",
    "print(\"Done\")"
   ]
  },
  {
   "cell_type": "code",
   "execution_count": 15,
   "id": "21aa6e97-ba2e-49b7-a649-66aea75c2d8c",
   "metadata": {},
   "outputs": [
    {
     "name": "stdout",
     "output_type": "stream",
     "text": [
      "2\n",
      "4\n",
      "6\n",
      "8\n",
      "10\n",
      "Done\n"
     ]
    }
   ],
   "source": [
    "#style3: using continue\n",
    "num = 0\n",
    "while num < 10:\n",
    "    num += 1\n",
    "    if num % 2 != 0:\n",
    "        continue  # Skip odd numbers. Go to the next iteration\n",
    "    print(num)\n",
    "\n",
    "print(\"Done\")"
   ]
  },
  {
   "cell_type": "code",
   "execution_count": 16,
   "id": "449d7b07-ca50-4fd0-a3a2-b2fcb7b19191",
   "metadata": {},
   "outputs": [
    {
     "name": "stdin",
     "output_type": "stream",
     "text": [
      "Enter a number (0 to stop):  3\n"
     ]
    },
    {
     "name": "stdout",
     "output_type": "stream",
     "text": [
      "You entered: 3\n"
     ]
    },
    {
     "name": "stdin",
     "output_type": "stream",
     "text": [
      "Enter a number (0 to stop):  7\n"
     ]
    },
    {
     "name": "stdout",
     "output_type": "stream",
     "text": [
      "You entered: 7\n"
     ]
    },
    {
     "name": "stdin",
     "output_type": "stream",
     "text": [
      "Enter a number (0 to stop):  534\n"
     ]
    },
    {
     "name": "stdout",
     "output_type": "stream",
     "text": [
      "You entered: 534\n"
     ]
    },
    {
     "name": "stdin",
     "output_type": "stream",
     "text": [
      "Enter a number (0 to stop):  0\n"
     ]
    },
    {
     "name": "stdout",
     "output_type": "stream",
     "text": [
      "++++ Thank You +++++\n"
     ]
    }
   ],
   "source": [
    "# 2. while Loop with User Input\n",
    "num = int(input(\"Enter a number (0 to stop): \"))\n",
    "\n",
    "while num != 0:\n",
    "    print(f\"You entered: {num}\")\n",
    "    num = int(input(\"Enter a number (0 to stop): \"))\n",
    "\n",
    "print(\"++++ Thank You +++++\")"
   ]
  },
  {
   "cell_type": "code",
   "execution_count": 19,
   "id": "ade7ccac-c251-4cf4-80bb-d4751a6cb359",
   "metadata": {},
   "outputs": [
    {
     "name": "stdout",
     "output_type": "stream",
     "text": [
      "1\n",
      "2\n",
      "3\n",
      "Stopping at 4\n",
      "####### DONE #######\n"
     ]
    }
   ],
   "source": [
    "# while + break: Using break in a while Loop to exit the loop\n",
    "\n",
    "# print 1 2 3 on each newline and stop at 4\n",
    "i = 1\n",
    "while i <= 6:\n",
    "    if i == 4:\n",
    "        print(\"Stopping at 4\")\n",
    "        break  # Exit/break out of the loop\n",
    "    print(i)\n",
    "    i += 1\n",
    "print(\"####### DONE #######\")"
   ]
  },
  {
   "cell_type": "code",
   "execution_count": null,
   "id": "ac4aa14e-04b9-4f3b-9efa-499560324909",
   "metadata": {},
   "outputs": [],
   "source": [
    "# 5. Infinite Loop BOMB: DANGEROUS Do not run this. (Press Ctrl+C to Stop)\n",
    "\n",
    "#infinite loop\n",
    "# i = 1\n",
    "# while i > 0:\n",
    "#     print(\"hello\")\n",
    "#     i += 2\n",
    "    \n",
    "\n",
    "\n",
    "while True:\n",
    "    print(\"This is an infinite loop. Press Ctrl+C to stop.\")\n"
   ]
  },
  {
   "cell_type": "markdown",
   "id": "f6490c90-0ed8-4d4a-8495-6ae452555543",
   "metadata": {},
   "source": [
    "# STOP"
   ]
  },
  {
   "cell_type": "code",
   "execution_count": null,
   "id": "521abda0-0d92-42e3-9878-ac1de12e7b11",
   "metadata": {
    "jupyter": {
     "source_hidden": true
    }
   },
   "outputs": [],
   "source": []
  },
  {
   "cell_type": "code",
   "execution_count": null,
   "id": "39aa4053-68ce-4005-bd52-95168587413b",
   "metadata": {
    "jupyter": {
     "source_hidden": true
    }
   },
   "outputs": [],
   "source": []
  },
  {
   "cell_type": "code",
   "execution_count": null,
   "id": "25e3ff6e-35fa-4d8b-b704-46517613a0c7",
   "metadata": {
    "jupyter": {
     "source_hidden": true
    }
   },
   "outputs": [],
   "source": []
  },
  {
   "cell_type": "code",
   "execution_count": null,
   "id": "7ad044fc-f1e3-4617-a3f8-8d4efd1ccc20",
   "metadata": {
    "jupyter": {
     "source_hidden": true
    }
   },
   "outputs": [],
   "source": []
  },
  {
   "cell_type": "code",
   "execution_count": null,
   "id": "df3f3eaf-63c8-47ae-80b0-b2584848c4c1",
   "metadata": {
    "jupyter": {
     "source_hidden": true
    }
   },
   "outputs": [],
   "source": []
  },
  {
   "cell_type": "code",
   "execution_count": null,
   "id": "8ca92536-32a7-489d-b712-933aec0d17d3",
   "metadata": {
    "jupyter": {
     "source_hidden": true
    }
   },
   "outputs": [],
   "source": []
  },
  {
   "cell_type": "code",
   "execution_count": null,
   "id": "a8441499-9c15-4fc0-8aad-a4a60854767a",
   "metadata": {
    "jupyter": {
     "source_hidden": true
    }
   },
   "outputs": [],
   "source": []
  },
  {
   "cell_type": "code",
   "execution_count": null,
   "id": "da5bf28a-ac83-4466-bdbd-4e5e48b83a2d",
   "metadata": {
    "jupyter": {
     "source_hidden": true
    }
   },
   "outputs": [],
   "source": []
  }
 ],
 "metadata": {
  "kernelspec": {
   "display_name": "Python 3 (ipykernel)",
   "language": "python",
   "name": "python3"
  },
  "language_info": {
   "codemirror_mode": {
    "name": "ipython",
    "version": 3
   },
   "file_extension": ".py",
   "mimetype": "text/x-python",
   "name": "python",
   "nbconvert_exporter": "python",
   "pygments_lexer": "ipython3",
   "version": "3.9.9"
  }
 },
 "nbformat": 4,
 "nbformat_minor": 5
}
