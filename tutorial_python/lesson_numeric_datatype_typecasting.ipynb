{
 "cells": [
  {
   "cell_type": "code",
   "execution_count": 5,
   "id": "ee17e909-d565-44c4-9a67-354c1ae6eb62",
   "metadata": {},
   "outputs": [
    {
     "name": "stdout",
     "output_type": "stream",
     "text": [
      "type of a is <class 'int'>\n",
      "type of b is <class 'int'>\n",
      "type of c is <class 'float'>\n",
      "type of d is <class 'complex'>\n"
     ]
    }
   ],
   "source": [
    "a = 10\n",
    "b = 3\n",
    "c = 1.2\n",
    "d = 1 + 2j\n",
    "\n",
    "# print(type(d))\n",
    "\n",
    "# Lets print above using f-string\n",
    "print(f\"type of a is {type(a)}\")\n",
    "print(f\"type of b is {type(b)}\")\n",
    "print(f\"type of c is {type(c)}\")\n",
    "print(f\"type of d is {type(d)}\")"
   ]
  },
  {
   "cell_type": "code",
   "execution_count": null,
   "id": "fb47ae71-93cd-4dbb-bb75-d644986438ca",
   "metadata": {},
   "outputs": [],
   "source": []
  },
  {
   "cell_type": "code",
   "execution_count": 6,
   "id": "acf625bb-29b8-4762-8eaa-6ee583a7c9d9",
   "metadata": {},
   "outputs": [
    {
     "name": "stdout",
     "output_type": "stream",
     "text": [
      "addition:22\n",
      "subtraction: 12\n",
      "multiplication:85\n",
      "3.4\n",
      "3\n",
      "2\n",
      "1419857\n"
     ]
    }
   ],
   "source": [
    "a = 17 # apple\n",
    "b = 5 \n",
    "\n",
    "res = a + b\n",
    "print(f\"addition:{res}\")   # Addition → 13\n",
    "\n",
    "res = a - b\n",
    "print(f\"subtraction: {res}\")   # Subtraction → 7\n",
    "\n",
    "res = a * b # apple * price_of_apple\n",
    "print(f\"multiplication:{res}\")   # Multiplication → 30\n",
    "\n",
    "# I can perform calculation directly inside print method\n",
    "print(a / b)   # Division → 3.3333\n",
    "print(a // b)  # Floor Division → 3\n",
    "print(a % b)   # Modulus (Remainder) → 1\n",
    "print(a ** b)  # Exponentiation → 1000 (10^3)"
   ]
  },
  {
   "cell_type": "code",
   "execution_count": null,
   "id": "34a4304c-b481-49d0-bade-b23b48251bee",
   "metadata": {},
   "outputs": [],
   "source": []
  },
  {
   "cell_type": "code",
   "execution_count": 8,
   "id": "424cd3a7-6a9a-4918-829a-3b24e4125a09",
   "metadata": {},
   "outputs": [
    {
     "name": "stdout",
     "output_type": "stream",
     "text": [
      "4.0\n",
      "0.5\n",
      "357.2508309997333\n"
     ]
    }
   ],
   "source": [
    "x = 10.5\n",
    "y = 2.5\n",
    "\n",
    "# print(x + y)   # Addition → 13.0\n",
    "# print(x - y)   # Subtraction → 8.0\n",
    "# print(x * y)   # Multiplication → 26.25\n",
    "# print(x / y)   # Division → 4.2\n",
    "\n",
    "print(x // y)  # Floor Division → 4.0\n",
    "print(x % y)   # Modulus(Remainder) → 0.5\n",
    "print(x ** y)  # Exponentiation → 237.3046875\n"
   ]
  },
  {
   "cell_type": "code",
   "execution_count": 9,
   "id": "c9213b6d-cc21-44f6-a5c4-cd3d12881a04",
   "metadata": {},
   "outputs": [
    {
     "name": "stdout",
     "output_type": "stream",
     "text": [
      "(4+6j)\n",
      "(2+2j)\n",
      "(-5+10j)\n",
      "(2.2-0.4j)\n",
      "5.0\n"
     ]
    }
   ],
   "source": [
    "c1 = 3 + 4j\n",
    "c2 = 1 + 2j\n",
    "\n",
    "print(c1 + c2)   # Addition → (4+6j)\n",
    "print(c1 - c2)   # Subtraction → (2+2j)\n",
    "print(c1 * c2)   # Multiplication → (-5+10j)\n",
    "print(c1 / c2)   # Division → (2.2-0.4j)\n",
    "print(abs(c1))   # Magnitude (modulus) → 5.0"
   ]
  },
  {
   "cell_type": "code",
   "execution_count": null,
   "id": "ba5f3ee1-7b8d-430b-b920-5b62e19f4e1f",
   "metadata": {},
   "outputs": [],
   "source": []
  },
  {
   "cell_type": "code",
   "execution_count": 13,
   "id": "47e9255d-27ff-4021-a2bc-bdf1fa1dfd63",
   "metadata": {},
   "outputs": [
    {
     "name": "stdout",
     "output_type": "stream",
     "text": [
      "<class 'str'>\n",
      "<class 'int'>\n",
      "1.0\n"
     ]
    }
   ],
   "source": [
    "# step1: \n",
    "x = \"10\"\n",
    "print(type(x))\n",
    "# print(x / 10) # ERROR\n",
    "\n",
    "\n",
    "# step2: now convert str into int\n",
    "x = int(x) # or float(x)\n",
    "print(type(x))\n",
    "print(x / 10) "
   ]
  },
  {
   "cell_type": "code",
   "execution_count": null,
   "id": "d2273ac8-493b-45e1-8e43-6fab89e4bcf2",
   "metadata": {},
   "outputs": [],
   "source": []
  },
  {
   "cell_type": "code",
   "execution_count": 14,
   "id": "5e574b5c-3608-41bd-b96b-ac923618e002",
   "metadata": {},
   "outputs": [
    {
     "name": "stdout",
     "output_type": "stream",
     "text": [
      "10\n"
     ]
    }
   ],
   "source": [
    "# convert float -> int\n",
    "x = 10.5 # float\n",
    "\n",
    "x = int(x) # covert it into int\n",
    "print(x)"
   ]
  },
  {
   "cell_type": "code",
   "execution_count": 15,
   "id": "6ac177fa-21de-4886-ae63-b08d5cbf460a",
   "metadata": {},
   "outputs": [
    {
     "name": "stdout",
     "output_type": "stream",
     "text": [
      "7.5\n",
      "<class 'float'>\n"
     ]
    }
   ],
   "source": [
    "num1 = 5      # int\n",
    "num2 = 2.5    # float\n",
    "\n",
    "print(num1 + num2)   \n",
    "print(type(num1 + num2))\n"
   ]
  },
  {
   "cell_type": "code",
   "execution_count": null,
   "id": "4e85a7cc-f979-4a36-8ab3-1863be7bf939",
   "metadata": {},
   "outputs": [],
   "source": []
  },
  {
   "cell_type": "code",
   "execution_count": 19,
   "id": "8ba0067e-6d41-4efb-9778-94014d39532d",
   "metadata": {},
   "outputs": [
    {
     "name": "stdout",
     "output_type": "stream",
     "text": [
      "(5+15j)\n",
      "<class 'complex'>\n",
      "(2.5+7.5j)\n",
      "<class 'complex'>\n"
     ]
    }
   ],
   "source": [
    "num1 = 5      # int\n",
    "num2 = 2.5    # float\n",
    "num3 = 1 + 3j # complex\n",
    "\n",
    "print(num1 * num3)   # int * complex -> complex\n",
    "print(type(num1 * num3))\n",
    "\n",
    "print(num2 * num3)  # float * complex -> complex\n",
    "print(type(num2 + num3))   "
   ]
  },
  {
   "cell_type": "code",
   "execution_count": null,
   "id": "4201364f-db87-4164-90aa-8d8672812639",
   "metadata": {},
   "outputs": [],
   "source": []
  },
  {
   "cell_type": "code",
   "execution_count": null,
   "id": "089e0e78-3e09-4fc3-ac68-87eaba16eb66",
   "metadata": {},
   "outputs": [],
   "source": []
  }
 ],
 "metadata": {
  "kernelspec": {
   "display_name": "Python 3 (ipykernel)",
   "language": "python",
   "name": "python3"
  },
  "language_info": {
   "codemirror_mode": {
    "name": "ipython",
    "version": 3
   },
   "file_extension": ".py",
   "mimetype": "text/x-python",
   "name": "python",
   "nbconvert_exporter": "python",
   "pygments_lexer": "ipython3",
   "version": "3.9.9"
  }
 },
 "nbformat": 4,
 "nbformat_minor": 5
}
