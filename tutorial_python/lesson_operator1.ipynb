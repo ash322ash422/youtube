{
 "cells": [
  {
   "cell_type": "code",
   "execution_count": 6,
   "id": "3c3745a2-0b3d-473a-b7b3-98032c2c6a75",
   "metadata": {},
   "outputs": [
    {
     "name": "stdout",
     "output_type": "stream",
     "text": [
      "11\n"
     ]
    }
   ],
   "source": [
    "#Addition\n",
    "x = 6\n",
    "y = 5\n",
    "res = x + y\n",
    "\n",
    "print(res) "
   ]
  },
  {
   "cell_type": "code",
   "execution_count": 8,
   "id": "700db10e-a405-4395-be21-dd18f7e21c9d",
   "metadata": {},
   "outputs": [
    {
     "name": "stdout",
     "output_type": "stream",
     "text": [
      "11\n",
      "addition : 11\n"
     ]
    }
   ],
   "source": [
    "#or I can print addition without using variable res\n",
    "x = 6\n",
    "y = 5\n",
    "\n",
    "print(x + y) # style1\n",
    "print(f\"addition : { x + y}\") # style2: use f-string"
   ]
  },
  {
   "cell_type": "code",
   "execution_count": 9,
   "id": "7b2f6b36-3dc7-477e-b23b-684754f12666",
   "metadata": {},
   "outputs": [
    {
     "name": "stdout",
     "output_type": "stream",
     "text": [
      "1\n",
      "30\n"
     ]
    }
   ],
   "source": [
    "#Subtraction, multiplication\n",
    "x = 6\n",
    "y = 5\n",
    "print(x - y)\n",
    "print(x * y)"
   ]
  },
  {
   "cell_type": "code",
   "execution_count": 10,
   "id": "74082b4f-ddc1-41ef-a654-05c36b80f4c2",
   "metadata": {},
   "outputs": [
    {
     "name": "stdout",
     "output_type": "stream",
     "text": [
      "3.4\n",
      "3\n",
      "2\n"
     ]
    }
   ],
   "source": [
    "#Now lets perform Normal Division , Modulo Division, Remainder Division \n",
    "x = 17\n",
    "y = 5\n",
    "print(x / y)  # Normal Division (/)\n",
    "print(x // y) # Modulo Division (//) --> Floor Division\n",
    "print(x % y)  # Remainder Division (%)"
   ]
  },
  {
   "cell_type": "code",
   "execution_count": 12,
   "id": "fff97dce-f065-46ba-92e7-f71d3eb9e0e0",
   "metadata": {},
   "outputs": [
    {
     "name": "stdout",
     "output_type": "stream",
     "text": [
      "81\n"
     ]
    }
   ],
   "source": [
    "#My favorite: Exponentiation (**)\n",
    "\n",
    "# STEP1:\n",
    "x = 3\n",
    "y = 4\n",
    "res = x ** y\n",
    "\n",
    "print(res)\n"
   ]
  },
  {
   "cell_type": "code",
   "execution_count": 13,
   "id": "3c312ae7-931c-4f8f-a92b-1cd04f6fccbb",
   "metadata": {},
   "outputs": [
    {
     "name": "stdout",
     "output_type": "stream",
     "text": [
      "12157665459056928801\n"
     ]
    }
   ],
   "source": [
    "########################\n",
    "# STEP2: increase the power\n",
    "x = 3\n",
    "y = 40\n",
    "res = x ** y\n",
    "\n",
    "print(res)\n"
   ]
  },
  {
   "cell_type": "code",
   "execution_count": 14,
   "id": "50950d1d-0e78-4ac3-8c69-11a765f45ab7",
   "metadata": {},
   "outputs": [
    {
     "name": "stdout",
     "output_type": "stream",
     "text": [
      "3055053912598508947549312393399320015114587255945938203336157885612484041009431069888461714759195551268559435567253681739042432883596095251201386787275483230684744081267827125833440603460902730356711375071354094223050737888829629366162631931903817637647689717474539783041913377052664360754530594685529992367990825283283974149969505378127988908031568501855509144132763267482753608051191973699171623938029652959112481486845481337238191540360720284661730596472758771447004611908440098952257078699946478448550527286513833176626948662169918947393179985715374284032316042361252971237912148029845209003214291118712054140346782303768450257172267231798011098225054231267262248662475182151309040596831972573353215246137318080262085035181877250579293515354614855964555777830248629948465567786086862810753702795567587162067253726096003964964500688100664251086317265876947315204732848217800469886468299762701072555744747779591654828652607439719426907428525310220609958805562225062879482109625089695394202628593497667989231655664335466686840002114903314366719176156379934652473163843885132940089748145111346970715322477428660266288621575724122801304127415652654106676287659899970936042983407271207522048301946054797801524409667398765473294408959679689184723792052760134847956855277232726822596118663268368339457701444058720789096452054802674735440411545784098932324643273016518451266202488737889642806430326763408371261207618736323003003074285732822242917868135329832468154778360696312466255598007468428021193037289627759263156774524144741442727509671028670105270271802796358516302383162038506066195947767590885980270531098318352386252200449553418183034106256724969986028116097882584686968836574809112315523792958340219637331628073406551777465246398555963295187086557808315091601583863758085230410601035610836375356201394730708447594526544296095311563361032030384261628391038148587272653017202863919268052007355101820880001\n"
     ]
    }
   ],
   "source": [
    "########################\n",
    "# STEP3: Lets crank it up\n",
    "x = 3\n",
    "y = 4000\n",
    "res = x ** y\n",
    "\n",
    "print(res)"
   ]
  },
  {
   "cell_type": "code",
   "execution_count": null,
   "id": "321d751b-ab06-4d49-9efe-dda37ae3c9a5",
   "metadata": {},
   "outputs": [],
   "source": []
  },
  {
   "cell_type": "code",
   "execution_count": null,
   "id": "f8a9808a-9e72-45d8-9d7b-067af84640f0",
   "metadata": {},
   "outputs": [],
   "source": []
  },
  {
   "cell_type": "code",
   "execution_count": 17,
   "id": "19055982-697f-4d4b-9f28-4493bb93cb10",
   "metadata": {},
   "outputs": [
    {
     "name": "stdout",
     "output_type": "stream",
     "text": [
      "True\n",
      "False\n"
     ]
    }
   ],
   "source": [
    "print(True) # True / False is a boolean variable\n",
    "print(False)\n",
    "\n",
    "# print(hjks)"
   ]
  },
  {
   "cell_type": "code",
   "execution_count": 19,
   "id": "a81b170f-cb9d-4558-bc17-af7fc422ed26",
   "metadata": {},
   "outputs": [
    {
     "name": "stdout",
     "output_type": "stream",
     "text": [
      "True\n",
      "<class 'bool'>\n"
     ]
    }
   ],
   "source": [
    "x = 16\n",
    "y = 15\n",
    "res = x > y # this is a boolean type\n",
    "\n",
    "print(res) \n",
    "print(type(res))"
   ]
  },
  {
   "cell_type": "code",
   "execution_count": 20,
   "id": "d7626c39-1164-426b-9213-d612ad218b32",
   "metadata": {},
   "outputs": [
    {
     "name": "stdout",
     "output_type": "stream",
     "text": [
      "True\n"
     ]
    }
   ],
   "source": [
    "# or I can print the value directly\n",
    "x = 16\n",
    "y = 15\n",
    "\n",
    "print(x > y) "
   ]
  },
  {
   "cell_type": "code",
   "execution_count": 21,
   "id": "c60a58aa-ac4e-4fee-b06b-539bb954084c",
   "metadata": {},
   "outputs": [
    {
     "name": "stdout",
     "output_type": "stream",
     "text": [
      "False\n"
     ]
    }
   ],
   "source": [
    "x = 16\n",
    "y = 15\n",
    "\n",
    "print(x < y) "
   ]
  },
  {
   "cell_type": "code",
   "execution_count": 22,
   "id": "ada43c1a-fe7e-4336-931b-27e2bc782520",
   "metadata": {},
   "outputs": [
    {
     "name": "stdout",
     "output_type": "stream",
     "text": [
      "True\n"
     ]
    }
   ],
   "source": [
    "x = 13\n",
    "y = 15\n",
    "\n",
    "print(x < y) "
   ]
  },
  {
   "cell_type": "code",
   "execution_count": 23,
   "id": "ae0e5c3a-d2ea-4676-b8d0-8c4985853ef5",
   "metadata": {},
   "outputs": [
    {
     "name": "stdout",
     "output_type": "stream",
     "text": [
      "True\n"
     ]
    }
   ],
   "source": [
    "x = 15\n",
    "y = 15\n",
    "print(x >= y) "
   ]
  },
  {
   "cell_type": "code",
   "execution_count": 24,
   "id": "cef0244a-d173-461b-8b27-4c524da43c31",
   "metadata": {},
   "outputs": [
    {
     "name": "stdout",
     "output_type": "stream",
     "text": [
      "True\n"
     ]
    }
   ],
   "source": [
    "x = 13\n",
    "y = 15\n",
    "\n",
    "print(x <= y) "
   ]
  },
  {
   "cell_type": "code",
   "execution_count": 25,
   "id": "5a7ca1c7-abd4-4217-b69e-8cad53ace264",
   "metadata": {},
   "outputs": [
    {
     "name": "stdout",
     "output_type": "stream",
     "text": [
      "True\n",
      "False\n"
     ]
    }
   ],
   "source": [
    "# is equal to == , not equal to !=\n",
    "\n",
    "# example1\n",
    "x = 15\n",
    "y = 15\n",
    "\n",
    "print(x == y) \n",
    "print(x != y) # negates the == "
   ]
  },
  {
   "cell_type": "code",
   "execution_count": 26,
   "id": "5946a681-59c6-4924-9f94-d170db64450e",
   "metadata": {},
   "outputs": [
    {
     "name": "stdout",
     "output_type": "stream",
     "text": [
      "False\n",
      "True\n"
     ]
    }
   ],
   "source": [
    "# example2\n",
    "x = 17\n",
    "y = 15\n",
    "\n",
    "print(x == y) \n",
    "print(x != y) "
   ]
  },
  {
   "cell_type": "code",
   "execution_count": null,
   "id": "cdb18c8e-52c0-433e-b0de-c4a255d2166d",
   "metadata": {},
   "outputs": [],
   "source": []
  },
  {
   "cell_type": "code",
   "execution_count": 27,
   "id": "dd5d04da-98ec-4ade-9ed9-01e1e2e41f0b",
   "metadata": {},
   "outputs": [
    {
     "name": "stdout",
     "output_type": "stream",
     "text": [
      "False\n"
     ]
    }
   ],
   "source": [
    "# We can also compare strings\n",
    "x = \"a\"\n",
    "y = \"d\"\n",
    "\n",
    "print(x > y) #string comparision is done lexicographically: a < b < c < d....\n"
   ]
  },
  {
   "cell_type": "code",
   "execution_count": 28,
   "id": "433c1947-0c0d-4b16-be98-928fdb20ecb8",
   "metadata": {},
   "outputs": [
    {
     "name": "stdout",
     "output_type": "stream",
     "text": [
      "97\n",
      "100\n"
     ]
    }
   ],
   "source": [
    "# Python uses ord() value of characters : ord is short for ordinal value\n",
    "print(ord(x)) # 97\n",
    "print(ord(y)) # 100"
   ]
  },
  {
   "cell_type": "code",
   "execution_count": 30,
   "id": "a7d32727-c14e-4c12-a7e3-1f1477fdba68",
   "metadata": {},
   "outputs": [
    {
     "name": "stdout",
     "output_type": "stream",
     "text": [
      "False\n"
     ]
    }
   ],
   "source": [
    "x = \"abc\"\n",
    "y = \"abd\"\n",
    "\n",
    "print(x > y) # lexicograph"
   ]
  },
  {
   "cell_type": "code",
   "execution_count": 31,
   "id": "daf3708e-5996-406c-9a82-5b4a8358cb1e",
   "metadata": {},
   "outputs": [
    {
     "name": "stdout",
     "output_type": "stream",
     "text": [
      "False\n"
     ]
    }
   ],
   "source": [
    "x = \"abczz\"\n",
    "y = \"abd\"\n",
    "\n",
    "print(x > y) # lexicograph"
   ]
  },
  {
   "cell_type": "code",
   "execution_count": 32,
   "id": "ec11c886-fbfb-400e-9483-8fe9921b1352",
   "metadata": {},
   "outputs": [
    {
     "name": "stdout",
     "output_type": "stream",
     "text": [
      "False\n"
     ]
    }
   ],
   "source": [
    "a = \"bobit\"\n",
    "b = \"boss\"\n",
    "print(a > b) # lexicograph"
   ]
  },
  {
   "cell_type": "code",
   "execution_count": 33,
   "id": "e865e9d7-c230-42da-9158-26a20161292a",
   "metadata": {},
   "outputs": [
    {
     "name": "stdout",
     "output_type": "stream",
     "text": [
      "False\n"
     ]
    }
   ],
   "source": [
    "# SKIP: OPTIONAL: compares list\n",
    "a = [1,2,3]\n",
    "b = [1,2,3,4]\n",
    "print(b<a)\n"
   ]
  },
  {
   "cell_type": "code",
   "execution_count": null,
   "id": "6ab8f4e5-9216-41cb-a0de-0823a8ec34c1",
   "metadata": {},
   "outputs": [],
   "source": []
  },
  {
   "cell_type": "code",
   "execution_count": 36,
   "id": "591d6503-3cdd-457f-bb59-0bff68935c74",
   "metadata": {},
   "outputs": [
    {
     "name": "stdout",
     "output_type": "stream",
     "text": [
      "5\n"
     ]
    }
   ],
   "source": [
    "# assign to variable a the value of 5\n",
    "a = 5\n",
    "\n",
    "print(a)\n",
    "# print(jj)"
   ]
  },
  {
   "cell_type": "code",
   "execution_count": null,
   "id": "e2300631-a2f3-474c-bd74-5680bfae04a2",
   "metadata": {},
   "outputs": [],
   "source": []
  },
  {
   "cell_type": "code",
   "execution_count": 39,
   "id": "6876cf0d-de82-4d43-9982-c13564a0727c",
   "metadata": {},
   "outputs": [
    {
     "name": "stdout",
     "output_type": "stream",
     "text": [
      "15\n"
     ]
    }
   ],
   "source": [
    "# c could be salary, raise a\n",
    "c = 12\n",
    "a = 3\n",
    "\n",
    "# c = c + a # overwrites the previous value of c\n",
    "# print(c)\n",
    "\n",
    "c += a  #--> c = c + a\n",
    "print (c)"
   ]
  },
  {
   "cell_type": "code",
   "execution_count": 40,
   "id": "a22613de-e9fb-413f-aa15-c8e325dc65d2",
   "metadata": {},
   "outputs": [
    {
     "name": "stdout",
     "output_type": "stream",
     "text": [
      "9\n"
     ]
    }
   ],
   "source": [
    "# c could be salary, deduction a\n",
    "c = 12\n",
    "a = 3\n",
    "\n",
    "c -= a  #--> c = c - a\n",
    "print (c)"
   ]
  },
  {
   "cell_type": "code",
   "execution_count": 41,
   "id": "d3ff6c13-f5c7-4f99-8b5d-6b015cfdd9c2",
   "metadata": {},
   "outputs": [
    {
     "name": "stdout",
     "output_type": "stream",
     "text": [
      "3.5999999999999996\n"
     ]
    }
   ],
   "source": [
    "c = 12\n",
    "a = .3\n",
    "\n",
    "c *= a # c = c * a\n",
    "print(c)"
   ]
  },
  {
   "cell_type": "code",
   "execution_count": 42,
   "id": "0306d6fa-6443-4c9f-bc00-7351ab90d1e9",
   "metadata": {},
   "outputs": [
    {
     "name": "stdout",
     "output_type": "stream",
     "text": [
      "3\n"
     ]
    }
   ],
   "source": [
    "# Remainder\n",
    "c = 10\n",
    "a = 7\n",
    "\n",
    "c %= a #--> c = c % a \n",
    "print(c)"
   ]
  },
  {
   "cell_type": "code",
   "execution_count": 43,
   "id": "34db316d-d62e-42f6-8fc6-7d51ca9de2a7",
   "metadata": {},
   "outputs": [
    {
     "name": "stdout",
     "output_type": "stream",
     "text": [
      "2.5\n"
     ]
    }
   ],
   "source": [
    "c=10\n",
    "a=4\n",
    "\n",
    "c /= a # c = c / a\n",
    "print(c)"
   ]
  },
  {
   "cell_type": "code",
   "execution_count": null,
   "id": "3b91989b-3cb0-488a-95c2-322d57d66d88",
   "metadata": {},
   "outputs": [],
   "source": []
  }
 ],
 "metadata": {
  "kernelspec": {
   "display_name": "Python 3 (ipykernel)",
   "language": "python",
   "name": "python3"
  },
  "language_info": {
   "codemirror_mode": {
    "name": "ipython",
    "version": 3
   },
   "file_extension": ".py",
   "mimetype": "text/x-python",
   "name": "python",
   "nbconvert_exporter": "python",
   "pygments_lexer": "ipython3",
   "version": "3.9.9"
  }
 },
 "nbformat": 4,
 "nbformat_minor": 5
}
