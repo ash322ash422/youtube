{
 "cells": [
  {
   "cell_type": "code",
   "execution_count": 4,
   "id": "02e35c7c-441e-4454-9b96-1881d2e344a1",
   "metadata": {},
   "outputs": [
    {
     "name": "stdout",
     "output_type": "stream",
     "text": [
      "type of a is <class 'int'>\n",
      "type of b is <class 'int'>\n",
      "type of c is <class 'float'>\n",
      "type of d is <class 'complex'>\n"
     ]
    }
   ],
   "source": [
    "a = 10\n",
    "b = 3\n",
    "c = 1.2\n",
    "d = 1+2j\n",
    "\n",
    "# print(type(c))\n",
    "\n",
    "print(f\"type of a is {type(a)}\")\n",
    "print(f\"type of b is {type(b)}\")\n",
    "print(f\"type of c is {type(c)}\")\n",
    "print(f\"type of d is {type(d)}\")"
   ]
  },
  {
   "cell_type": "code",
   "execution_count": null,
   "id": "cf976b2d-18cd-413d-bcbb-afcda1290a5e",
   "metadata": {},
   "outputs": [],
   "source": []
  },
  {
   "cell_type": "code",
   "execution_count": 8,
   "id": "65b93dea-6ca4-4cec-98ce-efcbb19660c3",
   "metadata": {},
   "outputs": [
    {
     "name": "stdout",
     "output_type": "stream",
     "text": [
      "addition:13\n",
      "subtraction: 7\n",
      "multiplication:30\n",
      "3.3333333333333335\n",
      "3\n",
      "1\n",
      "1000\n"
     ]
    }
   ],
   "source": [
    "a = 10 # apple\n",
    "b = 3 \n",
    "\n",
    "res = a + b\n",
    "print(f\"addition:{res}\")   # Addition → 13\n",
    "\n",
    "res = a - b\n",
    "print(f\"subtraction: {res}\")   # Subtraction → 7\n",
    "\n",
    "res = a * b # apple * price_of_apple\n",
    "print(f\"multiplication:{res}\")   # Multiplication → 30\n",
    "\n",
    "# I can perform calculation directly inside print method\n",
    "print(a / b)   # Division → 3.3333\n",
    "print(a // b)  # Floor Division → 3\n",
    "print(a % b)   # Modulus (Remainder) → 1\n",
    "print(a ** b)  # Exponentiation → 1000 (10^3)"
   ]
  },
  {
   "cell_type": "code",
   "execution_count": 11,
   "id": "4c27a5f7-331b-4bbb-acaf-4a6fccaf8507",
   "metadata": {},
   "outputs": [
    {
     "name": "stdout",
     "output_type": "stream",
     "text": [
      "4.0\n",
      "0.5\n",
      "357.2508309997333\n"
     ]
    }
   ],
   "source": [
    "x = 10.5\n",
    "y = 2.5\n",
    "\n",
    "# print(type(x))\n",
    "\n",
    "# print(x + y)   # Addition → 13.0\n",
    "# print(x - y)   # Subtraction → 8.0\n",
    "# print(x * y)   # Multiplication → 26.25\n",
    "# print(x / y)   # Division → 4.2\n",
    "\n",
    "print(x // y)  # Floor Division → 4.0\n",
    "print(x % y)   # Modulus(Remainder) → 0.5\n",
    "print(x ** y)  # Exponentiation → 237.3046875\n"
   ]
  },
  {
   "cell_type": "code",
   "execution_count": 12,
   "id": "19c0bf35-a23d-4f0f-8fbb-58b0741f552d",
   "metadata": {},
   "outputs": [
    {
     "name": "stdout",
     "output_type": "stream",
     "text": [
      "(2+6j)\n",
      "(4+2j)\n",
      "(-11+2j)\n",
      "(1-2j)\n",
      "5.0\n"
     ]
    }
   ],
   "source": [
    "c1 = 3 + 4j\n",
    "c2 = -1 + 2j\n",
    "\n",
    "print(c1 + c2)   # Addition → (4+6j)\n",
    "print(c1 - c2)   # Subtraction → (2+2j)\n",
    "print(c1 * c2)   # Multiplication → (-5+10j)\n",
    "print(c1 / c2)   # Division → (2.2-0.4j)\n",
    "print(abs(c1))   # Magnitude (modulus) → 5.0\n"
   ]
  },
  {
   "cell_type": "code",
   "execution_count": 13,
   "id": "83b62a40-c365-4372-9c5c-d1a62fc6f5d2",
   "metadata": {},
   "outputs": [
    {
     "name": "stdout",
     "output_type": "stream",
     "text": [
      "7.5\n",
      "<class 'float'>\n"
     ]
    }
   ],
   "source": [
    "num1 = 5      # int\n",
    "num2 = 2.5    # float\n",
    "\n",
    "print(num1 + num2)   \n",
    "print(type(num1 + num2))\n"
   ]
  },
  {
   "cell_type": "code",
   "execution_count": 14,
   "id": "4ac58ef9-350f-41f0-8f7d-64bc1c0c7f2a",
   "metadata": {},
   "outputs": [
    {
     "name": "stdout",
     "output_type": "stream",
     "text": [
      "(3.5+3j)\n",
      "<class 'complex'>\n",
      "(5+15j)\n",
      "<class 'complex'>\n"
     ]
    }
   ],
   "source": [
    "num1 = 5      # int\n",
    "num2 = 2.5    # float\n",
    "num3 = 1 + 3j # complex\n",
    "\n",
    "\n",
    "print(num2 + num3)   \n",
    "print(type(num2 + num3))   \n",
    "\n",
    "print(num1 * num3)   \n",
    "print(type(num1 * num3))\n"
   ]
  },
  {
   "cell_type": "code",
   "execution_count": null,
   "id": "7ed5382c-8350-4935-83e9-fe02b61f8563",
   "metadata": {},
   "outputs": [],
   "source": []
  }
 ],
 "metadata": {
  "kernelspec": {
   "display_name": "Python 3 (ipykernel)",
   "language": "python",
   "name": "python3"
  },
  "language_info": {
   "codemirror_mode": {
    "name": "ipython",
    "version": 3
   },
   "file_extension": ".py",
   "mimetype": "text/x-python",
   "name": "python",
   "nbconvert_exporter": "python",
   "pygments_lexer": "ipython3",
   "version": "3.9.9"
  }
 },
 "nbformat": 4,
 "nbformat_minor": 5
}
