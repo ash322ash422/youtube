{
 "cells": [
  {
   "cell_type": "markdown",
   "id": "664d2660-f76d-4e4b-80f6-e24b12def069",
   "metadata": {},
   "source": [
    "## Numeric Types and Mathematical operations\n",
    "**int** → Whole numbers: x = 10, -4, 7, 89,\n",
    "\n",
    "**float** → Decimal numbers: y = 10.5, -54.789, 3.567\n",
    "\n",
    "**complex** → Complex numbers: z = 3 + 4j , -1 + 2j, etc"
   ]
  },
  {
   "cell_type": "code",
   "execution_count": 7,
   "id": "f6bdaf07-053b-480f-be7a-599d5a7a0a53",
   "metadata": {},
   "outputs": [
    {
     "name": "stdout",
     "output_type": "stream",
     "text": [
      "type of a is <class 'int'>\n",
      "type of b is <class 'float'>\n",
      "type of c is <class 'complex'>\n"
     ]
    }
   ],
   "source": [
    "# lets look at each types:\n",
    "a = 6\n",
    "b = 3.8\n",
    "c = 1 + 2j\n",
    "\n",
    "# Lets print above using f-string\n",
    "print(f\"type of a is {type(a)}\")\n",
    "print(f\"type of b is {type(b)}\")\n",
    "print(f\"type of c is {type(c)}\")"
   ]
  },
  {
   "cell_type": "code",
   "execution_count": null,
   "id": "93c95e2a-1146-44fd-96bc-1105d53609c8",
   "metadata": {
    "jupyter": {
     "source_hidden": true
    }
   },
   "outputs": [],
   "source": []
  },
  {
   "cell_type": "markdown",
   "id": "887b2a68-8614-4a09-a908-e870d0afcb46",
   "metadata": {},
   "source": [
    "# 1. Integer (int) Operations"
   ]
  },
  {
   "cell_type": "code",
   "execution_count": 8,
   "id": "e4f14afc-4aa4-463b-9b8d-d7b5d5b6dbda",
   "metadata": {},
   "outputs": [
    {
     "name": "stdout",
     "output_type": "stream",
     "text": [
      "addition:22\n",
      "subtraction: 12\n",
      "multiplication:85\n",
      "3.4\n"
     ]
    }
   ],
   "source": [
    "# int operations: + - * /\n",
    "a = 17 \n",
    "b = 5 \n",
    "\n",
    "res = a + b\n",
    "print(f\"addition:{res}\")   # Addition \n",
    "\n",
    "res = a - b\n",
    "print(f\"subtraction: {res}\")   # Subtraction\n",
    "\n",
    "res = a * b \n",
    "print(f\"multiplication:{res}\")   # Multiplication\n",
    "\n",
    "print(a / b)  "
   ]
  },
  {
   "cell_type": "code",
   "execution_count": 9,
   "id": "0853c007-2f8d-48fd-8858-1e2f1387ce49",
   "metadata": {},
   "outputs": [
    {
     "name": "stdout",
     "output_type": "stream",
     "text": [
      "3\n",
      "2\n",
      "1419857\n"
     ]
    }
   ],
   "source": [
    "# int operations: Floor Division //, Modulus (Remainder) %, Exponentiation **\n",
    "a = 17 \n",
    "b = 5 \n",
    "\n",
    "print(a // b)  # Floor Division \n",
    "print(a % b)   # Modulus (Remainder)\n",
    "print(a ** b)  # Exponentiation"
   ]
  },
  {
   "cell_type": "code",
   "execution_count": null,
   "id": "a5881538-84f2-4bb4-982e-2d2e23ba0ac1",
   "metadata": {
    "jupyter": {
     "source_hidden": true
    }
   },
   "outputs": [],
   "source": []
  },
  {
   "cell_type": "markdown",
   "id": "236d4908-a5ee-444b-848d-1c7e90405037",
   "metadata": {},
   "source": [
    "# 2. Float (float) Operations"
   ]
  },
  {
   "cell_type": "code",
   "execution_count": 10,
   "id": "843ccf58-029d-40b8-a656-279d3532305a",
   "metadata": {},
   "outputs": [
    {
     "name": "stdout",
     "output_type": "stream",
     "text": [
      "13.0\n",
      "8.0\n",
      "26.25\n",
      "4.2\n"
     ]
    }
   ],
   "source": [
    "# float operation: +, -, *, /\n",
    "x = 10.5\n",
    "y = 2.5\n",
    "\n",
    "print(x + y)   # Addition \n",
    "print(x - y)   # Subtraction \n",
    "print(x * y)   # Multiplication \n",
    "print(x / y)   # Division"
   ]
  },
  {
   "cell_type": "code",
   "execution_count": 11,
   "id": "af433262-7275-4ad8-8ce4-0eec7e0611fb",
   "metadata": {},
   "outputs": [
    {
     "name": "stdout",
     "output_type": "stream",
     "text": [
      "4.0\n",
      "0.5\n",
      "357.2508309997333\n"
     ]
    }
   ],
   "source": [
    "# float operation:  Floor Division //, Modulus(Remainder) %, Exponentiation **\n",
    "x = 10.5\n",
    "y = 2.5\n",
    "\n",
    "print(x // y)  # Floor Division \n",
    "print(x % y)   # Modulus(Remainder) \n",
    "print(x ** y)  # Exponentiation "
   ]
  },
  {
   "cell_type": "code",
   "execution_count": null,
   "id": "bf36d073-18da-4973-bd5f-1af196a9660a",
   "metadata": {
    "jupyter": {
     "source_hidden": true
    }
   },
   "outputs": [],
   "source": []
  },
  {
   "cell_type": "markdown",
   "id": "4dd4bdfb-8590-4d42-9e59-eff52a8e3973",
   "metadata": {},
   "source": [
    "# 3. Complex Number (complex) Operations"
   ]
  },
  {
   "cell_type": "code",
   "execution_count": 12,
   "id": "eb2dd042-5837-4036-82f0-499f5bf43341",
   "metadata": {},
   "outputs": [
    {
     "name": "stdout",
     "output_type": "stream",
     "text": [
      "(4+6j)\n",
      "(2+2j)\n",
      "(-5+10j)\n",
      "(2.2-0.4j)\n",
      "5.0\n"
     ]
    }
   ],
   "source": [
    "# complex: + , -, *, /, abs\n",
    "c1 = 3 + 4j\n",
    "c2 = 1 + 2j\n",
    "\n",
    "print(c1 + c2)   # Addition \n",
    "print(c1 - c2)   # Subtraction\n",
    "print(c1 * c2)   # Multiplication\n",
    "print(c1 / c2)   # Division \n",
    "print(abs(c1))   # Magnitude (modulus) "
   ]
  },
  {
   "cell_type": "code",
   "execution_count": null,
   "id": "5441a1d5-fdee-4d5f-b346-23013568416c",
   "metadata": {
    "jupyter": {
     "source_hidden": true
    }
   },
   "outputs": [],
   "source": []
  },
  {
   "cell_type": "code",
   "execution_count": null,
   "id": "9c44e732-0e6c-4c60-bf58-e555d4c9ff01",
   "metadata": {
    "jupyter": {
     "source_hidden": true
    }
   },
   "outputs": [],
   "source": []
  },
  {
   "cell_type": "markdown",
   "id": "c5406197-c653-4f6d-939b-5720e9641b4b",
   "metadata": {},
   "source": [
    "# 4. Mixed Operations (int + float)"
   ]
  },
  {
   "cell_type": "code",
   "execution_count": 13,
   "id": "2f8d30e0-fad1-45cc-a84b-636c2d6a153f",
   "metadata": {},
   "outputs": [
    {
     "name": "stdout",
     "output_type": "stream",
     "text": [
      "7.5\n",
      "<class 'float'>\n"
     ]
    }
   ],
   "source": [
    "# int + float\n",
    "num1 = 5      # int\n",
    "num2 = 2.5    # float\n",
    "\n",
    "print(num1 + num2)   \n",
    "print(type(num1 + num2))"
   ]
  },
  {
   "cell_type": "code",
   "execution_count": null,
   "id": "05012ce1-4c66-42a9-906a-4db7b452e3cf",
   "metadata": {
    "jupyter": {
     "source_hidden": true
    }
   },
   "outputs": [],
   "source": []
  },
  {
   "cell_type": "markdown",
   "id": "07c2252a",
   "metadata": {},
   "source": [
    "# 5. Mixed Operations (int + float+ complex)"
   ]
  },
  {
   "cell_type": "code",
   "execution_count": 14,
   "id": "fb4190fc",
   "metadata": {},
   "outputs": [
    {
     "name": "stdout",
     "output_type": "stream",
     "text": [
      "(5+15j)\n",
      "<class 'complex'>\n",
      "(2.5+7.5j)\n",
      "<class 'complex'>\n"
     ]
    }
   ],
   "source": [
    "# int + float + complex\n",
    "num1 = 5      # int\n",
    "num2 = 2.5    # float\n",
    "num3 = 1 + 3j # complex\n",
    "\n",
    "print(num1 * num3)   # int * complex -> complex\n",
    "print(type(num1 * num3))\n",
    "\n",
    "print(num2 * num3)  # float * complex -> complex\n",
    "print(type(num2 + num3))   "
   ]
  },
  {
   "cell_type": "code",
   "execution_count": null,
   "id": "aa1d0b94-6293-41ef-bbc4-47f16e83ac25",
   "metadata": {
    "jupyter": {
     "source_hidden": true
    }
   },
   "outputs": [],
   "source": []
  },
  {
   "cell_type": "code",
   "execution_count": null,
   "id": "78ddddc9-8b76-4ff7-8481-e84f9a2d38ac",
   "metadata": {
    "jupyter": {
     "source_hidden": true
    }
   },
   "outputs": [],
   "source": []
  },
  {
   "cell_type": "code",
   "execution_count": null,
   "id": "cbb8150a-7199-47b7-9367-d1e655a085c0",
   "metadata": {
    "jupyter": {
     "source_hidden": true
    }
   },
   "outputs": [],
   "source": []
  },
  {
   "cell_type": "code",
   "execution_count": null,
   "id": "caac08d2-e2c1-43cd-b322-0ddaf7b617f6",
   "metadata": {
    "jupyter": {
     "source_hidden": true
    }
   },
   "outputs": [],
   "source": []
  },
  {
   "cell_type": "code",
   "execution_count": null,
   "id": "28999f33-1152-4dd4-9941-6d580be4977a",
   "metadata": {
    "jupyter": {
     "source_hidden": true
    }
   },
   "outputs": [],
   "source": []
  },
  {
   "cell_type": "code",
   "execution_count": null,
   "id": "af98264e-4f6b-4bbf-b4c8-ded6e470a717",
   "metadata": {
    "jupyter": {
     "source_hidden": true
    }
   },
   "outputs": [],
   "source": []
  },
  {
   "cell_type": "code",
   "execution_count": null,
   "id": "fa17ca3a-73ee-4296-a419-ddff17c7e13a",
   "metadata": {
    "jupyter": {
     "source_hidden": true
    }
   },
   "outputs": [],
   "source": []
  },
  {
   "cell_type": "code",
   "execution_count": null,
   "id": "875ca868-a2e8-441f-b28e-56998f632642",
   "metadata": {
    "jupyter": {
     "source_hidden": true
    }
   },
   "outputs": [],
   "source": []
  },
  {
   "cell_type": "code",
   "execution_count": null,
   "id": "44f0f44e-11bd-4dba-9364-db366b560997",
   "metadata": {
    "jupyter": {
     "source_hidden": true
    }
   },
   "outputs": [],
   "source": []
  },
  {
   "cell_type": "code",
   "execution_count": null,
   "id": "0280c583-3fa6-47a7-b346-41502b2dc1b4",
   "metadata": {
    "jupyter": {
     "source_hidden": true
    }
   },
   "outputs": [],
   "source": []
  },
  {
   "cell_type": "code",
   "execution_count": null,
   "id": "64e5cdd7-3371-46e3-b5e2-f89bd9f4b91d",
   "metadata": {
    "jupyter": {
     "source_hidden": true
    }
   },
   "outputs": [],
   "source": []
  },
  {
   "cell_type": "code",
   "execution_count": null,
   "id": "21546778-ea03-4699-91e8-9fe547f76b88",
   "metadata": {
    "jupyter": {
     "source_hidden": true
    }
   },
   "outputs": [],
   "source": []
  },
  {
   "cell_type": "code",
   "execution_count": null,
   "id": "f95bc84a-48c5-4598-8298-869a82eb8b0f",
   "metadata": {
    "jupyter": {
     "source_hidden": true
    }
   },
   "outputs": [],
   "source": []
  },
  {
   "cell_type": "code",
   "execution_count": null,
   "id": "29b60a2d-b7c8-4406-8aa4-f38e2adaa30b",
   "metadata": {
    "jupyter": {
     "source_hidden": true
    }
   },
   "outputs": [],
   "source": []
  },
  {
   "cell_type": "code",
   "execution_count": null,
   "id": "130da15b-1c91-4b4f-95cd-8089c34fe023",
   "metadata": {
    "jupyter": {
     "source_hidden": true
    }
   },
   "outputs": [],
   "source": []
  },
  {
   "cell_type": "code",
   "execution_count": null,
   "id": "e55e38bc-7f4d-48e6-ba70-a67d3948412b",
   "metadata": {
    "jupyter": {
     "source_hidden": true
    }
   },
   "outputs": [],
   "source": []
  },
  {
   "cell_type": "code",
   "execution_count": null,
   "id": "63b650a1-13bb-43d6-a717-b9ab5baba88e",
   "metadata": {
    "jupyter": {
     "source_hidden": true
    }
   },
   "outputs": [],
   "source": []
  },
  {
   "cell_type": "code",
   "execution_count": null,
   "id": "8473fdbd-2493-492f-9ddc-e7010ed150f8",
   "metadata": {
    "jupyter": {
     "source_hidden": true
    }
   },
   "outputs": [],
   "source": []
  },
  {
   "cell_type": "code",
   "execution_count": null,
   "id": "1aecf0b2-4373-496a-b5f2-a7fbe14e0b5b",
   "metadata": {
    "jupyter": {
     "source_hidden": true
    }
   },
   "outputs": [],
   "source": []
  },
  {
   "cell_type": "code",
   "execution_count": null,
   "id": "c76fa236-c226-4b8b-97d7-8a11e34b730a",
   "metadata": {
    "jupyter": {
     "source_hidden": true
    }
   },
   "outputs": [],
   "source": []
  }
 ],
 "metadata": {
  "kernelspec": {
   "display_name": "Python 3 (ipykernel)",
   "language": "python",
   "name": "python3"
  },
  "language_info": {
   "codemirror_mode": {
    "name": "ipython",
    "version": 3
   },
   "file_extension": ".py",
   "mimetype": "text/x-python",
   "name": "python",
   "nbconvert_exporter": "python",
   "pygments_lexer": "ipython3",
   "version": "3.9.9"
  }
 },
 "nbformat": 4,
 "nbformat_minor": 5
}
