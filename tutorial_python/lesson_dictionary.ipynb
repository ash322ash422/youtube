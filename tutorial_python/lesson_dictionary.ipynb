{
 "cells": [
  {
   "cell_type": "markdown",
   "id": "accbac1e-d592-4a95-a295-88ed9e7d093c",
   "metadata": {},
   "source": [
    "## Dictionary: Mapping Type container\n",
    "dict contains elements of type **key : value** pairs.\n",
    "- General expression for dictionary:\n",
    "```\n",
    "d = {\n",
    "     key1: value1,\n",
    "     key2: value2,\n",
    "     key3: value3,\n",
    "}\n",
    "```\n",
    "- **keys** can be **string, int, float**.\n",
    "- **values** can be any data type: **int, str, bool, dict, list, tuples,** etc \n",
    "- dict are **mutable**\n"
   ]
  },
  {
   "cell_type": "markdown",
   "id": "dd4a60d5-4100-4f71-a1cc-4696a1f68dbd",
   "metadata": {},
   "source": [
    "### Creating and Accessing a Dictionary\n",
    "Scenario: Storing student scores in a dictionary."
   ]
  },
  {
   "cell_type": "code",
   "execution_count": 57,
   "id": "1dffc368-8dca-42c1-9920-125c751d2529",
   "metadata": {},
   "outputs": [
    {
     "name": "stdout",
     "output_type": "stream",
     "text": [
      "{'Ram': 85, 'Carlos': 92, 'Roman': 78}\n",
      "<class 'dict'>\n"
     ]
    }
   ],
   "source": [
    "# creating dict: style1\n",
    "student_scores = {\n",
    "    \"Ram\"    : 85, \n",
    "    \"Carlos\" : 92, \n",
    "    \"Roman\"  : 78\n",
    "}\n",
    "\n",
    "print(student_scores)\n",
    "print(type(student_scores))"
   ]
  },
  {
   "cell_type": "code",
   "execution_count": 58,
   "id": "2ea4fc56-44d2-4ae6-9b68-cec71728c280",
   "metadata": {},
   "outputs": [
    {
     "name": "stdout",
     "output_type": "stream",
     "text": [
      "{'Ram': 85, 'Carlos': 92, 'Roman': 78}\n",
      "<class 'dict'>\n"
     ]
    }
   ],
   "source": [
    "# creating dict from a list: style2\n",
    "l = [\n",
    "    ('Ram',   85),\n",
    "    ('Carlos',92),\n",
    "    ('Roman', 78)\n",
    "]\n",
    "\n",
    "student_scores = dict(l) # converts list into a dictionary\n",
    "print(student_scores)\n",
    "print(type(student_scores))"
   ]
  },
  {
   "cell_type": "code",
   "execution_count": 59,
   "id": "3d485ea5-36ef-4ecd-be6f-c639004c769e",
   "metadata": {},
   "outputs": [
    {
     "name": "stdout",
     "output_type": "stream",
     "text": [
      "{'Ram': 85, 'Carlos': 92, 'Roman': 78}\n"
     ]
    }
   ],
   "source": [
    "# creating dict: style3 (Using dict with zip()): keys and values in 2 seperate list\n",
    "names  = [\"Ram\", \"Carlos\", \"Roman\"] # keys\n",
    "scores = [85,     92,       78]     # values\n",
    "\n",
    "student_scores = dict(zip(names, scores))\n",
    "# print(list(zip(names, scores)))\n",
    "\n",
    "print(student_scores)"
   ]
  },
  {
   "cell_type": "code",
   "execution_count": null,
   "id": "7f952789-52c8-482a-b458-25936b1c969c",
   "metadata": {
    "jupyter": {
     "source_hidden": true
    }
   },
   "outputs": [],
   "source": []
  },
  {
   "cell_type": "code",
   "execution_count": 60,
   "id": "37919f3c-360b-446d-9cfb-be540faca87f",
   "metadata": {},
   "outputs": [
    {
     "name": "stdout",
     "output_type": "stream",
     "text": [
      "{5623: 85, 5612: 92, 5634: 78}\n"
     ]
    }
   ],
   "source": [
    "# Side note: Keys can be string, int, float\n",
    "employee = { \n",
    "    # keys=employee_id, value=age\n",
    "    5623: 85, \n",
    "    5612: 92, \n",
    "    5634: 78\n",
    "}\n",
    "\n",
    "print(employee)"
   ]
  },
  {
   "cell_type": "code",
   "execution_count": null,
   "id": "22e5410b-fb5c-4383-81a1-0134a7fa4629",
   "metadata": {
    "jupyter": {
     "source_hidden": true
    }
   },
   "outputs": [],
   "source": []
  },
  {
   "cell_type": "code",
   "execution_count": null,
   "id": "2cf1a589-e412-4aec-b2e1-a492cb399694",
   "metadata": {
    "jupyter": {
     "source_hidden": true
    }
   },
   "outputs": [],
   "source": []
  },
  {
   "cell_type": "code",
   "execution_count": 61,
   "id": "5ae43a93-577a-4139-9fa3-22747ff1160d",
   "metadata": {},
   "outputs": [
    {
     "name": "stdout",
     "output_type": "stream",
     "text": [
      "['__class__', '__class_getitem__', '__contains__', '__delattr__', '__delitem__', '__dir__', '__doc__', '__eq__', '__format__', '__ge__', '__getattribute__', '__getitem__', '__gt__', '__hash__', '__init__', '__init_subclass__', '__ior__', '__iter__', '__le__', '__len__', '__lt__', '__ne__', '__new__', '__or__', '__reduce__', '__reduce_ex__', '__repr__', '__reversed__', '__ror__', '__setattr__', '__setitem__', '__sizeof__', '__str__', '__subclasshook__', 'clear', 'copy', 'fromkeys', 'get', 'items', 'keys', 'pop', 'popitem', 'setdefault', 'update', 'values']\n"
     ]
    }
   ],
   "source": [
    "# I want to see all the in-built methods of dict\n",
    "print(dir(dict))\n",
    "\n",
    "# important ones are : 'clear', 'copy', 'fromkeys', 'get', 'items', \n",
    "# 'keys', 'pop', 'popitem', 'setdefault', 'update', 'values'"
   ]
  },
  {
   "cell_type": "code",
   "execution_count": null,
   "id": "8492f326-bc6a-4e83-94ed-5be903208c7d",
   "metadata": {
    "jupyter": {
     "source_hidden": true
    }
   },
   "outputs": [],
   "source": []
  },
  {
   "cell_type": "code",
   "execution_count": 64,
   "id": "ba1da969-6a07-4dc9-9cd7-f241a70d1377",
   "metadata": {},
   "outputs": [
    {
     "name": "stdout",
     "output_type": "stream",
     "text": [
      "85\n"
     ]
    }
   ],
   "source": [
    "# Accessing values using keys: []\n",
    "\n",
    "student_scores = {\n",
    "   \"Surendar\": 85, \n",
    "   \"Bob\"     : 92,\n",
    "   \"Tanner\"  : 78\n",
    "}\n",
    "\n",
    "print(student_scores[\"Surendar\"])  # Output: 85\n",
    "# print(student_scores[\"Tom\"])       # ERROR: KeyError "
   ]
  },
  {
   "cell_type": "code",
   "execution_count": 65,
   "id": "a122aec7-0a49-4f98-a0fb-06d39b1c1139",
   "metadata": {},
   "outputs": [
    {
     "name": "stdout",
     "output_type": "stream",
     "text": [
      "85\n",
      "None\n"
     ]
    }
   ],
   "source": [
    "# Accessing values using keys: get() . This gracefully handles KeyError\n",
    "\n",
    "student_scores = {\n",
    "   \"Surendar\": 85, \n",
    "   \"Bob\"     : 92,\n",
    "   \"Tanner\"  : 78\n",
    "}\n",
    "\n",
    "print(student_scores.get(\"Surendar\"))  # Output: 92\n",
    "print(student_scores.get(\"Tom\"))  # None"
   ]
  },
  {
   "cell_type": "code",
   "execution_count": null,
   "id": "1973ef74-146d-485b-8eb2-c4dae44606d4",
   "metadata": {
    "jupyter": {
     "source_hidden": true
    }
   },
   "outputs": [],
   "source": []
  },
  {
   "cell_type": "markdown",
   "id": "cb00b619-f66e-4694-ab62-d0fc8bec3238",
   "metadata": {},
   "source": [
    "### Check for key or value"
   ]
  },
  {
   "cell_type": "code",
   "execution_count": 66,
   "id": "d153e57d-89be-48f9-8dd3-65f7942c8df8",
   "metadata": {},
   "outputs": [
    {
     "name": "stdout",
     "output_type": "stream",
     "text": [
      "keys  :  dict_keys(['Surendar', 'Bob', 'Tanner'])\n",
      "values:  dict_values([85, 92, 78])\n"
     ]
    }
   ],
   "source": [
    "# show me all keys and values: keys(), values()\n",
    "\n",
    "student_scores = {\n",
    "   \"Surendar\": 85, \n",
    "   \"Bob\"     : 92,\n",
    "   \"Tanner\"  : 78\n",
    "}\n",
    "\n",
    "keys = student_scores.keys()\n",
    "print(\"keys  : \", keys)\n",
    "\n",
    "values= student_scores.values()\n",
    "print(\"values: \",values)"
   ]
  },
  {
   "cell_type": "code",
   "execution_count": 68,
   "id": "338c25ff-e12e-4136-8c82-939bcf02d7e3",
   "metadata": {},
   "outputs": [
    {
     "name": "stdout",
     "output_type": "stream",
     "text": [
      "Student Eve score is NOT found.\n"
     ]
    }
   ],
   "source": [
    "# Applications: check for a key - Is student data stored\n",
    "\n",
    "student_scores = {\n",
    "   \"Surendar\": 85, \n",
    "   \"Bob\"     : 92,\n",
    "   \"Tanner\"  : 78\n",
    "}\n",
    "\n",
    "search_name = 'Eve' # Tanner, Eve\n",
    "if search_name in student_scores.keys():\n",
    "    print(f\"Student {search_name} score is available.\")\n",
    "else:\n",
    "    print(f\"Student {search_name} score is NOT found.\")"
   ]
  },
  {
   "cell_type": "code",
   "execution_count": 70,
   "id": "066e6510-26ec-4e06-9f31-18defbd34475",
   "metadata": {},
   "outputs": [
    {
     "name": "stdout",
     "output_type": "stream",
     "text": [
      "Score 79 NOT found.\n"
     ]
    }
   ],
   "source": [
    "# Applications: check for value\n",
    "\n",
    "student_scores = {\n",
    "   \"Surendar\": 85, \n",
    "   \"Bob\"     : 92,\n",
    "   \"Tanner\"  : 78\n",
    "}\n",
    "\n",
    "search_score = 79\n",
    "if search_score in student_scores.values():\n",
    "    print(f\"Score {search_score} is available.\")\n",
    "else:\n",
    "    print(f\"Score {search_score} NOT found.\")"
   ]
  },
  {
   "cell_type": "code",
   "execution_count": null,
   "id": "0bcc63bd-1756-4be5-ba02-bf13a779f1f6",
   "metadata": {
    "jupyter": {
     "source_hidden": true
    }
   },
   "outputs": [],
   "source": []
  },
  {
   "cell_type": "code",
   "execution_count": 71,
   "id": "930d73b1-ffac-4206-968f-cca88692c8a1",
   "metadata": {},
   "outputs": [
    {
     "name": "stdout",
     "output_type": "stream",
     "text": [
      "dict_items([('Surendar', 85), ('Bob', 92), ('Tanner', 78)])\n"
     ]
    }
   ],
   "source": [
    "# show me both key,values: items()\n",
    "\n",
    "student_scores = {\n",
    "   \"Surendar\": 85, \n",
    "   \"Bob\"     : 92,\n",
    "   \"Tanner\"  : 78\n",
    "}\n",
    "\n",
    "items = student_scores.items()\n",
    "print(items)"
   ]
  },
  {
   "cell_type": "code",
   "execution_count": 72,
   "id": "04d424bc-2151-43b5-b75f-d8eb51dd302c",
   "metadata": {},
   "outputs": [
    {
     "name": "stdout",
     "output_type": "stream",
     "text": [
      "Student Surendar scored 85\n",
      "Student Bob scored 92\n",
      "Student Tanner scored 78\n"
     ]
    }
   ],
   "source": [
    "# iterate over dictionary\n",
    "student_scores = {\n",
    "   \"Surendar\": 85, \n",
    "   \"Bob\"     : 92,\n",
    "   \"Tanner\"  : 78\n",
    "}\n",
    "\n",
    "for name,score in student_scores.items():\n",
    "    print(f\"Student {name} scored {score}\")"
   ]
  },
  {
   "cell_type": "code",
   "execution_count": 73,
   "id": "1a58dcab-b35b-4501-92ef-a633e258f133",
   "metadata": {},
   "outputs": [
    {
     "name": "stdout",
     "output_type": "stream",
     "text": [
      "2\n"
     ]
    }
   ],
   "source": [
    "# APPLICATION: count how many students scored > 80\n",
    "student_scores = {\n",
    "   \"Surendar\": 85, \n",
    "   \"Bob\"     : 92,\n",
    "   \"Tanner\"  : 78\n",
    "}\n",
    "\n",
    "count = 0\n",
    "for name, score in student_scores.items():\n",
    "   if score > 80:\n",
    "       count +=1\n",
    "       \n",
    "print(count)"
   ]
  },
  {
   "cell_type": "code",
   "execution_count": null,
   "id": "83916c7f-c447-4cac-8c0c-a9e508863175",
   "metadata": {
    "jupyter": {
     "source_hidden": true
    }
   },
   "outputs": [],
   "source": []
  },
  {
   "cell_type": "code",
   "execution_count": 74,
   "id": "b9ce7070-cb13-406e-835d-3bf98753d0e3",
   "metadata": {},
   "outputs": [
    {
     "name": "stdout",
     "output_type": "stream",
     "text": [
      "3\n"
     ]
    }
   ],
   "source": [
    "# show me how many elements there are in dict\n",
    "print(len(student_scores))"
   ]
  },
  {
   "cell_type": "markdown",
   "id": "477ce400-b749-4a71-8a9b-3cf8fb86d83e",
   "metadata": {},
   "source": [
    "###  Adding and Modifying Dictionary Entries\n",
    "Scenario: Adding a new student's score and updating an existing one"
   ]
  },
  {
   "cell_type": "code",
   "execution_count": 76,
   "id": "4b035212-e669-4f6c-bed7-bc4f4072f7cd",
   "metadata": {},
   "outputs": [
    {
     "name": "stdout",
     "output_type": "stream",
     "text": [
      "before adding:{'Surendar': 85, 'Bob': 92, 'Tanner': 78}\n",
      "after adding: {'Surendar': 85, 'Bob': 92, 'Tanner': 78, 'David': 88}\n",
      "after update: {'Surendar': 90, 'Bob': 92, 'Tanner': 78, 'David': 88}\n"
     ]
    }
   ],
   "source": [
    "# Add / update entries in dict\n",
    "\n",
    "student_scores = {\n",
    "   \"Surendar\": 85, \n",
    "   \"Bob\"     : 92,\n",
    "   \"Tanner\"  : 78\n",
    "}\n",
    "\n",
    "print(f\"before adding:{student_scores}\")\n",
    "student_scores[\"David\"] = 88  # Adding new key-value pair\n",
    "print(f\"after adding: {student_scores}\")\n",
    "\n",
    "# Now I want to update some value based on key\n",
    "student_scores[\"Surendar\"] = 90  # Updating value\n",
    "print(f\"after update: {student_scores}\")"
   ]
  },
  {
   "cell_type": "code",
   "execution_count": null,
   "id": "c4010799-de16-474d-85b3-3a510a1556e5",
   "metadata": {
    "jupyter": {
     "source_hidden": true
    }
   },
   "outputs": [],
   "source": []
  },
  {
   "cell_type": "markdown",
   "id": "e93c24d9-f77d-4151-95d8-f731fc567d3a",
   "metadata": {},
   "source": [
    "### Removing an Entry(or clearing) from a Dictionary\n",
    "Scenario: Removing a student's score."
   ]
  },
  {
   "cell_type": "code",
   "execution_count": 77,
   "id": "e347c87a-ae6c-4ce4-bc01-52d2fb202144",
   "metadata": {},
   "outputs": [
    {
     "name": "stdout",
     "output_type": "stream",
     "text": [
      "{'Surendar': 85, 'Tanner': 78}\n"
     ]
    }
   ],
   "source": [
    "# remove an entry based on key: pop()\n",
    "student_scores = {\n",
    "   \"Surendar\": 85, \n",
    "   \"Bob\"     : 92,\n",
    "   \"Tanner\"  : 78\n",
    "}\n",
    "\n",
    "student_scores.pop(\"Bob\")  \n",
    "print(student_scores)"
   ]
  },
  {
   "cell_type": "code",
   "execution_count": 78,
   "id": "b8a2c3e6-1b0d-4490-a48c-b5f86fd17407",
   "metadata": {},
   "outputs": [
    {
     "name": "stdout",
     "output_type": "stream",
     "text": [
      "{}\n"
     ]
    }
   ],
   "source": [
    "# remove all entries and free memory space: clear()\n",
    "student_scores = {\n",
    "   \"Surendar\": 85, \n",
    "   \"Bob\"     : 92,\n",
    "   \"Tanner\"  : 78\n",
    "}\n",
    "\n",
    "student_scores.clear()\n",
    "print(student_scores)"
   ]
  },
  {
   "cell_type": "code",
   "execution_count": null,
   "id": "076c3870-4b36-441c-85f9-1d9851316525",
   "metadata": {
    "jupyter": {
     "source_hidden": true
    }
   },
   "outputs": [],
   "source": []
  },
  {
   "cell_type": "markdown",
   "id": "6a191bb7-ffa6-4e9d-b4da-a22c3bf6fa02",
   "metadata": {},
   "source": [
    "### Merging Two Dictionaries (update() & | Operator)\n",
    "Scenario: Merging student scores from two classes."
   ]
  },
  {
   "cell_type": "code",
   "execution_count": 79,
   "id": "c3cf4548-f883-4b06-8a49-3db74f2ff21d",
   "metadata": {},
   "outputs": [
    {
     "name": "stdout",
     "output_type": "stream",
     "text": [
      "{'Happy': 85, 'Solo': 92, 'Yanni': 78, 'Weyn': 88, 'Zena': 54}\n"
     ]
    }
   ],
   "source": [
    "# merge 2 dict: update() |\n",
    "\n",
    "class_a = {\"Happy\": 85,\n",
    "           \"Solo\" : 92\n",
    "}\n",
    "\n",
    "class_b = {\"Yanni\": 78, \n",
    "           \"Weyn\" : 88,\n",
    "           \"Zena\" : 54\n",
    "}\n",
    "\n",
    "# Method 1: Using update()\n",
    "merged_scores = {}\n",
    "merged_scores.update(class_a)\n",
    "merged_scores.update(class_b)\n",
    "print(merged_scores)"
   ]
  },
  {
   "cell_type": "code",
   "execution_count": 80,
   "id": "102c9369-dcea-460d-b6d7-115bf914f5d0",
   "metadata": {},
   "outputs": [
    {
     "name": "stdout",
     "output_type": "stream",
     "text": [
      "{'Happy': 85, 'Solo': 92, 'Yanni': 78, 'Weyn': 88, 'Zena': 54}\n"
     ]
    }
   ],
   "source": [
    "# Method 2: Using `|` operator\n",
    "merged_scores = class_a | class_b\n",
    "print(merged_scores)"
   ]
  },
  {
   "cell_type": "markdown",
   "id": "e439b14a",
   "metadata": {},
   "source": [
    "# STOP"
   ]
  },
  {
   "cell_type": "code",
   "execution_count": null,
   "id": "ffa04240-efcd-486e-87ff-349119497605",
   "metadata": {
    "jupyter": {
     "source_hidden": true
    }
   },
   "outputs": [],
   "source": []
  },
  {
   "cell_type": "code",
   "execution_count": null,
   "id": "0382bf75-5759-48f2-b545-54dc917522c1",
   "metadata": {
    "jupyter": {
     "source_hidden": true
    }
   },
   "outputs": [],
   "source": []
  },
  {
   "cell_type": "code",
   "execution_count": null,
   "id": "38c86d4e-210c-43b2-b3c1-ab6c19a6885d",
   "metadata": {
    "jupyter": {
     "source_hidden": true
    }
   },
   "outputs": [],
   "source": []
  },
  {
   "cell_type": "code",
   "execution_count": null,
   "id": "fccabddc-f785-4f94-b3a8-486c7484157a",
   "metadata": {
    "jupyter": {
     "source_hidden": true
    }
   },
   "outputs": [],
   "source": []
  },
  {
   "cell_type": "code",
   "execution_count": null,
   "id": "9c427c96-30ef-4cd9-82a7-7519dbdfa06d",
   "metadata": {
    "jupyter": {
     "source_hidden": true
    }
   },
   "outputs": [],
   "source": []
  },
  {
   "cell_type": "code",
   "execution_count": null,
   "id": "f0d3e3ae-988e-4897-8d62-1f3b49d53efe",
   "metadata": {
    "jupyter": {
     "source_hidden": true
    }
   },
   "outputs": [],
   "source": []
  },
  {
   "cell_type": "code",
   "execution_count": null,
   "id": "faa59a33-b85c-45b6-b2b3-2bb5cde29e71",
   "metadata": {
    "jupyter": {
     "source_hidden": true
    }
   },
   "outputs": [],
   "source": []
  },
  {
   "cell_type": "code",
   "execution_count": null,
   "id": "df61bd83-dddf-4b1e-ad8e-fd92165d3f72",
   "metadata": {
    "jupyter": {
     "source_hidden": true
    }
   },
   "outputs": [],
   "source": []
  },
  {
   "cell_type": "markdown",
   "id": "3cc5089a-2ef0-4562-af00-8768c4dc0e02",
   "metadata": {},
   "source": [
    "### Advanced: Nested Dictionary (List or Dictionary Inside a Dictionary)\n",
    "Scenario: Storing student information including multiple details."
   ]
  },
  {
   "cell_type": "code",
   "execution_count": null,
   "id": "50a62c0f-d2f9-4be9-af85-0a8cd64d4d0c",
   "metadata": {
    "jupyter": {
     "source_hidden": true
    }
   },
   "outputs": [],
   "source": [
    "# List in dictionary: Values are list\n",
    "students = { # key=name, value=[age,height,location]\n",
    "    \"Swamy\" : [50, 1.7, \"Moscow\"],\n",
    "    \"Tinku\" : [43, 1.3, \"Delhi\"],\n",
    "    \"Happy\" : [32, 1.8, \"Ontario\"]\n",
    "}\n",
    "\n",
    "print(students)\n",
    "print(students['Happy'])\n",
    "print(students['Happy'][1]) # height of Happy"
   ]
  },
  {
   "cell_type": "code",
   "execution_count": null,
   "id": "5a90230f-fdf8-41c3-a1e0-305d69f1f2e4",
   "metadata": {
    "jupyter": {
     "source_hidden": true
    }
   },
   "outputs": [],
   "source": [
    "# dictionary in dictionary:  values are dictionary\n",
    "\n",
    "students = {\n",
    "    \"Swamy\" : {'age': 50, 'ht': 1.7, 'location': \"Moscow\"},\n",
    "    \"Tinku\" : {'age': 43, 'ht': 1.3, 'location': \"Delhi\"},\n",
    "    \"Happy\" : {'age': 32, 'ht': 1.8, 'location': \"Ontario\"}   \n",
    "}\n",
    "\n",
    "print(students)                 # show all elements of dictionary\n",
    "print(students[\"Happy\"])        # show all values for Happy\n",
    "print(students[\"Happy\"][\"ht\"])  # show me Happy height"
   ]
  },
  {
   "cell_type": "code",
   "execution_count": null,
   "id": "dc4d8400-e3a3-4828-8ee4-a560e8f6702d",
   "metadata": {
    "jupyter": {
     "source_hidden": true
    }
   },
   "outputs": [],
   "source": []
  },
  {
   "cell_type": "code",
   "execution_count": null,
   "id": "b885fdfb-fac1-4e1e-90e0-f3f2cc12c294",
   "metadata": {
    "jupyter": {
     "source_hidden": true
    }
   },
   "outputs": [],
   "source": []
  },
  {
   "cell_type": "code",
   "execution_count": null,
   "id": "09022e4e-27d1-49bb-b43d-94e566b7f98b",
   "metadata": {
    "jupyter": {
     "source_hidden": true
    }
   },
   "outputs": [],
   "source": []
  },
  {
   "cell_type": "code",
   "execution_count": null,
   "id": "ff3f8943-6ddc-44bf-894a-7d5f441f34ab",
   "metadata": {
    "jupyter": {
     "source_hidden": true
    }
   },
   "outputs": [],
   "source": []
  },
  {
   "cell_type": "markdown",
   "id": "1ca235fc-9dea-4c44-aef5-5c4eaa136c2f",
   "metadata": {},
   "source": [
    "\n",
    "### 2. (SKIP) Sorting a Dictionary by Keys and Values\n",
    "Scenario: Sorting student scores in ascending and descending order."
   ]
  },
  {
   "cell_type": "code",
   "execution_count": null,
   "id": "6762d86b-9340-41ac-9d23-ccdfdd676b47",
   "metadata": {
    "jupyter": {
     "source_hidden": true
    }
   },
   "outputs": [],
   "source": [
    "student_scores = {\"Alice\": 85, \"Bob\": 92, \"Charlie\": 78, \"David\": 88}\n",
    "\n",
    "# Sort by keys (alphabetically)\n",
    "sorted_by_keys = dict(sorted(student_scores.items()))\n",
    "print(sorted_by_keys)  \n",
    "\n",
    "# Sort by values (ascending)\n",
    "sorted_by_values = dict(sorted(student_scores.items(), key=lambda item: item[1]))\n",
    "print(sorted_by_values)  \n",
    "\n",
    "# Sort by values (descending)\n",
    "sorted_by_values_desc = dict(sorted(student_scores.items(), key=lambda item: item[1], reverse=True))\n",
    "print(sorted_by_values_desc)  "
   ]
  },
  {
   "cell_type": "markdown",
   "id": "3e45a8ae-be3a-4f1e-a207-8755ffe2fd11",
   "metadata": {},
   "source": [
    "### (SKIP) 3. Dictionary Filtering (Keeping Items That Meet a Condition)\n",
    "Scenario: Keeping only students who scored above 80."
   ]
  },
  {
   "cell_type": "code",
   "execution_count": null,
   "id": "31bae92a-4d94-4e7b-8663-255bd5b94b6e",
   "metadata": {
    "jupyter": {
     "source_hidden": true
    }
   },
   "outputs": [],
   "source": [
    "student_scores = {\"Alice\": 85,\n",
    "                  \"Bob\": 92,\n",
    "                  \"Charlie\": 78,\n",
    "                  \"David\": 88\n",
    "}\n",
    "\n",
    "filtered_scores = {k: v for k, v in student_scores.items() if v > 80}\n",
    "print(filtered_scores)"
   ]
  }
 ],
 "metadata": {
  "kernelspec": {
   "display_name": "Python 3 (ipykernel)",
   "language": "python",
   "name": "python3"
  },
  "language_info": {
   "codemirror_mode": {
    "name": "ipython",
    "version": 3
   },
   "file_extension": ".py",
   "mimetype": "text/x-python",
   "name": "python",
   "nbconvert_exporter": "python",
   "pygments_lexer": "ipython3",
   "version": "3.9.9"
  }
 },
 "nbformat": 4,
 "nbformat_minor": 5
}
