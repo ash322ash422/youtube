{
 "cells": [
  {
   "cell_type": "code",
   "execution_count": null,
   "id": "58d3390a-4730-4f25-9c74-72a351f780d9",
   "metadata": {},
   "outputs": [],
   "source": []
  },
  {
   "cell_type": "code",
   "execution_count": 6,
   "id": "cab49ec7-e0de-475e-91dc-0d158f3bfde2",
   "metadata": {},
   "outputs": [
    {
     "name": "stdout",
     "output_type": "stream",
     "text": [
      "{'Ram': 85, 'Carlos': 92, 'Roman': 78}\n",
      "<class 'dict'>\n",
      "{'Ram': 85, 'Carlos': 92, 'Roman': 78}\n",
      "<class 'dict'>\n"
     ]
    }
   ],
   "source": [
    "# creating dict: style1\n",
    "student_scores = {\n",
    "    \"Ram\": 85, \n",
    "    \"Carlos\": 92, \n",
    "    \"Roman\": 78\n",
    "}\n",
    "\n",
    "print(student_scores)\n",
    "print(type(student_scores))\n",
    "\n",
    "# ####################\n",
    "# Side note: I can rewrite above like this too:\n",
    "student_scores = { \"Ram\": 85, \"Carlos\": 92, \"Roman\": 78 }\n",
    "print(student_scores)\n",
    "print(type(student_scores))\n",
    "\n",
    "# # BUT it is less clear."
   ]
  },
  {
   "cell_type": "code",
   "execution_count": null,
   "id": "814ae808-1fcd-45ce-bb11-ff44ff83b633",
   "metadata": {},
   "outputs": [],
   "source": []
  },
  {
   "cell_type": "code",
   "execution_count": 7,
   "id": "ed395852-8be1-4aa9-918a-c1687f37a3b2",
   "metadata": {},
   "outputs": [
    {
     "name": "stdout",
     "output_type": "stream",
     "text": [
      "{'Ram': 85, 'Carlos': 92, 'Roman': 78}\n",
      "<class 'dict'>\n"
     ]
    }
   ],
   "source": [
    "# creating dict from a list: style2\n",
    "l = [\n",
    "    ('Ram',85),\n",
    "    ('Carlos',92),\n",
    "    ('Roman', 78)\n",
    "]\n",
    "\n",
    "student_scores = dict(l) # converts list into a dictionary\n",
    "print(student_scores)\n",
    "print(type(student_scores))"
   ]
  },
  {
   "cell_type": "code",
   "execution_count": 9,
   "id": "f4eea7f5-e844-428c-9b2a-af259bdf9b4b",
   "metadata": {},
   "outputs": [
    {
     "name": "stdout",
     "output_type": "stream",
     "text": [
      "{'Ram': 85, 'Carlos': 92, 'Roman': 78}\n"
     ]
    }
   ],
   "source": [
    "# creating dict: style3 (Using dict with zip()) \n",
    "names  = [\"Ram\", \"Carlos\", \"Roman\"] # keys\n",
    "scores = [85,     92,       78]     # values\n",
    "\n",
    "student_scores = dict(zip(names, scores))\n",
    "\n",
    "print(student_scores)"
   ]
  },
  {
   "cell_type": "code",
   "execution_count": null,
   "id": "065ffe2f-db5b-434c-9616-ad71ff64d62b",
   "metadata": {},
   "outputs": [],
   "source": []
  },
  {
   "cell_type": "code",
   "execution_count": 12,
   "id": "368efc0f-0e00-45e2-bd3c-5a017e404abc",
   "metadata": {},
   "outputs": [
    {
     "name": "stdout",
     "output_type": "stream",
     "text": [
      "85\n",
      "92\n",
      "None\n"
     ]
    }
   ],
   "source": [
    "# Accessing values using keys\n",
    "\n",
    "student_scores = {\n",
    "   \"Surendar\": 85, \n",
    "   \"Bob\": 92,\n",
    "   \"Tanner\": 78\n",
    "}\n",
    "\n",
    "print(student_scores[\"Surendar\"])  # Output: 85\n",
    "# print(student_scores[\"Tom\"])       # ERROR: KeyError \n",
    "\n",
    "print(student_scores.get(\"Bob\"))  # Output: 92\n",
    "print(student_scores.get(\"Tom\"))  # None"
   ]
  },
  {
   "cell_type": "code",
   "execution_count": null,
   "id": "0313940d-0465-462e-b1dc-ed1306f08bbb",
   "metadata": {},
   "outputs": [],
   "source": []
  },
  {
   "cell_type": "code",
   "execution_count": 15,
   "id": "64e68bef-63ae-4aca-a80c-a61cdbfa7568",
   "metadata": {},
   "outputs": [
    {
     "name": "stdout",
     "output_type": "stream",
     "text": [
      "dict_keys(['Surendar', 'Bob', 'Tanner'])\n",
      "dict_values([85, 92, 78])\n",
      "dict_items([('Surendar', 85), ('Bob', 92), ('Tanner', 78)])\n"
     ]
    }
   ],
   "source": [
    "# show me all keys\n",
    "student_scores = {\n",
    "   \"Surendar\": 85, \n",
    "   \"Bob\": 92,\n",
    "   \"Tanner\": 78\n",
    "}\n",
    "\n",
    "keys = student_scores.keys()\n",
    "print(keys)\n",
    "\n",
    "# show me all values\n",
    "values= student_scores.values()\n",
    "print(values)\n",
    "\n",
    "# show me both key,values:\n",
    "items = student_scores.items()\n",
    "print(items)"
   ]
  },
  {
   "cell_type": "code",
   "execution_count": null,
   "id": "4a6c4ffa-cb73-42e9-be0d-50ba30e00c36",
   "metadata": {},
   "outputs": [],
   "source": []
  },
  {
   "cell_type": "code",
   "execution_count": 16,
   "id": "4bb5d5f7-09c5-4386-a514-359b882f16fc",
   "metadata": {},
   "outputs": [
    {
     "name": "stdout",
     "output_type": "stream",
     "text": [
      "3\n"
     ]
    }
   ],
   "source": [
    "# show me how many elements there are in dict\n",
    "print(len(student_scores))"
   ]
  },
  {
   "cell_type": "code",
   "execution_count": 17,
   "id": "79544bad-31e3-4bfb-b025-8090e07e50bb",
   "metadata": {},
   "outputs": [
    {
     "name": "stdout",
     "output_type": "stream",
     "text": [
      "{56: 85, 12: 92, 34: 78}\n",
      "92\n"
     ]
    }
   ],
   "source": [
    "# Side not: Keys can be string, int, float\n",
    "employee = { # keys=employee_id, value=age\n",
    "    56: 85, \n",
    "    12: 92, \n",
    "    34: 78\n",
    "}\n",
    "\n",
    "print(employee)\n",
    "print(employee[12])"
   ]
  },
  {
   "cell_type": "code",
   "execution_count": null,
   "id": "2d547dd7-9ff8-4e68-9c4c-11e539f23c1a",
   "metadata": {},
   "outputs": [],
   "source": []
  },
  {
   "cell_type": "code",
   "execution_count": 19,
   "id": "81628c6b-8404-47b6-a2e4-c20fe5a398ac",
   "metadata": {},
   "outputs": [
    {
     "name": "stdout",
     "output_type": "stream",
     "text": [
      "before adding:{'Surendar': 85, 'Bob': 92, 'Tanner': 78}\n",
      "after adding:{'Surendar': 85, 'Bob': 92, 'Tanner': 78, 'David': 88}\n",
      "after update:{'Surendar': 90, 'Bob': 92, 'Tanner': 78, 'David': 88}\n"
     ]
    }
   ],
   "source": [
    "# Add / update entries in dict\n",
    "\n",
    "student_scores = {\n",
    "   \"Surendar\": 85, \n",
    "   \"Bob\": 92,\n",
    "   \"Tanner\": 78\n",
    "}\n",
    "\n",
    "print(f\"before adding:{student_scores}\")\n",
    "student_scores[\"David\"] = 88  # Adding new key-value pair\n",
    "print(f\"after adding:{student_scores}\")\n",
    "\n",
    "\n",
    "# Now I want to update some value based on key\n",
    "student_scores[\"Surendar\"] = 90  # Updating value\n",
    "print(f\"after update:{student_scores}\")"
   ]
  },
  {
   "cell_type": "code",
   "execution_count": 21,
   "id": "21843848-a609-4688-b06a-001ed9338adb",
   "metadata": {},
   "outputs": [
    {
     "name": "stdout",
     "output_type": "stream",
     "text": [
      "The dictionary key:values are Surendar: 85\n",
      "The dictionary key:values are Bob: 92\n",
      "The dictionary key:values are Tanner: 78\n",
      "Done\n",
      "2\n"
     ]
    }
   ],
   "source": [
    "# iterate over dictionary\n",
    "\n",
    "student_scores = {\n",
    "   \"Surendar\": 85, \n",
    "   \"Bob\": 92,\n",
    "   \"Tanner\": 78\n",
    "}\n",
    "\n",
    "for name, score in student_scores.items():\n",
    "    print(f\"The dictionary key:values are {name}: {score}\")\n",
    "\n",
    "print(\"Done\")\n",
    "\n",
    "\n",
    "######################\n",
    "#APPLICATION: count how many students scored > 80\n",
    "count = 0\n",
    "for name, score in student_scores.items():\n",
    "   if score > 80:\n",
    "       count +=1\n",
    "\n",
    "print(count)"
   ]
  },
  {
   "cell_type": "code",
   "execution_count": 24,
   "id": "78e1d947-2bc0-4a84-8da2-2c7738306796",
   "metadata": {},
   "outputs": [
    {
     "name": "stdout",
     "output_type": "stream",
     "text": [
      " Eve score is not found.\n"
     ]
    }
   ],
   "source": [
    "# check for a key\n",
    "\n",
    "student_scores = {\n",
    "   \"Surendar\": 85, \n",
    "   \"Bob\": 92,\n",
    "   \"Tanner\": 78\n",
    "}\n",
    "\n",
    "search = 'Eve' # Tanner\n",
    "if search in student_scores:\n",
    "    print(f\" {search} score is available.\")\n",
    "else:\n",
    "    print(f\" {search} score is not found.\")"
   ]
  },
  {
   "cell_type": "code",
   "execution_count": 25,
   "id": "549457cb-05a3-4bf5-bb52-8c8559177a1e",
   "metadata": {},
   "outputs": [
    {
     "name": "stdout",
     "output_type": "stream",
     "text": [
      "{'Surendar': 85, 'Tanner': 78}\n"
     ]
    }
   ],
   "source": [
    "# remove an entry based on key:\n",
    "student_scores = {\n",
    "   \"Surendar\": 85, \n",
    "   \"Bob\": 92,\n",
    "   \"Tanner\": 78\n",
    "}\n",
    "\n",
    "student_scores.pop(\"Bob\")  \n",
    "print(student_scores)"
   ]
  },
  {
   "cell_type": "code",
   "execution_count": 26,
   "id": "aa4abb44-4a2d-4902-961e-9a7be24e77cb",
   "metadata": {},
   "outputs": [
    {
     "name": "stdout",
     "output_type": "stream",
     "text": [
      "{}\n"
     ]
    }
   ],
   "source": [
    "\n",
    "# remove all entries\n",
    "student_scores = {\n",
    "   \"Surendar\": 85, \n",
    "   \"Bob\": 92,\n",
    "   \"Tanner\": 78\n",
    "}\n",
    "\n",
    "student_scores.clear()\n",
    "print(student_scores)"
   ]
  },
  {
   "cell_type": "code",
   "execution_count": null,
   "id": "a270ab07-8374-43e0-80bc-81279abe7d9a",
   "metadata": {},
   "outputs": [],
   "source": []
  },
  {
   "cell_type": "code",
   "execution_count": 28,
   "id": "34197139-5de6-470b-bca7-d05b4b817622",
   "metadata": {},
   "outputs": [
    {
     "name": "stdout",
     "output_type": "stream",
     "text": [
      "{'Swamy': [50, 1.7, 'Kerala'], 'Tinku': [43, 1.3, 'Delhi'], 'Happy': [32, 1.8, 'Noida']}\n",
      "[32, 1.8, 'Noida']\n",
      "1.8\n"
     ]
    }
   ],
   "source": [
    "# List in dictionary: Values are list\n",
    "students = { # key=name, value=[age,height,location]\n",
    "    \"Swamy\" : [50, 1.7, \"Kerala\"],\n",
    "    \"Tinku\" : [43, 1.3, \"Delhi\"],\n",
    "    \"Happy\" : [32, 1.8, \"Noida\"]\n",
    "}\n",
    "\n",
    "print(students)\n",
    "print(students['Happy'])\n",
    "print(students['Happy'][1]) # height of Happy"
   ]
  },
  {
   "cell_type": "code",
   "execution_count": null,
   "id": "a74e32f5-4a51-4a26-9b58-53fdb8846a4a",
   "metadata": {},
   "outputs": [],
   "source": []
  },
  {
   "cell_type": "code",
   "execution_count": 30,
   "id": "3a0e618c-73f8-42bd-ace9-82966e96f2e6",
   "metadata": {},
   "outputs": [
    {
     "name": "stdout",
     "output_type": "stream",
     "text": [
      "{'Swamy': {'age': 50, 'ht': 1.7, 'location': 'Kerala'}, 'Tinku': {'age': 43, 'ht': 1.3, 'location': 'Delhi'}, 'Happy': {'age': 32, 'ht': 1.8, 'location': 'Noida'}}\n",
      "{'age': 32, 'ht': 1.8, 'location': 'Noida'}\n",
      "1.8\n"
     ]
    }
   ],
   "source": [
    "# dictionary in dictionary:  values are dictionary\n",
    "\n",
    "students = {\n",
    "    \"Swamy\" : {'age': 50, 'ht': 1.7, 'location': \"Kerala\"},\n",
    "    \"Tinku\" : {'age': 43, 'ht': 1.3, 'location': \"Delhi\"},\n",
    "    \"Happy\" : {'age': 32, 'ht': 1.8, 'location': \"Noida\"}   \n",
    "}\n",
    "\n",
    "print(students)                 # show all elements of dictionary\n",
    "print(students[\"Happy\"])        # show all values for Happy\n",
    "print(students[\"Happy\"][\"ht\"])  # show me Happy height"
   ]
  },
  {
   "cell_type": "code",
   "execution_count": null,
   "id": "26dbffb7-1cd3-4033-8e83-70b00930311c",
   "metadata": {},
   "outputs": [],
   "source": []
  },
  {
   "cell_type": "code",
   "execution_count": 32,
   "id": "a06891f9-6fda-42cb-92b9-860a8a3f4d2b",
   "metadata": {},
   "outputs": [
    {
     "name": "stdout",
     "output_type": "stream",
     "text": [
      "{'Archie': 85, 'Bono': 92, 'Charlie': 78, 'David': 88, 'Zena': 54}\n",
      "{'Archie': 85, 'Bono': 92, 'Charlie': 78, 'David': 88, 'Zena': 54}\n"
     ]
    }
   ],
   "source": [
    "# merge 2 dict\n",
    "\n",
    "class_a = {\"Archie\": 85,\n",
    "           \"Bono\": 92\n",
    "}\n",
    "\n",
    "class_b = {\"Charlie\": 78, \n",
    "           \"David\": 88,\n",
    "           \"Zena\": 54\n",
    "}\n",
    "\n",
    "# Method 1: Using update()\n",
    "merged_scores = class_a.copy()\n",
    "merged_scores.update(class_b)\n",
    "print(merged_scores)\n",
    "#################################\n",
    "\n",
    "# Method 2: Using `|` operator (Python 3.9+)\n",
    "merged_scores = class_a | class_b\n",
    "print(merged_scores)"
   ]
  },
  {
   "cell_type": "code",
   "execution_count": null,
   "id": "43396804-101f-435a-aa5e-8020efdd66ec",
   "metadata": {},
   "outputs": [],
   "source": []
  },
  {
   "cell_type": "code",
   "execution_count": null,
   "id": "bcdd5766-1f2c-49aa-8024-5cbc975de0af",
   "metadata": {},
   "outputs": [],
   "source": []
  },
  {
   "cell_type": "code",
   "execution_count": null,
   "id": "8fdf126c-0108-4280-a8c0-f99fe6d82d58",
   "metadata": {},
   "outputs": [],
   "source": []
  },
  {
   "cell_type": "code",
   "execution_count": null,
   "id": "b1968d89-93b7-4cb8-8501-309b7ba42d9f",
   "metadata": {},
   "outputs": [],
   "source": []
  },
  {
   "cell_type": "code",
   "execution_count": null,
   "id": "3bd32160-c3d1-44fb-adf6-0425718d8fd8",
   "metadata": {},
   "outputs": [],
   "source": []
  }
 ],
 "metadata": {
  "kernelspec": {
   "display_name": "Python 3 (ipykernel)",
   "language": "python",
   "name": "python3"
  },
  "language_info": {
   "codemirror_mode": {
    "name": "ipython",
    "version": 3
   },
   "file_extension": ".py",
   "mimetype": "text/x-python",
   "name": "python",
   "nbconvert_exporter": "python",
   "pygments_lexer": "ipython3",
   "version": "3.9.9"
  }
 },
 "nbformat": 4,
 "nbformat_minor": 5
}
