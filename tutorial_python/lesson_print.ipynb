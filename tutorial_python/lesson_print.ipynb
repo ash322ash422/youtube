{
 "cells": [
  {
   "cell_type": "code",
   "execution_count": 1,
   "id": "a8550c4b-4237-4e51-9d25-f81822068f12",
   "metadata": {},
   "outputs": [
    {
     "name": "stdout",
     "output_type": "stream",
     "text": [
      "\n"
     ]
    }
   ],
   "source": [
    "print()"
   ]
  },
  {
   "cell_type": "code",
   "execution_count": 5,
   "id": "9793a3ce-b12b-40b3-9524-27b0743c19c4",
   "metadata": {},
   "outputs": [
    {
     "name": "stdout",
     "output_type": "stream",
     "text": [
      "1 Hello world\n",
      "1 Hello world\n",
      "The gentleman said, '1 Hello world'\n"
     ]
    }
   ],
   "source": [
    "print(\"1 Hello world\") # octothorpe or hashtag. This is my first print\n",
    "print('1 Hello world') # using single quote\n",
    "print(\"The gentleman said, '1 Hello world'\") # SKIP single quote inside a double quote\n"
   ]
  },
  {
   "cell_type": "code",
   "execution_count": 9,
   "id": "ba03adc8-6cc3-4c8a-95f0-e623dc50cddb",
   "metadata": {},
   "outputs": [
    {
     "name": "stdout",
     "output_type": "stream",
     "text": [
      "2 Hello world. Today its raining.\n",
      "3 Hello world. Today its raining.\n",
      "4 Hello world. Today its raining. It is going to be humid today. Good luck\n"
     ]
    }
   ],
   "source": [
    "# using comma , to print series of stmts \n",
    "print(\"2 Hello world. Today its raining.\")\n",
    "print(\"3 Hello world.\", \"Today its raining.\")\n",
    "\n",
    "print(\"4 Hello world.\", \"Today its raining.\", \"It is going to be humid today.\", \"Good luck\")"
   ]
  },
  {
   "cell_type": "code",
   "execution_count": null,
   "id": "2149ce95-53d8-4d7b-9779-ef94a9f6c146",
   "metadata": {},
   "outputs": [],
   "source": []
  },
  {
   "cell_type": "code",
   "execution_count": 10,
   "id": "76126fbc-aad8-4ad4-b5f2-0521a7811a23",
   "metadata": {},
   "outputs": [
    {
     "name": "stdout",
     "output_type": "stream",
     "text": [
      "Beneath the stars, the night wind sings,\n",
      "Of quiet dreams and silver wings.\n",
      "The moonlight dances on the sea,\n",
      "A gentle world, so wild and free.\n",
      "In silence, peace begins to grow.\n"
     ]
    }
   ],
   "source": [
    "# Method1:\n",
    "print(\"Beneath the stars, the night wind sings,\")\n",
    "print(\"Of quiet dreams and silver wings.\")\n",
    "print(\"The moonlight dances on the sea,\")\n",
    "print(\"A gentle world, so wild and free.\")\n",
    "print(\"In silence, peace begins to grow.\")\n"
   ]
  },
  {
   "cell_type": "code",
   "execution_count": 12,
   "id": "cf914998-c706-4f99-bd98-2b145a6ac6a5",
   "metadata": {},
   "outputs": [
    {
     "name": "stdout",
     "output_type": "stream",
     "text": [
      "Beneath the stars, the night wind sings,\n",
      "Of quiet dreams and silver wings.\n",
      "The moonlight dances on the sea,\n",
      "\n",
      "\n",
      "A gentle world, so wild and free.\n",
      "In silence, peace begins to grow.\n"
     ]
    }
   ],
   "source": [
    "#Method2: Printing Multiple Lines Using Triple Quotes\n",
    "print(\"\"\"Beneath the stars, the night wind sings,\n",
    "Of quiet dreams and silver wings.\n",
    "The moonlight dances on the sea,\n",
    "\n",
    "\n",
    "A gentle world, so wild and free.\n",
    "In silence, peace begins to grow.\"\"\")"
   ]
  },
  {
   "cell_type": "code",
   "execution_count": null,
   "id": "4d7b8757-4b8e-4523-a1aa-3bab98591c6e",
   "metadata": {},
   "outputs": [],
   "source": []
  },
  {
   "cell_type": "code",
   "execution_count": 13,
   "id": "0749bacf-3457-4deb-adc8-95cff72d54cc",
   "metadata": {},
   "outputs": [
    {
     "name": "stdout",
     "output_type": "stream",
     "text": [
      "Hello. My name is Alice. My brothers name is Rahim. My age is 5. My weight is 4.3 Kg\n"
     ]
    }
   ],
   "source": [
    "print(\"Hello. My name is Alice. My brothers name is Rahim. My age is 5. My weight is 4.3 Kg\")"
   ]
  },
  {
   "cell_type": "code",
   "execution_count": 22,
   "id": "eada07c1-b935-4c4f-b02a-75ff34ad3884",
   "metadata": {},
   "outputs": [
    {
     "name": "stdout",
     "output_type": "stream",
     "text": [
      "Alice Rahim\n",
      "Alice Rahim 10 4.3\n",
      "person Rahim age 4.3\n",
      "Hello. My name is Alice\n",
      "Hello. My name is Alice . My brothers name is Rahim . My age is 10 . My weight is 4.3\n"
     ]
    }
   ],
   "source": [
    "# style 1) Printing Multiple Values\n",
    "person  = \"Alice\"    # person is a str variable with value Alice, \n",
    "brother = \"Rahim\"    # brother is a str variable with value Rahim\n",
    "age     = 10         # age is a int variable with value 10\n",
    "wt      = 4.3        # wt is a float variable with value 4.3\n",
    "\n",
    "\n",
    "# print(person)\n",
    "# print(brother)\n",
    "# print(\"person\")\n",
    "# # print(father) # ERROR: This need to be defined first\n",
    "\n",
    "print(person, brother)\n",
    "print(person, brother, age, wt)\n",
    "print(\"person\", brother, \"age\", wt)\n",
    "print(\"Hello. My name is\", person)\n",
    "\n",
    "# Lets print a meaningful statement\n",
    "print(\"Hello. My name is\", person, \". My brothers name is\", brother, \". My age is\", age, \". My weight is\", wt)"
   ]
  },
  {
   "cell_type": "code",
   "execution_count": null,
   "id": "6e8594be-4f12-4b60-a902-5a4e35b2dc80",
   "metadata": {},
   "outputs": [],
   "source": []
  },
  {
   "cell_type": "code",
   "execution_count": 24,
   "id": "4462fb63-2caf-4fe6-8d58-7d736348facd",
   "metadata": {},
   "outputs": [
    {
     "name": "stdout",
     "output_type": "stream",
     "text": [
      "Hello. My name is Alice. My brother name is Rahim. My age is 10. My weight is 4.3\n",
      "Hello. My name is {person}. My brother name is {brother}. My age is {age}. My weight is {wt}\n"
     ]
    }
   ],
   "source": [
    "# style 2) Printing Multiple Values: formatting string (f-string)\n",
    "person  = \"Alice\"    # name is a str variable with value Alice, \n",
    "brother = \"Rahim\"    # brother is a str variable with value Rahim\n",
    "age     = 10         # age is a int variable with value 10\n",
    "wt      = 4.3        # wt is a float variable with value 4.3\n",
    "\n",
    "print(f\"Hello. My name is {person}. My brother name is {brother}. My age is {age}. My weight is {wt}\") # var should be in {} braces\n",
    "print(\"Hello. My name is {person}. My brother name is {brother}. My age is {age}. My weight is {wt}\") # without f"
   ]
  },
  {
   "cell_type": "code",
   "execution_count": null,
   "id": "3abfe93e-8e9f-46f6-8bdf-075250afc3f0",
   "metadata": {},
   "outputs": [],
   "source": []
  },
  {
   "cell_type": "code",
   "execution_count": 26,
   "id": "7fe229c0-a666-4189-b209-ef03e56c5e66",
   "metadata": {},
   "outputs": [
    {
     "name": "stdout",
     "output_type": "stream",
     "text": [
      "Hey Bob. How are you doing Bob ?. \n",
      "It's a good day Bob to do some kayaking \n",
      "today. What do you think Bob?\n"
     ]
    }
   ],
   "source": [
    "# Why do we need variables ? A simple use case: Easy to change the names at multiple places and I can reuse the  string\n",
    "person = 'Bob'\n",
    "\n",
    "msg = f\"\"\"Hey {person}. How are you doing {person} ?. \n",
    "It's a good day {person} to do some kayaking \n",
    "today. What do you think {person}?\"\"\"\n",
    "\n",
    "print(msg)"
   ]
  },
  {
   "cell_type": "code",
   "execution_count": null,
   "id": "4d069c40-9454-4a98-84cf-5d9e2744b6b6",
   "metadata": {},
   "outputs": [],
   "source": []
  },
  {
   "cell_type": "code",
   "execution_count": 28,
   "id": "561f840c-4bb3-4cf0-82e2-3e92a27021ba",
   "metadata": {},
   "outputs": [
    {
     "name": "stdout",
     "output_type": "stream",
     "text": [
      "The number is 3.14159\n",
      "The number is 3.14\n",
      "The number is 3.142\n"
     ]
    }
   ],
   "source": [
    "n = 3.14159 # use 22/7\n",
    "print(f\"The number is {n}\") \n",
    "print(f\"The number is {n:.2f}\")\n",
    "print(f\"The number is {n:.3f}\") # rounds off"
   ]
  },
  {
   "cell_type": "code",
   "execution_count": 29,
   "id": "a9a96631-1b2b-43a6-b373-62b476e39382",
   "metadata": {},
   "outputs": [
    {
     "name": "stdout",
     "output_type": "stream",
     "text": [
      "Formatted number with comma: 1,234,567.89\n"
     ]
    }
   ],
   "source": [
    "n = 1234567.8912 # represents money,etc\n",
    "# formats the number with commas as thousands separators and two decimal places.\n",
    "print(f\"Formatted number with comma: {n:,.2f}\") \n"
   ]
  },
  {
   "cell_type": "code",
   "execution_count": 30,
   "id": "8ea5c8cd-b510-45ac-97ac-553e22618e88",
   "metadata": {},
   "outputs": [
    {
     "name": "stdout",
     "output_type": "stream",
     "text": [
      "Success rate: 0.857573\n",
      "Success rate: 85.8%\n",
      "Success rate: 85.757%\n"
     ]
    }
   ],
   "source": [
    "ratio = 0.857573\n",
    "print(f\"Success rate: {ratio}\")\n",
    "print(f\"Success rate: {ratio:.1%}\")\n",
    "print(f\"Success rate: {ratio:.3%}\")\n",
    "\n"
   ]
  },
  {
   "cell_type": "code",
   "execution_count": null,
   "id": "a3cbc637-5db0-46e3-b782-5feff1294cbc",
   "metadata": {},
   "outputs": [],
   "source": []
  },
  {
   "cell_type": "code",
   "execution_count": 34,
   "id": "081fa668-dd42-4b4a-8c4b-77bdaada4e21",
   "metadata": {},
   "outputs": [
    {
     "name": "stdout",
     "output_type": "stream",
     "text": [
      "Hello World\n",
      "Good Morning. \n",
      " Hope you had good sleep\n"
     ]
    }
   ],
   "source": [
    "# print special character using \\ backslash\n",
    "# print(\"HelloWorld!\")\n",
    "# print(\"Hello\\nWorld!\") # newline \\n\n",
    "print(\"Hello World\\nGood Morning. \\n Hope you had good sleep\")  # Newline \\n\n"
   ]
  },
  {
   "cell_type": "code",
   "execution_count": 38,
   "id": "fcf97cb7-d973-4933-bab8-63c3ebbd82a9",
   "metadata": {},
   "outputs": [
    {
     "name": "stdout",
     "output_type": "stream",
     "text": [
      "How     are     you     Rahim!\n",
      "How\tare\tyou\tRahim!\n",
      "Hello\tWorld! This is my \tfirst example \tof tab\n"
     ]
    }
   ],
   "source": [
    "print(\"How     are     you     Rahim!\")  # Tab \\t\n",
    "print(\"How\\tare\\tyou\\tRahim!\")  # Tab \\t\n",
    "print(\"Hello\\tWorld! This is my \\tfirst example \\tof tab\")  # Tab\n"
   ]
  },
  {
   "cell_type": "code",
   "execution_count": 40,
   "id": "53ca3747-7f64-4952-be5a-9a35a4de795d",
   "metadata": {},
   "outputs": [
    {
     "name": "stdout",
     "output_type": "stream",
     "text": [
      "The path of file is C:\\Users\\file.txt\n"
     ]
    }
   ],
   "source": [
    "# printing \\ inside a \"\"\n",
    "# print(\"The path of file is C:\\Users\\file.txt\") # Throws error\n",
    "# print(\"\"\"The path of file is C:\\Users\\file.txt\"\"\") # Throws error\n",
    "print(\"The path of file is C:\\\\Users\\\\file.txt\") # C:\\Users\\file.txt\n"
   ]
  },
  {
   "cell_type": "code",
   "execution_count": 42,
   "id": "a19ab665-7d8d-4378-96db-dcbdc6efc77a",
   "metadata": {},
   "outputs": [
    {
     "name": "stdout",
     "output_type": "stream",
     "text": [
      "It's a zenith\n"
     ]
    }
   ],
   "source": [
    "# printing ' inside a ''\n",
    "# print('It's a zenith') # Throws error\n",
    "print('It\\'s a zenith') # It's a zenith\n"
   ]
  },
  {
   "cell_type": "code",
   "execution_count": 45,
   "id": "4b084c6a-b92c-4106-949c-ffccce739ecd",
   "metadata": {},
   "outputs": [
    {
     "name": "stdout",
     "output_type": "stream",
     "text": [
      "He said, \"My sister put vermillion tika on my forehead\"\n"
     ]
    }
   ],
   "source": [
    "# printing \" inside a \"\"\n",
    "print(\"He said, \\\"My sister put vermillion tika on my forehead\\\"\")\n"
   ]
  },
  {
   "cell_type": "code",
   "execution_count": null,
   "id": "c5175533-32c3-46d0-823f-9c74cac2b8ef",
   "metadata": {},
   "outputs": [],
   "source": []
  }
 ],
 "metadata": {
  "kernelspec": {
   "display_name": "Python 3 (ipykernel)",
   "language": "python",
   "name": "python3"
  },
  "language_info": {
   "codemirror_mode": {
    "name": "ipython",
    "version": 3
   },
   "file_extension": ".py",
   "mimetype": "text/x-python",
   "name": "python",
   "nbconvert_exporter": "python",
   "pygments_lexer": "ipython3",
   "version": "3.9.9"
  }
 },
 "nbformat": 4,
 "nbformat_minor": 5
}
