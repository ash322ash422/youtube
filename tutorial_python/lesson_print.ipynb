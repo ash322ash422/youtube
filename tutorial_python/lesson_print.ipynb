{
 "cells": [
  {
   "cell_type": "code",
   "execution_count": 45,
   "id": "6035e893-360d-40c2-9605-6822e6a4c23c",
   "metadata": {},
   "outputs": [
    {
     "name": "stdout",
     "output_type": "stream",
     "text": [
      "\n",
      "1 Hello world\n",
      "1 Hello world\n"
     ]
    }
   ],
   "source": [
    "print()\n",
    "print(\"1 Hello world\") # octothorpe or hashtag\n",
    "print('1 Hello world') # using single quote"
   ]
  },
  {
   "cell_type": "code",
   "execution_count": 47,
   "id": "6862ddcd-5be5-429b-a1f1-e45a15a71aef",
   "metadata": {},
   "outputs": [
    {
     "name": "stdout",
     "output_type": "stream",
     "text": [
      "2 Hello world. Today its raining.\n",
      "3 Hello world. Today its raining.\n",
      "4 Hello world. Today its raining. It is going to be humid today. Good luck\n"
     ]
    }
   ],
   "source": [
    "# using comma , to print series of stmts \n",
    "print(\"2 Hello world. Today its raining.\")\n",
    "print(\"3 Hello world.\", \"Today its raining.\")\n",
    "print(\"4 Hello world.\", \"Today its raining.\", \"It is going to be humid today.\", \"Good luck\")"
   ]
  },
  {
   "cell_type": "code",
   "execution_count": null,
   "id": "39b20970-5685-4564-b0c5-504395c6e0ff",
   "metadata": {},
   "outputs": [],
   "source": []
  },
  {
   "cell_type": "code",
   "execution_count": 48,
   "id": "2b5307ac-b966-4f0f-9da5-0aee4a23a869",
   "metadata": {},
   "outputs": [
    {
     "name": "stdout",
     "output_type": "stream",
     "text": [
      "Beneath the stars, the night wind sings,\n",
      "Of quiet dreams and silver wings.\n",
      "The moonlight dances on the sea,\n",
      "A gentle world, so wild and free.\n",
      "In silence, peace begins to grow.\n"
     ]
    }
   ],
   "source": [
    "# Method1: Not very efficient\n",
    "print(\"Beneath the stars, the night wind sings,\")\n",
    "print(\"Of quiet dreams and silver wings.\")\n",
    "print(\"The moonlight dances on the sea,\")\n",
    "print(\"A gentle world, so wild and free.\")\n",
    "print(\"In silence, peace begins to grow.\")"
   ]
  },
  {
   "cell_type": "code",
   "execution_count": 49,
   "id": "28a4d20a-9950-4d46-b9d8-f302c773f6d2",
   "metadata": {},
   "outputs": [
    {
     "name": "stdout",
     "output_type": "stream",
     "text": [
      "Beneath the stars, the night wind sings,\n",
      "Of quiet dreams and silver wings.\n",
      "The moonlight dances on the sea,\n",
      "A gentle world, so wild and free.\n",
      "In silence, peace begins to grow.\n"
     ]
    }
   ],
   "source": [
    "# Method2: Printing Multiple Lines Using Triple Quotes\n",
    "print(\"\"\"Beneath the stars, the night wind sings,\n",
    "Of quiet dreams and silver wings.\n",
    "The moonlight dances on the sea,\n",
    "A gentle world, so wild and free.\n",
    "In silence, peace begins to grow.\"\"\")"
   ]
  },
  {
   "cell_type": "code",
   "execution_count": null,
   "id": "5149567f-3294-4785-813b-601aac3ebf1e",
   "metadata": {},
   "outputs": [],
   "source": []
  },
  {
   "cell_type": "code",
   "execution_count": 58,
   "id": "0bb05d64-f400-4cd9-94ff-1f490eceb4b8",
   "metadata": {},
   "outputs": [
    {
     "name": "stdout",
     "output_type": "stream",
     "text": [
      "Alice\n",
      "Rahim\n",
      "person\n",
      "Alice Rahim\n",
      "Alice Rahim 10 4.3\n",
      "person Rahim age 4.3\n",
      "Hello. My name is Alice\n",
      "Hello. My name is Alice . My brothers name is Rahim . My age is 10 . My weight is 4.3\n"
     ]
    }
   ],
   "source": [
    "# Lets say you are getting data from some other source in form of variables. Lets print it.\n",
    "\n",
    "# style 1) Printing Multiple Values\n",
    "person  = \"Alice\"    # person is a str variable with value Alice, \n",
    "brother = \"Rahim\"    # brother is a str variable with value Rahim\n",
    "age     = 10         # age is a int variable with value 10\n",
    "wt      = 4.3        # wt is a float variable with value 4.3\n",
    "\n",
    "\n",
    "print(person)\n",
    "print(brother)\n",
    "print(\"person\")\n",
    "# print(father) # ERROR: This need to be defined first\n",
    "\n",
    "print(person, brother)\n",
    "print(person, brother, age, wt)\n",
    "print(\"person\", brother, \"age\", wt)\n",
    "print(\"Hello. My name is\", person)\n",
    "\n",
    "# Lets print a meaningful statement\n",
    "print(\"Hello. My name is\", person, \". My brothers name is\", brother, \". My age is\", age, \". My weight is\", wt)"
   ]
  },
  {
   "cell_type": "code",
   "execution_count": 60,
   "id": "01c0528d-ea5d-4229-9593-168f13e6e132",
   "metadata": {},
   "outputs": [
    {
     "name": "stdout",
     "output_type": "stream",
     "text": [
      "Hello. My name is Alice. My brother name is Rahim. My age is 10. My weight is 4.3\n",
      "Hello. My name is {person}. My brother name is {brother}. My age is {age}. My weight is {wt}\n"
     ]
    }
   ],
   "source": [
    "# style 2) Printing Multiple Values: formatting string (f-string)\n",
    "person  = \"Alice\"    # name is a str variable with value Alice, \n",
    "brother = \"Rahim\"    # brother is a str variable with value Rahim\n",
    "age     = 10         # age is a int variable with value 10\n",
    "wt      = 4.3        # wt is a float variable with value 4.3\n",
    "\n",
    "print(f\"Hello. My name is {person}. My brother name is {brother}. My age is {age}. My weight is {wt}\") # var should be in {} braces\n",
    "print(\"Hello. My name is {person}. My brother name is {brother}. My age is {age}. My weight is {wt}\") # without f"
   ]
  },
  {
   "cell_type": "code",
   "execution_count": 61,
   "id": "296a5f12-ab0e-4206-9f0d-7e10981b304a",
   "metadata": {},
   "outputs": [
    {
     "name": "stdout",
     "output_type": "stream",
     "text": [
      "The sum of 2 numbers is 6\n",
      "The sum of 2 numbers is 6\n"
     ]
    }
   ],
   "source": [
    "# SIDE NOTE: you can perform regular math operations print\n",
    "print(\"The sum of 2 numbers is\", 2 + 4)\n",
    "print(f\"The sum of 2 numbers is {2 + 4}\")"
   ]
  },
  {
   "cell_type": "code",
   "execution_count": null,
   "id": "cf154907-e4dd-41a3-bdf4-bfabc991fdf4",
   "metadata": {},
   "outputs": [],
   "source": []
  },
  {
   "cell_type": "code",
   "execution_count": 63,
   "id": "dad7dd38-1fe2-4132-afea-568a6864ccd7",
   "metadata": {},
   "outputs": [
    {
     "name": "stdout",
     "output_type": "stream",
     "text": [
      "The number is 3.14159\n",
      "The number is 3.14\n",
      "The number is 3.142\n"
     ]
    }
   ],
   "source": [
    "n = 3.14159 # use 22/7\n",
    "print(f\"The number is {n}\") \n",
    "print(f\"The number is {n:.2f}\")\n",
    "print(f\"The number is {n:.3f}\") # rounds off"
   ]
  },
  {
   "cell_type": "code",
   "execution_count": null,
   "id": "499757fe-20a9-4f07-8fd2-3c885cf4781b",
   "metadata": {},
   "outputs": [],
   "source": []
  },
  {
   "cell_type": "code",
   "execution_count": 67,
   "id": "94c897d5-b480-4bf1-bcb9-1735e6f94686",
   "metadata": {},
   "outputs": [
    {
     "name": "stdout",
     "output_type": "stream",
     "text": [
      "1 HelloWorld!\n",
      "2 Hello\n",
      "World!\n",
      "3 Hello!\n",
      "Good Morning. \n",
      " Hope you had good sleep\n"
     ]
    }
   ],
   "source": [
    "# print special character using \\ backslash: newline \n",
    "print(\"1 HelloWorld!\")\n",
    "print(\"2 Hello\\nWorld!\") # newline \\n\n",
    "print(\"3 Hello!\\nGood Morning. \\n Hope you had good sleep\")  # Newline \\n"
   ]
  },
  {
   "cell_type": "code",
   "execution_count": 68,
   "id": "c1098567-806c-4d22-b4ed-a6a6c1653988",
   "metadata": {},
   "outputs": [
    {
     "name": "stdout",
     "output_type": "stream",
     "text": [
      "How\tare\tyou\tRahim!\n",
      "Hello\tWorld! This is my \tfirst example \tof tab\n"
     ]
    }
   ],
   "source": [
    "# printing tab \\t\n",
    "print(\"How\\tare\\tyou\\tRahim!\")  # Tab \\t\n",
    "print(\"Hello\\tWorld! This is my \\tfirst example \\tof tab\")  # Tab"
   ]
  },
  {
   "cell_type": "code",
   "execution_count": 71,
   "id": "85e8aee4-0518-4af8-bc6d-58ad0521238f",
   "metadata": {},
   "outputs": [
    {
     "name": "stdout",
     "output_type": "stream",
     "text": [
      "The path of file is C:\\Users\\file.txt\n"
     ]
    }
   ],
   "source": [
    "# printing \\ inside a \"\": C:\\Users\\file.txt\n",
    "\n",
    "# print(\"The path of file is C:\\Users\\file.txt\") # Throws error\n",
    "# print(\"\"\"The path of file is C:\\Users\\file.txt\"\"\") # Throws error\n",
    "print(\"The path of file is C:\\\\Users\\\\file.txt\") # C:\\Users\\file.txt"
   ]
  },
  {
   "cell_type": "code",
   "execution_count": null,
   "id": "61b9319b-346a-4bb6-8521-d1211e1b01fa",
   "metadata": {},
   "outputs": [],
   "source": []
  },
  {
   "cell_type": "code",
   "execution_count": 73,
   "id": "78a97c66-22c6-4264-ab59-9318c36196bf",
   "metadata": {},
   "outputs": [
    {
     "name": "stdout",
     "output_type": "stream",
     "text": [
      "He said, \"You look happy\"\n"
     ]
    }
   ],
   "source": [
    "# printing \" inside a \"\": He said, \"You look happy\"\n",
    "\n",
    "# print(\"He said, \"You look happy\"\") # ERROR\n",
    "print(\"He said, \\\"You look happy\\\"\")"
   ]
  },
  {
   "cell_type": "code",
   "execution_count": null,
   "id": "dfbe2c29-be8c-4f6a-950b-be00a377a434",
   "metadata": {},
   "outputs": [],
   "source": []
  },
  {
   "cell_type": "code",
   "execution_count": 74,
   "id": "e6be4d9e-a606-40c9-9605-87e1883b92c5",
   "metadata": {},
   "outputs": [
    {
     "name": "stdout",
     "output_type": "stream",
     "text": [
      "Today is sunny ☀. I want to talk with my ❤ daughter. That would make me 🫠\n"
     ]
    }
   ],
   "source": [
    "# FUN with unicode chars\n",
    "print(\"Today is sunny \\u2600. I want to talk with my \\u2764 daughter. That would make me \\U0001FAE0\")"
   ]
  },
  {
   "cell_type": "code",
   "execution_count": null,
   "id": "abd0f016-a005-49b0-b196-f3c672ee9e1c",
   "metadata": {},
   "outputs": [],
   "source": []
  }
 ],
 "metadata": {
  "kernelspec": {
   "display_name": "Python 3 (ipykernel)",
   "language": "python",
   "name": "python3"
  },
  "language_info": {
   "codemirror_mode": {
    "name": "ipython",
    "version": 3
   },
   "file_extension": ".py",
   "mimetype": "text/x-python",
   "name": "python",
   "nbconvert_exporter": "python",
   "pygments_lexer": "ipython3",
   "version": "3.9.9"
  }
 },
 "nbformat": 4,
 "nbformat_minor": 5
}
