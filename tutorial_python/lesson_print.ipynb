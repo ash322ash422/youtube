{
 "cells": [
  {
   "cell_type": "markdown",
   "id": "7239c5f0-d85b-47ed-9d21-55ad55668a44",
   "metadata": {},
   "source": [
    "# print\n",
    "- **built-in function** that sends the specified values to the standard output device (usually the monitor/console/terminal)."
   ]
  },
  {
   "cell_type": "markdown",
   "id": "41f90248-9f29-492e-8bb9-07b88cc7e03c",
   "metadata": {
    "id": "41f90248-9f29-492e-8bb9-07b88cc7e03c"
   },
   "source": [
    "## print single line"
   ]
  },
  {
   "cell_type": "code",
   "execution_count": 38,
   "id": "e724929f-5c74-4032-aa07-f4e32aaadc65",
   "metadata": {
    "colab": {
     "base_uri": "https://localhost:8080/"
    },
    "id": "e724929f-5c74-4032-aa07-f4e32aaadc65",
    "outputId": "59cf62ce-2ce2-4e25-ac2a-45f329fa9360"
   },
   "outputs": [
    {
     "name": "stdout",
     "output_type": "stream",
     "text": [
      "\n"
     ]
    }
   ],
   "source": [
    "print()"
   ]
  },
  {
   "cell_type": "code",
   "execution_count": 40,
   "id": "83e8c2e6-ccb8-463b-a20b-ef383c95a091",
   "metadata": {},
   "outputs": [
    {
     "name": "stdout",
     "output_type": "stream",
     "text": [
      "1 Hello world\n",
      "1 Hello world\n"
     ]
    }
   ],
   "source": [
    "# printing strings\n",
    "print(\"1 Hello world\") # octothorpe or hashtag\n",
    "print('1 Hello world') # using single quote"
   ]
  },
  {
   "cell_type": "code",
   "execution_count": 42,
   "id": "9239b98b-05df-4bc2-bf43-a99600872c9b",
   "metadata": {},
   "outputs": [
    {
     "name": "stdout",
     "output_type": "stream",
     "text": [
      "2 Hello world. Today its raining.\n",
      "3 Hello world. Today its raining. It is going to be humid today. Good luck\n"
     ]
    }
   ],
   "source": [
    "# using comma , to print series of stmts \n",
    "print(\"2 Hello world.\", \"Today its raining.\")\n",
    "print(\"3 Hello world.\", \"Today its raining.\", \"It is going to be humid today.\", \"Good luck\")"
   ]
  },
  {
   "cell_type": "markdown",
   "id": "e04970c2-6653-43f2-8d32-985f4fc17087",
   "metadata": {},
   "source": [
    "### print multiple lines\n",
    "I want to print following:\n",
    "\n",
    "```\n",
    "Beneath the stars, the night wind sings,\n",
    "Of quiet dreams and silver wings.\n",
    "The moonlight dances on the sea,\n",
    "A gentle world, so wild and free.\n",
    "In silence, peace begins to grow.\n",
    "```"
   ]
  },
  {
   "cell_type": "code",
   "execution_count": 43,
   "id": "5d385f47-06c3-4cd1-b9e3-8e4fd0105ee6",
   "metadata": {},
   "outputs": [
    {
     "name": "stdout",
     "output_type": "stream",
     "text": [
      "Beneath the stars, the night wind sings,\n",
      "Of quiet dreams and silver wings.\n",
      "The moonlight dances on the sea,\n",
      "A gentle world, so wild and free.\n",
      "In silence, peace begins to grow.\n"
     ]
    }
   ],
   "source": [
    "# Method1: Not very efficient\n",
    "print(\"Beneath the stars, the night wind sings,\")\n",
    "print(\"Of quiet dreams and silver wings.\")\n",
    "print(\"The moonlight dances on the sea,\")\n",
    "print(\"A gentle world, so wild and free.\")\n",
    "print(\"In silence, peace begins to grow.\")"
   ]
  },
  {
   "cell_type": "code",
   "execution_count": 44,
   "id": "7da3f4b4-d729-444d-ba6e-f785b326d840",
   "metadata": {},
   "outputs": [
    {
     "name": "stdout",
     "output_type": "stream",
     "text": [
      "Beneath the stars, the night wind sings,\n",
      "Of quiet dreams and silver wings.\n",
      "The moonlight dances on the sea,\n",
      "A gentle world, so wild and free.\n",
      "In silence, peace begins to grow.\n"
     ]
    }
   ],
   "source": [
    "# Method2: Printing Multiple Lines Using Triple Quotes\n",
    "print(\"\"\"Beneath the stars, the night wind sings,\n",
    "Of quiet dreams and silver wings.\n",
    "The moonlight dances on the sea,\n",
    "A gentle world, so wild and free.\n",
    "In silence, peace begins to grow.\"\"\")"
   ]
  },
  {
   "cell_type": "markdown",
   "id": "242f038d-e5d5-4e45-8dc2-6255b8366f3c",
   "metadata": {
    "id": "242f038d-e5d5-4e45-8dc2-6255b8366f3c"
   },
   "source": [
    "### Print variables in 2 different styles\n",
    "Lets say you are getting data from some other source in form of variables. Lets print it."
   ]
  },
  {
   "cell_type": "code",
   "execution_count": 54,
   "id": "accf14af-ee29-4325-8870-ed5a846fc0c3",
   "metadata": {
    "colab": {
     "base_uri": "https://localhost:8080/"
    },
    "id": "accf14af-ee29-4325-8870-ed5a846fc0c3",
    "outputId": "000e6144-3680-4d62-d010-1f7119b44f91"
   },
   "outputs": [
    {
     "name": "stdout",
     "output_type": "stream",
     "text": [
      "Hello. My name is Happy . My wife name is Miley . My age is 40 . My weight is 42.34\n"
     ]
    }
   ],
   "source": [
    "# style 1) Printing Multiple Values\n",
    "person  = \"Happy\"    # person is a str variable with value Happy, \n",
    "wife    = \"Miley\"    # wife is a str variable with value Miley\n",
    "age     = 40         # age is a int variable with value 40\n",
    "wt      = 42.34      # wt is a float variable with value 4.34\n",
    "\n",
    "# print(person)\n",
    "# print(\"person\")\n",
    "# # print(father) # ERROR: This need to be defined first\n",
    "# print(person, wife, age, wt)\n",
    "\n",
    "# print(\"person\", wife, \"age\", wt)\n",
    "# print(\"Hello. My name is\", person)\n",
    "\n",
    "# Lets print a meaningful statement\n",
    "print(\"Hello. My name is\", person, \". My wife name is\", wife, \". My age is\", age, \". My weight is\", wt)"
   ]
  },
  {
   "cell_type": "code",
   "execution_count": 56,
   "id": "f3adadc0-dc7c-4a7c-a9f4-98ab02e5ba90",
   "metadata": {
    "colab": {
     "base_uri": "https://localhost:8080/"
    },
    "id": "f3adadc0-dc7c-4a7c-a9f4-98ab02e5ba90",
    "outputId": "56de9eca-51c1-493b-c58b-f292e7ca4b75"
   },
   "outputs": [
    {
     "name": "stdout",
     "output_type": "stream",
     "text": [
      "Hello. My name is Happy. My wife name is Miley. My age is 40. My weight is 42.34\n",
      "Hello. My name is {person}. My wife name is {wife}. My age is {age}. My weight is {wt}\n"
     ]
    }
   ],
   "source": [
    "# style 2) Printing Multiple Values: formatting string (f-string)\n",
    "person  = \"Happy\"    # person is a str variable with value Happy, \n",
    "wife    = \"Miley\"    # wife is a str variable with value Miley\n",
    "age     = 40         # age is a int variable with value 40\n",
    "wt      = 42.34      # wt is a float variable with value 4.34\n",
    "\n",
    "print(f\"Hello. My name is {person}. My wife name is {wife}. My age is {age}. My weight is {wt}\") # var should be in {} braces\n",
    "print(\"Hello. My name is {person}. My wife name is {wife}. My age is {age}. My weight is {wt}\") # without f"
   ]
  },
  {
   "cell_type": "code",
   "execution_count": 62,
   "id": "11914289",
   "metadata": {},
   "outputs": [
    {
     "name": "stdout",
     "output_type": "stream",
     "text": [
      "Hello. My name is \"Happy\". My wife name is Miley\n"
     ]
    }
   ],
   "source": [
    "# printing newline, tab, double-quote\n",
    "person  = \"Happy\"    \n",
    "wife    = \"Miley\"    \n",
    "age     = 40         \n",
    "wt      = 42.34      \n",
    "\n",
    "# print(f\"Hello. My name is {person}. \\nMy wife name is {wife}. \\nMy age is {age}. My weight is {wt}\") # newline\n",
    "# print(f\"Hello. My name is \\t\\t{person}. My wife name is {wife}. \\tMy age is {age}.\") # tab\n",
    "print(f\"Hello. My name is \\\"{person}\\\". My wife name is {wife}\") # quote inside quote"
   ]
  },
  {
   "cell_type": "code",
   "execution_count": 64,
   "id": "2ae0b577",
   "metadata": {},
   "outputs": [
    {
     "name": "stdout",
     "output_type": "stream",
     "text": [
      "The path of file is C:\\Users\\file.txt\n"
     ]
    }
   ],
   "source": [
    "# printing \\ inside a \"\": C:\\Users\\file.txt\n",
    "\n",
    "# print(\"The path of file is C:\\Users\\file.txt\") # Throws error\n",
    "# print(\"\"\"The path of file is C:\\Users\\file.txt\"\"\") # Throws error\n",
    "print(\"The path of file is C:\\\\Users\\\\file.txt\") # C:\\Users\\file.txt"
   ]
  },
  {
   "cell_type": "code",
   "execution_count": 65,
   "id": "31857e9a",
   "metadata": {},
   "outputs": [
    {
     "name": "stdout",
     "output_type": "stream",
     "text": [
      "Today is sunny ☀. I want to talk with my ❤ daughter. That would make me 🫠\n"
     ]
    }
   ],
   "source": [
    "# FUN with unicode chars\n",
    "print(\"Today is sunny \\u2600. I want to talk with my \\u2764 daughter. That would make me \\U0001FAE0\")"
   ]
  },
  {
   "cell_type": "code",
   "execution_count": null,
   "id": "8b90dc50-0c56-4de4-bb96-3b56d82b63ec",
   "metadata": {},
   "outputs": [],
   "source": [
    "# SIDE NOTE: you can perform regular math operations in print\n",
    "print(\"The sum of 2 numbers is\", 2 + 4)\n",
    "print(f\"The sum of 2 numbers is {2 + 4}\")"
   ]
  },
  {
   "cell_type": "markdown",
   "id": "e90bea7d",
   "metadata": {},
   "source": [
    "# STOP"
   ]
  },
  {
   "cell_type": "code",
   "execution_count": null,
   "id": "d7aaff2c-0ac9-402c-b8ae-f64eed3eedb7",
   "metadata": {},
   "outputs": [],
   "source": []
  },
  {
   "cell_type": "code",
   "execution_count": null,
   "id": "26dd4246-da6c-4fac-94bf-04ccaa94b3f7",
   "metadata": {},
   "outputs": [],
   "source": []
  },
  {
   "cell_type": "code",
   "execution_count": null,
   "id": "a828a3da-e691-4e6d-bd5d-eb5620eefeb8",
   "metadata": {},
   "outputs": [],
   "source": []
  },
  {
   "cell_type": "code",
   "execution_count": null,
   "id": "beee41ee",
   "metadata": {},
   "outputs": [],
   "source": []
  },
  {
   "cell_type": "code",
   "execution_count": null,
   "id": "45f59dfb",
   "metadata": {},
   "outputs": [],
   "source": []
  },
  {
   "cell_type": "code",
   "execution_count": null,
   "id": "12f4eaf0-9454-40e1-930a-932b7a465ee9",
   "metadata": {},
   "outputs": [],
   "source": []
  },
  {
   "cell_type": "code",
   "execution_count": null,
   "id": "8713bd82-ab2c-41ee-93eb-7d28880978a6",
   "metadata": {},
   "outputs": [],
   "source": []
  }
 ],
 "metadata": {
  "colab": {
   "provenance": []
  },
  "kernelspec": {
   "display_name": "Python 3 (ipykernel)",
   "language": "python",
   "name": "python3"
  },
  "language_info": {
   "codemirror_mode": {
    "name": "ipython",
    "version": 3
   },
   "file_extension": ".py",
   "mimetype": "text/x-python",
   "name": "python",
   "nbconvert_exporter": "python",
   "pygments_lexer": "ipython3",
   "version": "3.9.9"
  }
 },
 "nbformat": 4,
 "nbformat_minor": 5
}
