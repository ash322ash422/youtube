{
 "cells": [
  {
   "cell_type": "code",
   "execution_count": 1,
   "id": "c4e5c41d-c8a1-4fd5-b51a-30144e03b7d0",
   "metadata": {},
   "outputs": [
    {
     "name": "stdout",
     "output_type": "stream",
     "text": [
      "\n"
     ]
    }
   ],
   "source": [
    "print()"
   ]
  },
  {
   "cell_type": "code",
   "execution_count": 4,
   "id": "1eabbaa0-39f3-4f54-9863-8ba241089470",
   "metadata": {},
   "outputs": [
    {
     "name": "stdout",
     "output_type": "stream",
     "text": [
      "1 Hello world\n",
      "1 Hello world\n",
      "The gentleman said, '1 Hello world'\n"
     ]
    }
   ],
   "source": [
    "print(\"1 Hello world\") # octothorpe or hashtag\n",
    "print('1 Hello world')\n",
    "print(\"The gentleman said, '1 Hello world'\") # single quote inside a double quote"
   ]
  },
  {
   "cell_type": "code",
   "execution_count": 7,
   "id": "de7cc74d-c5d2-46e6-a7cf-0bc2f422dec3",
   "metadata": {},
   "outputs": [
    {
     "name": "stdout",
     "output_type": "stream",
     "text": [
      "2 Hello world. Today its raining.\n",
      "3 Hello world. Today its raining.\n",
      "4 Hello world. Today its raining. It is going to be humid today. Good luck\n"
     ]
    }
   ],
   "source": [
    "# using comma , to print series of stmts \n",
    "print(\"2 Hello world. Today its raining.\")\n",
    "print(\"3 Hello world.\", \"Today its raining.\")\n",
    "print(\"4 Hello world.\", \"Today its raining.\", \"It is going to be humid today.\", \"Good luck\")"
   ]
  },
  {
   "cell_type": "code",
   "execution_count": null,
   "id": "458c2e82-2bf1-470b-901a-69dc26f216bd",
   "metadata": {},
   "outputs": [],
   "source": []
  },
  {
   "cell_type": "code",
   "execution_count": 8,
   "id": "75c299f8-2b73-404b-a500-1177417560bc",
   "metadata": {},
   "outputs": [
    {
     "name": "stdout",
     "output_type": "stream",
     "text": [
      "Beneath the stars, the night wind sings,\n",
      "Of quiet dreams and silver wings.\n",
      "The moonlight dances on the sea,\n",
      "A gentle world, so wild and free.\n",
      "In silence, peace begins to grow.\n"
     ]
    }
   ],
   "source": [
    "# Method1:\n",
    "print(\"Beneath the stars, the night wind sings,\")\n",
    "print(\"Of quiet dreams and silver wings.\")\n",
    "print(\"The moonlight dances on the sea,\")\n",
    "print(\"A gentle world, so wild and free.\")\n",
    "print(\"In silence, peace begins to grow.\")"
   ]
  },
  {
   "cell_type": "code",
   "execution_count": 11,
   "id": "eb4f7d30-8f12-4654-a510-912bc2255878",
   "metadata": {},
   "outputs": [
    {
     "name": "stdout",
     "output_type": "stream",
     "text": [
      "Beneath the stars, the night wind sings,\n",
      "Of quiet dreams and silver wings.\n",
      "The moonlight dances on the sea,\n",
      "A gentle world, so wild and free.\n",
      "In silence, peace begins to grow.\n"
     ]
    }
   ],
   "source": [
    "#Method2: Printing Multiple Lines Using Triple Quotes\n",
    "print(\"\"\"Beneath the stars, the night wind sings,\n",
    "Of quiet dreams and silver wings.\n",
    "The moonlight dances on the sea,\n",
    "A gentle world, so wild and free.\n",
    "In silence, peace begins to grow.\"\"\")"
   ]
  },
  {
   "cell_type": "code",
   "execution_count": null,
   "id": "ff6107cb-fcf2-49bb-95ac-73e36295f066",
   "metadata": {},
   "outputs": [],
   "source": []
  },
  {
   "cell_type": "code",
   "execution_count": 12,
   "id": "bb30c22d-c15b-4b6b-9f7e-9587f7d2ef9c",
   "metadata": {},
   "outputs": [
    {
     "name": "stdout",
     "output_type": "stream",
     "text": [
      "Hello. How are you? I am doing good.\n"
     ]
    }
   ],
   "source": [
    "print(\"Hello.\", \"How are you?\", \"I am doing good.\")"
   ]
  },
  {
   "cell_type": "code",
   "execution_count": 18,
   "id": "8a29ad12-6493-480d-b9b3-4abbacbfeb49",
   "metadata": {},
   "outputs": [
    {
     "name": "stdout",
     "output_type": "stream",
     "text": [
      "Hello****how are you?****I am doing good.\n"
     ]
    }
   ],
   "source": [
    "# use sep to insert seperator between strings: \\t \\n\n",
    "print(\"Hello\", \"how are you?\", \"I am doing good.\", sep=\"****\")"
   ]
  },
  {
   "cell_type": "code",
   "execution_count": null,
   "id": "0531f770-9c77-41c6-9516-d495a72c8556",
   "metadata": {},
   "outputs": [],
   "source": []
  },
  {
   "cell_type": "code",
   "execution_count": 19,
   "id": "f9f6a5a4-1179-491e-ae2f-7de3b724bff3",
   "metadata": {},
   "outputs": [
    {
     "name": "stdout",
     "output_type": "stream",
     "text": [
      "Hello.\n",
      "How are you?\n",
      "I am doing good.\n"
     ]
    }
   ],
   "source": [
    "# Now I want to override the default end line char \\n\n",
    "print(\"Hello.\")\n",
    "print(\"How are you?\")\n",
    "print(\"I am doing good.\")"
   ]
  },
  {
   "cell_type": "code",
   "execution_count": 25,
   "id": "75b33141-ce07-4bc3-bbc6-9bdf8d798d27",
   "metadata": {},
   "outputs": [
    {
     "name": "stdout",
     "output_type": "stream",
     "text": [
      "Hello. How are you? I am doing good. "
     ]
    }
   ],
   "source": [
    "print(\"Hello.\", end=\" \") # other options: ; \\t ,\n",
    "print(\"How are you?\", end=\" \")\n",
    "print(\"I am doing good.\", end=\" \")\n"
   ]
  },
  {
   "cell_type": "code",
   "execution_count": 21,
   "id": "c528cdd0-e201-453c-b775-1b571f3aa488",
   "metadata": {},
   "outputs": [
    {
     "name": "stdout",
     "output_type": "stream",
     "text": [
      "Hello.+++How are you?---I am doing good.***"
     ]
    }
   ],
   "source": [
    "print(\"Hello.\", end=\"+++\") # other options: ; \\t ,\n",
    "print(\"How are you?\", end=\"---\")\n",
    "print(\"I am doing good.\", end=\"***\")\n"
   ]
  },
  {
   "cell_type": "code",
   "execution_count": null,
   "id": "55b7bc6d-bc6b-43ee-9974-35aad265aba7",
   "metadata": {},
   "outputs": [],
   "source": []
  },
  {
   "cell_type": "code",
   "execution_count": 22,
   "id": "2337385e-1c19-4d50-8d20-4de0875921e1",
   "metadata": {},
   "outputs": [
    {
     "name": "stdout",
     "output_type": "stream",
     "text": [
      "Hello. My name is Alice. My brothers name is Rahim. My age is 5. My weight is 4.3 Kg\n"
     ]
    }
   ],
   "source": [
    "print(\"Hello. My name is Alice. My brothers name is Rahim. My age is 5. My weight is 4.3 Kg\")"
   ]
  },
  {
   "cell_type": "code",
   "execution_count": 38,
   "id": "8886a5d2-6b77-4a77-acbf-69da29ff227b",
   "metadata": {},
   "outputs": [
    {
     "name": "stdout",
     "output_type": "stream",
     "text": [
      "Hello. My name is Alice . My brothers name is Rahim . My age is 10 . My weight is 4.3\n"
     ]
    }
   ],
   "source": [
    "# style 1) Printing Multiple Values\n",
    "person  = \"Alice\"    # person is a str variable with value Alice, \n",
    "brother = \"Rahim\"    # brother is a str variable with value Rahim\n",
    "age     = 10         # age is a int variable with value 10\n",
    "wt      = 4.3        # wt is a float variable with value 4.3\n",
    "\n",
    "\n",
    "# print(person)\n",
    "# print(brother)\n",
    "# print(\"person\")\n",
    "# print(father) # ERROR: This need to be defined first\n",
    "\n",
    "# print(person, brother)\n",
    "# print(person, brother, age, wt)\n",
    "# print(\"person, brother, age, wt\")\n",
    "# print(person, brother, \"age\", wt)\n",
    "# print(person, brother, age, wt, sep=\";\")\n",
    "\n",
    "# Lets print a meaningful statement\n",
    "print(\"Hello. My name is\", person, \". My brothers name is\", brother, \". My age is\", age, \". My weight is\", wt)"
   ]
  },
  {
   "cell_type": "code",
   "execution_count": 43,
   "id": "91708ab0-38e0-429d-9c53-bc6bba1ff745",
   "metadata": {},
   "outputs": [
    {
     "name": "stdout",
     "output_type": "stream",
     "text": [
      "Hello. My name is Alice. My brother name is Rahim. My age is 10. My weight is 4.3\n",
      "Hello. My name is {person}. My brother name is {brother}. My age is {age}. My weight is {wt}\n"
     ]
    }
   ],
   "source": [
    "# style 2) Printing Multiple Values: formatting string\n",
    "person  = \"Alice\"    # name is a str variable with value Alice, \n",
    "brother = \"Rahim\"    # brother is a str variable with value Rahim\n",
    "age     = 10         # age is a int variable with value 10\n",
    "wt      = 4.3        # wt is a float variable with value 4.3\n",
    "\n",
    "print(f\"Hello. My name is {person}. My brother name is {brother}. My age is {age}. My weight is {wt}\") # var should be in {} braces\n",
    "print(\"Hello. My name is {person}. My brother name is {brother}. My age is {age}. My weight is {wt}\") # without f"
   ]
  },
  {
   "cell_type": "code",
   "execution_count": 45,
   "id": "6c7eebbf-1f7a-4906-863e-e95bdbe8e81d",
   "metadata": {},
   "outputs": [
    {
     "name": "stdout",
     "output_type": "stream",
     "text": [
      "Hey Sharma. How are you doing Sharma ?. \n",
      "It's a good day Sharma to do some kayaking \n",
      "today. What do you think Sharma?\n"
     ]
    }
   ],
   "source": [
    "# Why do we need variables ? A simple use case: Easy to change the names at multiple places and I can reuse the  string\n",
    "person = 'Sharma'\n",
    "\n",
    "msg = f\"\"\"Hey {person}. How are you doing {person} ?. \n",
    "It's a good day {person} to do some kayaking \n",
    "today. What do you think {person}?\"\"\"\n",
    "\n",
    "print(msg)"
   ]
  },
  {
   "cell_type": "code",
   "execution_count": null,
   "id": "d9cfa4fd-55bd-41d5-824c-b73694469193",
   "metadata": {},
   "outputs": [],
   "source": []
  },
  {
   "cell_type": "code",
   "execution_count": null,
   "id": "1c347b73-8c7a-48ec-b44f-3e4d8cc1d5ec",
   "metadata": {},
   "outputs": [],
   "source": []
  },
  {
   "cell_type": "code",
   "execution_count": 47,
   "id": "5d582846-5998-4b8f-ad86-f1ecc78f193c",
   "metadata": {},
   "outputs": [
    {
     "name": "stdout",
     "output_type": "stream",
     "text": [
      "The number is 3.14159\n",
      "The number is 3.14\n",
      "The number is 3.142\n"
     ]
    }
   ],
   "source": [
    "n = 3.14159 # use 22/7\n",
    "print(f\"The number is {n}\") \n",
    "print(f\"The number is {n:.2f}\")\n",
    "print(f\"The number is {n:.3f}\") # rounds off\n"
   ]
  },
  {
   "cell_type": "code",
   "execution_count": 48,
   "id": "fed2dcfb-4ca3-4521-9703-32c2965c4c8e",
   "metadata": {},
   "outputs": [
    {
     "name": "stdout",
     "output_type": "stream",
     "text": [
      "Formatted number with comma: 1,234,567.89\n"
     ]
    }
   ],
   "source": [
    "n = 1234567.8912 # represents money,etc\n",
    "print(f\"Formatted number with comma: {n:,.2f}\") # formats the number with commas as thousands separators and two decimal places.\n"
   ]
  },
  {
   "cell_type": "code",
   "execution_count": 49,
   "id": "ce4be757-defe-4ede-a2c9-47bbe8aa7b04",
   "metadata": {},
   "outputs": [
    {
     "name": "stdout",
     "output_type": "stream",
     "text": [
      "Success rate: 0.857573\n",
      "Success rate: 85.8%\n",
      "Success rate: 85.757%\n"
     ]
    }
   ],
   "source": [
    "ratio = 0.857573\n",
    "print(f\"Success rate: {ratio}\")\n",
    "print(f\"Success rate: {ratio:.1%}\")\n",
    "print(f\"Success rate: {ratio:.3%}\")\n"
   ]
  },
  {
   "cell_type": "code",
   "execution_count": null,
   "id": "a689dfd1-3844-499c-a72b-0d2883ee89ca",
   "metadata": {},
   "outputs": [],
   "source": []
  },
  {
   "cell_type": "code",
   "execution_count": 53,
   "id": "9cb70993-4724-48c2-9160-db9010c25cbb",
   "metadata": {},
   "outputs": [
    {
     "name": "stdout",
     "output_type": "stream",
     "text": [
      "Hello World. Good Morning. Hope you had good sleep\n",
      "Hello World\n",
      "Good Morning. \n",
      " Hope you had good sleep\n"
     ]
    }
   ],
   "source": [
    "# print special character using \\ backslash\n",
    "# print(\"HelloWorld!\")\n",
    "# print(\"Hello\\nWorld!\") # newline \\n\n",
    "print(\"Hello World. Good Morning. Hope you had good sleep\")  \n",
    "print(\"Hello World\\nGood Morning. \\n Hope you had good sleep\")  # Newline \\n\n",
    "# print(\"#############################\")"
   ]
  },
  {
   "cell_type": "code",
   "execution_count": 57,
   "id": "8ba58c17-b223-4df3-a07f-3c77bf193eb3",
   "metadata": {},
   "outputs": [
    {
     "name": "stdout",
     "output_type": "stream",
     "text": [
      "How     are     you     Rahim!\n",
      "How\tare\tyou\tRahim!\n",
      "Hello\tWorld! This is my \tfirst example\n",
      " \tof tab\n"
     ]
    }
   ],
   "source": [
    "print(\"How     are     you     Rahim!\")  # Tab \\t\n",
    "print(\"How\\tare\\tyou\\tRahim!\")  # Tab \\t\n",
    "print(\"Hello\\tWorld! This is my \\tfirst example\\n \\tof tab\")  # Tab\n"
   ]
  },
  {
   "cell_type": "code",
   "execution_count": 60,
   "id": "6964b3a7-a79b-46a7-97ab-4d398c2d26e1",
   "metadata": {},
   "outputs": [
    {
     "name": "stdout",
     "output_type": "stream",
     "text": [
      "The path of file is C:\\Users\\file.txt\n"
     ]
    }
   ],
   "source": [
    "# printing \\ inside a \"\"\n",
    "# print(\"The path of file is C:\\Users\\file.txt\") # Throws error\n",
    "# print(\"\"\"The path of file is C:\\Users\\file.txt\"\"\") # Throws error\n",
    "print(\"The path of file is C:\\\\Users\\\\file.txt\") # C:\\Users\\file.txt\n"
   ]
  },
  {
   "cell_type": "code",
   "execution_count": 63,
   "id": "5657f210-e9ee-46f9-85ae-3fb757617ea0",
   "metadata": {},
   "outputs": [
    {
     "name": "stdout",
     "output_type": "stream",
     "text": [
      "It's a zenith\n",
      "He said, \"My sister put vermillion tika on my forehead\"\n"
     ]
    }
   ],
   "source": [
    "# printing ' inside a ''\n",
    "# print('It's a zenith') # Throws error\n",
    "print('It\\'s a zenith') # It's a zenith\n",
    "\n",
    "# printing \" inside a \"\"\n",
    "print(\"He said, \\\"My sister put vermillion tika on my forehead\\\"\")\n"
   ]
  },
  {
   "cell_type": "code",
   "execution_count": null,
   "id": "d4492776-e302-42f6-bbed-2cff1854e3a6",
   "metadata": {},
   "outputs": [],
   "source": []
  }
 ],
 "metadata": {
  "kernelspec": {
   "display_name": "Python 3 (ipykernel)",
   "language": "python",
   "name": "python3"
  },
  "language_info": {
   "codemirror_mode": {
    "name": "ipython",
    "version": 3
   },
   "file_extension": ".py",
   "mimetype": "text/x-python",
   "name": "python",
   "nbconvert_exporter": "python",
   "pygments_lexer": "ipython3",
   "version": "3.9.9"
  }
 },
 "nbformat": 4,
 "nbformat_minor": 5
}
