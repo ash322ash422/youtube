{
 "cells": [
  {
   "cell_type": "code",
   "execution_count": 2,
   "id": "60a69e86-60be-4197-859f-36574ecdeb33",
   "metadata": {},
   "outputs": [
    {
     "name": "stdout",
     "output_type": "stream",
     "text": [
      "Moving on to the next evaluation...\n"
     ]
    }
   ],
   "source": [
    "# Example: Checking a student's score using only if\n",
    "score = 3  # change\n",
    "\n",
    "if score > 5:\n",
    "    print(\"The student's score is above average.\")\n",
    "    print(\"That's a good result!\")\n",
    "    print(\"Lets celebrate\")\n",
    "\n",
    "print(\"Moving on to the next evaluation...\")"
   ]
  },
  {
   "cell_type": "code",
   "execution_count": 4,
   "id": "a9908c20-a719-44cc-a3cd-b2a95cd49886",
   "metadata": {},
   "outputs": [
    {
     "name": "stdout",
     "output_type": "stream",
     "text": [
      "The student's score is above average.\n",
      "That's a good result!\n",
      "Lets celebrate\n",
      "Moving on to the next evaluation...\n"
     ]
    }
   ],
   "source": [
    "# Example: Checking a student's score using if - else\n",
    "score = 6  # previously 10\n",
    "\n",
    "if score > 5:\n",
    "    print(\"The student's score is above average.\")\n",
    "    print(\"That's a good result!\")\n",
    "    print(\"Lets celebrate\")\n",
    "else:\n",
    "    print(\"The student's score is below average.\")\n",
    "    print(\"There might be room for improvement.\")\n",
    "\n",
    "print(\"Moving on to the next evaluation...\")"
   ]
  },
  {
   "cell_type": "code",
   "execution_count": null,
   "id": "9b1d2b1c-32b8-4e15-a18d-75f0f229b9e5",
   "metadata": {},
   "outputs": [],
   "source": []
  },
  {
   "cell_type": "code",
   "execution_count": 6,
   "id": "6d77f276-b216-4d65-be6d-9d32d42607fa",
   "metadata": {},
   "outputs": [
    {
     "name": "stdin",
     "output_type": "stream",
     "text": [
      "Enter number: 5\n"
     ]
    },
    {
     "name": "stdout",
     "output_type": "stream",
     "text": [
      "Odd number\n"
     ]
    }
   ],
   "source": [
    "# Example: User enters a number and program display message if number is even or odd\n",
    "\n",
    "num = input(\"Enter number:\")\n",
    "num = int(num)\n",
    "\n",
    "#OR USE\n",
    "# num = int(input(\"Enter number:\"))\n",
    "\n",
    "if num % 2 == 0:\n",
    "    print(\"Even number\")\n",
    "else:\n",
    "    print(\"Odd number\")\n"
   ]
  },
  {
   "cell_type": "code",
   "execution_count": null,
   "id": "6124b739-253f-4c18-a922-7eca674441a1",
   "metadata": {},
   "outputs": [],
   "source": []
  },
  {
   "cell_type": "code",
   "execution_count": 10,
   "id": "e36a9bed-13cd-4696-b081-607689b9e0a1",
   "metadata": {},
   "outputs": [
    {
     "name": "stdin",
     "output_type": "stream",
     "text": [
      "Enter your name:  ash\n",
      "Enter your age:  120\n"
     ]
    },
    {
     "name": "stdout",
     "output_type": "stream",
     "text": [
      "Hey ash, you are older than 100 years old man.\n"
     ]
    }
   ],
   "source": [
    "#STEP1: Program to display a msg depending on his age: uses if-elif-else condition\n",
    "\n",
    "name = input(\"Enter your name: \")\n",
    "age  = input(\"Enter your age: \")\n",
    "age = int(age)\n",
    "\n",
    "if age < 100:\n",
    "    print(f\"Hello {name}! You are younger than 100 year old man.\")\n",
    "elif age == 100:\n",
    "    print(f\"Wow {name}, you're already 100 years old this year!\")\n",
    "else:\n",
    "    print(f\"Hey {name}, you are older than 100 years old man.\")"
   ]
  },
  {
   "cell_type": "code",
   "execution_count": null,
   "id": "ea8b97da-7d77-4b29-a0cf-6c5dc7388479",
   "metadata": {},
   "outputs": [],
   "source": []
  },
  {
   "cell_type": "code",
   "execution_count": 12,
   "id": "0afcc8d2-d960-49eb-aaf2-1c021b556ee0",
   "metadata": {},
   "outputs": [
    {
     "name": "stdin",
     "output_type": "stream",
     "text": [
      "Enter your name:  ash\n",
      "Enter your age:  100\n"
     ]
    },
    {
     "name": "stdout",
     "output_type": "stream",
     "text": [
      "Wow ash, you're already 100 years old this year!\n"
     ]
    }
   ],
   "source": [
    "#STEP2: Program to calculate the year user turns 100, with an if-elif-else condition\n",
    "\n",
    "name = input(\"Enter your name: \")\n",
    "age  = input(\"Enter your age: \")\n",
    "age  = int(age)\n",
    "\n",
    "current_year = 2025\n",
    "\n",
    "if age < 100:\n",
    "    year_when_100 = current_year + (100 - age)\n",
    "    print(f\"Hello {name}! You will turn 100 years old in the year {year_when_100}.\")\n",
    "elif age == 100:\n",
    "    print(f\"Wow {name}, you're already 100 years old this year!\")\n",
    "else:\n",
    "    print(f\"Hey {name}, you turned 100 years old {age - 100} years ago.\")\n"
   ]
  },
  {
   "cell_type": "code",
   "execution_count": null,
   "id": "79662541-9cd4-4123-a558-495ff76f62fa",
   "metadata": {},
   "outputs": [],
   "source": []
  },
  {
   "cell_type": "code",
   "execution_count": 15,
   "id": "ac792f10-4435-4e78-97b8-4c5ac5024494",
   "metadata": {},
   "outputs": [
    {
     "name": "stdout",
     "output_type": "stream",
     "text": [
      "Grade: B\n",
      "Good work\n"
     ]
    }
   ],
   "source": [
    "# Students are given grades based on their marks\n",
    "# [100-90]: A\n",
    "# [80-90] : B\n",
    "# [70-80] : C\n",
    "# [<70]   : F\n",
    "marks = 85\n",
    "\n",
    "if marks >= 90:\n",
    "    print(\"Grade: A\")\n",
    "    print(\"Congratulations. Your parents would be proud\")\n",
    "    \n",
    "elif marks >= 80:\n",
    "    print(\"Grade: B\")\n",
    "    print(\"Good work\")\n",
    "    \n",
    "elif marks >= 70:\n",
    "    print(\"Grade: C\")\n",
    "    print(\"Good work, but you can  do better\")\n",
    "    \n",
    "else:\n",
    "    print(\"Grade: F\")\n",
    "    print(\"Buddy wake up. Start studying.\")\n"
   ]
  },
  {
   "cell_type": "code",
   "execution_count": null,
   "id": "b8e639bb-8ad7-4235-8594-2cb42af28944",
   "metadata": {},
   "outputs": [],
   "source": []
  },
  {
   "cell_type": "code",
   "execution_count": 18,
   "id": "45aedad4-d849-4959-b4dc-8ee7f90f0ba5",
   "metadata": {},
   "outputs": [
    {
     "name": "stdout",
     "output_type": "stream",
     "text": [
      "You are eligible for a child or senior ticket.\n"
     ]
    }
   ],
   "source": [
    "# if with 'or'\n",
    "\n",
    "#e.g.1: Check if the age is less than 13 or greater than 65\n",
    "age = 70\n",
    "\n",
    "if age < 13 or age > 65:  \n",
    "    print(\"You are eligible for a child or senior ticket.\")\n",
    "else:\n",
    "    print(\"You are eligible for an adult ticket.\")"
   ]
  },
  {
   "cell_type": "code",
   "execution_count": null,
   "id": "a7d1e00d-316c-49ad-85be-97081eddae00",
   "metadata": {},
   "outputs": [],
   "source": []
  },
  {
   "cell_type": "code",
   "execution_count": 20,
   "id": "4231a794-06d7-4cc2-a362-f8b6b0679bc4",
   "metadata": {},
   "outputs": [
    {
     "name": "stdin",
     "output_type": "stream",
     "text": [
      "Do you want to continue? (yes/no):  yesss\n"
     ]
    },
    {
     "name": "stdout",
     "output_type": "stream",
     "text": [
      "Invalid input. Please enter 'yes' or 'no'.\n"
     ]
    }
   ],
   "source": [
    "#e.g.2: Ask user whether he wants to continue and check that he enter only yes and no.\n",
    "user_input = input(\"Do you want to continue? (yes/no): \")\n",
    "\n",
    "if user_input == \"yes\" or user_input == \"no\":  # Check if the input is valid\n",
    "    print(\"Thank you for your response.\")\n",
    "else:\n",
    "    print(\"Invalid input. Please enter 'yes' or 'no'.\")"
   ]
  },
  {
   "cell_type": "code",
   "execution_count": null,
   "id": "7f0cf574-bdd5-4714-b829-4226d7d34954",
   "metadata": {},
   "outputs": [],
   "source": []
  },
  {
   "cell_type": "code",
   "execution_count": 22,
   "id": "bf5c3c81-4756-4ce9-8142-cd36ef2cb82b",
   "metadata": {},
   "outputs": [
    {
     "name": "stdin",
     "output_type": "stream",
     "text": [
      "Username: admin\n",
      "Enter password: 12345\n"
     ]
    },
    {
     "name": "stdout",
     "output_type": "stream",
     "text": [
      "Successful login\n"
     ]
    }
   ],
   "source": [
    "# if with 'and'\n",
    "\n",
    "#e.g.1\n",
    "#  Checking User Login Credentials\n",
    "# if with 'and'\n",
    "username = input(\"Username:\")\n",
    "password = input(\"Enter password:\")\n",
    "\n",
    "if username == \"admin\" and password == \"12345\":\n",
    "    print(\"Successful login\")\n",
    "else:\n",
    "    print(\"Invalid login\")"
   ]
  },
  {
   "cell_type": "code",
   "execution_count": 24,
   "id": "78c9c575-64e3-4bbd-930a-c4344d559c1c",
   "metadata": {},
   "outputs": [
    {
     "name": "stdout",
     "output_type": "stream",
     "text": [
      "You are not eligible for a discount.\n"
     ]
    }
   ],
   "source": [
    "#e.g.2: Give 20% discount if member is gold and purchase amount > 100\n",
    "membership_status = \"gold\"\n",
    "purchase_amount = 30 \n",
    "\n",
    "if membership_status == \"gold\" and purchase_amount > 100:  # Check if both conditions are met\n",
    "    print(\"You are eligible for a 20% discount!\")\n",
    "else:\n",
    "    print(\"You are not eligible for a discount.\")\n"
   ]
  },
  {
   "cell_type": "code",
   "execution_count": null,
   "id": "a783318c-923e-40f3-b975-4fa7d6ebf778",
   "metadata": {},
   "outputs": [],
   "source": []
  },
  {
   "cell_type": "code",
   "execution_count": 26,
   "id": "917014d5-a786-46ca-af65-f26b9b738332",
   "metadata": {},
   "outputs": [
    {
     "name": "stdout",
     "output_type": "stream",
     "text": [
      "U r eligible for the scolarship\n"
     ]
    }
   ],
   "source": [
    "# if with 'and' and 'or'\n",
    "\n",
    "#e.g.1\n",
    "score = 60 \n",
    "extracurr = 2\n",
    "\n",
    "if (score > 50 and extracurr >= 2) or (score >= 80):\n",
    "    print(\"U r eligible for the scolarship\")\n",
    "else:\n",
    "    print(\"U r not eligible for the scolarship\")\n"
   ]
  },
  {
   "cell_type": "code",
   "execution_count": null,
   "id": "58733e15-66cd-4b78-a90c-8924c0e8c5f3",
   "metadata": {},
   "outputs": [],
   "source": []
  },
  {
   "cell_type": "code",
   "execution_count": 29,
   "id": "a2f9a9a8-10ba-45a7-878d-6ae4525712b4",
   "metadata": {},
   "outputs": [
    {
     "name": "stdout",
     "output_type": "stream",
     "text": [
      "butter is not on the list.\n"
     ]
    }
   ],
   "source": [
    "# Check if item is in shopping list\n",
    "shopping_list = [\"milk\", \"bread\", \"eggs\"]\n",
    "item = \"milk\" # put butter\n",
    "\n",
    "if item in shopping_list:\n",
    "    print(f\"{item} is on the list.\")\n",
    "else:\n",
    "    print(f\"{item} is not on the list.\")"
   ]
  },
  {
   "cell_type": "code",
   "execution_count": null,
   "id": "8653089a-1303-430d-84a6-27669c506cdf",
   "metadata": {},
   "outputs": [],
   "source": []
  },
  {
   "cell_type": "code",
   "execution_count": 33,
   "id": "24f14664-e344-407b-81eb-5cd801a8956c",
   "metadata": {},
   "outputs": [
    {
     "name": "stdout",
     "output_type": "stream",
     "text": [
      "You are eligible to drive.\n"
     ]
    }
   ],
   "source": [
    "# Nested if Statement: Implement following logic:\n",
    "\n",
    "# If age > 18 and has license, then eligible to drive\n",
    "# if age > 18 and no license, then cannot drive\n",
    "# if age < 18, then not eligible to drive\n",
    "\n",
    "age = 20\n",
    "has_license = True # False\n",
    "\n",
    "if age >= 18:\n",
    "    if has_license:\n",
    "        print(\"You are eligible to drive.\")\n",
    "    else:\n",
    "        print(\"You are eligible to drive, but you need a driving license.\")\n",
    "else:\n",
    "    print(\"You are too young to drive.\")"
   ]
  },
  {
   "cell_type": "code",
   "execution_count": null,
   "id": "9ec916f3-9933-4464-8f97-b8984a984b3b",
   "metadata": {},
   "outputs": [],
   "source": []
  },
  {
   "cell_type": "code",
   "execution_count": null,
   "id": "97462bc4-d695-462b-b764-2aec5ee5e9a0",
   "metadata": {},
   "outputs": [],
   "source": []
  },
  {
   "cell_type": "code",
   "execution_count": null,
   "id": "74437cd9-caf9-4177-b5dc-c6e3d3398e37",
   "metadata": {},
   "outputs": [],
   "source": []
  },
  {
   "cell_type": "code",
   "execution_count": null,
   "id": "68952a15-eedd-433e-a75b-98ed9725c39d",
   "metadata": {},
   "outputs": [],
   "source": []
  }
 ],
 "metadata": {
  "kernelspec": {
   "display_name": "Python 3 (ipykernel)",
   "language": "python",
   "name": "python3"
  },
  "language_info": {
   "codemirror_mode": {
    "name": "ipython",
    "version": 3
   },
   "file_extension": ".py",
   "mimetype": "text/x-python",
   "name": "python",
   "nbconvert_exporter": "python",
   "pygments_lexer": "ipython3",
   "version": "3.9.9"
  }
 },
 "nbformat": 4,
 "nbformat_minor": 5
}
