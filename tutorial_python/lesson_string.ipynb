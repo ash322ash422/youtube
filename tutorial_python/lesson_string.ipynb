{
 "cells": [
  {
   "cell_type": "markdown",
   "id": "848850d6-28a3-4ee5-84f5-726fac2d2da5",
   "metadata": {},
   "source": [
    "#  String (str)\n",
    "A string is an **immutable** sequence of characters."
   ]
  },
  {
   "cell_type": "code",
   "execution_count": 34,
   "id": "ef232980-ec92-45bf-b9c6-fc3af4c1b45e",
   "metadata": {},
   "outputs": [
    {
     "name": "stdout",
     "output_type": "stream",
     "text": [
      "Python is easy to learn\n",
      "<class 'str'>\n"
     ]
    }
   ],
   "source": [
    "# String declaration\n",
    "# s = \"Python is easy to learn\" \n",
    "s = 'Python is easy to learn'\n",
    "\n",
    "print(s)\n",
    "print(type(s))"
   ]
  },
  {
   "cell_type": "code",
   "execution_count": 35,
   "id": "35325c72-5442-4ae4-8d8b-c0f2d35828e9",
   "metadata": {},
   "outputs": [
    {
     "name": "stdout",
     "output_type": "stream",
     "text": [
      "P\n",
      "y\n",
      "t\n",
      "o\n"
     ]
    }
   ],
   "source": [
    "# # Accessing elements: Indexing starts with 0 in python\n",
    "s = \"Python is easy to learn\" \n",
    "\n",
    "print(s[0])   # 'P' (character at idx=0)\n",
    "print(s[1])   # 'y' (character at idx=1)\n",
    "print(s[2])   # 't' (character at idx=2)\n",
    "print(s[4])   # 'o'"
   ]
  },
  {
   "cell_type": "code",
   "execution_count": 36,
   "id": "77f0818d-1041-435c-9653-a5bea03850a0",
   "metadata": {},
   "outputs": [
    {
     "name": "stdout",
     "output_type": "stream",
     "text": [
      "n\n",
      "e\n"
     ]
    }
   ],
   "source": [
    "# access elements from last\n",
    "s = \"Python is easy to learn\" \n",
    "\n",
    "print(s[-1])  # 'n' (character at idx=-1, i.e. Last character)\n",
    "print(s[-4])  # 'e' (character at idx=-4, i.e. 4th char from  end)"
   ]
  },
  {
   "cell_type": "code",
   "execution_count": 41,
   "id": "c8ca43fd-b617-4dd1-af29-37a28dabaf90",
   "metadata": {},
   "outputs": [
    {
     "name": "stdout",
     "output_type": "stream",
     "text": [
      "Python is e\n",
      "s easy to learn\n"
     ]
    }
   ],
   "source": [
    "# # Slicing : [start_position: end_position: step_size]. \n",
    "# # start_position by default is 0, end_position by default is last idx, step_size by default is 1\n",
    "\n",
    "s = \"Python is easy to learn\" \n",
    "\n",
    "# print(s[1:8:1]) # 'ython i'\n",
    "# print(s[1:8:2]) # 'yhni' (From index 1 to 6 with  step size 2) \n",
    "# print(s[1:4])  # 'yth' (From index 1 to 3)\n",
    "# print(s[2:13:3]) # 'tnsa' (From index 2 to 12 with step size 3) \n",
    "\n",
    "print(s[:11])   # 'Python is e' (First 11 characters)\n",
    "print(s[8:])   # 's easy to learn' (From index 8 to end)"
   ]
  },
  {
   "cell_type": "code",
   "execution_count": null,
   "id": "28809e0d-0777-4cac-8f39-00f6ff0ce178",
   "metadata": {
    "jupyter": {
     "source_hidden": true
    }
   },
   "outputs": [],
   "source": []
  },
  {
   "cell_type": "code",
   "execution_count": null,
   "id": "103cf865-55ad-4bc7-a8e4-7e292a620de1",
   "metadata": {
    "jupyter": {
     "source_hidden": true
    }
   },
   "outputs": [],
   "source": []
  },
  {
   "cell_type": "code",
   "execution_count": null,
   "id": "c9393c03-399c-4bc1-89f3-1d3ab19c29d6",
   "metadata": {
    "jupyter": {
     "source_hidden": true
    }
   },
   "outputs": [],
   "source": []
  },
  {
   "cell_type": "code",
   "execution_count": 42,
   "id": "f28b89b5-344e-4e68-a147-fea88a97bc60",
   "metadata": {},
   "outputs": [
    {
     "name": "stdout",
     "output_type": "stream",
     "text": [
      "Python is easy to learn and is fun!\n"
     ]
    }
   ],
   "source": [
    "# String concatenation\n",
    "s = \"Python is easy to learn\"\n",
    "new_s = s + \" and is fun!\"\n",
    "print(new_s)  "
   ]
  },
  {
   "cell_type": "code",
   "execution_count": 43,
   "id": "5f517ba3-b359-4632-a844-9f882d85d016",
   "metadata": {},
   "outputs": [
    {
     "name": "stdout",
     "output_type": "stream",
     "text": [
      "True\n",
      "False\n"
     ]
    }
   ],
   "source": [
    "# Checking substring\n",
    "s = \"Python is easy to learn\"\n",
    "b = \"th\" in s \n",
    "print(b)  # True\n",
    "\n",
    "b = \"rain\" in s\n",
    "print(b)"
   ]
  },
  {
   "cell_type": "code",
   "execution_count": null,
   "id": "759ac7ac-075c-4bea-aa60-4f22b1e5ed59",
   "metadata": {
    "jupyter": {
     "source_hidden": true
    }
   },
   "outputs": [],
   "source": []
  },
  {
   "cell_type": "code",
   "execution_count": null,
   "id": "dea2e0fc-4dba-4cb1-94a4-ebb01cb00145",
   "metadata": {
    "jupyter": {
     "source_hidden": true
    }
   },
   "outputs": [],
   "source": []
  },
  {
   "cell_type": "code",
   "execution_count": 49,
   "id": "bd7156b7-5bc0-4353-935f-6668d6b8bf23",
   "metadata": {},
   "outputs": [
    {
     "name": "stdout",
     "output_type": "stream",
     "text": [
      "python is cool language\n",
      "PYTHON IS COOL LANGUAGE\n",
      "mython is coOl language\n",
      "7\n",
      "2\n",
      "3\n"
     ]
    }
   ],
   "source": [
    "# Lets explore some String methods\n",
    "s = \"python is coOl language\" \n",
    "\n",
    "print(s.lower())  \n",
    "print(s.upper())  \n",
    "print(s.replace(\"py\", \"my\"))  \n",
    "print(s.find(\"is\")) # index of 'is' : 7\n",
    "\n",
    "print(s.count('o'))\n",
    "print(s.lower().count('o')) # this is called chaining method. It counts all o regardless of upper/lower case."
   ]
  },
  {
   "cell_type": "code",
   "execution_count": 53,
   "id": "1732820f-6fb9-41a9-b15c-bd39c0619d94",
   "metadata": {},
   "outputs": [
    {
     "name": "stdout",
     "output_type": "stream",
     "text": [
      "python is easy \n",
      "  python is easy\n",
      "14\n"
     ]
    }
   ],
   "source": [
    "s = \"  python is easy \" # len(s) = 17 \n",
    "\n",
    "print(s.lstrip()) # Removes empty spaces from left\n",
    "print(s.rstrip()) # Removes empty spaces from right\n",
    "print(s.strip())  # Removes all empty spaces from left and right"
   ]
  },
  {
   "cell_type": "code",
   "execution_count": null,
   "id": "5b2231bc-d271-43e3-831d-4b9443a9e403",
   "metadata": {
    "jupyter": {
     "source_hidden": true
    }
   },
   "outputs": [],
   "source": []
  },
  {
   "cell_type": "code",
   "execution_count": 54,
   "id": "068161ae-041b-4c66-88d7-e66c26d4e922",
   "metadata": {},
   "outputs": [
    {
     "name": "stdout",
     "output_type": "stream",
     "text": [
      "Python is cool language. hope you have fun.\n",
      "Python Is Cool Language. Hope You Have Fun.\n"
     ]
    }
   ],
   "source": [
    "s = \"python is CoOL language. hope you have fun.\"\n",
    "\n",
    "print(s.capitalize()) # Converts the first character to uppercase and the rest to lowercase.\n",
    "print(s.title())"
   ]
  },
  {
   "cell_type": "code",
   "execution_count": 57,
   "id": "353e58b7-a527-471f-b7c2-e78da7aba9c0",
   "metadata": {},
   "outputs": [
    {
     "name": "stdout",
     "output_type": "stream",
     "text": [
      "True\n"
     ]
    }
   ],
   "source": [
    "# endswith()\n",
    "text = \"example.csv\"\n",
    "print(text.endswith(\".csv\"))"
   ]
  },
  {
   "cell_type": "code",
   "execution_count": 60,
   "id": "10242734-547c-4410-af6b-2191a15c8b53",
   "metadata": {},
   "outputs": [
    {
     "name": "stdout",
     "output_type": "stream",
     "text": [
      "('email', '@', 'example.com')\n"
     ]
    }
   ],
   "source": [
    "# partition(sep): Splits the string at the first occurrence of sep into a 3-tuple: (before, sep, after).\n",
    "\n",
    "text = \"email@example.com\"\n",
    "print(text.partition(\"@\"))"
   ]
  },
  {
   "cell_type": "code",
   "execution_count": null,
   "id": "df71bfb2-d598-4af7-84f7-c7ae74232d08",
   "metadata": {
    "jupyter": {
     "source_hidden": true
    }
   },
   "outputs": [],
   "source": []
  },
  {
   "cell_type": "code",
   "execution_count": null,
   "id": "ebfe91cc-45f5-4e1c-aa7b-43b73858735c",
   "metadata": {
    "jupyter": {
     "source_hidden": true
    }
   },
   "outputs": [],
   "source": []
  },
  {
   "cell_type": "code",
   "execution_count": null,
   "id": "72dfc80a-5f47-487a-8fa0-209b839cbf0d",
   "metadata": {
    "jupyter": {
     "source_hidden": true
    }
   },
   "outputs": [],
   "source": []
  },
  {
   "cell_type": "code",
   "execution_count": 61,
   "id": "577536a8-8ded-4592-b94b-1340dd78866c",
   "metadata": {},
   "outputs": [
    {
     "name": "stdout",
     "output_type": "stream",
     "text": [
      "['2025-08-23', 'ash', '34', '000', '34.78']\n"
     ]
    }
   ],
   "source": [
    "# sometimes you have to split a data by delimiter/seperator\n",
    "\n",
    "# STEP1: split based on ,\n",
    "msg = \"2025-08-23,ash,34,000,34.78\"\n",
    "lst = msg.split(\",\")\n",
    "print(lst) # ['2025-08-23', 'ash', '34', '000', '34.78']"
   ]
  },
  {
   "cell_type": "code",
   "execution_count": 62,
   "id": "05360c42-9223-4375-839f-82e171a6fc44",
   "metadata": {},
   "outputs": [
    {
     "name": "stdout",
     "output_type": "stream",
     "text": [
      "['2025-08-23', 'ash', '34,000', '34.78']\n"
     ]
    }
   ],
   "source": [
    "#STEP2: split based on ;\n",
    "msg = \"2025-08-23;ash;34,000;34.78\"\n",
    "lst = msg.split(\";\")\n",
    "print(lst) "
   ]
  },
  {
   "cell_type": "code",
   "execution_count": null,
   "id": "84a385d1-a1e1-4ebe-a584-058a778beb72",
   "metadata": {
    "jupyter": {
     "source_hidden": true
    }
   },
   "outputs": [],
   "source": []
  },
  {
   "cell_type": "code",
   "execution_count": null,
   "id": "555c1b37-1b1c-46a3-8a3f-c8a006a51bdd",
   "metadata": {
    "jupyter": {
     "source_hidden": true
    }
   },
   "outputs": [],
   "source": []
  },
  {
   "cell_type": "code",
   "execution_count": null,
   "id": "74b7cc84-1198-4e77-bb23-cee98e11acde",
   "metadata": {
    "jupyter": {
     "source_hidden": true
    }
   },
   "outputs": [],
   "source": []
  },
  {
   "cell_type": "code",
   "execution_count": 64,
   "id": "8663b4ac-fb8b-4332-918e-209c193a246a",
   "metadata": {},
   "outputs": [],
   "source": [
    "# You cannot add numeric types to string\n",
    "a = \"7\" # str\n",
    "b = 5   # int\n",
    "# res = a + b # ERROR\n",
    "# print(res)"
   ]
  },
  {
   "cell_type": "code",
   "execution_count": 67,
   "id": "c0f9e48f-9a6b-49a2-905b-f2e0f1bb3f82",
   "metadata": {},
   "outputs": [
    {
     "name": "stdout",
     "output_type": "stream",
     "text": [
      "gerry is happy. gerry is happy. gerry is happy. gerry is happy. gerry is happy. gerry is happy. gerry is happy. gerry is happy. gerry is happy. gerry is happy. gerry is happy. gerry is happy. gerry is happy. gerry is happy. gerry is happy. gerry is happy. gerry is happy. gerry is happy. gerry is happy. gerry is happy. gerry is happy. gerry is happy. gerry is happy. gerry is happy. gerry is happy. gerry is happy. gerry is happy. gerry is happy. gerry is happy. gerry is happy. gerry is happy. gerry is happy. gerry is happy. gerry is happy. gerry is happy. gerry is happy. gerry is happy. gerry is happy. gerry is happy. gerry is happy. gerry is happy. gerry is happy. gerry is happy. gerry is happy. gerry is happy. gerry is happy. gerry is happy. gerry is happy. gerry is happy. gerry is happy. \n"
     ]
    }
   ],
   "source": [
    "# what about multiplying str by number ???\n",
    "# You can multiply numeric types to string: it gives string repetition\n",
    "a = \"773\"\n",
    "b = 5\n",
    "res = a * b\n",
    "print(res)"
   ]
  },
  {
   "cell_type": "code",
   "execution_count": 69,
   "id": "671174c5-5396-4fd5-86d9-f7df2b3a645c",
   "metadata": {},
   "outputs": [
    {
     "name": "stdout",
     "output_type": "stream",
     "text": [
      "Republic\n"
     ]
    }
   ],
   "source": [
    "# string  is immutable, but list is mutable\n",
    "s = 'Republic'\n",
    "# s[0] = 'Z' # We get a error\n",
    "print(s) "
   ]
  },
  {
   "cell_type": "markdown",
   "id": "36b15007-3b9a-48e0-a53d-131eb5ee7b4c",
   "metadata": {},
   "source": [
    "# STOP"
   ]
  },
  {
   "cell_type": "code",
   "execution_count": null,
   "id": "62174e3f-32ff-4eaa-8654-80af0dd42e51",
   "metadata": {
    "jupyter": {
     "source_hidden": true
    }
   },
   "outputs": [],
   "source": []
  },
  {
   "cell_type": "code",
   "execution_count": null,
   "id": "80a1ac41-8a8e-42f5-94b7-a0eb9d9de9cd",
   "metadata": {
    "jupyter": {
     "source_hidden": true
    }
   },
   "outputs": [],
   "source": []
  },
  {
   "cell_type": "code",
   "execution_count": null,
   "id": "0b83f397-4c31-4882-8aab-8c6ad831263f",
   "metadata": {
    "jupyter": {
     "source_hidden": true
    }
   },
   "outputs": [],
   "source": []
  },
  {
   "cell_type": "code",
   "execution_count": null,
   "id": "7d122ded-542e-4527-b33d-95fd7216e4ee",
   "metadata": {
    "jupyter": {
     "source_hidden": true
    }
   },
   "outputs": [],
   "source": []
  },
  {
   "cell_type": "code",
   "execution_count": null,
   "id": "6350738c-7fd5-4b4e-91ea-5f07c953b9d0",
   "metadata": {
    "jupyter": {
     "source_hidden": true
    }
   },
   "outputs": [],
   "source": []
  },
  {
   "cell_type": "code",
   "execution_count": null,
   "id": "f3a2c9bc-f31e-40fb-9427-03016cbc5fbd",
   "metadata": {
    "jupyter": {
     "source_hidden": true
    }
   },
   "outputs": [],
   "source": []
  },
  {
   "cell_type": "code",
   "execution_count": null,
   "id": "8a183160-7a12-4dd7-9425-d886698bef7c",
   "metadata": {
    "jupyter": {
     "source_hidden": true
    }
   },
   "outputs": [],
   "source": [
    "###OPTIONAL########\n",
    "s = \"Python is easy to learn\" \n",
    "\n",
    "print(s[::-1]) # 'nrael ot ysae si nohtyP' (start from last idx and go backward)\n",
    "print(s[-5:2:-1]) # 'l ot ysae si noh' (start from idx -5, 5th from last, go upto idx 2, with step size -1, backward)\n",
    "print(s[-12:-5]) # 'asy to' (start from  idx -12 to idx -5,i.e. 12th from last to 5th last cahr)"
   ]
  },
  {
   "cell_type": "code",
   "execution_count": null,
   "id": "4fab3dbd-c19e-4321-877d-c362be637f50",
   "metadata": {
    "jupyter": {
     "source_hidden": true
    }
   },
   "outputs": [],
   "source": []
  }
 ],
 "metadata": {
  "kernelspec": {
   "display_name": "Python 3 (ipykernel)",
   "language": "python",
   "name": "python3"
  },
  "language_info": {
   "codemirror_mode": {
    "name": "ipython",
    "version": 3
   },
   "file_extension": ".py",
   "mimetype": "text/x-python",
   "name": "python",
   "nbconvert_exporter": "python",
   "pygments_lexer": "ipython3",
   "version": "3.9.9"
  }
 },
 "nbformat": 4,
 "nbformat_minor": 5
}
