{
 "cells": [
  {
   "cell_type": "code",
   "execution_count": 4,
   "id": "8064f935-b4fa-467f-82ef-ffc9411a17b1",
   "metadata": {},
   "outputs": [
    {
     "name": "stdout",
     "output_type": "stream",
     "text": [
      "P\n",
      "t\n",
      "n\n",
      "e\n"
     ]
    }
   ],
   "source": [
    "# String declaration\n",
    "s = \"Python is easy to learn\" # or 'Python', str('Python'), str(90)\n",
    "\n",
    "# # Accessing elements: Indexing starts with 0 in python\n",
    "print(s[0])   # 'P' (character at idx=0)\n",
    "print(s[2])   # 't' (character at idx=2)\n",
    "print(s[-1])  # 'n' (character at idx=-1, i.e. Last character)\n",
    "print(s[-4])  # 'e' (character at idx=-4, i.e. 4th char from  end)\n",
    "# print(\"1111111111111111111111111111\\n\")\n"
   ]
  },
  {
   "cell_type": "code",
   "execution_count": 10,
   "id": "d0de8125-483a-41ea-ad95-0d70dd5ec43c",
   "metadata": {},
   "outputs": [
    {
     "name": "stdout",
     "output_type": "stream",
     "text": [
      "ython \n",
      "yhn\n",
      "yth\n",
      "yoie\n",
      "Python is e\n",
      "s easy to learn\n"
     ]
    }
   ],
   "source": [
    "# # Slicing : [start_position: end_position: step_size]. \n",
    "# # start_position by default is 0, end_position by default is last idx, step_size by default is 1\n",
    "s = \"Python is easy to learn\"\n",
    "\n",
    "print(s[1:7:1]) # 'ython '\n",
    "\n",
    "print(s[1:7:2]) # 'yhn' (From index 1 to 6 with  step size 2) \n",
    "print(s[1:4])  # 'yth' (From index 1 to 3)\n",
    "print(s[1:13:3]) # 'yoie' (From index 1 to 4 to 7 to 11 with  step size 1) \n",
    "\n",
    "print(s[:11])   # 'Python is e' (First 11 characters)\n",
    "print(s[8:])   # 's easy to learn' (From index 8 to end)\n"
   ]
  },
  {
   "cell_type": "code",
   "execution_count": 13,
   "id": "1312bc64-a7ce-4cd4-88b7-53439871ac29",
   "metadata": {},
   "outputs": [
    {
     "name": "stdout",
     "output_type": "stream",
     "text": [
      "nrael ot ysae si nohtyP\n",
      "l ot ysae si noh\n",
      "asy to \n"
     ]
    }
   ],
   "source": [
    "s = \"Python is easy to learn\"\n",
    "\n",
    "print(s[::-1]) # 'nrael ot ysae si nohtyP' (start from last idx and go backward)\n",
    "print(s[-5:2:-1]) # 'l ot ysae si noh' (start from idx -5, 5th from last, go upto idx 2, with step size -1, backward)\n",
    "print(s[-12:-5]) # 'asy to' (start from  idx -12 to idx -5,i.e. 12th from last to 5th last cahr)\n"
   ]
  },
  {
   "cell_type": "code",
   "execution_count": 16,
   "id": "7fe03676-ccfe-40f0-82da-a9de97fd36cc",
   "metadata": {},
   "outputs": [
    {
     "name": "stdout",
     "output_type": "stream",
     "text": [
      "Python is easy to learn and is fun!\n",
      "Python is easy to learnPython is easy to learnPython is easy to learn\n"
     ]
    }
   ],
   "source": [
    "# String concatenation\n",
    "s = \"Python is easy to learn\"\n",
    "new_s = s + \" and is fun!\"\n",
    "print(new_s)  \n",
    "\n",
    "\n",
    "# String repetition\n",
    "print(s * 3)  # repeat str s 3 times...concatenate s 3 times"
   ]
  },
  {
   "cell_type": "code",
   "execution_count": 17,
   "id": "b402d431-ea76-4dd4-a5d5-7c18c8bb34b5",
   "metadata": {},
   "outputs": [
    {
     "name": "stdout",
     "output_type": "stream",
     "text": [
      "True\n",
      "False\n"
     ]
    }
   ],
   "source": [
    "# Checking substring\n",
    "s = \"Python is easy to learn\"\n",
    "b = \"th\" in s \n",
    "print(b)  # True\n",
    "\n",
    "b = \"rain\" in s\n",
    "print(b)"
   ]
  },
  {
   "cell_type": "code",
   "execution_count": null,
   "id": "8bd65cc3-e900-42fb-8a29-f7333be263c7",
   "metadata": {},
   "outputs": [],
   "source": []
  },
  {
   "cell_type": "code",
   "execution_count": 26,
   "id": "39da2d3b-5dcf-4f57-a8a2-7cacfd2c7338",
   "metadata": {},
   "outputs": [
    {
     "name": "stdout",
     "output_type": "stream",
     "text": [
      "26\n",
      "  python is cool language \n",
      "  PYTHON IS COOL LANGUAGE \n",
      "  mython is CoOL language \n",
      "2\n",
      "3\n",
      "python is CoOL language \n",
      "  python is CoOL language\n",
      "python is CoOL language\n"
     ]
    }
   ],
   "source": [
    "# Lets explore some String methods\n",
    "s = \"  python is CoOL language \" \n",
    "print(len(s))\n",
    "print(s.lower())  \n",
    "print(s.upper())  \n",
    "print(s.replace(\"py\", \"my\"))  \n",
    "print(s.count('o'))\n",
    "print(s.lower().count('o')) # this is called chaining method. It counts all o regardless of upper/lower case.\n",
    "\n",
    "print(s.lstrip()) # Removes empty spaces from left\n",
    "print(s.rstrip()) # Removes empty spaces from right\n",
    "print(s.strip()) #Removes all empty spaces from left and right"
   ]
  },
  {
   "cell_type": "code",
   "execution_count": 27,
   "id": "190d0306-d8f2-4841-a1bd-d61fc98b73c3",
   "metadata": {},
   "outputs": [
    {
     "name": "stdout",
     "output_type": "stream",
     "text": [
      "Python is cool language. hope you have fun.\n",
      "Python Is Cool Language. Hope You Have Fun.\n"
     ]
    }
   ],
   "source": [
    "s = \"python is CoOL language. hope you have fun.\"\n",
    "print(s.capitalize())\n",
    "print(s.title())"
   ]
  },
  {
   "cell_type": "code",
   "execution_count": null,
   "id": "f33c37ae-b8e3-4846-8d3e-5469ca185770",
   "metadata": {},
   "outputs": [],
   "source": []
  },
  {
   "cell_type": "code",
   "execution_count": 29,
   "id": "13bb0ac1-6517-4e8c-8ad5-a40bebc73845",
   "metadata": {},
   "outputs": [
    {
     "name": "stdout",
     "output_type": "stream",
     "text": [
      "['2025-08-23', 'ash', '34', '000', '34.78']\n",
      "['2025-08-23', 'ash', '34,000', '34.78']\n"
     ]
    }
   ],
   "source": [
    "# sometimes you have to split a data by delimiter/seperator\n",
    "\n",
    "# STEP1: split based on ,\n",
    "msg = \"2025-08-23,ash,34,000,34.78\"\n",
    "lst = msg.split(\",\")\n",
    "print(lst) \n",
    "\n",
    "###################\n",
    "#STEP2: split based on ;\n",
    "msg = \"2025-08-23;ash;34,000;34.78\"\n",
    "lst = msg.split(\";\")\n",
    "print(lst) "
   ]
  },
  {
   "cell_type": "code",
   "execution_count": null,
   "id": "a36e8a5f-3c7d-44ad-adf1-8750915f1209",
   "metadata": {},
   "outputs": [],
   "source": []
  },
  {
   "cell_type": "code",
   "execution_count": 30,
   "id": "dd593ab9-67b1-4c09-b216-c301dae25c04",
   "metadata": {},
   "outputs": [
    {
     "ename": "TypeError",
     "evalue": "can only concatenate str (not \"int\") to str",
     "output_type": "error",
     "traceback": [
      "\u001b[1;31m---------------------------------------------------------------------------\u001b[0m",
      "\u001b[1;31mTypeError\u001b[0m                                 Traceback (most recent call last)",
      "Cell \u001b[1;32mIn[30], line 4\u001b[0m\n\u001b[0;32m      2\u001b[0m a \u001b[38;5;241m=\u001b[39m \u001b[38;5;124m\"\u001b[39m\u001b[38;5;124m7\u001b[39m\u001b[38;5;124m\"\u001b[39m\n\u001b[0;32m      3\u001b[0m b \u001b[38;5;241m=\u001b[39m \u001b[38;5;241m5\u001b[39m\n\u001b[1;32m----> 4\u001b[0m res \u001b[38;5;241m=\u001b[39m \u001b[43ma\u001b[49m\u001b[43m \u001b[49m\u001b[38;5;241;43m+\u001b[39;49m\u001b[43m \u001b[49m\u001b[43mb\u001b[49m\n\u001b[0;32m      5\u001b[0m \u001b[38;5;28mprint\u001b[39m(res)\n",
      "\u001b[1;31mTypeError\u001b[0m: can only concatenate str (not \"int\") to str"
     ]
    }
   ],
   "source": [
    "# You cannot add numeric types to string\n",
    "a = \"7\"\n",
    "b = 5\n",
    "res = a + b\n",
    "print(res)"
   ]
  },
  {
   "cell_type": "code",
   "execution_count": 31,
   "id": "034c49e8-62bc-442f-8059-ebecf16d9d54",
   "metadata": {},
   "outputs": [
    {
     "name": "stdout",
     "output_type": "stream",
     "text": [
      "77777\n"
     ]
    }
   ],
   "source": [
    "# what about multiply ???\n",
    "# You can multiply numeric types to string: it gives string repetition\n",
    "a = \"7\"\n",
    "b = 5\n",
    "res = a * b\n",
    "print(res)"
   ]
  },
  {
   "cell_type": "code",
   "execution_count": 32,
   "id": "31cffc99-5b43-4647-8180-79487ea85d9c",
   "metadata": {},
   "outputs": [
    {
     "ename": "TypeError",
     "evalue": "'str' object does not support item assignment",
     "output_type": "error",
     "traceback": [
      "\u001b[1;31m---------------------------------------------------------------------------\u001b[0m",
      "\u001b[1;31mTypeError\u001b[0m                                 Traceback (most recent call last)",
      "Cell \u001b[1;32mIn[32], line 3\u001b[0m\n\u001b[0;32m      1\u001b[0m \u001b[38;5;66;03m# string  is immutable\u001b[39;00m\n\u001b[0;32m      2\u001b[0m s \u001b[38;5;241m=\u001b[39m \u001b[38;5;124m'\u001b[39m\u001b[38;5;124mRepublic\u001b[39m\u001b[38;5;124m'\u001b[39m\n\u001b[1;32m----> 3\u001b[0m \u001b[43ms\u001b[49m\u001b[43m[\u001b[49m\u001b[38;5;241;43m0\u001b[39;49m\u001b[43m]\u001b[49m \u001b[38;5;241m=\u001b[39m \u001b[38;5;124m'\u001b[39m\u001b[38;5;124mZ\u001b[39m\u001b[38;5;124m'\u001b[39m\n\u001b[0;32m      4\u001b[0m s \u001b[38;5;66;03m# We get a error\u001b[39;00m\n",
      "\u001b[1;31mTypeError\u001b[0m: 'str' object does not support item assignment"
     ]
    }
   ],
   "source": [
    "# string  is immutable\n",
    "s = 'Republic'\n",
    "s[0] = 'Z'\n",
    "s # We get a error"
   ]
  },
  {
   "cell_type": "code",
   "execution_count": null,
   "id": "e945ecf7-8bb1-4e0f-afb7-f6e000745eb4",
   "metadata": {},
   "outputs": [],
   "source": []
  }
 ],
 "metadata": {
  "kernelspec": {
   "display_name": "Python 3 (ipykernel)",
   "language": "python",
   "name": "python3"
  },
  "language_info": {
   "codemirror_mode": {
    "name": "ipython",
    "version": 3
   },
   "file_extension": ".py",
   "mimetype": "text/x-python",
   "name": "python",
   "nbconvert_exporter": "python",
   "pygments_lexer": "ipython3",
   "version": "3.9.9"
  }
 },
 "nbformat": 4,
 "nbformat_minor": 5
}
