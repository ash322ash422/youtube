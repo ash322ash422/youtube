{
 "cells": [
  {
   "cell_type": "markdown",
   "id": "05ba9f55-4226-41f1-a7b8-8c82fe190439",
   "metadata": {},
   "source": [
    "## Conditional if-elif-else statement:\n",
    "Following is the general expression:\n",
    "\n",
    "```\n",
    "if  [boolean_expression1]:\n",
    "    # block of code\n",
    "elif [boolean_expression2]:\n",
    "    # block of code\n",
    "elif [boolean_expression3]:\n",
    "    # block of code\n",
    "else\n",
    "    # block of code\n",
    "```     \n",
    "\n"
   ]
  },
  {
   "cell_type": "code",
   "execution_count": null,
   "id": "96f954bc-30dc-4d9c-9fc6-04a868fcd4ac",
   "metadata": {
    "jupyter": {
     "source_hidden": true
    }
   },
   "outputs": [],
   "source": []
  },
  {
   "cell_type": "code",
   "execution_count": 23,
   "id": "5221b0b0-aea6-4cfc-9e5e-05f6f11cedc8",
   "metadata": {},
   "outputs": [
    {
     "name": "stdout",
     "output_type": "stream",
     "text": [
      "The student's score is above average.\n",
      "That's a good result!\n",
      "Lets celebrate\n",
      "Moving on to the next evaluation...\n"
     ]
    }
   ],
   "source": [
    "# if - Example: Checking a student's score\n",
    "score = 60  # change to 30 or 70\n",
    "\n",
    "if score > 50:\n",
    "    print(\"The student's score is above average.\")\n",
    "    print(\"That's a good result!\")\n",
    "    print(\"Lets celebrate\")\n",
    "\n",
    "print(\"Moving on to the next evaluation...\")"
   ]
  },
  {
   "cell_type": "code",
   "execution_count": 25,
   "id": "9cff667a-8710-48b3-9cd4-2fd3abbcea05",
   "metadata": {},
   "outputs": [
    {
     "name": "stdout",
     "output_type": "stream",
     "text": [
      "The student's score is below average.\n",
      "There might be room for improvement.\n",
      "Moving on to the next evaluation...\n"
     ]
    }
   ],
   "source": [
    "#if - else - Example: Checking a student's score\n",
    "score = 40  # change to 4 or 40\n",
    "\n",
    "if score > 50:\n",
    "    print(\"The student's score is above average.\")\n",
    "    print(\"That's a good result!\")\n",
    "    print(\"Lets celebrate\")\n",
    "else:\n",
    "    print(\"The student's score is below average.\")\n",
    "    print(\"There might be room for improvement.\")\n",
    "\n",
    "print(\"Moving on to the next evaluation...\")"
   ]
  },
  {
   "cell_type": "code",
   "execution_count": null,
   "id": "9762c0bd-1e9d-4d5d-ac32-5dbb2fcdeb82",
   "metadata": {
    "jupyter": {
     "source_hidden": true
    }
   },
   "outputs": [],
   "source": []
  },
  {
   "cell_type": "code",
   "execution_count": 27,
   "id": "e33fbaf4-2e4a-41eb-b1d7-0cf9f0585352",
   "metadata": {},
   "outputs": [
    {
     "name": "stdin",
     "output_type": "stream",
     "text": [
      "Enter number: 9\n"
     ]
    },
    {
     "name": "stdout",
     "output_type": "stream",
     "text": [
      "Odd number\n"
     ]
    }
   ],
   "source": [
    "#if - else:  Example- User enters a number and program display message if number is even or odd\n",
    "\n",
    "num = input(\"Enter number:\") # it is str\n",
    "num = int(num) # type cast str into int\n",
    "\n",
    "if num % 2 == 0:\n",
    "    print(\"Even number\")\n",
    "else:\n",
    "    print(\"Odd number\")"
   ]
  },
  {
   "cell_type": "code",
   "execution_count": null,
   "id": "ed14f241-5d5d-4ed4-a5dd-68e7323e4ca8",
   "metadata": {
    "jupyter": {
     "source_hidden": true
    }
   },
   "outputs": [],
   "source": []
  },
  {
   "cell_type": "code",
   "execution_count": 32,
   "id": "98492e67-7dd9-4a18-b929-a68f2d6f13f0",
   "metadata": {},
   "outputs": [
    {
     "name": "stdout",
     "output_type": "stream",
     "text": [
      "Grade: F\n",
      "Buddy wake up. Start studying.\n"
     ]
    }
   ],
   "source": [
    "# if-elif-else: Example - Students are given grades based on their marks\n",
    "# [100-90]: A\n",
    "# [80-90] : B\n",
    "# [70-80] : C\n",
    "# [<70]   : F\n",
    "\n",
    "marks = 65 # change this to 55, 65, 75, 85, 95\n",
    "\n",
    "if marks >= 90:\n",
    "    print(\"Grade: A\")\n",
    "    print(\"Congratulations. Your parents would be proud\")\n",
    "    \n",
    "elif marks >= 80:\n",
    "    print(\"Grade: B\")\n",
    "    print(\"Good work\")\n",
    "    \n",
    "elif marks >= 70:\n",
    "    print(\"Grade: C\")\n",
    "    print(\"Good work, but you can  do better\")\n",
    "    \n",
    "else:\n",
    "    print(\"Grade: F\")\n",
    "    print(\"Buddy wake up. Start studying.\")"
   ]
  },
  {
   "cell_type": "code",
   "execution_count": null,
   "id": "b5e17237-c925-41b6-9392-e39a68b43bea",
   "metadata": {
    "jupyter": {
     "source_hidden": true
    }
   },
   "outputs": [],
   "source": []
  },
  {
   "cell_type": "markdown",
   "id": "b43fe8cd-6642-4858-ab8e-35146d712aec",
   "metadata": {},
   "source": [
    "# Nested if statement"
   ]
  },
  {
   "cell_type": "code",
   "execution_count": 35,
   "id": "70c58f21-86fc-445f-b61f-02026466c9c0",
   "metadata": {},
   "outputs": [
    {
     "name": "stdout",
     "output_type": "stream",
     "text": [
      "You are too young to drive. You are younger than 18\n"
     ]
    }
   ],
   "source": [
    "# Nested if Statement: Example\n",
    "\n",
    "# If age > 18 and has license, then eligible to drive\n",
    "# if age > 18 and no license, then you eligible to drive but need Driver license to be on road\n",
    "# if age < 18, then not eligible to drive\n",
    "\n",
    "age         = 12 # change to 12, 19, \n",
    "has_license = False # change to True, False\n",
    "\n",
    "if age >= 18:\n",
    "    if has_license:\n",
    "        print(\"You are eligible to drive.\")\n",
    "    else:\n",
    "        print(\"You are eligible to drive, but you need a driving license.\")\n",
    "\n",
    "else:\n",
    "    print(\"You are too young to drive. You are younger than 18\")"
   ]
  },
  {
   "cell_type": "code",
   "execution_count": null,
   "id": "5ff5bf4b-786f-4a5f-90cd-3b897b0aa968",
   "metadata": {
    "jupyter": {
     "source_hidden": true
    }
   },
   "outputs": [],
   "source": []
  },
  {
   "cell_type": "markdown",
   "id": "f365f1f3-f9d1-4a18-a3e5-8a26dd661abc",
   "metadata": {},
   "source": [
    "# if + or"
   ]
  },
  {
   "cell_type": "code",
   "execution_count": 38,
   "id": "4311c784-1845-4d6e-bd42-90160de4a6e5",
   "metadata": {},
   "outputs": [
    {
     "name": "stdout",
     "output_type": "stream",
     "text": [
      "You are eligible for a child or senior ticket.\n"
     ]
    }
   ],
   "source": [
    "# if with 'or' - Example1: Check if the age is less than 13 or greater than 65\n",
    "age = 70 # change to 11, 15, 70\n",
    "\n",
    "if age < 13 or age > 65:  \n",
    "    print(\"You are eligible for a child or senior ticket.\")\n",
    "    \n",
    "else:\n",
    "    print(\"You are NOT eligible for a child or senior ticket.\")"
   ]
  },
  {
   "cell_type": "code",
   "execution_count": null,
   "id": "4abc7959-cb68-42de-858b-7378397fff82",
   "metadata": {
    "jupyter": {
     "source_hidden": true
    }
   },
   "outputs": [],
   "source": []
  },
  {
   "cell_type": "markdown",
   "id": "8b244d45-1fab-4cf2-a9fd-51ceb9b7e7c4",
   "metadata": {},
   "source": [
    "# if + and"
   ]
  },
  {
   "cell_type": "code",
   "execution_count": 40,
   "id": "2eb4dd39-d4c6-4b1e-88a9-b660490d6641",
   "metadata": {},
   "outputs": [
    {
     "name": "stdin",
     "output_type": "stream",
     "text": [
      "Username: gerry\n",
      "Enter password: 12345\n"
     ]
    },
    {
     "name": "stdout",
     "output_type": "stream",
     "text": [
      "Invalid login\n"
     ]
    }
   ],
   "source": [
    "# if with 'and' - Example1: Checking User Login Credentials\n",
    "\n",
    "username = input(\"Username:\")\n",
    "password = input(\"Enter password:\")\n",
    "\n",
    "if username == \"admin\" and password == \"12345\":\n",
    "    print(\"Successful login\")\n",
    "    \n",
    "else:\n",
    "    print(\"Invalid login\")"
   ]
  },
  {
   "cell_type": "code",
   "execution_count": null,
   "id": "c9118a41-f84e-4af9-8a0e-5976c3a2a40b",
   "metadata": {
    "jupyter": {
     "source_hidden": true
    }
   },
   "outputs": [],
   "source": []
  },
  {
   "cell_type": "markdown",
   "id": "3b4dc14d-4d5b-49d9-96ae-1378dfcdd536",
   "metadata": {},
   "source": [
    "# STOP"
   ]
  },
  {
   "cell_type": "code",
   "execution_count": null,
   "id": "4d62f11d-ba63-4c7d-9ce6-2d08647230ab",
   "metadata": {
    "jupyter": {
     "source_hidden": true
    }
   },
   "outputs": [],
   "source": []
  },
  {
   "cell_type": "code",
   "execution_count": null,
   "id": "009f03f7-e6b2-4118-95e4-fcd64901c40a",
   "metadata": {
    "jupyter": {
     "source_hidden": true
    }
   },
   "outputs": [],
   "source": []
  },
  {
   "cell_type": "code",
   "execution_count": null,
   "id": "a8f254f5-af2e-4f8e-b8f2-c1294b79db43",
   "metadata": {
    "jupyter": {
     "source_hidden": true
    }
   },
   "outputs": [],
   "source": []
  },
  {
   "cell_type": "code",
   "execution_count": null,
   "id": "096bf1da-ecc7-4700-919a-272ed1f63c18",
   "metadata": {
    "jupyter": {
     "source_hidden": true
    }
   },
   "outputs": [],
   "source": []
  },
  {
   "cell_type": "code",
   "execution_count": null,
   "id": "76f9e45a-a0f5-487e-96e9-6f0370f0084a",
   "metadata": {
    "jupyter": {
     "source_hidden": true
    }
   },
   "outputs": [],
   "source": []
  },
  {
   "cell_type": "code",
   "execution_count": null,
   "id": "4bedcde9-71bf-4ffe-9c8e-5a9d7c338418",
   "metadata": {
    "jupyter": {
     "source_hidden": true
    }
   },
   "outputs": [],
   "source": []
  },
  {
   "cell_type": "code",
   "execution_count": null,
   "id": "db12580c-f465-48ce-af28-d01d51cd3ef6",
   "metadata": {
    "jupyter": {
     "source_hidden": true
    }
   },
   "outputs": [],
   "source": []
  },
  {
   "cell_type": "code",
   "execution_count": null,
   "id": "8845280f-6531-454f-8196-bb3baae7c984",
   "metadata": {
    "jupyter": {
     "source_hidden": true
    }
   },
   "outputs": [],
   "source": []
  },
  {
   "cell_type": "code",
   "execution_count": null,
   "id": "806eb3a5-a197-4008-a240-0252bb83bf2a",
   "metadata": {
    "jupyter": {
     "source_hidden": true
    }
   },
   "outputs": [],
   "source": []
  },
  {
   "cell_type": "code",
   "execution_count": null,
   "id": "3058f6e5-22c4-4edb-a928-b2f44421861a",
   "metadata": {
    "jupyter": {
     "source_hidden": true
    }
   },
   "outputs": [],
   "source": []
  },
  {
   "cell_type": "code",
   "execution_count": null,
   "id": "32e545ae-4c93-4e66-9a1f-19193c4a9731",
   "metadata": {
    "jupyter": {
     "source_hidden": true
    }
   },
   "outputs": [],
   "source": [
    "#  Example2: design a logic that print weather alert when temp < 32 or > 90\n",
    "temp = 20 # change to 20, 50, 100\n",
    "\n",
    "if temp < 32 or temp > 90: \n",
    "    print(\"Weather alert\")\n",
    "    \n",
    "else:\n",
    "    print(\"Weather normal\")"
   ]
  },
  {
   "cell_type": "code",
   "execution_count": null,
   "id": "eb70fc6c-d071-43b0-9414-589be99e5937",
   "metadata": {
    "jupyter": {
     "source_hidden": true
    }
   },
   "outputs": [],
   "source": [
    "# Example2: design logic for -> student passes if score > 70 and attendance > 75%\n",
    "exam_score            = 78\n",
    "attendance_percentage = 85  # Attendance in percentage\n",
    "\n",
    "if exam_score >= 70 and attendance_percentage >= 75:  # Check if both conditions are met\n",
    "    print(\"Congratulations! You have passed the course.\")\n",
    "\n",
    "else:\n",
    "    print(\"You need to improve your score or attendance to pass.\")\n"
   ]
  },
  {
   "cell_type": "markdown",
   "id": "9af005c9-194e-46bc-bc77-6402f3aed1ac",
   "metadata": {},
   "source": [
    "# if + and + or"
   ]
  },
  {
   "cell_type": "code",
   "execution_count": null,
   "id": "2951acf7-88cf-4ffd-be4c-df5e3af16256",
   "metadata": {
    "jupyter": {
     "source_hidden": true
    }
   },
   "outputs": [],
   "source": [
    "# if with 'and' and 'or' -\n",
    "# e.g.1: if (score > 50 and num of extra-curricular activities > 2) or (score > 80), then give scholarship\n",
    "\n",
    "score     = 30 \n",
    "extracurr = 2\n",
    "\n",
    "if (score > 50 and extracurr >= 2) or (score >= 80):\n",
    "    print(\"U r eligible for the scolarship\")\n",
    "    \n",
    "else:\n",
    "    print(\"U r not eligible for the scolarship\")"
   ]
  },
  {
   "cell_type": "code",
   "execution_count": null,
   "id": "44011d5d-4372-4c32-a064-34dc70f7fd80",
   "metadata": {
    "jupyter": {
     "source_hidden": true
    }
   },
   "outputs": [],
   "source": [
    "# Application: SKIP e.g.2 # Check if the user is (an admin or editor) and is active, then grant access\n",
    "\n",
    "user_role = \"editor\"\n",
    "is_active = False  # change to True and False\n",
    "\n",
    "if (user_role == \"admin\" or user_role == \"editor\") and is_active:  \n",
    "    print(\"Access granted to the restricted area.\")\n",
    "    \n",
    "else:\n",
    "    print(\"Access denied.\")"
   ]
  },
  {
   "cell_type": "code",
   "execution_count": null,
   "id": "461f05be-07a8-426f-93ce-1b86d87bb8e5",
   "metadata": {
    "jupyter": {
     "source_hidden": true
    }
   },
   "outputs": [],
   "source": []
  },
  {
   "cell_type": "markdown",
   "id": "ecd5f73f-c276-466d-acaa-3603235cc8f1",
   "metadata": {},
   "source": [
    "## Using if with 'in' (Checking List Membership)"
   ]
  },
  {
   "cell_type": "code",
   "execution_count": null,
   "id": "3f149afa-c1a2-4a11-ab69-5677e946bf97",
   "metadata": {
    "jupyter": {
     "source_hidden": true
    }
   },
   "outputs": [],
   "source": [
    "# Check if item is in shopping list\n",
    "shopping_list = [\"milk\", \"bread\", \"eggs\", \"honey\"]\n",
    "item = \"butter\" # change to milk butter\n",
    "\n",
    "if item in shopping_list:\n",
    "    print(f\"{item} is on the list.\")\n",
    "    \n",
    "else:\n",
    "    print(f\"{item} is not on the list.\")"
   ]
  },
  {
   "cell_type": "code",
   "execution_count": null,
   "id": "8cc804f2-9f59-451e-8722-ae8fc5a65ae1",
   "metadata": {
    "jupyter": {
     "source_hidden": true
    }
   },
   "outputs": [],
   "source": []
  },
  {
   "cell_type": "code",
   "execution_count": null,
   "id": "607f2c0e-1cfc-4d02-957e-397aa738ad11",
   "metadata": {
    "jupyter": {
     "source_hidden": true
    }
   },
   "outputs": [],
   "source": []
  },
  {
   "cell_type": "code",
   "execution_count": null,
   "id": "1c643cc6-4b00-4a32-917c-e319625db19d",
   "metadata": {
    "jupyter": {
     "source_hidden": true
    }
   },
   "outputs": [],
   "source": []
  },
  {
   "cell_type": "code",
   "execution_count": null,
   "id": "a44c1490-804d-4413-aac6-c410eb2064ec",
   "metadata": {
    "jupyter": {
     "source_hidden": true
    }
   },
   "outputs": [],
   "source": []
  },
  {
   "cell_type": "code",
   "execution_count": null,
   "id": "3d10ee3a-314d-4958-a6e0-dce828a43528",
   "metadata": {
    "jupyter": {
     "source_hidden": true
    }
   },
   "outputs": [],
   "source": [
    "# EXTRA"
   ]
  },
  {
   "cell_type": "code",
   "execution_count": null,
   "id": "1bb21e68-d96e-4901-a016-28b7c681566d",
   "metadata": {
    "jupyter": {
     "source_hidden": true
    }
   },
   "outputs": [],
   "source": [
    "# EXTRA assignement: user enter his DOB and proogram calculates his year when he turn 100\n",
    "name = input(\"Enter your name: \")\n",
    "age  = input(\"Enter your DOB (yyyy-mm-dd): \") # 2000-01-23\n",
    "yyyy = age[:4]\n",
    "\n",
    "current_year = 2025\n",
    "year_of_birth = int(yyyy)\n",
    "age = current_year - year_of_birth\n",
    "\n",
    "if age < 100:\n",
    "    year_when_100 = current_year + (100 - age)\n",
    "    print(f\"Hello {name}! You will turn 100 years old in the year {year_when_100}.\")\n",
    "elif age == 100:\n",
    "    print(f\"Wow {name}, you're already 100 years old this year!\")\n",
    "else:\n",
    "    print(f\"Hey {name}, you turned 100 years old {age - 100} years ago.\")"
   ]
  },
  {
   "cell_type": "code",
   "execution_count": null,
   "id": "41d6c1bc-6493-40c1-9653-82dd7088c51d",
   "metadata": {
    "jupyter": {
     "source_hidden": true
    }
   },
   "outputs": [],
   "source": []
  },
  {
   "cell_type": "code",
   "execution_count": null,
   "id": "e74b1228-c4f5-458e-8fb4-ed17c78d7cb9",
   "metadata": {
    "jupyter": {
     "source_hidden": true
    }
   },
   "outputs": [],
   "source": [
    "#STEP1: Program to display a msg depending on his age: uses if-elif-else condition\n",
    "\n",
    "name = input(\"Enter your name: \")\n",
    "age  = input(\"Enter your age: \")\n",
    "age  = int(age)\n",
    "\n",
    "if   age < 100:\n",
    "    print(f\"Hello {name}! You are younger than 100 year old man.\")\n",
    "    \n",
    "elif age == 100:\n",
    "    print(f\"Wow {name}, you're exactly 100 years old this year!\")\n",
    "    \n",
    "else:\n",
    "    print(f\"Hey {name}, you are older than 100 years old man.\")"
   ]
  },
  {
   "cell_type": "code",
   "execution_count": null,
   "id": "19e325a4-4992-41fb-88a5-705e43529995",
   "metadata": {
    "jupyter": {
     "source_hidden": true
    }
   },
   "outputs": [],
   "source": [
    "#STEP2: Lets do some computation: if-elif-else\n",
    "# Program to calculate the year user turns 100\n",
    "\n",
    "name = input(\"Enter your name: \")\n",
    "age  = input(\"Enter your age: \")\n",
    "age  = int(age)\n",
    "\n",
    "current_year = 2025\n",
    "\n",
    "if age < 100:\n",
    "    year_when_100 = current_year + (100 - age)\n",
    "    print(f\"Hello {name}! You will turn 100 years old in the year {year_when_100}.\")\n",
    "    \n",
    "elif age == 100:\n",
    "    print(f\"Wow {name}, you're already 100 years old this year!\")\n",
    "    \n",
    "else:\n",
    "    print(f\"Hey {name}, you turned 100 years old {age - 100} years ago.\")"
   ]
  },
  {
   "cell_type": "code",
   "execution_count": null,
   "id": "a5ad8798-fe1f-49b6-bf34-28aedd3b4206",
   "metadata": {
    "jupyter": {
     "source_hidden": true
    }
   },
   "outputs": [],
   "source": []
  },
  {
   "cell_type": "code",
   "execution_count": null,
   "id": "3baa4ac9-b980-4a80-b7c2-0ebc93f6b24e",
   "metadata": {
    "jupyter": {
     "source_hidden": true
    }
   },
   "outputs": [],
   "source": [
    "#e.g.2: Ask user whether he wants to continue and check that he enter only yes and no.\n",
    "\n",
    "user_input = input(\"Do you want to continue? (yes/no): \").strip().lower()\n",
    "# print(user_input)\n",
    "\n",
    "if user_input == \"yes\" or user_input == \"no\":  # Check if the input is valid\n",
    "    print(\"Thank you for your response.\")\n",
    "    \n",
    "else:\n",
    "    print(\"Invalid input. Please enter 'yes' or 'no'.\")"
   ]
  },
  {
   "cell_type": "code",
   "execution_count": null,
   "id": "e0b2f48f-7ead-4fcf-bbfd-cd1c8385824d",
   "metadata": {
    "jupyter": {
     "source_hidden": true
    }
   },
   "outputs": [],
   "source": [
    "#Application: e.g.2: Give 20% discount if member is gold and purchase amount > 100\n",
    "membership_status = \"gold\"\n",
    "purchase_amount   = 90 # change this to 90 and 900\n",
    "\n",
    "if membership_status == \"gold\" and purchase_amount > 100:  # Check if both conditions are met\n",
    "    print(\"You are eligible for a 20% discount!\")\n",
    "    \n",
    "else:\n",
    "    print(\"You are not eligible for a discount.\")"
   ]
  }
 ],
 "metadata": {
  "kernelspec": {
   "display_name": "Python 3 (ipykernel)",
   "language": "python",
   "name": "python3"
  },
  "language_info": {
   "codemirror_mode": {
    "name": "ipython",
    "version": 3
   },
   "file_extension": ".py",
   "mimetype": "text/x-python",
   "name": "python",
   "nbconvert_exporter": "python",
   "pygments_lexer": "ipython3",
   "version": "3.9.9"
  }
 },
 "nbformat": 4,
 "nbformat_minor": 5
}
