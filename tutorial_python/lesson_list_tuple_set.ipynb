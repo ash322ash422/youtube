{
 "cells": [
  {
   "cell_type": "markdown",
   "id": "62308a65",
   "metadata": {},
   "source": [
    "# Container for data: List, Tuple, Set\n",
    " \n",
    "### List:\n",
    "- A list is an **ordered, mutable** collection of elements. (**Ordered** means elements in the collection maintain the order in which they were added.)\n",
    "- Can contain **duplicates**\n",
    "- Are **heterogenous** (can contain elements of different kind like int, str, boolean, etc.)\n",
    "- Supports indexing and slicing (my_list[0], my_list[1:3])\n",
    "\n",
    "##### Use Case:\n",
    "```\n",
    "- When you need to preserve order of elements.\n",
    "- When the collection will change frequently (e.g., insert, update, delete).\n",
    "- Best for general-purpose storage and manipulation.\n",
    "```\n",
    "\n",
    "###  Tuple:\n",
    "- A tuple is an **ordered, immutable** collection of elements.\n",
    "- Can contain **duplicates**\n",
    "- Are **heterogenous** (can contain elements of different kind like int, str, boolean, etc.)\n",
    "- Supports indexing and slicing (my_tuple[0], my_tuple[1:3])\n",
    "- Slightly faster than list and **ideal when data remains fixed**. That is you do not have to perform many insert or update operation.\n",
    "\n",
    "#### Use Case:\n",
    "```\n",
    "- When you want to create a fixed, constant data structure.\n",
    "- Often used for read-only or hashable data (e.g., keys in dictionaries {'shamlodhiya': 62, 'ashwani': 87}).\n",
    "- Ideal when data should not be changed accidentally.\n",
    "```\n",
    "\n",
    "### Sets:\n",
    "- A set is an **unordered, mutable** collection of elements.\n",
    "- Contains **no duplicates**. In other words, it contains **unique elements**. \n",
    "- A set can contain elements of different data types as long as elements are str, int, float or bool. A set cannot contain list or dict.\n",
    "- Does not support indexing or slicing\n",
    "\n",
    "#### Use Case:\n",
    "```\n",
    "- When you need to eliminate duplicates.\n",
    "- When doing set operations like union, intersection, difference.\n",
    "- Useful for membership testing (if x in my_set) — fast lookup.\n",
    "```\n",
    "\n",
    "\n",
    "## SUMMARY\n",
    "```\n",
    "\n",
    "| Feature           | List                             | Tuple                    | Set                          |\n",
    "| ----------------- | -------------------------------- | ------------------------ | ---------------------------- |\n",
    "| Ordered           | Yes                              | Yes                      | No                           |\n",
    "| Mutable           | Yes                              | No                       | Yes                          |\n",
    "| Allows Duplicates | Yes                              | Yes                      | No                           |\n",
    "| Indexable         | Yes                              | Yes                      | No                           |\n",
    "| Use Case          | General purpose, changeable data | Fixed data, hashable use | Unique elements, fast lookup |\n",
    "-------------------------------------------------------------------------------------------------------------------\n",
    "```\n"
   ]
  },
  {
   "cell_type": "markdown",
   "id": "6cf3b69c",
   "metadata": {},
   "source": []
  },
  {
   "cell_type": "code",
   "execution_count": 1,
   "id": "d1810f59-8420-4998-97bc-664946136797",
   "metadata": {},
   "outputs": [
    {
     "name": "stdout",
     "output_type": "stream",
     "text": [
      "['Tom', 'Ashwani', 'Patel', 'Shamlodhiya', 'Ashwani', 'Tom', 'Ashwani']\n",
      "<class 'list'>\n"
     ]
    }
   ],
   "source": [
    "# list:   names = []\n",
    "# tuple:  names = ()\n",
    "# set:    names = {}\n",
    "\n",
    "# list: Output preserves the order. Can contain duplicates\n",
    "names = ['Tom', 'Ashwani', 'Patel', 'Shamlodhiya', 'Ashwani', 'Tom', 'Ashwani'] \n",
    "print(names)\n",
    "print(type(names))"
   ]
  },
  {
   "cell_type": "code",
   "execution_count": 2,
   "id": "b4a54bf3-2f7c-4e16-8911-198f0ddc5524",
   "metadata": {},
   "outputs": [
    {
     "name": "stdout",
     "output_type": "stream",
     "text": [
      "('Tom', 'Ashwani', 'Patel', 'Shamlodhiya', 'Ashwani', 'Tom', 'Ashwani')\n",
      "<class 'tuple'>\n"
     ]
    }
   ],
   "source": [
    "# tuple: Output preserves the order. Can contain duplicates\n",
    "names = ('Tom', 'Ashwani', 'Patel', 'Shamlodhiya', 'Ashwani', 'Tom', 'Ashwani')\n",
    "print(names)\n",
    "print(type(names))"
   ]
  },
  {
   "cell_type": "code",
   "execution_count": 5,
   "id": "1965eeb3-86e5-455a-a5ac-718bfa7740bb",
   "metadata": {},
   "outputs": [
    {
     "name": "stdout",
     "output_type": "stream",
     "text": [
      "{'Patel', 'Tom', 'Shamlodhiya', 'Ashwani'}\n",
      "<class 'set'>\n"
     ]
    }
   ],
   "source": [
    "# set: Output does not preserve the order. Duplicates are removed\n",
    "names = {'Tom', 'Ashwani', 'Patel', 'Shamlodhiya', 'Ashwani', 'Tom', 'Ashwani'}\n",
    "# names = {'Tom', 'Ashwani', 'Patel', 'Shamlodhiya'}\n",
    "\n",
    "print(names) \n",
    "print(type(names))\n"
   ]
  },
  {
   "cell_type": "code",
   "execution_count": 6,
   "id": "3619c4cb-2e01-476c-8347-9a64b0e8f307",
   "metadata": {},
   "outputs": [
    {
     "name": "stdout",
     "output_type": "stream",
     "text": [
      "[1, 3.2, [20, 34, 'apple'], (1, 3, 4), {3, 5}]\n"
     ]
    }
   ],
   "source": [
    "# heterogenous:\n",
    "\n",
    "# list of int, float, list, tuple, set\n",
    "l = [ 1, 3.2, [20, 34, \"apple\"], (1, 3, 4), {3, 5} ] \n",
    "print(l)\n"
   ]
  },
  {
   "cell_type": "code",
   "execution_count": 7,
   "id": "f5fc84b5-daaf-4e45-8d28-b6da6b747ffd",
   "metadata": {},
   "outputs": [
    {
     "name": "stdout",
     "output_type": "stream",
     "text": [
      "(1, 3.2, [20, 34, 'apple'], (1, 3, 4), {3, 5})\n"
     ]
    }
   ],
   "source": [
    "# tuple of int, float, list, tuple, set\n",
    "t = ( 1, 3.2, [20, 34, \"apple\"], (1, 3, 4), {3, 5} )\n",
    "print(t)"
   ]
  },
  {
   "cell_type": "code",
   "execution_count": 8,
   "id": "bb59c2b5-1eff-4ee9-8e30-fb549a21e5cd",
   "metadata": {},
   "outputs": [
    {
     "name": "stdout",
     "output_type": "stream",
     "text": [
      "{'apple', 3.2, 1}\n"
     ]
    }
   ],
   "source": [
    "# set of int, float, bool, str\n",
    "s = { 1, 3.2, True, \"apple\" } \n",
    "print(s)"
   ]
  },
  {
   "cell_type": "code",
   "execution_count": 10,
   "id": "b0daf4a6-4e3f-49a4-8ca9-276999b3ef6f",
   "metadata": {},
   "outputs": [
    {
     "ename": "TypeError",
     "evalue": "unhashable type: 'set'",
     "output_type": "error",
     "traceback": [
      "\u001b[1;31m---------------------------------------------------------------------------\u001b[0m",
      "\u001b[1;31mTypeError\u001b[0m                                 Traceback (most recent call last)",
      "Cell \u001b[1;32mIn[10], line 3\u001b[0m\n\u001b[0;32m      1\u001b[0m \u001b[38;5;66;03m# ERROR: set of list, set\u001b[39;00m\n\u001b[0;32m      2\u001b[0m \u001b[38;5;66;03m# s = { 1, 3.2, [2, 4] } # ERROR\u001b[39;00m\n\u001b[1;32m----> 3\u001b[0m s \u001b[38;5;241m=\u001b[39m { \u001b[38;5;241m1\u001b[39m, \u001b[38;5;241m3.2\u001b[39m, {\u001b[38;5;241m2\u001b[39m, \u001b[38;5;241m4\u001b[39m} } \u001b[38;5;66;03m# ERROR\u001b[39;00m\n\u001b[0;32m      4\u001b[0m \u001b[38;5;28mprint\u001b[39m(s)\n",
      "\u001b[1;31mTypeError\u001b[0m: unhashable type: 'set'"
     ]
    }
   ],
   "source": [
    "\n",
    "# ERROR: set of list, set\n",
    "# s = { 1, 3.2, [2, 4] } # ERROR\n",
    "# s = { 1, 3.2, {2, 4} } # ERROR\n",
    "# print(s)"
   ]
  },
  {
   "cell_type": "code",
   "execution_count": 15,
   "id": "a81a4020-3a3d-45b7-8085-c533ec62837e",
   "metadata": {},
   "outputs": [
    {
     "name": "stdout",
     "output_type": "stream",
     "text": [
      "10\n",
      "30\n",
      "70\n",
      "50\n",
      "60\n"
     ]
    }
   ],
   "source": [
    "# Access elements\n",
    "\n",
    "# list: index starts with 0\n",
    "numbers = [10, 30, 60, 70, 50, 30, 60, 50] # age, income\n",
    "\n",
    "print(numbers[0])   # prints element at index 0 : 10\n",
    "print(numbers[1])   # prints element at index 1 : 30\n",
    "print(numbers[3])   # prints element at index 3 : 70\n",
    "\n",
    "print(numbers[-1])  # access last number 50\n",
    "print(numbers[-2])  # access 2nd last number 60\n"
   ]
  },
  {
   "cell_type": "code",
   "execution_count": 21,
   "id": "3df8f30d-dcd0-4938-b173-dfc5b083d112",
   "metadata": {},
   "outputs": [
    {
     "name": "stdout",
     "output_type": "stream",
     "text": [
      "[30, 60]\n",
      "[30, 70, 30]\n",
      "[10, 30, 60]\n",
      "[60, 70, 50, 30, 60, 50]\n",
      "[10, 60, 50, 60]\n",
      "[50, 60, 30, 50, 70, 60, 30, 10]\n"
     ]
    }
   ],
   "source": [
    "# Slicing: [start_idx: stop_idx: step_size]. \n",
    "# Default for start_idx=0, default for stop_idx=last position, default for step_size=1\n",
    "numbers = [10, 30, 60, 70, 50, 30, 60, 50] # age, income, \n",
    "\n",
    "print(numbers[1:3])  # slice from idx=1 to idx=2: [30, 60]\n",
    "print(numbers[1:7:2])  # slice from idx=1 to idx=6 with step size=2: [30, 70, 30]\n",
    "\n",
    "print(numbers[:3])   # slice first 3 elements: [10, 30, 60]\n",
    "print(numbers[2:])   # slice from index 2 to last [60, 70, 50, 30, 60, 50]\n",
    "print(numbers[::2]) # from begin to end with step size =2\n",
    "print(numbers[::-1]) # reverse"
   ]
  },
  {
   "cell_type": "code",
   "execution_count": 22,
   "id": "70a49fb7-ae2e-4f17-9807-5ac9c2fd9a4c",
   "metadata": {},
   "outputs": [
    {
     "name": "stdout",
     "output_type": "stream",
     "text": [
      "10\n",
      "30\n",
      "70\n",
      "50\n",
      "1111111111111111111111111111\n",
      "\n"
     ]
    }
   ],
   "source": [
    "# tuple: index starts with 0\n",
    "numbers = (10, 30, 60, 70, 50, 30, 60, 50) # age, income, houses, size of plot,etc\n",
    "print(numbers[0])   # prints element at index 0 : 10\n",
    "print(numbers[1])   # prints element at index 1 : 30\n",
    "print(numbers[3])   # prints element at index 3 : 70\n",
    "\n",
    "print(numbers[-1])  # access last number 50\n",
    "print(\"1111111111111111111111111111\\n\")"
   ]
  },
  {
   "cell_type": "code",
   "execution_count": 23,
   "id": "1beebe4d-31b5-4f85-b219-8e750eb80a93",
   "metadata": {},
   "outputs": [
    {
     "name": "stdout",
     "output_type": "stream",
     "text": [
      "(30, 60)\n",
      "(30, 70, 30)\n",
      "(10, 30, 60)\n",
      "(60, 70, 50, 30, 60, 50)\n",
      "(10, 60, 50, 60)\n",
      "(50, 60, 30, 50, 70, 60, 30, 10)\n"
     ]
    }
   ],
   "source": [
    "# Slicing: [start_idx: stop_idx: step_size]. \n",
    "# Default for start_idx=0, default for stop_idx=last position, default for step_size=1\n",
    "numbers = (10, 30, 60, 70, 50, 30, 60, 50) # age, income,\n",
    "\n",
    "print(numbers[1:3])  # slice from idx=1 to idx=3: [30, 60]\n",
    "print(numbers[1:7:2])  # slice from idx=1 to idx=6 with step size=2: [30, 70, 30]\n",
    "\n",
    "print(numbers[:3])   # slice first 3 elements: [10, 30, 60]\n",
    "print(numbers[2:])   # slice from index 2 to last [60, 70, 50, 30, 60, 50]\n",
    "print(numbers[::2]) # from begin to end with step size =2\n",
    "print(numbers[::-1]) # reverse"
   ]
  },
  {
   "cell_type": "code",
   "execution_count": 26,
   "id": "5083adbe-cb30-4608-b4b5-0be835b1e53d",
   "metadata": {},
   "outputs": [
    {
     "name": "stdout",
     "output_type": "stream",
     "text": [
      "{50, 70, 10, 60, 30}\n"
     ]
    }
   ],
   "source": [
    "# set does not support indexing\n",
    "numbers = {10, 30, 60, 70, 50, 30, 60, 50 } # age, income, \n",
    "print(numbers)\n",
    "# print(numbers[0]) # ERROR"
   ]
  },
  {
   "cell_type": "code",
   "execution_count": null,
   "id": "fa1288ef-b11f-4d42-9d7b-f27a71e51d5d",
   "metadata": {},
   "outputs": [],
   "source": []
  },
  {
   "cell_type": "code",
   "execution_count": 30,
   "id": "e909d559-00b0-4f01-a319-2e0e468fcd03",
   "metadata": {},
   "outputs": [
    {
     "name": "stdout",
     "output_type": "stream",
     "text": [
      "numbers:              [10, 20, 60, 10, 20, 30]\n",
      "mutablility: numbers: [10, 20, 25, 10, 20, 30]\n",
      "numbers: (10, 20, 60, 10, 20, 30)\n"
     ]
    }
   ],
   "source": [
    "# list and set are mutable, tuple is not mutable\n",
    "\n",
    "## list\n",
    "numbers = [10, 20, 60, 10, 20, 30]\n",
    "print(f\"numbers:              {numbers}\")\n",
    "numbers[2] = 25\n",
    "print(f\"mutablility: numbers: {numbers}\")\n",
    "\n",
    "## tuple\n",
    "numbers = (10, 20, 60, 10, 20, 30)\n",
    "print(f\"numbers: {numbers}\")\n",
    "# numbers[2] = 25 # ERROR\n",
    "\n",
    "## set elements can be changed but not through indexing. Explained later below on how to do this. "
   ]
  },
  {
   "cell_type": "code",
   "execution_count": null,
   "id": "d54c422c-cb68-463f-8f28-6eca6e6e2fd0",
   "metadata": {},
   "outputs": [],
   "source": []
  },
  {
   "cell_type": "code",
   "execution_count": 33,
   "id": "ce86eb78-d15c-4a9e-9aae-fdeca56c4f4c",
   "metadata": {},
   "outputs": [
    {
     "name": "stdout",
     "output_type": "stream",
     "text": [
      "['__add__', '__class__', '__class_getitem__', '__contains__', '__delattr__', '__delitem__', '__dir__', '__doc__', '__eq__', '__format__', '__ge__', '__getattribute__', '__getitem__', '__gt__', '__hash__', '__iadd__', '__imul__', '__init__', '__init_subclass__', '__iter__', '__le__', '__len__', '__lt__', '__mul__', '__ne__', '__new__', '__reduce__', '__reduce_ex__', '__repr__', '__reversed__', '__rmul__', '__setattr__', '__setitem__', '__sizeof__', '__str__', '__subclasshook__', 'append', 'clear', 'copy', 'count', 'extend', 'index', 'insert', 'pop', 'remove', 'reverse', 'sort']\n"
     ]
    }
   ],
   "source": [
    "# methods of list\n",
    "numbers = [10, 20, 30, 40, 50] \n",
    "print(dir(numbers))\n",
    "# print(help(numbers))\n",
    "\n",
    "# The important ones: 'append', 'clear', 'copy', 'count', 'extend', 'index', 'insert', 'pop', 'remove', 'reverse', 'sort'"
   ]
  },
  {
   "cell_type": "code",
   "execution_count": 38,
   "id": "2b830aa9-36c5-4d94-b1fd-ca61305ac8cd",
   "metadata": {},
   "outputs": [
    {
     "name": "stdout",
     "output_type": "stream",
     "text": [
      "numbers after append: [10, 20, 30, 40, 50, 17]\n",
      "numbers after insert: [10, 20, 30, 25, 40, 50]\n",
      "numbers after remove: [10, 20, 30, 40]\n",
      "numbers after pop: [10, 20, 40, 50]\n"
     ]
    }
   ],
   "source": [
    "# lets look at few of them\n",
    "\n",
    "# appended at the end\n",
    "numbers = [10, 20, 30, 40, 50]\n",
    "numbers.append(17)  # Adds 17 at the end. \n",
    "print(f\"numbers after append: {numbers}\")  \n",
    "\n",
    "# insert based on index\n",
    "numbers = [10, 20, 30, 40, 50]\n",
    "numbers.insert(3, 25)  # Insert 25 at index 3\n",
    "print(f\"numbers after insert: {numbers}\")  \n",
    "\n",
    "# remove an element based on its value\n",
    "numbers = [10, 20, 30, 40, 50]\n",
    "numbers.remove(50) # works on actual element\n",
    "print(f\"numbers after remove: {numbers}\")\n",
    "\n",
    "# remove an element based on its idx\n",
    "numbers = [10, 20, 30, 40, 50]\n",
    "numbers.pop(2) # works on actual index\n",
    "print(f\"numbers after pop: {numbers}\")"
   ]
  },
  {
   "cell_type": "code",
   "execution_count": 44,
   "id": "826cc86b-52fe-4db7-91df-c7ec45303d46",
   "metadata": {},
   "outputs": [
    {
     "name": "stdout",
     "output_type": "stream",
     "text": [
      "index: 2\n",
      "count: 3\n",
      "After sort: [-6, 10, 17, 20, 25, 30, 40]\n",
      "After reverse: [17, 40, 25, 30, 20, 10, -6]\n"
     ]
    }
   ],
   "source": [
    "# find idx of an element\n",
    "numbers = [10, 20, 30, 40, 50]\n",
    "print(f\"index: {numbers.index(30)}\")\n",
    "\n",
    "# count how many 60 are there\n",
    "numbers = [10, 20, 60, 30, 60, 40, 60]\n",
    "count = numbers.count(60) # Count all occurrences of item 60\n",
    "print(f\"count: {count}\")\n",
    "\n",
    "# Sorting\n",
    "numbers = [-6, 10, 20, 30, 25, 40, 17]\n",
    "numbers.sort()\n",
    "print(f\"After sort: {numbers}\")  \n",
    "\n",
    "# Reversing\n",
    "numbers = [-6, 10, 20, 30, 25, 40, 17]\n",
    "numbers.reverse()\n",
    "print(f\"After reverse: {numbers}\")  "
   ]
  },
  {
   "cell_type": "code",
   "execution_count": null,
   "id": "b930fbf3-e3ef-4b9f-a912-92f8799ae00d",
   "metadata": {},
   "outputs": [],
   "source": []
  },
  {
   "cell_type": "code",
   "execution_count": 47,
   "id": "30e03f47-a461-4663-b164-2791bc783c77",
   "metadata": {},
   "outputs": [
    {
     "name": "stdout",
     "output_type": "stream",
     "text": [
      "['__add__', '__class__', '__class_getitem__', '__contains__', '__delattr__', '__dir__', '__doc__', '__eq__', '__format__', '__ge__', '__getattribute__', '__getitem__', '__getnewargs__', '__gt__', '__hash__', '__init__', '__init_subclass__', '__iter__', '__le__', '__len__', '__lt__', '__mul__', '__ne__', '__new__', '__reduce__', '__reduce_ex__', '__repr__', '__rmul__', '__setattr__', '__sizeof__', '__str__', '__subclasshook__', 'count', 'index']\n"
     ]
    }
   ],
   "source": [
    "# methods of tuple\n",
    "numbers = (10, 20, 30, 40, 50)\n",
    "print(dir(numbers))\n",
    "# print(help(numbers))\n",
    "\n",
    "# The important ones: 'count', 'index'"
   ]
  },
  {
   "cell_type": "code",
   "execution_count": 49,
   "id": "8db5c0ab-82d5-47f9-a49c-9af3f76897d9",
   "metadata": {},
   "outputs": [
    {
     "name": "stdout",
     "output_type": "stream",
     "text": [
      "count: 3\n",
      "count: 0\n",
      "idx: 2\n"
     ]
    }
   ],
   "source": [
    "# lets look at them\n",
    "\n",
    "# count\n",
    "t = (10, 20, 60, 30, 60, 40, 60)\n",
    "count = t.count(60) # Count all occurrences of item 60\n",
    "print(f\"count: {count}\")\n",
    "\n",
    "count = t.count(600)\n",
    "print(f\"count: {count}\")\n",
    "\n",
    "# index\n",
    "t = (10, 20, 60, 30, 60, 40, 60)\n",
    "idx = t.index(60) # gets the first index\n",
    "print(f\"idx: {idx}\")"
   ]
  },
  {
   "cell_type": "code",
   "execution_count": 50,
   "id": "22462bbe-d81d-4822-b9d0-ca8c69d3b228",
   "metadata": {},
   "outputs": [
    {
     "name": "stdout",
     "output_type": "stream",
     "text": [
      "['__and__', '__class__', '__class_getitem__', '__contains__', '__delattr__', '__dir__', '__doc__', '__eq__', '__format__', '__ge__', '__getattribute__', '__gt__', '__hash__', '__iand__', '__init__', '__init_subclass__', '__ior__', '__isub__', '__iter__', '__ixor__', '__le__', '__len__', '__lt__', '__ne__', '__new__', '__or__', '__rand__', '__reduce__', '__reduce_ex__', '__repr__', '__ror__', '__rsub__', '__rxor__', '__setattr__', '__sizeof__', '__str__', '__sub__', '__subclasshook__', '__xor__', 'add', 'clear', 'copy', 'difference', 'difference_update', 'discard', 'intersection', 'intersection_update', 'isdisjoint', 'issubset', 'issuperset', 'pop', 'remove', 'symmetric_difference', 'symmetric_difference_update', 'union', 'update']\n"
     ]
    }
   ],
   "source": [
    "# methods of set\n",
    "numbers = { 10, 20, 60, 30, 60, 40, 60 }\n",
    "print(dir(numbers))\n",
    "# print(help(numbers))\n",
    "\n",
    "# The important ones: 'add', 'clear', 'copy', 'difference', 'intersection', \n",
    "# 'isdisjoint', 'issubset', 'issuperset', 'pop', 'remove', 'union', 'update'"
   ]
  },
  {
   "cell_type": "code",
   "execution_count": 51,
   "id": "890f556d-db77-4433-b22c-77177d29cd40",
   "metadata": {},
   "outputs": [
    {
     "name": "stdout",
     "output_type": "stream",
     "text": [
      "{'Sarah', 'Shamlodhiya', 'Connor', 'Wurtzberger', 'Ravinder'}\n",
      "{'Sarah', 'Shamlodhiya', 'Wurtzberger', 'Ravinder'}\n"
     ]
    }
   ],
   "source": [
    "# Let look at few of them\n",
    "\n",
    "# add and remove elements from set. Sets are mutable\n",
    "\n",
    "guests = {\"Sarah\", \"Wurtzberger\", \"Connor\", \"Shamlodhiya\"}\n",
    "\n",
    "guests.add(\"Ravinder\")  # Add a guest\n",
    "print(guests)\n",
    "\n",
    "##############\n",
    "guests.remove(\"Connor\")  # Remove a guest\n",
    "print(guests)\n"
   ]
  },
  {
   "cell_type": "code",
   "execution_count": 53,
   "id": "bf7ae8e5-ad99-485c-bd6a-2eaa21326e3e",
   "metadata": {},
   "outputs": [
    {
     "name": "stdout",
     "output_type": "stream",
     "text": [
      "union       : {'Geeta', 'Alice', 'Zena', 'Bob', 'David', 'Charlie'}\n",
      "union       : {'Geeta', 'Alice', 'Zena', 'Bob', 'David', 'Charlie'}\n",
      "intersection: {'Zena', 'Bob'}\n",
      "intersection: {'Zena', 'Bob'}\n",
      "difference1 : {'Alice', 'Charlie'}\n",
      "difference1 : {'Alice', 'Charlie'}\n",
      "difference2 : {'David', 'Geeta'}\n",
      "difference2 : {'David', 'Geeta'}\n"
     ]
    }
   ],
   "source": [
    "# Union, Intersection, Difference\n",
    "class_art = {\"Alice\", \"Bob\", \"Charlie\", \"Zena\"}\n",
    "class_gym = {\"Bob\", \"David\", \"Zena\", \"Geeta\"}\n",
    "\n",
    "# Union (All students)\n",
    "print(\"union       :\", class_art.union(class_gym))  \n",
    "print(\"union       :\", class_art | class_gym)  \n",
    "\n",
    "# Intersection (Students in both classes)\n",
    "print(\"intersection:\", class_art.intersection(class_gym))  \n",
    "print(\"intersection:\", class_art & class_gym)  \n",
    "\n",
    "# Difference (Students only in class art and not in gym class)\n",
    "print(\"difference1 :\", class_art.difference(class_gym))\n",
    "print(\"difference1 :\", class_art - class_gym)\n",
    "\n",
    "# Difference (Students only in class gym and not in art class)\n",
    "print(\"difference2 :\", class_gym.difference(class_art))  \n",
    "print(\"difference2 :\", class_gym - class_art)  "
   ]
  },
  {
   "cell_type": "code",
   "execution_count": 54,
   "id": "811f34fc-1432-48b9-b8dc-3ffffd3380d3",
   "metadata": {},
   "outputs": [
    {
     "name": "stdout",
     "output_type": "stream",
     "text": [
      "True\n",
      "False\n"
     ]
    }
   ],
   "source": [
    "# isdisjoint\n",
    "a = {1, 2, 3}\n",
    "b = {4, 5, 6}\n",
    "c = {2, 4}\n",
    "\n",
    "print(a.isdisjoint(b))  # True -> no common elements\n",
    "print(a.isdisjoint(c))  # False -> 2 is common"
   ]
  },
  {
   "cell_type": "code",
   "execution_count": 55,
   "id": "db5cf943-abd5-411e-a6d2-5308975dcd46",
   "metadata": {},
   "outputs": [
    {
     "name": "stdout",
     "output_type": "stream",
     "text": [
      "True\n",
      "True\n",
      "False\n"
     ]
    }
   ],
   "source": [
    "# issubset\n",
    "a = {1, 2, 3}\n",
    "b = {1, 2}\n",
    "c = {1, 2, 3, 4}\n",
    "\n",
    "print(b.issubset(a))  # True -> b is subset of a\n",
    "print(a.issubset(c))  # True -> all elements of a are in c\n",
    "print(c.issubset(a))  # False -> 4 is not in a"
   ]
  },
  {
   "cell_type": "code",
   "execution_count": 57,
   "id": "468b8815-7779-47e6-bb6d-dc4e7188a515",
   "metadata": {},
   "outputs": [
    {
     "name": "stdout",
     "output_type": "stream",
     "text": [
      "True\n"
     ]
    }
   ],
   "source": [
    "# check if element is in a list\n",
    "numbers = [10, 20, 30, 40, 50]\n",
    "\n",
    "b = 40 in numbers\n",
    "print(b)"
   ]
  },
  {
   "cell_type": "code",
   "execution_count": 58,
   "id": "7c491df0-b447-4775-a35d-c724a2afe7c0",
   "metadata": {},
   "outputs": [
    {
     "name": "stdout",
     "output_type": "stream",
     "text": [
      "False\n"
     ]
    }
   ],
   "source": [
    "# check if element is in a tuple\n",
    "numbers = (10, 20, 30, 40, 50)\n",
    "\n",
    "b = 401 in numbers\n",
    "print(b)"
   ]
  },
  {
   "cell_type": "code",
   "execution_count": 60,
   "id": "cd1e5222-2a06-4381-9399-e61af70920b5",
   "metadata": {},
   "outputs": [
    {
     "name": "stdout",
     "output_type": "stream",
     "text": [
      "False\n"
     ]
    }
   ],
   "source": [
    "# check if element is in a set\n",
    "numbers = { 10, 20, 30, 40, 50 }\n",
    "\n",
    "b = 401 in numbers\n",
    "print(b)"
   ]
  },
  {
   "cell_type": "code",
   "execution_count": null,
   "id": "d87b9a63-1b2b-4622-8033-f6f9b44f7de4",
   "metadata": {},
   "outputs": [],
   "source": [
    "# min, max, sum, len"
   ]
  },
  {
   "cell_type": "code",
   "execution_count": 61,
   "id": "a1bf3843-8c86-49fb-94b4-f470914e642f",
   "metadata": {},
   "outputs": [
    {
     "name": "stdout",
     "output_type": "stream",
     "text": [
      "10\n",
      "50\n",
      "170\n",
      "6\n",
      "28.333333333333332\n"
     ]
    }
   ],
   "source": [
    "# list\n",
    "numbers = [30, 20, 40, 50, 10, 20]\n",
    "\n",
    "print(min(numbers))\n",
    "print(max(numbers))\n",
    "print(sum(numbers))\n",
    "print(len(numbers))\n",
    "\n",
    "# a simple application:\n",
    "average = sum(numbers) / len(numbers)\n",
    "print(average)"
   ]
  },
  {
   "cell_type": "code",
   "execution_count": 62,
   "id": "9181d6e0-6408-423c-a3b5-af32a0726f70",
   "metadata": {},
   "outputs": [
    {
     "name": "stdout",
     "output_type": "stream",
     "text": [
      "10\n",
      "50\n",
      "170\n",
      "6\n",
      "28.333333333333332\n"
     ]
    }
   ],
   "source": [
    "# tuple\n",
    "numbers = (30, 20, 40, 50, 10, 20)\n",
    "\n",
    "print(min(numbers))\n",
    "print(max(numbers))\n",
    "print(sum(numbers))\n",
    "print(len(numbers))\n",
    "\n",
    "# a simple application:\n",
    "average = sum(numbers) / len(numbers)\n",
    "print(average)"
   ]
  },
  {
   "cell_type": "code",
   "execution_count": 63,
   "id": "9d55d2c8-b029-4bd2-af6e-c188b3709da2",
   "metadata": {},
   "outputs": [
    {
     "name": "stdout",
     "output_type": "stream",
     "text": [
      "numbers: {50, 20, 40, 10, 30}\n",
      "10\n",
      "50\n",
      "150\n",
      "5\n",
      "30.0\n"
     ]
    }
   ],
   "source": [
    "# set\n",
    "numbers = { 30, 20, 40, 50, 10, 20 }\n",
    "print(f\"numbers: {numbers}\")\n",
    "\n",
    "print(min(numbers))\n",
    "print(max(numbers))\n",
    "print(sum(numbers))\n",
    "print(len(numbers))\n",
    "\n",
    "# a simple application:\n",
    "average = sum(numbers) / len(numbers)\n",
    "print(average)"
   ]
  },
  {
   "cell_type": "code",
   "execution_count": null,
   "id": "45f2f04c-a519-49cd-aabe-b188817a4d5d",
   "metadata": {},
   "outputs": [],
   "source": []
  }
 ],
 "metadata": {
  "kernelspec": {
   "display_name": ".venv",
   "language": "python",
   "name": "python3"
  },
  "language_info": {
   "codemirror_mode": {
    "name": "ipython",
    "version": 3
   },
   "file_extension": ".py",
   "mimetype": "text/x-python",
   "name": "python",
   "nbconvert_exporter": "python",
   "pygments_lexer": "ipython3",
   "version": "3.11.2"
  }
 },
 "nbformat": 4,
 "nbformat_minor": 5
}
