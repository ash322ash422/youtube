{
 "cells": [
  {
   "cell_type": "code",
   "execution_count": 1,
   "id": "2a1ca30d-d10e-4d65-8c8c-b27992791c6b",
   "metadata": {},
   "outputs": [
    {
     "name": "stdout",
     "output_type": "stream",
     "text": [
      "[10, 20, 30, 40, 50, 20, 30]\n",
      "<class 'list'>\n"
     ]
    }
   ],
   "source": [
    "# List declaration\n",
    "age = [10, 20, 30, 40, 50, 20, 30]\n",
    "\n",
    "print(age)\n",
    "print(type(age))"
   ]
  },
  {
   "cell_type": "code",
   "execution_count": 7,
   "id": "1c09a115-0449-499b-83d2-57d90cd5ce19",
   "metadata": {},
   "outputs": [
    {
     "name": "stdout",
     "output_type": "stream",
     "text": [
      "[]\n",
      "['apple', 'banana', 'cucumber']\n",
      "[True, True, False]\n",
      "[20, 42, 43.2, 'apple']\n",
      "[1, 3.2, [20, 34, 'apple'], [1, 3, 4]]\n",
      "[1, 3, '6', (3+7j), True, [1, 2, 6], [1, [3, True]]]\n"
     ]
    }
   ],
   "source": [
    "# what types of elements in list ?\n",
    "l = [] # empty list\n",
    "print(l)\n",
    "\n",
    "l = [\"apple\", \"banana\",\"cucumber\"] # list contains elements that are all strings\n",
    "print(l)\n",
    "\n",
    "l = [True, True, False] # all elements are Boolean \n",
    "print(l)\n",
    "\n",
    "l = [20, 42, 43.2, \"apple\"] # list of integers, float, strings\n",
    "print(l)\n",
    "\n",
    "l = [ 1, 3.2, [20, 34, \"apple\"], [1, 3, 4] ] # list of int, float, list\n",
    "print(l)\n",
    "\n",
    "fancy_l = [1, 3, '6', 3+7j, True, [1,2,6], [1, [3, True]] ]\n",
    "print(fancy_l)"
   ]
  },
  {
   "cell_type": "code",
   "execution_count": 12,
   "id": "20861265-7e75-4f30-ba00-737c8c5499c7",
   "metadata": {},
   "outputs": [
    {
     "name": "stdout",
     "output_type": "stream",
     "text": [
      "10\n",
      "30\n",
      "70\n",
      "50\n"
     ]
    }
   ],
   "source": [
    "numbers = [10, 30, 60, 70, 50] # age, income, houses, size of plot,etc\n",
    "\n",
    "# Accessing elements: index starts with 0\n",
    "print(numbers[0])   # prints element at index 0 : 10\n",
    "print(numbers[1])   # prints element at index 1 : 30\n",
    "print(numbers[3])   # prints element at index 3 : 70\n",
    "\n",
    "print(numbers[-1])  # access last number 50\n"
   ]
  },
  {
   "cell_type": "code",
   "execution_count": 17,
   "id": "85fb95d5-65cb-4e32-9ee6-f44c37b2e5fc",
   "metadata": {},
   "outputs": [
    {
     "name": "stdout",
     "output_type": "stream",
     "text": [
      "[30, 60]\n",
      "[10, 30, 60]\n",
      "[60, 70, 50]\n",
      "[10, 60, 50]\n",
      "[50, 70, 60, 30, 10]\n"
     ]
    }
   ],
   "source": [
    "# Slicing\n",
    "numbers = [10, 30, 60, 70, 50]\n",
    "\n",
    "print(numbers[1:3])  # slice from idx=1 to idx=3: [30, 60]\n",
    "print(numbers[:3])   # slice [10, 30, 60]\n",
    "print(numbers[2:])   # slice from index 2 to last [60, 70, 50]\n",
    "print(numbers[::2]) # from begin to end with step size =2\n",
    "print(numbers[::-1]) # reverse\n",
    "# print(\"222222222222222222222222222222\\n\")"
   ]
  },
  {
   "cell_type": "code",
   "execution_count": null,
   "id": "a43ae4ed-3f1f-4131-be16-f8d503a3f52c",
   "metadata": {},
   "outputs": [],
   "source": []
  },
  {
   "cell_type": "code",
   "execution_count": 19,
   "id": "fbaf5caa-1556-4a7f-a1da-eadb35f90f7b",
   "metadata": {},
   "outputs": [
    {
     "name": "stdout",
     "output_type": "stream",
     "text": [
      "numbers after append: [10, 20, 30, 40, 50, 17]\n",
      "numbers after insert: [10, 20, 30, 25, 40, 50]\n"
     ]
    }
   ],
   "source": [
    "# List modification\n",
    "\n",
    "# appended at the end\n",
    "numbers = [10, 20, 30, 40, 50]\n",
    "numbers.append(17)  # Adds 17 at the end. NOTE: Try appending string, list, empty string, etc\n",
    "print(f\"numbers after append: {numbers}\")  \n",
    "\n",
    "# insert based on index\n",
    "numbers = [10, 20, 30, 40, 50]\n",
    "numbers.insert(3, 25)  # Insert 25 at index 3\n",
    "print(f\"numbers after insert: {numbers}\")  "
   ]
  },
  {
   "cell_type": "code",
   "execution_count": null,
   "id": "e6d5e376-e714-4afe-afec-725850361eaf",
   "metadata": {},
   "outputs": [],
   "source": []
  },
  {
   "cell_type": "code",
   "execution_count": 21,
   "id": "5f73fb8c-975c-45b1-9977-82a5122894a5",
   "metadata": {},
   "outputs": [
    {
     "name": "stdout",
     "output_type": "stream",
     "text": [
      "numbers after remove: [10, 20, 30, 40]\n",
      "numbers after pop: [10, 20, 40, 50]\n"
     ]
    }
   ],
   "source": [
    "# remove an element based on its value\n",
    "numbers = [10, 20, 30, 40, 50]\n",
    "numbers.remove(50) # works on actual element\n",
    "print(f\"numbers after remove: {numbers}\")\n",
    "\n",
    "# remove an element based on its idx\n",
    "numbers = [10, 20, 30, 40, 50]\n",
    "numbers.pop(2) # works on actual index\n",
    "print(f\"numbers after pop: {numbers}\")\n"
   ]
  },
  {
   "cell_type": "code",
   "execution_count": 22,
   "id": "4973ea63-0357-4020-9a41-fd15e13e1626",
   "metadata": {},
   "outputs": [
    {
     "name": "stdout",
     "output_type": "stream",
     "text": [
      "mutablility: numbers: [10, 20, 25, 40, 50]\n"
     ]
    }
   ],
   "source": [
    "## list is mutable\n",
    "numbers = [10, 20, 30, 40, 50]\n",
    "numbers[2] = 25\n",
    "print(f\"mutablility: numbers: {numbers}\")"
   ]
  },
  {
   "cell_type": "code",
   "execution_count": null,
   "id": "aca830b8-21e7-4256-a882-0c6ad5de1e8c",
   "metadata": {},
   "outputs": [],
   "source": []
  },
  {
   "cell_type": "code",
   "execution_count": 24,
   "id": "083e7795-71d4-4de1-809f-af2f5fc72925",
   "metadata": {},
   "outputs": [
    {
     "name": "stdout",
     "output_type": "stream",
     "text": [
      "['apple', 'banana', ['cherry', 'date']]\n",
      "3\n",
      "##################\n",
      "['apple', 'banana', 'cherry', 'date']\n",
      "4\n"
     ]
    }
   ],
   "source": [
    "# difference between  append and extend\n",
    "fruits     = ['apple', 'banana']\n",
    "fruits_new = ['cherry', 'date']\n",
    "fruits.append(fruits_new)\n",
    "print(fruits)\n",
    "print(len(fruits))\n",
    "print(\"##################\")\n",
    "\n",
    "fruits     = ['apple', 'banana']\n",
    "fruits_new = ['cherry', 'date']\n",
    "fruits.extend(fruits_new) # extend unpacks the list\n",
    "print(fruits)\n",
    "print(len(fruits))"
   ]
  },
  {
   "cell_type": "code",
   "execution_count": null,
   "id": "8eb38d2e-2b1b-4ceb-9c77-82835463bc52",
   "metadata": {},
   "outputs": [],
   "source": []
  },
  {
   "cell_type": "code",
   "execution_count": 26,
   "id": "51613a3d-3f6b-43b8-928e-c2186195d1ce",
   "metadata": {},
   "outputs": [
    {
     "name": "stdout",
     "output_type": "stream",
     "text": [
      "After sort: [-6, 10, 17, 20, 25, 30, 40]\n",
      "After reverse: [17, 40, 25, 30, 20, 10, -6]\n"
     ]
    }
   ],
   "source": [
    "numbers = [-6, 10, 20, 30, 25, 40, 17]\n",
    "# Sorting\n",
    "numbers.sort()\n",
    "print(f\"After sort: {numbers}\")  \n",
    "\n",
    "numbers = [-6, 10, 20, 30, 25, 40, 17]\n",
    "# Reversing\n",
    "numbers.reverse()\n",
    "print(f\"After reverse: {numbers}\")  "
   ]
  },
  {
   "cell_type": "code",
   "execution_count": null,
   "id": "b887af61-91b5-436f-9544-7097d3b3644f",
   "metadata": {},
   "outputs": [],
   "source": []
  },
  {
   "cell_type": "code",
   "execution_count": 29,
   "id": "b7d2812f-7a56-486c-a730-ba606a2fc2b3",
   "metadata": {},
   "outputs": [
    {
     "name": "stdout",
     "output_type": "stream",
     "text": [
      "After list concatenation: [10, 20, 30, 40, 50, 77, 88, 11]\n",
      "After list repetition: [10, 20, 30, 40, 50, 10, 20, 30, 40, 50, 10, 20, 30, 40, 50, 10, 20, 30, 40, 50, 10, 20, 30, 40, 50]\n"
     ]
    }
   ],
   "source": [
    "numbers = [10, 20, 30, 40, 50]\n",
    "\n",
    "# List concatenation\n",
    "more_numbers = [77, 88, 11]\n",
    "new_numbers = numbers + more_numbers\n",
    "print(f\"After list concatenation: {new_numbers}\")  \n",
    "\n",
    "# List repetition\n",
    "repeat_numbers = numbers * 2\n",
    "print(f\"After list repetition: {repeat_numbers}\")  "
   ]
  },
  {
   "cell_type": "code",
   "execution_count": null,
   "id": "2951a5b3-a2ed-4439-ba1a-d95c9580c70a",
   "metadata": {},
   "outputs": [],
   "source": []
  },
  {
   "cell_type": "code",
   "execution_count": 31,
   "id": "27e5721f-e513-4090-adce-87c9c070e6e6",
   "metadata": {},
   "outputs": [
    {
     "name": "stdout",
     "output_type": "stream",
     "text": [
      "True\n"
     ]
    }
   ],
   "source": [
    "# check if element is in a list\n",
    "numbers = [10, 20, 30, 40, 50]\n",
    "\n",
    "b = 40 in numbers\n",
    "print(b)"
   ]
  },
  {
   "cell_type": "code",
   "execution_count": null,
   "id": "791c3287-82ce-46cb-bcac-ed388ee22697",
   "metadata": {},
   "outputs": [],
   "source": []
  },
  {
   "cell_type": "code",
   "execution_count": 33,
   "id": "240e1f47-cca2-498d-b44f-14b43eb5e7ed",
   "metadata": {},
   "outputs": [
    {
     "name": "stdout",
     "output_type": "stream",
     "text": [
      "2\n",
      "3\n"
     ]
    }
   ],
   "source": [
    "# find idx of an element\n",
    "numbers = [10, 20, 30, 40, 50]\n",
    "print(numbers.index(30))\n",
    "\n",
    "# count how many 60 are there\n",
    "numbers = [10, 20, 60, 30, 60, 40, 60]\n",
    "count = numbers.count(60) # Count all occurrences of item 60\n",
    "print(count)"
   ]
  },
  {
   "cell_type": "code",
   "execution_count": null,
   "id": "ecb846e2-f70d-4000-91e5-9ba032a7c2db",
   "metadata": {},
   "outputs": [],
   "source": []
  },
  {
   "cell_type": "code",
   "execution_count": 35,
   "id": "6ae9c367-1f7f-4a09-86e9-36e338958062",
   "metadata": {},
   "outputs": [
    {
     "name": "stdout",
     "output_type": "stream",
     "text": [
      "[10, 20, 60, 30, 60, 40, 60]\n",
      "[10, 20, 60, 30, 60, 40, 60]\n"
     ]
    }
   ],
   "source": [
    "# create copy of a list\n",
    "\n",
    "numbers = [10, 20, 60, 30, 60, 40, 60]\n",
    "#style1\n",
    "n = numbers.copy()\n",
    "print(n)\n",
    "\n",
    "#style2\n",
    "n = numbers[:]\n",
    "print(n)"
   ]
  },
  {
   "cell_type": "code",
   "execution_count": null,
   "id": "cf7681d9-6cf6-4cca-8bca-440ce8d18a21",
   "metadata": {},
   "outputs": [],
   "source": []
  },
  {
   "cell_type": "code",
   "execution_count": 37,
   "id": "2b8ebfa8-cc35-490f-8549-a9024f355cc0",
   "metadata": {},
   "outputs": [
    {
     "name": "stdout",
     "output_type": "stream",
     "text": [
      "range: [1, 2, 3, 4, 5, 6, 7, 8, 9, 10, 11, 12]\n",
      "range: [2, 5, 8, 11]\n"
     ]
    }
   ],
   "source": [
    "# MISCELLANEOUS: lets create a list of 12 consecutive int starting with 1\n",
    "# l = [1, 2, 3, 4, ] # NOT GOOD WAY\n",
    "l = list(range(1,13))\n",
    "print(f\"range: {l}\")\n",
    "\n",
    "# #lets create a list numbers starting with idx=2, skipping 3 values , and print upto 12\n",
    "l_skip = list(range(2,13,3))\n",
    "print(f\"range: {l_skip}\")"
   ]
  },
  {
   "cell_type": "code",
   "execution_count": null,
   "id": "7734b072-d6a6-421d-bcda-ec394f8acc7e",
   "metadata": {},
   "outputs": [],
   "source": []
  },
  {
   "cell_type": "code",
   "execution_count": 39,
   "id": "417dce5e-fca0-475f-a234-5c4391843517",
   "metadata": {},
   "outputs": [
    {
     "name": "stdout",
     "output_type": "stream",
     "text": [
      "10\n",
      "70\n",
      "220\n",
      "6\n",
      "[10, 20, 30, 40, 50, 70]\n",
      "36.666666666666664\n"
     ]
    }
   ],
   "source": [
    "numbers = [70, 20, 10, 50, 30, 40]\n",
    "\n",
    "print(min(numbers))\n",
    "print(max(numbers))\n",
    "print(sum(numbers))\n",
    "print(len(numbers))\n",
    "print(sorted(numbers)) # NOTE: it would not work if list contains int, str, bool mixed type\n",
    "\n",
    "# a simple application:\n",
    "average = sum(numbers)/len(numbers)\n",
    "print(average)"
   ]
  },
  {
   "cell_type": "code",
   "execution_count": null,
   "id": "23986214-b92c-44bd-9c7f-4cd582ad5454",
   "metadata": {},
   "outputs": [],
   "source": []
  },
  {
   "cell_type": "code",
   "execution_count": 40,
   "id": "8d06b6e2-5e02-4b0c-932c-9cda63840324",
   "metadata": {},
   "outputs": [
    {
     "name": "stdout",
     "output_type": "stream",
     "text": [
      "[[1, 2, 3, 4], [5, 6, 7, 8], [7, 8, 9, 1]]\n"
     ]
    }
   ],
   "source": [
    "# 1. Basic Nested List: simulates matrix\n",
    "\n",
    "matrix = [\n",
    "    [1, 2, 3, 4],\n",
    "    [5, 6, 7, 8],\n",
    "    [7, 8, 9, 1]\n",
    "]\n",
    "\n",
    "print(matrix) # This is a 2D list (matrix) with 3 rows and 4 columns\n"
   ]
  },
  {
   "cell_type": "code",
   "execution_count": null,
   "id": "3f7be6f5-7eca-4cb4-901b-b440eddbe3b2",
   "metadata": {},
   "outputs": [],
   "source": []
  },
  {
   "cell_type": "code",
   "execution_count": 46,
   "id": "c3e63406-c095-48b0-b06a-8b82f172269a",
   "metadata": {},
   "outputs": [
    {
     "name": "stdout",
     "output_type": "stream",
     "text": [
      "[[1, 2, 3], [4, 5, 6], [7, 8, 9]]\n",
      "[1, 2, 3]\n",
      "[4, 5, 6]\n",
      "[7, 8, 9]\n",
      "6\n",
      "8\n"
     ]
    }
   ],
   "source": [
    "# 2. Accessing Elements in a Nested List\n",
    "matrix = [\n",
    "    [1, 2, 3],\n",
    "    [4, 5, 6],\n",
    "    [7, 8, 9]\n",
    "]\n",
    "\n",
    "print(matrix)\n",
    "print(matrix[0])      # element at idx=0: First row -> [1, 2, 3]\n",
    "print(matrix[1])      # element at idx=1: First row -> [4, 5, 6]\n",
    "print(matrix[2])      # element at idx=2: Third row -> [7, 8, 9]\n",
    "\n",
    "print(matrix[1][2])   # element at row idx=1, column idx=2 -> 6\n",
    "print(matrix[2][1])   # element at row idx=2, column idx=1 -> 8"
   ]
  },
  {
   "cell_type": "code",
   "execution_count": 51,
   "id": "5bf1e6e4-69ae-4966-a0f2-4aae173d7082",
   "metadata": {},
   "outputs": [
    {
     "name": "stdout",
     "output_type": "stream",
     "text": [
      "[[1, 2, 3], [4, 5, 6], [7, 8, 9]]\n",
      "[[1, 99, 3], [4, 5, 6], [7, 8, 9]]\n"
     ]
    }
   ],
   "source": [
    "# 3. Modifying a Nested List\n",
    "matrix = [\n",
    "    [1, 2, 3],\n",
    "    [4, 5, 6],\n",
    "    [7, 8, 9]\n",
    "]\n",
    "\n",
    "print(matrix)\n",
    "# print(matrix[0][1])\n",
    "matrix[0][1] = 99  # Change element at row idx=0, column idx=1\n",
    "\n",
    "print(matrix)"
   ]
  },
  {
   "cell_type": "code",
   "execution_count": null,
   "id": "5362dd44-7b0d-4e96-9888-a5cd78c269aa",
   "metadata": {},
   "outputs": [],
   "source": []
  }
 ],
 "metadata": {
  "kernelspec": {
   "display_name": "Python 3 (ipykernel)",
   "language": "python",
   "name": "python3"
  },
  "language_info": {
   "codemirror_mode": {
    "name": "ipython",
    "version": 3
   },
   "file_extension": ".py",
   "mimetype": "text/x-python",
   "name": "python",
   "nbconvert_exporter": "python",
   "pygments_lexer": "ipython3",
   "version": "3.9.9"
  }
 },
 "nbformat": 4,
 "nbformat_minor": 5
}
