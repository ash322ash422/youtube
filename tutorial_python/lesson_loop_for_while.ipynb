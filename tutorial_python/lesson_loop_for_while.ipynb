{
 "cells": [
  {
   "cell_type": "code",
   "execution_count": 38,
   "id": "bc2737c9-0cfb-4846-8179-cf1f05b8b408",
   "metadata": {},
   "outputs": [
    {
     "name": "stdout",
     "output_type": "stream",
     "text": [
      "hello\n",
      "hello\n",
      "hello\n",
      "hello\n"
     ]
    }
   ],
   "source": [
    "# step1: suppose we want to print hello 4 times:\n",
    "print(\"hello\")\n",
    "print(\"hello\")\n",
    "print(\"hello\")\n",
    "print(\"hello\")\n"
   ]
  },
  {
   "cell_type": "code",
   "execution_count": 39,
   "id": "20d208a6-4a33-4b20-9393-5320b0148361",
   "metadata": {},
   "outputs": [
    {
     "name": "stdout",
     "output_type": "stream",
     "text": [
      "hello\n",
      "hello\n",
      "hello\n",
      "hello\n"
     ]
    }
   ],
   "source": [
    "# step2: Or I can print using for loop\n",
    "for i in [0,1,2,3]: \n",
    "    print(\"hello\")"
   ]
  },
  {
   "cell_type": "code",
   "execution_count": 40,
   "id": "8092e690-bc25-4a49-b728-f2a3a857190b",
   "metadata": {},
   "outputs": [
    {
     "name": "stdout",
     "output_type": "stream",
     "text": [
      "hello\n",
      "I am trapped in for loop\n",
      "Finished\n",
      "hello\n",
      "I am trapped in for loop\n",
      "Finished\n",
      "hello\n",
      "I am trapped in for loop\n",
      "Finished\n",
      "hello\n",
      "I am trapped in for loop\n",
      "Finished\n"
     ]
    }
   ],
   "source": [
    "# where does the for loop ends: thats decided by indentation\n",
    "# STEP1: \n",
    "for i in [0,1,2,3]:\n",
    "    print(\"hello\")\n",
    "    print(\"I am trapped in for loop\") \n",
    "    print(\"Finished\")\n"
   ]
  },
  {
   "cell_type": "code",
   "execution_count": 41,
   "id": "6682a06d-1822-4fb0-b7b2-d86f59433d72",
   "metadata": {},
   "outputs": [
    {
     "name": "stdout",
     "output_type": "stream",
     "text": [
      "hello\n",
      "I am trapped in for loop\n",
      "hello\n",
      "I am trapped in for loop\n",
      "hello\n",
      "I am trapped in for loop\n",
      "hello\n",
      "I am trapped in for loop\n",
      "Finished\n"
     ]
    }
   ],
   "source": [
    "# STEP1: \n",
    "for i in [0,1,2,3]:\n",
    "    print(\"hello\")\n",
    "    print(\"I am trapped in for loop\") \n",
    "print(\"Finished\")\n"
   ]
  },
  {
   "cell_type": "code",
   "execution_count": null,
   "id": "1536952e-5143-4f6a-a3c2-5e8a25f5cd8f",
   "metadata": {},
   "outputs": [],
   "source": []
  },
  {
   "cell_type": "code",
   "execution_count": 42,
   "id": "0870eca0-e8e8-4b5c-b563-813c005a55e3",
   "metadata": {},
   "outputs": [
    {
     "name": "stdout",
     "output_type": "stream",
     "text": [
      "0\n",
      "1\n",
      "2\n",
      "3\n"
     ]
    }
   ],
   "source": [
    "# What is this variable iterator i? Lets print this\n",
    "# STEP1: \n",
    "for i in [0,1,2,3]: \n",
    "    print(i) # here I am accessing iterator i\n"
   ]
  },
  {
   "cell_type": "code",
   "execution_count": 44,
   "id": "287a9346-e7fd-4e62-a841-3364268d7ba1",
   "metadata": {},
   "outputs": [
    {
     "name": "stdout",
     "output_type": "stream",
     "text": [
      "0: hello\n",
      "I am trapped in for loop\n",
      "1: hello\n",
      "I am trapped in for loop\n",
      "7: hello\n",
      "I am trapped in for loop\n",
      "3: hello\n",
      "I am trapped in for loop\n",
      "Finished\n"
     ]
    }
   ],
   "source": [
    "# STEP2: Lets print a number in front of each line\n",
    "for i in [0,1,2,3]:\n",
    "    print(f\"{i}: hello\")\n",
    "    print(\"I am trapped in for loop\") \n",
    "print(\"Finished\")"
   ]
  },
  {
   "cell_type": "code",
   "execution_count": 47,
   "id": "83f11720-0857-4c15-9fb2-3b572a8d8e22",
   "metadata": {},
   "outputs": [
    {
     "name": "stdout",
     "output_type": "stream",
     "text": [
      "0 * 3 = 0\n",
      "1 * 3 = 3\n",
      "2 * 3 = 6\n",
      "3 * 3 = 9\n",
      "Finished\n"
     ]
    }
   ],
   "source": [
    "# STEP3: lets perform some math on elements: multiply all elements by 3\n",
    "for i in [0,1,2,3]:\n",
    "    res = i * 3\n",
    "    print(f\"{i} * 3 = {res}\")\n",
    "print(\"Finished\")"
   ]
  },
  {
   "cell_type": "code",
   "execution_count": 48,
   "id": "61c6613d-0ccb-42cb-ac09-9f9e7c6f6e39",
   "metadata": {},
   "outputs": [
    {
     "name": "stdout",
     "output_type": "stream",
     "text": [
      "I love mango\n",
      "I love kiwi\n",
      "I love cherry\n",
      "I love jackfruit\n"
     ]
    }
   ],
   "source": [
    "#1) prints all elements of a list with meaningful message with each fruit\n",
    "fruits = [\"mango\", \"kiwi\", \"cherry\", \"jackfruit\"]\n",
    "for e in fruits:\n",
    "    print(f\"I love {e}\")"
   ]
  },
  {
   "cell_type": "code",
   "execution_count": 49,
   "id": "b3f49d8e-4579-4b06-a7d5-3021484951c6",
   "metadata": {},
   "outputs": [
    {
     "name": "stdout",
     "output_type": "stream",
     "text": [
      "0 hello\n",
      "I am trapped in for loop\n",
      "1 hello\n",
      "I am trapped in for loop\n",
      "2 hello\n",
      "I am trapped in for loop\n",
      "3 hello\n",
      "I am trapped in for loop\n",
      "finished\n"
     ]
    }
   ],
   "source": [
    "for i in range(0,4): # here start=0, stop=4\n",
    "    print(f\"{i} hello\") # here I am accessing iterator i\n",
    "    print(\"I am trapped in for loop\") \n",
    "    \n",
    "print(\"finished\")\n"
   ]
  },
  {
   "cell_type": "code",
   "execution_count": 52,
   "id": "5be0e595-070f-4df4-b21c-fd3a9ecb2e34",
   "metadata": {},
   "outputs": [
    {
     "name": "stdout",
     "output_type": "stream",
     "text": [
      "0 * 3 = 0 \n",
      "1 * 3 = 3 \n",
      "2 * 3 = 6 \n",
      "3 * 3 = 9 \n",
      "Finished\n"
     ]
    }
   ],
   "source": [
    "for i in range(0,4):\n",
    "    res = i * 3\n",
    "    print(f\"{i} * 3 = {res} \")\n",
    "    \n",
    "print(\"Finished\")\n"
   ]
  },
  {
   "cell_type": "code",
   "execution_count": 54,
   "id": "3e195ffc-d005-41a7-8621-46109e15bc77",
   "metadata": {},
   "outputs": [
    {
     "name": "stdout",
     "output_type": "stream",
     "text": [
      "0 * 4 = 0\n",
      "4 * 4 = 16\n",
      "8 * 4 = 32\n",
      "12 * 4 = 48\n"
     ]
    }
   ],
   "source": [
    "# lets redo above and add the step in range: 0,4,8,12\n",
    "for i in range(0,16,4): # start=0, stop=16, step=4\n",
    "    res = i * 4\n",
    "    print(f\"{i} * 4 = {res}\")\n"
   ]
  },
  {
   "cell_type": "code",
   "execution_count": null,
   "id": "98722461-c6f2-4c84-ab9e-a2176da73458",
   "metadata": {},
   "outputs": [],
   "source": [
    "0 1 2 3 4 5 6 7 8 9 "
   ]
  },
  {
   "cell_type": "code",
   "execution_count": 55,
   "id": "a183d6a5-071e-4ab4-a45e-f27be6d6dab7",
   "metadata": {},
   "outputs": [
    {
     "name": "stdout",
     "output_type": "stream",
     "text": [
      "checking 5\n",
      "checking 23\n",
      "checking 8\n",
      "checking 43\n",
      "checking 7\n",
      "Found target! Exiting the for loop\n",
      "Loop finished\n",
      "#####################\n"
     ]
    }
   ],
   "source": [
    "# for + break:\n",
    "\n",
    "# 1) Find if number 7 exists in a list: exit the loop after finding 7 in a list of numbers\n",
    "numbers = [5, 23, 8, 43, 7, 3, 65, 16, 3, 14]\n",
    "\n",
    "for i in numbers:\n",
    "    print(f\"checking {i}\")\n",
    "    if i == 7:\n",
    "        print(f\"Found target! Exiting the for loop\")\n",
    "        break # NOTE: comment it out to see what happens without it\n",
    "print(\"Loop finished\")\n",
    "print(\"#####################\")      "
   ]
  },
  {
   "cell_type": "code",
   "execution_count": 56,
   "id": "3d320673-d7a2-4b5c-8a42-02b26a0f8ede",
   "metadata": {},
   "outputs": [
    {
     "name": "stdout",
     "output_type": "stream",
     "text": [
      "checking 5\n",
      "checking 23\n",
      "checking 8\n",
      "checking 43\n",
      "checking 7\n",
      "Found target! Exiting the for loop\n",
      "checking 3\n",
      "checking 65\n",
      "checking 16\n",
      "checking 3\n",
      "checking 14\n",
      "Loop finished\n"
     ]
    }
   ],
   "source": [
    "numbers = [5, 23, 8, 43, 7, 3, 65, 16, 3, 14]\n",
    "\n",
    "for i in numbers:\n",
    "    print(f\"checking {i}\")\n",
    "    if i == 7:\n",
    "        print(f\"Found target! Exiting the for loop\")\n",
    "        # break # NOTE: comment it out to see what happens without it\n",
    "print(\"Loop finished\")\n"
   ]
  },
  {
   "cell_type": "code",
   "execution_count": null,
   "id": "f728c661-8e00-403e-993f-0558412139bd",
   "metadata": {},
   "outputs": [],
   "source": []
  },
  {
   "cell_type": "code",
   "execution_count": 57,
   "id": "06ff4c97-a520-4399-845c-887175a3d800",
   "metadata": {},
   "outputs": [
    {
     "name": "stdout",
     "output_type": "stream",
     "text": [
      "number: 5\n",
      "number: 23\n",
      "number: 8\n",
      "number: 43\n",
      "number: 7\n",
      "number: 3\n",
      "skipping number 65\n",
      "number: 16\n",
      "skipping number 65\n",
      "number: 14\n",
      "Loop finished\n",
      "#####################\n"
     ]
    }
   ],
   "source": [
    "# 1) continue: print all number except 65\n",
    "numbers = [5, 23, 8, 43, 7, 3, 65, 16, 65, 14]\n",
    "\n",
    "for i in numbers:\n",
    "    if i == 65:\n",
    "        print(f\"skipping number {i}\")\n",
    "        continue # NOTE: comment it out to see what happens without it\n",
    "    print(f\"number: {i}\")\n",
    "        \n",
    "print(\"Loop finished\")\n",
    "print(\"#####################\")      "
   ]
  },
  {
   "cell_type": "code",
   "execution_count": 58,
   "id": "9ad365eb-682c-4822-b5c6-a4543ea34da9",
   "metadata": {},
   "outputs": [
    {
     "name": "stdout",
     "output_type": "stream",
     "text": [
      "number: 5\n",
      "number: 23\n",
      "number: 8\n",
      "number: 43\n",
      "number: 7\n",
      "number: 3\n",
      "skipping number 65\n",
      "number: 65\n",
      "number: 16\n",
      "skipping number 65\n",
      "number: 65\n",
      "number: 14\n",
      "Loop finished\n",
      "#####################\n"
     ]
    }
   ],
   "source": [
    "numbers = [5, 23, 8, 43, 7, 3, 65, 16, 65, 14]\n",
    "\n",
    "for i in numbers:\n",
    "    if i == 65:\n",
    "        print(f\"skipping number {i}\")\n",
    "        # continue # NOTE: comment it out to see what happens without it\n",
    "    print(f\"number: {i}\")\n",
    "        \n",
    "print(\"Loop finished\")\n",
    "print(\"#####################\")      "
   ]
  },
  {
   "cell_type": "code",
   "execution_count": null,
   "id": "3c1dbceb-c81c-4c6c-ab04-7961bfabfef2",
   "metadata": {},
   "outputs": [],
   "source": []
  },
  {
   "cell_type": "code",
   "execution_count": 61,
   "id": "f5b17be7-b21c-4efa-8840-af6f7fc84392",
   "metadata": {},
   "outputs": [
    {
     "name": "stdout",
     "output_type": "stream",
     "text": [
      "1\n",
      "2\n",
      "3\n",
      "4\n",
      "5\n",
      "#################\n"
     ]
    }
   ],
   "source": [
    "# 1. Basic while Loop\n",
    "\n",
    "# print 1 2 3 4 5 on each newline\n",
    "i = 1\n",
    "while i <= 5:\n",
    "    print(i)\n",
    "    i += 1  # Increment i\n",
    "print(\"#################\")\n"
   ]
  },
  {
   "cell_type": "code",
   "execution_count": null,
   "id": "0ea67975-d0ea-4271-a4a6-7ec1b70e10be",
   "metadata": {},
   "outputs": [],
   "source": []
  },
  {
   "cell_type": "code",
   "execution_count": 62,
   "id": "3a685d41-d84c-49d6-9015-877cc50fae6e",
   "metadata": {},
   "outputs": [
    {
     "name": "stdout",
     "output_type": "stream",
     "text": [
      "2\n",
      "4\n",
      "6\n",
      "8\n",
      "10\n",
      "Done\n",
      "##############\n"
     ]
    }
   ],
   "source": [
    "# Print only even numbers: 2 4 6 8 10\n",
    "# Same task can be accomplished multiple styles\n",
    "\n",
    "#style1: 2 3 4 5 6 7 8 9 10\n",
    "num = 2\n",
    "while num <= 10:\n",
    "    print(num)\n",
    "    num += 2\n",
    "\n",
    "print(\"Done\")\n",
    "print(\"##############\")\n"
   ]
  },
  {
   "cell_type": "code",
   "execution_count": 63,
   "id": "30e56693-c91d-441d-ab3a-975384241de3",
   "metadata": {},
   "outputs": [
    {
     "name": "stdout",
     "output_type": "stream",
     "text": [
      "2\n",
      "4\n",
      "6\n",
      "8\n",
      "10\n",
      "Done\n",
      "##############\n"
     ]
    }
   ],
   "source": [
    "#style2\n",
    "num = 0\n",
    "while num < 10:\n",
    "    num += 1\n",
    "    if num % 2 == 0:  # Check if the number is even\n",
    "        print(num)    \n",
    "\n",
    "print(\"Done\")\n",
    "print(\"##############\")\n"
   ]
  },
  {
   "cell_type": "code",
   "execution_count": 64,
   "id": "76df5ea0-e1d7-4a7e-8133-365ed134f362",
   "metadata": {},
   "outputs": [
    {
     "name": "stdout",
     "output_type": "stream",
     "text": [
      "2\n",
      "4\n",
      "6\n",
      "8\n",
      "10\n",
      "Done\n",
      "##############\n"
     ]
    }
   ],
   "source": [
    "#style3\n",
    "num = 0\n",
    "while num < 10:\n",
    "    num += 1\n",
    "    if num % 2 != 0:\n",
    "        continue  # Skip odd numbers\n",
    "    print(num)\n",
    "\n",
    "print(\"Done\")\n",
    "print(\"##############\")\n"
   ]
  },
  {
   "cell_type": "code",
   "execution_count": 65,
   "id": "f67ad40d-bd72-4059-a173-0d040d086d3f",
   "metadata": {},
   "outputs": [
    {
     "name": "stdin",
     "output_type": "stream",
     "text": [
      "Enter a number (0 to stop):  2\n"
     ]
    },
    {
     "name": "stdout",
     "output_type": "stream",
     "text": [
      "You entered: 2\n"
     ]
    },
    {
     "name": "stdin",
     "output_type": "stream",
     "text": [
      "Enter a number (0 to stop):  6\n"
     ]
    },
    {
     "name": "stdout",
     "output_type": "stream",
     "text": [
      "You entered: 6\n"
     ]
    },
    {
     "name": "stdin",
     "output_type": "stream",
     "text": [
      "Enter a number (0 to stop):  7\n"
     ]
    },
    {
     "name": "stdout",
     "output_type": "stream",
     "text": [
      "You entered: 7\n"
     ]
    },
    {
     "name": "stdin",
     "output_type": "stream",
     "text": [
      "Enter a number (0 to stop):  0\n"
     ]
    },
    {
     "name": "stdout",
     "output_type": "stream",
     "text": [
      "Loop ended.\n"
     ]
    }
   ],
   "source": [
    "# 2. while Loop with User Input\n",
    "num = int(input(\"Enter a number (0 to stop): \"))\n",
    "while num != 0:\n",
    "    print(f\"You entered: {num}\")\n",
    "    num = int(input(\"Enter a number (0 to stop): \"))\n",
    "\n",
    "print(\"Loop ended.\")"
   ]
  },
  {
   "cell_type": "code",
   "execution_count": null,
   "id": "ce4ebc52-2fb6-4890-bcf1-ae3590d1bf7f",
   "metadata": {},
   "outputs": [],
   "source": []
  },
  {
   "cell_type": "code",
   "execution_count": 66,
   "id": "0b2e7d27-f71c-428e-b549-e6afba3d8d0d",
   "metadata": {},
   "outputs": [
    {
     "name": "stdout",
     "output_type": "stream",
     "text": [
      "1\n",
      "2\n",
      "3\n",
      "Stopping at 4\n",
      "##############\n"
     ]
    }
   ],
   "source": [
    "# while + break\n",
    "\n",
    "# 3. Using break in a while Loop to exit the loop\n",
    "\n",
    "# print 1 2 3 on each newline and stop at 4\n",
    "i = 1\n",
    "while i <= 6:\n",
    "    if i == 4:\n",
    "        print(\"Stopping at 4\")\n",
    "        break  # Exit the loop\n",
    "    print(i)\n",
    "    i += 1\n",
    "print(\"##############\")"
   ]
  },
  {
   "cell_type": "code",
   "execution_count": null,
   "id": "c054ec2c-5366-48c1-9d1c-7cfd30331071",
   "metadata": {},
   "outputs": [],
   "source": [
    "# 5. Infinite Loop (Press Ctrl+C to Stop) DANGEROUS\n",
    "\n",
    "#infinite loop\n",
    "# i = 1\n",
    "# while i > 0:\n",
    "#     print(\"hello\")\n",
    "#     i += 2\n",
    "    \n",
    "\n",
    "\n",
    "# while True:\n",
    "#     print(\"This is an infinite loop. Press Ctrl+C to stop.\")\n"
   ]
  },
  {
   "cell_type": "code",
   "execution_count": null,
   "id": "cbcd6a69-cd56-46d3-9e89-0b8b12a2fd48",
   "metadata": {},
   "outputs": [],
   "source": []
  },
  {
   "cell_type": "code",
   "execution_count": null,
   "id": "9aa7a523-4509-46ee-9611-06ed091191c9",
   "metadata": {},
   "outputs": [],
   "source": []
  }
 ],
 "metadata": {
  "kernelspec": {
   "display_name": "Python 3 (ipykernel)",
   "language": "python",
   "name": "python3"
  },
  "language_info": {
   "codemirror_mode": {
    "name": "ipython",
    "version": 3
   },
   "file_extension": ".py",
   "mimetype": "text/x-python",
   "name": "python",
   "nbconvert_exporter": "python",
   "pygments_lexer": "ipython3",
   "version": "3.9.9"
  }
 },
 "nbformat": 4,
 "nbformat_minor": 5
}
