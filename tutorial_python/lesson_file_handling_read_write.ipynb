{
 "cells": [
  {
   "cell_type": "code",
   "execution_count": 1,
   "id": "3c511381-3916-445c-a0e8-6fe0236d89f1",
   "metadata": {},
   "outputs": [],
   "source": [
    "# Lets open a file for writing:\n",
    "\n",
    "# style1: write multiple strings\n",
    "file = open(\"example.txt\", \"w\")  # Opens in write mode (overwrites file)\n",
    "\n",
    "msg = \"1 Hello, World!\\n\"\n",
    "file.write(msg) \n",
    "\n",
    "msg = \"Life is great\\n\"\n",
    "file.write(msg) # Warning: \"w\" mode will erase existing content before writing new data.\n",
    "\n",
    "msg = \"But homework is torture\\n\"\n",
    "file.write(msg) # Warning: \"w\" mode will erase existing content before writing new data.\n",
    "\n",
    "file.close()\n",
    "\n",
    "# view the file in  notepad"
   ]
  },
  {
   "cell_type": "code",
   "execution_count": 2,
   "id": "0f8e9d98-853a-4b23-8657-98a395f3236e",
   "metadata": {},
   "outputs": [],
   "source": [
    "# style2: write multiple strings using a for loop\n",
    "file = open(\"example.txt\", \"w\")  # Opens in write mode (overwrites file)\n",
    "\n",
    "messages = [\"2 Hello, World!\\n\",\n",
    "            \"Life is great\\n\",\n",
    "            \"But homework is torture\\n\"\n",
    "]\n",
    "\n",
    "for msg in messages:\n",
    "    file.write(msg) \n",
    "\n",
    "file.close()\n",
    "\n",
    "# view the file in  notepad"
   ]
  },
  {
   "cell_type": "code",
   "execution_count": 3,
   "id": "8db52aa7-9190-47a9-b3cc-533645e2283f",
   "metadata": {},
   "outputs": [],
   "source": [
    "# style3: write multiple strings\n",
    "file = open(\"example.txt\", \"w\")  # Opens in write mode (overwrites file)\n",
    "\n",
    "msg = \"\"\"3 Hello, World!\n",
    "Life is great\n",
    "But homework is torture\n",
    "\"\"\"\n",
    "\n",
    "file.write(msg) \n",
    "\n",
    "file.close()\n",
    "\n",
    "# view the file in  notepad"
   ]
  },
  {
   "cell_type": "code",
   "execution_count": 4,
   "id": "6f10bd02-8153-4046-95e6-c5ec3098d8a7",
   "metadata": {},
   "outputs": [],
   "source": [
    "# style4: Using with statement (Recommended)\n",
    "# Lets redo above using with\n",
    "\n",
    "msg = \"\"\"4 Hello, World!\n",
    "Python is great\n",
    "But homework is torture\n",
    "\"\"\"\n",
    "\n",
    "# Open the file in write mode\n",
    "with open(\"example.txt\", \"w\") as file:\n",
    "    file.write(msg)\n",
    "\n",
    "# The file is automatically closed when using 'with' statement"
   ]
  },
  {
   "cell_type": "code",
   "execution_count": null,
   "id": "f85b58b1-48f6-4641-9317-7b832733b8a8",
   "metadata": {},
   "outputs": [],
   "source": []
  },
  {
   "cell_type": "code",
   "execution_count": null,
   "id": "b360d3c0-880a-4845-bbe8-a7ac7376d66a",
   "metadata": {},
   "outputs": [],
   "source": []
  },
  {
   "cell_type": "code",
   "execution_count": 7,
   "id": "e9b8d8a1-10d7-4a4b-9de4-4073fe998681",
   "metadata": {},
   "outputs": [
    {
     "name": "stdout",
     "output_type": "stream",
     "text": [
      "4 Hello, World!\n",
      "Python is great\n",
      "But homework is torture\n",
      "\n"
     ]
    }
   ],
   "source": [
    "# Now lets read the file:\n",
    "\n",
    "# style1:\n",
    "# Example: Open a File, store content into a variable, print the variable and then Close It\n",
    "file = open(\"example.txt\", \"r\")\n",
    "\n",
    "content = file.read()\n",
    "# content = file.read(10) # Reads the first 10 characters\n",
    "\n",
    "print(content)\n",
    "\n",
    "file.close()\n"
   ]
  },
  {
   "cell_type": "code",
   "execution_count": 11,
   "id": "0eafa3ea-89cd-4419-98c0-e6c4f7a0d20c",
   "metadata": {},
   "outputs": [
    {
     "name": "stdout",
     "output_type": "stream",
     "text": [
      "['4 Hello, World!\\n', 'Python is great\\n', 'But homework is torture\\n']\n",
      "########################\n",
      "4 Hello, World!\n",
      "Python is great\n",
      "But homework is torture\n"
     ]
    }
   ],
   "source": [
    "# style2: Read All Lines into a List and print the entire list\n",
    "\n",
    "#step1\n",
    "file = open(\"example.txt\", \"r\")\n",
    "\n",
    "lines = file.readlines()  # Reads all lines into a list\n",
    "print(lines)\n",
    "\n",
    "\n",
    "print(\"########################\")\n",
    "# step2: Read All Lines as a List and print in a readable form\n",
    "for line in lines:\n",
    "    print(line, end='')\n",
    "\n",
    "file.close()"
   ]
  },
  {
   "cell_type": "code",
   "execution_count": 12,
   "id": "432a011e-9684-4e1d-ba5b-c10fafc5aa6c",
   "metadata": {},
   "outputs": [
    {
     "name": "stdout",
     "output_type": "stream",
     "text": [
      "4 Hello, World!\n",
      "Python is great\n",
      "But homework is torture\n",
      "\n"
     ]
    }
   ],
   "source": [
    "# style3: read using with statement. \n",
    "# with statement closes the file automatically\n",
    "\n",
    "# Open the file in read mode\n",
    "with open(\"example.txt\", \"r\") as file:\n",
    "    content = file.read()\n",
    "\n",
    "print(content)\n",
    "# The file is automatically closed when using 'with' statement\n"
   ]
  },
  {
   "cell_type": "code",
   "execution_count": 14,
   "id": "d5a5c69e-f33c-40ef-8eec-d24efec2ffc8",
   "metadata": {},
   "outputs": [
    {
     "name": "stdout",
     "output_type": "stream",
     "text": [
      "209,shamlodhiya,Citeaux,Caravy,France\n",
      "\n",
      "328,shamlodhiya,Brown,William,USA\n",
      "\n",
      "################\n",
      "209,shamlodhiya,Citeaux,Caravy,France\n",
      "328,shamlodhiya,Brown,William,USA\n",
      "350,Marseille Mini Shamlodhiya,Lebihan,Laurence ,France\n"
     ]
    }
   ],
   "source": [
    "# a simple application: read text file and print only rows that contains string shamlodhiya\n",
    "# Open the file in read mode\n",
    "\n",
    "#STEP1: create a simple program\n",
    "with open(\"data_people.txt\", \"r\") as file:\n",
    "    for line in file:\n",
    "        if \"shamlodhiya\" in line: \n",
    "            print(line)\n",
    "\n",
    "print(\"################\")\n",
    "# step2: take into account uppercase and lowercase. \n",
    "# Also remove extra spaces or newline characters before printing.\n",
    "with open(\"data_people.txt\", \"r\") as file:\n",
    "    for line in file:\n",
    "        if \"shamlodhiya\" in line.lower(): \n",
    "            print(line.strip())\n"
   ]
  },
  {
   "cell_type": "code",
   "execution_count": 15,
   "id": "9e8dfa18-0f78-47eb-84c1-56d9a249a280",
   "metadata": {},
   "outputs": [],
   "source": [
    "# We can also append to a File (a mode)\n",
    "file = open(\"example.txt\", \"a\")  # Opens in append mode\n",
    "\n",
    "file.write(\"\\nAppending new line!\")\n",
    "\n",
    "file.close()\n",
    "\n",
    "# Open the file in notepad and verify"
   ]
  },
  {
   "cell_type": "code",
   "execution_count": null,
   "id": "f29f0992-16a4-4d30-b9c5-d2e77d4d2147",
   "metadata": {},
   "outputs": [],
   "source": []
  }
 ],
 "metadata": {
  "kernelspec": {
   "display_name": "Python 3 (ipykernel)",
   "language": "python",
   "name": "python3"
  },
  "language_info": {
   "codemirror_mode": {
    "name": "ipython",
    "version": 3
   },
   "file_extension": ".py",
   "mimetype": "text/x-python",
   "name": "python",
   "nbconvert_exporter": "python",
   "pygments_lexer": "ipython3",
   "version": "3.9.9"
  }
 },
 "nbformat": 4,
 "nbformat_minor": 5
}
