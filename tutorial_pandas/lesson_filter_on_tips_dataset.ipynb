{
 "cells": [
  {
   "cell_type": "code",
   "execution_count": 12,
   "id": "353c05ae-5fc4-4237-817b-0ed796703568",
   "metadata": {},
   "outputs": [],
   "source": [
    "import pandas as pd\n",
    "\n",
    "import warnings\n",
    "\n",
    "# Suppress all FutureWarnings\n",
    "warnings.simplefilter(action='ignore', category=FutureWarning)"
   ]
  },
  {
   "cell_type": "code",
   "execution_count": 13,
   "id": "c7a39bfe-8e3f-4a19-9fa4-a2a4bdbd81a0",
   "metadata": {},
   "outputs": [
    {
     "name": "stdout",
     "output_type": "stream",
     "text": [
      "   total_bill   tip     sex smoker  day    time  size\n",
      "0       16.99  1.01  Female     No  Sun  Dinner     2\n",
      "1       10.34  1.66    Male     No  Sun  Dinner     3\n",
      "2       21.01  3.50    Male     No  Sun  Dinner     3\n",
      "3       23.68  3.31    Male     No  Sun  Dinner     2\n",
      "4       24.59  3.61  Female     No  Sun  Dinner     4\n",
      "5       25.29  4.71    Male     No  Sun  Dinner     4\n",
      "6        8.77  2.00    Male     No  Sun  Dinner     2\n",
      "7       26.88  3.12    Male     No  Sun  Dinner     4\n",
      "8       15.04  1.96    Male     No  Sun  Dinner     2\n",
      "9       14.78  3.23    Male     No  Sun  Dinner     2\n"
     ]
    }
   ],
   "source": [
    "# Load the tips dataset\n",
    "df = pd.read_csv(\"data_tips.csv\")\n",
    "print(df.head(10))"
   ]
  },
  {
   "cell_type": "code",
   "execution_count": 22,
   "id": "910931d6-f0a9-47dc-a5ec-1463ae159497",
   "metadata": {},
   "outputs": [
    {
     "name": "stdout",
     "output_type": "stream",
     "text": [
      "Column: sex\n",
      "['Female' 'Male']\n",
      "-----\n",
      "Column: smoker\n",
      "['No' 'Yes']\n",
      "-----\n",
      "Column: day\n",
      "['Sun' 'Sat' 'Thur' 'Fri']\n",
      "-----\n",
      "Column: time\n",
      "['Dinner' 'Lunch']\n",
      "-----\n",
      "Column: size\n",
      "[2 3 4 1 6 5]\n",
      "-----\n"
     ]
    }
   ],
   "source": [
    "# step1: Before filtering lets get to know all unique values of some of columns\n",
    "columns = ['sex', 'smoker', 'day', 'time', 'size']\n",
    "for col in columns:\n",
    "    print(f\"Column: {col}\")\n",
    "    print(df[col].unique())\n",
    "    print(\"-----\")\n"
   ]
  },
  {
   "cell_type": "code",
   "execution_count": 17,
   "id": "798e7f27-08f4-481e-8829-dbd39ccf65aa",
   "metadata": {},
   "outputs": [
    {
     "name": "stdout",
     "output_type": "stream",
     "text": [
      "    total_bill   tip     sex smoker  day    time  size\n",
      "0        16.99  1.01  Female     No  Sun  Dinner     2\n",
      "4        24.59  3.61  Female     No  Sun  Dinner     4\n",
      "11       35.26  5.00  Female     No  Sun  Dinner     4\n",
      "14       14.83  3.02  Female     No  Sun  Dinner     2\n",
      "16       10.33  1.67  Female     No  Sun  Dinner     3\n",
      "#########################\n",
      "87\n"
     ]
    }
   ],
   "source": [
    "# Filter: Customers who are females\n",
    "mask = (df['sex'] == 'Female')\n",
    "# print(mask)\n",
    "df_filter = df[mask]\n",
    "print(df_filter.head()) # print first few records\n",
    "print(\"#########################\")\n",
    "print(len(df_filter)) # count of df_filter"
   ]
  },
  {
   "cell_type": "code",
   "execution_count": 18,
   "id": "1babec7f-b46b-4a2f-8964-8e03eccee861",
   "metadata": {},
   "outputs": [
    {
     "name": "stdout",
     "output_type": "stream",
     "text": [
      "    total_bill   tip     sex smoker  day    time  size\n",
      "67        3.07  1.00  Female    Yes  Sat  Dinner     1\n",
      "72       26.86  3.14  Female    Yes  Sat  Dinner     2\n",
      "73       25.28  5.00  Female    Yes  Sat  Dinner     2\n",
      "92        5.75  1.00  Female    Yes  Fri  Dinner     2\n",
      "93       16.32  4.30  Female    Yes  Fri  Dinner     2\n",
      "#########################\n",
      "33\n"
     ]
    }
   ],
   "source": [
    "# Filter: Customers who are female smokers\n",
    "mask = (df['sex'] == 'Female') & (df['smoker'] == 'Yes')\n",
    "df_filter = df[mask]\n",
    "print(df_filter.head())\n",
    "print(\"#########################\")\n",
    "print(len(df_filter))"
   ]
  },
  {
   "cell_type": "code",
   "execution_count": 19,
   "id": "3b229fa6-e377-4fe3-a030-f96bf701fb25",
   "metadata": {},
   "outputs": [
    {
     "name": "stdout",
     "output_type": "stream",
     "text": [
      "   total_bill   tip     sex smoker  day    time  size\n",
      "0       16.99  1.01  Female     No  Sun  Dinner     2\n",
      "1       10.34  1.66    Male     No  Sun  Dinner     3\n",
      "2       21.01  3.50    Male     No  Sun  Dinner     3\n",
      "3       23.68  3.31    Male     No  Sun  Dinner     2\n",
      "4       24.59  3.61  Female     No  Sun  Dinner     4\n",
      "#########################\n",
      "213\n"
     ]
    }
   ],
   "source": [
    "# Filter: Customers whose total bill < 30 or > 50\n",
    "mask = (df['total_bill'] < 30) | (df['total_bill'] > 50)\n",
    "df_filter = df[mask]\n",
    "print(df_filter.head())\n",
    "print(\"#########################\")\n",
    "print(len(df_filter))"
   ]
  },
  {
   "cell_type": "code",
   "execution_count": 20,
   "id": "d7a6dd3f-9bea-4bd8-9e94-75e37ce0fdae",
   "metadata": {},
   "outputs": [
    {
     "name": "stdout",
     "output_type": "stream",
     "text": [
      "    total_bill   tip     sex smoker  day    time  size  tip_percent\n",
      "6         8.77  2.00    Male     No  Sun  Dinner     2    22.805017\n",
      "9        14.78  3.23    Male     No  Sun  Dinner     2    21.853857\n",
      "14       14.83  3.02  Female     No  Sun  Dinner     2    20.364127\n",
      "17       16.29  3.71    Male     No  Sun  Dinner     3    22.774708\n",
      "18       16.97  3.50  Female     No  Sun  Dinner     3    20.624632\n",
      "#########################\n",
      "39\n"
     ]
    }
   ],
   "source": [
    "# Filter: Customers who tipped more than 20% of their total bill\n",
    "df['tip_percent'] = (df['tip'] / df['total_bill']) * 100\n",
    "mask = (df['tip_percent'] > 20)\n",
    "\n",
    "df_filter = df[mask]\n",
    "print(df_filter.head())\n",
    "print(\"#########################\")\n",
    "print(len(df_filter))"
   ]
  },
  {
   "cell_type": "code",
   "execution_count": 21,
   "id": "c3b1537b-82cd-488b-b051-e777020e603e",
   "metadata": {},
   "outputs": [
    {
     "name": "stdout",
     "output_type": "stream",
     "text": [
      "    total_bill   tip   sex smoker   day   time  size  tip_percent\n",
      "77       27.20  4.00  Male     No  Thur  Lunch     4    14.705882\n",
      "78       22.76  3.00  Male     No  Thur  Lunch     2    13.181019\n",
      "79       17.29  2.71  Male     No  Thur  Lunch     2    15.673800\n",
      "80       19.44  3.00  Male    Yes  Thur  Lunch     2    15.432099\n",
      "81       16.66  3.40  Male     No  Thur  Lunch     2    20.408163\n",
      "#########################\n",
      "18\n"
     ]
    }
   ],
   "source": [
    "# Filter: Lunch time male customers with total bill between $15 and $30\n",
    "mask = (df['time'] == 'Lunch') & (df['sex'] == 'Male') & (df['total_bill'].between(15, 30))\n",
    "\n",
    "df_filter = df[mask]\n",
    "print(df_filter.head())\n",
    "print(\"#########################\")\n",
    "print(len(df_filter))"
   ]
  },
  {
   "cell_type": "code",
   "execution_count": 23,
   "id": "8e247763-4034-4a93-9e23-b5dce551b90e",
   "metadata": {},
   "outputs": [
    {
     "name": "stdout",
     "output_type": "stream",
     "text": [
      "     total_bill  tip     sex smoker  day    time  size  tip_percent\n",
      "73        25.28  5.0  Female    Yes  Sat  Dinner     2    19.778481\n",
      "214       28.17  6.5  Female    Yes  Sat  Dinner     3    23.074192\n",
      "#########################\n",
      "2\n"
     ]
    }
   ],
   "source": [
    "# Filter: Female smokers who dined on weekends and gave tips over $4\n",
    "mask = (\n",
    "    (df['sex'] == 'Female') &\n",
    "    (df['smoker'] == 'Yes') &\n",
    "    (df['day'].isin(['Sat', 'Sun'])) &\n",
    "    (df['tip'] > 4)\n",
    ")\n",
    "\n",
    "df_filter = df[mask]\n",
    "print(df_filter.head())\n",
    "print(\"#########################\")\n",
    "print(len(df_filter))"
   ]
  },
  {
   "cell_type": "code",
   "execution_count": 24,
   "id": "41919878-dd9e-4717-bb8b-83d1c209ba9b",
   "metadata": {},
   "outputs": [
    {
     "name": "stdout",
     "output_type": "stream",
     "text": [
      "    total_bill   tip     sex smoker  day    time  size  tip_percent  \\\n",
      "4        24.59  3.61  Female     No  Sun  Dinner     4    14.680765   \n",
      "5        25.29  4.71    Male     No  Sun  Dinner     4    18.623962   \n",
      "7        26.88  3.12    Male     No  Sun  Dinner     4    11.607143   \n",
      "11       35.26  5.00  Female     No  Sun  Dinner     4    14.180374   \n",
      "13       18.43  3.00    Male     No  Sun  Dinner     4    16.277808   \n",
      "\n",
      "    tip_per_person  \n",
      "4           0.9025  \n",
      "5           1.1775  \n",
      "7           0.7800  \n",
      "11          1.2500  \n",
      "13          0.7500  \n",
      "#########################\n",
      "41\n"
     ]
    }
   ],
   "source": [
    "# Filter: Tables with size >= 4 but average tip per person < $1.5\n",
    "df['tip_per_person'] = df['tip'] / df['size']\n",
    "mask = (df['size'] >= 4) & (df['tip_per_person'] < 1.5)\n",
    "\n",
    "df_filter = df[mask]\n",
    "print(df_filter.head())\n",
    "print(\"#########################\")\n",
    "print(len(df_filter))"
   ]
  },
  {
   "cell_type": "code",
   "execution_count": null,
   "id": "dcd5d7c4-d853-4b04-b12e-fcfd8054ac1f",
   "metadata": {},
   "outputs": [],
   "source": []
  }
 ],
 "metadata": {
  "kernelspec": {
   "display_name": "Python 3 (ipykernel)",
   "language": "python",
   "name": "python3"
  },
  "language_info": {
   "codemirror_mode": {
    "name": "ipython",
    "version": 3
   },
   "file_extension": ".py",
   "mimetype": "text/x-python",
   "name": "python",
   "nbconvert_exporter": "python",
   "pygments_lexer": "ipython3",
   "version": "3.9.9"
  }
 },
 "nbformat": 4,
 "nbformat_minor": 5
}
