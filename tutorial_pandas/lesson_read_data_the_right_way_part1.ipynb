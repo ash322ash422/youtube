{
 "cells": [
  {
   "cell_type": "code",
   "execution_count": 1,
   "id": "439327b4-49e6-443a-a958-ef7a28ceb406",
   "metadata": {},
   "outputs": [
    {
     "name": "stderr",
     "output_type": "stream",
     "text": [
      "C:\\Users\\hi\\AppData\\Local\\Temp\\ipykernel_13780\\1893042939.py:1: DeprecationWarning: \n",
      "Pyarrow will become a required dependency of pandas in the next major release of pandas (pandas 3.0),\n",
      "(to allow more performant data types, such as the Arrow string type, and better interoperability with other libraries)\n",
      "but was not found to be installed on your system.\n",
      "If this would cause problems for you,\n",
      "please provide us feedback at https://github.com/pandas-dev/pandas/issues/54466\n",
      "        \n",
      "  import pandas as pd\n"
     ]
    }
   ],
   "source": [
    "import pandas as pd\n",
    "import time\n",
    "import numpy as np\n",
    "from scipy.sparse import csr_matrix # for creating sparse data\n",
    "\n",
    "data_file = 'DELETE_ME_huge_file.csv' # Do NOT FORGET TO DELETE THIS AT THE END"
   ]
  },
  {
   "cell_type": "code",
   "execution_count": 2,
   "id": "d639f14b-57ec-46b8-8812-9965570d5e7d",
   "metadata": {},
   "outputs": [
    {
     "name": "stdout",
     "output_type": "stream",
     "text": [
      "Sample dataset 'DELETE_ME_huge_file.csv' with 1000000 rows created successfully!\n"
     ]
    }
   ],
   "source": [
    "# Lets generate some fake data and save to a csv file for testing:\n",
    "# NOTE: Took 3 sec to generate the CSV file\n",
    "\n",
    "n = 1_000_000 # Number of rows: 1 million\n",
    "\n",
    "np.random.seed(42) # seed for reproducibility\n",
    "\n",
    "# Generate data\n",
    "data = {\n",
    "    \"id\"     : np.arange(1, n + 1),\n",
    "    \"name\"   : np.random.choice([\"Fernando\", \"Prakash\", \"Shamlodhiya\", \"Smith\", \"Patel\", \"Juno\"], size=n),\n",
    "    \"age\"    : np.random.randint(20, 80, size=n),\n",
    "    \"amount\" : np.round(np.random.uniform(50, 500, size=n), 2),\n",
    "    \"status\" : np.random.choice([\"Paid\", \"Pending\", \"Failed\"], size=n, p=[0.6, 0.3, 0.1])\n",
    "}\n",
    "\n",
    "df = pd.DataFrame(data)\n",
    "\n",
    "df.to_csv(data_file, index=False) # Save as CSV\n",
    "\n",
    "print(f\"Sample dataset '{data_file}' with {n} rows created successfully!\")"
   ]
  },
  {
   "cell_type": "code",
   "execution_count": 3,
   "id": "931d03bc-009a-4568-bb6f-95bb54ed9523",
   "metadata": {},
   "outputs": [
    {
     "name": "stdout",
     "output_type": "stream",
     "text": [
      "            id         name  age  amount   status\n",
      "758368  758369         Juno   76  128.56  Pending\n",
      "537469  537470  Shamlodhiya   63  185.86  Pending\n",
      "848667  848668        Smith   21  333.20     Paid\n",
      "426683  426684  Shamlodhiya   56  134.34  Pending\n",
      "128391  128392      Prakash   39  347.50     Paid\n",
      "966893  966894         Juno   65  436.60     Paid\n",
      "192879  192880     Fernando   57  438.13     Paid\n",
      "530489  530490        Patel   54  454.59     Paid\n",
      "847744  847745     Fernando   20  231.74     Paid\n",
      "858672  858673     Fernando   30  413.73     Paid\n"
     ]
    }
   ],
   "source": [
    "# lets look at few values\n",
    "print(df.sample(10))"
   ]
  },
  {
   "cell_type": "code",
   "execution_count": null,
   "id": "03f13b61-a7da-427e-b7b7-442dad04e71f",
   "metadata": {},
   "outputs": [],
   "source": []
  },
  {
   "cell_type": "code",
   "execution_count": 4,
   "id": "95057446-96c4-4346-9f64-14a1c1d9714b",
   "metadata": {},
   "outputs": [
    {
     "name": "stdout",
     "output_type": "stream",
     "text": [
      "   id         name  age  amount   status\n",
      "0   1        Smith   78   58.66  Pending\n",
      "1   2        Patel   71  207.34     Paid\n",
      "2   3  Shamlodhiya   40   66.54     Paid\n",
      "3   4        Patel   32  326.49  Pending\n",
      "4   5        Patel   49  380.40     Paid\n",
      "Time in sec: 0.296875\n",
      "<class 'pandas.core.frame.DataFrame'>\n",
      "RangeIndex: 1000000 entries, 0 to 999999\n",
      "Data columns (total 5 columns):\n",
      " #   Column  Non-Null Count    Dtype  \n",
      "---  ------  --------------    -----  \n",
      " 0   id      1000000 non-null  int64  \n",
      " 1   name    1000000 non-null  object \n",
      " 2   age     1000000 non-null  int64  \n",
      " 3   amount  1000000 non-null  float64\n",
      " 4   status  1000000 non-null  object \n",
      "dtypes: float64(1), int64(2), object(2)\n",
      "memory usage: 142.8 MB\n",
      "None\n"
     ]
    }
   ],
   "source": [
    "# step1: Without specifying dtypes\n",
    "# NOTE: Took 0.4 secs\n",
    "\n",
    "start = time.process_time()\n",
    "df    = pd.read_csv(data_file)\n",
    "end   = time.process_time()\n",
    "\n",
    "print(df.head())\n",
    "print(\"Time in sec:\",end - start)\n",
    "print(df.info(memory_usage=\"deep\"))"
   ]
  },
  {
   "cell_type": "code",
   "execution_count": 5,
   "id": "c5eb8c45-1304-4ece-814c-5cea1b29c02d",
   "metadata": {},
   "outputs": [
    {
     "name": "stdout",
     "output_type": "stream",
     "text": [
      "   id         name  age      amount   status\n",
      "0   1        Smith   78   58.660000  Pending\n",
      "1   2        Patel   71  207.339996     Paid\n",
      "2   3  Shamlodhiya   40   66.540001     Paid\n",
      "3   4        Patel   32  326.489990  Pending\n",
      "4   5        Patel   49  380.399994     Paid\n",
      "Time in sec: 0.421875\n",
      "<class 'pandas.core.frame.DataFrame'>\n",
      "RangeIndex: 1000000 entries, 0 to 999999\n",
      "Data columns (total 5 columns):\n",
      " #   Column  Non-Null Count    Dtype   \n",
      "---  ------  --------------    -----   \n",
      " 0   id      1000000 non-null  int32   \n",
      " 1   name    1000000 non-null  category\n",
      " 2   age     1000000 non-null  uint8   \n",
      " 3   amount  1000000 non-null  float32 \n",
      " 4   status  1000000 non-null  category\n",
      "dtypes: category(2), float32(1), int32(1), uint8(1)\n",
      "memory usage: 10.5 MB\n",
      "None\n"
     ]
    }
   ],
   "source": [
    "# step2: with dtype explicitly mentioned: \n",
    "# NOTE: Took 4.2 secs\n",
    "\n",
    "dtypes = {\n",
    "    'id'    : 'int32', \n",
    "    'name'  : 'category', # Note: if names repeat many times, then use 'category', else use 'string'\n",
    "    'age'   : 'uint8',    # this num is going to be 0 - 120. So use uint8 0 -255\n",
    "    'amount': 'float32',\n",
    "    'status': 'category'\n",
    "}\n",
    "start = time.process_time()\n",
    "df = pd.read_csv(data_file, dtype=dtypes)\n",
    "end = time.process_time()\n",
    "\n",
    "print(df.head())\n",
    "print(\"Time in sec:\",end - start)\n",
    "print(df.info(memory_usage=\"deep\"))"
   ]
  },
  {
   "cell_type": "code",
   "execution_count": 6,
   "id": "d28bbc60-668f-4ef9-9192-83cb038116fa",
   "metadata": {},
   "outputs": [
    {
     "data": {
      "text/plain": [
       "0.9230769230769231"
      ]
     },
     "execution_count": 6,
     "metadata": {},
     "output_type": "execute_result"
    }
   ],
   "source": [
    "# How much memory saved? 92%\n",
    "(143-11)/143"
   ]
  },
  {
   "cell_type": "code",
   "execution_count": null,
   "id": "11206426-ab8e-47fa-b98e-3713077e4b26",
   "metadata": {},
   "outputs": [],
   "source": []
  },
  {
   "cell_type": "code",
   "execution_count": null,
   "id": "13fb7487-f13c-43f0-8e3f-7f738fa06da8",
   "metadata": {},
   "outputs": [],
   "source": []
  },
  {
   "cell_type": "code",
   "execution_count": null,
   "id": "02570438-e313-400f-b322-c492f6078819",
   "metadata": {},
   "outputs": [],
   "source": []
  },
  {
   "cell_type": "code",
   "execution_count": 7,
   "id": "f8f42472-a6b3-4407-acec-634768487da0",
   "metadata": {},
   "outputs": [
    {
     "name": "stdout",
     "output_type": "stream",
     "text": [
      "   id         name  age  amount   status\n",
      "0   1        Smith   78   58.66  Pending\n",
      "1   2        Patel   71  207.34     Paid\n",
      "2   3  Shamlodhiya   40   66.54     Paid\n",
      "3   4        Patel   32  326.49  Pending\n",
      "4   5        Patel   49  380.40     Paid\n",
      "0.296875\n",
      "<class 'pandas.core.frame.DataFrame'>\n",
      "RangeIndex: 1000000 entries, 0 to 999999\n",
      "Data columns (total 5 columns):\n",
      " #   Column  Non-Null Count    Dtype  \n",
      "---  ------  --------------    -----  \n",
      " 0   id      1000000 non-null  int64  \n",
      " 1   name    1000000 non-null  object \n",
      " 2   age     1000000 non-null  int64  \n",
      " 3   amount  1000000 non-null  float64\n",
      " 4   status  1000000 non-null  object \n",
      "dtypes: float64(1), int64(2), object(2)\n",
      "memory usage: 142.8 MB\n",
      "None\n"
     ]
    }
   ],
   "source": [
    "# step1: Read all columns: The hard way\n",
    "\n",
    "start = time.process_time()\n",
    "df = pd.read_csv(data_file)\n",
    "end = time.process_time()\n",
    "\n",
    "print(df.head())\n",
    "print(end - start)\n",
    "print(df.info(memory_usage=\"deep\"))"
   ]
  },
  {
   "cell_type": "code",
   "execution_count": 8,
   "id": "23c890e7-3402-45ae-903e-a8a5c371893b",
   "metadata": {},
   "outputs": [
    {
     "name": "stdout",
     "output_type": "stream",
     "text": [
      "   age  amount\n",
      "0   78   58.66\n",
      "1   71  207.34\n",
      "2   40   66.54\n",
      "3   32  326.49\n",
      "4   49  380.40\n",
      "0.203125\n",
      "<class 'pandas.core.frame.DataFrame'>\n",
      "RangeIndex: 1000000 entries, 0 to 999999\n",
      "Data columns (total 2 columns):\n",
      " #   Column  Non-Null Count    Dtype  \n",
      "---  ------  --------------    -----  \n",
      " 0   age     1000000 non-null  int64  \n",
      " 1   amount  1000000 non-null  float64\n",
      "dtypes: float64(1), int64(1)\n",
      "memory usage: 15.3 MB\n",
      "None\n"
     ]
    }
   ],
   "source": [
    "# step2: Read only required columns\n",
    "\n",
    "start = time.process_time()\n",
    "df = pd.read_csv(data_file, usecols=['age', 'amount'])\n",
    "end = time.process_time()\n",
    "\n",
    "print(df.head())\n",
    "print(end - start)\n",
    "print(df.info(memory_usage=\"deep\"))"
   ]
  },
  {
   "cell_type": "code",
   "execution_count": 9,
   "id": "7ba7fe7e-79be-462b-87c6-43ca7f718be9",
   "metadata": {},
   "outputs": [
    {
     "data": {
      "text/plain": [
       "0.8922535211267606"
      ]
     },
     "execution_count": 9,
     "metadata": {},
     "output_type": "execute_result"
    }
   ],
   "source": [
    "# How much saving in memory: 89%\n",
    "(142-15.3)/142"
   ]
  },
  {
   "cell_type": "code",
   "execution_count": null,
   "id": "aeceb6b2-3204-4ac1-8de2-72dba4cda420",
   "metadata": {},
   "outputs": [],
   "source": []
  },
  {
   "cell_type": "code",
   "execution_count": null,
   "id": "8b028288-f400-4ad0-9c7c-9ee61601c9d9",
   "metadata": {},
   "outputs": [],
   "source": []
  },
  {
   "cell_type": "code",
   "execution_count": 10,
   "id": "8dd0fb25-3904-4629-96f6-8ea78a755e06",
   "metadata": {},
   "outputs": [
    {
     "name": "stdout",
     "output_type": "stream",
     "text": [
      "Sample dataset 'DELETE_ME_huge_file.csv' with 100000 rows created successfully!\n"
     ]
    }
   ],
   "source": [
    "# step1: Lets generate some fake data and save to a csv file for testing:\n",
    "\n",
    "n = 100000 # Number of rows\n",
    "\n",
    "np.random.seed(42) # seed for reproducibility\n",
    "\n",
    "sparsity = 0.9  \n",
    "values = np.random.randint(1, 10, size=n) # Random values\n",
    "mask = np.random.choice([0, 1], size=n, p=[sparsity, 1-sparsity]) # Mask for sparsity\n",
    "sparse_data = values * mask\n",
    "sparse_vec = csr_matrix(sparse_data) # Convert to sparse vector\n",
    "\n",
    "# Generate data\n",
    "data = {\n",
    "    \"id\"          : np.arange(1, n + 1),\n",
    "    \"commute_dist\": sparse_vec.toarray().ravel()\n",
    "}\n",
    "\n",
    "df = pd.DataFrame(data)\n",
    "\n",
    "df.to_csv(data_file, index=False) # Save as CSV\n",
    "\n",
    "print(f\"Sample dataset '{data_file}' with {n} rows created successfully!\")"
   ]
  },
  {
   "cell_type": "code",
   "execution_count": 11,
   "id": "c4bd4a66-e6c8-4e05-89d4-50a1c00c1269",
   "metadata": {},
   "outputs": [
    {
     "name": "stdout",
     "output_type": "stream",
     "text": [
      "commute_dist\n",
      "0    90031\n",
      "6     1147\n",
      "2     1143\n",
      "7     1127\n",
      "8     1118\n",
      "5     1100\n",
      "9     1097\n",
      "4     1087\n",
      "3     1081\n",
      "1     1069\n",
      "Name: count, dtype: int64\n"
     ]
    }
   ],
   "source": [
    "# Lets see the data for column commute_dist\n",
    "# print(df.sample(10))\n",
    "print(df['commute_dist'].value_counts())"
   ]
  },
  {
   "cell_type": "code",
   "execution_count": 12,
   "id": "e16d764c-5103-44d1-869c-fdd701082d04",
   "metadata": {},
   "outputs": [
    {
     "name": "stdout",
     "output_type": "stream",
     "text": [
      "Dense DataFrame memory usage:\n",
      "Index              128\n",
      "id              800000\n",
      "commute_dist    800000\n",
      "dtype: int64\n",
      "Total: 1600128 bytes\n"
     ]
    }
   ],
   "source": [
    "# step2: read the CSV file the hard way: Without specifying sparse datatype\n",
    "\n",
    "df = pd.read_csv(data_file)\n",
    "\n",
    "print(\"Dense DataFrame memory usage:\")\n",
    "print(df.memory_usage(deep=True))\n",
    "print(\"Total:\", df.memory_usage(deep=True).sum(), \"bytes\")"
   ]
  },
  {
   "cell_type": "code",
   "execution_count": 13,
   "id": "e286e6a5-0105-43d6-891d-4ece3be11be2",
   "metadata": {},
   "outputs": [
    {
     "name": "stdout",
     "output_type": "stream",
     "text": [
      "\n",
      "Sparse DataFrame memory usage:\n",
      "Index              128\n",
      "id              800000\n",
      "commute_dist     79752\n",
      "dtype: int64\n",
      "Total: 879880 bytes\n"
     ]
    }
   ],
   "source": [
    "# step3: convert to pandas SparseDtype\n",
    "\n",
    "df_sparse = df.copy()\n",
    "df_sparse[\"commute_dist\"] = df_sparse[\"commute_dist\"].astype(\"Sparse[int]\")\n",
    "\n",
    "print(\"\\nSparse DataFrame memory usage:\")\n",
    "print(df_sparse.memory_usage(deep=True))\n",
    "print(\"Total:\", df_sparse.memory_usage(deep=True).sum(), \"bytes\")"
   ]
  },
  {
   "cell_type": "code",
   "execution_count": 14,
   "id": "81cc0c70-1460-42a8-9a51-a5d1880f4cd2",
   "metadata": {},
   "outputs": [
    {
     "data": {
      "text/plain": [
       "0.90031"
      ]
     },
     "execution_count": 14,
     "metadata": {},
     "output_type": "execute_result"
    }
   ],
   "source": [
    "# savings : 90%\n",
    "(800000-79752)/800000"
   ]
  },
  {
   "cell_type": "code",
   "execution_count": null,
   "id": "93789313-7d7e-4a88-ace5-591e4aba55fd",
   "metadata": {},
   "outputs": [],
   "source": []
  },
  {
   "cell_type": "code",
   "execution_count": null,
   "id": "a9180341-c8ec-4d8c-8f5b-f7d4c70cf610",
   "metadata": {},
   "outputs": [],
   "source": []
  },
  {
   "cell_type": "code",
   "execution_count": null,
   "id": "9e2f1449-0f57-4bc4-870d-e4563af37ff0",
   "metadata": {},
   "outputs": [],
   "source": []
  },
  {
   "cell_type": "code",
   "execution_count": 20,
   "id": "7115ac26-0bb0-45f4-887f-4ecbfdd2c5a8",
   "metadata": {},
   "outputs": [
    {
     "name": "stdout",
     "output_type": "stream",
     "text": [
      "Sample dataset 'DELETE_ME_huge_file.csv' with 1000000 rows created successfully!\n"
     ]
    }
   ],
   "source": [
    "# Dealing boolean data type\n",
    "# step1: Lets generate some fake data and save to a csv file for testing:\n",
    "\n",
    "n = 1_000_000 # Number of rows: 1 million\n",
    "\n",
    "np.random.seed(42) # seed for reproducibility\n",
    "\n",
    "# Generate data\n",
    "data = {\n",
    "    \"employee_id\" : np.arange(1, n + 1),\n",
    "    \"is_working\"  : np.random.choice([\"Not working\", \"Working\"], size=n), # only 2 string choice\n",
    "    \"is_remote\"  : np.random.choice([0, 1], p=[0.9, 0.1], size=n),\n",
    "}\n",
    "\n",
    "df = pd.DataFrame(data)\n",
    "df.to_csv(data_file, index=False) # Save as CSV\n",
    "print(f\"Sample dataset '{data_file}' with {n} rows created successfully!\")"
   ]
  },
  {
   "cell_type": "code",
   "execution_count": 21,
   "id": "b7cf3d30-3ff9-43f5-a0a6-73872b3d7d30",
   "metadata": {},
   "outputs": [
    {
     "name": "stdout",
     "output_type": "stream",
     "text": [
      "   employee_id   is_working  is_remote\n",
      "0            1  Not working          0\n",
      "1            2      Working          0\n",
      "2            3  Not working          0\n",
      "3            4  Not working          1\n",
      "4            5  Not working          0\n"
     ]
    }
   ],
   "source": [
    "# lets see few records\n",
    "print(df.head())"
   ]
  },
  {
   "cell_type": "code",
   "execution_count": 24,
   "id": "e8535903-554a-47b0-8ee3-992af0ff56c9",
   "metadata": {},
   "outputs": [
    {
     "name": "stdout",
     "output_type": "stream",
     "text": [
      "<class 'pandas.core.frame.DataFrame'>\n",
      "RangeIndex: 1000000 entries, 0 to 999999\n",
      "Data columns (total 3 columns):\n",
      " #   Column       Non-Null Count    Dtype \n",
      "---  ------       --------------    ----- \n",
      " 0   employee_id  1000000 non-null  int64 \n",
      " 1   is_working   1000000 non-null  object\n",
      " 2   is_remote    1000000 non-null  int64 \n",
      "dtypes: int64(2), object(1)\n",
      "memory usage: 78.2 MB\n",
      "None \n",
      "\n",
      "Index               128\n",
      "employee_id     8000000\n",
      "is_working     66000756\n",
      "is_remote       8000000\n",
      "dtype: int64 \n",
      "\n",
      "Total: 82000884 bytes\n"
     ]
    }
   ],
   "source": [
    "# step2: load file without dtypes\n",
    "\n",
    "df = pd.read_csv(data_file)\n",
    "\n",
    "# print memory stats\n",
    "print(df.info(memory_usage=\"deep\"),\"\\n\")\n",
    "print(df.memory_usage(deep=True),\"\\n\")\n",
    "print(\"Total:\", df.memory_usage(deep=True).sum(), \"bytes\")"
   ]
  },
  {
   "cell_type": "code",
   "execution_count": 25,
   "id": "075b8a47-8cef-4b6a-ac6c-44561730477d",
   "metadata": {},
   "outputs": [
    {
     "name": "stdout",
     "output_type": "stream",
     "text": [
      "<class 'pandas.core.frame.DataFrame'>\n",
      "RangeIndex: 1000000 entries, 0 to 999999\n",
      "Data columns (total 3 columns):\n",
      " #   Column       Non-Null Count    Dtype   \n",
      "---  ------       --------------    -----   \n",
      " 0   employee_id  1000000 non-null  int32   \n",
      " 1   is_working   1000000 non-null  category\n",
      " 2   is_remote    1000000 non-null  bool    \n",
      "dtypes: bool(1), category(1), int32(1)\n",
      "memory usage: 5.7 MB\n",
      "None \n",
      "\n",
      "Index              128\n",
      "employee_id    4000000\n",
      "is_working     1000132\n",
      "is_remote      1000000\n",
      "dtype: int64 \n",
      "\n",
      "Total: 6000260 bytes\n"
     ]
    }
   ],
   "source": [
    "# step3: Explicitly set dtypes\n",
    "dtypes = {\n",
    "    \"employee_id\": \"int32\",      # 1M fits in int32 (max 2.1B)\n",
    "    \"is_working\": \"category\",    # only 2 unique values → best as category\n",
    "    \"is_remote\": \"bool\"          # NOTE: use 'bool' if column has no missing values, else use 'boolean'\n",
    "}\n",
    "\n",
    "df = pd.read_csv(data_file, dtype=dtypes)\n",
    "\n",
    "# print memory stats\n",
    "print(df.info(memory_usage=\"deep\"),\"\\n\")\n",
    "print(df.memory_usage(deep=True),\"\\n\")\n",
    "print(\"Total:\", df.memory_usage(deep=True).sum(), \"bytes\")"
   ]
  },
  {
   "cell_type": "code",
   "execution_count": 26,
   "id": "9d9ba5e1-24e9-433b-bf59-8ba4ae2879c6",
   "metadata": {},
   "outputs": [
    {
     "name": "stdout",
     "output_type": "stream",
     "text": [
      "   employee_id   is_working  is_remote\n",
      "0            1  Not working      False\n",
      "1            2      Working      False\n",
      "2            3  Not working      False\n",
      "3            4  Not working       True\n",
      "4            5  Not working      False\n"
     ]
    }
   ],
   "source": [
    "# Lets look at few rows\n",
    "print(df.head())"
   ]
  },
  {
   "cell_type": "code",
   "execution_count": 27,
   "id": "c1d76714-8e56-4864-9da9-db6b1fa3e4fc",
   "metadata": {},
   "outputs": [
    {
     "name": "stdout",
     "output_type": "stream",
     "text": [
      "0.9848466584231247\n",
      "0.875\n"
     ]
    }
   ],
   "source": [
    "# how much saving for column is_working: 98%\n",
    "print((66000756 -  1000132)/66000756)\n",
    "\n",
    "# how much saving for column is_remote: 87%\n",
    "print((8000000 - 1000000)/8000000)"
   ]
  },
  {
   "cell_type": "code",
   "execution_count": 28,
   "id": "237b9afa-f817-45c7-ac63-9c85a3b0a0f5",
   "metadata": {},
   "outputs": [
    {
     "name": "stdout",
     "output_type": "stream",
     "text": [
      "<class 'pandas.core.frame.DataFrame'>\n",
      "RangeIndex: 1000000 entries, 0 to 999999\n",
      "Data columns (total 3 columns):\n",
      " #   Column       Non-Null Count    Dtype\n",
      "---  ------       --------------    -----\n",
      " 0   employee_id  1000000 non-null  int32\n",
      " 1   is_working   1000000 non-null  bool \n",
      " 2   is_remote    1000000 non-null  bool \n",
      "dtypes: bool(2), int32(1)\n",
      "memory usage: 5.7 MB\n",
      "None \n",
      "\n",
      "Index              128\n",
      "employee_id    4000000\n",
      "is_working     1000000\n",
      "is_remote      1000000\n",
      "dtype: int64 \n",
      "\n",
      "Total: 6000128 bytes\n"
     ]
    }
   ],
   "source": [
    "# step4: (OPTIONAL)  for column is_working, map \"Yes\"->True, \"No\"->False and change the dtype to bool\n",
    "\n",
    "# Convert Yes/No → True/False\n",
    "df[\"is_working\"] = df[\"is_working\"].map({\"Working\": True, \"Not working\": False}).astype(\"bool\")\n",
    "\n",
    "print(df.info(memory_usage=\"deep\"),\"\\n\")\n",
    "print(df.memory_usage(deep=True),\"\\n\")\n",
    "print(\"Total:\", df.memory_usage(deep=True).sum(), \"bytes\")"
   ]
  },
  {
   "cell_type": "code",
   "execution_count": 29,
   "id": "9f48503e-e096-4517-b6a9-881565f72801",
   "metadata": {},
   "outputs": [
    {
     "data": {
      "text/plain": [
       "0.00013198257829966445"
      ]
     },
     "execution_count": 29,
     "metadata": {},
     "output_type": "execute_result"
    }
   ],
   "source": [
    "# How much saving for is_working: 0.01% (Not significant here)\n",
    "(1000132 - 1000000)/1000132"
   ]
  },
  {
   "cell_type": "code",
   "execution_count": null,
   "id": "d1d787a4-1acf-4af8-987a-5d8b6b9ec086",
   "metadata": {},
   "outputs": [],
   "source": []
  },
  {
   "cell_type": "code",
   "execution_count": null,
   "id": "2fa212b3-d5d9-4e36-981d-d026c7f517af",
   "metadata": {},
   "outputs": [],
   "source": []
  },
  {
   "cell_type": "code",
   "execution_count": null,
   "id": "1638f724-1668-4227-90ef-9428e6981d73",
   "metadata": {},
   "outputs": [],
   "source": []
  },
  {
   "cell_type": "code",
   "execution_count": null,
   "id": "f587736c-6128-4770-873b-e9cdfa06bc6c",
   "metadata": {},
   "outputs": [],
   "source": []
  },
  {
   "cell_type": "code",
   "execution_count": null,
   "id": "79794123-4875-47ed-909f-8d959a374676",
   "metadata": {},
   "outputs": [],
   "source": []
  },
  {
   "cell_type": "code",
   "execution_count": null,
   "id": "42b19b75-b8f3-4324-9be6-7530338a1f36",
   "metadata": {},
   "outputs": [],
   "source": []
  },
  {
   "cell_type": "code",
   "execution_count": null,
   "id": "f5d7a398-2c70-45e9-a52f-2be85d8e768a",
   "metadata": {},
   "outputs": [],
   "source": []
  },
  {
   "cell_type": "code",
   "execution_count": null,
   "id": "fc39426b-b1c7-4263-9ba3-fbede7183aba",
   "metadata": {},
   "outputs": [],
   "source": []
  }
 ],
 "metadata": {
  "kernelspec": {
   "display_name": "Python 3 (ipykernel)",
   "language": "python",
   "name": "python3"
  },
  "language_info": {
   "codemirror_mode": {
    "name": "ipython",
    "version": 3
   },
   "file_extension": ".py",
   "mimetype": "text/x-python",
   "name": "python",
   "nbconvert_exporter": "python",
   "pygments_lexer": "ipython3",
   "version": "3.9.9"
  }
 },
 "nbformat": 4,
 "nbformat_minor": 5
}
