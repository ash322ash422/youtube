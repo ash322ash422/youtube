{
 "cells": [
  {
   "cell_type": "code",
   "execution_count": 2,
   "id": "f6ce3cf9-609d-4681-baff-b1e59e31d50a",
   "metadata": {},
   "outputs": [],
   "source": [
    "import pandas as pd\n",
    "\n",
    "import warnings\n",
    "\n",
    "# Suppress all FutureWarnings\n",
    "warnings.simplefilter(action='ignore', category=FutureWarning)"
   ]
  },
  {
   "cell_type": "code",
   "execution_count": null,
   "id": "12bb6835-d4c8-4fae-be69-6e1b6ae289b6",
   "metadata": {},
   "outputs": [],
   "source": []
  },
  {
   "cell_type": "code",
   "execution_count": 4,
   "id": "b71c6af2-3413-4544-8340-3dd22795d96c",
   "metadata": {},
   "outputs": [
    {
     "name": "stdout",
     "output_type": "stream",
     "text": [
      "df1\n",
      "     A   B   C   D\n",
      "0  A0  B0  C0  D0\n",
      "1  A1  B1  C1  D1\n",
      "2  A2  B2  C2  D2\n",
      "3  A3  B3  C3  D3\n",
      "df2\n",
      "     A   B   C   D\n",
      "4  A4  B4  C4  D4\n",
      "5  A5  B5  C5  D5\n",
      "6  A6  B6  C6  D6\n",
      "7  A7  B7  C7  D7\n",
      "df3\n",
      "       A    B    C    D\n",
      "8    A8   B8   C8   D8\n",
      "9    A9   B9   C9   D9\n",
      "10  A10  B10  C10  D10\n",
      "11  A11  B11  C11  D11\n",
      "result:\n",
      "       A    B    C    D\n",
      "0    A0   B0   C0   D0\n",
      "1    A1   B1   C1   D1\n",
      "2    A2   B2   C2   D2\n",
      "3    A3   B3   C3   D3\n",
      "4    A4   B4   C4   D4\n",
      "5    A5   B5   C5   D5\n",
      "6    A6   B6   C6   D6\n",
      "7    A7   B7   C7   D7\n",
      "8    A8   B8   C8   D8\n",
      "9    A9   B9   C9   D9\n",
      "10  A10  B10  C10  D10\n",
      "11  A11  B11  C11  D11\n"
     ]
    }
   ],
   "source": [
    "# step1: concat - Official Source: https://pandas.pydata.org/docs/user_guide/merging.html\n",
    "df1 = pd.DataFrame(\n",
    "     {\n",
    "         \"A\": [\"A0\", \"A1\", \"A2\", \"A3\"],\n",
    "         \"B\": [\"B0\", \"B1\", \"B2\", \"B3\"],\n",
    "         \"C\": [\"C0\", \"C1\", \"C2\", \"C3\"],\n",
    "         \"D\": [\"D0\", \"D1\", \"D2\", \"D3\"],\n",
    "    }, index=[0, 1, 2, 3],\n",
    ")\n",
    "\n",
    "df2 = pd.DataFrame(\n",
    "     {\n",
    "         \"A\": [\"A4\", \"A5\", \"A6\", \"A7\"],\n",
    "         \"B\": [\"B4\", \"B5\", \"B6\", \"B7\"],\n",
    "         \"C\": [\"C4\", \"C5\", \"C6\", \"C7\"],\n",
    "         \"D\": [\"D4\", \"D5\", \"D6\", \"D7\"],\n",
    "    }, index=[4, 5, 6, 7],\n",
    " )\n",
    "\n",
    "df3 = pd.DataFrame(\n",
    "     {\n",
    "     \"A\": [\"A8\", \"A9\", \"A10\", \"A11\"],\n",
    "     \"B\": [\"B8\", \"B9\", \"B10\", \"B11\"],\n",
    "     \"C\": [\"C8\", \"C9\", \"C10\", \"C11\"],\n",
    "     \"D\": [\"D8\", \"D9\", \"D10\", \"D11\"],\n",
    "     }, index=[8, 9, 10, 11],\n",
    ")\n",
    "\n",
    "print(\"df1\\n\", df1)\n",
    "print(\"df2\\n\", df2)\n",
    "print(\"df3\\n\", df3)\n",
    "# Here columns are same.\n",
    "\n",
    "frames = [df1, df2, df3]\n",
    "\n",
    "result =  pd.concat(frames)\n",
    "print(\"result:\\n\", result)"
   ]
  },
  {
   "cell_type": "code",
   "execution_count": 5,
   "id": "9ff7a1d3-faed-4850-a455-4c47cce97c40",
   "metadata": {},
   "outputs": [
    {
     "name": "stdout",
     "output_type": "stream",
     "text": [
      "df1\n",
      "     A   B   C   D\n",
      "0  A0  B0  C0  D0\n",
      "1  A1  B1  C1  D1\n",
      "2  A2  B2  C2  D2\n",
      "3  A3  B3  C3  D3\n",
      "df2\n",
      "     A   B   C   D\n",
      "0  A4  B4  C4  D4\n",
      "1  A5  B5  C5  D5\n",
      "2  A6  B6  C6  D6\n",
      "3  A7  B7  C7  D7\n",
      "df3\n",
      "      A    B    C    D\n",
      "0   A8   B8   C8   D8\n",
      "1   A9   B9   C9   D9\n",
      "2  A10  B10  C10  D10\n",
      "3  A11  B11  C11  D11\n",
      "result:\n",
      "      A    B    C    D\n",
      "0   A0   B0   C0   D0\n",
      "1   A1   B1   C1   D1\n",
      "2   A2   B2   C2   D2\n",
      "3   A3   B3   C3   D3\n",
      "0   A4   B4   C4   D4\n",
      "1   A5   B5   C5   D5\n",
      "2   A6   B6   C6   D6\n",
      "3   A7   B7   C7   D7\n",
      "0   A8   B8   C8   D8\n",
      "1   A9   B9   C9   D9\n",
      "2  A10  B10  C10  D10\n",
      "3  A11  B11  C11  D11\n"
     ]
    }
   ],
   "source": [
    "# step2: Lets redo above without index\n",
    "df1 = pd.DataFrame(\n",
    "     {\n",
    "         \"A\": [\"A0\", \"A1\", \"A2\", \"A3\"],\n",
    "         \"B\": [\"B0\", \"B1\", \"B2\", \"B3\"],\n",
    "         \"C\": [\"C0\", \"C1\", \"C2\", \"C3\"],\n",
    "         \"D\": [\"D0\", \"D1\", \"D2\", \"D3\"],\n",
    "    }\n",
    ")\n",
    "\n",
    "df2 = pd.DataFrame(\n",
    "     {\n",
    "         \"A\": [\"A4\", \"A5\", \"A6\", \"A7\"],\n",
    "         \"B\": [\"B4\", \"B5\", \"B6\", \"B7\"],\n",
    "         \"C\": [\"C4\", \"C5\", \"C6\", \"C7\"],\n",
    "         \"D\": [\"D4\", \"D5\", \"D6\", \"D7\"],\n",
    "    }\n",
    ")\n",
    "\n",
    "df3 = pd.DataFrame(\n",
    "     {\n",
    "     \"A\": [\"A8\", \"A9\", \"A10\", \"A11\"],\n",
    "     \"B\": [\"B8\", \"B9\", \"B10\", \"B11\"],\n",
    "     \"C\": [\"C8\", \"C9\", \"C10\", \"C11\"],\n",
    "     \"D\": [\"D8\", \"D9\", \"D10\", \"D11\"],\n",
    "     }\n",
    ")\n",
    "\n",
    "print(\"df1\\n\", df1)\n",
    "print(\"df2\\n\", df2)\n",
    "print(\"df3\\n\", df3)\n",
    "\n",
    "frames = [df1, df2, df3]\n",
    "\n",
    "result =  pd.concat(frames)\n",
    "print(\"result:\\n\", result)"
   ]
  },
  {
   "cell_type": "code",
   "execution_count": 6,
   "id": "e6f20a78-8506-45e7-a611-b393a7b00f95",
   "metadata": {},
   "outputs": [
    {
     "name": "stdout",
     "output_type": "stream",
     "text": [
      "      A    B    C    D\n",
      "0    A0   B0   C0   D0\n",
      "1    A1   B1   C1   D1\n",
      "2    A2   B2   C2   D2\n",
      "3    A3   B3   C3   D3\n",
      "4    A4   B4   C4   D4\n",
      "5    A5   B5   C5   D5\n",
      "6    A6   B6   C6   D6\n",
      "7    A7   B7   C7   D7\n",
      "8    A8   B8   C8   D8\n",
      "9    A9   B9   C9   D9\n",
      "10  A10  B10  C10  D10\n",
      "11  A11  B11  C11  D11\n"
     ]
    }
   ],
   "source": [
    "# step3: Lets fix the index\n",
    "result = pd.concat(frames, ignore_index=True)\n",
    "print(result)"
   ]
  },
  {
   "cell_type": "code",
   "execution_count": null,
   "id": "1ff7378c-4d45-40e8-b532-57caf7d1b3da",
   "metadata": {},
   "outputs": [],
   "source": []
  },
  {
   "cell_type": "code",
   "execution_count": 7,
   "id": "ae4b15c6-15dc-4d83-a225-556b0e382942",
   "metadata": {},
   "outputs": [
    {
     "name": "stdout",
     "output_type": "stream",
     "text": [
      "df1:\n",
      "    A   B   C   D\n",
      "0  A0  B0  C0  D0\n",
      "1  A1  B1  C1  D1\n",
      "2  A2  B2  C2  D2\n",
      "3  A3  B3  C3  D3\n",
      "df4:\n",
      "    B   D   F\n",
      "2  B2  D2  F2\n",
      "3  B3  D3  F3\n",
      "6  B6  D6  F6\n",
      "7  B7  D7  F7\n",
      "result:\n",
      "      A    B    C    D    B    D    F\n",
      "0   A0   B0   C0   D0  NaN  NaN  NaN\n",
      "1   A1   B1   C1   D1  NaN  NaN  NaN\n",
      "2   A2   B2   C2   D2   B2   D2   F2\n",
      "3   A3   B3   C3   D3   B3   D3   F3\n",
      "6  NaN  NaN  NaN  NaN   B6   D6   F6\n",
      "7  NaN  NaN  NaN  NaN   B7   D7   F7\n"
     ]
    }
   ],
   "source": [
    "# Joining logic of the resulting axis\n",
    "df1 = pd.DataFrame(\n",
    "    {\n",
    "      \"A\": [\"A0\", \"A1\", \"A2\", \"A3\"],\n",
    "      \"B\": [\"B0\", \"B1\", \"B2\", \"B3\"],\n",
    "      \"C\": [\"C0\", \"C1\", \"C2\", \"C3\"],\n",
    "      \"D\": [\"D0\", \"D1\", \"D2\", \"D3\"],\n",
    "    }, index=[0, 1, 2, 3],\n",
    ")\n",
    "print(f\"df1:\\n{df1}\")\n",
    "\n",
    "df4 = pd.DataFrame(\n",
    "   {\n",
    "     \"B\": [\"B2\", \"B3\", \"B6\", \"B7\"],\n",
    "     \"D\": [\"D2\", \"D3\", \"D6\", \"D7\"],\n",
    "     \"F\": [\"F2\", \"F3\", \"F6\", \"F7\"],\n",
    "   }, index=[2, 3, 6, 7],\n",
    ")\n",
    "print(f\"df4:\\n{df4}\")\n",
    "\n",
    "frames = [df1, df4]\n",
    "\n",
    "result = pd.concat(frames, axis=1, join=\"outer\")\n",
    "print(\"result:\\n\", result)"
   ]
  },
  {
   "cell_type": "code",
   "execution_count": null,
   "id": "2c5364ce-bf96-4249-b7cd-18e545017710",
   "metadata": {},
   "outputs": [],
   "source": []
  },
  {
   "cell_type": "code",
   "execution_count": 8,
   "id": "4ebfd165-f765-4776-bc09-5f288f536a7b",
   "metadata": {},
   "outputs": [
    {
     "name": "stdout",
     "output_type": "stream",
     "text": [
      "    A   B   C   D   B   D   F\n",
      "2  A2  B2  C2  D2  B2  D2  F2\n",
      "3  A3  B3  C3  D3  B3  D3  F3\n"
     ]
    }
   ],
   "source": [
    "# join='inner' takes the intersection of the axis values. Only those rows with matching index are added\n",
    "result = pd.concat([df1, df4], axis=1, join=\"inner\")\n",
    "print(result)"
   ]
  },
  {
   "cell_type": "code",
   "execution_count": null,
   "id": "f94aca05-c036-4548-9dcb-59747f8fbd60",
   "metadata": {},
   "outputs": [],
   "source": []
  },
  {
   "cell_type": "code",
   "execution_count": null,
   "id": "65279008-7d7f-45a3-9f32-a91ba5ea1a44",
   "metadata": {},
   "outputs": [],
   "source": []
  },
  {
   "cell_type": "code",
   "execution_count": 9,
   "id": "d8d63bb8-35b8-4a3d-94cc-2a293a5d2800",
   "metadata": {},
   "outputs": [
    {
     "name": "stdout",
     "output_type": "stream",
     "text": [
      "df1:\n",
      "    A   B   C   D\n",
      "0  A0  B0  C0  D0\n",
      "1  A1  B1  C1  D1\n",
      "2  A2  B2  C2  D2\n",
      "3  A3  B3  C3  D3\n",
      "df4:\n",
      "    B   D   F\n",
      "2  B2  D2  F2\n",
      "3  B3  D3  F3\n",
      "6  B6  D6  F6\n",
      "7  B7  D7  F7\n",
      "result:\n",
      "      A   B    C   D    F\n",
      "0   A0  B0   C0  D0  NaN\n",
      "1   A1  B1   C1  D1  NaN\n",
      "2   A2  B2   C2  D2  NaN\n",
      "3   A3  B3   C3  D3  NaN\n",
      "2  NaN  B2  NaN  D2   F2\n",
      "3  NaN  B3  NaN  D3   F3\n",
      "6  NaN  B6  NaN  D6   F6\n",
      "7  NaN  B7  NaN  D7   F7\n"
     ]
    }
   ],
   "source": [
    "# step1: Joining logic of the resulting axis\n",
    "df1 = pd.DataFrame(\n",
    " {\n",
    " \"A\": [\"A0\", \"A1\", \"A2\", \"A3\"],\n",
    " \"B\": [\"B0\", \"B1\", \"B2\", \"B3\"],\n",
    " \"C\": [\"C0\", \"C1\", \"C2\", \"C3\"],\n",
    " \"D\": [\"D0\", \"D1\", \"D2\", \"D3\"],\n",
    " }, index=[0, 1, 2, 3],\n",
    ")\n",
    "print(f\"df1:\\n{df1}\")\n",
    "\n",
    "df4 = pd.DataFrame(\n",
    "   {\n",
    "       \"B\": [\"B2\", \"B3\", \"B6\", \"B7\"],\n",
    "       \"D\": [\"D2\", \"D3\", \"D6\", \"D7\"],\n",
    "       \"F\": [\"F2\", \"F3\", \"F6\", \"F7\"],\n",
    "   }, index=[2, 3, 6, 7],\n",
    ")\n",
    "print(f\"df4:\\n{df4}\")\n",
    "\n",
    "frames = [df1, df4]\n",
    "\n",
    "result = pd.concat(frames, axis=0)\n",
    "# result = pd.concat(frames, axis=0, ignore_index=True) # this would fix duplicate index\n",
    "\n",
    "print(\"result:\\n\", result)"
   ]
  },
  {
   "cell_type": "code",
   "execution_count": 10,
   "id": "c0ad3aa6-4a99-421a-9343-2ca15468918c",
   "metadata": {},
   "outputs": [
    {
     "name": "stdout",
     "output_type": "stream",
     "text": [
      "    A   B   C   D    B    D    F\n",
      "0  A0  B0  C0  D0  NaN  NaN  NaN\n",
      "1  A1  B1  C1  D1  NaN  NaN  NaN\n",
      "2  A2  B2  C2  D2   B2   D2   F2\n",
      "3  A3  B3  C3  D3   B3   D3   F3\n"
     ]
    }
   ],
   "source": [
    "#step2: To perform an effective “left” join using the exact index from the original DataFrame, result can be reindexed.\n",
    "result = pd.concat([df1, df4], axis=1).reindex(df1.index)\n",
    "print(result)"
   ]
  },
  {
   "cell_type": "code",
   "execution_count": null,
   "id": "7c22b188-f3fe-463e-8a06-e47a950717a9",
   "metadata": {},
   "outputs": [],
   "source": []
  }
 ],
 "metadata": {
  "kernelspec": {
   "display_name": "Python 3 (ipykernel)",
   "language": "python",
   "name": "python3"
  },
  "language_info": {
   "codemirror_mode": {
    "name": "ipython",
    "version": 3
   },
   "file_extension": ".py",
   "mimetype": "text/x-python",
   "name": "python",
   "nbconvert_exporter": "python",
   "pygments_lexer": "ipython3",
   "version": "3.9.9"
  }
 },
 "nbformat": 4,
 "nbformat_minor": 5
}
