{
 "cells": [
  {
   "cell_type": "code",
   "execution_count": 4,
   "id": "1affc757-7aba-4374-ab7b-facf54d96b7e",
   "metadata": {},
   "outputs": [],
   "source": [
    "import pandas as pd\n",
    "\n",
    "import warnings\n",
    "warnings.filterwarnings(action='ignore')\n",
    "\n",
    "data_file = 'data_tips.csv' # make sure you have this file"
   ]
  },
  {
   "cell_type": "code",
   "execution_count": 5,
   "id": "1db44504-f52d-4a00-b161-8315958da832",
   "metadata": {},
   "outputs": [
    {
     "name": "stdout",
     "output_type": "stream",
     "text": [
      "     total_bill   tip     sex smoker   day    time  size\n",
      "0         16.99  1.01  Female     No   Sun  Dinner     2\n",
      "1         10.34  1.66    Male     No   Sun  Dinner     3\n",
      "2         21.01  3.50    Male     No   Sun  Dinner     3\n",
      "3         23.68  3.31    Male     No   Sun  Dinner     2\n",
      "4         24.59  3.61  Female     No   Sun  Dinner     4\n",
      "..          ...   ...     ...    ...   ...     ...   ...\n",
      "239       29.03  5.92    Male     No   Sat  Dinner     3\n",
      "240       27.18  2.00  Female    Yes   Sat  Dinner     2\n",
      "241       22.67  2.00    Male    Yes   Sat  Dinner     2\n",
      "242       17.82  1.75    Male     No   Sat  Dinner     2\n",
      "243       18.78  3.00  Female     No  Thur  Dinner     2\n",
      "\n",
      "[244 rows x 7 columns]\n",
      "(244, 7)\n"
     ]
    }
   ],
   "source": [
    "# important ones\n",
    "df = pd.read_csv('data_tips.csv')\n",
    "\n",
    "print(df)\n",
    "\n",
    "# Lets find how many columns/rows in df\n",
    "print(df.shape) # (rows,columns)"
   ]
  },
  {
   "cell_type": "code",
   "execution_count": 6,
   "id": "4a4f51f6-467f-4248-ad17-d2f7aa2aeed8",
   "metadata": {},
   "outputs": [
    {
     "name": "stdout",
     "output_type": "stream",
     "text": [
      "<class 'pandas.core.frame.DataFrame'>\n",
      "RangeIndex: 244 entries, 0 to 243\n",
      "Data columns (total 7 columns):\n",
      " #   Column      Non-Null Count  Dtype  \n",
      "---  ------      --------------  -----  \n",
      " 0   total_bill  244 non-null    float64\n",
      " 1   tip         244 non-null    float64\n",
      " 2   sex         244 non-null    object \n",
      " 3   smoker      244 non-null    object \n",
      " 4   day         244 non-null    object \n",
      " 5   time        244 non-null    object \n",
      " 6   size        244 non-null    int64  \n",
      "dtypes: float64(2), int64(1), object(4)\n",
      "memory usage: 13.5+ KB\n",
      "None\n"
     ]
    }
   ],
   "source": [
    "# give info about columns\n",
    "print(df.info())"
   ]
  },
  {
   "cell_type": "code",
   "execution_count": 7,
   "id": "faf940a9-b5ba-4c2b-abed-ffe63ff8c1c5",
   "metadata": {},
   "outputs": [
    {
     "name": "stdout",
     "output_type": "stream",
     "text": [
      "       total_bill         tip        size\n",
      "count  244.000000  244.000000  244.000000\n",
      "mean    19.785943    2.998279    2.569672\n",
      "std      8.902412    1.383638    0.951100\n",
      "min      3.070000    1.000000    1.000000\n",
      "25%     13.347500    2.000000    2.000000\n",
      "50%     17.795000    2.900000    2.000000\n",
      "75%     24.127500    3.562500    3.000000\n",
      "max     50.810000   10.000000    6.000000\n"
     ]
    }
   ],
   "source": [
    "# give me the stats on each numerics columns\n",
    "columns = ['total_bill', 'tip', 'size'] # numeric columns\n",
    "print(df[columns].describe()) "
   ]
  },
  {
   "cell_type": "code",
   "execution_count": null,
   "id": "6cd9d8bd-ec26-4043-9623-fe4f28414a47",
   "metadata": {},
   "outputs": [],
   "source": []
  },
  {
   "cell_type": "code",
   "execution_count": 12,
   "id": "1b50d4c1-9f0e-4f31-82ab-87d857999d9b",
   "metadata": {},
   "outputs": [
    {
     "name": "stdout",
     "output_type": "stream",
     "text": [
      "19.78594262295082\n",
      "17.795\n",
      "8.902411954856856\n",
      "3.07\n",
      "50.81\n",
      "4827.77\n",
      "2.0\n"
     ]
    }
   ],
   "source": [
    "# Lets do Column-wise Statistics:\n",
    "\n",
    "# step1: lets do for 1 numeric column total_bill \n",
    "\n",
    "print(df['total_bill'].mean())\n",
    "print(df['total_bill'].median())\n",
    "print(df['total_bill'].std())\n",
    "print(df['total_bill'].min())\n",
    "print(df['total_bill'].max())\n",
    "print(df['total_bill'].sum())\n",
    "\n",
    "# #####################\n",
    "# lets find the most common ocurring tip size for column tip\n",
    "print(df['tip'].mode().iloc[0])"
   ]
  },
  {
   "cell_type": "code",
   "execution_count": 13,
   "id": "12e94d67-7dd8-47bc-acbb-829151ee4d40",
   "metadata": {},
   "outputs": [
    {
     "name": "stdout",
     "output_type": "stream",
     "text": [
      "stats for total_bill\n",
      "19.78594262295082\n",
      "17.795\n",
      "8.902411954856856\n",
      "3.07\n",
      "50.81\n",
      "4827.77\n",
      "---DONE---\n",
      "\n",
      "stats for tip\n",
      "2.99827868852459\n",
      "2.9\n",
      "1.3836381890011822\n",
      "1.0\n",
      "10.0\n",
      "731.5799999999999\n",
      "---DONE---\n",
      "\n",
      "stats for size\n",
      "2.569672131147541\n",
      "2.0\n",
      "0.9510998047322344\n",
      "1\n",
      "6\n",
      "627\n",
      "---DONE---\n",
      "\n"
     ]
    }
   ],
   "source": [
    "# step2: lets do for multiple numeric columns = ['total_bill', 'tip', 'size'] by using for loop\n",
    "columns = ['total_bill', 'tip', 'size']\n",
    "for col in columns:\n",
    "    print(f\"stats for {col}\")\n",
    "    print(df[col].mean())\n",
    "    print(df[col].median())\n",
    "    print(df[col].std())\n",
    "    print(df[col].min())\n",
    "    print(df[col].max())\n",
    "    print(df[col].sum())\n",
    "    print(f\"---DONE---\\n\")\n"
   ]
  },
  {
   "cell_type": "code",
   "execution_count": 16,
   "id": "64398ab5-397e-4d3b-9ba7-a9f609a0bd3c",
   "metadata": {},
   "outputs": [
    {
     "name": "stdout",
     "output_type": "stream",
     "text": [
      "sex       2\n",
      "smoker    2\n",
      "day       4\n",
      "time      2\n",
      "size      6\n",
      "dtype: int64\n",
      "###########################\n",
      "sex:\n",
      "['Female' 'Male']\n",
      "--------\n",
      "\n",
      "smoker:\n",
      "['No' 'Yes']\n",
      "--------\n",
      "\n",
      "day:\n",
      "['Sun' 'Sat' 'Thur' 'Fri']\n",
      "--------\n",
      "\n",
      "time:\n",
      "['Dinner' 'Lunch']\n",
      "--------\n",
      "\n",
      "size:\n",
      "[2 3 4 1 6 5]\n",
      "--------\n",
      "\n",
      "###########################\n",
      "sex\n",
      "Male      157\n",
      "Female     87\n",
      "Name: count, dtype: int64\n",
      "smoker\n",
      "No     151\n",
      "Yes     93\n",
      "Name: count, dtype: int64\n",
      "day\n",
      "Sat     87\n",
      "Sun     76\n",
      "Thur    62\n",
      "Fri     19\n",
      "Name: count, dtype: int64\n",
      "time\n",
      "Dinner    176\n",
      "Lunch      68\n",
      "Name: count, dtype: int64\n",
      "size\n",
      "2    156\n",
      "3     38\n",
      "4     37\n",
      "5      5\n",
      "1      4\n",
      "6      4\n",
      "Name: count, dtype: int64\n"
     ]
    }
   ],
   "source": [
    "# show me the unique counts and the values for columns = ['sex', 'smoker', 'day', 'time', 'size']\n",
    "\n",
    "# step1: The unique counts\n",
    "columns = ['sex', 'smoker', 'day', 'time', 'size']\n",
    "unique_counts = df[columns].nunique()\n",
    "print(unique_counts)\n",
    "print(\"###########################\")\n",
    "\n",
    "\n",
    "# step2: The unique values\n",
    "for col in columns:\n",
    "    print(f\"{col}:\")\n",
    "    print(df[col].unique())\n",
    "    print(\"--------\\n\")\n",
    "print(\"###########################\")\n",
    "\n",
    "# step3: Now show me the individual value counts\n",
    "for col in columns:\n",
    "    print(df[col].value_counts())\n"
   ]
  },
  {
   "cell_type": "code",
   "execution_count": null,
   "id": "9acc35fe-84cd-4dd4-b7e2-5714fe152032",
   "metadata": {},
   "outputs": [],
   "source": []
  },
  {
   "cell_type": "code",
   "execution_count": 19,
   "id": "fdefd64c-dd0d-4fa7-9452-eb1314e84650",
   "metadata": {},
   "outputs": [
    {
     "name": "stdout",
     "output_type": "stream",
     "text": [
      "Q1: 13.3475\n",
      "Q2: 17.795\n",
      "Q3: 24.127499999999998\n",
      "IQR: 10.779999999999998\n",
      "lower bound: -2.8224999999999945\n",
      "upper bound: 40.29749999999999\n",
      "Total number of outliers: 9\n",
      "Outlier Data Points:\n",
      "     total_bill    tip     sex smoker   day    time  size\n",
      "59        48.27   6.73    Male     No   Sat  Dinner     4\n",
      "102       44.30   2.50  Female    Yes   Sat  Dinner     3\n",
      "142       41.19   5.00    Male     No  Thur   Lunch     5\n",
      "156       48.17   5.00    Male     No   Sun  Dinner     6\n",
      "170       50.81  10.00    Male    Yes   Sat  Dinner     3\n",
      "182       45.35   3.50    Male    Yes   Sun  Dinner     3\n",
      "184       40.55   3.00    Male    Yes   Sun  Dinner     2\n",
      "197       43.11   5.00  Female    Yes  Thur   Lunch     4\n",
      "212       48.33   9.00    Male     No   Sat  Dinner     4\n"
     ]
    }
   ],
   "source": [
    "#Now I want to find Q1, Q2, Q3, IQR and outliers.\n",
    "\n",
    "# Inter - Quantile Range (IQR - For Total Bill)\n",
    "Q1 = df['total_bill'].quantile(0.25)\n",
    "Q2 = df['total_bill'].quantile(0.50)\n",
    "Q3 = df['total_bill'].quantile(0.75)\n",
    "print(f\"Q1: {Q1}\")\n",
    "print(f\"Q2: {Q2}\")\n",
    "print(f\"Q3: {Q3}\")\n",
    "\n",
    "\n",
    "IQR = Q3 - Q1\n",
    "print(f\"IQR: {IQR}\")\n",
    "\n",
    "# Define the bounds for outliers\n",
    "lower_bound = Q1 - 1.5 * IQR # min\n",
    "upper_bound = Q3 + 1.5 * IQR # max\n",
    "print(f\"lower bound: {lower_bound}\")\n",
    "print(f\"upper bound: {upper_bound}\")\n",
    "\n",
    "# Find the outliers\n",
    "mask = (df['total_bill'] < lower_bound) | (df['total_bill'] > upper_bound)\n",
    "df_outliers = df[mask]\n",
    "\n",
    "# Display the outliers\n",
    "print(f\"Total number of outliers: {len(df_outliers)}\")\n",
    "print(f\"Outlier Data Points:\\n{df_outliers}\")"
   ]
  },
  {
   "cell_type": "code",
   "execution_count": null,
   "id": "832908c6-c5f9-4f8a-8869-6f48ba9fe3fc",
   "metadata": {},
   "outputs": [],
   "source": []
  },
  {
   "cell_type": "code",
   "execution_count": 20,
   "id": "07f6d424-fbe4-4360-842c-cf775a3988d6",
   "metadata": {},
   "outputs": [
    {
     "name": "stdout",
     "output_type": "stream",
     "text": [
      "total_bill    0\n",
      "tip           0\n",
      "sex           0\n",
      "smoker        0\n",
      "day           0\n",
      "time          0\n",
      "size          0\n",
      "dtype: int64\n"
     ]
    }
   ],
   "source": [
    "# Checking for Null Values\n",
    "print(df.isnull().sum())"
   ]
  },
  {
   "cell_type": "code",
   "execution_count": null,
   "id": "71480cb4-617b-4987-b782-ea38600363f7",
   "metadata": {},
   "outputs": [],
   "source": []
  },
  {
   "cell_type": "code",
   "execution_count": 21,
   "id": "b8e2d5ba-5d62-4e93-b95b-d32d641d8847",
   "metadata": {},
   "outputs": [
    {
     "name": "stdout",
     "output_type": "stream",
     "text": [
      "Correlation matrix of numeric columns:\n",
      "                  tip  total_bill      size\n",
      "tip         1.000000    0.675734  0.489299\n",
      "total_bill  0.675734    1.000000  0.598315\n",
      "size        0.489299    0.598315  1.000000\n"
     ]
    }
   ],
   "source": [
    "# I want to find correlation coeff. between features in tips dataset: -1 to 0 to +1\n",
    "\n",
    "# Select numeric columns\n",
    "numeric_cols = ['tip', 'total_bill', 'size']\n",
    "\n",
    "correlation_matrix = df[numeric_cols].corr()\n",
    "print(\"Correlation matrix of numeric columns:\\n\",correlation_matrix)"
   ]
  },
  {
   "cell_type": "code",
   "execution_count": null,
   "id": "6bff5eee-bd30-4b8f-9b03-99be8288cbd6",
   "metadata": {},
   "outputs": [],
   "source": []
  },
  {
   "cell_type": "code",
   "execution_count": null,
   "id": "eb60a7aa-37fe-4417-ac99-49ba7bc81c96",
   "metadata": {},
   "outputs": [],
   "source": []
  }
 ],
 "metadata": {
  "kernelspec": {
   "display_name": "Python 3 (ipykernel)",
   "language": "python",
   "name": "python3"
  },
  "language_info": {
   "codemirror_mode": {
    "name": "ipython",
    "version": 3
   },
   "file_extension": ".py",
   "mimetype": "text/x-python",
   "name": "python",
   "nbconvert_exporter": "python",
   "pygments_lexer": "ipython3",
   "version": "3.9.9"
  }
 },
 "nbformat": 4,
 "nbformat_minor": 5
}
