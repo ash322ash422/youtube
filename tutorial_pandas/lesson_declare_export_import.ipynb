{
 "cells": [
  {
   "cell_type": "code",
   "execution_count": 1,
   "id": "cd501a66-b85b-4634-9c9b-914b1eadb909",
   "metadata": {},
   "outputs": [
    {
     "name": "stdout",
     "output_type": "stream",
     "text": [
      "Requirement already satisfied: pandas in c:\\users\\hi\\appdata\\local\\programs\\python\\python39\\lib\\site-packages (2.2.0)\n",
      "Requirement already satisfied: numpy<2,>=1.22.4 in c:\\users\\hi\\appdata\\local\\programs\\python\\python39\\lib\\site-packages (from pandas) (1.26.4)\n",
      "Requirement already satisfied: python-dateutil>=2.8.2 in c:\\users\\hi\\appdata\\local\\programs\\python\\python39\\lib\\site-packages (from pandas) (2.8.2)\n",
      "Requirement already satisfied: pytz>=2020.1 in c:\\users\\hi\\appdata\\local\\programs\\python\\python39\\lib\\site-packages (from pandas) (2020.1)\n",
      "Requirement already satisfied: tzdata>=2022.7 in c:\\users\\hi\\appdata\\local\\programs\\python\\python39\\lib\\site-packages (from pandas) (2024.1)\n",
      "Requirement already satisfied: six>=1.5 in c:\\users\\hi\\appdata\\local\\programs\\python\\python39\\lib\\site-packages (from python-dateutil>=2.8.2->pandas) (1.16.0)\n"
     ]
    },
    {
     "name": "stderr",
     "output_type": "stream",
     "text": [
      "WARNING: Ignoring invalid distribution -eras (c:\\users\\hi\\appdata\\local\\programs\\python\\python39\\lib\\site-packages)\n",
      "WARNING: Ignoring invalid distribution -eras (c:\\users\\hi\\appdata\\local\\programs\\python\\python39\\lib\\site-packages)\n",
      "WARNING: Ignoring invalid distribution -eras (c:\\users\\hi\\appdata\\local\\programs\\python\\python39\\lib\\site-packages)\n",
      "\n",
      "[notice] A new release of pip is available: 24.2 -> 25.2\n",
      "[notice] To update, run: python.exe -m pip install --upgrade pip\n"
     ]
    }
   ],
   "source": [
    "# make sure you have pandas installed\n",
    "!pip install pandas"
   ]
  },
  {
   "cell_type": "code",
   "execution_count": 2,
   "id": "45adea46-841c-4877-9d8b-f27181977172",
   "metadata": {},
   "outputs": [],
   "source": [
    "import pandas as pd\n",
    "\n",
    "import warnings\n",
    "warnings.filterwarnings(action='ignore')\n",
    "\n",
    "# print(pd.__version__)\n",
    "data_file = 'data.csv' # NOTE: make sure you have this file"
   ]
  },
  {
   "cell_type": "code",
   "execution_count": 4,
   "id": "ffdba65e-6bb0-4cfe-9662-e14dae9a6660",
   "metadata": {},
   "outputs": [
    {
     "name": "stdout",
     "output_type": "stream",
     "text": [
      "       name  age  is_working  income\n",
      "0       ash   30        True    20.4\n",
      "1     timmy   33       False    20.1\n",
      "2     jimmy   61        True    34.7\n",
      "3  Samantha   19        True    55.9\n",
      "<class 'pandas.core.frame.DataFrame'>\n"
     ]
    }
   ],
   "source": [
    "# Create a DataFrame and export the data to a file\n",
    "data = {\n",
    "    'name':       ['ash', 'timmy', 'jimmy', 'Samantha'],\n",
    "    'age':        [30,     33,       61,       19],\n",
    "    'is_working': [True,   False,   True,     True],\n",
    "    'income':     [20.4,   20.1,     34.7,     55.9] \n",
    "}\n",
    "df = pd.DataFrame(data)\n",
    "\n",
    "print(df)\n",
    "print(type(df))\n"
   ]
  },
  {
   "cell_type": "code",
   "execution_count": 9,
   "id": "e070b209-6145-4c0f-9c49-441e8abb700f",
   "metadata": {},
   "outputs": [],
   "source": [
    "# different ways to export data to file\n",
    "df.to_csv('junk.csv', index=False) # default sep=','\n",
    "\n",
    "# df.to_csv('junk.csv', sep=';', index=False)\n",
    "\n",
    "# df.to_excel('junk.xlsx', index=False, sheet_name='my_sheet1')\n",
    "\n",
    "# df.to_json('junk.json', orient='records', lines=True)\n",
    "\n",
    "# df.to_pickle('junk.pkl')\n"
   ]
  },
  {
   "cell_type": "code",
   "execution_count": 10,
   "id": "63fedd17-ccf7-493a-9b12-4efd8301c0ed",
   "metadata": {},
   "outputs": [
    {
     "name": "stdout",
     "output_type": "stream",
     "text": [
      "       Name  Age         City  Exp  Exp2   Salary passport  bonus  hours\n",
      "0     Alice   25      Chicago    2     2  70000.0      a43   1000    100\n",
      "1       Bob   30  Los Angeles    5     5  80000.0      a44   3000    150\n",
      "2   Charlie   35      Chicago    7     7      NaN      a45      0    200\n",
      "3     David   40      Houston   10    10  90000.0      a46   7000    100\n",
      "4       Eva   22      Houston    1     1  48000.0      a47   2555    120\n",
      "5     Frank   28          NaN    3     3  72000.0      a48      0    100\n",
      "6     Grace   32  San Antonio    6     6  85000.0      a49      0    200\n",
      "7     Helen   26    San Diego    2     2  62000.0      a50   9000    100\n",
      "8     Helen   26    San Diego    2     2  62000.0      a51      0     80\n",
      "9     Helen   26    San Diego    2     2  62000.0      a52   3000    100\n",
      "10    Jerry   23      Phoenix    6     6  78000.0      a53      0     80\n"
     ]
    }
   ],
   "source": [
    "# I can import from CSV with comma separator\n",
    "# from pathlib import Path\n",
    "# data_file = Path.cwd() / 'data.csv'\n",
    "\n",
    "data_file = 'data.csv'\n",
    "df = pd.read_csv(data_file) # default sep=','\n",
    "\n",
    "print(df)"
   ]
  },
  {
   "cell_type": "code",
   "execution_count": 12,
   "id": "c4d96799-e328-46a0-be6a-2cdbbfa950ca",
   "metadata": {},
   "outputs": [
    {
     "name": "stdout",
     "output_type": "stream",
     "text": [
      "      longitude  latitude  housing_median_age  total_rooms  total_bedrooms  \\\n",
      "0       -122.05     37.37                27.0       3885.0           661.0   \n",
      "1       -118.30     34.26                43.0       1510.0           310.0   \n",
      "2       -117.81     33.78                27.0       3589.0           507.0   \n",
      "3       -118.36     33.82                28.0         67.0            15.0   \n",
      "4       -119.67     36.33                19.0       1241.0           244.0   \n",
      "...         ...       ...                 ...          ...             ...   \n",
      "2995    -119.86     34.42                23.0       1450.0           642.0   \n",
      "2996    -118.14     34.06                27.0       5257.0          1082.0   \n",
      "2997    -119.70     36.30                10.0        956.0           201.0   \n",
      "2998    -117.12     34.10                40.0         96.0            14.0   \n",
      "2999    -119.63     34.42                42.0       1765.0           263.0   \n",
      "\n",
      "      population  households  median_income  median_house_value  \n",
      "0         1537.0       606.0         6.6085            344700.0  \n",
      "1          809.0       277.0         3.5990            176500.0  \n",
      "2         1484.0       495.0         5.7934            270500.0  \n",
      "3           49.0        11.0         6.1359            330000.0  \n",
      "4          850.0       237.0         2.9375             81700.0  \n",
      "...          ...         ...            ...                 ...  \n",
      "2995      1258.0       607.0         1.1790            225000.0  \n",
      "2996      3496.0      1036.0         3.3906            237200.0  \n",
      "2997       693.0       220.0         2.2895             62000.0  \n",
      "2998        46.0        14.0         3.2708            162500.0  \n",
      "2999       753.0       260.0         8.5608            500001.0  \n",
      "\n",
      "[3000 rows x 9 columns]\n"
     ]
    }
   ],
   "source": [
    "# different ways to import from local computer\n",
    "\n",
    "# read from CSV file\n",
    "# df = pd.read_csv('data_semi_colon.txt', sep=';') # file has , in the data\n",
    "df = pd.read_csv(\"data_semi-colon-california_house.csv\", sep=';')\n",
    "print(df)\n"
   ]
  },
  {
   "cell_type": "code",
   "execution_count": 13,
   "id": "c125d675-310f-4651-ac6d-8af75e3b5c13",
   "metadata": {},
   "outputs": [
    {
     "name": "stdout",
     "output_type": "stream",
     "text": [
      "       Name  Age         City  Experience  Experience2   Salary\n",
      "0     Alice   25      Chicago           2            2  70000.0\n",
      "1       Bob   30  Los Angeles           5            5  80000.0\n",
      "2   Charlie   35      Chicago           7            7      NaN\n",
      "3     David   40      Houston          10           10  90000.0\n",
      "4       Eva   22      Houston           1            1  48000.0\n",
      "5     Frank   28          NaN           3            3  72000.0\n",
      "6     Grace   32  San Antonio           6            6  85000.0\n",
      "7     Helen   26    San Diego           2            2  62000.0\n",
      "8     Helen   26    San Diego           2            2  62000.0\n",
      "9     Helen   26    San Diego           2            2  62000.0\n",
      "10    Jerry   23      Phoenix           6            6  78000.0\n"
     ]
    }
   ],
   "source": [
    "# read from excel file\n",
    "df = pd.read_excel('data.xlsx', sheet_name='Sheet1')  # Requires openpyxl or xlrd\n",
    "print(df)\n"
   ]
  },
  {
   "cell_type": "code",
   "execution_count": 14,
   "id": "e8120edc-0bf7-4539-9b5e-61fbc134241e",
   "metadata": {},
   "outputs": [
    {
     "name": "stdout",
     "output_type": "stream",
     "text": [
      "       Name  Age         City  Experience  Experience2   Salary\n",
      "0     Alice   25      Chicago           2            2  70000.0\n",
      "1       Bob   30  Los Angeles           5            5  80000.0\n",
      "2   Charlie   35      Chicago           7            7      NaN\n",
      "3     David   40      Houston          10           10  90000.0\n",
      "4       Eva   22      Houston           1            1  48000.0\n",
      "5     Frank   28         None           3            3  72000.0\n",
      "6     Grace   32  San Antonio           6            6  85000.0\n",
      "7     Helen   26    San Diego           2            2  62000.0\n",
      "8     Helen   26    San Diego           2            2  62000.0\n",
      "9     Helen   26    San Diego           2            2  62000.0\n",
      "10    Jerry   23      Phoenix           6            6  78000.0\n"
     ]
    }
   ],
   "source": [
    "# read from JSON file\n",
    "df = pd.read_json('data.json',  lines=True)\n",
    "print(df)\n"
   ]
  },
  {
   "cell_type": "code",
   "execution_count": 15,
   "id": "415a5f50-d885-41ac-96b5-10b176d3f9b8",
   "metadata": {},
   "outputs": [
    {
     "name": "stdout",
     "output_type": "stream",
     "text": [
      "       Name  Age         City  Experience  Experience2   Salary\n",
      "0     Alice   25      Chicago           2            2  70000.0\n",
      "1       Bob   30  Los Angeles           5            5  80000.0\n",
      "2   Charlie   35      Chicago           7            7      NaN\n",
      "3     David   40      Houston          10           10  90000.0\n",
      "4       Eva   22      Houston           1            1  48000.0\n",
      "5     Frank   28          NaN           3            3  72000.0\n",
      "6     Grace   32  San Antonio           6            6  85000.0\n",
      "7     Helen   26    San Diego           2            2  62000.0\n",
      "8     Helen   26    San Diego           2            2  62000.0\n",
      "9     Helen   26    San Diego           2            2  62000.0\n",
      "10    Jerry   23      Phoenix           6            6  78000.0\n"
     ]
    }
   ],
   "source": [
    "# read from pickle file\n",
    "df = pd.read_pickle('data.pkl')\n",
    "print(df)"
   ]
  },
  {
   "cell_type": "code",
   "execution_count": 3,
   "id": "4cde0c63-12f1-4392-9174-da1ca9751c3b",
   "metadata": {},
   "outputs": [
    {
     "name": "stdout",
     "output_type": "stream",
     "text": [
      "       Name  Age         City  Exp  Exp2   Salary passport  bonus  hours\n",
      "0     Alice   25      Chicago    2     2  70000.0      a43   1000    100\n",
      "1       Bob   30  Los Angeles    5     5  80000.0      a44   3000    150\n",
      "2   Charlie   35      Chicago    7     7      NaN      a45      0    200\n",
      "3     David   40      Houston   10    10  90000.0      a46   7000    100\n",
      "4       Eva   22      Houston    1     1  48000.0      a47   2555    120\n",
      "5     Frank   28          NaN    3     3  72000.0      a48      0    100\n",
      "6     Grace   32  San Antonio    6     6  85000.0      a49      0    200\n",
      "7     Helen   26    San Diego    2     2  62000.0      a50   9000    100\n",
      "8     Helen   26    San Diego    2     2  62000.0      a51      0     80\n",
      "9     Helen   26    San Diego    2     2  62000.0      a52   3000    100\n",
      "10    Jerry   23      Phoenix    6     6  78000.0      a53      0     80\n"
     ]
    }
   ],
   "source": [
    "# displaying the data\n",
    "data_file = 'data.csv'\n",
    "df = pd.read_csv(data_file)\n",
    "\n",
    "print(df)\n",
    "# print(df.head(3)) # 1st 3 rows\n",
    "# print(df.tail(3)) # last 3 rows\n",
    "\n",
    "# print(df.sample(n=3))                  # Sample 3 random rows\n",
    "# print(df.sample(frac=0.2))             # Sample 20% of the rows\n",
    "# print(df.sample(n=5, replace=True))    # Sample with replacement, so duplicates can appear\n",
    "# print(df.sample(n=3, random_state=42)) # Sample 3 random rows with consistent output each time it runs"
   ]
  },
  {
   "cell_type": "code",
   "execution_count": null,
   "id": "a33aa5c4-446e-4026-85e2-bb5a74e8561c",
   "metadata": {},
   "outputs": [],
   "source": []
  },
  {
   "cell_type": "code",
   "execution_count": null,
   "id": "c0202f0d-39db-4eee-bab6-ced99eccc226",
   "metadata": {},
   "outputs": [],
   "source": []
  }
 ],
 "metadata": {
  "kernelspec": {
   "display_name": ".venv",
   "language": "python",
   "name": "python3"
  },
  "language_info": {
   "codemirror_mode": {
    "name": "ipython",
    "version": 3
   },
   "file_extension": ".py",
   "mimetype": "text/x-python",
   "name": "python",
   "nbconvert_exporter": "python",
   "pygments_lexer": "ipython3",
   "version": "3.11.2"
  }
 },
 "nbformat": 4,
 "nbformat_minor": 5
}
