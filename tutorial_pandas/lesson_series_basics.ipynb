{
 "cells": [
  {
   "cell_type": "code",
   "execution_count": 16,
   "id": "f24c9c3c-fd33-49c2-9445-d72996caa396",
   "metadata": {},
   "outputs": [
    {
     "name": "stdout",
     "output_type": "stream",
     "text": [
      "2.2.0\n"
     ]
    }
   ],
   "source": [
    "import pandas as pd\n",
    "print(pd.__version__)\n",
    "\n",
    "import warnings\n",
    "warnings.filterwarnings(action='ignore')"
   ]
  },
  {
   "cell_type": "code",
   "execution_count": 17,
   "id": "50eef9b6-ed37-4a4d-b60e-266b70c8af04",
   "metadata": {},
   "outputs": [
    {
     "name": "stdout",
     "output_type": "stream",
     "text": [
      "0    90\n",
      "1    30\n",
      "2    40\n",
      "3    20\n",
      "4    80\n",
      "5    10\n",
      "dtype: int64\n",
      "<class 'pandas.core.series.Series'>\n"
     ]
    }
   ],
   "source": [
    "# Series declaration\n",
    "l = [90, 30, 40, 20, 80, 10] # age\n",
    "s = pd.Series(l) # From a List\n",
    "\n",
    "print(s)\n",
    "print(type(s)) # <class 'pandas.core.series.Series'>"
   ]
  },
  {
   "cell_type": "code",
   "execution_count": 22,
   "id": "f80c6a4d-a2c7-4309-863d-317f63e169b8",
   "metadata": {},
   "outputs": [
    {
     "name": "stdout",
     "output_type": "stream",
     "text": [
      "0    90\n",
      "1    30\n",
      "2    40\n",
      "3    20\n",
      "4    80\n",
      "5    10\n",
      "dtype: int64\n",
      "20\n",
      "1    30\n",
      "2    40\n",
      "3    20\n",
      "dtype: int64\n",
      "0    90\n",
      "1    30\n",
      "2    40\n",
      "dtype: int64\n",
      "2    40\n",
      "3    20\n",
      "4    80\n",
      "5    10\n",
      "dtype: int64\n"
     ]
    }
   ],
   "source": [
    "# accessing elements of series: indexing start with 0\n",
    "l = [90, 30, 40, 20, 80, 10] # age\n",
    "s = pd.Series(l)\n",
    "\n",
    "print(s)\n",
    "\n",
    "print(s[3])   # element at idx=3\n",
    "print(s[1:4]) # elements from idx=1 to idx=3\n",
    "\n",
    "print(s[0:3])  # first 3 elements. s[:3] does the same \n",
    "print(s[2:])  # elements from idx=2 to the last element"
   ]
  },
  {
   "cell_type": "code",
   "execution_count": 25,
   "id": "e5fab33b-670d-456f-8794-844619e11cc3",
   "metadata": {},
   "outputs": [
    {
     "name": "stdout",
     "output_type": "stream",
     "text": [
      "0    35\n",
      "1    25\n",
      "2    15\n",
      "3    45\n",
      "4    25\n",
      "5    27\n",
      "6    39\n",
      "dtype: int64\n",
      "0    60\n",
      "1    40\n",
      "2    20\n",
      "3    80\n",
      "4    40\n",
      "5    44\n",
      "6    68\n",
      "dtype: int64\n",
      "0    3.0\n",
      "1    2.0\n",
      "2    1.0\n",
      "3    4.0\n",
      "4    2.0\n",
      "5    2.2\n",
      "6    3.4\n",
      "dtype: float64\n"
     ]
    }
   ],
   "source": [
    "## 1. Few arithmetic Operations\" +, *, /\n",
    "s = pd.Series([30, 20, 10, 40, 20, 22, 34])\n",
    "\n",
    "print(s + 5)   # Add 5 to each element\n",
    "print(s * 2)   # Multiply each element by 2\n",
    "print(s / 10)  # Divide each element by 10\n"
   ]
  },
  {
   "cell_type": "code",
   "execution_count": 26,
   "id": "a8a409ce-b7c6-495d-a802-4b5eea74fcc0",
   "metadata": {},
   "outputs": [
    {
     "name": "stdout",
     "output_type": "stream",
     "text": [
      "0    50\n",
      "2    30\n",
      "3    40\n",
      "dtype: int64\n"
     ]
    }
   ],
   "source": [
    "# 2. Boolean Filtering\n",
    "s = pd.Series([50, 20, 30, 40, 10])\n",
    "\n",
    "mask = (s > 25)# Filter elements greater than 25\n",
    "print(s[mask])       "
   ]
  },
  {
   "cell_type": "code",
   "execution_count": null,
   "id": "cec2128a-3081-4f8a-92ea-c618c6cd5900",
   "metadata": {},
   "outputs": [],
   "source": []
  },
  {
   "cell_type": "code",
   "execution_count": 31,
   "id": "a1a6a58f-6a1d-4a7f-8e08-6ed267a3e7f1",
   "metadata": {},
   "outputs": [
    {
     "name": "stdout",
     "output_type": "stream",
     "text": [
      "24.285714285714285\n",
      "20.0\n",
      "9.759000729485331\n",
      "40\n",
      "10\n",
      "170\n"
     ]
    }
   ],
   "source": [
    "# Statistical methods\n",
    "l = [30, 20, 10, 40, 20, 30, 20]\n",
    "s = pd.Series(l)\n",
    "\n",
    "print(s.mean())      # Average\n",
    "print(s.median())    # Median\n",
    "print(s.std())       # Standard deviation\n",
    "print(s.max())       # Maximum\n",
    "print(s.min())       # Minimum\n",
    "print(s.sum())       # Sum of all elements\n"
   ]
  },
  {
   "cell_type": "code",
   "execution_count": 34,
   "id": "2c369b6b-c733-4d45-bf4a-4162cb723282",
   "metadata": {},
   "outputs": [
    {
     "name": "stdout",
     "output_type": "stream",
     "text": [
      "0    30\n",
      "1    20\n",
      "2    10\n",
      "3    40\n",
      "4    20\n",
      "5    30\n",
      "6    20\n",
      "dtype: int64\n",
      "0     30\n",
      "1     50\n",
      "2     60\n",
      "3    100\n",
      "4    120\n",
      "5    150\n",
      "6    170\n",
      "dtype: int64\n",
      "0            30\n",
      "1           600\n",
      "2          6000\n",
      "3        240000\n",
      "4       4800000\n",
      "5     144000000\n",
      "6    2880000000\n",
      "dtype: int64\n"
     ]
    }
   ],
   "source": [
    "print(s)\n",
    "print(s.cumsum())    # cumulative sum:     30, 30 + 20, 30 + 20 + 10, ...\n",
    "print(s.cumprod())   # cumulative product: 30, 30 * 20, 30 * 20 * 10, ..."
   ]
  },
  {
   "cell_type": "code",
   "execution_count": 43,
   "id": "72cf61eb-147f-4fc1-8d2c-3e3f2b0d598f",
   "metadata": {},
   "outputs": [
    {
     "name": "stdout",
     "output_type": "stream",
     "text": [
      "0    30\n",
      "1    20\n",
      "2    10\n",
      "3    40\n",
      "4    20\n",
      "5    30\n",
      "6    20\n",
      "dtype: int64\n",
      "count     7.000000\n",
      "mean     24.285714\n",
      "std       9.759001\n",
      "min      10.000000\n",
      "25%      20.000000\n",
      "50%      20.000000\n",
      "75%      30.000000\n",
      "max      40.000000\n",
      "dtype: float64\n",
      "20.0\n",
      "3.688555567816587\n",
      "4\n",
      "[30 20 10 40]\n",
      "20    3\n",
      "30    2\n",
      "10    1\n",
      "40    1\n",
      "Name: count, dtype: int64\n",
      "2\n",
      "3\n"
     ]
    }
   ],
   "source": [
    "print(s)\n",
    "print(s.describe())\n",
    "print(s.quantile(0.25))  # 25th percentile\n",
    "\n",
    "print(s.sem())     # Standard error mean\n",
    "print(s.nunique()) # how many unique elements are there\n",
    "print(s.unique())  # show me all unique elements\n",
    "\n",
    "print(s.value_counts())  # Value counts (frequency of each unique value)\n",
    "\n",
    "print(s.idxmin())  # Index of first min value\n",
    "print(s.idxmax())  # Index of first max value"
   ]
  },
  {
   "cell_type": "code",
   "execution_count": 47,
   "id": "6793019c-1bff-4772-b639-24bb4f9435d2",
   "metadata": {},
   "outputs": [
    {
     "name": "stdout",
     "output_type": "stream",
     "text": [
      "0            ASH\n",
      "1          KUMAR\n",
      "2            BOB\n",
      "3    SHAMLODHIYA\n",
      "4         TANNER\n",
      "dtype: object\n",
      "0            ash\n",
      "1          kumar\n",
      "2            bob\n",
      "3    shamlodhiya\n",
      "4         tanner\n",
      "dtype: object\n",
      "0     3\n",
      "1     5\n",
      "2     3\n",
      "3    11\n",
      "4     6\n",
      "dtype: int64\n"
     ]
    }
   ],
   "source": [
    "# Few string Operations (for string Series)\n",
    "s = pd.Series(['ash', 'kumar', 'bob', 'shaMLOdhiya', 'taNNER'])\n",
    "print(s.str.upper())     # Convert to uppercase\n",
    "print(s.str.lower())     # Convert to lowercase\n",
    "print(s.str.len())       # Length of each string"
   ]
  },
  {
   "cell_type": "code",
   "execution_count": 50,
   "id": "7d7db233-6fd7-498f-ae6c-23d8da83435b",
   "metadata": {},
   "outputs": [
    {
     "name": "stdout",
     "output_type": "stream",
     "text": [
      "0    False\n",
      "1    False\n",
      "2     True\n",
      "3    False\n",
      "4     True\n",
      "5    False\n",
      "dtype: bool\n",
      "0    1.0\n",
      "1    2.0\n",
      "2    0.0\n",
      "3    4.0\n",
      "4    0.0\n",
      "5    1.0\n",
      "dtype: float64\n",
      "0    1.0\n",
      "1    2.0\n",
      "3    4.0\n",
      "5    1.0\n",
      "dtype: float64\n"
     ]
    }
   ],
   "source": [
    "##########################\n",
    "# Handling Missing Data\n",
    "s = pd.Series([1, 2, None, 4, None, 1])\n",
    "print(s.isnull())        # Check for NaNs\n",
    "print(s.fillna(0))       # Replace NaNs with 0\n",
    "print(s.dropna())        # Drop NaNs\n"
   ]
  },
  {
   "cell_type": "code",
   "execution_count": 51,
   "id": "ef3dd340-40a1-4b29-b3f6-17e4d1ab4661",
   "metadata": {},
   "outputs": [
    {
     "name": "stdout",
     "output_type": "stream",
     "text": [
      "1     2\n",
      "0    10\n",
      "5    10\n",
      "3    20\n",
      "2    30\n",
      "4    90\n",
      "dtype: int64\n"
     ]
    }
   ],
   "source": [
    "\n",
    "#########################\n",
    "# Sorting\n",
    "s = pd.Series([10, 2, 30, 20, 90, 10])\n",
    "print(s.sort_values(ascending=True))   # Sort by value"
   ]
  },
  {
   "cell_type": "code",
   "execution_count": null,
   "id": "e5744928-4c93-4680-a67a-c9a2fffa66a0",
   "metadata": {},
   "outputs": [],
   "source": []
  }
 ],
 "metadata": {
  "kernelspec": {
   "display_name": "Python 3 (ipykernel)",
   "language": "python",
   "name": "python3"
  },
  "language_info": {
   "codemirror_mode": {
    "name": "ipython",
    "version": 3
   },
   "file_extension": ".py",
   "mimetype": "text/x-python",
   "name": "python",
   "nbconvert_exporter": "python",
   "pygments_lexer": "ipython3",
   "version": "3.9.9"
  }
 },
 "nbformat": 4,
 "nbformat_minor": 5
}
