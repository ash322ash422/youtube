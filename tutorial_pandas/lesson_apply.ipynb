{
 "cells": [
  {
   "cell_type": "code",
   "execution_count": 6,
   "id": "2b8b25b2-6ed6-4a3d-908f-e2db8a23d839",
   "metadata": {},
   "outputs": [],
   "source": [
    "import pandas as pd\n",
    "\n",
    "import warnings\n",
    "warnings.filterwarnings(action='ignore')\n",
    "\n",
    "data_file = 'data.csv'"
   ]
  },
  {
   "cell_type": "code",
   "execution_count": 7,
   "id": "e099e355-c40c-4913-aeac-23bd12e8673e",
   "metadata": {},
   "outputs": [
    {
     "name": "stdout",
     "output_type": "stream",
     "text": [
      "       Name  Age         City  Exp  Exp2   Salary passport  bonus  hours\n",
      "0     Alice   25      Chicago    2     2  70000.0      a43   1000    100\n",
      "1       Bob   30  Los Angeles    5     5  80000.0      a44   3000    150\n",
      "2   Charlie   35      Chicago    7     7      NaN      a45      0    200\n",
      "3     David   40      Houston   10    10  90000.0      a46   7000    100\n",
      "4       Eva   22      Houston    1     1  48000.0      a47   2555    120\n",
      "5     Frank   28          NaN    3     3  72000.0      a48      0    100\n",
      "6     Grace   32  San Antonio    6     6  85000.0      a49      0    200\n",
      "7     Helen   26    San Diego    2     2  62000.0      a50   9000    100\n",
      "8     Helen   26    San Diego    2     2  62000.0      a51      0     80\n",
      "9     Helen   26    San Diego    2     2  62000.0      a52   3000    100\n",
      "10    Jerry   23      Phoenix    6     6  78000.0      a53      0     80\n"
     ]
    }
   ],
   "source": [
    "df = pd.read_csv('data.csv')\n",
    "print(df)"
   ]
  },
  {
   "cell_type": "code",
   "execution_count": 8,
   "id": "1edfe11d-1dc3-4988-becb-ec46daaf7c9c",
   "metadata": {},
   "outputs": [
    {
     "name": "stdout",
     "output_type": "stream",
     "text": [
      "       Name  Age  Exp age_group\n",
      "0     Alice   25    2     Young\n",
      "1       Bob   30    5    Senior\n",
      "2   Charlie   35    7    Senior\n",
      "3     David   40   10    Senior\n",
      "4       Eva   22    1     Young\n",
      "5     Frank   28    3     Young\n",
      "6     Grace   32    6    Senior\n",
      "7     Helen   26    2     Young\n",
      "8     Helen   26    2     Young\n",
      "9     Helen   26    2     Young\n",
      "10    Jerry   23    6    Senior\n"
     ]
    }
   ],
   "source": [
    "# I want to create a column 'age_group' that has values Young, Senior\n",
    "# depending on Age and experience.\n",
    "# if age < 30 and experience < 4 then Young\n",
    "# else Senior\n",
    "\n",
    "# # 1) row-wise CF\n",
    "def categ_person(row):\n",
    "    if row['Age'] < 30 and row['Exp'] < 4:\n",
    "        return 'Young'\n",
    "    else:\n",
    "        return 'Senior'\n",
    "\n",
    "df['age_group'] = df.apply(categ_person, axis=1)\n",
    "print(df[[\"Name\", \"Age\", \"Exp\", \"age_group\"]])"
   ]
  },
  {
   "cell_type": "code",
   "execution_count": 9,
   "id": "b6d3f329-0e9e-4a88-870e-2df5863f9777",
   "metadata": {},
   "outputs": [
    {
     "name": "stdout",
     "output_type": "stream",
     "text": [
      "       Name  Age   Salary salary_clean\n",
      "0     Alice   25  70000.0  USD 70000.0\n",
      "1       Bob   30  80000.0  USD 80000.0\n",
      "2   Charlie   35      NaN          NaN\n",
      "3     David   40  90000.0  USD 90000.0\n",
      "4       Eva   22  48000.0  USD 48000.0\n",
      "5     Frank   28  72000.0  USD 72000.0\n",
      "6     Grace   32  85000.0  USD 85000.0\n",
      "7     Helen   26  62000.0  USD 62000.0\n",
      "8     Helen   26  62000.0  USD 62000.0\n",
      "9     Helen   26  62000.0  USD 62000.0\n",
      "10    Jerry   23  78000.0  USD 78000.0\n"
     ]
    }
   ],
   "source": [
    "## 2) Column-wise custom function:\n",
    "# I want to create another column salary_clean with \"USD\" appended to the Salary column\n",
    "\n",
    "def add_usd(s):\n",
    "    if pd.notnull(s):\n",
    "        return f\"USD {s}\"\n",
    "    return s  # Keep NaN as is\n",
    "    \n",
    "df['salary_clean'] = df['Salary'].apply(add_usd) \n",
    "print(df[[\"Name\", \"Age\", \"Salary\", \"salary_clean\"]])"
   ]
  },
  {
   "cell_type": "code",
   "execution_count": null,
   "id": "6f2b22d7-ca97-4e42-8b2c-ddf05e2b7e5c",
   "metadata": {},
   "outputs": [],
   "source": []
  },
  {
   "cell_type": "code",
   "execution_count": 11,
   "id": "9ac7e384-b4cc-4aee-bcb1-69abb0b00703",
   "metadata": {},
   "outputs": [
    {
     "name": "stdout",
     "output_type": "stream",
     "text": [
      "       Name  Age   Salary    tax1\n",
      "0     Alice   25  70000.0  7000.0\n",
      "1       Bob   30  80000.0  8000.0\n",
      "2   Charlie   35      NaN     NaN\n",
      "3     David   40  90000.0  9000.0\n",
      "4       Eva   22  48000.0  4800.0\n",
      "5     Frank   28  72000.0  7200.0\n",
      "6     Grace   32  85000.0  8500.0\n",
      "7     Helen   26  62000.0  6200.0\n",
      "8     Helen   26  62000.0  6200.0\n",
      "9     Helen   26  62000.0  6200.0\n",
      "10    Jerry   23  78000.0  7800.0\n"
     ]
    }
   ],
   "source": [
    "# Now lets use lambda\n",
    "# df = pd.read_csv('data.csv')\n",
    "# print(df,\"\\n++++\\n\")\n",
    "\n",
    "# step1: create a new column ,Tax, which is 10% of your salary\n",
    "# Using apply() on a Series (column-wise operation)\n",
    "def add_tax(salary):\n",
    "    return salary * 0.1\n",
    "\n",
    "df['tax1'] = df['Salary'].apply(add_tax)\n",
    "\n",
    "print(df[[\"Name\", \"Age\", \"Salary\", \"tax1\"]])"
   ]
  },
  {
   "cell_type": "code",
   "execution_count": 12,
   "id": "25be5456-8262-4880-a9b9-75b6d03b2588",
   "metadata": {},
   "outputs": [
    {
     "name": "stdout",
     "output_type": "stream",
     "text": [
      "       Name  Age   Salary    tax1    tax2\n",
      "0     Alice   25  70000.0  7000.0  7000.0\n",
      "1       Bob   30  80000.0  8000.0  8000.0\n",
      "2   Charlie   35      NaN     NaN     NaN\n",
      "3     David   40  90000.0  9000.0  9000.0\n",
      "4       Eva   22  48000.0  4800.0  4800.0\n",
      "5     Frank   28  72000.0  7200.0  7200.0\n",
      "6     Grace   32  85000.0  8500.0  8500.0\n",
      "7     Helen   26  62000.0  6200.0  6200.0\n",
      "8     Helen   26  62000.0  6200.0  6200.0\n",
      "9     Helen   26  62000.0  6200.0  6200.0\n",
      "10    Jerry   23  78000.0  7800.0  7800.0\n"
     ]
    }
   ],
   "source": [
    "# step2: Redo above using lambda\n",
    "df['tax2'] = df['Salary'].apply(lambda x: x * 0.1)\n",
    "\n",
    "print(df[[\"Name\", \"Age\", \"Salary\", \"tax1\", \"tax2\"]])"
   ]
  },
  {
   "cell_type": "code",
   "execution_count": null,
   "id": "c2031607-74dc-4ddb-9cbe-5fd0644072cd",
   "metadata": {},
   "outputs": [],
   "source": []
  },
  {
   "cell_type": "code",
   "execution_count": 13,
   "id": "3956defc-f5b8-4a88-9b2a-dfb210c71ffe",
   "metadata": {},
   "outputs": [
    {
     "name": "stdout",
     "output_type": "stream",
     "text": [
      "       Name  Age                    info1\n",
      "0     Alice   25    Alice is 25 years old\n",
      "1       Bob   30      Bob is 30 years old\n",
      "2   Charlie   35  Charlie is 35 years old\n",
      "3     David   40    David is 40 years old\n",
      "4       Eva   22      Eva is 22 years old\n",
      "5     Frank   28    Frank is 28 years old\n",
      "6     Grace   32    Grace is 32 years old\n",
      "7     Helen   26    Helen is 26 years old\n",
      "8     Helen   26    Helen is 26 years old\n",
      "9     Helen   26    Helen is 26 years old\n",
      "10    Jerry   23    Jerry is 23 years old\n"
     ]
    }
   ],
   "source": [
    "# Using apply+lambda across rows (axis=1)\n",
    "# step1: without lambda function\n",
    "def format_info(row):\n",
    "    return f\"{row['Name']} is {row['Age']} years old\"\n",
    "\n",
    "df['info1'] = df.apply(format_info, axis=1)\n",
    "print(df[[\"Name\", \"Age\", \"info1\"]])"
   ]
  },
  {
   "cell_type": "code",
   "execution_count": 14,
   "id": "6caa200e-fe15-4523-a0d3-8086e5983c3b",
   "metadata": {},
   "outputs": [
    {
     "name": "stdout",
     "output_type": "stream",
     "text": [
      "       Name  Age                    info1                    info2\n",
      "0     Alice   25    Alice is 25 years old    Alice is 25 years old\n",
      "1       Bob   30      Bob is 30 years old      Bob is 30 years old\n",
      "2   Charlie   35  Charlie is 35 years old  Charlie is 35 years old\n",
      "3     David   40    David is 40 years old    David is 40 years old\n",
      "4       Eva   22      Eva is 22 years old      Eva is 22 years old\n",
      "5     Frank   28    Frank is 28 years old    Frank is 28 years old\n",
      "6     Grace   32    Grace is 32 years old    Grace is 32 years old\n",
      "7     Helen   26    Helen is 26 years old    Helen is 26 years old\n",
      "8     Helen   26    Helen is 26 years old    Helen is 26 years old\n",
      "9     Helen   26    Helen is 26 years old    Helen is 26 years old\n",
      "10    Jerry   23    Jerry is 23 years old    Jerry is 23 years old\n"
     ]
    }
   ],
   "source": [
    "# step2: with lambda function\n",
    "# df['info'] = df.apply(lambda row: \"XXX\", axis=1 ) #step1\n",
    "df['info2'] = df.apply(lambda row: f\"{row['Name']} is {row['Age']} years old\", axis=1) #step2\n",
    "print(df[[\"Name\", \"Age\", \"info1\", \"info2\"]])"
   ]
  },
  {
   "cell_type": "code",
   "execution_count": 16,
   "id": "71810471-29e4-4542-bfff-3319d426d535",
   "metadata": {},
   "outputs": [
    {
     "name": "stdout",
     "output_type": "stream",
     "text": [
      "       Name  Age  Exp age_group\n",
      "0     Alice   25    2     Young\n",
      "1       Bob   30    5    Senior\n",
      "2   Charlie   35    7    Senior\n",
      "3     David   40   10    Senior\n",
      "4       Eva   22    1     Young\n",
      "5     Frank   28    3     Young\n",
      "6     Grace   32    6    Senior\n",
      "7     Helen   26    2     Young\n",
      "8     Helen   26    2     Young\n",
      "9     Helen   26    2     Young\n",
      "10    Jerry   23    6    Senior\n"
     ]
    }
   ],
   "source": [
    "# if age < 30 and experience < 4 then Young\n",
    "# else Senior\n",
    "df['age_group'] = df.apply(lambda row: 'Young' if row['Age'] < 30 and row['Exp'] < 4 else 'Senior', axis=1)\n",
    "print(df[[\"Name\", \"Age\", \"Exp\", \"age_group\"]])"
   ]
  },
  {
   "cell_type": "code",
   "execution_count": null,
   "id": "67f32224-f22e-4dee-892a-fa2115e417fb",
   "metadata": {},
   "outputs": [],
   "source": []
  }
 ],
 "metadata": {
  "kernelspec": {
   "display_name": "Python 3 (ipykernel)",
   "language": "python",
   "name": "python3"
  },
  "language_info": {
   "codemirror_mode": {
    "name": "ipython",
    "version": 3
   },
   "file_extension": ".py",
   "mimetype": "text/x-python",
   "name": "python",
   "nbconvert_exporter": "python",
   "pygments_lexer": "ipython3",
   "version": "3.9.9"
  }
 },
 "nbformat": 4,
 "nbformat_minor": 5
}
