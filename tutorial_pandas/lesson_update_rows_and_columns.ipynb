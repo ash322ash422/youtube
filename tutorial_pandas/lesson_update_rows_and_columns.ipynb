{
 "cells": [
  {
   "cell_type": "code",
   "execution_count": 1,
   "id": "7b8c73d8-c857-46c6-ad74-6d4d95ca5642",
   "metadata": {},
   "outputs": [
    {
     "name": "stdout",
     "output_type": "stream",
     "text": [
      "Requirement already satisfied: pandas in c:\\users\\hi\\appdata\\local\\programs\\python\\python39\\lib\\site-packages (2.2.0)\n",
      "Requirement already satisfied: numpy<2,>=1.22.4 in c:\\users\\hi\\appdata\\local\\programs\\python\\python39\\lib\\site-packages (from pandas) (1.26.4)\n",
      "Requirement already satisfied: python-dateutil>=2.8.2 in c:\\users\\hi\\appdata\\local\\programs\\python\\python39\\lib\\site-packages (from pandas) (2.8.2)\n",
      "Requirement already satisfied: pytz>=2020.1 in c:\\users\\hi\\appdata\\local\\programs\\python\\python39\\lib\\site-packages (from pandas) (2020.1)\n",
      "Requirement already satisfied: tzdata>=2022.7 in c:\\users\\hi\\appdata\\local\\programs\\python\\python39\\lib\\site-packages (from pandas) (2024.1)\n",
      "Requirement already satisfied: six>=1.5 in c:\\users\\hi\\appdata\\local\\programs\\python\\python39\\lib\\site-packages (from python-dateutil>=2.8.2->pandas) (1.16.0)\n"
     ]
    },
    {
     "name": "stderr",
     "output_type": "stream",
     "text": [
      "WARNING: Ignoring invalid distribution -eras (c:\\users\\hi\\appdata\\local\\programs\\python\\python39\\lib\\site-packages)\n",
      "WARNING: Ignoring invalid distribution -eras (c:\\users\\hi\\appdata\\local\\programs\\python\\python39\\lib\\site-packages)\n",
      "WARNING: Ignoring invalid distribution -eras (c:\\users\\hi\\appdata\\local\\programs\\python\\python39\\lib\\site-packages)\n",
      "\n",
      "[notice] A new release of pip is available: 24.2 -> 25.2\n",
      "[notice] To update, run: python.exe -m pip install --upgrade pip\n"
     ]
    }
   ],
   "source": [
    "# make sure you have pandas installed\n",
    "!pip install pandas"
   ]
  },
  {
   "cell_type": "code",
   "execution_count": null,
   "id": "e37a392b-48c2-468a-a97b-b2de336d9bc6",
   "metadata": {},
   "outputs": [],
   "source": []
  },
  {
   "cell_type": "code",
   "execution_count": 3,
   "id": "412f5c3d-5a77-41db-ba5b-62d99ec454b1",
   "metadata": {},
   "outputs": [],
   "source": [
    "import pandas as pd\n",
    "\n",
    "import warnings\n",
    "warnings.filterwarnings(action='ignore')\n",
    "\n",
    "# print(pd.__version__)\n",
    "data_file = 'data.csv' # NOTE: make sure you have this file"
   ]
  },
  {
   "cell_type": "code",
   "execution_count": null,
   "id": "d0c0c964-b53b-4802-a1db-44a21469a022",
   "metadata": {},
   "outputs": [],
   "source": [
    "# use following so that all data gets displayed in one line\n",
    "pd.set_option(\"display.expand_frame_repr\", False)\n",
    "# also optional: widen display so columns don’t get truncated\n",
    "pd.set_option(\"display.max_columns\", None)\n",
    "pd.set_option(\"display.width\", 1000)\n"
   ]
  },
  {
   "cell_type": "code",
   "execution_count": null,
   "id": "e329fa1b-c174-4eec-91ec-e126680b1102",
   "metadata": {},
   "outputs": [],
   "source": []
  },
  {
   "cell_type": "code",
   "execution_count": 4,
   "id": "d42f80e8-84ba-47a5-b207-a7d505c292e2",
   "metadata": {},
   "outputs": [
    {
     "name": "stdout",
     "output_type": "stream",
     "text": [
      "       Name  Age         City  Exp  Exp2   Salary passport  bonus  hours\n",
      "0     Alice   25      Chicago    2     2  70000.0      a43   1000    100\n",
      "1       Bob   30  Los Angeles    5     5  80000.0      a44   3000    150\n",
      "2   Charlie   35      Chicago    7     7      NaN      a45      0    200\n",
      "3     David   40      Houston   10    10  90000.0      a46   7000    100\n",
      "4       Eva   22      Houston    1     1  48000.0      a47   2555    120\n",
      "5     Frank   28          NaN    3     3  72000.0      a48      0    100\n",
      "6     Grace   32  San Antonio    6     6  85000.0      a49      0    200\n",
      "7     Helen   26    San Diego    2     2  62000.0      a50   9000    100\n",
      "8     Helen   26    San Diego    2     2  62000.0      a51      0     80\n",
      "9     Helen   26    San Diego    2     2  62000.0      a52   3000    100\n",
      "10    Jerry   23      Phoenix    6     6  78000.0      a53      0     80\n",
      "###########################\n",
      "['Name', 'Age', 'City', 'Exp', 'Exp2', 'Salary', 'passport', 'bonus', 'hours']\n"
     ]
    }
   ],
   "source": [
    "# access columns\n",
    "data_file = 'data.csv'\n",
    "df = pd.read_csv(data_file)\n",
    "print(df)\n",
    "print(\"###########################\")\n",
    "\n",
    "# I want to print column names\n",
    "names_of_col = df.columns.tolist()\n",
    "print(names_of_col)"
   ]
  },
  {
   "cell_type": "code",
   "execution_count": null,
   "id": "f3ca2af1-37a3-47c4-b8fb-1574e2c1b206",
   "metadata": {},
   "outputs": [],
   "source": []
  },
  {
   "cell_type": "code",
   "execution_count": 8,
   "id": "082abeaf-21c1-4cc2-87c7-86aa3467fb4c",
   "metadata": {},
   "outputs": [
    {
     "name": "stdout",
     "output_type": "stream",
     "text": [
      "       Name  Age         City  Exp  Exp2   Salary passport  bonus  hours\n",
      "0     Alice   25      Chicago    2     2  70000.0      a43   1000    100\n",
      "1       Bob   30  Los Angeles    5     5  80000.0      a44   3000    150\n",
      "2   Charlie   35      Chicago    7     7      NaN      a45      0    200\n",
      "3     David   40      Houston   10    10  90000.0      a46   7000    100\n",
      "4       Eva   22      Houston    1     1  48000.0      a47   2555    120\n",
      "5     Frank   28          NaN    3     3  72000.0      a48      0    100\n",
      "6     Grace   32  San Antonio    6     6  85000.0      a49      0    200\n",
      "7     Helen   26    San Diego    2     2  62000.0      a50   9000    100\n",
      "8     Helen   26    San Diego    2     2  62000.0      a51      0     80\n",
      "9     Helen   26    San Diego    2     2  62000.0      a52   3000    100\n",
      "10    Jerry   23      Phoenix    6     6  78000.0      a53      0     80\n",
      "###########################\n",
      "0     25\n",
      "1     30\n",
      "2     35\n",
      "3     40\n",
      "4     22\n",
      "5     28\n",
      "6     32\n",
      "7     26\n",
      "8     26\n",
      "9     26\n",
      "10    23\n",
      "Name: Age, dtype: int64\n",
      "<class 'pandas.core.series.Series'>\n"
     ]
    }
   ],
   "source": [
    "# access data for 1 column: Age\n",
    "\n",
    "df = pd.read_csv(data_file)\n",
    "print(df)\n",
    "print(\"###########################\")\n",
    "\n",
    "\n",
    "age = df['Age']\n",
    "# age = df.Age # or use this\n",
    "\n",
    "print(age)\n",
    "print(type(age)) # <class 'pandas.core.series.Series'>"
   ]
  },
  {
   "cell_type": "code",
   "execution_count": null,
   "id": "eb5c6db6-57d3-4c98-bf8a-0f29dd98e931",
   "metadata": {},
   "outputs": [],
   "source": []
  },
  {
   "cell_type": "code",
   "execution_count": 9,
   "id": "ed3fd5bf-0464-45ea-ad44-5ad7f990b698",
   "metadata": {},
   "outputs": [
    {
     "name": "stdout",
     "output_type": "stream",
     "text": [
      "       Name  Age         City  Exp  Exp2   Salary passport  bonus  hours\n",
      "0     Alice   25      Chicago    2     2  70000.0      a43   1000    100\n",
      "1       Bob   30  Los Angeles    5     5  80000.0      a44   3000    150\n",
      "2   Charlie   35      Chicago    7     7      NaN      a45      0    200\n",
      "3     David   40      Houston   10    10  90000.0      a46   7000    100\n",
      "4       Eva   22      Houston    1     1  48000.0      a47   2555    120\n",
      "5     Frank   28          NaN    3     3  72000.0      a48      0    100\n",
      "6     Grace   32  San Antonio    6     6  85000.0      a49      0    200\n",
      "7     Helen   26    San Diego    2     2  62000.0      a50   9000    100\n",
      "8     Helen   26    San Diego    2     2  62000.0      a51      0     80\n",
      "9     Helen   26    San Diego    2     2  62000.0      a52   3000    100\n",
      "10    Jerry   23      Phoenix    6     6  78000.0      a53      0     80\n",
      "####################\n",
      "       Name         City\n",
      "0     Alice      Chicago\n",
      "1       Bob  Los Angeles\n",
      "2   Charlie      Chicago\n",
      "3     David      Houston\n",
      "4       Eva      Houston\n",
      "5     Frank          NaN\n",
      "6     Grace  San Antonio\n",
      "7     Helen    San Diego\n",
      "8     Helen    San Diego\n",
      "9     Helen    San Diego\n",
      "10    Jerry      Phoenix\n"
     ]
    }
   ],
   "source": [
    "# I want to access dataframe for 2 columns: 'Name', 'City'\n",
    "print(df)\n",
    "print(\"####################\")\n",
    "\n",
    "df_temp = df[['Name', 'City']]\n",
    "print(df_temp)"
   ]
  },
  {
   "cell_type": "code",
   "execution_count": null,
   "id": "e1cca171-c7d1-45bd-a325-51734ac21c9c",
   "metadata": {},
   "outputs": [],
   "source": []
  },
  {
   "cell_type": "code",
   "execution_count": 10,
   "id": "e5c70217-442f-4872-951d-7ec57094c390",
   "metadata": {},
   "outputs": [
    {
     "name": "stdout",
     "output_type": "stream",
     "text": [
      "       Name  Age         City  Exp  Exp2   Salary passport  bonus  hours\n",
      "0     Alice   25      Chicago    2     2  70000.0      a43   1000    100\n",
      "1       Bob   30  Los Angeles    5     5  80000.0      a44   3000    150\n",
      "2   Charlie   35      Chicago    7     7      NaN      a45      0    200\n",
      "3     David   40      Houston   10    10  90000.0      a46   7000    100\n",
      "4       Eva   22      Houston    1     1  48000.0      a47   2555    120\n",
      "5     Frank   28          NaN    3     3  72000.0      a48      0    100\n",
      "6     Grace   32  San Antonio    6     6  85000.0      a49      0    200\n",
      "7     Helen   26    San Diego    2     2  62000.0      a50   9000    100\n",
      "8     Helen   26    San Diego    2     2  62000.0      a51      0     80\n",
      "9     Helen   26    San Diego    2     2  62000.0      a52   3000    100\n",
      "10    Jerry   23      Phoenix    6     6  78000.0      a53      0     80\n",
      "####################\n",
      "       Name  Age         City  Exp  Exp2   Salary passport  bonus  hours\n",
      "0     Alice   25      Chicago    2     2  70000.0      a43   1000    100\n",
      "1       Bob   30  Los Angeles    5     5  80000.0      a44   3000    150\n",
      "2   Charlie   35      Chicago    7     7      NaN      a45      0    200\n",
      "3     David   40      Houston   10    10  90000.0      a46   7000    100\n",
      "4       Eva   22      Houston    1     1  48000.0      a47   2555    120\n",
      "5     Frank   28          NaN    3     3  72000.0      a48      0    100\n",
      "6     Grace   32  San Antonio    6     6  85000.0      a49      0    200\n",
      "7     Helen   26    San Diego    2     2  62000.0      a50   9000    100\n",
      "8     Helen   26    San Diego    2     2  62000.0      a51      0     80\n",
      "9     Helen   26    San Diego    2     2  62000.0      a52   3000    100\n",
      "10    Jerry   23      Phoenix    6     6  78000.0      a53      0     80\n",
      "11      Kim   29        Tokyo    4     4  67000.0      m33      0     90\n"
     ]
    }
   ],
   "source": [
    "# Now lets add a row\n",
    "df = pd.read_csv('data.csv')\n",
    "print(df)\n",
    "\n",
    "print(\"####################\")\n",
    "# add a row\n",
    "# df.loc[len(df)] = ['Kim', 29, 'Tokyo', 4, 4, 67000.0, 'm33'] # INCOREECT because the number of records do not match\n",
    "df.loc[len(df)] = ['Kim', 29, 'Tokyo', 4, 4, 67000.0, 'm33', 0, 90]\n",
    "print(df)"
   ]
  },
  {
   "cell_type": "code",
   "execution_count": 11,
   "id": "dd0b66f5-7f79-41e0-9bd8-17e4c7c88866",
   "metadata": {},
   "outputs": [
    {
     "name": "stdout",
     "output_type": "stream",
     "text": [
      "     Name  Age         City  Exp  Exp2   Salary passport  bonus  hours\n",
      "0   Alice   25      Chicago    2     2  70000.0      a43   1000    100\n",
      "1     Bob   30  Los Angeles    5     5  80000.0      a44   3000    150\n",
      "3   David   40      Houston   10    10  90000.0      a46   7000    100\n",
      "4     Eva   22      Houston    1     1  48000.0      a47   2555    120\n",
      "5   Frank   28          NaN    3     3  72000.0      a48      0    100\n",
      "6   Grace   32  San Antonio    6     6  85000.0      a49      0    200\n",
      "7   Helen   26    San Diego    2     2  62000.0      a50   9000    100\n",
      "8   Helen   26    San Diego    2     2  62000.0      a51      0     80\n",
      "9   Helen   26    San Diego    2     2  62000.0      a52   3000    100\n",
      "10  Jerry   23      Phoenix    6     6  78000.0      a53      0     80\n"
     ]
    }
   ],
   "source": [
    "# lets drop 2 rows based on index, idx=2, 11\n",
    "df = df.drop([2, 11,])\n",
    "print(df)"
   ]
  },
  {
   "cell_type": "code",
   "execution_count": 13,
   "id": "5dadd046-ecd1-4f4f-9096-175fb4230c94",
   "metadata": {},
   "outputs": [],
   "source": [
    "# use following so that all data gets displayed in one line\n",
    "pd.set_option(\"display.expand_frame_repr\", False)\n",
    "# also optional: widen display so columns don’t get truncated\n",
    "pd.set_option(\"display.max_columns\", None)\n",
    "pd.set_option(\"display.width\", 1000)\n"
   ]
  },
  {
   "cell_type": "code",
   "execution_count": 14,
   "id": "e3d3e16e-c4a0-4b29-942e-b86dc9e8fd22",
   "metadata": {},
   "outputs": [
    {
     "name": "stdout",
     "output_type": "stream",
     "text": [
      "\n",
      "After :\n",
      "      Name  Age         City  Exp  Exp2   Salary passport  bonus  hours                          company\n",
      "0   Alice   25      Chicago    2     2  70000.0      a43   1000    100  Lucent Shamlodhiya Technologies\n",
      "1     Bob   30  Los Angeles    5     5  80000.0      a44   3000    150  Lucent Shamlodhiya Technologies\n",
      "3   David   40      Houston   10    10  90000.0      a46   7000    100  Lucent Shamlodhiya Technologies\n",
      "4     Eva   22      Houston    1     1  48000.0      a47   2555    120  Lucent Shamlodhiya Technologies\n",
      "5   Frank   28          NaN    3     3  72000.0      a48      0    100  Lucent Shamlodhiya Technologies\n",
      "6   Grace   32  San Antonio    6     6  85000.0      a49      0    200  Lucent Shamlodhiya Technologies\n",
      "7   Helen   26    San Diego    2     2  62000.0      a50   9000    100  Lucent Shamlodhiya Technologies\n",
      "8   Helen   26    San Diego    2     2  62000.0      a51      0     80  Lucent Shamlodhiya Technologies\n",
      "9   Helen   26    San Diego    2     2  62000.0      a52   3000    100  Lucent Shamlodhiya Technologies\n",
      "10  Jerry   23      Phoenix    6     6  78000.0      a53      0     80  Lucent Shamlodhiya Technologies\n"
     ]
    }
   ],
   "source": [
    "# lets create a new column 'company' with same values all across rows\n",
    "\n",
    "df['company'] = \"Lucent Shamlodhiya Technologies\" \n",
    "print(\"\\nAfter :\\n\",df)"
   ]
  },
  {
   "cell_type": "code",
   "execution_count": null,
   "id": "f4033751-a8dc-415d-9688-a8d208e5d33a",
   "metadata": {},
   "outputs": [],
   "source": []
  },
  {
   "cell_type": "code",
   "execution_count": 15,
   "id": "ea8f6749-cff2-42be-a470-2e9906f1117c",
   "metadata": {},
   "outputs": [
    {
     "name": "stdout",
     "output_type": "stream",
     "text": [
      "     Name  Age         City  Exp  Exp2   Salary passport  bonus  hours                          company\n",
      "0   Alice   25      Chicago    2     2  70000.0      a43   1000    100  Lucent Shamlodhiya Technologies\n",
      "1     Bob   30  Los Angeles    5     5  80000.0      a44   3000    150  Lucent Shamlodhiya Technologies\n",
      "3   David   40      Houston   10    10  90000.0      a46   7000    100  Lucent Shamlodhiya Technologies\n",
      "4     Eva   22      Houston    1     1  48000.0      a47   2555    120  Lucent Shamlodhiya Technologies\n",
      "5   Frank   28          NaN    3     3  72000.0      a48      0    100  Lucent Shamlodhiya Technologies\n",
      "6   Grace   32  San Antonio    6     6  85000.0      a49      0    200  Lucent Shamlodhiya Technologies\n",
      "7   Helen   26    San Diego    2     2  62000.0      a50   9000    100  Lucent Shamlodhiya Technologies\n",
      "8   Helen   26    San Diego    2     2  62000.0      a51      0     80  Lucent Shamlodhiya Technologies\n",
      "9   Helen   26    San Diego    2     2  62000.0      a52   3000    100  Lucent Shamlodhiya Technologies\n",
      "10  Jerry   23      Phoenix    6     6  78000.0      a53      0     80  Lucent Shamlodhiya Technologies\n",
      "#####################\n",
      "\n",
      "After dropping a column:\n",
      "      Name  Age         City  Exp   Salary passport  bonus  hours\n",
      "0   Alice   25      Chicago    2  70000.0      a43   1000    100\n",
      "1     Bob   30  Los Angeles    5  80000.0      a44   3000    150\n",
      "3   David   40      Houston   10  90000.0      a46   7000    100\n",
      "4     Eva   22      Houston    1  48000.0      a47   2555    120\n",
      "5   Frank   28          NaN    3  72000.0      a48      0    100\n",
      "6   Grace   32  San Antonio    6  85000.0      a49      0    200\n",
      "7   Helen   26    San Diego    2  62000.0      a50   9000    100\n",
      "8   Helen   26    San Diego    2  62000.0      a51      0     80\n",
      "9   Helen   26    San Diego    2  62000.0      a52   3000    100\n",
      "10  Jerry   23      Phoenix    6  78000.0      a53      0     80\n"
     ]
    }
   ],
   "source": [
    "# Lets drop 2 columns that we do not need: 'company','Exp2'\n",
    "print(df)\n",
    "print(\"#####################\")\n",
    "\n",
    "df.drop(columns=['company','Exp2'], inplace=True)\n",
    "print(\"\\nAfter dropping a column:\\n\",df)"
   ]
  },
  {
   "cell_type": "code",
   "execution_count": null,
   "id": "17bc49f3-513d-423e-bb62-cf6307b20e19",
   "metadata": {},
   "outputs": [],
   "source": []
  },
  {
   "cell_type": "code",
   "execution_count": 16,
   "id": "d50b5a22-94a2-4f14-9e15-2a29570edf3a",
   "metadata": {},
   "outputs": [
    {
     "name": "stdout",
     "output_type": "stream",
     "text": [
      "     Name  Age         City  Exp   Salary passport  bonus  hours\n",
      "0   Alice   25      Chicago    2  70000.0      a43   1000    100\n",
      "1     Bob   30           LA    5  80000.0      a44   3000    150\n",
      "3   David   40      Houston   10  90000.0      a46   7000    100\n",
      "4     Eva   22      Houston    1  48000.0      a47   2555    120\n",
      "5   Frank   28          NaN    3  72000.0      a48      0    100\n",
      "6   Grace   32  San Antonio    6  85000.0      a49      0    200\n",
      "7   Helen   26           SD    2  62000.0      a50   9000    100\n",
      "8   Helen   26           SD    2  62000.0      a51      0     80\n",
      "9   Helen   26           SD    2  62000.0      a52   3000    100\n",
      "10  Jerry   23      Phoenix    6  78000.0      a53      0     80\n"
     ]
    }
   ],
   "source": [
    "# lets replace values of column City\n",
    "df['City'] = df['City'].replace({\n",
    "    'Los Angeles': 'LA',\n",
    "    'San Diego': 'SD'\n",
    "})\n",
    "print(df)"
   ]
  },
  {
   "cell_type": "code",
   "execution_count": null,
   "id": "7e302f66-8ec7-4bc8-b483-54ebb0bac0e7",
   "metadata": {},
   "outputs": [],
   "source": []
  },
  {
   "cell_type": "code",
   "execution_count": 17,
   "id": "d0f9eb89-db38-49a4-87f8-1b9ffc79ada2",
   "metadata": {},
   "outputs": [
    {
     "name": "stdout",
     "output_type": "stream",
     "text": [
      "     Name  Age         City  Exp   Salary passport  bonus  hours  total_salary\n",
      "0   Alice   25      Chicago    2  70000.0      a43   1000    100       71000.0\n",
      "1     Bob   30           LA    5  80000.0      a44   3000    150       83000.0\n",
      "3   David   40      Houston   10  90000.0      a46   7000    100       97000.0\n",
      "4     Eva   22      Houston    1  48000.0      a47   2555    120       50555.0\n",
      "5   Frank   28          NaN    3  72000.0      a48      0    100       72000.0\n",
      "6   Grace   32  San Antonio    6  85000.0      a49      0    200       85000.0\n",
      "7   Helen   26           SD    2  62000.0      a50   9000    100       71000.0\n",
      "8   Helen   26           SD    2  62000.0      a51      0     80       62000.0\n",
      "9   Helen   26           SD    2  62000.0      a52   3000    100       65000.0\n",
      "10  Jerry   23      Phoenix    6  78000.0      a53      0     80       78000.0\n"
     ]
    }
   ],
   "source": [
    "# creating a column by adding values from 2 columns: total_salary = Salary + bonus\n",
    "df['total_salary'] = df['Salary'] + df['bonus']\n",
    "print(df)"
   ]
  },
  {
   "cell_type": "code",
   "execution_count": 18,
   "id": "67fba3cc-fbb5-423a-b5b2-c6a945fd5f2b",
   "metadata": {},
   "outputs": [
    {
     "name": "stdout",
     "output_type": "stream",
     "text": [
      "     Name  Age         City  Exp   Salary passport  bonus  hours  total_salary  tax_10percent\n",
      "0   Alice   25      Chicago    2  70000.0      a43   1000    100       71000.0         7100.0\n",
      "1     Bob   30           LA    5  80000.0      a44   3000    150       83000.0         8300.0\n",
      "3   David   40      Houston   10  90000.0      a46   7000    100       97000.0         9700.0\n",
      "4     Eva   22      Houston    1  48000.0      a47   2555    120       50555.0         5055.5\n",
      "5   Frank   28          NaN    3  72000.0      a48      0    100       72000.0         7200.0\n",
      "6   Grace   32  San Antonio    6  85000.0      a49      0    200       85000.0         8500.0\n",
      "7   Helen   26           SD    2  62000.0      a50   9000    100       71000.0         7100.0\n",
      "8   Helen   26           SD    2  62000.0      a51      0     80       62000.0         6200.0\n",
      "9   Helen   26           SD    2  62000.0      a52   3000    100       65000.0         6500.0\n",
      "10  Jerry   23      Phoenix    6  78000.0      a53      0     80       78000.0         7800.0\n"
     ]
    }
   ],
   "source": [
    "# lets create a column that shows 10% tax for each person \n",
    "\n",
    "df['tax_10percent'] = df['total_salary'] * 0.1\n",
    "print(df)"
   ]
  },
  {
   "cell_type": "code",
   "execution_count": null,
   "id": "1691043a-ac0c-4114-ae0e-fa7f99793728",
   "metadata": {},
   "outputs": [],
   "source": []
  },
  {
   "cell_type": "code",
   "execution_count": 19,
   "id": "29f90b57-480c-4f52-95b1-13727932a4d9",
   "metadata": {},
   "outputs": [
    {
     "name": "stdout",
     "output_type": "stream",
     "text": [
      "     Name  Age         City  Exp   Salary passport  bonus  hours  total_salary  tax_10percent  total_salary_bonus\n",
      "0   Alice   25      Chicago    2  70000.0      a43   1000    100       71000.0         7100.0             72000.0\n",
      "1     Bob   30           LA    5  80000.0      a44   3000    150       83000.0         8300.0             84000.0\n",
      "3   David   40      Houston   10  90000.0      a46   7000    100       97000.0         9700.0             98000.0\n",
      "4     Eva   22      Houston    1  48000.0      a47   2555    120       50555.0         5055.5             51555.0\n",
      "5   Frank   28          NaN    3  72000.0      a48      0    100       72000.0         7200.0             73000.0\n",
      "6   Grace   32  San Antonio    6  85000.0      a49      0    200       85000.0         8500.0             86000.0\n",
      "7   Helen   26           SD    2  62000.0      a50   9000    100       71000.0         7100.0             72000.0\n",
      "8   Helen   26           SD    2  62000.0      a51      0     80       62000.0         6200.0             63000.0\n",
      "9   Helen   26           SD    2  62000.0      a52   3000    100       65000.0         6500.0             66000.0\n",
      "10  Jerry   23      Phoenix    6  78000.0      a53      0     80       78000.0         7800.0             79000.0\n"
     ]
    }
   ],
   "source": [
    "# lets create a column that shows total_salary + festival bonus of 1000 to each person \n",
    "df['total_salary_bonus'] = df['total_salary'] + 1000\n",
    "print(df)"
   ]
  },
  {
   "cell_type": "code",
   "execution_count": null,
   "id": "ff0b7dd8-3f6a-4693-b7fe-c725cf60f941",
   "metadata": {},
   "outputs": [],
   "source": []
  },
  {
   "cell_type": "code",
   "execution_count": 20,
   "id": "4dcf0437-d156-4b95-9d9f-6c6c208873fa",
   "metadata": {},
   "outputs": [
    {
     "name": "stdout",
     "output_type": "stream",
     "text": [
      "     Name  Age         City  Exp   Salary passport  bonus  hours  total_salary  tax_10percent  total_salary_bonus  sal_per_hr\n",
      "0   Alice   25      Chicago    2  70000.0      a43   1000    100       71000.0         7100.0             72000.0  710.000000\n",
      "1     Bob   30           LA    5  80000.0      a44   3000    150       83000.0         8300.0             84000.0  553.333333\n",
      "3   David   40      Houston   10  90000.0      a46   7000    100       97000.0         9700.0             98000.0  970.000000\n",
      "4     Eva   22      Houston    1  48000.0      a47   2555    120       50555.0         5055.5             51555.0  421.291667\n",
      "5   Frank   28          NaN    3  72000.0      a48      0    100       72000.0         7200.0             73000.0  720.000000\n",
      "6   Grace   32  San Antonio    6  85000.0      a49      0    200       85000.0         8500.0             86000.0  425.000000\n",
      "7   Helen   26           SD    2  62000.0      a50   9000    100       71000.0         7100.0             72000.0  710.000000\n",
      "8   Helen   26           SD    2  62000.0      a51      0     80       62000.0         6200.0             63000.0  775.000000\n",
      "9   Helen   26           SD    2  62000.0      a52   3000    100       65000.0         6500.0             66000.0  650.000000\n",
      "10  Jerry   23      Phoenix    6  78000.0      a53      0     80       78000.0         7800.0             79000.0  975.000000\n"
     ]
    }
   ],
   "source": [
    "# lets create a column that shows salary per hours for each  person \n",
    "df['sal_per_hr'] = df['total_salary'] / df['hours']\n",
    "print(df)"
   ]
  },
  {
   "cell_type": "code",
   "execution_count": null,
   "id": "fd454972-a6b6-482d-8767-54c3fec87996",
   "metadata": {},
   "outputs": [],
   "source": []
  },
  {
   "cell_type": "code",
   "execution_count": null,
   "id": "73a81d29-b873-476f-a5bf-f764ee0d74d6",
   "metadata": {},
   "outputs": [],
   "source": []
  }
 ],
 "metadata": {
  "kernelspec": {
   "display_name": "Python 3 (ipykernel)",
   "language": "python",
   "name": "python3"
  },
  "language_info": {
   "codemirror_mode": {
    "name": "ipython",
    "version": 3
   },
   "file_extension": ".py",
   "mimetype": "text/x-python",
   "name": "python",
   "nbconvert_exporter": "python",
   "pygments_lexer": "ipython3",
   "version": "3.9.9"
  }
 },
 "nbformat": 4,
 "nbformat_minor": 5
}
