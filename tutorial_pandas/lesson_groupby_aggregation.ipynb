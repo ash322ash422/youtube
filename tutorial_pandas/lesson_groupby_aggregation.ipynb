{
 "cells": [
  {
   "cell_type": "markdown",
   "id": "3319789e-3456-48c6-b7fb-7384e3109b49",
   "metadata": {},
   "source": [
    "##  groupby and aggregation\n",
    "Following are all the aggregation functions:\n",
    "\n",
    "| Function Name | Description                   |\n",
    "| ------------- | ----------------------------- |\n",
    "| `mean`        | Average value                 |\n",
    "| `max`         | Maximum value                 |\n",
    "| `min`         | Minimum value                 |\n",
    "| `sum`         | Sum of values                 |\n",
    "| `count`       | Number of non-NA/null entries |\n",
    "| `median`      | Median (middle value)         |\n",
    "| `std`         | Standard deviation            |\n",
    "| `var`         | Variance                      |\n",
    "| `first`       | First value                   |\n",
    "| `last`        | Last value                    |\n",
    "| `nunique`     | Number of unique values       |\n",
    "| `prod`        | Product of values             |\n",
    "| `size`        | Size of group (including NA)  |\n",
    "| `sem`         | Standard error of the mean    |\n",
    "| `mad`         | Mean absolute deviation       |\n",
    "\n",
    "\n",
    "- we explore few of the above stats"
   ]
  },
  {
   "cell_type": "code",
   "execution_count": 3,
   "id": "29811a7a-657d-42a1-a2e5-97357270864a",
   "metadata": {},
   "outputs": [],
   "source": [
    "import pandas as pd\n",
    "\n",
    "import warnings\n",
    "\n",
    "# Suppress all FutureWarnings\n",
    "warnings.simplefilter(action='ignore', category=FutureWarning)"
   ]
  },
  {
   "cell_type": "code",
   "execution_count": 4,
   "id": "14a308dd-75b6-40df-b21e-07b1942a341e",
   "metadata": {},
   "outputs": [
    {
     "name": "stdout",
     "output_type": "stream",
     "text": [
      "Original Data:\n",
      "   Department     Employee   Salary  Experience Region\n",
      "0         HR        Rahim  60000.0           2   East\n",
      "1         IT      Vanessa  75000.0           5   West\n",
      "2    Finance         Cory  82000.0           7   East\n",
      "3         HR        David  58000.0           3    NaN\n",
      "4         IT         Neha  79000.0           4   East\n",
      "5    Finance        Frank      NaN           9   West\n",
      "6         HR        Grace  62000.0           2   East\n",
      "7         IT        Helen  73000.0           6   East\n",
      "8    Finance          Ian  88000.0           8   West\n",
      "9    Finance  Shamlodhiya  56000.0           2   West\n"
     ]
    }
   ],
   "source": [
    "# groupby and aggregation\n",
    "\n",
    "df = pd.read_csv('data_groupby_aggregation.csv')\n",
    "print(\"Original Data:\\n\", df)"
   ]
  },
  {
   "cell_type": "code",
   "execution_count": 5,
   "id": "11bc75fd-d264-4c61-a284-cb1a2593d79f",
   "metadata": {},
   "outputs": [
    {
     "name": "stdout",
     "output_type": "stream",
     "text": [
      "Original Data:\n",
      "   Department     Employee   Salary  Experience Region\n",
      "0         HR        Rahim  60000.0           2   East\n",
      "1         IT      Vanessa  75000.0           5   West\n",
      "2    Finance         Cory  82000.0           7   East\n",
      "3         HR        David  58000.0           3    NaN\n",
      "4         IT         Neha  79000.0           4   East\n",
      "5    Finance        Frank      NaN           9   West\n",
      "6         HR        Grace  62000.0           2   East\n",
      "7         IT        Helen  73000.0           6   East\n",
      "8    Finance          Ian  88000.0           8   West\n",
      "9    Finance  Shamlodhiya  56000.0           2   West\n",
      "##################\n",
      "Department\n",
      "Finance    4\n",
      "HR         3\n",
      "IT         3\n",
      "dtype: int64\n"
     ]
    }
   ],
   "source": [
    "# Group by Department: Tell me how many employees are for each department\n",
    "print(\"Original Data:\\n\", df)\n",
    "print(\"##################\")\n",
    "grouped = df.groupby(['Department',]).size() # size() total rows in each group: Includes NaN values\n",
    "print(grouped)"
   ]
  },
  {
   "cell_type": "code",
   "execution_count": 6,
   "id": "eb7c5874-2fd3-4f22-b6b7-426e9bb26394",
   "metadata": {},
   "outputs": [
    {
     "name": "stdout",
     "output_type": "stream",
     "text": [
      "Original Data:\n",
      "   Department     Employee   Salary  Experience Region\n",
      "0         HR        Rahim  60000.0           2   East\n",
      "1         IT      Vanessa  75000.0           5   West\n",
      "2    Finance         Cory  82000.0           7   East\n",
      "3         HR        David  58000.0           3    NaN\n",
      "4         IT         Neha  79000.0           4   East\n",
      "5    Finance        Frank      NaN           9   West\n",
      "6         HR        Grace  62000.0           2   East\n",
      "7         IT        Helen  73000.0           6   East\n",
      "8    Finance          Ian  88000.0           8   West\n",
      "9    Finance  Shamlodhiya  56000.0           2   West\n",
      "##################\n",
      "            Employee  Salary  Experience  Region\n",
      "Department                                      \n",
      "Finance            4       3           4       4\n",
      "HR                 3       3           3       2\n",
      "IT                 3       3           3       3\n"
     ]
    }
   ],
   "source": [
    "# Now give me total count of non-null in each group\n",
    "print(\"Original Data:\\n\", df)\n",
    "print(\"##################\")\n",
    "grouped = df.groupby(['Department',]).count() \n",
    "print(grouped)"
   ]
  },
  {
   "cell_type": "code",
   "execution_count": 8,
   "id": "14fdfaf3-c01f-4785-b48f-0de32522669f",
   "metadata": {},
   "outputs": [
    {
     "name": "stdout",
     "output_type": "stream",
     "text": [
      "Original Data:\n",
      "   Department     Employee   Salary  Experience Region\n",
      "0         HR        Rahim  60000.0           2   East\n",
      "1         IT      Vanessa  75000.0           5   West\n",
      "2    Finance         Cory  82000.0           7   East\n",
      "3         HR        David  58000.0           3    NaN\n",
      "4         IT         Neha  79000.0           4   East\n",
      "5    Finance        Frank      NaN           9   West\n",
      "6         HR        Grace  62000.0           2   East\n",
      "7         IT        Helen  73000.0           6   East\n",
      "8    Finance          Ian  88000.0           8   West\n",
      "9    Finance  Shamlodhiya  56000.0           2   West\n",
      "##################\n",
      "Region\n",
      "East    5\n",
      "West    4\n",
      "dtype: int64\n"
     ]
    }
   ],
   "source": [
    "# Group by Region and give me size\n",
    "print(\"Original Data:\\n\", df)\n",
    "print(\"##################\")\n",
    "grouped = df.groupby(['Region',]).size()\n",
    "print(grouped)"
   ]
  },
  {
   "cell_type": "code",
   "execution_count": 9,
   "id": "d0299fd5-85d1-4321-8412-fd42b82735d9",
   "metadata": {},
   "outputs": [
    {
     "name": "stdout",
     "output_type": "stream",
     "text": [
      "Original Data:\n",
      "   Department     Employee   Salary  Experience Region\n",
      "0         HR        Rahim  60000.0           2   East\n",
      "1         IT      Vanessa  75000.0           5   West\n",
      "2    Finance         Cory  82000.0           7   East\n",
      "3         HR        David  58000.0           3    NaN\n",
      "4         IT         Neha  79000.0           4   East\n",
      "5    Finance        Frank      NaN           9   West\n",
      "6         HR        Grace  62000.0           2   East\n",
      "7         IT        Helen  73000.0           6   East\n",
      "8    Finance          Ian  88000.0           8   West\n",
      "9    Finance  Shamlodhiya  56000.0           2   West\n",
      "##################\n",
      "Department  Region\n",
      "Finance     East      1\n",
      "            West      3\n",
      "HR          East      2\n",
      "IT          East      2\n",
      "            West      1\n",
      "dtype: int64\n"
     ]
    }
   ],
   "source": [
    "# Group by Department and Region and give me size of each\n",
    "print(\"Original Data:\\n\", df)\n",
    "print(\"##################\")\n",
    "grouped = df.groupby(['Department', 'Region']).size()\n",
    "print(grouped)"
   ]
  },
  {
   "cell_type": "code",
   "execution_count": 10,
   "id": "e3ddaba2-acbe-43e0-951e-7a7302a78c88",
   "metadata": {},
   "outputs": [
    {
     "name": "stdout",
     "output_type": "stream",
     "text": [
      "Original Data:\n",
      "   Department     Employee   Salary  Experience Region\n",
      "0         HR        Rahim  60000.0           2   East\n",
      "1         IT      Vanessa  75000.0           5   West\n",
      "2    Finance         Cory  82000.0           7   East\n",
      "3         HR        David  58000.0           3    NaN\n",
      "4         IT         Neha  79000.0           4   East\n",
      "5    Finance        Frank      NaN           9   West\n",
      "6         HR        Grace  62000.0           2   East\n",
      "7         IT        Helen  73000.0           6   East\n",
      "8    Finance          Ian  88000.0           8   West\n",
      "9    Finance  Shamlodhiya  56000.0           2   West\n",
      "##################\n",
      "Department\n",
      "Finance    226000.0\n",
      "HR         180000.0\n",
      "IT         227000.0\n",
      "Name: Salary, dtype: float64\n"
     ]
    }
   ],
   "source": [
    "# group by dept and calculate sum of all salaries awarded to employees in each dept\n",
    "print(\"Original Data:\\n\", df)\n",
    "print(\"##################\")\n",
    "grouped = df.groupby(['Department'])['Salary'].sum()\n",
    "print(grouped)"
   ]
  },
  {
   "cell_type": "code",
   "execution_count": 11,
   "id": "d8b16255-c5a4-40e7-9abe-457f7c85ef10",
   "metadata": {},
   "outputs": [
    {
     "name": "stdout",
     "output_type": "stream",
     "text": [
      "Original Data:\n",
      "   Department     Employee   Salary  Experience Region\n",
      "0         HR        Rahim  60000.0           2   East\n",
      "1         IT      Vanessa  75000.0           5   West\n",
      "2    Finance         Cory  82000.0           7   East\n",
      "3         HR        David  58000.0           3    NaN\n",
      "4         IT         Neha  79000.0           4   East\n",
      "5    Finance        Frank      NaN           9   West\n",
      "6         HR        Grace  62000.0           2   East\n",
      "7         IT        Helen  73000.0           6   East\n",
      "8    Finance          Ian  88000.0           8   West\n",
      "9    Finance  Shamlodhiya  56000.0           2   West\n",
      "##################\n",
      "Department\n",
      "Finance    75333.333333\n",
      "HR         60000.000000\n",
      "IT         75666.666667\n",
      "Name: Salary, dtype: float64\n"
     ]
    }
   ],
   "source": [
    "# Group by department and calculate mean salary for each dept\n",
    "print(\"Original Data:\\n\", df)\n",
    "print(\"##################\")\n",
    "grouped = df.groupby('Department')['Salary'].mean()\n",
    "print(grouped)"
   ]
  },
  {
   "cell_type": "code",
   "execution_count": 12,
   "id": "fc6f782b-71c3-4111-9834-73b4f8c791f2",
   "metadata": {},
   "outputs": [
    {
     "name": "stdout",
     "output_type": "stream",
     "text": [
      "Original Data:\n",
      "   Department     Employee   Salary  Experience Region\n",
      "0         HR        Rahim  60000.0           2   East\n",
      "1         IT      Vanessa  75000.0           5   West\n",
      "2    Finance         Cory  82000.0           7   East\n",
      "3         HR        David  58000.0           3    NaN\n",
      "4         IT         Neha  79000.0           4   East\n",
      "5    Finance        Frank      NaN           9   West\n",
      "6         HR        Grace  62000.0           2   East\n",
      "7         IT        Helen  73000.0           6   East\n",
      "8    Finance          Ian  88000.0           8   West\n",
      "9    Finance  Shamlodhiya  56000.0           2   West\n",
      "##################\n",
      "Department  Region\n",
      "Finance     East      82000.0\n",
      "            West      72000.0\n",
      "HR          East      61000.0\n",
      "IT          East      76000.0\n",
      "            West      75000.0\n",
      "Name: Salary, dtype: float64\n"
     ]
    }
   ],
   "source": [
    "# Group by multiple columns and give me the mean of salary\n",
    "print(\"Original Data:\\n\", df)\n",
    "print(\"##################\")\n",
    "# groupby by Department and Region and calculate mean salary for each department and region\n",
    "grouped = df.groupby(['Department', 'Region'])['Salary'].mean()\n",
    "print(grouped)"
   ]
  },
  {
   "cell_type": "code",
   "execution_count": 14,
   "id": "4bfaf464-478a-46fd-b87e-50ee99206957",
   "metadata": {},
   "outputs": [
    {
     "name": "stdout",
     "output_type": "stream",
     "text": [
      "Original Data:\n",
      "   Department     Employee   Salary  Experience Region\n",
      "0         HR        Rahim  60000.0           2   East\n",
      "1         IT      Vanessa  75000.0           5   West\n",
      "2    Finance         Cory  82000.0           7   East\n",
      "3         HR        David  58000.0           3    NaN\n",
      "4         IT         Neha  79000.0           4   East\n",
      "5    Finance        Frank      NaN           9   West\n",
      "6         HR        Grace  62000.0           2   East\n",
      "7         IT        Helen  73000.0           6   East\n",
      "8    Finance          Ian  88000.0           8   West\n",
      "9    Finance  Shamlodhiya  56000.0           2   West\n",
      "##################\n",
      "                  Salary                             Experience      \n",
      "                    mean      max      min       sum       mean count\n",
      "Department                                                           \n",
      "Finance     75333.333333  88000.0  56000.0  226000.0   6.500000     4\n",
      "HR          60000.000000  62000.0  58000.0  180000.0   2.333333     3\n",
      "IT          75666.666667  79000.0  73000.0  227000.0   5.000000     3\n"
     ]
    }
   ],
   "source": [
    "#### Aggregation: Group by department and get multiple stats like mean, max, min, etc\n",
    "print(\"Original Data:\\n\", df)\n",
    "print(\"##################\")\n",
    "multi_stats = df.groupby('Department').agg({\n",
    "    'Salary': ['mean', 'max', 'min', 'sum'],\n",
    "    'Experience': ['mean', 'count']\n",
    "})\n",
    "print(multi_stats)"
   ]
  },
  {
   "cell_type": "code",
   "execution_count": 15,
   "id": "1897568e-3e5d-4ada-b553-3064a914eee3",
   "metadata": {},
   "outputs": [
    {
     "name": "stdout",
     "output_type": "stream",
     "text": [
      "\n",
      "Department: Finance\n",
      "  Department     Employee   Salary  Experience Region\n",
      "2    Finance         Cory  82000.0           7   East\n",
      "5    Finance        Frank      NaN           9   West\n",
      "8    Finance          Ian  88000.0           8   West\n",
      "9    Finance  Shamlodhiya  56000.0           2   West\n",
      "\n",
      "Department: HR\n",
      "  Department Employee   Salary  Experience Region\n",
      "0         HR    Rahim  60000.0           2   East\n",
      "3         HR    David  58000.0           3    NaN\n",
      "6         HR    Grace  62000.0           2   East\n",
      "\n",
      "Department: IT\n",
      "  Department Employee   Salary  Experience Region\n",
      "1         IT  Vanessa  75000.0           5   West\n",
      "4         IT     Neha  79000.0           4   East\n",
      "7         IT    Helen  73000.0           6   East\n"
     ]
    }
   ],
   "source": [
    "# ADVANCED: (OPTIONAL)You can also iterate over groups\n",
    "grouped = df.groupby('Department')\n",
    "for name, group in grouped:\n",
    "    print(f\"\\nDepartment: {name}\")\n",
    "    print(group)"
   ]
  },
  {
   "cell_type": "code",
   "execution_count": null,
   "id": "0dbeeb62-3735-4015-913b-70442a28e6fe",
   "metadata": {},
   "outputs": [],
   "source": []
  }
 ],
 "metadata": {
  "kernelspec": {
   "display_name": "Python 3 (ipykernel)",
   "language": "python",
   "name": "python3"
  },
  "language_info": {
   "codemirror_mode": {
    "name": "ipython",
    "version": 3
   },
   "file_extension": ".py",
   "mimetype": "text/x-python",
   "name": "python",
   "nbconvert_exporter": "python",
   "pygments_lexer": "ipython3",
   "version": "3.9.9"
  }
 },
 "nbformat": 4,
 "nbformat_minor": 5
}
